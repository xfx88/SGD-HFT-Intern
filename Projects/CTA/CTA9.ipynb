{
 "cells": [
  {
   "cell_type": "markdown",
   "metadata": {},
   "source": [
    "## **Python for Quantitative Trading: Futures**\n",
    "### **Integrated CTA Strategies Episode 9 - Rolling Optimization**"
   ]
  },
  {
   "cell_type": "code",
   "execution_count": 1,
   "metadata": {},
   "outputs": [
    {
     "name": "stderr",
     "output_type": "stream",
     "text": [
      "c:\\Anaconda\\lib\\site-packages\\statsmodels\\tsa\\base\\tsa_model.py:7: FutureWarning: pandas.Int64Index is deprecated and will be removed from pandas in a future version. Use pandas.Index with the appropriate dtype instead.\n",
      "  from pandas import (to_datetime, Int64Index, DatetimeIndex, Period,\n",
      "c:\\Anaconda\\lib\\site-packages\\statsmodels\\tsa\\base\\tsa_model.py:7: FutureWarning: pandas.Float64Index is deprecated and will be removed from pandas in a future version. Use pandas.Index with the appropriate dtype instead.\n",
      "  from pandas import (to_datetime, Int64Index, DatetimeIndex, Period,\n"
     ]
    }
   ],
   "source": [
    "import numpy as np\n",
    "import pandas as pd\n",
    "import math\n",
    "import gzip\n",
    "import _pickle as cPickle\n",
    "import matplotlib.pyplot as plt\n",
    "import seaborn as sns\n",
    "import statsmodels.api as sm\n",
    "from datetime import datetime\n",
    "\n",
    "import os\n",
    "from helper import *\n",
    "from stats import *\n",
    "from product_info import *\n",
    "import helper\n",
    "import stats\n",
    "import dask\n",
    "from dask import compute, delayed\n",
    "\n",
    "\n",
    "plt.rcParams['font.family'] = ['sans-serif']\n",
    "plt.rcParams['font.sans-serif'] = ['SimHei'] # 用来正常显示中文标签`\n",
    "plt.rcParams['axes.unicode_minus'] = False\n",
    "\n",
    "%config InlineBackend.figure_format = 'svg' #在notebook中可以更好的显示，svg输出是一种向量化格式，缩放网页并不会导致图片失真。这行代码似乎只用在ipynb文件中才能使用。\n",
    "\n",
    "%matplotlib inline \n",
    "\n",
    "import warnings\n",
    "warnings.filterwarnings('ignore')  # 忽略一些warnings\n",
    "\n",
    "# This allows multiple outputs from a single jupyter notebook cell:\n",
    "# from IPython.core.interactiveshell import InteractiveShell\n",
    "# InteractiveShell.ast_node_interactivity = \"all\"\n",
    "\n",
    "pd.set_option('expand_frame_repr', False)  \n",
    "pd.set_option(\"display.max_rows\", 500) \n",
    "pd.set_option('display.max_columns', None) #防止column太多中间变成省略号\n"
   ]
  },
  {
   "cell_type": "code",
   "execution_count": 2,
   "metadata": {},
   "outputs": [
    {
     "data": {
      "text/plain": [
       "<module 'stats' from 'e:\\\\My_Strategies_CTA\\\\stats.py'>"
      ]
     },
     "execution_count": 2,
     "metadata": {},
     "output_type": "execute_result"
    }
   ],
   "source": [
    "from imp import reload  \n",
    "reload(helper)\n",
    "reload(stats)"
   ]
  },
  {
   "cell_type": "code",
   "execution_count": 3,
   "metadata": {},
   "outputs": [
    {
     "data": {
      "text/plain": [
       "16"
      ]
     },
     "execution_count": 3,
     "metadata": {},
     "output_type": "execute_result"
    }
   ],
   "source": [
    "HEAD_PATH = r\"E:\\My_Strategies_CTA\" \n",
    "DATA_PATH = HEAD_PATH + \"\\\\pkl_tick\" \n",
    "NIGHT_PATH = HEAD_PATH + \"\\\\night_pkl_tick\\\\\"\n",
    "SAVE_PATH = r\"E:\\My_Strategies_CTA\"  #保存计算的因子数据的地方\n",
    "SIGNAL_PATH = r\"E:\\My_Strategies_CTA\" \n",
    "CORE_NUM = int(os.environ['NUMBER_OF_PROCESSORS'])\n",
    "CORE_NUM"
   ]
  },
  {
   "cell_type": "code",
   "execution_count": 4,
   "metadata": {},
   "outputs": [
    {
     "name": "stdout",
     "output_type": "stream",
     "text": [
      "rb\n",
      "1063 ['20170103.pkl', '20170104.pkl', '20170105.pkl', '20170106.pkl', '20170109.pkl', '20170110.pkl']\n"
     ]
    }
   ],
   "source": [
    "product_list = [\"rb\", \"hc\", \"i\", \"j\", \"jm\"]\n",
    "product = product_list[0] #随便取一个商品期货，可以更改\n",
    "print(product)\n",
    "all_dates = os.listdir(DATA_PATH + \"\\\\\" + product)\n",
    "all_dates.sort()\n",
    "n_days = len(all_dates)\n",
    "print(len(all_dates), all_dates[:6])"
   ]
  },
  {
   "cell_type": "code",
   "execution_count": 5,
   "metadata": {},
   "outputs": [],
   "source": [
    "period = 4096\n",
    "\n",
    "# train and test\n",
    "train_sample = np.array(all_dates) < \"2019\"\n",
    "test_sample = np.array(all_dates) > \"2019\"\n",
    "\n",
    "# 记录时间的字符串和时间格式\n",
    "date_str = [n[0:8] for n in all_dates]\n",
    "format_dates = np.array([pd.to_datetime(d) for d in date_str])\n"
   ]
  },
  {
   "cell_type": "code",
   "execution_count": 6,
   "metadata": {},
   "outputs": [],
   "source": [
    "os.makedirs(HEAD_PATH+\"\\\\all_signals\", exist_ok=True)\n",
    "dire_signal_list = [\"trade.imb\", \"total.trade.imb\", \"nr\", \"dbook\", \"range.pos\", \"price.osci\", \"ma.dif.10\", \"kdj.k\", \"kdj.j\"]\n",
    "range_signal_list = [\"\", \"range\", \"std\", \"volume.open.ratio\", \"trend.index\"]\n",
    "all_signal_list = np.array([])\n",
    "for range_signal in range_signal_list:\n",
    "    for dire_signal in dire_signal_list:\n",
    "        if len(range_signal)==0:\n",
    "            signal_name = dire_signal\n",
    "        else:\n",
    "            signal_name = dire_signal+\".\"+range_signal\n",
    "        all_signal_list = np.append(all_signal_list,signal_name)\n",
    "n_signal = len(all_signal_list)\n",
    "signal_list = [signal+\".4096\" for signal in all_signal_list]"
   ]
  },
  {
   "cell_type": "code",
   "execution_count": 7,
   "metadata": {},
   "outputs": [],
   "source": [
    "import sklearn.preprocessing\n",
    "from sklearn import linear_model\n",
    "from sklearn.model_selection import cross_val_score\n",
    "from sklearn.linear_model import lasso_path, LassoCV\n",
    "from sklearn.preprocessing import StandardScaler\n",
    "y_signal = \"ret.\"+str(period)+\".002\"\n"
   ]
  },
  {
   "cell_type": "code",
   "execution_count": 8,
   "metadata": {},
   "outputs": [],
   "source": [
    "ori_mat = load(HEAD_PATH+\"\\\\train_test_mat\\\\\"+product+\".train.mat.pkl\")\n",
    "signal_names = ori_mat.columns[0:-3]\n",
    "signal_names\n",
    "col_names = ori_mat.columns"
   ]
  },
  {
   "cell_type": "code",
   "execution_count": 9,
   "metadata": {},
   "outputs": [
    {
     "data": {
      "text/plain": [
       "(4809, 45)"
      ]
     },
     "execution_count": 9,
     "metadata": {},
     "output_type": "execute_result"
    }
   ],
   "source": [
    "train_mat = load(HEAD_PATH+\"\\\\train_test_mat\\\\\"+product+\".train.mat.pkl\")\n",
    "train_mat = train_mat[signal_names]\n",
    "#train_mat = pd.DataFrame(data=sklearn.preprocessing.scale(train_mat, with_mean=False), columns=signal_names)\n",
    "train_mat.shape"
   ]
  },
  {
   "cell_type": "code",
   "execution_count": 10,
   "metadata": {},
   "outputs": [
    {
     "name": "stdout",
     "output_type": "stream",
     "text": [
      "rb (4809, 48)\n",
      "hc (4208, 48)\n",
      "j (3639, 48)\n",
      "jm (3403, 48)\n"
     ]
    }
   ],
   "source": [
    "train_mat = load(HEAD_PATH+\"\\\\train_test_mat\\\\\"+product+\".train.mat.pkl\")\n",
    "train_mat = pd.DataFrame(data=sklearn.preprocessing.scale(train_mat, with_mean=False), columns=col_names)\n",
    "print(product_list[0], train_mat.shape)\n",
    "for product in [\"hc\",\"j\",\"jm\"]:\n",
    "    cur_mat = load(HEAD_PATH+\"\\\\train_test_mat\\\\\"+product+\".train.mat.pkl\")\n",
    "    cur_mat = pd.DataFrame(data=sklearn.preprocessing.scale(cur_mat, with_mean=False), columns=col_names)\n",
    "    print(product, cur_mat.shape)\n",
    "    train_mat = train_mat.append(cur_mat)"
   ]
  },
  {
   "cell_type": "code",
   "execution_count": 11,
   "metadata": {},
   "outputs": [],
   "source": [
    "train_std_mat = dict([])\n",
    "for product in product_list:\n",
    "    cur_mat = load(HEAD_PATH+\"\\\\train_test_mat\\\\\"+product+\".train.mat.pkl\")\n",
    "    train_std_mat[product] = np.std(cur_mat)"
   ]
  },
  {
   "cell_type": "code",
   "execution_count": 12,
   "metadata": {},
   "outputs": [
    {
     "name": "stdout",
     "output_type": "stream",
     "text": [
      "[-0.         -0.          0.01293634 -0.02785023 -0.00103634  0.02294916\n",
      "  0.          0.         -0.         -0.         -0.          0.\n",
      " -0.         -0.00264385  0.          0.          0.         -0.\n",
      " -0.         -0.          0.         -0.         -0.          0.\n",
      "  0.          0.         -0.         -0.         -0.          0.\n",
      " -0.         -0.0360791   0.          0.          0.         -0.\n",
      " -0.00874175 -0.          0.         -0.         -0.          0.00712943\n",
      "  0.          0.         -0.        ]\n"
     ]
    }
   ],
   "source": [
    "x_train = train_mat.iloc[:, :n_signal].values\n",
    "y_train = train_mat.loc[:, y_signal].values\n",
    "scaler =  StandardScaler(copy=True, with_mean=False, with_std=True)\n",
    "scaler.fit(x_train)\n",
    "x_std = np.sqrt(scaler.var_)\n",
    "x_train_normal = scaler.transform(x_train)\n",
    "model = LassoCV(n_alphas=100, fit_intercept=False, cv=5, max_iter=10000).fit(x_train_normal, y_train)\n",
    "fit_coef = model.coef_/x_std\n",
    "print(fit_coef)"
   ]
  },
  {
   "cell_type": "code",
   "execution_count": 13,
   "metadata": {},
   "outputs": [
    {
     "name": "stdout",
     "output_type": "stream",
     "text": [
      "rb\n",
      "trade.imb.4096                           -0.000000\n",
      "total.trade.imb.4096                     -0.000000\n",
      "nr.4096                                   0.002510\n",
      "dbook.4096                               -0.002366\n",
      "range.pos.4096                           -0.000040\n",
      "price.osci.4096                           0.000227\n",
      "ma.dif.10.4096                            0.000000\n",
      "kdj.k.4096                                0.000000\n",
      "kdj.j.4096                               -0.000000\n",
      "trade.imb.range.4096                     -0.000000\n",
      "total.trade.imb.range.4096               -0.000000\n",
      "nr.range.4096                             0.000000\n",
      "dbook.range.4096                         -0.000000\n",
      "range.pos.range.4096                     -0.000003\n",
      "price.osci.range.4096                     0.000000\n",
      "ma.dif.10.range.4096                      0.000000\n",
      "kdj.k.range.4096                          0.000000\n",
      "kdj.j.range.4096                         -0.000000\n",
      "trade.imb.std.4096                       -0.000000\n",
      "total.trade.imb.std.4096                 -0.000000\n",
      "nr.std.4096                               0.000000\n",
      "dbook.std.4096                           -0.000000\n",
      "range.pos.std.4096                       -0.000000\n",
      "price.osci.std.4096                       0.000000\n",
      "ma.dif.10.std.4096                        0.000000\n",
      "kdj.k.std.4096                            0.000000\n",
      "kdj.j.std.4096                           -0.000000\n",
      "trade.imb.volume.open.ratio.4096         -0.000000\n",
      "total.trade.imb.volume.open.ratio.4096   -0.000000\n",
      "nr.volume.open.ratio.4096                 0.000000\n",
      "dbook.volume.open.ratio.4096             -0.000000\n",
      "range.pos.volume.open.ratio.4096         -0.006673\n",
      "price.osci.volume.open.ratio.4096         0.000000\n",
      "ma.dif.10.volume.open.ratio.4096          0.000000\n",
      "kdj.k.volume.open.ratio.4096              0.000000\n",
      "kdj.j.volume.open.ratio.4096             -0.000000\n",
      "trade.imb.trend.index.4096               -0.002200\n",
      "total.trade.imb.trend.index.4096         -0.000000\n",
      "nr.trend.index.4096                       0.000000\n",
      "dbook.trend.index.4096                   -0.000000\n",
      "range.pos.trend.index.4096               -0.000000\n",
      "price.osci.trend.index.4096               0.000114\n",
      "ma.dif.10.trend.index.4096                0.000000\n",
      "kdj.k.trend.index.4096                    0.000000\n",
      "kdj.j.trend.index.4096                   -0.000000\n",
      "dtype: float64\n",
      "hc\n",
      "trade.imb.4096                           -0.000000\n",
      "total.trade.imb.4096                     -0.000000\n",
      "nr.4096                                   0.003521\n",
      "dbook.4096                               -0.003968\n",
      "range.pos.4096                           -0.000041\n",
      "price.osci.4096                           0.000215\n",
      "ma.dif.10.4096                            0.000000\n",
      "kdj.k.4096                                0.000000\n",
      "kdj.j.4096                               -0.000000\n",
      "trade.imb.range.4096                     -0.000000\n",
      "total.trade.imb.range.4096               -0.000000\n",
      "nr.range.4096                             0.000000\n",
      "dbook.range.4096                         -0.000000\n",
      "range.pos.range.4096                     -0.000003\n",
      "price.osci.range.4096                     0.000000\n",
      "ma.dif.10.range.4096                      0.000000\n",
      "kdj.k.range.4096                          0.000000\n",
      "kdj.j.range.4096                         -0.000000\n",
      "trade.imb.std.4096                       -0.000000\n",
      "total.trade.imb.std.4096                 -0.000000\n",
      "nr.std.4096                               0.000000\n",
      "dbook.std.4096                           -0.000000\n",
      "range.pos.std.4096                       -0.000000\n",
      "price.osci.std.4096                       0.000000\n",
      "ma.dif.10.std.4096                        0.000000\n",
      "kdj.k.std.4096                            0.000000\n",
      "kdj.j.std.4096                           -0.000000\n",
      "trade.imb.volume.open.ratio.4096         -0.000000\n",
      "total.trade.imb.volume.open.ratio.4096   -0.000000\n",
      "nr.volume.open.ratio.4096                 0.000000\n",
      "dbook.volume.open.ratio.4096             -0.000000\n",
      "range.pos.volume.open.ratio.4096         -0.008066\n",
      "price.osci.volume.open.ratio.4096         0.000000\n",
      "ma.dif.10.volume.open.ratio.4096          0.000000\n",
      "kdj.k.volume.open.ratio.4096              0.000000\n",
      "kdj.j.volume.open.ratio.4096             -0.000000\n",
      "trade.imb.trend.index.4096               -0.002594\n",
      "total.trade.imb.trend.index.4096         -0.000000\n",
      "nr.trend.index.4096                       0.000000\n",
      "dbook.trend.index.4096                   -0.000000\n",
      "range.pos.trend.index.4096               -0.000000\n",
      "price.osci.trend.index.4096               0.000127\n",
      "ma.dif.10.trend.index.4096                0.000000\n",
      "kdj.k.trend.index.4096                    0.000000\n",
      "kdj.j.trend.index.4096                   -0.000000\n",
      "dtype: float64\n",
      "j\n",
      "trade.imb.4096                           -0.000000\n",
      "total.trade.imb.4096                     -0.000000\n",
      "nr.4096                                   0.005260\n",
      "dbook.4096                               -0.007558\n",
      "range.pos.4096                           -0.000056\n",
      "price.osci.4096                           0.000341\n",
      "ma.dif.10.4096                            0.000000\n",
      "kdj.k.4096                                0.000000\n",
      "kdj.j.4096                               -0.000000\n",
      "trade.imb.range.4096                     -0.000000\n",
      "total.trade.imb.range.4096               -0.000000\n",
      "nr.range.4096                             0.000000\n",
      "dbook.range.4096                         -0.000000\n",
      "range.pos.range.4096                     -0.000005\n",
      "price.osci.range.4096                     0.000000\n",
      "ma.dif.10.range.4096                      0.000000\n",
      "kdj.k.range.4096                          0.000000\n",
      "kdj.j.range.4096                         -0.000000\n",
      "trade.imb.std.4096                       -0.000000\n",
      "total.trade.imb.std.4096                 -0.000000\n",
      "nr.std.4096                               0.000000\n",
      "dbook.std.4096                           -0.000000\n",
      "range.pos.std.4096                       -0.000000\n",
      "price.osci.std.4096                       0.000000\n",
      "ma.dif.10.std.4096                        0.000000\n",
      "kdj.k.std.4096                            0.000000\n",
      "kdj.j.std.4096                           -0.000000\n",
      "trade.imb.volume.open.ratio.4096         -0.000000\n",
      "total.trade.imb.volume.open.ratio.4096   -0.000000\n",
      "nr.volume.open.ratio.4096                 0.000000\n",
      "dbook.volume.open.ratio.4096             -0.000000\n",
      "range.pos.volume.open.ratio.4096         -0.007702\n",
      "price.osci.volume.open.ratio.4096         0.000000\n",
      "ma.dif.10.volume.open.ratio.4096          0.000000\n",
      "kdj.k.volume.open.ratio.4096              0.000000\n",
      "kdj.j.volume.open.ratio.4096             -0.000000\n",
      "trade.imb.trend.index.4096               -0.005302\n",
      "total.trade.imb.trend.index.4096         -0.000000\n",
      "nr.trend.index.4096                       0.000000\n",
      "dbook.trend.index.4096                   -0.000000\n",
      "range.pos.trend.index.4096               -0.000000\n",
      "price.osci.trend.index.4096               0.000184\n",
      "ma.dif.10.trend.index.4096                0.000000\n",
      "kdj.k.trend.index.4096                    0.000000\n",
      "kdj.j.trend.index.4096                   -0.000000\n",
      "dtype: float64\n",
      "jm\n",
      "trade.imb.4096                           -0.000000\n",
      "total.trade.imb.4096                     -0.000000\n",
      "nr.4096                                   0.004959\n",
      "dbook.4096                               -0.005730\n",
      "range.pos.4096                           -0.000058\n",
      "price.osci.4096                           0.000363\n",
      "ma.dif.10.4096                            0.000000\n",
      "kdj.k.4096                                0.000000\n",
      "kdj.j.4096                               -0.000000\n",
      "trade.imb.range.4096                     -0.000000\n",
      "total.trade.imb.range.4096               -0.000000\n",
      "nr.range.4096                             0.000000\n",
      "dbook.range.4096                         -0.000000\n",
      "range.pos.range.4096                     -0.000008\n",
      "price.osci.range.4096                     0.000000\n",
      "ma.dif.10.range.4096                      0.000000\n",
      "kdj.k.range.4096                          0.000000\n",
      "kdj.j.range.4096                         -0.000000\n",
      "trade.imb.std.4096                       -0.000000\n",
      "total.trade.imb.std.4096                 -0.000000\n",
      "nr.std.4096                               0.000000\n",
      "dbook.std.4096                           -0.000000\n",
      "range.pos.std.4096                       -0.000000\n",
      "price.osci.std.4096                       0.000000\n",
      "ma.dif.10.std.4096                        0.000000\n",
      "kdj.k.std.4096                            0.000000\n",
      "kdj.j.std.4096                           -0.000000\n",
      "trade.imb.volume.open.ratio.4096         -0.000000\n",
      "total.trade.imb.volume.open.ratio.4096   -0.000000\n",
      "nr.volume.open.ratio.4096                 0.000000\n",
      "dbook.volume.open.ratio.4096             -0.000000\n",
      "range.pos.volume.open.ratio.4096         -0.008476\n",
      "price.osci.volume.open.ratio.4096         0.000000\n",
      "ma.dif.10.volume.open.ratio.4096          0.000000\n",
      "kdj.k.volume.open.ratio.4096              0.000000\n",
      "kdj.j.volume.open.ratio.4096             -0.000000\n",
      "trade.imb.trend.index.4096               -0.004151\n",
      "total.trade.imb.trend.index.4096         -0.000000\n",
      "nr.trend.index.4096                       0.000000\n",
      "dbook.trend.index.4096                   -0.000000\n",
      "range.pos.trend.index.4096               -0.000000\n",
      "price.osci.trend.index.4096               0.000196\n",
      "ma.dif.10.trend.index.4096                0.000000\n",
      "kdj.k.trend.index.4096                    0.000000\n",
      "kdj.j.trend.index.4096                   -0.000000\n",
      "dtype: float64\n"
     ]
    }
   ],
   "source": [
    "coef_list=dict([])\n",
    "for product in [\"rb\",\"hc\",\"j\",\"jm\"]:\n",
    "    coef = fit_coef*train_std_mat[product][y_signal]/train_std_mat[product][signal_names]\n",
    "    coef_list[product] = coef\n",
    "    print(product)\n",
    "    print(coef)"
   ]
  },
  {
   "cell_type": "code",
   "execution_count": 14,
   "metadata": {},
   "outputs": [],
   "source": [
    "strat = \"overall.lasso.002.\"+str(period)\n",
    "for product in product_list:\n",
    "    os.makedirs(HEAD_PATH+\"\\\\factor_pkl\\\\\"+product+\"\\\\\"+strat, exist_ok=True)"
   ]
  },
  {
   "cell_type": "code",
   "execution_count": 29,
   "metadata": {},
   "outputs": [
    {
     "name": "stdout",
     "output_type": "stream",
     "text": [
      "jm\n",
      "j\n",
      "hc\n",
      "rb\n",
      "Wall time: 2min 10s\n"
     ]
    }
   ],
   "source": [
    "%%time\n",
    "for product in {\"rb\",\"hc\",\"j\",\"jm\"}:\n",
    "    print(product)\n",
    "    coef = coef_list[product]\n",
    "    parLapply(CORE_NUM, all_dates, par_get_daily_pred, \n",
    "              product=product, coef=coef, strat=strat, HEAD_PATH=HEAD_PATH, SAVE_PATH=SAVE_PATH)"
   ]
  },
  {
   "cell_type": "code",
   "execution_count": null,
   "metadata": {},
   "outputs": [
    {
     "name": "stdout",
     "output_type": "stream",
     "text": [
      "Wall time: 17.5 s\n"
     ]
    }
   ],
   "source": [
    "%%time\n",
    "for product in {\"rb\",\"hc\",\"j\",\"jm\"}:\n",
    "        par_get_all_signal(strat, all_dates, product, 4096, SAVE_PATH=SAVE_PATH)"
   ]
  },
  {
   "cell_type": "code",
   "execution_count": null,
   "metadata": {},
   "outputs": [
    {
     "name": "stdout",
     "output_type": "stream",
     "text": [
      "reverse=1\n",
      "reverse=1\n",
      "reverse=1\n",
      "reverse=1\n",
      "Wall time: 3min 38s\n"
     ]
    }
   ],
   "source": [
    "%%time\n",
    "for product in {\"rb\",\"hc\",\"j\",\"jm\"}:\n",
    "    spread = product_info[product][\"spread\"]\n",
    "    evaluate_signal(\"overall.lasso.002\", np.array(all_dates), product, 2, 20, CORE_NUM, HEAD_PATH, SAVE_PATH,\n",
    "                    period=4096, split_str=\"2019\", tranct=1.1e-4, \n",
    "                    max_spread=spread*1.1, tranct_ratio=True, atr_filter=0.01, save_path=\"signal_result_atr\",reverse=1)"
   ]
  },
  {
   "cell_type": "code",
   "execution_count": 27,
   "metadata": {},
   "outputs": [],
   "source": [
    "# we save the result of i lasso.002.4096 to another file overall.lasso.002.4096\n",
    "signal_stat = load(HEAD_PATH+\"\\\\signal_result_atr\\\\\"+\"i\"+\".\"+\"lasso.002.4096\"+\".trend.pkl\")\n",
    "save(signal_stat, HEAD_PATH+\"\\\\signal_result_atr\\\\\"+\"i\"+\".\"+\"overall.lasso.002.4096\"+\".trend.pkl\")"
   ]
  },
  {
   "cell_type": "code",
   "execution_count": 28,
   "metadata": {},
   "outputs": [
    {
     "name": "stdout",
     "output_type": "stream",
     "text": [
      "rb train sharpe  0.15871188774199899 test sharpe  0.326056896848912\n",
      "hc train sharpe  0.38052252598063396 test sharpe  0.004471418524921818\n",
      "i train sharpe  0.719225737312588 test sharpe  -0.8752812864853308\n",
      "j train sharpe  0.4138635275391852 test sharpe  1.010661657729218\n",
      "jm train sharpe  0.5112382790838763 test sharpe  -0.7491906653433114\n",
      "train sharpe:  0.7114556723582379 test sharpe:  -0.3160581734667816\n"
     ]
    },
    {
     "data": {
      "image/svg+xml": "<?xml version=\"1.0\" encoding=\"utf-8\" standalone=\"no\"?>\r\n<!DOCTYPE svg PUBLIC \"-//W3C//DTD SVG 1.1//EN\"\r\n  \"http://www.w3.org/Graphics/SVG/1.1/DTD/svg11.dtd\">\r\n<svg height=\"327.79375pt\" version=\"1.1\" viewBox=\"0 0 620.370092 327.79375\" width=\"620.370092pt\" xmlns=\"http://www.w3.org/2000/svg\" xmlns:xlink=\"http://www.w3.org/1999/xlink\">\r\n <metadata>\r\n  <rdf:RDF xmlns:cc=\"http://creativecommons.org/ns#\" xmlns:dc=\"http://purl.org/dc/elements/1.1/\" xmlns:rdf=\"http://www.w3.org/1999/02/22-rdf-syntax-ns#\">\r\n   <cc:Work>\r\n    <dc:type rdf:resource=\"http://purl.org/dc/dcmitype/StillImage\"/>\r\n    <dc:date>2022-06-08T11:08:01.119406</dc:date>\r\n    <dc:format>image/svg+xml</dc:format>\r\n    <dc:creator>\r\n     <cc:Agent>\r\n      <dc:title>Matplotlib v3.4.3, https://matplotlib.org/</dc:title>\r\n     </cc:Agent>\r\n    </dc:creator>\r\n   </cc:Work>\r\n  </rdf:RDF>\r\n </metadata>\r\n <defs>\r\n  <style type=\"text/css\">*{stroke-linecap:butt;stroke-linejoin:round;}</style>\r\n </defs>\r\n <g id=\"figure_1\">\r\n  <g id=\"patch_1\">\r\n   <path d=\"M 0 327.79375 \r\nL 620.370092 327.79375 \r\nL 620.370092 0 \r\nL 0 0 \r\nz\r\n\" style=\"fill:none;\"/>\r\n  </g>\r\n  <g id=\"axes_1\">\r\n   <g id=\"patch_2\">\r\n    <path d=\"M 51.325 293.34375 \r\nL 609.325 293.34375 \r\nL 609.325 21.54375 \r\nL 51.325 21.54375 \r\nz\r\n\" style=\"fill:#ffffff;\"/>\r\n   </g>\r\n   <g id=\"matplotlib.axis_1\">\r\n    <g id=\"xtick_1\">\r\n     <g id=\"line2d_1\">\r\n      <defs>\r\n       <path d=\"M 0 0 \r\nL 0 3.5 \r\n\" id=\"m42b8670b20\" style=\"stroke:#000000;stroke-width:0.8;\"/>\r\n      </defs>\r\n      <g>\r\n       <use style=\"stroke:#000000;stroke-width:0.8;\" x=\"76.055732\" xlink:href=\"#m42b8670b20\" y=\"293.34375\"/>\r\n      </g>\r\n     </g>\r\n     <g id=\"text_1\">\r\n      <!-- 2017-01 -->\r\n      <g transform=\"translate(58.555732 307.21875)scale(0.1 -0.1)\">\r\n       <defs>\r\n        <path d=\"M 300 250 \r\nQ 325 625 650 925 \r\nQ 975 1225 1475 1862 \r\nQ 1975 2500 2125 2850 \r\nQ 2275 3200 2237 3450 \r\nQ 2200 3700 2000 3862 \r\nQ 1800 4025 1537 4000 \r\nQ 1275 3975 1037 3800 \r\nQ 800 3625 675 3275 \r\nL 200 3350 \r\nQ 400 3925 712 4187 \r\nQ 1025 4450 1450 4475 \r\nQ 1700 4500 1900 4462 \r\nQ 2100 4425 2312 4287 \r\nQ 2525 4150 2662 3875 \r\nQ 2800 3600 2762 3212 \r\nQ 2725 2825 2375 2287 \r\nQ 2025 1750 1025 600 \r\nL 2825 600 \r\nL 2825 150 \r\nL 300 150 \r\nL 300 250 \r\nz\r\n\" id=\"SimHei-32\" transform=\"scale(0.015625)\"/>\r\n        <path d=\"M 225 2537 \r\nQ 250 3200 412 3587 \r\nQ 575 3975 875 4225 \r\nQ 1175 4475 1612 4475 \r\nQ 2050 4475 2375 4112 \r\nQ 2700 3750 2800 3200 \r\nQ 2900 2650 2862 1937 \r\nQ 2825 1225 2612 775 \r\nQ 2400 325 1975 150 \r\nQ 1550 -25 1125 187 \r\nQ 700 400 525 750 \r\nQ 350 1100 275 1487 \r\nQ 200 1875 225 2537 \r\nz\r\nM 750 2687 \r\nQ 675 2000 800 1462 \r\nQ 925 925 1212 700 \r\nQ 1500 475 1800 612 \r\nQ 2100 750 2237 1162 \r\nQ 2375 1575 2375 2062 \r\nQ 2375 2550 2337 2950 \r\nQ 2300 3350 2112 3675 \r\nQ 1925 4000 1612 4012 \r\nQ 1300 4025 1062 3700 \r\nQ 825 3375 750 2687 \r\nz\r\n\" id=\"SimHei-30\" transform=\"scale(0.015625)\"/>\r\n        <path d=\"M 1400 3600 \r\nQ 1075 3275 575 2975 \r\nL 575 3450 \r\nQ 1200 3875 1600 4450 \r\nL 1900 4450 \r\nL 1900 150 \r\nL 1400 150 \r\nL 1400 3600 \r\nz\r\n\" id=\"SimHei-31\" transform=\"scale(0.015625)\"/>\r\n        <path d=\"M 850 150 \r\nQ 1300 2050 2425 3925 \r\nL 275 3925 \r\nL 275 4375 \r\nL 2950 4375 \r\nL 2950 3950 \r\nQ 1775 2050 1400 150 \r\nL 850 150 \r\nz\r\n\" id=\"SimHei-37\" transform=\"scale(0.015625)\"/>\r\n        <path d=\"M 2975 2125 \r\nL 125 2125 \r\nL 125 2525 \r\nL 2975 2525 \r\nL 2975 2125 \r\nz\r\n\" id=\"SimHei-2d\" transform=\"scale(0.015625)\"/>\r\n       </defs>\r\n       <use xlink:href=\"#SimHei-32\"/>\r\n       <use x=\"50\" xlink:href=\"#SimHei-30\"/>\r\n       <use x=\"100\" xlink:href=\"#SimHei-31\"/>\r\n       <use x=\"150\" xlink:href=\"#SimHei-37\"/>\r\n       <use x=\"200\" xlink:href=\"#SimHei-2d\"/>\r\n       <use x=\"250\" xlink:href=\"#SimHei-30\"/>\r\n       <use x=\"300\" xlink:href=\"#SimHei-31\"/>\r\n      </g>\r\n     </g>\r\n    </g>\r\n    <g id=\"xtick_2\">\r\n     <g id=\"line2d_2\">\r\n      <g>\r\n       <use style=\"stroke:#000000;stroke-width:0.8;\" x=\"133.333563\" xlink:href=\"#m42b8670b20\" y=\"293.34375\"/>\r\n      </g>\r\n     </g>\r\n     <g id=\"text_2\">\r\n      <!-- 2017-07 -->\r\n      <g transform=\"translate(115.833563 307.21875)scale(0.1 -0.1)\">\r\n       <use xlink:href=\"#SimHei-32\"/>\r\n       <use x=\"50\" xlink:href=\"#SimHei-30\"/>\r\n       <use x=\"100\" xlink:href=\"#SimHei-31\"/>\r\n       <use x=\"150\" xlink:href=\"#SimHei-37\"/>\r\n       <use x=\"200\" xlink:href=\"#SimHei-2d\"/>\r\n       <use x=\"250\" xlink:href=\"#SimHei-30\"/>\r\n       <use x=\"300\" xlink:href=\"#SimHei-37\"/>\r\n      </g>\r\n     </g>\r\n    </g>\r\n    <g id=\"xtick_3\">\r\n     <g id=\"line2d_3\">\r\n      <g>\r\n       <use style=\"stroke:#000000;stroke-width:0.8;\" x=\"191.560751\" xlink:href=\"#m42b8670b20\" y=\"293.34375\"/>\r\n      </g>\r\n     </g>\r\n     <g id=\"text_3\">\r\n      <!-- 2018-01 -->\r\n      <g transform=\"translate(174.060751 307.21875)scale(0.1 -0.1)\">\r\n       <defs>\r\n        <path d=\"M 175 1375 \r\nQ 175 1675 325 1962 \r\nQ 475 2250 825 2425 \r\nQ 525 2600 425 2812 \r\nQ 325 3025 312 3300 \r\nQ 300 3575 387 3775 \r\nQ 475 3975 650 4150 \r\nQ 825 4325 1037 4387 \r\nQ 1250 4450 1500 4450 \r\nQ 1750 4450 1950 4400 \r\nQ 2150 4350 2375 4187 \r\nQ 2600 4025 2700 3725 \r\nQ 2800 3425 2687 3025 \r\nQ 2575 2625 2100 2400 \r\nQ 2525 2275 2700 2012 \r\nQ 2875 1750 2875 1375 \r\nQ 2875 1000 2762 775 \r\nQ 2650 550 2512 400 \r\nQ 2375 250 2137 162 \r\nQ 1900 75 1537 75 \r\nQ 1175 75 912 162 \r\nQ 650 250 475 425 \r\nQ 300 600 237 837 \r\nQ 175 1075 175 1375 \r\nz\r\nM 687 1400 \r\nQ 675 1100 787 875 \r\nQ 900 650 1200 587 \r\nQ 1500 525 1825 600 \r\nQ 2150 675 2275 950 \r\nQ 2400 1225 2362 1500 \r\nQ 2325 1775 2050 1962 \r\nQ 1775 2150 1450 2125 \r\nQ 1125 2100 912 1900 \r\nQ 700 1700 687 1400 \r\nz\r\nM 775 3350 \r\nQ 775 3100 950 2875 \r\nQ 1125 2650 1500 2650 \r\nQ 1875 2650 2062 2875 \r\nQ 2250 3100 2237 3412 \r\nQ 2225 3725 2012 3875 \r\nQ 1800 4025 1437 4000 \r\nQ 1075 3975 925 3787 \r\nQ 775 3600 775 3350 \r\nz\r\n\" id=\"SimHei-38\" transform=\"scale(0.015625)\"/>\r\n       </defs>\r\n       <use xlink:href=\"#SimHei-32\"/>\r\n       <use x=\"50\" xlink:href=\"#SimHei-30\"/>\r\n       <use x=\"100\" xlink:href=\"#SimHei-31\"/>\r\n       <use x=\"150\" xlink:href=\"#SimHei-38\"/>\r\n       <use x=\"200\" xlink:href=\"#SimHei-2d\"/>\r\n       <use x=\"250\" xlink:href=\"#SimHei-30\"/>\r\n       <use x=\"300\" xlink:href=\"#SimHei-31\"/>\r\n      </g>\r\n     </g>\r\n    </g>\r\n    <g id=\"xtick_4\">\r\n     <g id=\"line2d_4\">\r\n      <g>\r\n       <use style=\"stroke:#000000;stroke-width:0.8;\" x=\"248.838582\" xlink:href=\"#m42b8670b20\" y=\"293.34375\"/>\r\n      </g>\r\n     </g>\r\n     <g id=\"text_4\">\r\n      <!-- 2018-07 -->\r\n      <g transform=\"translate(231.338582 307.21875)scale(0.1 -0.1)\">\r\n       <use xlink:href=\"#SimHei-32\"/>\r\n       <use x=\"50\" xlink:href=\"#SimHei-30\"/>\r\n       <use x=\"100\" xlink:href=\"#SimHei-31\"/>\r\n       <use x=\"150\" xlink:href=\"#SimHei-38\"/>\r\n       <use x=\"200\" xlink:href=\"#SimHei-2d\"/>\r\n       <use x=\"250\" xlink:href=\"#SimHei-30\"/>\r\n       <use x=\"300\" xlink:href=\"#SimHei-37\"/>\r\n      </g>\r\n     </g>\r\n    </g>\r\n    <g id=\"xtick_5\">\r\n     <g id=\"line2d_5\">\r\n      <g>\r\n       <use style=\"stroke:#000000;stroke-width:0.8;\" x=\"307.06577\" xlink:href=\"#m42b8670b20\" y=\"293.34375\"/>\r\n      </g>\r\n     </g>\r\n     <g id=\"text_5\">\r\n      <!-- 2019-01 -->\r\n      <g transform=\"translate(289.56577 307.21875)scale(0.1 -0.1)\">\r\n       <defs>\r\n        <path d=\"M 800 75 \r\nQ 1350 1000 1700 1750 \r\nQ 1075 1650 662 1912 \r\nQ 250 2175 162 2625 \r\nQ 75 3075 175 3437 \r\nQ 275 3800 487 4037 \r\nQ 700 4275 1000 4375 \r\nQ 1300 4475 1537 4475 \r\nQ 1775 4475 2025 4375 \r\nQ 2275 4275 2475 4075 \r\nQ 2675 3875 2750 3662 \r\nQ 2825 3450 2825 3112 \r\nQ 2825 2775 2575 2250 \r\nQ 2325 1725 1350 75 \r\nL 800 75 \r\nz\r\nM 662 2875 \r\nQ 700 2550 937 2337 \r\nQ 1175 2125 1450 2150 \r\nQ 1725 2175 1887 2300 \r\nQ 2050 2425 2200 2725 \r\nQ 2300 3100 2250 3362 \r\nQ 2200 3625 1987 3800 \r\nQ 1775 3975 1525 3975 \r\nQ 1375 4000 1137 3900 \r\nQ 900 3800 762 3500 \r\nQ 625 3200 662 2875 \r\nz\r\n\" id=\"SimHei-39\" transform=\"scale(0.015625)\"/>\r\n       </defs>\r\n       <use xlink:href=\"#SimHei-32\"/>\r\n       <use x=\"50\" xlink:href=\"#SimHei-30\"/>\r\n       <use x=\"100\" xlink:href=\"#SimHei-31\"/>\r\n       <use x=\"150\" xlink:href=\"#SimHei-39\"/>\r\n       <use x=\"200\" xlink:href=\"#SimHei-2d\"/>\r\n       <use x=\"250\" xlink:href=\"#SimHei-30\"/>\r\n       <use x=\"300\" xlink:href=\"#SimHei-31\"/>\r\n      </g>\r\n     </g>\r\n    </g>\r\n    <g id=\"xtick_6\">\r\n     <g id=\"line2d_6\">\r\n      <g>\r\n       <use style=\"stroke:#000000;stroke-width:0.8;\" x=\"364.343601\" xlink:href=\"#m42b8670b20\" y=\"293.34375\"/>\r\n      </g>\r\n     </g>\r\n     <g id=\"text_6\">\r\n      <!-- 2019-07 -->\r\n      <g transform=\"translate(346.843601 307.21875)scale(0.1 -0.1)\">\r\n       <use xlink:href=\"#SimHei-32\"/>\r\n       <use x=\"50\" xlink:href=\"#SimHei-30\"/>\r\n       <use x=\"100\" xlink:href=\"#SimHei-31\"/>\r\n       <use x=\"150\" xlink:href=\"#SimHei-39\"/>\r\n       <use x=\"200\" xlink:href=\"#SimHei-2d\"/>\r\n       <use x=\"250\" xlink:href=\"#SimHei-30\"/>\r\n       <use x=\"300\" xlink:href=\"#SimHei-37\"/>\r\n      </g>\r\n     </g>\r\n    </g>\r\n    <g id=\"xtick_7\">\r\n     <g id=\"line2d_7\">\r\n      <g>\r\n       <use style=\"stroke:#000000;stroke-width:0.8;\" x=\"422.570789\" xlink:href=\"#m42b8670b20\" y=\"293.34375\"/>\r\n      </g>\r\n     </g>\r\n     <g id=\"text_7\">\r\n      <!-- 2020-01 -->\r\n      <g transform=\"translate(405.070789 307.21875)scale(0.1 -0.1)\">\r\n       <use xlink:href=\"#SimHei-32\"/>\r\n       <use x=\"50\" xlink:href=\"#SimHei-30\"/>\r\n       <use x=\"100\" xlink:href=\"#SimHei-32\"/>\r\n       <use x=\"150\" xlink:href=\"#SimHei-30\"/>\r\n       <use x=\"200\" xlink:href=\"#SimHei-2d\"/>\r\n       <use x=\"250\" xlink:href=\"#SimHei-30\"/>\r\n       <use x=\"300\" xlink:href=\"#SimHei-31\"/>\r\n      </g>\r\n     </g>\r\n    </g>\r\n    <g id=\"xtick_8\">\r\n     <g id=\"line2d_8\">\r\n      <g>\r\n       <use style=\"stroke:#000000;stroke-width:0.8;\" x=\"480.165073\" xlink:href=\"#m42b8670b20\" y=\"293.34375\"/>\r\n      </g>\r\n     </g>\r\n     <g id=\"text_8\">\r\n      <!-- 2020-07 -->\r\n      <g transform=\"translate(462.665073 307.21875)scale(0.1 -0.1)\">\r\n       <use xlink:href=\"#SimHei-32\"/>\r\n       <use x=\"50\" xlink:href=\"#SimHei-30\"/>\r\n       <use x=\"100\" xlink:href=\"#SimHei-32\"/>\r\n       <use x=\"150\" xlink:href=\"#SimHei-30\"/>\r\n       <use x=\"200\" xlink:href=\"#SimHei-2d\"/>\r\n       <use x=\"250\" xlink:href=\"#SimHei-30\"/>\r\n       <use x=\"300\" xlink:href=\"#SimHei-37\"/>\r\n      </g>\r\n     </g>\r\n    </g>\r\n    <g id=\"xtick_9\">\r\n     <g id=\"line2d_9\">\r\n      <g>\r\n       <use style=\"stroke:#000000;stroke-width:0.8;\" x=\"538.39226\" xlink:href=\"#m42b8670b20\" y=\"293.34375\"/>\r\n      </g>\r\n     </g>\r\n     <g id=\"text_9\">\r\n      <!-- 2021-01 -->\r\n      <g transform=\"translate(520.89226 307.21875)scale(0.1 -0.1)\">\r\n       <use xlink:href=\"#SimHei-32\"/>\r\n       <use x=\"50\" xlink:href=\"#SimHei-30\"/>\r\n       <use x=\"100\" xlink:href=\"#SimHei-32\"/>\r\n       <use x=\"150\" xlink:href=\"#SimHei-31\"/>\r\n       <use x=\"200\" xlink:href=\"#SimHei-2d\"/>\r\n       <use x=\"250\" xlink:href=\"#SimHei-30\"/>\r\n       <use x=\"300\" xlink:href=\"#SimHei-31\"/>\r\n      </g>\r\n     </g>\r\n    </g>\r\n    <g id=\"xtick_10\">\r\n     <g id=\"line2d_10\">\r\n      <g>\r\n       <use style=\"stroke:#000000;stroke-width:0.8;\" x=\"595.670092\" xlink:href=\"#m42b8670b20\" y=\"293.34375\"/>\r\n      </g>\r\n     </g>\r\n     <g id=\"text_10\">\r\n      <!-- 2021-07 -->\r\n      <g transform=\"translate(578.170092 307.21875)scale(0.1 -0.1)\">\r\n       <use xlink:href=\"#SimHei-32\"/>\r\n       <use x=\"50\" xlink:href=\"#SimHei-30\"/>\r\n       <use x=\"100\" xlink:href=\"#SimHei-32\"/>\r\n       <use x=\"150\" xlink:href=\"#SimHei-31\"/>\r\n       <use x=\"200\" xlink:href=\"#SimHei-2d\"/>\r\n       <use x=\"250\" xlink:href=\"#SimHei-30\"/>\r\n       <use x=\"300\" xlink:href=\"#SimHei-37\"/>\r\n      </g>\r\n     </g>\r\n    </g>\r\n    <g id=\"text_11\">\r\n     <!-- date -->\r\n     <g transform=\"translate(320.325 319.34375)scale(0.1 -0.1)\">\r\n      <defs>\r\n       <path d=\"M 2750 125 \r\nL 2250 125 \r\nL 2250 500 \r\nQ 2100 275 1900 175 \r\nQ 1700 75 1425 75 \r\nQ 925 75 575 437 \r\nQ 225 800 225 1525 \r\nQ 225 2250 575 2625 \r\nQ 925 3000 1425 3000 \r\nQ 1700 3000 1900 2887 \r\nQ 2100 2775 2250 2550 \r\nL 2250 4400 \r\nL 2750 4400 \r\nL 2750 125 \r\nz\r\nM 2250 1525 \r\nQ 2250 2000 2037 2275 \r\nQ 1825 2550 1525 2550 \r\nQ 1150 2550 962 2275 \r\nQ 775 2000 775 1525 \r\nQ 775 1050 962 787 \r\nQ 1150 525 1525 525 \r\nQ 1825 525 2037 787 \r\nQ 2250 1050 2250 1525 \r\nz\r\n\" id=\"SimHei-64\" transform=\"scale(0.015625)\"/>\r\n       <path d=\"M 2875 125 \r\nL 2275 125 \r\nQ 2225 175 2200 262 \r\nQ 2175 350 2175 475 \r\nQ 2000 275 1750 175 \r\nQ 1500 75 1225 75 \r\nQ 825 75 550 275 \r\nQ 275 475 275 850 \r\nQ 275 1225 525 1450 \r\nQ 775 1675 1300 1750 \r\nQ 1650 1800 1912 1875 \r\nQ 2175 1950 2175 2075 \r\nQ 2175 2225 2062 2375 \r\nQ 1950 2525 1575 2525 \r\nQ 1275 2525 1137 2412 \r\nQ 1000 2300 950 2100 \r\nL 400 2100 \r\nQ 450 2500 762 2737 \r\nQ 1075 2975 1575 2975 \r\nQ 2125 2975 2400 2725 \r\nQ 2675 2475 2675 2025 \r\nL 2675 650 \r\nQ 2675 500 2725 375 \r\nQ 2775 250 2875 125 \r\nz\r\nM 2175 1050 \r\nL 2175 1550 \r\nQ 2025 1500 1887 1462 \r\nQ 1750 1425 1425 1375 \r\nQ 1050 1325 937 1200 \r\nQ 825 1075 825 900 \r\nQ 825 750 937 637 \r\nQ 1050 525 1275 525 \r\nQ 1500 525 1762 650 \r\nQ 2025 775 2175 1050 \r\nz\r\n\" id=\"SimHei-61\" transform=\"scale(0.015625)\"/>\r\n       <path d=\"M 2750 200 \r\nQ 2625 150 2462 112 \r\nQ 2300 75 2025 75 \r\nQ 1575 75 1300 325 \r\nQ 1025 575 1025 1025 \r\nL 1025 2525 \r\nL 175 2525 \r\nL 175 2925 \r\nL 1025 2925 \r\nL 1025 3900 \r\nL 1525 3900 \r\nL 1525 2925 \r\nL 2550 2925 \r\nL 2550 2525 \r\nL 1525 2525 \r\nL 1525 1000 \r\nQ 1525 800 1625 662 \r\nQ 1725 525 2000 525 \r\nQ 2275 525 2450 575 \r\nQ 2625 625 2750 700 \r\nL 2750 200 \r\nz\r\n\" id=\"SimHei-74\" transform=\"scale(0.015625)\"/>\r\n       <path d=\"M 2850 1075 \r\nQ 2800 625 2450 350 \r\nQ 2100 75 1625 75 \r\nQ 1025 75 637 462 \r\nQ 250 850 250 1525 \r\nQ 250 2200 637 2587 \r\nQ 1025 2975 1625 2975 \r\nQ 2150 2975 2487 2637 \r\nQ 2825 2300 2825 1525 \r\nL 800 1525 \r\nQ 800 975 1037 750 \r\nQ 1275 525 1625 525 \r\nQ 1900 525 2075 662 \r\nQ 2250 800 2300 1075 \r\nL 2850 1075 \r\nz\r\nM 2250 1925 \r\nQ 2200 2275 2025 2412 \r\nQ 1850 2550 1575 2550 \r\nQ 1325 2550 1125 2412 \r\nQ 925 2275 825 1925 \r\nL 2250 1925 \r\nz\r\n\" id=\"SimHei-65\" transform=\"scale(0.015625)\"/>\r\n      </defs>\r\n      <use xlink:href=\"#SimHei-64\"/>\r\n      <use x=\"50\" xlink:href=\"#SimHei-61\"/>\r\n      <use x=\"100\" xlink:href=\"#SimHei-74\"/>\r\n      <use x=\"150\" xlink:href=\"#SimHei-65\"/>\r\n     </g>\r\n    </g>\r\n   </g>\r\n   <g id=\"matplotlib.axis_2\">\r\n    <g id=\"ytick_1\">\r\n     <g id=\"line2d_11\">\r\n      <defs>\r\n       <path d=\"M 0 0 \r\nL -3.5 0 \r\n\" id=\"m3c8bd4784d\" style=\"stroke:#000000;stroke-width:0.8;\"/>\r\n      </defs>\r\n      <g>\r\n       <use style=\"stroke:#000000;stroke-width:0.8;\" x=\"51.325\" xlink:href=\"#m3c8bd4784d\" y=\"286.940823\"/>\r\n      </g>\r\n     </g>\r\n     <g id=\"text_12\">\r\n      <!-- -0.02 -->\r\n      <g transform=\"translate(19.325 290.378323)scale(0.1 -0.1)\">\r\n       <defs>\r\n        <path d=\"M 1075 125 \r\nL 500 125 \r\nL 500 675 \r\nL 1075 675 \r\nL 1075 125 \r\nz\r\n\" id=\"SimHei-2e\" transform=\"scale(0.015625)\"/>\r\n       </defs>\r\n       <use xlink:href=\"#SimHei-2d\"/>\r\n       <use x=\"50\" xlink:href=\"#SimHei-30\"/>\r\n       <use x=\"100\" xlink:href=\"#SimHei-2e\"/>\r\n       <use x=\"150\" xlink:href=\"#SimHei-30\"/>\r\n       <use x=\"200\" xlink:href=\"#SimHei-32\"/>\r\n      </g>\r\n     </g>\r\n    </g>\r\n    <g id=\"ytick_2\">\r\n     <g id=\"line2d_12\">\r\n      <g>\r\n       <use style=\"stroke:#000000;stroke-width:0.8;\" x=\"51.325\" xlink:href=\"#m3c8bd4784d\" y=\"235.961211\"/>\r\n      </g>\r\n     </g>\r\n     <g id=\"text_13\">\r\n      <!-- 0.00 -->\r\n      <g transform=\"translate(24.325 239.398711)scale(0.1 -0.1)\">\r\n       <use xlink:href=\"#SimHei-30\"/>\r\n       <use x=\"50\" xlink:href=\"#SimHei-2e\"/>\r\n       <use x=\"100\" xlink:href=\"#SimHei-30\"/>\r\n       <use x=\"150\" xlink:href=\"#SimHei-30\"/>\r\n      </g>\r\n     </g>\r\n    </g>\r\n    <g id=\"ytick_3\">\r\n     <g id=\"line2d_13\">\r\n      <g>\r\n       <use style=\"stroke:#000000;stroke-width:0.8;\" x=\"51.325\" xlink:href=\"#m3c8bd4784d\" y=\"184.981599\"/>\r\n      </g>\r\n     </g>\r\n     <g id=\"text_14\">\r\n      <!-- 0.02 -->\r\n      <g transform=\"translate(24.325 188.419099)scale(0.1 -0.1)\">\r\n       <use xlink:href=\"#SimHei-30\"/>\r\n       <use x=\"50\" xlink:href=\"#SimHei-2e\"/>\r\n       <use x=\"100\" xlink:href=\"#SimHei-30\"/>\r\n       <use x=\"150\" xlink:href=\"#SimHei-32\"/>\r\n      </g>\r\n     </g>\r\n    </g>\r\n    <g id=\"ytick_4\">\r\n     <g id=\"line2d_14\">\r\n      <g>\r\n       <use style=\"stroke:#000000;stroke-width:0.8;\" x=\"51.325\" xlink:href=\"#m3c8bd4784d\" y=\"134.001988\"/>\r\n      </g>\r\n     </g>\r\n     <g id=\"text_15\">\r\n      <!-- 0.04 -->\r\n      <g transform=\"translate(24.325 137.439488)scale(0.1 -0.1)\">\r\n       <defs>\r\n        <path d=\"M 2000 1100 \r\nL 75 1100 \r\nL 75 1525 \r\nL 2100 4450 \r\nL 2475 4450 \r\nL 2475 1525 \r\nL 3075 1525 \r\nL 3075 1100 \r\nL 2475 1100 \r\nL 2475 150 \r\nL 2000 150 \r\nL 2000 1100 \r\nz\r\nM 2000 1525 \r\nL 2000 3500 \r\nL 600 1525 \r\nL 2000 1525 \r\nz\r\n\" id=\"SimHei-34\" transform=\"scale(0.015625)\"/>\r\n       </defs>\r\n       <use xlink:href=\"#SimHei-30\"/>\r\n       <use x=\"50\" xlink:href=\"#SimHei-2e\"/>\r\n       <use x=\"100\" xlink:href=\"#SimHei-30\"/>\r\n       <use x=\"150\" xlink:href=\"#SimHei-34\"/>\r\n      </g>\r\n     </g>\r\n    </g>\r\n    <g id=\"ytick_5\">\r\n     <g id=\"line2d_15\">\r\n      <g>\r\n       <use style=\"stroke:#000000;stroke-width:0.8;\" x=\"51.325\" xlink:href=\"#m3c8bd4784d\" y=\"83.022376\"/>\r\n      </g>\r\n     </g>\r\n     <g id=\"text_16\">\r\n      <!-- 0.06 -->\r\n      <g transform=\"translate(24.325 86.459876)scale(0.1 -0.1)\">\r\n       <defs>\r\n        <path d=\"M 250 1612 \r\nQ 275 1975 387 2225 \r\nQ 500 2475 725 2850 \r\nL 1750 4450 \r\nL 2325 4450 \r\nL 1275 2800 \r\nQ 1950 2975 2350 2750 \r\nQ 2750 2525 2887 2237 \r\nQ 3025 1950 3037 1612 \r\nQ 3050 1275 2937 950 \r\nQ 2825 625 2537 362 \r\nQ 2250 100 1737 75 \r\nQ 1225 50 862 262 \r\nQ 500 475 362 862 \r\nQ 225 1250 250 1612 \r\nz\r\nM 1025 787 \r\nQ 1250 550 1625 525 \r\nQ 2000 500 2250 775 \r\nQ 2500 1050 2500 1575 \r\nQ 2500 2100 2187 2300 \r\nQ 1875 2500 1487 2450 \r\nQ 1100 2400 925 2075 \r\nQ 750 1750 775 1387 \r\nQ 800 1025 1025 787 \r\nz\r\n\" id=\"SimHei-36\" transform=\"scale(0.015625)\"/>\r\n       </defs>\r\n       <use xlink:href=\"#SimHei-30\"/>\r\n       <use x=\"50\" xlink:href=\"#SimHei-2e\"/>\r\n       <use x=\"100\" xlink:href=\"#SimHei-30\"/>\r\n       <use x=\"150\" xlink:href=\"#SimHei-36\"/>\r\n      </g>\r\n     </g>\r\n    </g>\r\n    <g id=\"ytick_6\">\r\n     <g id=\"line2d_16\">\r\n      <g>\r\n       <use style=\"stroke:#000000;stroke-width:0.8;\" x=\"51.325\" xlink:href=\"#m3c8bd4784d\" y=\"32.042764\"/>\r\n      </g>\r\n     </g>\r\n     <g id=\"text_17\">\r\n      <!-- 0.08 -->\r\n      <g transform=\"translate(24.325 35.480264)scale(0.1 -0.1)\">\r\n       <use xlink:href=\"#SimHei-30\"/>\r\n       <use x=\"50\" xlink:href=\"#SimHei-2e\"/>\r\n       <use x=\"100\" xlink:href=\"#SimHei-30\"/>\r\n       <use x=\"150\" xlink:href=\"#SimHei-38\"/>\r\n      </g>\r\n     </g>\r\n    </g>\r\n    <g id=\"text_18\">\r\n     <!-- pnl -->\r\n     <g transform=\"translate(14.075 164.94375)rotate(-90)scale(0.1 -0.1)\">\r\n      <defs>\r\n       <path d=\"M 2825 1525 \r\nQ 2825 800 2475 425 \r\nQ 2125 50 1625 50 \r\nQ 1350 50 1150 162 \r\nQ 950 275 800 500 \r\nL 800 -800 \r\nL 300 -800 \r\nL 300 2925 \r\nL 800 2925 \r\nL 800 2550 \r\nQ 950 2775 1150 2875 \r\nQ 1350 2975 1625 2975 \r\nQ 2125 2975 2475 2612 \r\nQ 2825 2250 2825 1525 \r\nz\r\nM 2275 1525 \r\nQ 2275 2000 2087 2262 \r\nQ 1900 2525 1525 2525 \r\nQ 1225 2525 1012 2262 \r\nQ 800 2000 800 1525 \r\nQ 800 1050 1012 775 \r\nQ 1225 500 1525 500 \r\nQ 1900 500 2087 775 \r\nQ 2275 1050 2275 1525 \r\nz\r\n\" id=\"SimHei-70\" transform=\"scale(0.015625)\"/>\r\n       <path d=\"M 2800 125 \r\nL 2300 125 \r\nL 2300 1925 \r\nQ 2300 2225 2150 2400 \r\nQ 2000 2575 1750 2575 \r\nQ 1425 2575 1137 2237 \r\nQ 850 1900 850 1400 \r\nL 850 125 \r\nL 350 125 \r\nL 350 2925 \r\nL 850 2925 \r\nL 850 2400 \r\nQ 1050 2675 1287 2825 \r\nQ 1525 2975 1900 2975 \r\nQ 2350 2975 2575 2725 \r\nQ 2800 2475 2800 2100 \r\nL 2800 125 \r\nz\r\n\" id=\"SimHei-6e\" transform=\"scale(0.015625)\"/>\r\n       <path d=\"M 1825 125 \r\nL 1325 125 \r\nL 1325 4400 \r\nL 1825 4400 \r\nL 1825 125 \r\nz\r\n\" id=\"SimHei-6c\" transform=\"scale(0.015625)\"/>\r\n      </defs>\r\n      <use xlink:href=\"#SimHei-70\"/>\r\n      <use x=\"50\" xlink:href=\"#SimHei-6e\"/>\r\n      <use x=\"100\" xlink:href=\"#SimHei-6c\"/>\r\n     </g>\r\n    </g>\r\n   </g>\r\n   <g id=\"line2d_17\">\r\n    <path clip-path=\"url(#pb846eab66c)\" d=\"M 76.688636 280.989205 \r\nL 77.637993 280.989205 \r\nL 78.587349 275.943407 \r\nL 79.536705 275.943407 \r\nL 79.853157 274.551473 \r\nL 80.802514 264.263164 \r\nL 81.118966 272.334571 \r\nL 81.435418 270.522455 \r\nL 83.017679 270.606634 \r\nL 83.334131 264.979624 \r\nL 83.967035 264.979624 \r\nL 86.498652 232.689881 \r\nL 87.76446 232.689881 \r\nL 88.080912 232.060502 \r\nL 88.397364 235.096377 \r\nL 88.713816 229.231505 \r\nL 89.663173 229.231505 \r\nL 89.979625 238.10614 \r\nL 90.296077 238.10614 \r\nL 90.612529 243.454954 \r\nL 92.511242 243.454954 \r\nL 92.827694 248.821106 \r\nL 93.144146 229.546715 \r\nL 94.093502 229.15862 \r\nL 94.409954 218.587632 \r\nL 95.359311 218.587632 \r\nL 96.308667 217.532195 \r\nL 96.625119 217.490925 \r\nL 96.941571 224.550672 \r\nL 97.574475 224.550672 \r\nL 98.523832 171.562161 \r\nL 99.156736 171.562161 \r\nL 99.473188 170.192032 \r\nL 100.738996 170.192032 \r\nL 101.055449 169.508025 \r\nL 101.371901 168.151098 \r\nL 101.688353 170.257584 \r\nL 102.004805 163.662278 \r\nL 102.954161 167.728213 \r\nL 103.270613 161.612069 \r\nL 103.587065 165.211959 \r\nL 103.903518 165.211959 \r\nL 104.21997 163.150112 \r\nL 105.80223 126.538901 \r\nL 106.118682 137.927926 \r\nL 106.435134 137.927926 \r\nL 107.384491 126.669765 \r\nL 107.700943 142.605453 \r\nL 108.017395 149.764622 \r\nL 108.333847 147.688647 \r\nL 108.650299 136.58323 \r\nL 109.599655 127.933184 \r\nL 109.916108 127.933184 \r\nL 110.23256 128.850588 \r\nL 110.549012 113.911896 \r\nL 110.865464 113.911896 \r\nL 111.81482 115.212053 \r\nL 112.131272 115.212053 \r\nL 112.447724 116.023389 \r\nL 113.080629 116.023389 \r\nL 114.346437 115.225689 \r\nL 114.979341 105.067601 \r\nL 116.561602 105.067601 \r\nL 116.878054 115.025747 \r\nL 117.194506 118.098231 \r\nL 117.510958 118.098231 \r\nL 118.460314 123.830859 \r\nL 118.776767 122.879053 \r\nL 119.093219 122.879053 \r\nL 119.409671 146.825042 \r\nL 120.991931 146.825042 \r\nL 121.308383 144.61844 \r\nL 121.941288 144.61844 \r\nL 123.84 155.859805 \r\nL 124.156452 155.859805 \r\nL 125.105809 156.824689 \r\nL 127.320973 156.824689 \r\nL 127.637426 153.826364 \r\nL 127.953878 152.896858 \r\nL 128.27033 148.597945 \r\nL 131.751303 148.597945 \r\nL 132.067755 143.176468 \r\nL 132.384207 140.352809 \r\nL 134.28292 140.352809 \r\nL 134.599372 141.236154 \r\nL 136.814537 141.236154 \r\nL 137.130989 142.772251 \r\nL 137.447441 142.772251 \r\nL 138.396797 143.379388 \r\nL 138.713249 138.107897 \r\nL 139.029701 138.107897 \r\nL 139.346154 140.726226 \r\nL 139.662606 148.122597 \r\nL 140.611962 147.410567 \r\nL 141.561318 147.410567 \r\nL 141.87777 147.098399 \r\nL 142.827127 129.238637 \r\nL 143.143579 129.238637 \r\nL 143.460031 127.753692 \r\nL 143.776483 129.903515 \r\nL 144.092935 130.185805 \r\nL 145.042291 160.305144 \r\nL 145.358744 160.305144 \r\nL 145.675196 162.680021 \r\nL 145.991648 173.77621 \r\nL 146.3081 172.148609 \r\nL 147.257456 181.365744 \r\nL 147.573908 182.331834 \r\nL 147.89036 174.709213 \r\nL 148.206813 174.589355 \r\nL 148.523265 184.159953 \r\nL 149.472621 184.906201 \r\nL 149.789073 168.735722 \r\nL 150.105525 163.662598 \r\nL 150.421977 164.160092 \r\nL 150.738429 154.592723 \r\nL 151.687786 172.742151 \r\nL 152.004238 168.127205 \r\nL 152.637142 168.127205 \r\nL 152.953594 159.581926 \r\nL 153.90295 156.697242 \r\nL 154.219403 160.055857 \r\nL 154.535855 174.137874 \r\nL 154.852307 173.218095 \r\nL 155.168759 174.21159 \r\nL 156.118115 158.115036 \r\nL 157.383924 158.115036 \r\nL 158.33328 169.00163 \r\nL 159.599088 169.00163 \r\nL 160.548445 170.880505 \r\nL 160.864897 170.880505 \r\nL 161.181349 152.355476 \r\nL 161.497801 153.085497 \r\nL 161.814253 149.382466 \r\nL 164.978774 179.562045 \r\nL 165.295226 179.562045 \r\nL 165.611678 182.970888 \r\nL 165.92813 169.440342 \r\nL 166.244583 161.293601 \r\nL 167.193939 130.788661 \r\nL 167.510391 130.788661 \r\nL 167.826843 130.231344 \r\nL 168.143295 130.231344 \r\nL 168.459747 124.52872 \r\nL 169.409104 123.666188 \r\nL 169.725556 126.18188 \r\nL 170.042008 120.170224 \r\nL 171.624268 120.170224 \r\nL 171.940721 123.828599 \r\nL 172.257173 118.281384 \r\nL 172.573625 118.137156 \r\nL 172.890077 118.659891 \r\nL 174.472337 118.659891 \r\nL 174.788789 117.947959 \r\nL 176.37105 117.984873 \r\nL 176.687502 106.124511 \r\nL 177.003954 106.977446 \r\nL 179.535571 106.977446 \r\nL 180.484927 102.681613 \r\nL 181.750736 102.681613 \r\nL 182.700092 101.255961 \r\nL 183.016544 104.001952 \r\nL 183.332996 104.001952 \r\nL 183.649448 98.313604 \r\nL 183.965901 98.313604 \r\nL 184.915257 97.65468 \r\nL 185.864613 97.65468 \r\nL 186.181065 94.207915 \r\nL 187.130422 103.439377 \r\nL 187.446874 103.439377 \r\nL 187.763326 102.971527 \r\nL 188.079778 123.730435 \r\nL 188.39623 123.730435 \r\nL 189.345586 83.896097 \r\nL 189.978491 83.896097 \r\nL 190.294943 82.913831 \r\nL 192.193655 82.913831 \r\nL 192.510107 81.340766 \r\nL 192.82656 81.340766 \r\nL 193.775916 79.907306 \r\nL 194.40882 79.907306 \r\nL 194.725272 79.728683 \r\nL 195.041724 79.728683 \r\nL 195.991081 85.776935 \r\nL 196.307533 86.101053 \r\nL 196.940437 86.101053 \r\nL 197.256889 83.40794 \r\nL 199.472054 83.40794 \r\nL 200.42141 84.257234 \r\nL 200.737862 88.912112 \r\nL 201.054314 88.912112 \r\nL 201.370766 90.106472 \r\nL 201.687219 87.757161 \r\nL 202.636575 73.380384 \r\nL 205.484644 73.380384 \r\nL 208.332713 74.761317 \r\nL 209.282069 76.030401 \r\nL 209.598521 75.88426 \r\nL 209.914973 84.940048 \r\nL 212.44659 84.940048 \r\nL 212.763042 82.589688 \r\nL 213.712399 91.945731 \r\nL 214.028851 91.945731 \r\nL 214.345303 89.800711 \r\nL 214.661755 89.800711 \r\nL 214.978207 89.279574 \r\nL 215.927563 88.537499 \r\nL 216.244015 88.537499 \r\nL 216.560468 89.339717 \r\nL 216.87692 89.339717 \r\nL 217.193372 86.413367 \r\nL 218.45918 86.413367 \r\nL 218.775632 88.114925 \r\nL 219.092084 87.957832 \r\nL 219.408537 76.899803 \r\nL 220.357893 76.438988 \r\nL 222.573058 76.438988 \r\nL 222.88951 78.699895 \r\nL 223.205962 78.88849 \r\nL 223.838866 78.88849 \r\nL 224.788222 86.636968 \r\nL 225.104674 83.831549 \r\nL 225.421127 82.808288 \r\nL 226.054031 82.808288 \r\nL 227.003387 84.188919 \r\nL 228.269196 84.188919 \r\nL 229.851456 61.709656 \r\nL 230.48436 61.709656 \r\nL 231.433717 60.458683 \r\nL 231.750169 60.261423 \r\nL 232.066621 60.261423 \r\nL 232.383073 60.132577 \r\nL 232.699525 57.292986 \r\nL 233.648881 57.292986 \r\nL 233.965333 63.530744 \r\nL 234.281786 63.893132 \r\nL 234.91469 63.919852 \r\nL 235.864046 69.824116 \r\nL 236.180498 69.544387 \r\nL 236.49695 71.846946 \r\nL 236.813402 70.73422 \r\nL 238.395663 70.73422 \r\nL 238.712115 72.022265 \r\nL 240.294376 72.022265 \r\nL 240.610828 74.278026 \r\nL 241.560184 74.278026 \r\nL 242.50954 72.940751 \r\nL 243.142445 72.940751 \r\nL 243.458897 73.480538 \r\nL 243.775349 73.480538 \r\nL 245.041157 53.339076 \r\nL 245.357609 53.339076 \r\nL 245.674061 54.234043 \r\nL 245.990514 53.106719 \r\nL 248.205678 53.106719 \r\nL 249.155035 45.152317 \r\nL 249.471487 45.152317 \r\nL 249.787939 45.676095 \r\nL 250.104391 45.676095 \r\nL 250.420843 61.998268 \r\nL 251.686651 61.998268 \r\nL 252.003104 70.266783 \r\nL 252.636008 70.266783 \r\nL 253.585364 71.929773 \r\nL 253.901816 69.963105 \r\nL 254.53472 69.963105 \r\nL 254.851173 71.146713 \r\nL 256.433433 71.146713 \r\nL 257.066337 71.029073 \r\nL 258.015694 74.908671 \r\nL 258.332146 74.908671 \r\nL 258.648598 79.053958 \r\nL 258.96505 79.053958 \r\nL 259.281502 85.626981 \r\nL 260.230858 84.02374 \r\nL 260.54731 74.179792 \r\nL 260.863763 75.406153 \r\nL 261.180215 75.406153 \r\nL 261.496667 71.410736 \r\nL 262.446023 52.980681 \r\nL 262.762475 52.980681 \r\nL 263.078927 66.598042 \r\nL 263.395379 66.598042 \r\nL 263.711832 68.719805 \r\nL 264.661188 68.719805 \r\nL 264.97764 84.351609 \r\nL 265.294092 84.351609 \r\nL 265.610544 85.607853 \r\nL 267.509257 85.607853 \r\nL 267.825709 81.917206 \r\nL 269.091517 81.917206 \r\nL 269.407969 69.395414 \r\nL 270.357326 69.395414 \r\nL 271.306682 53.187095 \r\nL 271.623134 53.855684 \r\nL 273.838299 53.755551 \r\nL 274.154751 54.722858 \r\nL 276.369916 54.722858 \r\nL 276.686368 54.959368 \r\nL 282.698958 54.959368 \r\nL 283.01541 54.110864 \r\nL 283.331862 59.222687 \r\nL 285.547027 59.222687 \r\nL 285.863479 54.367022 \r\nL 287.44574 54.367022 \r\nL 287.762192 54.775538 \r\nL 288.078644 50.495634 \r\nL 289.977356 50.495634 \r\nL 290.293808 47.679351 \r\nL 291.876069 47.679351 \r\nL 292.192521 42.055972 \r\nL 293.45833 42.055972 \r\nL 293.774782 42.527394 \r\nL 294.091234 42.325657 \r\nL 294.407686 42.325657 \r\nL 294.724138 39.427689 \r\nL 295.673494 45.214075 \r\nL 296.306399 45.214075 \r\nL 296.622851 47.049236 \r\nL 296.939303 47.049236 \r\nL 297.888659 78.745442 \r\nL 298.205111 81.047179 \r\nL 298.521563 90.603335 \r\nL 298.838015 90.603335 \r\nL 299.154467 86.291249 \r\nL 300.103824 85.654373 \r\nL 300.420276 84.86075 \r\nL 300.736728 84.86075 \r\nL 301.05318 83.278287 \r\nL 304.534153 83.278287 \r\nL 304.850605 75.061619 \r\nL 305.167058 74.534124 \r\nL 305.48351 84.854617 \r\nL 305.799962 84.854617 \r\nL 307.382222 78.94499 \r\nL 307.698674 81.703982 \r\nL 311.179648 81.703982 \r\nL 311.4961 82.769101 \r\nL 314.344169 82.696834 \r\nL 314.660621 81.666512 \r\nL 316.242881 81.583276 \r\nL 316.559333 82.104455 \r\nL 316.875785 80.081267 \r\nL 320.040307 108.27225 \r\nL 320.356759 108.748105 \r\nL 321.306115 108.748105 \r\nL 322.255471 105.413529 \r\nL 322.571923 107.272748 \r\nL 322.888375 107.756916 \r\nL 323.204828 106.360351 \r\nL 323.52128 106.360351 \r\nL 324.470636 106.756578 \r\nL 325.736444 106.756578 \r\nL 326.685801 95.526566 \r\nL 327.002253 95.352345 \r\nL 327.318705 97.346237 \r\nL 327.635157 97.346237 \r\nL 327.951609 100.051992 \r\nL 329.850322 100.051992 \r\nL 330.166774 100.168976 \r\nL 331.432582 100.168976 \r\nL 332.065487 102.851782 \r\nL 332.381939 102.582001 \r\nL 334.597103 102.654778 \r\nL 335.54646 105.832345 \r\nL 335.862912 103.640233 \r\nL 336.495816 103.640233 \r\nL 337.761625 79.580887 \r\nL 338.394529 79.580887 \r\nL 339.027433 85.333836 \r\nL 340.293241 85.333836 \r\nL 340.609693 84.161927 \r\nL 342.508406 84.161927 \r\nL 342.824858 84.033492 \r\nL 343.457762 84.033492 \r\nL 344.407119 86.40642 \r\nL 344.723571 86.40642 \r\nL 346.622284 98.661522 \r\nL 346.938736 103.520171 \r\nL 347.57164 103.618093 \r\nL 349.470352 103.618093 \r\nL 349.786805 96.056276 \r\nL 350.103257 100.083184 \r\nL 351.052613 100.362164 \r\nL 351.369065 99.088251 \r\nL 352.001969 99.088251 \r\nL 352.318421 98.060898 \r\nL 353.900682 98.060898 \r\nL 354.217134 97.944477 \r\nL 354.533586 100.520815 \r\nL 355.482942 104.056194 \r\nL 356.115847 104.056194 \r\nL 356.432299 92.833509 \r\nL 357.698107 92.833509 \r\nL 358.014559 100.103262 \r\nL 358.331011 97.41583 \r\nL 358.647464 98.766348 \r\nL 359.913272 98.766348 \r\nL 360.229724 92.326074 \r\nL 360.546176 103.532119 \r\nL 360.862628 103.532119 \r\nL 361.17908 103.663154 \r\nL 362.128437 99.095517 \r\nL 363.394245 99.095517 \r\nL 364.343601 104.139927 \r\nL 364.976506 105.104932 \r\nL 365.292958 104.272968 \r\nL 365.60941 105.925965 \r\nL 366.558766 105.925965 \r\nL 366.875218 103.66313 \r\nL 367.19167 104.709127 \r\nL 367.508123 104.709127 \r\nL 367.824575 105.515697 \r\nL 368.773931 101.704111 \r\nL 369.090383 101.991515 \r\nL 369.406835 109.121829 \r\nL 369.723287 113.718603 \r\nL 370.039739 113.381779 \r\nL 371.622 113.381779 \r\nL 371.938452 114.820159 \r\nL 373.20426 114.820159 \r\nL 373.520713 114.955176 \r\nL 373.837165 114.955176 \r\nL 374.153617 114.512408 \r\nL 374.470069 133.782507 \r\nL 375.735877 133.782507 \r\nL 376.052329 134.968274 \r\nL 376.368782 134.516053 \r\nL 377.63459 134.516053 \r\nL 377.951042 136.058235 \r\nL 378.900398 136.058235 \r\nL 379.849755 139.476094 \r\nL 380.166207 137.537682 \r\nL 380.482659 137.537682 \r\nL 380.799111 137.735215 \r\nL 381.115563 137.735215 \r\nL 382.064919 128.707845 \r\nL 382.381372 128.845833 \r\nL 382.697824 131.163062 \r\nL 383.014276 131.472561 \r\nL 383.330728 131.472561 \r\nL 384.596536 131.746141 \r\nL 384.912988 130.855627 \r\nL 385.229441 130.445848 \r\nL 385.545893 124.618133 \r\nL 387.444605 124.618133 \r\nL 388.710414 126.441049 \r\nL 389.026866 126.441049 \r\nL 389.343318 122.231936 \r\nL 389.65977 132.117006 \r\nL 389.976222 135.745875 \r\nL 390.925578 128.07845 \r\nL 391.242031 128.881048 \r\nL 393.140743 128.99037 \r\nL 395.67236 141.418825 \r\nL 395.988812 141.932938 \r\nL 396.305264 141.372728 \r\nL 396.621716 141.372728 \r\nL 397.571073 137.020611 \r\nL 397.887525 131.129015 \r\nL 399.786237 131.040635 \r\nL 400.10269 130.811952 \r\nL 401.052046 130.811952 \r\nL 402.001402 127.450731 \r\nL 402.317854 127.450731 \r\nL 402.634306 127.605149 \r\nL 404.216567 127.663266 \r\nL 404.533019 126.125379 \r\nL 405.165923 126.125379 \r\nL 405.482375 126.979951 \r\nL 406.431732 126.979951 \r\nL 406.748184 124.48046 \r\nL 407.064636 122.955907 \r\nL 407.381088 126.342702 \r\nL 408.646896 126.342702 \r\nL 408.963349 127.421653 \r\nL 409.912705 127.421653 \r\nL 410.862061 131.263289 \r\nL 411.178513 133.827785 \r\nL 413.077226 133.827785 \r\nL 413.393678 133.95927 \r\nL 413.71013 133.95927 \r\nL 414.026582 137.883006 \r\nL 414.343034 137.38685 \r\nL 415.292391 137.38685 \r\nL 415.608843 138.176842 \r\nL 415.925295 127.405613 \r\nL 416.241747 129.765988 \r\nL 416.558199 131.154681 \r\nL 417.507555 132.298341 \r\nL 417.824008 130.574527 \r\nL 418.14046 132.270428 \r\nL 418.456912 132.632352 \r\nL 418.773364 132.632352 \r\nL 419.72272 132.114408 \r\nL 421.937885 132.114408 \r\nL 422.254337 131.313125 \r\nL 422.887241 138.154342 \r\nL 424.15305 138.154342 \r\nL 424.469502 135.107662 \r\nL 424.785954 135.107662 \r\nL 425.102406 134.625027 \r\nL 428.899831 134.625027 \r\nL 429.216283 129.673932 \r\nL 429.532735 127.840527 \r\nL 433.013709 139.126439 \r\nL 433.330161 143.768137 \r\nL 434.279517 143.768137 \r\nL 435.228873 146.022015 \r\nL 435.861778 151.936163 \r\nL 436.17823 151.936163 \r\nL 436.494682 150.387095 \r\nL 437.444038 151.685709 \r\nL 437.76049 156.392475 \r\nL 438.076942 156.392475 \r\nL 438.393394 151.268848 \r\nL 438.709847 150.936592 \r\nL 439.659203 156.44302 \r\nL 439.975655 166.358198 \r\nL 440.292107 166.358198 \r\nL 440.608559 168.35349 \r\nL 440.925011 176.608398 \r\nL 441.874368 150.078573 \r\nL 442.19082 160.821919 \r\nL 442.507272 158.84577 \r\nL 442.823724 162.021698 \r\nL 443.140176 161.429226 \r\nL 444.089532 180.829233 \r\nL 444.405985 172.931979 \r\nL 444.722437 172.350918 \r\nL 445.038889 170.881119 \r\nL 445.355341 157.739504 \r\nL 446.304697 156.682297 \r\nL 446.621149 156.57001 \r\nL 446.937601 158.963689 \r\nL 447.254053 156.832102 \r\nL 447.570506 145.650646 \r\nL 448.519862 146.186848 \r\nL 448.836314 139.461955 \r\nL 449.152766 144.871815 \r\nL 449.469218 144.424167 \r\nL 449.78567 144.880587 \r\nL 450.735027 152.302908 \r\nL 451.051479 151.187244 \r\nL 451.367931 167.705982 \r\nL 451.684383 142.014527 \r\nL 452.000835 145.101802 \r\nL 453.266644 146.852315 \r\nL 453.583096 144.445194 \r\nL 454.216 135.875555 \r\nL 455.165356 134.473988 \r\nL 455.481808 139.66968 \r\nL 455.79826 139.66968 \r\nL 456.114712 136.728432 \r\nL 456.431165 143.192342 \r\nL 457.380521 143.192342 \r\nL 458.013425 138.673389 \r\nL 458.329877 146.129477 \r\nL 458.646329 146.129477 \r\nL 459.595686 146.36778 \r\nL 459.912138 149.670853 \r\nL 460.22859 149.670853 \r\nL 460.545042 143.589817 \r\nL 463.076659 142.895066 \r\nL 464.026015 142.895066 \r\nL 464.342467 144.241891 \r\nL 465.291824 144.241891 \r\nL 466.24118 136.139443 \r\nL 466.874084 136.139443 \r\nL 467.190536 135.988711 \r\nL 467.506988 139.758735 \r\nL 468.456345 139.268033 \r\nL 469.722153 139.268033 \r\nL 470.671509 141.168577 \r\nL 470.987961 141.480301 \r\nL 471.304414 141.455168 \r\nL 471.620866 145.904421 \r\nL 471.937318 145.161497 \r\nL 472.886674 164.012016 \r\nL 473.203126 164.455438 \r\nL 473.519578 163.915514 \r\nL 473.83603 168.2527 \r\nL 474.152483 161.048689 \r\nL 475.101839 160.215196 \r\nL 476.367647 160.215196 \r\nL 477.317004 161.620695 \r\nL 477.949908 161.620695 \r\nL 479.532168 160.87369 \r\nL 479.84862 160.87369 \r\nL 480.165073 161.445747 \r\nL 480.481525 160.7222 \r\nL 480.797977 160.7222 \r\nL 481.747333 151.492188 \r\nL 482.380237 151.40174 \r\nL 482.696689 151.629683 \r\nL 483.013142 141.485659 \r\nL 484.27895 141.485659 \r\nL 484.595402 142.235748 \r\nL 484.911854 142.235748 \r\nL 485.228306 151.003139 \r\nL 486.177663 151.072135 \r\nL 486.494115 150.867691 \r\nL 486.810567 152.020639 \r\nL 487.127019 152.020639 \r\nL 487.443471 147.098767 \r\nL 488.392827 145.541112 \r\nL 489.025732 145.541112 \r\nL 489.342184 144.364634 \r\nL 489.658636 144.364634 \r\nL 490.607992 142.632944 \r\nL 490.924444 143.625295 \r\nL 491.557348 143.625295 \r\nL 491.873801 141.078475 \r\nL 492.823157 141.321464 \r\nL 493.139609 144.037824 \r\nL 493.456061 144.396891 \r\nL 493.772513 144.396891 \r\nL 494.088965 145.976359 \r\nL 495.038322 145.167519 \r\nL 495.354774 145.167519 \r\nL 495.671226 146.466002 \r\nL 496.30413 146.466002 \r\nL 497.253486 151.505815 \r\nL 497.569938 150.76156 \r\nL 498.202843 150.76156 \r\nL 498.519295 150.406505 \r\nL 499.468651 154.8626 \r\nL 499.785103 154.8626 \r\nL 500.101555 155.782212 \r\nL 500.418007 152.262419 \r\nL 500.73446 145.849676 \r\nL 501.683816 145.849676 \r\nL 502.000268 143.312585 \r\nL 502.31672 143.538718 \r\nL 502.633172 143.538718 \r\nL 502.949624 143.270022 \r\nL 504.215433 143.265821 \r\nL 504.531885 132.591685 \r\nL 505.164789 132.591685 \r\nL 506.430597 129.123907 \r\nL 506.74705 129.123907 \r\nL 507.063502 128.662668 \r\nL 508.645762 128.662668 \r\nL 508.962214 128.390496 \r\nL 511.810283 104.034533 \r\nL 513.076092 104.034533 \r\nL 513.392544 103.575304 \r\nL 513.708996 103.575304 \r\nL 514.025448 103.711559 \r\nL 514.974804 108.028255 \r\nL 515.291256 108.028255 \r\nL 515.607709 108.389991 \r\nL 515.924161 108.26205 \r\nL 517.506421 108.26205 \r\nL 517.822873 108.534375 \r\nL 518.139325 111.619217 \r\nL 519.405134 111.619217 \r\nL 519.721586 108.255817 \r\nL 520.038038 110.76839 \r\nL 520.670942 110.76839 \r\nL 521.620299 112.612373 \r\nL 522.569655 112.612373 \r\nL 522.886107 112.264822 \r\nL 524.151915 112.264822 \r\nL 524.468368 112.394566 \r\nL 524.78482 112.394566 \r\nL 525.101272 104.607387 \r\nL 526.050628 96.41736 \r\nL 526.999984 96.41736 \r\nL 527.316437 97.282173 \r\nL 528.265793 100.317886 \r\nL 528.582245 99.830622 \r\nL 528.898697 100.76551 \r\nL 529.215149 103.665524 \r\nL 529.531601 104.536526 \r\nL 530.480958 120.2618 \r\nL 530.79741 119.696354 \r\nL 531.113862 126.064047 \r\nL 531.430314 126.064047 \r\nL 531.746766 101.331335 \r\nL 532.696122 100.34832 \r\nL 533.012574 101.044657 \r\nL 533.329027 101.044657 \r\nL 533.645479 99.990564 \r\nL 533.961931 104.344286 \r\nL 534.911287 111.897546 \r\nL 535.227739 93.328376 \r\nL 535.860643 98.422444 \r\nL 536.177096 97.150153 \r\nL 537.126452 90.355949 \r\nL 537.442904 82.057699 \r\nL 537.759356 82.057699 \r\nL 538.075808 77.982312 \r\nL 539.341617 75.241318 \r\nL 539.658069 78.669717 \r\nL 540.290973 78.669717 \r\nL 540.607425 79.881057 \r\nL 541.873233 83.164211 \r\nL 542.189686 84.745793 \r\nL 542.82259 84.745793 \r\nL 543.771946 95.205606 \r\nL 544.088398 95.454747 \r\nL 544.721302 95.481467 \r\nL 545.037754 97.076983 \r\nL 545.987111 98.772901 \r\nL 546.303563 98.900616 \r\nL 546.620015 98.900616 \r\nL 546.936467 101.263204 \r\nL 547.252919 102.080553 \r\nL 548.518728 102.172119 \r\nL 548.83518 109.155351 \r\nL 549.151632 108.394158 \r\nL 549.468084 109.904587 \r\nL 550.41744 109.904587 \r\nL 550.733892 109.313582 \r\nL 551.050345 109.313582 \r\nL 553.581961 91.845657 \r\nL 553.898413 93.097513 \r\nL 554.84777 87.707123 \r\nL 555.164222 87.707123 \r\nL 555.480674 87.537483 \r\nL 555.797126 88.217044 \r\nL 556.113578 101.45337 \r\nL 557.379387 75.602352 \r\nL 557.695839 78.180527 \r\nL 558.012291 50.709012 \r\nL 558.328743 50.709012 \r\nL 559.278099 69.027224 \r\nL 559.594551 56.226855 \r\nL 559.911004 59.62186 \r\nL 560.227456 52.954807 \r\nL 561.493264 52.852029 \r\nL 561.809716 58.26483 \r\nL 562.44262 58.26483 \r\nL 562.759072 60.850198 \r\nL 563.708429 63.616173 \r\nL 564.341333 63.616173 \r\nL 564.657785 64.013802 \r\nL 564.974237 64.013802 \r\nL 565.923594 73.011892 \r\nL 566.240046 73.011892 \r\nL 566.556498 92.858343 \r\nL 566.87295 92.637937 \r\nL 568.45521 92.637937 \r\nL 568.771663 96.479385 \r\nL 569.088115 94.714749 \r\nL 569.404567 94.476043 \r\nL 570.353923 107.93351 \r\nL 571.303279 107.93351 \r\nL 571.619731 109.163233 \r\nL 573.201992 109.309763 \r\nL 573.834896 109.309763 \r\nL 574.784253 111.739871 \r\nL 575.100705 110.125074 \r\nL 575.417157 112.078918 \r\nL 575.733609 108.464967 \r\nL 576.050061 108.750969 \r\nL 577.948774 33.898295 \r\nL 578.265226 47.033687 \r\nL 580.48039 122.244115 \r\nL 581.429747 135.158593 \r\nL 581.746199 107.214565 \r\nL 582.062651 152.10597 \r\nL 582.379103 151.024956 \r\nL 582.695555 151.024956 \r\nL 583.644912 165.221774 \r\nL 583.961364 165.221774 \r\nL 583.961364 165.221774 \r\n\" style=\"fill:none;stroke:#0000ff;stroke-linecap:square;stroke-width:1.5;\"/>\r\n   </g>\r\n   <g id=\"line2d_18\">\r\n    <path clip-path=\"url(#pb846eab66c)\" d=\"M 307.382222 78.94499 \r\nL 307.698674 81.703982 \r\nL 311.179648 81.703982 \r\nL 311.4961 82.769101 \r\nL 314.344169 82.696834 \r\nL 314.660621 81.666512 \r\nL 316.242881 81.583276 \r\nL 316.559333 82.104455 \r\nL 316.875785 80.081267 \r\nL 320.040307 108.27225 \r\nL 320.356759 108.748105 \r\nL 321.306115 108.748105 \r\nL 322.255471 105.413529 \r\nL 322.571923 107.272748 \r\nL 322.888375 107.756916 \r\nL 323.204828 106.360351 \r\nL 323.52128 106.360351 \r\nL 324.470636 106.756578 \r\nL 325.736444 106.756578 \r\nL 326.685801 95.526566 \r\nL 327.002253 95.352345 \r\nL 327.318705 97.346237 \r\nL 327.635157 97.346237 \r\nL 327.951609 100.051992 \r\nL 329.850322 100.051992 \r\nL 330.166774 100.168976 \r\nL 331.432582 100.168976 \r\nL 332.065487 102.851782 \r\nL 332.381939 102.582001 \r\nL 334.597103 102.654778 \r\nL 335.54646 105.832345 \r\nL 335.862912 103.640233 \r\nL 336.495816 103.640233 \r\nL 337.761625 79.580887 \r\nL 338.394529 79.580887 \r\nL 339.027433 85.333836 \r\nL 340.293241 85.333836 \r\nL 340.609693 84.161927 \r\nL 342.508406 84.161927 \r\nL 342.824858 84.033492 \r\nL 343.457762 84.033492 \r\nL 344.407119 86.40642 \r\nL 344.723571 86.40642 \r\nL 346.622284 98.661522 \r\nL 346.938736 103.520171 \r\nL 347.57164 103.618093 \r\nL 349.470352 103.618093 \r\nL 349.786805 96.056276 \r\nL 350.103257 100.083184 \r\nL 351.052613 100.362164 \r\nL 351.369065 99.088251 \r\nL 352.001969 99.088251 \r\nL 352.318421 98.060898 \r\nL 353.900682 98.060898 \r\nL 354.217134 97.944477 \r\nL 354.533586 100.520815 \r\nL 355.482942 104.056194 \r\nL 356.115847 104.056194 \r\nL 356.432299 92.833509 \r\nL 357.698107 92.833509 \r\nL 358.014559 100.103262 \r\nL 358.331011 97.41583 \r\nL 358.647464 98.766348 \r\nL 359.913272 98.766348 \r\nL 360.229724 92.326074 \r\nL 360.546176 103.532119 \r\nL 360.862628 103.532119 \r\nL 361.17908 103.663154 \r\nL 362.128437 99.095517 \r\nL 363.394245 99.095517 \r\nL 364.343601 104.139927 \r\nL 364.976506 105.104932 \r\nL 365.292958 104.272968 \r\nL 365.60941 105.925965 \r\nL 366.558766 105.925965 \r\nL 366.875218 103.66313 \r\nL 367.19167 104.709127 \r\nL 367.508123 104.709127 \r\nL 367.824575 105.515697 \r\nL 368.773931 101.704111 \r\nL 369.090383 101.991515 \r\nL 369.406835 109.121829 \r\nL 369.723287 113.718603 \r\nL 370.039739 113.381779 \r\nL 371.622 113.381779 \r\nL 371.938452 114.820159 \r\nL 373.20426 114.820159 \r\nL 373.520713 114.955176 \r\nL 373.837165 114.955176 \r\nL 374.153617 114.512408 \r\nL 374.470069 133.782507 \r\nL 375.735877 133.782507 \r\nL 376.052329 134.968274 \r\nL 376.368782 134.516053 \r\nL 377.63459 134.516053 \r\nL 377.951042 136.058235 \r\nL 378.900398 136.058235 \r\nL 379.849755 139.476094 \r\nL 380.166207 137.537682 \r\nL 380.482659 137.537682 \r\nL 380.799111 137.735215 \r\nL 381.115563 137.735215 \r\nL 382.064919 128.707845 \r\nL 382.381372 128.845833 \r\nL 382.697824 131.163062 \r\nL 383.014276 131.472561 \r\nL 383.330728 131.472561 \r\nL 384.596536 131.746141 \r\nL 384.912988 130.855627 \r\nL 385.229441 130.445848 \r\nL 385.545893 124.618133 \r\nL 387.444605 124.618133 \r\nL 388.710414 126.441049 \r\nL 389.026866 126.441049 \r\nL 389.343318 122.231936 \r\nL 389.65977 132.117006 \r\nL 389.976222 135.745875 \r\nL 390.925578 128.07845 \r\nL 391.242031 128.881048 \r\nL 393.140743 128.99037 \r\nL 395.67236 141.418825 \r\nL 395.988812 141.932938 \r\nL 396.305264 141.372728 \r\nL 396.621716 141.372728 \r\nL 397.571073 137.020611 \r\nL 397.887525 131.129015 \r\nL 399.786237 131.040635 \r\nL 400.10269 130.811952 \r\nL 401.052046 130.811952 \r\nL 402.001402 127.450731 \r\nL 402.317854 127.450731 \r\nL 402.634306 127.605149 \r\nL 404.216567 127.663266 \r\nL 404.533019 126.125379 \r\nL 405.165923 126.125379 \r\nL 405.482375 126.979951 \r\nL 406.431732 126.979951 \r\nL 406.748184 124.48046 \r\nL 407.064636 122.955907 \r\nL 407.381088 126.342702 \r\nL 408.646896 126.342702 \r\nL 408.963349 127.421653 \r\nL 409.912705 127.421653 \r\nL 410.862061 131.263289 \r\nL 411.178513 133.827785 \r\nL 413.077226 133.827785 \r\nL 413.393678 133.95927 \r\nL 413.71013 133.95927 \r\nL 414.026582 137.883006 \r\nL 414.343034 137.38685 \r\nL 415.292391 137.38685 \r\nL 415.608843 138.176842 \r\nL 415.925295 127.405613 \r\nL 416.241747 129.765988 \r\nL 416.558199 131.154681 \r\nL 417.507555 132.298341 \r\nL 417.824008 130.574527 \r\nL 418.14046 132.270428 \r\nL 418.456912 132.632352 \r\nL 418.773364 132.632352 \r\nL 419.72272 132.114408 \r\nL 421.937885 132.114408 \r\nL 422.254337 131.313125 \r\nL 422.887241 138.154342 \r\nL 424.15305 138.154342 \r\nL 424.469502 135.107662 \r\nL 424.785954 135.107662 \r\nL 425.102406 134.625027 \r\nL 428.899831 134.625027 \r\nL 429.216283 129.673932 \r\nL 429.532735 127.840527 \r\nL 433.013709 139.126439 \r\nL 433.330161 143.768137 \r\nL 434.279517 143.768137 \r\nL 435.228873 146.022015 \r\nL 435.861778 151.936163 \r\nL 436.17823 151.936163 \r\nL 436.494682 150.387095 \r\nL 437.444038 151.685709 \r\nL 437.76049 156.392475 \r\nL 438.076942 156.392475 \r\nL 438.393394 151.268848 \r\nL 438.709847 150.936592 \r\nL 439.659203 156.44302 \r\nL 439.975655 166.358198 \r\nL 440.292107 166.358198 \r\nL 440.608559 168.35349 \r\nL 440.925011 176.608398 \r\nL 441.874368 150.078573 \r\nL 442.19082 160.821919 \r\nL 442.507272 158.84577 \r\nL 442.823724 162.021698 \r\nL 443.140176 161.429226 \r\nL 444.089532 180.829233 \r\nL 444.405985 172.931979 \r\nL 444.722437 172.350918 \r\nL 445.038889 170.881119 \r\nL 445.355341 157.739504 \r\nL 446.304697 156.682297 \r\nL 446.621149 156.57001 \r\nL 446.937601 158.963689 \r\nL 447.254053 156.832102 \r\nL 447.570506 145.650646 \r\nL 448.519862 146.186848 \r\nL 448.836314 139.461955 \r\nL 449.152766 144.871815 \r\nL 449.469218 144.424167 \r\nL 449.78567 144.880587 \r\nL 450.735027 152.302908 \r\nL 451.051479 151.187244 \r\nL 451.367931 167.705982 \r\nL 451.684383 142.014527 \r\nL 452.000835 145.101802 \r\nL 453.266644 146.852315 \r\nL 453.583096 144.445194 \r\nL 454.216 135.875555 \r\nL 455.165356 134.473988 \r\nL 455.481808 139.66968 \r\nL 455.79826 139.66968 \r\nL 456.114712 136.728432 \r\nL 456.431165 143.192342 \r\nL 457.380521 143.192342 \r\nL 458.013425 138.673389 \r\nL 458.329877 146.129477 \r\nL 458.646329 146.129477 \r\nL 459.595686 146.36778 \r\nL 459.912138 149.670853 \r\nL 460.22859 149.670853 \r\nL 460.545042 143.589817 \r\nL 463.076659 142.895066 \r\nL 464.026015 142.895066 \r\nL 464.342467 144.241891 \r\nL 465.291824 144.241891 \r\nL 466.24118 136.139443 \r\nL 466.874084 136.139443 \r\nL 467.190536 135.988711 \r\nL 467.506988 139.758735 \r\nL 468.456345 139.268033 \r\nL 469.722153 139.268033 \r\nL 470.671509 141.168577 \r\nL 470.987961 141.480301 \r\nL 471.304414 141.455168 \r\nL 471.620866 145.904421 \r\nL 471.937318 145.161497 \r\nL 472.886674 164.012016 \r\nL 473.203126 164.455438 \r\nL 473.519578 163.915514 \r\nL 473.83603 168.2527 \r\nL 474.152483 161.048689 \r\nL 475.101839 160.215196 \r\nL 476.367647 160.215196 \r\nL 477.317004 161.620695 \r\nL 477.949908 161.620695 \r\nL 479.532168 160.87369 \r\nL 479.84862 160.87369 \r\nL 480.165073 161.445747 \r\nL 480.481525 160.7222 \r\nL 480.797977 160.7222 \r\nL 481.747333 151.492188 \r\nL 482.380237 151.40174 \r\nL 482.696689 151.629683 \r\nL 483.013142 141.485659 \r\nL 484.27895 141.485659 \r\nL 484.595402 142.235748 \r\nL 484.911854 142.235748 \r\nL 485.228306 151.003139 \r\nL 486.177663 151.072135 \r\nL 486.494115 150.867691 \r\nL 486.810567 152.020639 \r\nL 487.127019 152.020639 \r\nL 487.443471 147.098767 \r\nL 488.392827 145.541112 \r\nL 489.025732 145.541112 \r\nL 489.342184 144.364634 \r\nL 489.658636 144.364634 \r\nL 490.607992 142.632944 \r\nL 490.924444 143.625295 \r\nL 491.557348 143.625295 \r\nL 491.873801 141.078475 \r\nL 492.823157 141.321464 \r\nL 493.139609 144.037824 \r\nL 493.456061 144.396891 \r\nL 493.772513 144.396891 \r\nL 494.088965 145.976359 \r\nL 495.038322 145.167519 \r\nL 495.354774 145.167519 \r\nL 495.671226 146.466002 \r\nL 496.30413 146.466002 \r\nL 497.253486 151.505815 \r\nL 497.569938 150.76156 \r\nL 498.202843 150.76156 \r\nL 498.519295 150.406505 \r\nL 499.468651 154.8626 \r\nL 499.785103 154.8626 \r\nL 500.101555 155.782212 \r\nL 500.418007 152.262419 \r\nL 500.73446 145.849676 \r\nL 501.683816 145.849676 \r\nL 502.000268 143.312585 \r\nL 502.31672 143.538718 \r\nL 502.633172 143.538718 \r\nL 502.949624 143.270022 \r\nL 504.215433 143.265821 \r\nL 504.531885 132.591685 \r\nL 505.164789 132.591685 \r\nL 506.430597 129.123907 \r\nL 506.74705 129.123907 \r\nL 507.063502 128.662668 \r\nL 508.645762 128.662668 \r\nL 508.962214 128.390496 \r\nL 511.810283 104.034533 \r\nL 513.076092 104.034533 \r\nL 513.392544 103.575304 \r\nL 513.708996 103.575304 \r\nL 514.025448 103.711559 \r\nL 514.974804 108.028255 \r\nL 515.291256 108.028255 \r\nL 515.607709 108.389991 \r\nL 515.924161 108.26205 \r\nL 517.506421 108.26205 \r\nL 517.822873 108.534375 \r\nL 518.139325 111.619217 \r\nL 519.405134 111.619217 \r\nL 519.721586 108.255817 \r\nL 520.038038 110.76839 \r\nL 520.670942 110.76839 \r\nL 521.620299 112.612373 \r\nL 522.569655 112.612373 \r\nL 522.886107 112.264822 \r\nL 524.151915 112.264822 \r\nL 524.468368 112.394566 \r\nL 524.78482 112.394566 \r\nL 525.101272 104.607387 \r\nL 526.050628 96.41736 \r\nL 526.999984 96.41736 \r\nL 527.316437 97.282173 \r\nL 528.265793 100.317886 \r\nL 528.582245 99.830622 \r\nL 528.898697 100.76551 \r\nL 529.215149 103.665524 \r\nL 529.531601 104.536526 \r\nL 530.480958 120.2618 \r\nL 530.79741 119.696354 \r\nL 531.113862 126.064047 \r\nL 531.430314 126.064047 \r\nL 531.746766 101.331335 \r\nL 532.696122 100.34832 \r\nL 533.012574 101.044657 \r\nL 533.329027 101.044657 \r\nL 533.645479 99.990564 \r\nL 533.961931 104.344286 \r\nL 534.911287 111.897546 \r\nL 535.227739 93.328376 \r\nL 535.860643 98.422444 \r\nL 536.177096 97.150153 \r\nL 537.126452 90.355949 \r\nL 537.442904 82.057699 \r\nL 537.759356 82.057699 \r\nL 538.075808 77.982312 \r\nL 539.341617 75.241318 \r\nL 539.658069 78.669717 \r\nL 540.290973 78.669717 \r\nL 540.607425 79.881057 \r\nL 541.873233 83.164211 \r\nL 542.189686 84.745793 \r\nL 542.82259 84.745793 \r\nL 543.771946 95.205606 \r\nL 544.088398 95.454747 \r\nL 544.721302 95.481467 \r\nL 545.037754 97.076983 \r\nL 545.987111 98.772901 \r\nL 546.303563 98.900616 \r\nL 546.620015 98.900616 \r\nL 546.936467 101.263204 \r\nL 547.252919 102.080553 \r\nL 548.518728 102.172119 \r\nL 548.83518 109.155351 \r\nL 549.151632 108.394158 \r\nL 549.468084 109.904587 \r\nL 550.41744 109.904587 \r\nL 550.733892 109.313582 \r\nL 551.050345 109.313582 \r\nL 553.581961 91.845657 \r\nL 553.898413 93.097513 \r\nL 554.84777 87.707123 \r\nL 555.164222 87.707123 \r\nL 555.480674 87.537483 \r\nL 555.797126 88.217044 \r\nL 556.113578 101.45337 \r\nL 557.379387 75.602352 \r\nL 557.695839 78.180527 \r\nL 558.012291 50.709012 \r\nL 558.328743 50.709012 \r\nL 559.278099 69.027224 \r\nL 559.594551 56.226855 \r\nL 559.911004 59.62186 \r\nL 560.227456 52.954807 \r\nL 561.493264 52.852029 \r\nL 561.809716 58.26483 \r\nL 562.44262 58.26483 \r\nL 562.759072 60.850198 \r\nL 563.708429 63.616173 \r\nL 564.341333 63.616173 \r\nL 564.657785 64.013802 \r\nL 564.974237 64.013802 \r\nL 565.923594 73.011892 \r\nL 566.240046 73.011892 \r\nL 566.556498 92.858343 \r\nL 566.87295 92.637937 \r\nL 568.45521 92.637937 \r\nL 568.771663 96.479385 \r\nL 569.088115 94.714749 \r\nL 569.404567 94.476043 \r\nL 570.353923 107.93351 \r\nL 571.303279 107.93351 \r\nL 571.619731 109.163233 \r\nL 573.201992 109.309763 \r\nL 573.834896 109.309763 \r\nL 574.784253 111.739871 \r\nL 575.100705 110.125074 \r\nL 575.417157 112.078918 \r\nL 575.733609 108.464967 \r\nL 576.050061 108.750969 \r\nL 577.948774 33.898295 \r\nL 578.265226 47.033687 \r\nL 580.48039 122.244115 \r\nL 581.429747 135.158593 \r\nL 581.746199 107.214565 \r\nL 582.062651 152.10597 \r\nL 582.379103 151.024956 \r\nL 582.695555 151.024956 \r\nL 583.644912 165.221774 \r\nL 583.961364 165.221774 \r\nL 583.961364 165.221774 \r\n\" style=\"fill:none;stroke:#a52a2a;stroke-linecap:square;stroke-width:1.5;\"/>\r\n   </g>\r\n   <g id=\"patch_3\">\r\n    <path d=\"M 51.325 293.34375 \r\nL 51.325 21.54375 \r\n\" style=\"fill:none;stroke:#000000;stroke-linecap:square;stroke-linejoin:miter;stroke-width:0.8;\"/>\r\n   </g>\r\n   <g id=\"patch_4\">\r\n    <path d=\"M 609.325 293.34375 \r\nL 609.325 21.54375 \r\n\" style=\"fill:none;stroke:#000000;stroke-linecap:square;stroke-linejoin:miter;stroke-width:0.8;\"/>\r\n   </g>\r\n   <g id=\"patch_5\">\r\n    <path d=\"M 51.325 293.34375 \r\nL 609.325 293.34375 \r\n\" style=\"fill:none;stroke:#000000;stroke-linecap:square;stroke-linejoin:miter;stroke-width:0.8;\"/>\r\n   </g>\r\n   <g id=\"patch_6\">\r\n    <path d=\"M 51.325 21.54375 \r\nL 609.325 21.54375 \r\n\" style=\"fill:none;stroke:#000000;stroke-linecap:square;stroke-linejoin:miter;stroke-width:0.8;\"/>\r\n   </g>\r\n   <g id=\"text_19\">\r\n    <!-- portfolio -->\r\n    <g transform=\"translate(303.325 15.54375)scale(0.12 -0.12)\">\r\n     <defs>\r\n      <path d=\"M 2925 1525 \r\nQ 2925 875 2525 475 \r\nQ 2125 75 1575 75 \r\nQ 1025 75 625 475 \r\nQ 225 875 225 1525 \r\nQ 225 2175 625 2575 \r\nQ 1025 2975 1575 2975 \r\nQ 2125 2975 2525 2575 \r\nQ 2925 2175 2925 1525 \r\nz\r\nM 2375 1525 \r\nQ 2375 2025 2125 2275 \r\nQ 1875 2525 1575 2525 \r\nQ 1275 2525 1025 2275 \r\nQ 775 2025 775 1525 \r\nQ 775 1025 1025 775 \r\nQ 1275 525 1575 525 \r\nQ 1875 525 2125 775 \r\nQ 2375 1025 2375 1525 \r\nz\r\n\" id=\"SimHei-6f\" transform=\"scale(0.015625)\"/>\r\n      <path d=\"M 2500 2425 \r\nQ 2025 2500 1700 2287 \r\nQ 1375 2075 1150 1550 \r\nL 1150 125 \r\nL 650 125 \r\nL 650 2925 \r\nL 1150 2925 \r\nL 1150 2200 \r\nQ 1375 2600 1712 2787 \r\nQ 2050 2975 2500 2975 \r\nL 2500 2425 \r\nz\r\n\" id=\"SimHei-72\" transform=\"scale(0.015625)\"/>\r\n      <path d=\"M 2850 3825 \r\nQ 2725 3900 2550 3950 \r\nQ 2375 4000 2100 4000 \r\nQ 1825 4000 1725 3862 \r\nQ 1625 3725 1625 3525 \r\nL 1625 2925 \r\nL 2650 2925 \r\nL 2650 2525 \r\nL 1625 2525 \r\nL 1625 125 \r\nL 1125 125 \r\nL 1125 2525 \r\nL 275 2525 \r\nL 275 2925 \r\nL 1125 2925 \r\nL 1125 3500 \r\nQ 1125 3950 1400 4200 \r\nQ 1675 4450 2125 4450 \r\nQ 2400 4450 2562 4412 \r\nQ 2725 4375 2850 4325 \r\nL 2850 3825 \r\nz\r\n\" id=\"SimHei-66\" transform=\"scale(0.015625)\"/>\r\n      <path d=\"M 1800 3725 \r\nL 1300 3725 \r\nL 1300 4375 \r\nL 1800 4375 \r\nL 1800 3725 \r\nz\r\nM 1800 125 \r\nL 1300 125 \r\nL 1300 2925 \r\nL 1800 2925 \r\nL 1800 125 \r\nz\r\n\" id=\"SimHei-69\" transform=\"scale(0.015625)\"/>\r\n     </defs>\r\n     <use xlink:href=\"#SimHei-70\"/>\r\n     <use x=\"50\" xlink:href=\"#SimHei-6f\"/>\r\n     <use x=\"100\" xlink:href=\"#SimHei-72\"/>\r\n     <use x=\"150\" xlink:href=\"#SimHei-74\"/>\r\n     <use x=\"200\" xlink:href=\"#SimHei-66\"/>\r\n     <use x=\"250\" xlink:href=\"#SimHei-6f\"/>\r\n     <use x=\"300\" xlink:href=\"#SimHei-6c\"/>\r\n     <use x=\"350\" xlink:href=\"#SimHei-69\"/>\r\n     <use x=\"400\" xlink:href=\"#SimHei-6f\"/>\r\n    </g>\r\n   </g>\r\n  </g>\r\n </g>\r\n <defs>\r\n  <clipPath id=\"pb846eab66c\">\r\n   <rect height=\"271.8\" width=\"558\" x=\"51.325\" y=\"21.54375\"/>\r\n  </clipPath>\r\n </defs>\r\n</svg>\r\n",
      "text/plain": [
       "<Figure size 720x360 with 1 Axes>"
      ]
     },
     "metadata": {
      "needs_background": "light"
     },
     "output_type": "display_data"
    }
   ],
   "source": [
    "i = 0\n",
    "strat = \"overall.lasso.002.4096\"\n",
    "test_all_pnl = np.zeros([sum(test_sample), len(product_list)])\n",
    "train_all_pnl = np.zeros([sum(train_sample), len(product_list)])\n",
    "min_pnl = 1\n",
    "min_num = 5\n",
    "for product in product_list:\n",
    "    spread = product_info[product][\"spread\"]\n",
    "    signal_stat = load(HEAD_PATH+\"\\\\signal_result_atr\\\\\"+product+\".\"+strat+\".trend.pkl\")\n",
    "    train_stat = signal_stat[\"train.stat\"]\n",
    "    good_strat = (train_stat[\"final.result\"][\"avg.pnl\"]>min_pnl*spread) & (train_stat[\"final.result\"][\"num\"]>min_num)\n",
    "    if sum(good_strat)>0:\n",
    "        train_pnl = train_stat[\"daily.ret\"].loc[:, good_strat].sum(axis=1)/sum(good_strat)\n",
    "        test_stat = signal_stat[\"test.stat\"]\n",
    "        test_pnl = test_stat[\"daily.ret\"].loc[:, good_strat].sum(axis=1)/sum(good_strat)\n",
    "        print(product, \"train sharpe \", sharpe(train_pnl), \"test sharpe \", sharpe(test_pnl))\n",
    "        test_all_pnl[:,i] = test_pnl\n",
    "        train_all_pnl[:,i] = train_pnl\n",
    "        i = i+1\n",
    "train_portfolio = np.array(np.mean(train_all_pnl, axis=1))\n",
    "test_portfolio = np.array(np.mean(test_all_pnl, axis=1))\n",
    "all_portfolio = np.append(train_portfolio, test_portfolio)\n",
    "plt.figure(1, figsize=(10, 5))\n",
    "plt.title(\"\")\n",
    "plt.xlabel(\"date\")\n",
    "plt.ylabel(\"pnl\")\n",
    "plt.title(\"portfolio\")\n",
    "plt.plot(format_dates, all_portfolio.cumsum(), color=\"b\")\n",
    "plt.plot(format_dates[test_sample], all_portfolio.cumsum()[test_sample], color=\"brown\")\n",
    "print(\"train sharpe: \", sharpe(train_portfolio), \"test sharpe: \", sharpe(test_portfolio))   "
   ]
  },
  {
   "cell_type": "code",
   "execution_count": 27,
   "metadata": {},
   "outputs": [],
   "source": [
    "daily_ticks = dict([])\n",
    "all_mat = dict([])\n",
    "for product in product_list:\n",
    "    daily_num = load(HEAD_PATH+\"\\\\daily_num\\\\\"+product+\".pkl\")\n",
    "    daily_ticks[product] = daily_num\n",
    "    test_mat = load(HEAD_PATH+\"\\\\train_test_mat\\\\\"+product+\".test.mat.pkl\")\n",
    "    train_mat = load(HEAD_PATH+\"\\\\train_test_mat\\\\\"+product+\".train.mat.pkl\")\n",
    "    train_mat\n",
    "    all_mat[product] = pd.concat((train_mat, test_mat))"
   ]
  },
  {
   "cell_type": "code",
   "execution_count": 28,
   "metadata": {},
   "outputs": [],
   "source": [
    "from sklearn import linear_model\n",
    "from sklearn.model_selection import cross_val_score\n",
    "from sklearn.linear_model import lasso_path, LassoCV\n",
    "\n",
    "from sklearn.preprocessing import StandardScaler"
   ]
  },
  {
   "cell_type": "code",
   "execution_count": 29,
   "metadata": {},
   "outputs": [
    {
     "data": {
      "text/plain": [
       "(array(['201701', '201702', '201703', '201704', '201705', '201706',\n",
       "        '201707', '201708', '201709', '201710', '201711', '201712',\n",
       "        '201801', '201802', '201803', '201804', '201805', '201806',\n",
       "        '201807', '201808', '201809', '201810', '201811', '201812',\n",
       "        '201901', '201902', '201903', '201904', '201905', '201906',\n",
       "        '201907', '201908', '201909', '201910', '201911', '201912',\n",
       "        '202001', '202002', '202003', '202004', '202005', '202006',\n",
       "        '202007', '202008', '202009', '202010', '202011', '202012',\n",
       "        '202101', '202102', '202103', '202104', '202105'], dtype='<U6'),\n",
       " array([18, 18, 23, 18, 20, 22, 21, 23, 21, 17, 22, 21, 22, 15, 22, 18, 22,\n",
       "        20, 22, 23, 19, 18, 22, 20, 22, 15, 21, 21, 20, 19, 23, 22, 20, 18,\n",
       "        21, 22, 16, 20, 22, 21, 18, 20, 23, 21, 22, 16, 21, 23, 20, 15, 23,\n",
       "        21, 10], dtype=int64))"
      ]
     },
     "execution_count": 29,
     "metadata": {},
     "output_type": "execute_result"
    }
   ],
   "source": [
    "month = np.array([file[:6] for file in all_dates])\n",
    "month_len = np.unique(month, return_counts=True)\n",
    "month_len"
   ]
  },
  {
   "cell_type": "code",
   "execution_count": 30,
   "metadata": {},
   "outputs": [],
   "source": [
    "def get_multiple_lasso_roll_model(train_start, train_end, y_signal, forward_len, strat, \n",
    "                          single_product, combine_product, period=4096, SAVE_PATH=SAVE_PATH):\n",
    "    product_list = np.append(single_product, combine_product)\n",
    "    cum_daily_ticks = dict([])\n",
    "    train_tick_start = dict([])\n",
    "    train_tick_end = dict([])   \n",
    "    test_tick_start = dict([])\n",
    "    test_tick_end = dict([])   \n",
    "    for product in product_list:\n",
    "        cum_daily_ticks[product] = daily_ticks[product].cumsum()\n",
    "        if train_start==0:\n",
    "            train_tick_start[product] = 0\n",
    "        else:\n",
    "            train_tick_start[product] = int(cum_daily_ticks[product][train_start-1]+1)\n",
    "        train_tick_end[product] = int(cum_daily_ticks[product][train_end]-1)\n",
    "        test_tick_start[product] = int(train_tick_end[product]+2)\n",
    "        test_tick_end[product] = int(cum_daily_ticks[product][train_end+1])\n",
    "        \n",
    "    coef_list = dict([])\n",
    "    for product in single_product:\n",
    "        x_train = all_mat[product].iloc[train_tick_start[product]:train_tick_end[product], :n_signal].values\n",
    "        y_train = all_mat[product][y_signal][train_tick_start[product]:train_tick_end[product]]\n",
    "        n_train = x_train.shape[0]\n",
    "        scaler =  StandardScaler(copy=True, with_mean=False, with_std=True)\n",
    "        scaler.fit(x_train)\n",
    "        x_std = np.sqrt(scaler.var_)\n",
    "        x_train_normal = scaler.transform(x_train)\n",
    "        model = LassoCV(n_alphas=100, fit_intercept=False, cv=5, max_iter=10000).fit(x_train_normal, y_train)\n",
    "        coef = model.coef_ / x_std\n",
    "        coef_list[product] = coef\n",
    "    train_std_mat = dict([])\n",
    "    train_std_mat\n",
    "    n_samples = x_train.shape[0]\n",
    "    train_mat = np.zeros((0,n_signal))\n",
    "    y_train = np.array([])\n",
    "    for product in combine_product:\n",
    "        x_train = all_mat[product].iloc[train_tick_start[product]:train_tick_end[product], :n_signal].values\n",
    "        cur_y_train = all_mat[product][y_signal][train_tick_start[product]:train_tick_end[product]]\n",
    "        scaler.fit(x_train)\n",
    "        x_train = scaler.transform(x_train)\n",
    "        train_std_mat[product] = np.sqrt(scaler.var_)\n",
    "        train_mat = np.append(train_mat,x_train, axis=0)\n",
    "        y_train = np.append(y_train, cur_y_train)\n",
    "    model = LassoCV(n_alphas=100, fit_intercept=False, cv=5, max_iter=10000).fit(train_mat, y_train)\n",
    "    fit_coef = model.coef_\n",
    "    for product in combine_product:\n",
    "        coef_list[product] = fit_coef/train_std_mat[product]\n",
    "    os.makedirs(SAVE_PATH+\"\\\\models\", exist_ok=True)\n",
    "    save(coef_list, SAVE_PATH+\"\\\\models\\\\\"+strat+\".pkl\")\n",
    "    \n"
   ]
  },
  {
   "cell_type": "code",
   "execution_count": 31,
   "metadata": {},
   "outputs": [
    {
     "name": "stdout",
     "output_type": "stream",
     "text": [
      "['201901' '201902' '201903' '201904' '201905' '201906' '201907' '201908'\n",
      " '201909' '201910' '201911' '201912' '202001' '202002' '202003' '202004'\n",
      " '202005' '202006' '202007' '202008' '202009' '202010' '202011' '202012'\n",
      " '202101' '202102' '202103' '202104' '202105']\n"
     ]
    }
   ],
   "source": [
    "test_range = np.where((month_len[0] >= \"2019\"))[0]\n",
    "print(month_len[0][test_range])\n",
    "start_month = 0\n",
    "end_month = sum(month_len[0] < \"2019\")-1\n",
    "cum_month_len = np.cumsum(month_len[1])"
   ]
  },
  {
   "cell_type": "code",
   "execution_count": 32,
   "metadata": {},
   "outputs": [
    {
     "name": "stdout",
     "output_type": "stream",
     "text": [
      "24 201901\n",
      "25 201902\n",
      "26 201903\n",
      "27 201904\n",
      "28 201905\n",
      "29 201906\n",
      "30 201907\n",
      "31 201908\n",
      "32 201909\n",
      "33 201910\n",
      "34 201911\n",
      "35 201912\n",
      "36 202001\n",
      "37 202002\n",
      "38 202003\n",
      "39 202004\n",
      "40 202005\n",
      "41 202006\n",
      "42 202007\n",
      "43 202008\n",
      "44 202009\n",
      "45 202010\n",
      "46 202011\n",
      "47 202012\n",
      "48 202101\n",
      "49 202102\n",
      "50 202103\n",
      "51 202104\n",
      "52 202105\n",
      "Wall time: 35.9 s\n"
     ]
    }
   ],
   "source": [
    "%%time\n",
    "strat = \"universal.lasso.002.4096\"\n",
    "y_signal = \"ret.4096.002\"\n",
    "start_month = 0\n",
    "end_month = sum(month_len[0] < \"2019\")-1\n",
    "for i_test in test_range:\n",
    "    forward_len = month_len[1][i_test]\n",
    "    train_start = 0 if start_month==0 else cum_month_len[start_month-1]\n",
    "    train_end = cum_month_len[end_month]-1\n",
    "    print(i_test, month_len[0][i_test])\n",
    "    get_multiple_lasso_roll_model(train_start, train_end, y_signal, forward_len, strat+\".\"+month_len[0][i_test], \n",
    "                          [\"i\"], [\"rb\",\"hc\",\"j\",\"jm\"], period=4096, SAVE_PATH=SAVE_PATH)\n",
    "    start_month = start_month+1\n",
    "    end_month = end_month+1"
   ]
  },
  {
   "cell_type": "code",
   "execution_count": 33,
   "metadata": {},
   "outputs": [
    {
     "name": "stdout",
     "output_type": "stream",
     "text": [
      "24 201901\n",
      "25 201902\n",
      "26 201903\n",
      "27 201904\n",
      "28 201905\n",
      "29 201906\n",
      "30 201907\n",
      "31 201908\n",
      "32 201909\n",
      "33 201910\n",
      "34 201911\n",
      "35 201912\n",
      "36 202001\n",
      "37 202002\n",
      "38 202003\n",
      "39 202004\n",
      "40 202005\n",
      "41 202006\n",
      "42 202007\n",
      "43 202008\n",
      "44 202009\n",
      "45 202010\n",
      "46 202011\n",
      "47 202012\n",
      "48 202101\n",
      "49 202102\n",
      "50 202103\n",
      "51 202104\n",
      "52 202105\n",
      "Wall time: 53min 56s\n"
     ]
    }
   ],
   "source": [
    "%%time\n",
    "start_month = 0\n",
    "end_month = sum(month_len[0] < \"2019\")-1\n",
    "for i_test in test_range:\n",
    "    forward_len = month_len[1][i_test]\n",
    "    train_start = 0 if start_month==0 else cum_month_len[start_month-1]\n",
    "    train_end = cum_month_len[end_month]-1\n",
    "    print(i_test, month_len[0][i_test])\n",
    "    strat_name = strat+\".\"+month_len[0][i_test]\n",
    "    coef_list = load(SAVE_PATH+\"\\\\models\\\\\"+strat_name+\".pkl\")\n",
    "    for product in product_list:\n",
    "        coef = coef_list[product]\n",
    "        os.makedirs(SAVE_PATH+\"\\\\factor_pkl\\\\\"+product+\"\\\\\"+strat_name, exist_ok=True)\n",
    "        parLapply(CORE_NUM, all_dates[train_start:(train_end+forward_len)+1], par_get_daily_pred, \n",
    "                  product=product, coef=coef, strat=strat_name, HEAD_PATH=HEAD_PATH,SAVE_PATH=SAVE_PATH)\n",
    "    start_month = start_month+1\n",
    "    end_month = end_month+1"
   ]
  },
  {
   "cell_type": "code",
   "execution_count": 34,
   "metadata": {},
   "outputs": [
    {
     "name": "stdout",
     "output_type": "stream",
     "text": [
      "201901 20170103.pkl 20181228.pkl\n",
      "201902 20170203.pkl 20190131.pkl\n",
      "201903 20170301.pkl 20190228.pkl\n",
      "201904 20170405.pkl 20190329.pkl\n",
      "201905 20170502.pkl 20190430.pkl\n",
      "201906 20170601.pkl 20190531.pkl\n",
      "201907 20170703.pkl 20190628.pkl\n",
      "201908 20170801.pkl 20190731.pkl\n",
      "201909 20170901.pkl 20190830.pkl\n",
      "201910 20171009.pkl 20190930.pkl\n",
      "201911 20171101.pkl 20191031.pkl\n",
      "201912 20171201.pkl 20191129.pkl\n",
      "202001 20180102.pkl 20191231.pkl\n",
      "202002 20180201.pkl 20200123.pkl\n",
      "202003 20180301.pkl 20200228.pkl\n",
      "202004 20180402.pkl 20200331.pkl\n",
      "202005 20180502.pkl 20200430.pkl\n",
      "202006 20180601.pkl 20200529.pkl\n",
      "202007 20180702.pkl 20200630.pkl\n",
      "202008 20180801.pkl 20200731.pkl\n",
      "202009 20180903.pkl 20200831.pkl\n",
      "202010 20181008.pkl 20200930.pkl\n",
      "202011 20181101.pkl 20201030.pkl\n",
      "202012 20181203.pkl 20201130.pkl\n",
      "202101 20190102.pkl 20201231.pkl\n",
      "202102 20190201.pkl 20210129.pkl\n",
      "202103 20190301.pkl 20210226.pkl\n",
      "202104 20190401.pkl 20210331.pkl\n",
      "202105 20190506.pkl 20210430.pkl\n",
      "Wall time: 4min 41s\n"
     ]
    }
   ],
   "source": [
    "%%time\n",
    "strat = \"universal.lasso.002.4096\"\n",
    "start_month = 0\n",
    "end_month = sum(month_len[0] < \"2019\")-1\n",
    "for i_test in test_range:\n",
    "    train_start = 0 if start_month==0 else cum_month_len[start_month-1]\n",
    "    train_end = cum_month_len[end_month]-1\n",
    "    print(month_len[0][i_test], all_dates[train_start], all_dates[train_end])\n",
    "    for product in product_list:\n",
    "        par_get_all_signal(strat+\".\"+month_len[0][i_test], all_dates[train_start:(train_end+1)], product, 4096, SAVE_PATH=SAVE_PATH)\n",
    "    start_month = start_month+1\n",
    "    end_month = end_month+1"
   ]
  },
  {
   "cell_type": "code",
   "execution_count": 35,
   "metadata": {},
   "outputs": [],
   "source": [
    "def get_lasso_roll_result(product, strat,test_range, month_len, atr_filter=0, save_path=\"signal_result_atr\", HEAD_PATH=HEAD_PATH, SIGNAL_PATH=SIGNAL_PATH):\n",
    "    start_month = 0\n",
    "    end_month = sum(month_len[0] < \"2019\")-1\n",
    "    tranct = product_info[product][\"tranct\"]\n",
    "    tranct_ratio = product_info[product][\"tranct.ratio\"]\n",
    "    spread = product_info[product][\"spread\"]\n",
    "    for i_test in test_range:\n",
    "        forward_len = month_len[1][i_test]\n",
    "        train_start = 0 if start_month==0 else cum_month_len[start_month-1]\n",
    "        train_end = cum_month_len[end_month]-1\n",
    "        strat_name = strat+\".\"+month_len[0][i_test]\n",
    "        print(product, i_test, strat_name)\n",
    "        all_signal = load(SIGNAL_PATH+\"\\\\all_signals\\\\\"+product+\".\"+strat_name+\".pkl\")\n",
    "        open_list = np.quantile(abs(all_signal), np.append(np.arange(0.991,0.999,0.001),np.arange(0.9991,0.9999,0.0001)))\n",
    "        thre_list = []\n",
    "        for cartesian in itertools.product(open_list, np.array([0.2, 0.4, 0.6, 0.8, 1.0])):\n",
    "            thre_list.append((cartesian[0], -cartesian[0] * cartesian[1]))\n",
    "        thre_list = np.array(thre_list)\n",
    "        thre_mat = pd.DataFrame(data=OrderedDict([(\"open\", thre_list[:, 0]), (\"close\", thre_list[:, 1])]))\n",
    "        train_result = parLapply(CORE_NUM, all_dates[train_start:(train_end+1)], get_signal_pnl, \n",
    "                             product=product, signal_name=strat_name, thre_mat=thre_mat, reverse=1, tranct=1.1e-4, \n",
    "                             max_spread=spread+0.1, tranct_ratio=tranct_ratio, HEAD_PATH=HEAD_PATH, SIGNAL_PATH=SIGNAL_PATH,\n",
    "                            atr_filter=atr_filter, rebate=0)\n",
    "        train_stat = get_hft_summary(train_result, thre_mat, train_end-train_start+1)\n",
    "        test_result = parLapply(CORE_NUM, all_dates[(train_end+1):(train_end+forward_len+1)], get_signal_pnl, \n",
    "                            product=product, signal_name=strat_name, thre_mat=thre_mat, reverse=1, tranct=1.1e-4, \n",
    "                             max_spread=spread+0.1, tranct_ratio=tranct_ratio, HEAD_PATH=HEAD_PATH, SIGNAL_PATH=SIGNAL_PATH,\n",
    "                            atr_filter=atr_filter, rebate=0)\n",
    "        test_stat = get_hft_summary(test_result, thre_mat, forward_len)\n",
    "        stat_result = OrderedDict([(\"train.stat\", train_stat), (\"test.stat\", test_stat)])    \n",
    "        save(stat_result, HEAD_PATH+\"\\\\\"+save_path+\"\\\\\"+product+\".\"+strat_name+\".pkl\")\n",
    "        start_month = start_month+1\n",
    "        end_month = end_month+1"
   ]
  },
  {
   "cell_type": "code",
   "execution_count": 36,
   "metadata": {},
   "outputs": [
    {
     "name": "stdout",
     "output_type": "stream",
     "text": [
      "rb 24 universal.lasso.002.4096.201901\n",
      "rb 25 universal.lasso.002.4096.201902\n",
      "rb 26 universal.lasso.002.4096.201903\n",
      "rb 27 universal.lasso.002.4096.201904\n",
      "rb 28 universal.lasso.002.4096.201905\n",
      "rb 29 universal.lasso.002.4096.201906\n",
      "rb 30 universal.lasso.002.4096.201907\n",
      "rb 31 universal.lasso.002.4096.201908\n",
      "rb 32 universal.lasso.002.4096.201909\n",
      "rb 33 universal.lasso.002.4096.201910\n",
      "rb 34 universal.lasso.002.4096.201911\n",
      "rb 35 universal.lasso.002.4096.201912\n",
      "rb 36 universal.lasso.002.4096.202001\n",
      "rb 37 universal.lasso.002.4096.202002\n",
      "rb 38 universal.lasso.002.4096.202003\n",
      "rb 39 universal.lasso.002.4096.202004\n",
      "rb 40 universal.lasso.002.4096.202005\n",
      "rb 41 universal.lasso.002.4096.202006\n",
      "rb 42 universal.lasso.002.4096.202007\n",
      "rb 43 universal.lasso.002.4096.202008\n",
      "rb 44 universal.lasso.002.4096.202009\n",
      "rb 45 universal.lasso.002.4096.202010\n",
      "rb 46 universal.lasso.002.4096.202011\n",
      "rb 47 universal.lasso.002.4096.202012\n",
      "rb 48 universal.lasso.002.4096.202101\n",
      "rb 49 universal.lasso.002.4096.202102\n",
      "rb 50 universal.lasso.002.4096.202103\n",
      "rb 51 universal.lasso.002.4096.202104\n",
      "rb 52 universal.lasso.002.4096.202105\n",
      "hc 24 universal.lasso.002.4096.201901\n",
      "hc 25 universal.lasso.002.4096.201902\n",
      "hc 26 universal.lasso.002.4096.201903\n",
      "hc 27 universal.lasso.002.4096.201904\n",
      "hc 28 universal.lasso.002.4096.201905\n",
      "hc 29 universal.lasso.002.4096.201906\n",
      "hc 30 universal.lasso.002.4096.201907\n",
      "hc 31 universal.lasso.002.4096.201908\n",
      "hc 32 universal.lasso.002.4096.201909\n",
      "hc 33 universal.lasso.002.4096.201910\n",
      "hc 34 universal.lasso.002.4096.201911\n",
      "hc 35 universal.lasso.002.4096.201912\n",
      "hc 36 universal.lasso.002.4096.202001\n",
      "hc 37 universal.lasso.002.4096.202002\n",
      "hc 38 universal.lasso.002.4096.202003\n",
      "hc 39 universal.lasso.002.4096.202004\n",
      "hc 40 universal.lasso.002.4096.202005\n",
      "hc 41 universal.lasso.002.4096.202006\n",
      "hc 42 universal.lasso.002.4096.202007\n",
      "hc 43 universal.lasso.002.4096.202008\n",
      "hc 44 universal.lasso.002.4096.202009\n",
      "hc 45 universal.lasso.002.4096.202010\n",
      "hc 46 universal.lasso.002.4096.202011\n",
      "hc 47 universal.lasso.002.4096.202012\n",
      "hc 48 universal.lasso.002.4096.202101\n",
      "hc 49 universal.lasso.002.4096.202102\n",
      "hc 50 universal.lasso.002.4096.202103\n",
      "hc 51 universal.lasso.002.4096.202104\n",
      "hc 52 universal.lasso.002.4096.202105\n",
      "i 24 universal.lasso.002.4096.201901\n",
      "i 25 universal.lasso.002.4096.201902\n",
      "i 26 universal.lasso.002.4096.201903\n",
      "i 27 universal.lasso.002.4096.201904\n",
      "i 28 universal.lasso.002.4096.201905\n",
      "i 29 universal.lasso.002.4096.201906\n",
      "i 30 universal.lasso.002.4096.201907\n",
      "i 31 universal.lasso.002.4096.201908\n",
      "i 32 universal.lasso.002.4096.201909\n",
      "i 33 universal.lasso.002.4096.201910\n",
      "i 34 universal.lasso.002.4096.201911\n",
      "i 35 universal.lasso.002.4096.201912\n",
      "i 36 universal.lasso.002.4096.202001\n",
      "i 37 universal.lasso.002.4096.202002\n",
      "i 38 universal.lasso.002.4096.202003\n",
      "i 39 universal.lasso.002.4096.202004\n",
      "i 40 universal.lasso.002.4096.202005\n",
      "i 41 universal.lasso.002.4096.202006\n",
      "i 42 universal.lasso.002.4096.202007\n",
      "i 43 universal.lasso.002.4096.202008\n",
      "i 44 universal.lasso.002.4096.202009\n",
      "i 45 universal.lasso.002.4096.202010\n",
      "i 46 universal.lasso.002.4096.202011\n",
      "i 47 universal.lasso.002.4096.202012\n",
      "i 48 universal.lasso.002.4096.202101\n",
      "i 49 universal.lasso.002.4096.202102\n",
      "i 50 universal.lasso.002.4096.202103\n",
      "i 51 universal.lasso.002.4096.202104\n",
      "i 52 universal.lasso.002.4096.202105\n",
      "j 24 universal.lasso.002.4096.201901\n",
      "j 25 universal.lasso.002.4096.201902\n",
      "j 26 universal.lasso.002.4096.201903\n",
      "j 27 universal.lasso.002.4096.201904\n",
      "j 28 universal.lasso.002.4096.201905\n",
      "j 29 universal.lasso.002.4096.201906\n",
      "j 30 universal.lasso.002.4096.201907\n",
      "j 31 universal.lasso.002.4096.201908\n",
      "j 32 universal.lasso.002.4096.201909\n",
      "j 33 universal.lasso.002.4096.201910\n",
      "j 34 universal.lasso.002.4096.201911\n",
      "j 35 universal.lasso.002.4096.201912\n",
      "j 36 universal.lasso.002.4096.202001\n",
      "j 37 universal.lasso.002.4096.202002\n",
      "j 38 universal.lasso.002.4096.202003\n",
      "j 39 universal.lasso.002.4096.202004\n",
      "j 40 universal.lasso.002.4096.202005\n",
      "j 41 universal.lasso.002.4096.202006\n",
      "j 42 universal.lasso.002.4096.202007\n",
      "j 43 universal.lasso.002.4096.202008\n",
      "j 44 universal.lasso.002.4096.202009\n",
      "j 45 universal.lasso.002.4096.202010\n",
      "j 46 universal.lasso.002.4096.202011\n",
      "j 47 universal.lasso.002.4096.202012\n",
      "j 48 universal.lasso.002.4096.202101\n",
      "j 49 universal.lasso.002.4096.202102\n",
      "j 50 universal.lasso.002.4096.202103\n",
      "j 51 universal.lasso.002.4096.202104\n",
      "j 52 universal.lasso.002.4096.202105\n",
      "jm 24 universal.lasso.002.4096.201901\n",
      "jm 25 universal.lasso.002.4096.201902\n",
      "jm 26 universal.lasso.002.4096.201903\n",
      "jm 27 universal.lasso.002.4096.201904\n",
      "jm 28 universal.lasso.002.4096.201905\n",
      "jm 29 universal.lasso.002.4096.201906\n",
      "jm 30 universal.lasso.002.4096.201907\n",
      "jm 31 universal.lasso.002.4096.201908\n",
      "jm 32 universal.lasso.002.4096.201909\n",
      "jm 33 universal.lasso.002.4096.201910\n",
      "jm 34 universal.lasso.002.4096.201911\n",
      "jm 35 universal.lasso.002.4096.201912\n",
      "jm 36 universal.lasso.002.4096.202001\n",
      "jm 37 universal.lasso.002.4096.202002\n",
      "jm 38 universal.lasso.002.4096.202003\n",
      "jm 39 universal.lasso.002.4096.202004\n",
      "jm 40 universal.lasso.002.4096.202005\n",
      "jm 41 universal.lasso.002.4096.202006\n",
      "jm 42 universal.lasso.002.4096.202007\n",
      "jm 43 universal.lasso.002.4096.202008\n",
      "jm 44 universal.lasso.002.4096.202009\n",
      "jm 45 universal.lasso.002.4096.202010\n",
      "jm 46 universal.lasso.002.4096.202011\n",
      "jm 47 universal.lasso.002.4096.202012\n",
      "jm 48 universal.lasso.002.4096.202101\n",
      "jm 49 universal.lasso.002.4096.202102\n",
      "jm 50 universal.lasso.002.4096.202103\n",
      "jm 51 universal.lasso.002.4096.202104\n",
      "jm 52 universal.lasso.002.4096.202105\n",
      "Wall time: 1h 22min 11s\n"
     ]
    }
   ],
   "source": [
    "%%time\n",
    "strat = \"universal.lasso.002.4096\"\n",
    "for product in product_list:\n",
    "    get_lasso_roll_result(product, strat, test_range, month_len, atr_filter=0.01)"
   ]
  },
  {
   "cell_type": "code",
   "execution_count": 37,
   "metadata": {},
   "outputs": [
    {
     "name": "stdout",
     "output_type": "stream",
     "text": [
      "sharpe  1.5329222886661156\n"
     ]
    },
    {
     "data": {
      "image/svg+xml": "<?xml version=\"1.0\" encoding=\"utf-8\" standalone=\"no\"?>\r\n<!DOCTYPE svg PUBLIC \"-//W3C//DTD SVG 1.1//EN\"\r\n  \"http://www.w3.org/Graphics/SVG/1.1/DTD/svg11.dtd\">\r\n<svg height=\"327.7pt\" version=\"1.1\" viewBox=\"0 0 625.136296 327.7\" width=\"625.136296pt\" xmlns=\"http://www.w3.org/2000/svg\" xmlns:xlink=\"http://www.w3.org/1999/xlink\">\r\n <metadata>\r\n  <rdf:RDF xmlns:cc=\"http://creativecommons.org/ns#\" xmlns:dc=\"http://purl.org/dc/elements/1.1/\" xmlns:rdf=\"http://www.w3.org/1999/02/22-rdf-syntax-ns#\">\r\n   <cc:Work>\r\n    <dc:type rdf:resource=\"http://purl.org/dc/dcmitype/StillImage\"/>\r\n    <dc:date>2022-06-07T13:15:25.484165</dc:date>\r\n    <dc:format>image/svg+xml</dc:format>\r\n    <dc:creator>\r\n     <cc:Agent>\r\n      <dc:title>Matplotlib v3.4.3, https://matplotlib.org/</dc:title>\r\n     </cc:Agent>\r\n    </dc:creator>\r\n   </cc:Work>\r\n  </rdf:RDF>\r\n </metadata>\r\n <defs>\r\n  <style type=\"text/css\">*{stroke-linecap:butt;stroke-linejoin:round;}</style>\r\n </defs>\r\n <g id=\"figure_1\">\r\n  <g id=\"patch_1\">\r\n   <path d=\"M 0 327.7 \r\nL 625.136296 327.7 \r\nL 625.136296 0 \r\nL 0 0 \r\nz\r\n\" style=\"fill:none;\"/>\r\n  </g>\r\n  <g id=\"axes_1\">\r\n   <g id=\"patch_2\">\r\n    <path d=\"M 46.325 293.25 \r\nL 604.325 293.25 \r\nL 604.325 21.45 \r\nL 46.325 21.45 \r\nz\r\n\" style=\"fill:#ffffff;\"/>\r\n   </g>\r\n   <g id=\"matplotlib.axis_1\">\r\n    <g id=\"xtick_1\">\r\n     <g id=\"line2d_1\">\r\n      <defs>\r\n       <path d=\"M 0 0 \r\nL 0 3.5 \r\n\" id=\"mb2255127fa\" style=\"stroke:#000000;stroke-width:0.8;\"/>\r\n      </defs>\r\n      <g>\r\n       <use style=\"stroke:#000000;stroke-width:0.8;\" x=\"71.108233\" xlink:href=\"#mb2255127fa\" y=\"293.25\"/>\r\n      </g>\r\n     </g>\r\n     <g id=\"text_1\">\r\n      <!-- 2019-01 -->\r\n      <g transform=\"translate(53.608233 307.125)scale(0.1 -0.1)\">\r\n       <defs>\r\n        <path d=\"M 300 250 \r\nQ 325 625 650 925 \r\nQ 975 1225 1475 1862 \r\nQ 1975 2500 2125 2850 \r\nQ 2275 3200 2237 3450 \r\nQ 2200 3700 2000 3862 \r\nQ 1800 4025 1537 4000 \r\nQ 1275 3975 1037 3800 \r\nQ 800 3625 675 3275 \r\nL 200 3350 \r\nQ 400 3925 712 4187 \r\nQ 1025 4450 1450 4475 \r\nQ 1700 4500 1900 4462 \r\nQ 2100 4425 2312 4287 \r\nQ 2525 4150 2662 3875 \r\nQ 2800 3600 2762 3212 \r\nQ 2725 2825 2375 2287 \r\nQ 2025 1750 1025 600 \r\nL 2825 600 \r\nL 2825 150 \r\nL 300 150 \r\nL 300 250 \r\nz\r\n\" id=\"SimHei-32\" transform=\"scale(0.015625)\"/>\r\n        <path d=\"M 225 2537 \r\nQ 250 3200 412 3587 \r\nQ 575 3975 875 4225 \r\nQ 1175 4475 1612 4475 \r\nQ 2050 4475 2375 4112 \r\nQ 2700 3750 2800 3200 \r\nQ 2900 2650 2862 1937 \r\nQ 2825 1225 2612 775 \r\nQ 2400 325 1975 150 \r\nQ 1550 -25 1125 187 \r\nQ 700 400 525 750 \r\nQ 350 1100 275 1487 \r\nQ 200 1875 225 2537 \r\nz\r\nM 750 2687 \r\nQ 675 2000 800 1462 \r\nQ 925 925 1212 700 \r\nQ 1500 475 1800 612 \r\nQ 2100 750 2237 1162 \r\nQ 2375 1575 2375 2062 \r\nQ 2375 2550 2337 2950 \r\nQ 2300 3350 2112 3675 \r\nQ 1925 4000 1612 4012 \r\nQ 1300 4025 1062 3700 \r\nQ 825 3375 750 2687 \r\nz\r\n\" id=\"SimHei-30\" transform=\"scale(0.015625)\"/>\r\n        <path d=\"M 1400 3600 \r\nQ 1075 3275 575 2975 \r\nL 575 3450 \r\nQ 1200 3875 1600 4450 \r\nL 1900 4450 \r\nL 1900 150 \r\nL 1400 150 \r\nL 1400 3600 \r\nz\r\n\" id=\"SimHei-31\" transform=\"scale(0.015625)\"/>\r\n        <path d=\"M 800 75 \r\nQ 1350 1000 1700 1750 \r\nQ 1075 1650 662 1912 \r\nQ 250 2175 162 2625 \r\nQ 75 3075 175 3437 \r\nQ 275 3800 487 4037 \r\nQ 700 4275 1000 4375 \r\nQ 1300 4475 1537 4475 \r\nQ 1775 4475 2025 4375 \r\nQ 2275 4275 2475 4075 \r\nQ 2675 3875 2750 3662 \r\nQ 2825 3450 2825 3112 \r\nQ 2825 2775 2575 2250 \r\nQ 2325 1725 1350 75 \r\nL 800 75 \r\nz\r\nM 662 2875 \r\nQ 700 2550 937 2337 \r\nQ 1175 2125 1450 2150 \r\nQ 1725 2175 1887 2300 \r\nQ 2050 2425 2200 2725 \r\nQ 2300 3100 2250 3362 \r\nQ 2200 3625 1987 3800 \r\nQ 1775 3975 1525 3975 \r\nQ 1375 4000 1137 3900 \r\nQ 900 3800 762 3500 \r\nQ 625 3200 662 2875 \r\nz\r\n\" id=\"SimHei-39\" transform=\"scale(0.015625)\"/>\r\n        <path d=\"M 2975 2125 \r\nL 125 2125 \r\nL 125 2525 \r\nL 2975 2525 \r\nL 2975 2125 \r\nz\r\n\" id=\"SimHei-2d\" transform=\"scale(0.015625)\"/>\r\n       </defs>\r\n       <use xlink:href=\"#SimHei-32\"/>\r\n       <use x=\"50\" xlink:href=\"#SimHei-30\"/>\r\n       <use x=\"100\" xlink:href=\"#SimHei-31\"/>\r\n       <use x=\"150\" xlink:href=\"#SimHei-39\"/>\r\n       <use x=\"200\" xlink:href=\"#SimHei-2d\"/>\r\n       <use x=\"250\" xlink:href=\"#SimHei-30\"/>\r\n       <use x=\"300\" xlink:href=\"#SimHei-31\"/>\r\n      </g>\r\n     </g>\r\n    </g>\r\n    <g id=\"xtick_2\">\r\n     <g id=\"line2d_2\">\r\n      <g>\r\n       <use style=\"stroke:#000000;stroke-width:0.8;\" x=\"123.344555\" xlink:href=\"#mb2255127fa\" y=\"293.25\"/>\r\n      </g>\r\n     </g>\r\n     <g id=\"text_2\">\r\n      <!-- 2019-04 -->\r\n      <g transform=\"translate(105.844555 307.125)scale(0.1 -0.1)\">\r\n       <defs>\r\n        <path d=\"M 2000 1100 \r\nL 75 1100 \r\nL 75 1525 \r\nL 2100 4450 \r\nL 2475 4450 \r\nL 2475 1525 \r\nL 3075 1525 \r\nL 3075 1100 \r\nL 2475 1100 \r\nL 2475 150 \r\nL 2000 150 \r\nL 2000 1100 \r\nz\r\nM 2000 1525 \r\nL 2000 3500 \r\nL 600 1525 \r\nL 2000 1525 \r\nz\r\n\" id=\"SimHei-34\" transform=\"scale(0.015625)\"/>\r\n       </defs>\r\n       <use xlink:href=\"#SimHei-32\"/>\r\n       <use x=\"50\" xlink:href=\"#SimHei-30\"/>\r\n       <use x=\"100\" xlink:href=\"#SimHei-31\"/>\r\n       <use x=\"150\" xlink:href=\"#SimHei-39\"/>\r\n       <use x=\"200\" xlink:href=\"#SimHei-2d\"/>\r\n       <use x=\"250\" xlink:href=\"#SimHei-30\"/>\r\n       <use x=\"300\" xlink:href=\"#SimHei-34\"/>\r\n      </g>\r\n     </g>\r\n    </g>\r\n    <g id=\"xtick_3\">\r\n     <g id=\"line2d_3\">\r\n      <g>\r\n       <use style=\"stroke:#000000;stroke-width:0.8;\" x=\"176.16128\" xlink:href=\"#mb2255127fa\" y=\"293.25\"/>\r\n      </g>\r\n     </g>\r\n     <g id=\"text_3\">\r\n      <!-- 2019-07 -->\r\n      <g transform=\"translate(158.66128 307.125)scale(0.1 -0.1)\">\r\n       <defs>\r\n        <path d=\"M 850 150 \r\nQ 1300 2050 2425 3925 \r\nL 275 3925 \r\nL 275 4375 \r\nL 2950 4375 \r\nL 2950 3950 \r\nQ 1775 2050 1400 150 \r\nL 850 150 \r\nz\r\n\" id=\"SimHei-37\" transform=\"scale(0.015625)\"/>\r\n       </defs>\r\n       <use xlink:href=\"#SimHei-32\"/>\r\n       <use x=\"50\" xlink:href=\"#SimHei-30\"/>\r\n       <use x=\"100\" xlink:href=\"#SimHei-31\"/>\r\n       <use x=\"150\" xlink:href=\"#SimHei-39\"/>\r\n       <use x=\"200\" xlink:href=\"#SimHei-2d\"/>\r\n       <use x=\"250\" xlink:href=\"#SimHei-30\"/>\r\n       <use x=\"300\" xlink:href=\"#SimHei-37\"/>\r\n      </g>\r\n     </g>\r\n    </g>\r\n    <g id=\"xtick_4\">\r\n     <g id=\"line2d_4\">\r\n      <g>\r\n       <use style=\"stroke:#000000;stroke-width:0.8;\" x=\"229.55841\" xlink:href=\"#mb2255127fa\" y=\"293.25\"/>\r\n      </g>\r\n     </g>\r\n     <g id=\"text_4\">\r\n      <!-- 2019-10 -->\r\n      <g transform=\"translate(212.05841 307.125)scale(0.1 -0.1)\">\r\n       <use xlink:href=\"#SimHei-32\"/>\r\n       <use x=\"50\" xlink:href=\"#SimHei-30\"/>\r\n       <use x=\"100\" xlink:href=\"#SimHei-31\"/>\r\n       <use x=\"150\" xlink:href=\"#SimHei-39\"/>\r\n       <use x=\"200\" xlink:href=\"#SimHei-2d\"/>\r\n       <use x=\"250\" xlink:href=\"#SimHei-31\"/>\r\n       <use x=\"300\" xlink:href=\"#SimHei-30\"/>\r\n      </g>\r\n     </g>\r\n    </g>\r\n    <g id=\"xtick_5\">\r\n     <g id=\"line2d_5\">\r\n      <g>\r\n       <use style=\"stroke:#000000;stroke-width:0.8;\" x=\"282.955539\" xlink:href=\"#mb2255127fa\" y=\"293.25\"/>\r\n      </g>\r\n     </g>\r\n     <g id=\"text_5\">\r\n      <!-- 2020-01 -->\r\n      <g transform=\"translate(265.455539 307.125)scale(0.1 -0.1)\">\r\n       <use xlink:href=\"#SimHei-32\"/>\r\n       <use x=\"50\" xlink:href=\"#SimHei-30\"/>\r\n       <use x=\"100\" xlink:href=\"#SimHei-32\"/>\r\n       <use x=\"150\" xlink:href=\"#SimHei-30\"/>\r\n       <use x=\"200\" xlink:href=\"#SimHei-2d\"/>\r\n       <use x=\"250\" xlink:href=\"#SimHei-30\"/>\r\n       <use x=\"300\" xlink:href=\"#SimHei-31\"/>\r\n      </g>\r\n     </g>\r\n    </g>\r\n    <g id=\"xtick_6\">\r\n     <g id=\"line2d_6\">\r\n      <g>\r\n       <use style=\"stroke:#000000;stroke-width:0.8;\" x=\"335.772264\" xlink:href=\"#mb2255127fa\" y=\"293.25\"/>\r\n      </g>\r\n     </g>\r\n     <g id=\"text_6\">\r\n      <!-- 2020-04 -->\r\n      <g transform=\"translate(318.272264 307.125)scale(0.1 -0.1)\">\r\n       <use xlink:href=\"#SimHei-32\"/>\r\n       <use x=\"50\" xlink:href=\"#SimHei-30\"/>\r\n       <use x=\"100\" xlink:href=\"#SimHei-32\"/>\r\n       <use x=\"150\" xlink:href=\"#SimHei-30\"/>\r\n       <use x=\"200\" xlink:href=\"#SimHei-2d\"/>\r\n       <use x=\"250\" xlink:href=\"#SimHei-30\"/>\r\n       <use x=\"300\" xlink:href=\"#SimHei-34\"/>\r\n      </g>\r\n     </g>\r\n    </g>\r\n    <g id=\"xtick_7\">\r\n     <g id=\"line2d_7\">\r\n      <g>\r\n       <use style=\"stroke:#000000;stroke-width:0.8;\" x=\"388.58899\" xlink:href=\"#mb2255127fa\" y=\"293.25\"/>\r\n      </g>\r\n     </g>\r\n     <g id=\"text_7\">\r\n      <!-- 2020-07 -->\r\n      <g transform=\"translate(371.08899 307.125)scale(0.1 -0.1)\">\r\n       <use xlink:href=\"#SimHei-32\"/>\r\n       <use x=\"50\" xlink:href=\"#SimHei-30\"/>\r\n       <use x=\"100\" xlink:href=\"#SimHei-32\"/>\r\n       <use x=\"150\" xlink:href=\"#SimHei-30\"/>\r\n       <use x=\"200\" xlink:href=\"#SimHei-2d\"/>\r\n       <use x=\"250\" xlink:href=\"#SimHei-30\"/>\r\n       <use x=\"300\" xlink:href=\"#SimHei-37\"/>\r\n      </g>\r\n     </g>\r\n    </g>\r\n    <g id=\"xtick_8\">\r\n     <g id=\"line2d_8\">\r\n      <g>\r\n       <use style=\"stroke:#000000;stroke-width:0.8;\" x=\"441.986119\" xlink:href=\"#mb2255127fa\" y=\"293.25\"/>\r\n      </g>\r\n     </g>\r\n     <g id=\"text_8\">\r\n      <!-- 2020-10 -->\r\n      <g transform=\"translate(424.486119 307.125)scale(0.1 -0.1)\">\r\n       <use xlink:href=\"#SimHei-32\"/>\r\n       <use x=\"50\" xlink:href=\"#SimHei-30\"/>\r\n       <use x=\"100\" xlink:href=\"#SimHei-32\"/>\r\n       <use x=\"150\" xlink:href=\"#SimHei-30\"/>\r\n       <use x=\"200\" xlink:href=\"#SimHei-2d\"/>\r\n       <use x=\"250\" xlink:href=\"#SimHei-31\"/>\r\n       <use x=\"300\" xlink:href=\"#SimHei-30\"/>\r\n      </g>\r\n     </g>\r\n    </g>\r\n    <g id=\"xtick_9\">\r\n     <g id=\"line2d_9\">\r\n      <g>\r\n       <use style=\"stroke:#000000;stroke-width:0.8;\" x=\"495.383248\" xlink:href=\"#mb2255127fa\" y=\"293.25\"/>\r\n      </g>\r\n     </g>\r\n     <g id=\"text_9\">\r\n      <!-- 2021-01 -->\r\n      <g transform=\"translate(477.883248 307.125)scale(0.1 -0.1)\">\r\n       <use xlink:href=\"#SimHei-32\"/>\r\n       <use x=\"50\" xlink:href=\"#SimHei-30\"/>\r\n       <use x=\"100\" xlink:href=\"#SimHei-32\"/>\r\n       <use x=\"150\" xlink:href=\"#SimHei-31\"/>\r\n       <use x=\"200\" xlink:href=\"#SimHei-2d\"/>\r\n       <use x=\"250\" xlink:href=\"#SimHei-30\"/>\r\n       <use x=\"300\" xlink:href=\"#SimHei-31\"/>\r\n      </g>\r\n     </g>\r\n    </g>\r\n    <g id=\"xtick_10\">\r\n     <g id=\"line2d_10\">\r\n      <g>\r\n       <use style=\"stroke:#000000;stroke-width:0.8;\" x=\"547.61957\" xlink:href=\"#mb2255127fa\" y=\"293.25\"/>\r\n      </g>\r\n     </g>\r\n     <g id=\"text_10\">\r\n      <!-- 2021-04 -->\r\n      <g transform=\"translate(530.11957 307.125)scale(0.1 -0.1)\">\r\n       <use xlink:href=\"#SimHei-32\"/>\r\n       <use x=\"50\" xlink:href=\"#SimHei-30\"/>\r\n       <use x=\"100\" xlink:href=\"#SimHei-32\"/>\r\n       <use x=\"150\" xlink:href=\"#SimHei-31\"/>\r\n       <use x=\"200\" xlink:href=\"#SimHei-2d\"/>\r\n       <use x=\"250\" xlink:href=\"#SimHei-30\"/>\r\n       <use x=\"300\" xlink:href=\"#SimHei-34\"/>\r\n      </g>\r\n     </g>\r\n    </g>\r\n    <g id=\"xtick_11\">\r\n     <g id=\"line2d_11\">\r\n      <g>\r\n       <use style=\"stroke:#000000;stroke-width:0.8;\" x=\"600.436296\" xlink:href=\"#mb2255127fa\" y=\"293.25\"/>\r\n      </g>\r\n     </g>\r\n     <g id=\"text_11\">\r\n      <!-- 2021-07 -->\r\n      <g transform=\"translate(582.936296 307.125)scale(0.1 -0.1)\">\r\n       <use xlink:href=\"#SimHei-32\"/>\r\n       <use x=\"50\" xlink:href=\"#SimHei-30\"/>\r\n       <use x=\"100\" xlink:href=\"#SimHei-32\"/>\r\n       <use x=\"150\" xlink:href=\"#SimHei-31\"/>\r\n       <use x=\"200\" xlink:href=\"#SimHei-2d\"/>\r\n       <use x=\"250\" xlink:href=\"#SimHei-30\"/>\r\n       <use x=\"300\" xlink:href=\"#SimHei-37\"/>\r\n      </g>\r\n     </g>\r\n    </g>\r\n    <g id=\"text_12\">\r\n     <!-- date -->\r\n     <g transform=\"translate(315.325 319.25)scale(0.1 -0.1)\">\r\n      <defs>\r\n       <path d=\"M 2750 125 \r\nL 2250 125 \r\nL 2250 500 \r\nQ 2100 275 1900 175 \r\nQ 1700 75 1425 75 \r\nQ 925 75 575 437 \r\nQ 225 800 225 1525 \r\nQ 225 2250 575 2625 \r\nQ 925 3000 1425 3000 \r\nQ 1700 3000 1900 2887 \r\nQ 2100 2775 2250 2550 \r\nL 2250 4400 \r\nL 2750 4400 \r\nL 2750 125 \r\nz\r\nM 2250 1525 \r\nQ 2250 2000 2037 2275 \r\nQ 1825 2550 1525 2550 \r\nQ 1150 2550 962 2275 \r\nQ 775 2000 775 1525 \r\nQ 775 1050 962 787 \r\nQ 1150 525 1525 525 \r\nQ 1825 525 2037 787 \r\nQ 2250 1050 2250 1525 \r\nz\r\n\" id=\"SimHei-64\" transform=\"scale(0.015625)\"/>\r\n       <path d=\"M 2875 125 \r\nL 2275 125 \r\nQ 2225 175 2200 262 \r\nQ 2175 350 2175 475 \r\nQ 2000 275 1750 175 \r\nQ 1500 75 1225 75 \r\nQ 825 75 550 275 \r\nQ 275 475 275 850 \r\nQ 275 1225 525 1450 \r\nQ 775 1675 1300 1750 \r\nQ 1650 1800 1912 1875 \r\nQ 2175 1950 2175 2075 \r\nQ 2175 2225 2062 2375 \r\nQ 1950 2525 1575 2525 \r\nQ 1275 2525 1137 2412 \r\nQ 1000 2300 950 2100 \r\nL 400 2100 \r\nQ 450 2500 762 2737 \r\nQ 1075 2975 1575 2975 \r\nQ 2125 2975 2400 2725 \r\nQ 2675 2475 2675 2025 \r\nL 2675 650 \r\nQ 2675 500 2725 375 \r\nQ 2775 250 2875 125 \r\nz\r\nM 2175 1050 \r\nL 2175 1550 \r\nQ 2025 1500 1887 1462 \r\nQ 1750 1425 1425 1375 \r\nQ 1050 1325 937 1200 \r\nQ 825 1075 825 900 \r\nQ 825 750 937 637 \r\nQ 1050 525 1275 525 \r\nQ 1500 525 1762 650 \r\nQ 2025 775 2175 1050 \r\nz\r\n\" id=\"SimHei-61\" transform=\"scale(0.015625)\"/>\r\n       <path d=\"M 2750 200 \r\nQ 2625 150 2462 112 \r\nQ 2300 75 2025 75 \r\nQ 1575 75 1300 325 \r\nQ 1025 575 1025 1025 \r\nL 1025 2525 \r\nL 175 2525 \r\nL 175 2925 \r\nL 1025 2925 \r\nL 1025 3900 \r\nL 1525 3900 \r\nL 1525 2925 \r\nL 2550 2925 \r\nL 2550 2525 \r\nL 1525 2525 \r\nL 1525 1000 \r\nQ 1525 800 1625 662 \r\nQ 1725 525 2000 525 \r\nQ 2275 525 2450 575 \r\nQ 2625 625 2750 700 \r\nL 2750 200 \r\nz\r\n\" id=\"SimHei-74\" transform=\"scale(0.015625)\"/>\r\n       <path d=\"M 2850 1075 \r\nQ 2800 625 2450 350 \r\nQ 2100 75 1625 75 \r\nQ 1025 75 637 462 \r\nQ 250 850 250 1525 \r\nQ 250 2200 637 2587 \r\nQ 1025 2975 1625 2975 \r\nQ 2150 2975 2487 2637 \r\nQ 2825 2300 2825 1525 \r\nL 800 1525 \r\nQ 800 975 1037 750 \r\nQ 1275 525 1625 525 \r\nQ 1900 525 2075 662 \r\nQ 2250 800 2300 1075 \r\nL 2850 1075 \r\nz\r\nM 2250 1925 \r\nQ 2200 2275 2025 2412 \r\nQ 1850 2550 1575 2550 \r\nQ 1325 2550 1125 2412 \r\nQ 925 2275 825 1925 \r\nL 2250 1925 \r\nz\r\n\" id=\"SimHei-65\" transform=\"scale(0.015625)\"/>\r\n      </defs>\r\n      <use xlink:href=\"#SimHei-64\"/>\r\n      <use x=\"50\" xlink:href=\"#SimHei-61\"/>\r\n      <use x=\"100\" xlink:href=\"#SimHei-74\"/>\r\n      <use x=\"150\" xlink:href=\"#SimHei-65\"/>\r\n     </g>\r\n    </g>\r\n   </g>\r\n   <g id=\"matplotlib.axis_2\">\r\n    <g id=\"ytick_1\">\r\n     <g id=\"line2d_12\">\r\n      <defs>\r\n       <path d=\"M 0 0 \r\nL -3.5 0 \r\n\" id=\"md16b13a905\" style=\"stroke:#000000;stroke-width:0.8;\"/>\r\n      </defs>\r\n      <g>\r\n       <use style=\"stroke:#000000;stroke-width:0.8;\" x=\"46.325\" xlink:href=\"#md16b13a905\" y=\"275.799641\"/>\r\n      </g>\r\n     </g>\r\n     <g id=\"text_13\">\r\n      <!-- 0.00 -->\r\n      <g transform=\"translate(19.325 279.237141)scale(0.1 -0.1)\">\r\n       <defs>\r\n        <path d=\"M 1075 125 \r\nL 500 125 \r\nL 500 675 \r\nL 1075 675 \r\nL 1075 125 \r\nz\r\n\" id=\"SimHei-2e\" transform=\"scale(0.015625)\"/>\r\n       </defs>\r\n       <use xlink:href=\"#SimHei-30\"/>\r\n       <use x=\"50\" xlink:href=\"#SimHei-2e\"/>\r\n       <use x=\"100\" xlink:href=\"#SimHei-30\"/>\r\n       <use x=\"150\" xlink:href=\"#SimHei-30\"/>\r\n      </g>\r\n     </g>\r\n    </g>\r\n    <g id=\"ytick_2\">\r\n     <g id=\"line2d_13\">\r\n      <g>\r\n       <use style=\"stroke:#000000;stroke-width:0.8;\" x=\"46.325\" xlink:href=\"#md16b13a905\" y=\"240.654754\"/>\r\n      </g>\r\n     </g>\r\n     <g id=\"text_14\">\r\n      <!-- 0.02 -->\r\n      <g transform=\"translate(19.325 244.092254)scale(0.1 -0.1)\">\r\n       <use xlink:href=\"#SimHei-30\"/>\r\n       <use x=\"50\" xlink:href=\"#SimHei-2e\"/>\r\n       <use x=\"100\" xlink:href=\"#SimHei-30\"/>\r\n       <use x=\"150\" xlink:href=\"#SimHei-32\"/>\r\n      </g>\r\n     </g>\r\n    </g>\r\n    <g id=\"ytick_3\">\r\n     <g id=\"line2d_14\">\r\n      <g>\r\n       <use style=\"stroke:#000000;stroke-width:0.8;\" x=\"46.325\" xlink:href=\"#md16b13a905\" y=\"205.509868\"/>\r\n      </g>\r\n     </g>\r\n     <g id=\"text_15\">\r\n      <!-- 0.04 -->\r\n      <g transform=\"translate(19.325 208.947368)scale(0.1 -0.1)\">\r\n       <use xlink:href=\"#SimHei-30\"/>\r\n       <use x=\"50\" xlink:href=\"#SimHei-2e\"/>\r\n       <use x=\"100\" xlink:href=\"#SimHei-30\"/>\r\n       <use x=\"150\" xlink:href=\"#SimHei-34\"/>\r\n      </g>\r\n     </g>\r\n    </g>\r\n    <g id=\"ytick_4\">\r\n     <g id=\"line2d_15\">\r\n      <g>\r\n       <use style=\"stroke:#000000;stroke-width:0.8;\" x=\"46.325\" xlink:href=\"#md16b13a905\" y=\"170.364982\"/>\r\n      </g>\r\n     </g>\r\n     <g id=\"text_16\">\r\n      <!-- 0.06 -->\r\n      <g transform=\"translate(19.325 173.802482)scale(0.1 -0.1)\">\r\n       <defs>\r\n        <path d=\"M 250 1612 \r\nQ 275 1975 387 2225 \r\nQ 500 2475 725 2850 \r\nL 1750 4450 \r\nL 2325 4450 \r\nL 1275 2800 \r\nQ 1950 2975 2350 2750 \r\nQ 2750 2525 2887 2237 \r\nQ 3025 1950 3037 1612 \r\nQ 3050 1275 2937 950 \r\nQ 2825 625 2537 362 \r\nQ 2250 100 1737 75 \r\nQ 1225 50 862 262 \r\nQ 500 475 362 862 \r\nQ 225 1250 250 1612 \r\nz\r\nM 1025 787 \r\nQ 1250 550 1625 525 \r\nQ 2000 500 2250 775 \r\nQ 2500 1050 2500 1575 \r\nQ 2500 2100 2187 2300 \r\nQ 1875 2500 1487 2450 \r\nQ 1100 2400 925 2075 \r\nQ 750 1750 775 1387 \r\nQ 800 1025 1025 787 \r\nz\r\n\" id=\"SimHei-36\" transform=\"scale(0.015625)\"/>\r\n       </defs>\r\n       <use xlink:href=\"#SimHei-30\"/>\r\n       <use x=\"50\" xlink:href=\"#SimHei-2e\"/>\r\n       <use x=\"100\" xlink:href=\"#SimHei-30\"/>\r\n       <use x=\"150\" xlink:href=\"#SimHei-36\"/>\r\n      </g>\r\n     </g>\r\n    </g>\r\n    <g id=\"ytick_5\">\r\n     <g id=\"line2d_16\">\r\n      <g>\r\n       <use style=\"stroke:#000000;stroke-width:0.8;\" x=\"46.325\" xlink:href=\"#md16b13a905\" y=\"135.220095\"/>\r\n      </g>\r\n     </g>\r\n     <g id=\"text_17\">\r\n      <!-- 0.08 -->\r\n      <g transform=\"translate(19.325 138.657595)scale(0.1 -0.1)\">\r\n       <defs>\r\n        <path d=\"M 175 1375 \r\nQ 175 1675 325 1962 \r\nQ 475 2250 825 2425 \r\nQ 525 2600 425 2812 \r\nQ 325 3025 312 3300 \r\nQ 300 3575 387 3775 \r\nQ 475 3975 650 4150 \r\nQ 825 4325 1037 4387 \r\nQ 1250 4450 1500 4450 \r\nQ 1750 4450 1950 4400 \r\nQ 2150 4350 2375 4187 \r\nQ 2600 4025 2700 3725 \r\nQ 2800 3425 2687 3025 \r\nQ 2575 2625 2100 2400 \r\nQ 2525 2275 2700 2012 \r\nQ 2875 1750 2875 1375 \r\nQ 2875 1000 2762 775 \r\nQ 2650 550 2512 400 \r\nQ 2375 250 2137 162 \r\nQ 1900 75 1537 75 \r\nQ 1175 75 912 162 \r\nQ 650 250 475 425 \r\nQ 300 600 237 837 \r\nQ 175 1075 175 1375 \r\nz\r\nM 687 1400 \r\nQ 675 1100 787 875 \r\nQ 900 650 1200 587 \r\nQ 1500 525 1825 600 \r\nQ 2150 675 2275 950 \r\nQ 2400 1225 2362 1500 \r\nQ 2325 1775 2050 1962 \r\nQ 1775 2150 1450 2125 \r\nQ 1125 2100 912 1900 \r\nQ 700 1700 687 1400 \r\nz\r\nM 775 3350 \r\nQ 775 3100 950 2875 \r\nQ 1125 2650 1500 2650 \r\nQ 1875 2650 2062 2875 \r\nQ 2250 3100 2237 3412 \r\nQ 2225 3725 2012 3875 \r\nQ 1800 4025 1437 4000 \r\nQ 1075 3975 925 3787 \r\nQ 775 3600 775 3350 \r\nz\r\n\" id=\"SimHei-38\" transform=\"scale(0.015625)\"/>\r\n       </defs>\r\n       <use xlink:href=\"#SimHei-30\"/>\r\n       <use x=\"50\" xlink:href=\"#SimHei-2e\"/>\r\n       <use x=\"100\" xlink:href=\"#SimHei-30\"/>\r\n       <use x=\"150\" xlink:href=\"#SimHei-38\"/>\r\n      </g>\r\n     </g>\r\n    </g>\r\n    <g id=\"ytick_6\">\r\n     <g id=\"line2d_17\">\r\n      <g>\r\n       <use style=\"stroke:#000000;stroke-width:0.8;\" x=\"46.325\" xlink:href=\"#md16b13a905\" y=\"100.075209\"/>\r\n      </g>\r\n     </g>\r\n     <g id=\"text_18\">\r\n      <!-- 0.10 -->\r\n      <g transform=\"translate(19.325 103.512709)scale(0.1 -0.1)\">\r\n       <use xlink:href=\"#SimHei-30\"/>\r\n       <use x=\"50\" xlink:href=\"#SimHei-2e\"/>\r\n       <use x=\"100\" xlink:href=\"#SimHei-31\"/>\r\n       <use x=\"150\" xlink:href=\"#SimHei-30\"/>\r\n      </g>\r\n     </g>\r\n    </g>\r\n    <g id=\"ytick_7\">\r\n     <g id=\"line2d_18\">\r\n      <g>\r\n       <use style=\"stroke:#000000;stroke-width:0.8;\" x=\"46.325\" xlink:href=\"#md16b13a905\" y=\"64.930322\"/>\r\n      </g>\r\n     </g>\r\n     <g id=\"text_19\">\r\n      <!-- 0.12 -->\r\n      <g transform=\"translate(19.325 68.367822)scale(0.1 -0.1)\">\r\n       <use xlink:href=\"#SimHei-30\"/>\r\n       <use x=\"50\" xlink:href=\"#SimHei-2e\"/>\r\n       <use x=\"100\" xlink:href=\"#SimHei-31\"/>\r\n       <use x=\"150\" xlink:href=\"#SimHei-32\"/>\r\n      </g>\r\n     </g>\r\n    </g>\r\n    <g id=\"ytick_8\">\r\n     <g id=\"line2d_19\">\r\n      <g>\r\n       <use style=\"stroke:#000000;stroke-width:0.8;\" x=\"46.325\" xlink:href=\"#md16b13a905\" y=\"29.785436\"/>\r\n      </g>\r\n     </g>\r\n     <g id=\"text_20\">\r\n      <!-- 0.14 -->\r\n      <g transform=\"translate(19.325 33.222936)scale(0.1 -0.1)\">\r\n       <use xlink:href=\"#SimHei-30\"/>\r\n       <use x=\"50\" xlink:href=\"#SimHei-2e\"/>\r\n       <use x=\"100\" xlink:href=\"#SimHei-31\"/>\r\n       <use x=\"150\" xlink:href=\"#SimHei-34\"/>\r\n      </g>\r\n     </g>\r\n    </g>\r\n    <g id=\"text_21\">\r\n     <!-- pnl -->\r\n     <g transform=\"translate(14.075 164.85)rotate(-90)scale(0.1 -0.1)\">\r\n      <defs>\r\n       <path d=\"M 2825 1525 \r\nQ 2825 800 2475 425 \r\nQ 2125 50 1625 50 \r\nQ 1350 50 1150 162 \r\nQ 950 275 800 500 \r\nL 800 -800 \r\nL 300 -800 \r\nL 300 2925 \r\nL 800 2925 \r\nL 800 2550 \r\nQ 950 2775 1150 2875 \r\nQ 1350 2975 1625 2975 \r\nQ 2125 2975 2475 2612 \r\nQ 2825 2250 2825 1525 \r\nz\r\nM 2275 1525 \r\nQ 2275 2000 2087 2262 \r\nQ 1900 2525 1525 2525 \r\nQ 1225 2525 1012 2262 \r\nQ 800 2000 800 1525 \r\nQ 800 1050 1012 775 \r\nQ 1225 500 1525 500 \r\nQ 1900 500 2087 775 \r\nQ 2275 1050 2275 1525 \r\nz\r\n\" id=\"SimHei-70\" transform=\"scale(0.015625)\"/>\r\n       <path d=\"M 2800 125 \r\nL 2300 125 \r\nL 2300 1925 \r\nQ 2300 2225 2150 2400 \r\nQ 2000 2575 1750 2575 \r\nQ 1425 2575 1137 2237 \r\nQ 850 1900 850 1400 \r\nL 850 125 \r\nL 350 125 \r\nL 350 2925 \r\nL 850 2925 \r\nL 850 2400 \r\nQ 1050 2675 1287 2825 \r\nQ 1525 2975 1900 2975 \r\nQ 2350 2975 2575 2725 \r\nQ 2800 2475 2800 2100 \r\nL 2800 125 \r\nz\r\n\" id=\"SimHei-6e\" transform=\"scale(0.015625)\"/>\r\n       <path d=\"M 1825 125 \r\nL 1325 125 \r\nL 1325 4400 \r\nL 1825 4400 \r\nL 1825 125 \r\nz\r\n\" id=\"SimHei-6c\" transform=\"scale(0.015625)\"/>\r\n      </defs>\r\n      <use xlink:href=\"#SimHei-70\"/>\r\n      <use x=\"50\" xlink:href=\"#SimHei-6e\"/>\r\n      <use x=\"100\" xlink:href=\"#SimHei-6c\"/>\r\n     </g>\r\n    </g>\r\n   </g>\r\n   <g id=\"line2d_20\">\r\n    <path clip-path=\"url(#p720746ab64)\" d=\"M 71.688636 274.31963 \r\nL 72.26904 279.146747 \r\nL 72.849444 279.467153 \r\nL 75.751461 279.467153 \r\nL 76.331865 279.700922 \r\nL 76.912269 279.700922 \r\nL 78.653479 279.878618 \r\nL 79.233883 280.520241 \r\nL 83.296708 280.594414 \r\nL 84.457515 280.667556 \r\nL 85.037919 280.667556 \r\nL 86.779129 280.895455 \r\nL 87.359533 280.795173 \r\nL 87.939937 279.492488 \r\nL 88.52034 273.441811 \r\nL 89.100744 269.873763 \r\nL 94.904779 271.260572 \r\nL 95.485183 275.022042 \r\nL 97.226394 275.022042 \r\nL 98.967605 273.53325 \r\nL 99.548008 275.005825 \r\nL 100.128412 275.005825 \r\nL 100.708815 271.597975 \r\nL 101.289219 272.493356 \r\nL 103.03043 272.056757 \r\nL 105.352044 272.056757 \r\nL 107.093255 269.671218 \r\nL 107.673658 269.590997 \r\nL 108.834465 270.344104 \r\nL 109.414869 271.603738 \r\nL 112.316887 271.603738 \r\nL 112.89729 272.70686 \r\nL 115.799308 272.70686 \r\nL 116.379712 269.690245 \r\nL 121.022941 269.610957 \r\nL 121.603344 270.045332 \r\nL 128.568187 270.407757 \r\nL 129.148591 269.338441 \r\nL 129.728994 268.961571 \r\nL 133.211416 268.961571 \r\nL 133.791819 269.292676 \r\nL 137.854644 269.199525 \r\nL 139.595855 270.46489 \r\nL 143.65868 270.365635 \r\nL 144.239084 269.114683 \r\nL 144.819487 269.412451 \r\nL 145.980294 269.412451 \r\nL 147.721505 271.181124 \r\nL 148.882312 271.039594 \r\nL 151.78433 271.039594 \r\nL 152.364734 267.829946 \r\nL 152.945137 267.829946 \r\nL 153.525541 267.631768 \r\nL 154.105944 262.792479 \r\nL 155.847155 262.792479 \r\nL 156.427559 263.276799 \r\nL 158.16877 263.276799 \r\nL 159.90998 264.505357 \r\nL 161.070787 264.505357 \r\nL 161.651191 258.853897 \r\nL 163.972805 258.853897 \r\nL 164.553209 260.579884 \r\nL 165.133612 259.415999 \r\nL 165.714016 259.242973 \r\nL 168.03563 259.242973 \r\nL 168.616034 261.087736 \r\nL 170.357245 261.087736 \r\nL 172.098455 260.264586 \r\nL 173.259263 260.264586 \r\nL 173.839666 256.633146 \r\nL 174.42007 256.633146 \r\nL 176.16128 255.957289 \r\nL 176.741684 255.474754 \r\nL 177.902491 255.424553 \r\nL 178.482895 254.448045 \r\nL 181.384913 253.702008 \r\nL 182.54572 253.591141 \r\nL 184.286931 252.048154 \r\nL 184.867334 252.173804 \r\nL 185.447738 252.67798 \r\nL 186.028141 252.67798 \r\nL 186.608545 253.142729 \r\nL 188.349756 253.142729 \r\nL 188.930159 254.172315 \r\nL 189.510563 253.998768 \r\nL 194.153791 253.968467 \r\nL 194.734195 253.214877 \r\nL 197.055809 253.214877 \r\nL 197.636213 253.097349 \r\nL 198.216616 252.360704 \r\nL 198.79702 250.737948 \r\nL 200.538231 250.741967 \r\nL 201.118634 251.812039 \r\nL 204.601056 251.812039 \r\nL 205.181459 250.770983 \r\nL 205.761863 250.703562 \r\nL 206.92267 250.784378 \r\nL 208.663881 247.631305 \r\nL 209.244284 248.788087 \r\nL 210.405092 248.690991 \r\nL 210.985495 248.690991 \r\nL 212.726706 248.289982 \r\nL 213.307109 248.289982 \r\nL 213.887513 247.9665 \r\nL 214.467917 246.950027 \r\nL 215.04832 244.5479 \r\nL 216.789531 241.706761 \r\nL 217.369934 241.706761 \r\nL 217.950338 240.835579 \r\nL 218.530742 240.563599 \r\nL 220.852356 242.238177 \r\nL 221.43276 242.238177 \r\nL 222.013163 243.01022 \r\nL 222.593567 246.751548 \r\nL 223.17397 249.711802 \r\nL 224.915181 243.647293 \r\nL 225.495585 251.431373 \r\nL 226.656392 251.431373 \r\nL 227.236795 248.781928 \r\nL 228.978006 248.8423 \r\nL 233.621235 250.464486 \r\nL 234.201638 250.159704 \r\nL 235.362445 250.159704 \r\nL 237.103656 252.437232 \r\nL 237.68406 247.801515 \r\nL 238.264463 246.791683 \r\nL 238.844867 246.791683 \r\nL 239.42527 246.542519 \r\nL 241.166481 246.542519 \r\nL 241.746885 246.283042 \r\nL 242.907692 246.283042 \r\nL 243.488095 245.895259 \r\nL 245.229306 243.56172 \r\nL 245.80971 243.56172 \r\nL 246.390113 243.917912 \r\nL 249.292131 243.944317 \r\nL 249.872535 242.876403 \r\nL 253.354956 242.843326 \r\nL 253.93536 242.620539 \r\nL 254.515763 241.479215 \r\nL 255.096167 244.305315 \r\nL 257.417781 244.305315 \r\nL 257.998185 244.498975 \r\nL 258.578589 244.498975 \r\nL 259.158992 244.737128 \r\nL 259.739396 244.737128 \r\nL 261.480606 240.893974 \r\nL 262.06101 240.893974 \r\nL 262.641414 241.063669 \r\nL 263.802221 241.063669 \r\nL 266.123835 240.858661 \r\nL 266.704239 240.615234 \r\nL 267.284642 240.615234 \r\nL 267.865046 239.55586 \r\nL 269.606257 229.841385 \r\nL 270.18666 229.009583 \r\nL 270.767064 226.828625 \r\nL 271.347467 227.128016 \r\nL 271.927871 227.128016 \r\nL 273.669082 225.146217 \r\nL 274.249485 223.699209 \r\nL 274.829889 224.297537 \r\nL 275.410292 224.437787 \r\nL 275.990696 224.957482 \r\nL 281.794732 224.957482 \r\nL 282.375135 224.150033 \r\nL 285.857557 224.150033 \r\nL 286.43796 224.00512 \r\nL 287.598767 224.094208 \r\nL 293.983207 224.127252 \r\nL 294.56361 224.391629 \r\nL 295.144014 221.864902 \r\nL 295.724418 221.864902 \r\nL 302.108857 217.928311 \r\nL 302.68926 198.976246 \r\nL 303.269664 198.976246 \r\nL 303.850068 198.27667 \r\nL 304.430471 198.27667 \r\nL 306.171682 199.990515 \r\nL 306.752086 197.044585 \r\nL 307.332489 197.35421 \r\nL 308.493296 197.35421 \r\nL 310.234507 197.937136 \r\nL 314.297332 197.937136 \r\nL 314.877736 197.032718 \r\nL 316.038543 197.032718 \r\nL 316.618946 199.421222 \r\nL 318.360157 187.701765 \r\nL 320.101368 187.761061 \r\nL 320.681771 188.3474 \r\nL 322.422982 183.521824 \r\nL 323.583789 183.521824 \r\nL 324.164193 182.966698 \r\nL 324.744596 182.966698 \r\nL 326.485807 180.998374 \r\nL 327.066211 181.70765 \r\nL 327.646614 181.70765 \r\nL 328.227018 168.752469 \r\nL 328.807421 166.919284 \r\nL 330.548632 165.807242 \r\nL 331.129036 164.611286 \r\nL 331.709439 160.530451 \r\nL 332.289843 159.331348 \r\nL 332.870247 159.331348 \r\nL 334.611457 161.660691 \r\nL 335.191861 159.614463 \r\nL 335.772264 168.584001 \r\nL 336.352668 156.396885 \r\nL 336.933072 152.401899 \r\nL 339.254686 153.914254 \r\nL 343.897914 153.914254 \r\nL 344.478318 153.37518 \r\nL 346.799932 153.513264 \r\nL 347.380336 153.638395 \r\nL 348.541143 153.638395 \r\nL 349.121547 153.397407 \r\nL 350.862757 153.397407 \r\nL 351.443161 154.233027 \r\nL 358.988408 154.233027 \r\nL 359.568811 153.878854 \r\nL 361.310022 153.878854 \r\nL 363.051233 155.273781 \r\nL 364.792443 155.180997 \r\nL 365.372847 157.216821 \r\nL 369.435672 157.279103 \r\nL 371.176883 159.462481 \r\nL 371.757286 159.462481 \r\nL 372.33769 159.321147 \r\nL 373.498497 159.319576 \r\nL 375.239708 157.179145 \r\nL 375.820111 157.02649 \r\nL 376.980918 157.02649 \r\nL 377.561322 155.96816 \r\nL 379.302533 155.099749 \r\nL 379.882936 155.318508 \r\nL 381.624147 155.318508 \r\nL 383.945761 155.069145 \r\nL 384.526165 155.069145 \r\nL 387.428183 153.541071 \r\nL 388.008586 153.541071 \r\nL 389.169394 154.055664 \r\nL 391.491008 154.055664 \r\nL 392.071411 153.931892 \r\nL 393.232219 153.931892 \r\nL 393.812622 152.958871 \r\nL 395.553833 152.813577 \r\nL 396.134237 153.667393 \r\nL 399.616658 153.731127 \r\nL 400.197062 153.467466 \r\nL 400.777465 154.103029 \r\nL 401.357869 154.103029 \r\nL 401.938272 154.409668 \r\nL 404.259887 154.409668 \r\nL 404.84029 154.823733 \r\nL 405.420694 155.040961 \r\nL 408.322712 155.07671 \r\nL 408.903115 152.801763 \r\nL 409.483519 152.801763 \r\nL 410.063922 154.411103 \r\nL 411.805133 154.411103 \r\nL 412.385537 151.241503 \r\nL 412.96594 155.855249 \r\nL 413.546344 155.897299 \r\nL 414.126747 156.933803 \r\nL 415.867958 158.091495 \r\nL 416.448362 157.270773 \r\nL 417.028765 154.261251 \r\nL 417.609169 154.261251 \r\nL 418.189572 159.742169 \r\nL 419.930783 159.319524 \r\nL 420.511187 158.092548 \r\nL 422.252398 158.092548 \r\nL 423.993608 157.024004 \r\nL 425.154415 157.024004 \r\nL 425.734819 155.748569 \r\nL 426.315223 145.546659 \r\nL 428.056433 145.546659 \r\nL 428.636837 145.413828 \r\nL 430.378048 145.454033 \r\nL 432.119258 145.454033 \r\nL 432.699662 144.654498 \r\nL 433.280066 144.136627 \r\nL 434.440873 144.145218 \r\nL 436.182083 144.65809 \r\nL 436.762487 143.622252 \r\nL 440.244908 143.683594 \r\nL 440.825312 143.477655 \r\nL 441.405716 143.477655 \r\nL 446.629348 153.265343 \r\nL 450.692173 153.265343 \r\nL 452.433384 154.378211 \r\nL 454.754998 154.434687 \r\nL 456.496209 154.078478 \r\nL 458.237419 154.078478 \r\nL 458.817823 153.919535 \r\nL 461.139437 153.865228 \r\nL 461.719841 155.774771 \r\nL 462.300244 155.774771 \r\nL 462.880648 154.104973 \r\nL 464.621859 152.960239 \r\nL 465.202262 152.960239 \r\nL 465.782666 153.242945 \r\nL 466.363069 153.766416 \r\nL 466.943473 151.78296 \r\nL 468.684684 152.311866 \r\nL 469.265087 151.893821 \r\nL 469.845491 152.00763 \r\nL 470.425895 152.00763 \r\nL 471.006298 152.35428 \r\nL 472.747509 147.397671 \r\nL 473.327912 148.786912 \r\nL 473.908316 148.786912 \r\nL 474.48872 148.14445 \r\nL 475.069123 148.14445 \r\nL 476.810334 149.449136 \r\nL 477.390737 150.314252 \r\nL 477.971141 149.758025 \r\nL 478.551545 149.395125 \r\nL 479.131948 148.528492 \r\nL 480.873159 147.400081 \r\nL 481.453563 147.400081 \r\nL 482.61437 157.455936 \r\nL 483.194773 115.246022 \r\nL 484.935984 114.532393 \r\nL 486.096791 115.005619 \r\nL 486.677195 113.902192 \r\nL 487.257598 121.463479 \r\nL 488.998809 108.212033 \r\nL 489.579213 76.153308 \r\nL 490.159616 65.340368 \r\nL 490.74002 67.488668 \r\nL 491.320423 65.457996 \r\nL 493.061634 68.655535 \r\nL 493.642038 65.287056 \r\nL 494.222441 65.947481 \r\nL 494.802845 64.97954 \r\nL 497.124459 70.832707 \r\nL 497.704863 69.179375 \r\nL 498.285266 69.944834 \r\nL 498.86567 69.363132 \r\nL 499.446073 63.258284 \r\nL 501.187284 65.522593 \r\nL 501.767688 64.9055 \r\nL 502.348091 67.148405 \r\nL 502.928495 68.864854 \r\nL 503.508898 63.993169 \r\nL 505.250109 61.800845 \r\nL 505.830513 62.06462 \r\nL 506.410916 63.609703 \r\nL 506.99132 62.85775 \r\nL 507.571724 59.429299 \r\nL 509.312934 63.307951 \r\nL 509.893338 60.527215 \r\nL 510.473741 61.513855 \r\nL 511.634549 64.724275 \r\nL 513.375759 62.103177 \r\nL 513.956163 61.939684 \r\nL 514.536566 63.721541 \r\nL 515.11697 61.488849 \r\nL 515.697374 62.096303 \r\nL 517.438584 62.557175 \r\nL 518.599392 62.557175 \r\nL 523.24262 76.126221 \r\nL 523.823024 75.906695 \r\nL 525.564234 67.607318 \r\nL 526.144638 67.246646 \r\nL 526.725042 64.38762 \r\nL 527.305445 60.764998 \r\nL 527.885849 62.344809 \r\nL 529.627059 49.578503 \r\nL 530.207463 43.851993 \r\nL 530.787867 45.253488 \r\nL 531.36827 40.758727 \r\nL 531.948674 37.976281 \r\nL 533.689885 37.992285 \r\nL 534.270288 49.559306 \r\nL 534.850692 49.800969 \r\nL 535.431095 35.980085 \r\nL 536.011499 45.074995 \r\nL 537.75271 44.217732 \r\nL 538.333113 48.799678 \r\nL 538.913517 45.773825 \r\nL 539.49392 46.747613 \r\nL 540.074324 45.54184 \r\nL 541.815535 38.354387 \r\nL 542.395938 39.098544 \r\nL 542.976342 39.517493 \r\nL 543.556745 38.36038 \r\nL 544.137149 34.929834 \r\nL 545.87836 35.345503 \r\nL 546.458763 36.027289 \r\nL 547.039167 35.914028 \r\nL 547.61957 33.804545 \r\nL 548.199974 34.979379 \r\nL 550.521588 44.878035 \r\nL 551.101992 49.117683 \r\nL 551.682395 47.762739 \r\nL 552.262799 48.333386 \r\nL 554.00401 57.441383 \r\nL 554.584413 54.181956 \r\nL 555.164817 55.19144 \r\nL 555.745221 55.680023 \r\nL 556.325624 49.302567 \r\nL 558.066835 49.901547 \r\nL 558.647238 48.54494 \r\nL 559.227642 54.215422 \r\nL 559.808046 54.444164 \r\nL 560.388449 54.444164 \r\nL 562.12966 56.639411 \r\nL 562.710063 56.143185 \r\nL 563.290467 56.535548 \r\nL 563.870871 55.98591 \r\nL 564.451274 57.645609 \r\nL 567.933696 65.752532 \r\nL 568.514099 69.421724 \r\nL 572.576924 83.157285 \r\nL 574.318135 97.662595 \r\nL 574.898539 96.48023 \r\nL 575.478942 63.855829 \r\nL 576.059346 64.928397 \r\nL 576.639749 71.170931 \r\nL 578.38096 54.763028 \r\nL 578.961364 61.283602 \r\nL 578.961364 61.283602 \r\n\" style=\"fill:none;stroke:#a52a2a;stroke-linecap:square;stroke-width:1.5;\"/>\r\n   </g>\r\n   <g id=\"patch_3\">\r\n    <path d=\"M 46.325 293.25 \r\nL 46.325 21.45 \r\n\" style=\"fill:none;stroke:#000000;stroke-linecap:square;stroke-linejoin:miter;stroke-width:0.8;\"/>\r\n   </g>\r\n   <g id=\"patch_4\">\r\n    <path d=\"M 604.325 293.25 \r\nL 604.325 21.45 \r\n\" style=\"fill:none;stroke:#000000;stroke-linecap:square;stroke-linejoin:miter;stroke-width:0.8;\"/>\r\n   </g>\r\n   <g id=\"patch_5\">\r\n    <path d=\"M 46.325 293.25 \r\nL 604.325 293.25 \r\n\" style=\"fill:none;stroke:#000000;stroke-linecap:square;stroke-linejoin:miter;stroke-width:0.8;\"/>\r\n   </g>\r\n   <g id=\"patch_6\">\r\n    <path d=\"M 46.325 21.45 \r\nL 604.325 21.45 \r\n\" style=\"fill:none;stroke:#000000;stroke-linecap:square;stroke-linejoin:miter;stroke-width:0.8;\"/>\r\n   </g>\r\n   <g id=\"text_22\">\r\n    <!-- monthly roll lasso -->\r\n    <g transform=\"translate(271.325 15.45)scale(0.12 -0.12)\">\r\n     <defs>\r\n      <path d=\"M 3050 125 \r\nL 2550 125 \r\nL 2550 2150 \r\nQ 2550 2300 2500 2400 \r\nQ 2450 2500 2300 2500 \r\nQ 2125 2500 1975 2312 \r\nQ 1825 2125 1825 1825 \r\nL 1825 125 \r\nL 1325 125 \r\nL 1325 2150 \r\nQ 1325 2300 1275 2400 \r\nQ 1225 2500 1075 2500 \r\nQ 900 2500 750 2312 \r\nQ 600 2125 600 1825 \r\nL 600 125 \r\nL 100 125 \r\nL 100 2925 \r\nL 600 2925 \r\nL 600 2550 \r\nQ 725 2750 900 2862 \r\nQ 1075 2975 1275 2975 \r\nQ 1475 2975 1612 2862 \r\nQ 1750 2750 1800 2550 \r\nQ 1925 2750 2087 2862 \r\nQ 2250 2975 2450 2975 \r\nQ 2750 2975 2900 2812 \r\nQ 3050 2650 3050 2350 \r\nL 3050 125 \r\nz\r\n\" id=\"SimHei-6d\" transform=\"scale(0.015625)\"/>\r\n      <path d=\"M 2925 1525 \r\nQ 2925 875 2525 475 \r\nQ 2125 75 1575 75 \r\nQ 1025 75 625 475 \r\nQ 225 875 225 1525 \r\nQ 225 2175 625 2575 \r\nQ 1025 2975 1575 2975 \r\nQ 2125 2975 2525 2575 \r\nQ 2925 2175 2925 1525 \r\nz\r\nM 2375 1525 \r\nQ 2375 2025 2125 2275 \r\nQ 1875 2525 1575 2525 \r\nQ 1275 2525 1025 2275 \r\nQ 775 2025 775 1525 \r\nQ 775 1025 1025 775 \r\nQ 1275 525 1575 525 \r\nQ 1875 525 2125 775 \r\nQ 2375 1025 2375 1525 \r\nz\r\n\" id=\"SimHei-6f\" transform=\"scale(0.015625)\"/>\r\n      <path d=\"M 2800 125 \r\nL 2300 125 \r\nL 2300 1925 \r\nQ 2300 2225 2150 2400 \r\nQ 2000 2575 1750 2575 \r\nQ 1425 2575 1137 2237 \r\nQ 850 1900 850 1400 \r\nL 850 125 \r\nL 350 125 \r\nL 350 4400 \r\nL 850 4400 \r\nL 850 2400 \r\nQ 1050 2675 1287 2825 \r\nQ 1525 2975 1900 2975 \r\nQ 2350 2975 2575 2725 \r\nQ 2800 2475 2800 2100 \r\nL 2800 125 \r\nz\r\n\" id=\"SimHei-68\" transform=\"scale(0.015625)\"/>\r\n      <path d=\"M 2900 2925 \r\nL 1750 -100 \r\nQ 1650 -450 1450 -625 \r\nQ 1250 -800 950 -800 \r\nQ 825 -800 712 -787 \r\nQ 600 -775 500 -725 \r\nL 500 -225 \r\nQ 600 -275 700 -300 \r\nQ 800 -325 875 -325 \r\nQ 1075 -325 1150 -262 \r\nQ 1225 -200 1300 25 \r\nL 200 2925 \r\nL 750 2925 \r\nL 1550 725 \r\nL 1575 725 \r\nL 2350 2925 \r\nL 2900 2925 \r\nz\r\n\" id=\"SimHei-79\" transform=\"scale(0.015625)\"/>\r\n      <path id=\"SimHei-20\" transform=\"scale(0.015625)\"/>\r\n      <path d=\"M 2500 2425 \r\nQ 2025 2500 1700 2287 \r\nQ 1375 2075 1150 1550 \r\nL 1150 125 \r\nL 650 125 \r\nL 650 2925 \r\nL 1150 2925 \r\nL 1150 2200 \r\nQ 1375 2600 1712 2787 \r\nQ 2050 2975 2500 2975 \r\nL 2500 2425 \r\nz\r\n\" id=\"SimHei-72\" transform=\"scale(0.015625)\"/>\r\n      <path d=\"M 2750 900 \r\nQ 2750 500 2437 287 \r\nQ 2125 75 1650 75 \r\nQ 1050 75 725 312 \r\nQ 400 550 400 1000 \r\nL 900 1000 \r\nQ 900 700 1112 600 \r\nQ 1325 500 1625 500 \r\nQ 1925 500 2075 612 \r\nQ 2225 725 2225 900 \r\nQ 2225 1025 2100 1150 \r\nQ 1975 1275 1475 1350 \r\nQ 900 1425 687 1637 \r\nQ 475 1850 475 2200 \r\nQ 475 2500 762 2737 \r\nQ 1050 2975 1600 2975 \r\nQ 2100 2975 2387 2750 \r\nQ 2675 2525 2675 2150 \r\nL 2175 2150 \r\nQ 2175 2375 2012 2462 \r\nQ 1850 2550 1600 2550 \r\nQ 1275 2550 1137 2437 \r\nQ 1000 2325 1000 2175 \r\nQ 1000 2000 1125 1900 \r\nQ 1250 1800 1650 1750 \r\nQ 2300 1650 2525 1437 \r\nQ 2750 1225 2750 900 \r\nz\r\n\" id=\"SimHei-73\" transform=\"scale(0.015625)\"/>\r\n     </defs>\r\n     <use xlink:href=\"#SimHei-6d\"/>\r\n     <use x=\"50\" xlink:href=\"#SimHei-6f\"/>\r\n     <use x=\"100\" xlink:href=\"#SimHei-6e\"/>\r\n     <use x=\"150\" xlink:href=\"#SimHei-74\"/>\r\n     <use x=\"200\" xlink:href=\"#SimHei-68\"/>\r\n     <use x=\"250\" xlink:href=\"#SimHei-6c\"/>\r\n     <use x=\"300\" xlink:href=\"#SimHei-79\"/>\r\n     <use x=\"350\" xlink:href=\"#SimHei-20\"/>\r\n     <use x=\"400\" xlink:href=\"#SimHei-72\"/>\r\n     <use x=\"450\" xlink:href=\"#SimHei-6f\"/>\r\n     <use x=\"500\" xlink:href=\"#SimHei-6c\"/>\r\n     <use x=\"550\" xlink:href=\"#SimHei-6c\"/>\r\n     <use x=\"600\" xlink:href=\"#SimHei-20\"/>\r\n     <use x=\"650\" xlink:href=\"#SimHei-6c\"/>\r\n     <use x=\"700\" xlink:href=\"#SimHei-61\"/>\r\n     <use x=\"750\" xlink:href=\"#SimHei-73\"/>\r\n     <use x=\"800\" xlink:href=\"#SimHei-73\"/>\r\n     <use x=\"850\" xlink:href=\"#SimHei-6f\"/>\r\n    </g>\r\n   </g>\r\n  </g>\r\n </g>\r\n <defs>\r\n  <clipPath id=\"p720746ab64\">\r\n   <rect height=\"271.8\" width=\"558\" x=\"46.325\" y=\"21.45\"/>\r\n  </clipPath>\r\n </defs>\r\n</svg>\r\n",
      "text/plain": [
       "<Figure size 720x360 with 1 Axes>"
      ]
     },
     "metadata": {
      "needs_background": "light"
     },
     "output_type": "display_data"
    }
   ],
   "source": [
    "n_product = len(product_list)\n",
    "save_path = \"signal_result_atr\"\n",
    "strat = \"universal.lasso.002.4096\"\n",
    "start_month = 0\n",
    "end_month = sum(month_len[0] < \"2019\")-1\n",
    "all_pnl = np.array([])\n",
    "for i_test in test_range:\n",
    "    forward_len = month_len[1][i_test]\n",
    "    train_start = 0 if start_month==0 else cum_month_len[start_month-1]\n",
    "    train_end = cum_month_len[end_month]-1\n",
    "    strat_name = strat+\".\"+month_len[0][i_test]\n",
    "    train_mat = np.zeros((train_end-train_start+1, n_product))\n",
    "    test_mat = np.zeros((forward_len, n_product))\n",
    "    for i_product in range(n_product):\n",
    "        product = product_list[i_product]\n",
    "        stat_result = load(HEAD_PATH+\"\\\\\"+save_path+\"\\\\\"+product+\".\"+strat_name+\".pkl\")\n",
    "        train_stat = stat_result[\"train.stat\"]\n",
    "        test_stat = stat_result[\"test.stat\"]\n",
    "        spread = product_info[product][\"spread\"]\n",
    "        good_strat = (train_stat[\"final.result\"][\"avg.pnl\"]>1*spread) & (train_stat[\"final.result\"][\"num\"]>0)\n",
    "        train_pnl = train_stat[\"daily.ret\"].loc[:, good_strat].sum(axis=1)/sum(good_strat) \n",
    "        train_pnl[np.isnan(train_pnl)]=0\n",
    "        train_mat[:,i_product] = train_pnl\n",
    "        test_pnl = test_stat[\"daily.ret\"].loc[:, good_strat].sum(axis=1)/sum(good_strat)\n",
    "        test_pnl[np.isnan(test_pnl)]=0\n",
    "        test_mat[:,i_product] = test_pnl\n",
    "    sharpe_mat = np.apply_along_axis(sharpe, 0, train_mat)\n",
    "    sharpe_weight = zero_divide(sharpe_mat, np.sum(sharpe_mat))\n",
    "    #parity_weight = risk_parity(train_mat)\n",
    "    #diagonal_weight = risk_parity(train_mat, only_diag=True)\n",
    "    avg_test_pnl = test_mat.mean(axis=1)\n",
    "    #avg_test_pnl = np.dot(test_mat, sharpe_weight)\n",
    "    #avg_test_pnl = np.dot(test_mat, parity_weight)\n",
    "    #avg_test_pnl = np.dot(test_mat, diagonal_weight)\n",
    "    all_pnl = np.append(all_pnl, avg_test_pnl)\n",
    "    start_month = start_month+1\n",
    "    end_month = end_month+1\n",
    "plt.figure(1, figsize=(10, 5))\n",
    "plt.title(\"monthly roll lasso\")\n",
    "plt.xlabel(\"date\")\n",
    "plt.ylabel(\"pnl\")\n",
    "plt.plot(format_dates[test_sample], all_pnl.cumsum(), color=\"brown\")\n",
    "print(\"sharpe \", sharpe(all_pnl))"
   ]
  }
 ],
 "metadata": {
  "interpreter": {
   "hash": "6f5583cf1d9466b5c27e75c89cc6b383bed5736d6b16c51c8074d8690011a952"
  },
  "kernelspec": {
   "display_name": "Python 3.9.7 ('base')",
   "language": "python",
   "name": "python3"
  },
  "language_info": {
   "codemirror_mode": {
    "name": "ipython",
    "version": 3
   },
   "file_extension": ".py",
   "mimetype": "text/x-python",
   "name": "python",
   "nbconvert_exporter": "python",
   "pygments_lexer": "ipython3",
   "version": "3.9.7"
  },
  "orig_nbformat": 4
 },
 "nbformat": 4,
 "nbformat_minor": 2
}
