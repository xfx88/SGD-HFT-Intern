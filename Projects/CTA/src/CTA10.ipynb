{
 "cells": [
  {
   "cell_type": "markdown",
   "metadata": {},
   "source": [
    "## **Python for Quantitative Trading: Futures**\n",
    "### **Integrated CTA Strategies Episode 10 - Tree Models**"
   ]
  },
  {
   "cell_type": "code",
   "execution_count": 1,
   "metadata": {},
   "outputs": [
    {
     "name": "stderr",
     "output_type": "stream",
     "text": [
      "c:\\Anaconda\\lib\\site-packages\\statsmodels\\tsa\\base\\tsa_model.py:7: FutureWarning: pandas.Int64Index is deprecated and will be removed from pandas in a future version. Use pandas.Index with the appropriate dtype instead.\n",
      "  from pandas import (to_datetime, Int64Index, DatetimeIndex, Period,\n",
      "c:\\Anaconda\\lib\\site-packages\\statsmodels\\tsa\\base\\tsa_model.py:7: FutureWarning: pandas.Float64Index is deprecated and will be removed from pandas in a future version. Use pandas.Index with the appropriate dtype instead.\n",
      "  from pandas import (to_datetime, Int64Index, DatetimeIndex, Period,\n"
     ]
    }
   ],
   "source": [
    "import numpy as np\n",
    "import pandas as pd\n",
    "import math\n",
    "import gzip\n",
    "import _pickle as cPickle\n",
    "import matplotlib.pyplot as plt\n",
    "import seaborn as sns\n",
    "import statsmodels.api as sm\n",
    "from datetime import datetime\n",
    "\n",
    "import os\n",
    "from helper import *\n",
    "from stats import *\n",
    "from product_info import *\n",
    "import helper\n",
    "import stats\n",
    "import dask\n",
    "from dask import compute, delayed\n",
    "\n",
    "\n",
    "plt.rcParams['font.family'] = ['sans-serif']\n",
    "plt.rcParams['font.sans-serif'] = ['SimHei'] # 用来正常显示中文标签`\n",
    "plt.rcParams['axes.unicode_minus'] = False\n",
    "\n",
    "%config InlineBackend.figure_format = 'svg' #在notebook中可以更好的显示，svg输出是一种向量化格式，缩放网页并不会导致图片失真。这行代码似乎只用在ipynb文件中才能使用。\n",
    "\n",
    "%matplotlib inline \n",
    "\n",
    "import warnings\n",
    "warnings.filterwarnings('ignore')  # 忽略一些warnings\n",
    "\n",
    "# This allows multiple outputs from a single jupyter notebook cell:\n",
    "# from IPython.core.interactiveshell import InteractiveShell\n",
    "# InteractiveShell.ast_node_interactivity = \"all\"\n",
    "\n",
    "pd.set_option('expand_frame_repr', False)  \n",
    "pd.set_option(\"display.max_rows\", 500) \n",
    "pd.set_option('display.max_columns', None) #防止column太多中间变成省略号\n"
   ]
  },
  {
   "cell_type": "code",
   "execution_count": 2,
   "metadata": {},
   "outputs": [
    {
     "data": {
      "text/plain": [
       "<module 'stats' from 'e:\\\\My_Strategies_CTA\\\\stats.py'>"
      ]
     },
     "execution_count": 2,
     "metadata": {},
     "output_type": "execute_result"
    }
   ],
   "source": [
    "from imp import reload  \n",
    "reload(helper)\n",
    "reload(stats)"
   ]
  },
  {
   "cell_type": "code",
   "execution_count": 3,
   "metadata": {},
   "outputs": [
    {
     "data": {
      "text/plain": [
       "16"
      ]
     },
     "execution_count": 3,
     "metadata": {},
     "output_type": "execute_result"
    }
   ],
   "source": [
    "HEAD_PATH = r\"E:\\My_Strategies_CTA\" \n",
    "DATA_PATH = HEAD_PATH + \"\\\\pkl_tick\" \n",
    "NIGHT_PATH = HEAD_PATH + \"\\\\night_pkl_tick\\\\\"\n",
    "SAVE_PATH = r\"E:\\My_Strategies_CTA\"  #保存计算的因子数据的地方\n",
    "SIGNAL_PATH = r\"E:\\My_Strategies_CTA\" \n",
    "CORE_NUM = int(os.environ['NUMBER_OF_PROCESSORS'])\n",
    "CORE_NUM"
   ]
  },
  {
   "cell_type": "code",
   "execution_count": 4,
   "metadata": {},
   "outputs": [
    {
     "name": "stdout",
     "output_type": "stream",
     "text": [
      "rb\n",
      "1063 ['20170103.pkl', '20170104.pkl', '20170105.pkl', '20170106.pkl', '20170109.pkl', '20170110.pkl']\n"
     ]
    }
   ],
   "source": [
    "product_list = [\"rb\", \"hc\", \"i\", \"j\", \"jm\"]\n",
    "product = product_list[0] #随便取一个商品期货，可以更改\n",
    "print(product)\n",
    "all_dates = os.listdir(DATA_PATH + \"\\\\\" + product)\n",
    "all_dates.sort()\n",
    "n_days = len(all_dates)\n",
    "print(len(all_dates), all_dates[:6])"
   ]
  },
  {
   "cell_type": "code",
   "execution_count": 5,
   "metadata": {},
   "outputs": [],
   "source": [
    "period = 4096\n",
    "\n",
    "# train and test\n",
    "train_sample = np.array(all_dates) < \"2019\"\n",
    "test_sample = np.array(all_dates) > \"2019\"\n",
    "\n",
    "# 记录时间的字符串和时间格式\n",
    "date_str = [n[0:8] for n in all_dates]\n",
    "format_dates = np.array([pd.to_datetime(d) for d in date_str])"
   ]
  },
  {
   "cell_type": "code",
   "execution_count": 6,
   "metadata": {},
   "outputs": [],
   "source": [
    "os.makedirs(HEAD_PATH+\"\\\\all_signals\", exist_ok=True)\n",
    "dire_signal_list = [\"trade.imb\", \"total.trade.imb\", \"nr\", \"dbook\", \"range.pos\", \"price.osci\", \"ma.dif.10\", \"kdj.k\", \"kdj.j\"]\n",
    "range_signal_list = [\"\", \"range\", \"std\", \"volume.open.ratio\", \"trend.index\"]\n",
    "all_signal_list = np.array([])\n",
    "for range_signal in range_signal_list:\n",
    "    for dire_signal in dire_signal_list:\n",
    "        if len(range_signal)==0:\n",
    "            signal_name = dire_signal\n",
    "        else:\n",
    "            signal_name = dire_signal+\".\"+range_signal\n",
    "        all_signal_list = np.append(all_signal_list,signal_name)\n",
    "n_signal = len(all_signal_list)\n",
    "signal_list = [signal+\".4096\" for signal in all_signal_list]"
   ]
  },
  {
   "cell_type": "markdown",
   "metadata": {},
   "source": [
    "可以尝试的树模型：\n",
    "- 梯度提升树 Gradient Boosting Decision Tree (Classification/Regression)\n",
    "- AdaBoost\n",
    "- XGBoost\n",
    "- LightGBM\n",
    "\n",
    "需要注意，数据竞赛万金油的xgboost和lightgbm是支持gpu加速的，但是sklearn的初始设置并不支持gpu，是早期设计的问题，因为sklearn是为了研究设计的，不是为了部署设计的，而大批量的机器学习部署都会用到显卡，用到gpu，基本使用的都是支持gpu的树模型，或者基于cuDNN和CUDA开发的pytorch和tensorflow。也就是企业部署大规模机器学习的时候是不会用到sklearn的。\n",
    "\n",
    "因此，sklearn不支持gpu，那我们就只能使用cpu并行。但同样需要注意，那就是尽管我们在DecisionTreeClassifier()可以使用n_jobs参数，包括ensemble learning的BaggingClassifier()以及随机森林RandomForestClassifier()，但是对于GBDT，也就是GradientBoostingRegressor()或者GradientBoostingClassifier()是不能并行的，这个就不解释了，随机森林显然可以并行，但GBDT只能串行，因此参数里面没有n_jobs，鼠标看就能发现。因此我们只能让他串行，然后最多在GridSearchCV()中使用n_jobs，此时代表的是并行去运行cross validation，而不是并行运行模型了。"
   ]
  },
  {
   "cell_type": "code",
   "execution_count": 7,
   "metadata": {},
   "outputs": [],
   "source": [
    "# https://github.com/Laurae2/lgbdl\n",
    "# https://github.com/r-dbi/RPostgres/issues/110"
   ]
  },
  {
   "cell_type": "code",
   "execution_count": 8,
   "metadata": {},
   "outputs": [],
   "source": [
    "import sklearn.preprocessing\n",
    "from sklearn import linear_model\n",
    "from sklearn.model_selection import cross_val_score\n",
    "from sklearn.linear_model import lasso_path, LassoCV\n",
    "from sklearn.preprocessing import StandardScaler\n",
    "y_signal = \"ret.\"+str(period)+\".002\""
   ]
  },
  {
   "cell_type": "code",
   "execution_count": 9,
   "metadata": {},
   "outputs": [],
   "source": [
    "import xgboost as xgb\n",
    "import lightgbm as lgb\n",
    "import os"
   ]
  },
  {
   "cell_type": "code",
   "execution_count": 10,
   "metadata": {},
   "outputs": [],
   "source": [
    "from sklearn.ensemble import GradientBoostingRegressor\n",
    "from sklearn.model_selection import GridSearchCV"
   ]
  },
  {
   "cell_type": "code",
   "execution_count": 11,
   "metadata": {},
   "outputs": [],
   "source": [
    "ori_mat = load(HEAD_PATH+\"\\\\train_test_mat\\\\\"+product_list[0]+\".train.mat.pkl\")\n",
    "signal_names = ori_mat.columns[0:-3]\n",
    "signal_names\n",
    "col_names = ori_mat.columns"
   ]
  },
  {
   "cell_type": "code",
   "execution_count": 12,
   "metadata": {},
   "outputs": [
    {
     "name": "stdout",
     "output_type": "stream",
     "text": [
      "rb (4809, 48)\n",
      "hc (4208, 48)\n",
      "i (4393, 48)\n",
      "j (3639, 48)\n",
      "jm (3403, 48)\n"
     ]
    }
   ],
   "source": [
    "train_mat = load(HEAD_PATH+\"\\\\train_test_mat\\\\\"+product_list[0]+\".train.mat.pkl\")\n",
    "\n",
    "print(product_list[0], train_mat.shape)\n",
    "for product in product_list[1:]:\n",
    "    cur_mat = load(HEAD_PATH+\"\\\\train_test_mat\\\\\"+product+\".train.mat.pkl\")\n",
    "    cur_mat = pd.DataFrame(data=sklearn.preprocessing.scale(cur_mat, with_mean=False), columns=col_names)\n",
    "    print(product, cur_mat.shape)\n",
    "    train_mat = train_mat.append(cur_mat)"
   ]
  },
  {
   "cell_type": "code",
   "execution_count": 13,
   "metadata": {},
   "outputs": [],
   "source": [
    "train_std_mat = dict([])\n",
    "train_mat = load(HEAD_PATH+\"\\\\train_test_mat\\\\\"+product_list[0]+\".train.mat.pkl\")\n",
    "train_mat = train_mat[0:0]\n",
    "test_mat = train_mat\n",
    "for product in product_list:\n",
    "    cur_train_mat = load(HEAD_PATH+\"\\\\train_test_mat\\\\\"+product+\".train.mat.pkl\")\n",
    "    train_std_mat[product] = np.std(cur_train_mat)\n",
    "    train_mat = train_mat.append(cur_train_mat/train_std_mat[product])\n",
    "    cur_test_mat = load(HEAD_PATH+\"\\\\train_test_mat\\\\\"+product+\".test.mat.pkl\")\n",
    "    test_mat = test_mat.append(cur_test_mat/train_std_mat[product])"
   ]
  },
  {
   "cell_type": "code",
   "execution_count": 14,
   "metadata": {},
   "outputs": [
    {
     "name": "stdout",
     "output_type": "stream",
     "text": [
      "(20452, 48)\n",
      "(21169, 48)\n"
     ]
    }
   ],
   "source": [
    "print(train_mat.shape)\n",
    "print(test_mat.shape)"
   ]
  },
  {
   "cell_type": "code",
   "execution_count": 15,
   "metadata": {},
   "outputs": [],
   "source": [
    "x_train = train_mat.iloc[:, :n_signal].values\n",
    "y_train = train_mat.loc[:, y_signal].values"
   ]
  },
  {
   "cell_type": "code",
   "execution_count": 66,
   "metadata": {},
   "outputs": [],
   "source": [
    "# Model 1: Gradient Boosting Regressor\n",
    "strat = \"gbm.002.4096\"\n",
    "for product in product_list:\n",
    "    os.makedirs(HEAD_PATH +\"\\\\factor_pkl\\\\\"+product+\"\\\\\"+strat, exist_ok=True)\n",
    "\n",
    "# 如之前所说，GBDT只能串行\n",
    "gb1 = GradientBoostingRegressor(random_state=0)\n",
    "\n",
    "# 面板搜索的参数（是一个list，不是regressor的参数，注意区分）\n",
    "param_grid = {\n",
    "        'n_estimators': np.arange(10,200,10),\n",
    "        'max_depth': [3,4,5,6,7,8,9,10],\n",
    "        'learning_rate':[0.01,0.1],\n",
    "        'min_samples_leaf': [10,20], \n",
    "}"
   ]
  },
  {
   "cell_type": "code",
   "execution_count": 67,
   "metadata": {},
   "outputs": [
    {
     "name": "stdout",
     "output_type": "stream",
     "text": [
      "Wall time: 3h 38min 38s\n"
     ]
    },
    {
     "data": {
      "text/plain": [
       "GridSearchCV(cv=5, estimator=GradientBoostingRegressor(random_state=0),\n",
       "             n_jobs=-1,\n",
       "             param_grid={'learning_rate': [0.01, 0.1],\n",
       "                         'max_depth': [3, 4, 5, 6, 7, 8, 9, 10],\n",
       "                         'min_samples_leaf': [10, 20],\n",
       "                         'n_estimators': array([ 10,  20,  30,  40,  50,  60,  70,  80,  90, 100, 110, 120, 130,\n",
       "       140, 150, 160, 170, 180, 190])})"
      ]
     },
     "execution_count": 67,
     "metadata": {},
     "output_type": "execute_result"
    }
   ],
   "source": [
    "%%time\n",
    "# 并行计算cross validation（不是并行计算模型）\n",
    "gbm1 = GridSearchCV(gb1, param_grid, n_jobs=-1, cv=5)\n",
    "gbm1.fit(x_train, y_train)"
   ]
  },
  {
   "cell_type": "code",
   "execution_count": 68,
   "metadata": {},
   "outputs": [
    {
     "data": {
      "text/plain": [
       "(20452, 45)"
      ]
     },
     "execution_count": 68,
     "metadata": {},
     "output_type": "execute_result"
    }
   ],
   "source": [
    "x_train.shape"
   ]
  },
  {
   "cell_type": "code",
   "execution_count": 69,
   "metadata": {},
   "outputs": [
    {
     "name": "stdout",
     "output_type": "stream",
     "text": [
      "Gradient boosted tree regression...\n",
      "Best Params:\n",
      "{'learning_rate': 0.01, 'max_depth': 10, 'min_samples_leaf': 20, 'n_estimators': 20}\n",
      "Best CV Score:\n",
      "0.00042027853420227855\n"
     ]
    }
   ],
   "source": [
    "print('Gradient boosted tree regression...')\n",
    "print('Best Params:')\n",
    "print(gbm1.best_params_)\n",
    "print('Best CV Score:')\n",
    "print(gbm1.best_score_)\n",
    "save(gbm1, HEAD_PATH+\"\\\\processed_data\\\\gbm.002.4096.pkl\")"
   ]
  },
  {
   "cell_type": "code",
   "execution_count": 70,
   "metadata": {},
   "outputs": [],
   "source": [
    "gbm1 = load(HEAD_PATH+\"\\\\processed_data\\\\gbm.002.4096.pkl\")"
   ]
  },
  {
   "cell_type": "code",
   "execution_count": 72,
   "metadata": {},
   "outputs": [
    {
     "name": "stdout",
     "output_type": "stream",
     "text": [
      "Wall time: 3min 40s\n"
     ]
    }
   ],
   "source": [
    "%%time\n",
    "for product in product_list:\n",
    "    parLapply(CORE_NUM, all_dates, get_daily_gbm, \n",
    "          product=product, signal_list=signal_list, \n",
    "          model=gbm1, strat=strat, HEAD_PATH=HEAD_PATH, SAVE_PATH=SAVE_PATH, train_std=np.array(train_std_mat[product][:n_signal]))"
   ]
  },
  {
   "cell_type": "code",
   "execution_count": 73,
   "metadata": {},
   "outputs": [
    {
     "name": "stdout",
     "output_type": "stream",
     "text": [
      "gbm.002.4096\n"
     ]
    }
   ],
   "source": [
    "signal_name = strat\n",
    "print(strat)"
   ]
  },
  {
   "cell_type": "code",
   "execution_count": 74,
   "metadata": {},
   "outputs": [
    {
     "name": "stdout",
     "output_type": "stream",
     "text": [
      "Wall time: 11.2 s\n"
     ]
    }
   ],
   "source": [
    "%%time\n",
    "for product in product_list:\n",
    "    par_get_all_signal(strat, all_dates, product, 4096, SAVE_PATH=SAVE_PATH)"
   ]
  },
  {
   "cell_type": "code",
   "execution_count": 75,
   "metadata": {},
   "outputs": [
    {
     "name": "stdout",
     "output_type": "stream",
     "text": [
      "reverse=1\n",
      "reverse=1\n",
      "reverse=1\n",
      "reverse=1\n",
      "reverse=1\n",
      "Wall time: 11min\n"
     ]
    }
   ],
   "source": [
    "%%time\n",
    "for product in product_list:\n",
    "    spread = product_info[product][\"spread\"]\n",
    "    evaluate_signal(\"gbm.002\", np.array(all_dates), product, 2, 20, CORE_NUM, HEAD_PATH, SAVE_PATH,\n",
    "                    period=4096, split_str=\"2019\", tranct=1.1e-4, \n",
    "                    max_spread=spread+0.1, tranct_ratio=False, atr_filter=0.01, save_path=\"signal_result_atr\",reverse=1)"
   ]
  },
  {
   "cell_type": "code",
   "execution_count": 76,
   "metadata": {},
   "outputs": [
    {
     "name": "stdout",
     "output_type": "stream",
     "text": [
      "rb train sharpe  0.9090930039004619 test sharpe  0.3525413000480188\n",
      "hc train sharpe  nan test sharpe  nan\n",
      "i train sharpe  0.9248174460652135 test sharpe  -0.6667806935777165\n",
      "j train sharpe  0.6932238081386669 test sharpe  -1.3023543023001634\n",
      "jm train sharpe  1.1098182425282708 test sharpe  -1.1781797900226376\n",
      "train sharpe:  nan test sharpe:  nan\n"
     ]
    },
    {
     "data": {
      "image/svg+xml": "<?xml version=\"1.0\" encoding=\"utf-8\" standalone=\"no\"?>\r\n<!DOCTYPE svg PUBLIC \"-//W3C//DTD SVG 1.1//EN\"\r\n  \"http://www.w3.org/Graphics/SVG/1.1/DTD/svg11.dtd\">\r\n<svg height=\"327.79375pt\" version=\"1.1\" viewBox=\"0 0 616.525 327.79375\" width=\"616.525pt\" xmlns=\"http://www.w3.org/2000/svg\" xmlns:xlink=\"http://www.w3.org/1999/xlink\">\r\n <metadata>\r\n  <rdf:RDF xmlns:cc=\"http://creativecommons.org/ns#\" xmlns:dc=\"http://purl.org/dc/elements/1.1/\" xmlns:rdf=\"http://www.w3.org/1999/02/22-rdf-syntax-ns#\">\r\n   <cc:Work>\r\n    <dc:type rdf:resource=\"http://purl.org/dc/dcmitype/StillImage\"/>\r\n    <dc:date>2022-06-07T17:46:58.207121</dc:date>\r\n    <dc:format>image/svg+xml</dc:format>\r\n    <dc:creator>\r\n     <cc:Agent>\r\n      <dc:title>Matplotlib v3.4.3, https://matplotlib.org/</dc:title>\r\n     </cc:Agent>\r\n    </dc:creator>\r\n   </cc:Work>\r\n  </rdf:RDF>\r\n </metadata>\r\n <defs>\r\n  <style type=\"text/css\">*{stroke-linecap:butt;stroke-linejoin:round;}</style>\r\n </defs>\r\n <g id=\"figure_1\">\r\n  <g id=\"patch_1\">\r\n   <path d=\"M 0 327.79375 \r\nL 616.525 327.79375 \r\nL 616.525 0 \r\nL 0 0 \r\nz\r\n\" style=\"fill:none;\"/>\r\n  </g>\r\n  <g id=\"axes_1\">\r\n   <g id=\"patch_2\">\r\n    <path d=\"M 51.325 293.34375 \r\nL 609.325 293.34375 \r\nL 609.325 21.54375 \r\nL 51.325 21.54375 \r\nz\r\n\" style=\"fill:#ffffff;\"/>\r\n   </g>\r\n   <g id=\"matplotlib.axis_1\">\r\n    <g id=\"xtick_1\">\r\n     <g id=\"line2d_1\">\r\n      <defs>\r\n       <path d=\"M 0 0 \r\nL 0 3.5 \r\n\" id=\"m824b2ee432\" style=\"stroke:#000000;stroke-width:0.8;\"/>\r\n      </defs>\r\n      <g>\r\n       <use style=\"stroke:#000000;stroke-width:0.8;\" x=\"76.688636\" xlink:href=\"#m824b2ee432\" y=\"293.34375\"/>\r\n      </g>\r\n     </g>\r\n     <g id=\"text_1\">\r\n      <!-- 2000 -->\r\n      <g transform=\"translate(66.688636 307.21875)scale(0.1 -0.1)\">\r\n       <defs>\r\n        <path d=\"M 300 250 \r\nQ 325 625 650 925 \r\nQ 975 1225 1475 1862 \r\nQ 1975 2500 2125 2850 \r\nQ 2275 3200 2237 3450 \r\nQ 2200 3700 2000 3862 \r\nQ 1800 4025 1537 4000 \r\nQ 1275 3975 1037 3800 \r\nQ 800 3625 675 3275 \r\nL 200 3350 \r\nQ 400 3925 712 4187 \r\nQ 1025 4450 1450 4475 \r\nQ 1700 4500 1900 4462 \r\nQ 2100 4425 2312 4287 \r\nQ 2525 4150 2662 3875 \r\nQ 2800 3600 2762 3212 \r\nQ 2725 2825 2375 2287 \r\nQ 2025 1750 1025 600 \r\nL 2825 600 \r\nL 2825 150 \r\nL 300 150 \r\nL 300 250 \r\nz\r\n\" id=\"SimHei-32\" transform=\"scale(0.015625)\"/>\r\n        <path d=\"M 225 2537 \r\nQ 250 3200 412 3587 \r\nQ 575 3975 875 4225 \r\nQ 1175 4475 1612 4475 \r\nQ 2050 4475 2375 4112 \r\nQ 2700 3750 2800 3200 \r\nQ 2900 2650 2862 1937 \r\nQ 2825 1225 2612 775 \r\nQ 2400 325 1975 150 \r\nQ 1550 -25 1125 187 \r\nQ 700 400 525 750 \r\nQ 350 1100 275 1487 \r\nQ 200 1875 225 2537 \r\nz\r\nM 750 2687 \r\nQ 675 2000 800 1462 \r\nQ 925 925 1212 700 \r\nQ 1500 475 1800 612 \r\nQ 2100 750 2237 1162 \r\nQ 2375 1575 2375 2062 \r\nQ 2375 2550 2337 2950 \r\nQ 2300 3350 2112 3675 \r\nQ 1925 4000 1612 4012 \r\nQ 1300 4025 1062 3700 \r\nQ 825 3375 750 2687 \r\nz\r\n\" id=\"SimHei-30\" transform=\"scale(0.015625)\"/>\r\n       </defs>\r\n       <use xlink:href=\"#SimHei-32\"/>\r\n       <use x=\"50\" xlink:href=\"#SimHei-30\"/>\r\n       <use x=\"100\" xlink:href=\"#SimHei-30\"/>\r\n       <use x=\"150\" xlink:href=\"#SimHei-30\"/>\r\n      </g>\r\n     </g>\r\n    </g>\r\n    <g id=\"xtick_2\">\r\n     <g id=\"line2d_2\">\r\n      <g>\r\n       <use style=\"stroke:#000000;stroke-width:0.8;\" x=\"178.198728\" xlink:href=\"#m824b2ee432\" y=\"293.34375\"/>\r\n      </g>\r\n     </g>\r\n     <g id=\"text_2\">\r\n      <!-- 2002 -->\r\n      <g transform=\"translate(168.198728 307.21875)scale(0.1 -0.1)\">\r\n       <use xlink:href=\"#SimHei-32\"/>\r\n       <use x=\"50\" xlink:href=\"#SimHei-30\"/>\r\n       <use x=\"100\" xlink:href=\"#SimHei-30\"/>\r\n       <use x=\"150\" xlink:href=\"#SimHei-32\"/>\r\n      </g>\r\n     </g>\r\n    </g>\r\n    <g id=\"xtick_3\">\r\n     <g id=\"line2d_3\">\r\n      <g>\r\n       <use style=\"stroke:#000000;stroke-width:0.8;\" x=\"279.569954\" xlink:href=\"#m824b2ee432\" y=\"293.34375\"/>\r\n      </g>\r\n     </g>\r\n     <g id=\"text_3\">\r\n      <!-- 2004 -->\r\n      <g transform=\"translate(269.569954 307.21875)scale(0.1 -0.1)\">\r\n       <defs>\r\n        <path d=\"M 2000 1100 \r\nL 75 1100 \r\nL 75 1525 \r\nL 2100 4450 \r\nL 2475 4450 \r\nL 2475 1525 \r\nL 3075 1525 \r\nL 3075 1100 \r\nL 2475 1100 \r\nL 2475 150 \r\nL 2000 150 \r\nL 2000 1100 \r\nz\r\nM 2000 1525 \r\nL 2000 3500 \r\nL 600 1525 \r\nL 2000 1525 \r\nz\r\n\" id=\"SimHei-34\" transform=\"scale(0.015625)\"/>\r\n       </defs>\r\n       <use xlink:href=\"#SimHei-32\"/>\r\n       <use x=\"50\" xlink:href=\"#SimHei-30\"/>\r\n       <use x=\"100\" xlink:href=\"#SimHei-30\"/>\r\n       <use x=\"150\" xlink:href=\"#SimHei-34\"/>\r\n      </g>\r\n     </g>\r\n    </g>\r\n    <g id=\"xtick_4\">\r\n     <g id=\"line2d_4\">\r\n      <g>\r\n       <use style=\"stroke:#000000;stroke-width:0.8;\" x=\"381.080046\" xlink:href=\"#m824b2ee432\" y=\"293.34375\"/>\r\n      </g>\r\n     </g>\r\n     <g id=\"text_4\">\r\n      <!-- 2006 -->\r\n      <g transform=\"translate(371.080046 307.21875)scale(0.1 -0.1)\">\r\n       <defs>\r\n        <path d=\"M 250 1612 \r\nQ 275 1975 387 2225 \r\nQ 500 2475 725 2850 \r\nL 1750 4450 \r\nL 2325 4450 \r\nL 1275 2800 \r\nQ 1950 2975 2350 2750 \r\nQ 2750 2525 2887 2237 \r\nQ 3025 1950 3037 1612 \r\nQ 3050 1275 2937 950 \r\nQ 2825 625 2537 362 \r\nQ 2250 100 1737 75 \r\nQ 1225 50 862 262 \r\nQ 500 475 362 862 \r\nQ 225 1250 250 1612 \r\nz\r\nM 1025 787 \r\nQ 1250 550 1625 525 \r\nQ 2000 500 2250 775 \r\nQ 2500 1050 2500 1575 \r\nQ 2500 2100 2187 2300 \r\nQ 1875 2500 1487 2450 \r\nQ 1100 2400 925 2075 \r\nQ 750 1750 775 1387 \r\nQ 800 1025 1025 787 \r\nz\r\n\" id=\"SimHei-36\" transform=\"scale(0.015625)\"/>\r\n       </defs>\r\n       <use xlink:href=\"#SimHei-32\"/>\r\n       <use x=\"50\" xlink:href=\"#SimHei-30\"/>\r\n       <use x=\"100\" xlink:href=\"#SimHei-30\"/>\r\n       <use x=\"150\" xlink:href=\"#SimHei-36\"/>\r\n      </g>\r\n     </g>\r\n    </g>\r\n    <g id=\"xtick_5\">\r\n     <g id=\"line2d_5\">\r\n      <g>\r\n       <use style=\"stroke:#000000;stroke-width:0.8;\" x=\"482.451272\" xlink:href=\"#m824b2ee432\" y=\"293.34375\"/>\r\n      </g>\r\n     </g>\r\n     <g id=\"text_5\">\r\n      <!-- 2008 -->\r\n      <g transform=\"translate(472.451272 307.21875)scale(0.1 -0.1)\">\r\n       <defs>\r\n        <path d=\"M 175 1375 \r\nQ 175 1675 325 1962 \r\nQ 475 2250 825 2425 \r\nQ 525 2600 425 2812 \r\nQ 325 3025 312 3300 \r\nQ 300 3575 387 3775 \r\nQ 475 3975 650 4150 \r\nQ 825 4325 1037 4387 \r\nQ 1250 4450 1500 4450 \r\nQ 1750 4450 1950 4400 \r\nQ 2150 4350 2375 4187 \r\nQ 2600 4025 2700 3725 \r\nQ 2800 3425 2687 3025 \r\nQ 2575 2625 2100 2400 \r\nQ 2525 2275 2700 2012 \r\nQ 2875 1750 2875 1375 \r\nQ 2875 1000 2762 775 \r\nQ 2650 550 2512 400 \r\nQ 2375 250 2137 162 \r\nQ 1900 75 1537 75 \r\nQ 1175 75 912 162 \r\nQ 650 250 475 425 \r\nQ 300 600 237 837 \r\nQ 175 1075 175 1375 \r\nz\r\nM 687 1400 \r\nQ 675 1100 787 875 \r\nQ 900 650 1200 587 \r\nQ 1500 525 1825 600 \r\nQ 2150 675 2275 950 \r\nQ 2400 1225 2362 1500 \r\nQ 2325 1775 2050 1962 \r\nQ 1775 2150 1450 2125 \r\nQ 1125 2100 912 1900 \r\nQ 700 1700 687 1400 \r\nz\r\nM 775 3350 \r\nQ 775 3100 950 2875 \r\nQ 1125 2650 1500 2650 \r\nQ 1875 2650 2062 2875 \r\nQ 2250 3100 2237 3412 \r\nQ 2225 3725 2012 3875 \r\nQ 1800 4025 1437 4000 \r\nQ 1075 3975 925 3787 \r\nQ 775 3600 775 3350 \r\nz\r\n\" id=\"SimHei-38\" transform=\"scale(0.015625)\"/>\r\n       </defs>\r\n       <use xlink:href=\"#SimHei-32\"/>\r\n       <use x=\"50\" xlink:href=\"#SimHei-30\"/>\r\n       <use x=\"100\" xlink:href=\"#SimHei-30\"/>\r\n       <use x=\"150\" xlink:href=\"#SimHei-38\"/>\r\n      </g>\r\n     </g>\r\n    </g>\r\n    <g id=\"xtick_6\">\r\n     <g id=\"line2d_6\">\r\n      <g>\r\n       <use style=\"stroke:#000000;stroke-width:0.8;\" x=\"583.961364\" xlink:href=\"#m824b2ee432\" y=\"293.34375\"/>\r\n      </g>\r\n     </g>\r\n     <g id=\"text_6\">\r\n      <!-- 2010 -->\r\n      <g transform=\"translate(573.961364 307.21875)scale(0.1 -0.1)\">\r\n       <defs>\r\n        <path d=\"M 1400 3600 \r\nQ 1075 3275 575 2975 \r\nL 575 3450 \r\nQ 1200 3875 1600 4450 \r\nL 1900 4450 \r\nL 1900 150 \r\nL 1400 150 \r\nL 1400 3600 \r\nz\r\n\" id=\"SimHei-31\" transform=\"scale(0.015625)\"/>\r\n       </defs>\r\n       <use xlink:href=\"#SimHei-32\"/>\r\n       <use x=\"50\" xlink:href=\"#SimHei-30\"/>\r\n       <use x=\"100\" xlink:href=\"#SimHei-31\"/>\r\n       <use x=\"150\" xlink:href=\"#SimHei-30\"/>\r\n      </g>\r\n     </g>\r\n    </g>\r\n    <g id=\"text_7\">\r\n     <!-- date -->\r\n     <g transform=\"translate(320.325 319.34375)scale(0.1 -0.1)\">\r\n      <defs>\r\n       <path d=\"M 2750 125 \r\nL 2250 125 \r\nL 2250 500 \r\nQ 2100 275 1900 175 \r\nQ 1700 75 1425 75 \r\nQ 925 75 575 437 \r\nQ 225 800 225 1525 \r\nQ 225 2250 575 2625 \r\nQ 925 3000 1425 3000 \r\nQ 1700 3000 1900 2887 \r\nQ 2100 2775 2250 2550 \r\nL 2250 4400 \r\nL 2750 4400 \r\nL 2750 125 \r\nz\r\nM 2250 1525 \r\nQ 2250 2000 2037 2275 \r\nQ 1825 2550 1525 2550 \r\nQ 1150 2550 962 2275 \r\nQ 775 2000 775 1525 \r\nQ 775 1050 962 787 \r\nQ 1150 525 1525 525 \r\nQ 1825 525 2037 787 \r\nQ 2250 1050 2250 1525 \r\nz\r\n\" id=\"SimHei-64\" transform=\"scale(0.015625)\"/>\r\n       <path d=\"M 2875 125 \r\nL 2275 125 \r\nQ 2225 175 2200 262 \r\nQ 2175 350 2175 475 \r\nQ 2000 275 1750 175 \r\nQ 1500 75 1225 75 \r\nQ 825 75 550 275 \r\nQ 275 475 275 850 \r\nQ 275 1225 525 1450 \r\nQ 775 1675 1300 1750 \r\nQ 1650 1800 1912 1875 \r\nQ 2175 1950 2175 2075 \r\nQ 2175 2225 2062 2375 \r\nQ 1950 2525 1575 2525 \r\nQ 1275 2525 1137 2412 \r\nQ 1000 2300 950 2100 \r\nL 400 2100 \r\nQ 450 2500 762 2737 \r\nQ 1075 2975 1575 2975 \r\nQ 2125 2975 2400 2725 \r\nQ 2675 2475 2675 2025 \r\nL 2675 650 \r\nQ 2675 500 2725 375 \r\nQ 2775 250 2875 125 \r\nz\r\nM 2175 1050 \r\nL 2175 1550 \r\nQ 2025 1500 1887 1462 \r\nQ 1750 1425 1425 1375 \r\nQ 1050 1325 937 1200 \r\nQ 825 1075 825 900 \r\nQ 825 750 937 637 \r\nQ 1050 525 1275 525 \r\nQ 1500 525 1762 650 \r\nQ 2025 775 2175 1050 \r\nz\r\n\" id=\"SimHei-61\" transform=\"scale(0.015625)\"/>\r\n       <path d=\"M 2750 200 \r\nQ 2625 150 2462 112 \r\nQ 2300 75 2025 75 \r\nQ 1575 75 1300 325 \r\nQ 1025 575 1025 1025 \r\nL 1025 2525 \r\nL 175 2525 \r\nL 175 2925 \r\nL 1025 2925 \r\nL 1025 3900 \r\nL 1525 3900 \r\nL 1525 2925 \r\nL 2550 2925 \r\nL 2550 2525 \r\nL 1525 2525 \r\nL 1525 1000 \r\nQ 1525 800 1625 662 \r\nQ 1725 525 2000 525 \r\nQ 2275 525 2450 575 \r\nQ 2625 625 2750 700 \r\nL 2750 200 \r\nz\r\n\" id=\"SimHei-74\" transform=\"scale(0.015625)\"/>\r\n       <path d=\"M 2850 1075 \r\nQ 2800 625 2450 350 \r\nQ 2100 75 1625 75 \r\nQ 1025 75 637 462 \r\nQ 250 850 250 1525 \r\nQ 250 2200 637 2587 \r\nQ 1025 2975 1625 2975 \r\nQ 2150 2975 2487 2637 \r\nQ 2825 2300 2825 1525 \r\nL 800 1525 \r\nQ 800 975 1037 750 \r\nQ 1275 525 1625 525 \r\nQ 1900 525 2075 662 \r\nQ 2250 800 2300 1075 \r\nL 2850 1075 \r\nz\r\nM 2250 1925 \r\nQ 2200 2275 2025 2412 \r\nQ 1850 2550 1575 2550 \r\nQ 1325 2550 1125 2412 \r\nQ 925 2275 825 1925 \r\nL 2250 1925 \r\nz\r\n\" id=\"SimHei-65\" transform=\"scale(0.015625)\"/>\r\n      </defs>\r\n      <use xlink:href=\"#SimHei-64\"/>\r\n      <use x=\"50\" xlink:href=\"#SimHei-61\"/>\r\n      <use x=\"100\" xlink:href=\"#SimHei-74\"/>\r\n      <use x=\"150\" xlink:href=\"#SimHei-65\"/>\r\n     </g>\r\n    </g>\r\n   </g>\r\n   <g id=\"matplotlib.axis_2\">\r\n    <g id=\"ytick_1\">\r\n     <g id=\"line2d_7\">\r\n      <defs>\r\n       <path d=\"M 0 0 \r\nL -3.5 0 \r\n\" id=\"m8dc8238c7b\" style=\"stroke:#000000;stroke-width:0.8;\"/>\r\n      </defs>\r\n      <g>\r\n       <use style=\"stroke:#000000;stroke-width:0.8;\" x=\"51.325\" xlink:href=\"#m8dc8238c7b\" y=\"256.280114\"/>\r\n      </g>\r\n     </g>\r\n     <g id=\"text_8\">\r\n      <!-- -0.04 -->\r\n      <g transform=\"translate(19.325 259.717614)scale(0.1 -0.1)\">\r\n       <defs>\r\n        <path d=\"M 2975 2125 \r\nL 125 2125 \r\nL 125 2525 \r\nL 2975 2525 \r\nL 2975 2125 \r\nz\r\n\" id=\"SimHei-2d\" transform=\"scale(0.015625)\"/>\r\n        <path d=\"M 1075 125 \r\nL 500 125 \r\nL 500 675 \r\nL 1075 675 \r\nL 1075 125 \r\nz\r\n\" id=\"SimHei-2e\" transform=\"scale(0.015625)\"/>\r\n       </defs>\r\n       <use xlink:href=\"#SimHei-2d\"/>\r\n       <use x=\"50\" xlink:href=\"#SimHei-30\"/>\r\n       <use x=\"100\" xlink:href=\"#SimHei-2e\"/>\r\n       <use x=\"150\" xlink:href=\"#SimHei-30\"/>\r\n       <use x=\"200\" xlink:href=\"#SimHei-34\"/>\r\n      </g>\r\n     </g>\r\n    </g>\r\n    <g id=\"ytick_2\">\r\n     <g id=\"line2d_8\">\r\n      <g>\r\n       <use style=\"stroke:#000000;stroke-width:0.8;\" x=\"51.325\" xlink:href=\"#m8dc8238c7b\" y=\"206.861932\"/>\r\n      </g>\r\n     </g>\r\n     <g id=\"text_9\">\r\n      <!-- -0.02 -->\r\n      <g transform=\"translate(19.325 210.299432)scale(0.1 -0.1)\">\r\n       <use xlink:href=\"#SimHei-2d\"/>\r\n       <use x=\"50\" xlink:href=\"#SimHei-30\"/>\r\n       <use x=\"100\" xlink:href=\"#SimHei-2e\"/>\r\n       <use x=\"150\" xlink:href=\"#SimHei-30\"/>\r\n       <use x=\"200\" xlink:href=\"#SimHei-32\"/>\r\n      </g>\r\n     </g>\r\n    </g>\r\n    <g id=\"ytick_3\">\r\n     <g id=\"line2d_9\">\r\n      <g>\r\n       <use style=\"stroke:#000000;stroke-width:0.8;\" x=\"51.325\" xlink:href=\"#m8dc8238c7b\" y=\"157.44375\"/>\r\n      </g>\r\n     </g>\r\n     <g id=\"text_10\">\r\n      <!-- 0.00 -->\r\n      <g transform=\"translate(24.325 160.88125)scale(0.1 -0.1)\">\r\n       <use xlink:href=\"#SimHei-30\"/>\r\n       <use x=\"50\" xlink:href=\"#SimHei-2e\"/>\r\n       <use x=\"100\" xlink:href=\"#SimHei-30\"/>\r\n       <use x=\"150\" xlink:href=\"#SimHei-30\"/>\r\n      </g>\r\n     </g>\r\n    </g>\r\n    <g id=\"ytick_4\">\r\n     <g id=\"line2d_10\">\r\n      <g>\r\n       <use style=\"stroke:#000000;stroke-width:0.8;\" x=\"51.325\" xlink:href=\"#m8dc8238c7b\" y=\"108.025568\"/>\r\n      </g>\r\n     </g>\r\n     <g id=\"text_11\">\r\n      <!-- 0.02 -->\r\n      <g transform=\"translate(24.325 111.463068)scale(0.1 -0.1)\">\r\n       <use xlink:href=\"#SimHei-30\"/>\r\n       <use x=\"50\" xlink:href=\"#SimHei-2e\"/>\r\n       <use x=\"100\" xlink:href=\"#SimHei-30\"/>\r\n       <use x=\"150\" xlink:href=\"#SimHei-32\"/>\r\n      </g>\r\n     </g>\r\n    </g>\r\n    <g id=\"ytick_5\">\r\n     <g id=\"line2d_11\">\r\n      <g>\r\n       <use style=\"stroke:#000000;stroke-width:0.8;\" x=\"51.325\" xlink:href=\"#m8dc8238c7b\" y=\"58.607386\"/>\r\n      </g>\r\n     </g>\r\n     <g id=\"text_12\">\r\n      <!-- 0.04 -->\r\n      <g transform=\"translate(24.325 62.044886)scale(0.1 -0.1)\">\r\n       <use xlink:href=\"#SimHei-30\"/>\r\n       <use x=\"50\" xlink:href=\"#SimHei-2e\"/>\r\n       <use x=\"100\" xlink:href=\"#SimHei-30\"/>\r\n       <use x=\"150\" xlink:href=\"#SimHei-34\"/>\r\n      </g>\r\n     </g>\r\n    </g>\r\n    <g id=\"text_13\">\r\n     <!-- pnl -->\r\n     <g transform=\"translate(14.075 164.94375)rotate(-90)scale(0.1 -0.1)\">\r\n      <defs>\r\n       <path d=\"M 2825 1525 \r\nQ 2825 800 2475 425 \r\nQ 2125 50 1625 50 \r\nQ 1350 50 1150 162 \r\nQ 950 275 800 500 \r\nL 800 -800 \r\nL 300 -800 \r\nL 300 2925 \r\nL 800 2925 \r\nL 800 2550 \r\nQ 950 2775 1150 2875 \r\nQ 1350 2975 1625 2975 \r\nQ 2125 2975 2475 2612 \r\nQ 2825 2250 2825 1525 \r\nz\r\nM 2275 1525 \r\nQ 2275 2000 2087 2262 \r\nQ 1900 2525 1525 2525 \r\nQ 1225 2525 1012 2262 \r\nQ 800 2000 800 1525 \r\nQ 800 1050 1012 775 \r\nQ 1225 500 1525 500 \r\nQ 1900 500 2087 775 \r\nQ 2275 1050 2275 1525 \r\nz\r\n\" id=\"SimHei-70\" transform=\"scale(0.015625)\"/>\r\n       <path d=\"M 2800 125 \r\nL 2300 125 \r\nL 2300 1925 \r\nQ 2300 2225 2150 2400 \r\nQ 2000 2575 1750 2575 \r\nQ 1425 2575 1137 2237 \r\nQ 850 1900 850 1400 \r\nL 850 125 \r\nL 350 125 \r\nL 350 2925 \r\nL 850 2925 \r\nL 850 2400 \r\nQ 1050 2675 1287 2825 \r\nQ 1525 2975 1900 2975 \r\nQ 2350 2975 2575 2725 \r\nQ 2800 2475 2800 2100 \r\nL 2800 125 \r\nz\r\n\" id=\"SimHei-6e\" transform=\"scale(0.015625)\"/>\r\n       <path d=\"M 1825 125 \r\nL 1325 125 \r\nL 1325 4400 \r\nL 1825 4400 \r\nL 1825 125 \r\nz\r\n\" id=\"SimHei-6c\" transform=\"scale(0.015625)\"/>\r\n      </defs>\r\n      <use xlink:href=\"#SimHei-70\"/>\r\n      <use x=\"50\" xlink:href=\"#SimHei-6e\"/>\r\n      <use x=\"100\" xlink:href=\"#SimHei-6c\"/>\r\n     </g>\r\n    </g>\r\n   </g>\r\n   <g id=\"line2d_12\">\r\n    <path clip-path=\"url(#p61b773b768)\" style=\"fill:none;stroke:#0000ff;stroke-linecap:square;stroke-width:1.5;\"/>\r\n   </g>\r\n   <g id=\"line2d_13\">\r\n    <path clip-path=\"url(#p61b773b768)\" d=\"M 0 0 \r\n\" style=\"fill:none;stroke:#ff0000;stroke-linecap:square;stroke-width:1.5;\"/>\r\n   </g>\r\n   <g id=\"patch_3\">\r\n    <path d=\"M 51.325 293.34375 \r\nL 51.325 21.54375 \r\n\" style=\"fill:none;stroke:#000000;stroke-linecap:square;stroke-linejoin:miter;stroke-width:0.8;\"/>\r\n   </g>\r\n   <g id=\"patch_4\">\r\n    <path d=\"M 609.325 293.34375 \r\nL 609.325 21.54375 \r\n\" style=\"fill:none;stroke:#000000;stroke-linecap:square;stroke-linejoin:miter;stroke-width:0.8;\"/>\r\n   </g>\r\n   <g id=\"patch_5\">\r\n    <path d=\"M 51.325 293.34375 \r\nL 609.325 293.34375 \r\n\" style=\"fill:none;stroke:#000000;stroke-linecap:square;stroke-linejoin:miter;stroke-width:0.8;\"/>\r\n   </g>\r\n   <g id=\"patch_6\">\r\n    <path d=\"M 51.325 21.54375 \r\nL 609.325 21.54375 \r\n\" style=\"fill:none;stroke:#000000;stroke-linecap:square;stroke-linejoin:miter;stroke-width:0.8;\"/>\r\n   </g>\r\n   <g id=\"text_14\">\r\n    <!-- portfolio -->\r\n    <g transform=\"translate(303.325 15.54375)scale(0.12 -0.12)\">\r\n     <defs>\r\n      <path d=\"M 2925 1525 \r\nQ 2925 875 2525 475 \r\nQ 2125 75 1575 75 \r\nQ 1025 75 625 475 \r\nQ 225 875 225 1525 \r\nQ 225 2175 625 2575 \r\nQ 1025 2975 1575 2975 \r\nQ 2125 2975 2525 2575 \r\nQ 2925 2175 2925 1525 \r\nz\r\nM 2375 1525 \r\nQ 2375 2025 2125 2275 \r\nQ 1875 2525 1575 2525 \r\nQ 1275 2525 1025 2275 \r\nQ 775 2025 775 1525 \r\nQ 775 1025 1025 775 \r\nQ 1275 525 1575 525 \r\nQ 1875 525 2125 775 \r\nQ 2375 1025 2375 1525 \r\nz\r\n\" id=\"SimHei-6f\" transform=\"scale(0.015625)\"/>\r\n      <path d=\"M 2500 2425 \r\nQ 2025 2500 1700 2287 \r\nQ 1375 2075 1150 1550 \r\nL 1150 125 \r\nL 650 125 \r\nL 650 2925 \r\nL 1150 2925 \r\nL 1150 2200 \r\nQ 1375 2600 1712 2787 \r\nQ 2050 2975 2500 2975 \r\nL 2500 2425 \r\nz\r\n\" id=\"SimHei-72\" transform=\"scale(0.015625)\"/>\r\n      <path d=\"M 2850 3825 \r\nQ 2725 3900 2550 3950 \r\nQ 2375 4000 2100 4000 \r\nQ 1825 4000 1725 3862 \r\nQ 1625 3725 1625 3525 \r\nL 1625 2925 \r\nL 2650 2925 \r\nL 2650 2525 \r\nL 1625 2525 \r\nL 1625 125 \r\nL 1125 125 \r\nL 1125 2525 \r\nL 275 2525 \r\nL 275 2925 \r\nL 1125 2925 \r\nL 1125 3500 \r\nQ 1125 3950 1400 4200 \r\nQ 1675 4450 2125 4450 \r\nQ 2400 4450 2562 4412 \r\nQ 2725 4375 2850 4325 \r\nL 2850 3825 \r\nz\r\n\" id=\"SimHei-66\" transform=\"scale(0.015625)\"/>\r\n      <path d=\"M 1800 3725 \r\nL 1300 3725 \r\nL 1300 4375 \r\nL 1800 4375 \r\nL 1800 3725 \r\nz\r\nM 1800 125 \r\nL 1300 125 \r\nL 1300 2925 \r\nL 1800 2925 \r\nL 1800 125 \r\nz\r\n\" id=\"SimHei-69\" transform=\"scale(0.015625)\"/>\r\n     </defs>\r\n     <use xlink:href=\"#SimHei-70\"/>\r\n     <use x=\"50\" xlink:href=\"#SimHei-6f\"/>\r\n     <use x=\"100\" xlink:href=\"#SimHei-72\"/>\r\n     <use x=\"150\" xlink:href=\"#SimHei-74\"/>\r\n     <use x=\"200\" xlink:href=\"#SimHei-66\"/>\r\n     <use x=\"250\" xlink:href=\"#SimHei-6f\"/>\r\n     <use x=\"300\" xlink:href=\"#SimHei-6c\"/>\r\n     <use x=\"350\" xlink:href=\"#SimHei-69\"/>\r\n     <use x=\"400\" xlink:href=\"#SimHei-6f\"/>\r\n    </g>\r\n   </g>\r\n  </g>\r\n </g>\r\n <defs>\r\n  <clipPath id=\"p61b773b768\">\r\n   <rect height=\"271.8\" width=\"558\" x=\"51.325\" y=\"21.54375\"/>\r\n  </clipPath>\r\n </defs>\r\n</svg>\r\n",
      "text/plain": [
       "<Figure size 720x360 with 1 Axes>"
      ]
     },
     "metadata": {
      "needs_background": "light"
     },
     "output_type": "display_data"
    }
   ],
   "source": [
    "i = 0\n",
    "strat = \"gbm.002.4096\"\n",
    "test_all_pnl = np.zeros([sum(test_sample), len(product_list)])\n",
    "train_all_pnl = np.zeros([sum(train_sample), len(product_list)])\n",
    "min_pnl = 2\n",
    "min_num = 10\n",
    "for product in product_list:\n",
    "    spread = product_info[product][\"spread\"]\n",
    "    signal_stat = load(HEAD_PATH+\"\\\\signal_result_atr\\\\\"+product+\".\"+strat+\".trend.pkl\")\n",
    "    train_stat = signal_stat[\"train.stat\"]\n",
    "    good_strat = (train_stat[\"final.result\"][\"avg.pnl\"]>min_pnl*spread) & (train_stat[\"final.result\"][\"num\"]>min_num)\n",
    "    train_pnl = train_stat[\"daily.ret\"].loc[:, good_strat].sum(axis=1)/sum(good_strat)\n",
    "    test_stat = signal_stat[\"test.stat\"]\n",
    "    test_pnl = test_stat[\"daily.ret\"].loc[:, good_strat].sum(axis=1)/sum(good_strat)\n",
    "    print(product, \"train sharpe \", sharpe(train_pnl), \"test sharpe \", sharpe(test_pnl))\n",
    "    test_all_pnl[:,i] = test_pnl\n",
    "    train_all_pnl[:,i] = train_pnl\n",
    "    i = i+1\n",
    "train_portfolio = np.array(np.mean(train_all_pnl, axis=1))\n",
    "test_portfolio = np.array(np.mean(test_all_pnl, axis=1))\n",
    "all_portfolio = np.append(train_portfolio, test_portfolio)\n",
    "plt.figure(1, figsize=(10, 5))\n",
    "plt.title(\"\")\n",
    "plt.xlabel(\"date\")\n",
    "plt.ylabel(\"pnl\")\n",
    "plt.title(\"portfolio\")\n",
    "plt.plot(format_dates, all_portfolio.cumsum(), color=\"b\")\n",
    "plt.plot(format_dates[test_sample], all_portfolio.cumsum()[test_sample], color=\"r\")\n",
    "print(\"train sharpe: \", sharpe(train_portfolio), \"test sharpe: \", sharpe(test_portfolio))"
   ]
  },
  {
   "cell_type": "code",
   "execution_count": 15,
   "metadata": {},
   "outputs": [
    {
     "name": "stdout",
     "output_type": "stream",
     "text": [
      "[22:02:41] WARNING: C:/Users/Administrator/workspace/xgboost-win64_release_1.5.1/src/learner.cc:576: \n",
      "Parameters: { \"min_samples_leaf\" } might not be used.\n",
      "\n",
      "  This could be a false alarm, with some parameters getting used by language bindings but\n",
      "  then being mistakenly passed down to XGBoost core, or some parameter actually being used\n",
      "  but getting flagged wrongly here. Please open an issue if you find any such cases.\n",
      "\n",
      "\n",
      "Wall time: 25min 7s\n"
     ]
    },
    {
     "data": {
      "text/plain": [
       "GridSearchCV(cv=5,\n",
       "             estimator=XGBRegressor(base_score=None, booster=None,\n",
       "                                    colsample_bylevel=None,\n",
       "                                    colsample_bynode=None,\n",
       "                                    colsample_bytree=None,\n",
       "                                    enable_categorical=False, gamma=None,\n",
       "                                    gpu_id=None, importance_type=None,\n",
       "                                    interaction_constraints=None,\n",
       "                                    learning_rate=0.1, max_delta_step=None,\n",
       "                                    max_depth=None, min_child_weight=None,\n",
       "                                    min_samples_leaf=[10, 20], missing=nan,\n",
       "                                    mon...100,\n",
       "                                    n_jobs=-1, num_parallel_tree=None,\n",
       "                                    predictor=None, random_state=None,\n",
       "                                    reg_alpha=None, reg_lambda=None,\n",
       "                                    scale_pos_weight=None, seed=100,\n",
       "                                    subsample=None, tree_method=None,\n",
       "                                    validate_parameters=None, verbosity=None),\n",
       "             n_jobs=-1,\n",
       "             param_grid={'max_depth': [3, 4, 5, 6, 7, 8, 9, 10],\n",
       "                         'n_estimators': array([ 10,  20,  30,  40,  50,  60,  70,  80,  90, 100, 110, 120, 130,\n",
       "       140, 150, 160, 170, 180, 190])})"
      ]
     },
     "execution_count": 15,
     "metadata": {},
     "output_type": "execute_result"
    }
   ],
   "source": [
    "%%time\n",
    "import xgboost as xgb\n",
    "\n",
    "# xgboost regressor的固定参数\n",
    "# GPU加速\n",
    "ind_params = {'learning_rate': 0.1,\n",
    "              \"min_samples_leaf\":[10,20],\n",
    "              'seed':100, \n",
    "              'objective': 'reg:squarederror',\n",
    "              'n_jobs':-1,\n",
    "              # 'gpu_id': 0,\n",
    "              # 'tree_method': 'gpu_hist',\n",
    "              }\n",
    "              \n",
    "xgb_reg = xgb.XGBRegressor(**ind_params)\n",
    "\n",
    "# 面板搜索的参数（是一个list，不是模型的参数，注意区分）\n",
    "cv_params = {'max_depth': [3,4,5,6,7,8,9,10], \n",
    "             'n_estimators': np.arange(10,200,10)}\n",
    "\n",
    "# 并行计算cross validation（不是模型）\n",
    "xgb_cv = GridSearchCV(xgb_reg, \n",
    "                        cv_params, \n",
    "                        cv = 5, n_jobs=-1) \n",
    "xgb_cv.fit(x_train, y_train)"
   ]
  },
  {
   "cell_type": "code",
   "execution_count": 16,
   "metadata": {},
   "outputs": [
    {
     "data": {
      "text/plain": [
       "{'max_depth': 3, 'n_estimators': 40}"
      ]
     },
     "execution_count": 16,
     "metadata": {},
     "output_type": "execute_result"
    }
   ],
   "source": [
    "#best_parameters, score, _ = max(xgb_cv.grid_scorer, key=lambda x: x[1])\n",
    "xgb_cv.best_params_"
   ]
  },
  {
   "cell_type": "code",
   "execution_count": 19,
   "metadata": {},
   "outputs": [],
   "source": [
    "strat = \"xgb.002.4096\"\n",
    "signal_name = strat"
   ]
  },
  {
   "cell_type": "code",
   "execution_count": 18,
   "metadata": {},
   "outputs": [
    {
     "name": "stdout",
     "output_type": "stream",
     "text": [
      "XGBoost regression...\n",
      "Best Params:\n",
      "{'max_depth': 3, 'n_estimators': 40}\n",
      "Best CV Score:\n",
      "-0.00015512104031425444\n"
     ]
    }
   ],
   "source": [
    "print('XGBoost regression...')\n",
    "print('Best Params:')\n",
    "print(xgb_cv.best_params_)\n",
    "print('Best CV Score:')\n",
    "print(xgb_cv.best_score_)\n",
    "save(xgb_cv, HEAD_PATH+\"\\\\processed_data\\\\xgb.002.4096.pkl\")"
   ]
  },
  {
   "cell_type": "code",
   "execution_count": 16,
   "metadata": {},
   "outputs": [],
   "source": [
    "xgb_cv = load(HEAD_PATH+\"\\\\processed_data\\\\xgb.002.4096.pkl\")"
   ]
  },
  {
   "cell_type": "code",
   "execution_count": 20,
   "metadata": {},
   "outputs": [],
   "source": [
    "for product in product_list:\n",
    "    os.makedirs(SAVE_PATH+\"\\\\factor_pkl\\\\\"+product+\"\\\\\"+strat, exist_ok=True)"
   ]
  },
  {
   "cell_type": "code",
   "execution_count": 21,
   "metadata": {},
   "outputs": [
    {
     "name": "stdout",
     "output_type": "stream",
     "text": [
      "Wall time: 5min 21s\n"
     ]
    }
   ],
   "source": [
    "%%time\n",
    "# 这段代码极其难跑，要发掘一下原因！如果先fit了xgb，再跑这段代码就会爆出“[WinError 1455] 页面文件太小，无法完成操作”的错误，网上查说是因为内存又不够了，我TM？什么情况。\n",
    "# 我现在都是先跑完xgb之后模型存储了，然后重新打开ipynb释放内存之后再load模型跑下面的TMD\n",
    "# 32G内存怎么都没见过超过16G过？难道那16个G用不了？是因为conda下载的时候使用的就只能是主机的16G内存吗？还是说我应该更改什么缓存地址从C盘搞到D盘？我不理解啊。\n",
    "# 而且xgb的代码如果是用gpu跑的话，竟然跑到了45min爆了个memoryerror，是因为GPU的4个G的显存用完了吗？？而且为什么用GPU反而更慢？并行都只用25min！\n",
    "# 真的不理解，这个电脑的内存究竟出了什么问题，以至于一个树模型都跑不了？或者连这个5min的parLapply都跑不了？我不理解啊，是加装内存的问题吗？还有GPU是个什么情况？\n",
    "for product in product_list:\n",
    "    parLapply(CORE_NUM, all_dates, get_daily_gbm, \n",
    "          product=product, signal_list=signal_list, \n",
    "          model=xgb_cv, strat=strat, HEAD_PATH=HEAD_PATH, SAVE_PATH=SAVE_PATH, train_std=np.array(train_std_mat[product][:n_signal]))"
   ]
  },
  {
   "cell_type": "code",
   "execution_count": 22,
   "metadata": {},
   "outputs": [
    {
     "name": "stdout",
     "output_type": "stream",
     "text": [
      "Wall time: 8.68 s\n"
     ]
    }
   ],
   "source": [
    "%%time\n",
    "for product in product_list:\n",
    "    par_get_all_signal(strat, all_dates, product, 4096, SAVE_PATH=SAVE_PATH)"
   ]
  },
  {
   "cell_type": "code",
   "execution_count": 23,
   "metadata": {},
   "outputs": [
    {
     "name": "stdout",
     "output_type": "stream",
     "text": [
      "reverse=1\n",
      "reverse=1\n",
      "reverse=1\n",
      "reverse=1\n",
      "reverse=1\n",
      "Wall time: 10min 50s\n"
     ]
    }
   ],
   "source": [
    "%%time\n",
    "for product in product_list:\n",
    "    spread = product_info[product][\"spread\"]\n",
    "    evaluate_signal(\"xgb.002\", np.array(all_dates), product, 2, 20, CORE_NUM, HEAD_PATH, SAVE_PATH,\n",
    "                    period=4096, split_str=\"2019\", tranct=1.1e-4, \n",
    "                    max_spread=spread*1.1, tranct_ratio=True, atr_filter=0.01, save_path=\"signal_result_atr\",reverse=1)"
   ]
  },
  {
   "cell_type": "code",
   "execution_count": 24,
   "metadata": {},
   "outputs": [
    {
     "name": "stdout",
     "output_type": "stream",
     "text": [
      "rb train sharpe  1.148297635177163 test sharpe  0.3828818213336004\n",
      "hc train sharpe  1.239211222338061 test sharpe  1.0880700588742038\n",
      "i train sharpe  nan test sharpe  nan\n",
      "j train sharpe  0.4197782485438399 test sharpe  -0.8189461086366651\n",
      "jm train sharpe  1.354017438414298 test sharpe  0.31298478985498807\n",
      "train sharpe:  nan test sharpe:  nan\n"
     ]
    },
    {
     "data": {
      "image/svg+xml": "<?xml version=\"1.0\" encoding=\"utf-8\" standalone=\"no\"?>\r\n<!DOCTYPE svg PUBLIC \"-//W3C//DTD SVG 1.1//EN\"\r\n  \"http://www.w3.org/Graphics/SVG/1.1/DTD/svg11.dtd\">\r\n<svg height=\"327.79375pt\" version=\"1.1\" viewBox=\"0 0 616.525 327.79375\" width=\"616.525pt\" xmlns=\"http://www.w3.org/2000/svg\" xmlns:xlink=\"http://www.w3.org/1999/xlink\">\r\n <metadata>\r\n  <rdf:RDF xmlns:cc=\"http://creativecommons.org/ns#\" xmlns:dc=\"http://purl.org/dc/elements/1.1/\" xmlns:rdf=\"http://www.w3.org/1999/02/22-rdf-syntax-ns#\">\r\n   <cc:Work>\r\n    <dc:type rdf:resource=\"http://purl.org/dc/dcmitype/StillImage\"/>\r\n    <dc:date>2022-06-07T22:42:50.841838</dc:date>\r\n    <dc:format>image/svg+xml</dc:format>\r\n    <dc:creator>\r\n     <cc:Agent>\r\n      <dc:title>Matplotlib v3.4.3, https://matplotlib.org/</dc:title>\r\n     </cc:Agent>\r\n    </dc:creator>\r\n   </cc:Work>\r\n  </rdf:RDF>\r\n </metadata>\r\n <defs>\r\n  <style type=\"text/css\">*{stroke-linecap:butt;stroke-linejoin:round;}</style>\r\n </defs>\r\n <g id=\"figure_1\">\r\n  <g id=\"patch_1\">\r\n   <path d=\"M 0 327.79375 \r\nL 616.525 327.79375 \r\nL 616.525 0 \r\nL 0 0 \r\nz\r\n\" style=\"fill:none;\"/>\r\n  </g>\r\n  <g id=\"axes_1\">\r\n   <g id=\"patch_2\">\r\n    <path d=\"M 51.325 293.34375 \r\nL 609.325 293.34375 \r\nL 609.325 21.54375 \r\nL 51.325 21.54375 \r\nz\r\n\" style=\"fill:#ffffff;\"/>\r\n   </g>\r\n   <g id=\"matplotlib.axis_1\">\r\n    <g id=\"xtick_1\">\r\n     <g id=\"line2d_1\">\r\n      <defs>\r\n       <path d=\"M 0 0 \r\nL 0 3.5 \r\n\" id=\"m012fde26e4\" style=\"stroke:#000000;stroke-width:0.8;\"/>\r\n      </defs>\r\n      <g>\r\n       <use style=\"stroke:#000000;stroke-width:0.8;\" x=\"76.688636\" xlink:href=\"#m012fde26e4\" y=\"293.34375\"/>\r\n      </g>\r\n     </g>\r\n     <g id=\"text_1\">\r\n      <!-- 2000 -->\r\n      <g transform=\"translate(66.688636 307.21875)scale(0.1 -0.1)\">\r\n       <defs>\r\n        <path d=\"M 300 250 \r\nQ 325 625 650 925 \r\nQ 975 1225 1475 1862 \r\nQ 1975 2500 2125 2850 \r\nQ 2275 3200 2237 3450 \r\nQ 2200 3700 2000 3862 \r\nQ 1800 4025 1537 4000 \r\nQ 1275 3975 1037 3800 \r\nQ 800 3625 675 3275 \r\nL 200 3350 \r\nQ 400 3925 712 4187 \r\nQ 1025 4450 1450 4475 \r\nQ 1700 4500 1900 4462 \r\nQ 2100 4425 2312 4287 \r\nQ 2525 4150 2662 3875 \r\nQ 2800 3600 2762 3212 \r\nQ 2725 2825 2375 2287 \r\nQ 2025 1750 1025 600 \r\nL 2825 600 \r\nL 2825 150 \r\nL 300 150 \r\nL 300 250 \r\nz\r\n\" id=\"SimHei-32\" transform=\"scale(0.015625)\"/>\r\n        <path d=\"M 225 2537 \r\nQ 250 3200 412 3587 \r\nQ 575 3975 875 4225 \r\nQ 1175 4475 1612 4475 \r\nQ 2050 4475 2375 4112 \r\nQ 2700 3750 2800 3200 \r\nQ 2900 2650 2862 1937 \r\nQ 2825 1225 2612 775 \r\nQ 2400 325 1975 150 \r\nQ 1550 -25 1125 187 \r\nQ 700 400 525 750 \r\nQ 350 1100 275 1487 \r\nQ 200 1875 225 2537 \r\nz\r\nM 750 2687 \r\nQ 675 2000 800 1462 \r\nQ 925 925 1212 700 \r\nQ 1500 475 1800 612 \r\nQ 2100 750 2237 1162 \r\nQ 2375 1575 2375 2062 \r\nQ 2375 2550 2337 2950 \r\nQ 2300 3350 2112 3675 \r\nQ 1925 4000 1612 4012 \r\nQ 1300 4025 1062 3700 \r\nQ 825 3375 750 2687 \r\nz\r\n\" id=\"SimHei-30\" transform=\"scale(0.015625)\"/>\r\n       </defs>\r\n       <use xlink:href=\"#SimHei-32\"/>\r\n       <use x=\"50\" xlink:href=\"#SimHei-30\"/>\r\n       <use x=\"100\" xlink:href=\"#SimHei-30\"/>\r\n       <use x=\"150\" xlink:href=\"#SimHei-30\"/>\r\n      </g>\r\n     </g>\r\n    </g>\r\n    <g id=\"xtick_2\">\r\n     <g id=\"line2d_2\">\r\n      <g>\r\n       <use style=\"stroke:#000000;stroke-width:0.8;\" x=\"178.198728\" xlink:href=\"#m012fde26e4\" y=\"293.34375\"/>\r\n      </g>\r\n     </g>\r\n     <g id=\"text_2\">\r\n      <!-- 2002 -->\r\n      <g transform=\"translate(168.198728 307.21875)scale(0.1 -0.1)\">\r\n       <use xlink:href=\"#SimHei-32\"/>\r\n       <use x=\"50\" xlink:href=\"#SimHei-30\"/>\r\n       <use x=\"100\" xlink:href=\"#SimHei-30\"/>\r\n       <use x=\"150\" xlink:href=\"#SimHei-32\"/>\r\n      </g>\r\n     </g>\r\n    </g>\r\n    <g id=\"xtick_3\">\r\n     <g id=\"line2d_3\">\r\n      <g>\r\n       <use style=\"stroke:#000000;stroke-width:0.8;\" x=\"279.569954\" xlink:href=\"#m012fde26e4\" y=\"293.34375\"/>\r\n      </g>\r\n     </g>\r\n     <g id=\"text_3\">\r\n      <!-- 2004 -->\r\n      <g transform=\"translate(269.569954 307.21875)scale(0.1 -0.1)\">\r\n       <defs>\r\n        <path d=\"M 2000 1100 \r\nL 75 1100 \r\nL 75 1525 \r\nL 2100 4450 \r\nL 2475 4450 \r\nL 2475 1525 \r\nL 3075 1525 \r\nL 3075 1100 \r\nL 2475 1100 \r\nL 2475 150 \r\nL 2000 150 \r\nL 2000 1100 \r\nz\r\nM 2000 1525 \r\nL 2000 3500 \r\nL 600 1525 \r\nL 2000 1525 \r\nz\r\n\" id=\"SimHei-34\" transform=\"scale(0.015625)\"/>\r\n       </defs>\r\n       <use xlink:href=\"#SimHei-32\"/>\r\n       <use x=\"50\" xlink:href=\"#SimHei-30\"/>\r\n       <use x=\"100\" xlink:href=\"#SimHei-30\"/>\r\n       <use x=\"150\" xlink:href=\"#SimHei-34\"/>\r\n      </g>\r\n     </g>\r\n    </g>\r\n    <g id=\"xtick_4\">\r\n     <g id=\"line2d_4\">\r\n      <g>\r\n       <use style=\"stroke:#000000;stroke-width:0.8;\" x=\"381.080046\" xlink:href=\"#m012fde26e4\" y=\"293.34375\"/>\r\n      </g>\r\n     </g>\r\n     <g id=\"text_4\">\r\n      <!-- 2006 -->\r\n      <g transform=\"translate(371.080046 307.21875)scale(0.1 -0.1)\">\r\n       <defs>\r\n        <path d=\"M 250 1612 \r\nQ 275 1975 387 2225 \r\nQ 500 2475 725 2850 \r\nL 1750 4450 \r\nL 2325 4450 \r\nL 1275 2800 \r\nQ 1950 2975 2350 2750 \r\nQ 2750 2525 2887 2237 \r\nQ 3025 1950 3037 1612 \r\nQ 3050 1275 2937 950 \r\nQ 2825 625 2537 362 \r\nQ 2250 100 1737 75 \r\nQ 1225 50 862 262 \r\nQ 500 475 362 862 \r\nQ 225 1250 250 1612 \r\nz\r\nM 1025 787 \r\nQ 1250 550 1625 525 \r\nQ 2000 500 2250 775 \r\nQ 2500 1050 2500 1575 \r\nQ 2500 2100 2187 2300 \r\nQ 1875 2500 1487 2450 \r\nQ 1100 2400 925 2075 \r\nQ 750 1750 775 1387 \r\nQ 800 1025 1025 787 \r\nz\r\n\" id=\"SimHei-36\" transform=\"scale(0.015625)\"/>\r\n       </defs>\r\n       <use xlink:href=\"#SimHei-32\"/>\r\n       <use x=\"50\" xlink:href=\"#SimHei-30\"/>\r\n       <use x=\"100\" xlink:href=\"#SimHei-30\"/>\r\n       <use x=\"150\" xlink:href=\"#SimHei-36\"/>\r\n      </g>\r\n     </g>\r\n    </g>\r\n    <g id=\"xtick_5\">\r\n     <g id=\"line2d_5\">\r\n      <g>\r\n       <use style=\"stroke:#000000;stroke-width:0.8;\" x=\"482.451272\" xlink:href=\"#m012fde26e4\" y=\"293.34375\"/>\r\n      </g>\r\n     </g>\r\n     <g id=\"text_5\">\r\n      <!-- 2008 -->\r\n      <g transform=\"translate(472.451272 307.21875)scale(0.1 -0.1)\">\r\n       <defs>\r\n        <path d=\"M 175 1375 \r\nQ 175 1675 325 1962 \r\nQ 475 2250 825 2425 \r\nQ 525 2600 425 2812 \r\nQ 325 3025 312 3300 \r\nQ 300 3575 387 3775 \r\nQ 475 3975 650 4150 \r\nQ 825 4325 1037 4387 \r\nQ 1250 4450 1500 4450 \r\nQ 1750 4450 1950 4400 \r\nQ 2150 4350 2375 4187 \r\nQ 2600 4025 2700 3725 \r\nQ 2800 3425 2687 3025 \r\nQ 2575 2625 2100 2400 \r\nQ 2525 2275 2700 2012 \r\nQ 2875 1750 2875 1375 \r\nQ 2875 1000 2762 775 \r\nQ 2650 550 2512 400 \r\nQ 2375 250 2137 162 \r\nQ 1900 75 1537 75 \r\nQ 1175 75 912 162 \r\nQ 650 250 475 425 \r\nQ 300 600 237 837 \r\nQ 175 1075 175 1375 \r\nz\r\nM 687 1400 \r\nQ 675 1100 787 875 \r\nQ 900 650 1200 587 \r\nQ 1500 525 1825 600 \r\nQ 2150 675 2275 950 \r\nQ 2400 1225 2362 1500 \r\nQ 2325 1775 2050 1962 \r\nQ 1775 2150 1450 2125 \r\nQ 1125 2100 912 1900 \r\nQ 700 1700 687 1400 \r\nz\r\nM 775 3350 \r\nQ 775 3100 950 2875 \r\nQ 1125 2650 1500 2650 \r\nQ 1875 2650 2062 2875 \r\nQ 2250 3100 2237 3412 \r\nQ 2225 3725 2012 3875 \r\nQ 1800 4025 1437 4000 \r\nQ 1075 3975 925 3787 \r\nQ 775 3600 775 3350 \r\nz\r\n\" id=\"SimHei-38\" transform=\"scale(0.015625)\"/>\r\n       </defs>\r\n       <use xlink:href=\"#SimHei-32\"/>\r\n       <use x=\"50\" xlink:href=\"#SimHei-30\"/>\r\n       <use x=\"100\" xlink:href=\"#SimHei-30\"/>\r\n       <use x=\"150\" xlink:href=\"#SimHei-38\"/>\r\n      </g>\r\n     </g>\r\n    </g>\r\n    <g id=\"xtick_6\">\r\n     <g id=\"line2d_6\">\r\n      <g>\r\n       <use style=\"stroke:#000000;stroke-width:0.8;\" x=\"583.961364\" xlink:href=\"#m012fde26e4\" y=\"293.34375\"/>\r\n      </g>\r\n     </g>\r\n     <g id=\"text_6\">\r\n      <!-- 2010 -->\r\n      <g transform=\"translate(573.961364 307.21875)scale(0.1 -0.1)\">\r\n       <defs>\r\n        <path d=\"M 1400 3600 \r\nQ 1075 3275 575 2975 \r\nL 575 3450 \r\nQ 1200 3875 1600 4450 \r\nL 1900 4450 \r\nL 1900 150 \r\nL 1400 150 \r\nL 1400 3600 \r\nz\r\n\" id=\"SimHei-31\" transform=\"scale(0.015625)\"/>\r\n       </defs>\r\n       <use xlink:href=\"#SimHei-32\"/>\r\n       <use x=\"50\" xlink:href=\"#SimHei-30\"/>\r\n       <use x=\"100\" xlink:href=\"#SimHei-31\"/>\r\n       <use x=\"150\" xlink:href=\"#SimHei-30\"/>\r\n      </g>\r\n     </g>\r\n    </g>\r\n    <g id=\"text_7\">\r\n     <!-- date -->\r\n     <g transform=\"translate(320.325 319.34375)scale(0.1 -0.1)\">\r\n      <defs>\r\n       <path d=\"M 2750 125 \r\nL 2250 125 \r\nL 2250 500 \r\nQ 2100 275 1900 175 \r\nQ 1700 75 1425 75 \r\nQ 925 75 575 437 \r\nQ 225 800 225 1525 \r\nQ 225 2250 575 2625 \r\nQ 925 3000 1425 3000 \r\nQ 1700 3000 1900 2887 \r\nQ 2100 2775 2250 2550 \r\nL 2250 4400 \r\nL 2750 4400 \r\nL 2750 125 \r\nz\r\nM 2250 1525 \r\nQ 2250 2000 2037 2275 \r\nQ 1825 2550 1525 2550 \r\nQ 1150 2550 962 2275 \r\nQ 775 2000 775 1525 \r\nQ 775 1050 962 787 \r\nQ 1150 525 1525 525 \r\nQ 1825 525 2037 787 \r\nQ 2250 1050 2250 1525 \r\nz\r\n\" id=\"SimHei-64\" transform=\"scale(0.015625)\"/>\r\n       <path d=\"M 2875 125 \r\nL 2275 125 \r\nQ 2225 175 2200 262 \r\nQ 2175 350 2175 475 \r\nQ 2000 275 1750 175 \r\nQ 1500 75 1225 75 \r\nQ 825 75 550 275 \r\nQ 275 475 275 850 \r\nQ 275 1225 525 1450 \r\nQ 775 1675 1300 1750 \r\nQ 1650 1800 1912 1875 \r\nQ 2175 1950 2175 2075 \r\nQ 2175 2225 2062 2375 \r\nQ 1950 2525 1575 2525 \r\nQ 1275 2525 1137 2412 \r\nQ 1000 2300 950 2100 \r\nL 400 2100 \r\nQ 450 2500 762 2737 \r\nQ 1075 2975 1575 2975 \r\nQ 2125 2975 2400 2725 \r\nQ 2675 2475 2675 2025 \r\nL 2675 650 \r\nQ 2675 500 2725 375 \r\nQ 2775 250 2875 125 \r\nz\r\nM 2175 1050 \r\nL 2175 1550 \r\nQ 2025 1500 1887 1462 \r\nQ 1750 1425 1425 1375 \r\nQ 1050 1325 937 1200 \r\nQ 825 1075 825 900 \r\nQ 825 750 937 637 \r\nQ 1050 525 1275 525 \r\nQ 1500 525 1762 650 \r\nQ 2025 775 2175 1050 \r\nz\r\n\" id=\"SimHei-61\" transform=\"scale(0.015625)\"/>\r\n       <path d=\"M 2750 200 \r\nQ 2625 150 2462 112 \r\nQ 2300 75 2025 75 \r\nQ 1575 75 1300 325 \r\nQ 1025 575 1025 1025 \r\nL 1025 2525 \r\nL 175 2525 \r\nL 175 2925 \r\nL 1025 2925 \r\nL 1025 3900 \r\nL 1525 3900 \r\nL 1525 2925 \r\nL 2550 2925 \r\nL 2550 2525 \r\nL 1525 2525 \r\nL 1525 1000 \r\nQ 1525 800 1625 662 \r\nQ 1725 525 2000 525 \r\nQ 2275 525 2450 575 \r\nQ 2625 625 2750 700 \r\nL 2750 200 \r\nz\r\n\" id=\"SimHei-74\" transform=\"scale(0.015625)\"/>\r\n       <path d=\"M 2850 1075 \r\nQ 2800 625 2450 350 \r\nQ 2100 75 1625 75 \r\nQ 1025 75 637 462 \r\nQ 250 850 250 1525 \r\nQ 250 2200 637 2587 \r\nQ 1025 2975 1625 2975 \r\nQ 2150 2975 2487 2637 \r\nQ 2825 2300 2825 1525 \r\nL 800 1525 \r\nQ 800 975 1037 750 \r\nQ 1275 525 1625 525 \r\nQ 1900 525 2075 662 \r\nQ 2250 800 2300 1075 \r\nL 2850 1075 \r\nz\r\nM 2250 1925 \r\nQ 2200 2275 2025 2412 \r\nQ 1850 2550 1575 2550 \r\nQ 1325 2550 1125 2412 \r\nQ 925 2275 825 1925 \r\nL 2250 1925 \r\nz\r\n\" id=\"SimHei-65\" transform=\"scale(0.015625)\"/>\r\n      </defs>\r\n      <use xlink:href=\"#SimHei-64\"/>\r\n      <use x=\"50\" xlink:href=\"#SimHei-61\"/>\r\n      <use x=\"100\" xlink:href=\"#SimHei-74\"/>\r\n      <use x=\"150\" xlink:href=\"#SimHei-65\"/>\r\n     </g>\r\n    </g>\r\n   </g>\r\n   <g id=\"matplotlib.axis_2\">\r\n    <g id=\"ytick_1\">\r\n     <g id=\"line2d_7\">\r\n      <defs>\r\n       <path d=\"M 0 0 \r\nL -3.5 0 \r\n\" id=\"m6c2e8f101d\" style=\"stroke:#000000;stroke-width:0.8;\"/>\r\n      </defs>\r\n      <g>\r\n       <use style=\"stroke:#000000;stroke-width:0.8;\" x=\"51.325\" xlink:href=\"#m6c2e8f101d\" y=\"256.280114\"/>\r\n      </g>\r\n     </g>\r\n     <g id=\"text_8\">\r\n      <!-- -0.04 -->\r\n      <g transform=\"translate(19.325 259.717614)scale(0.1 -0.1)\">\r\n       <defs>\r\n        <path d=\"M 2975 2125 \r\nL 125 2125 \r\nL 125 2525 \r\nL 2975 2525 \r\nL 2975 2125 \r\nz\r\n\" id=\"SimHei-2d\" transform=\"scale(0.015625)\"/>\r\n        <path d=\"M 1075 125 \r\nL 500 125 \r\nL 500 675 \r\nL 1075 675 \r\nL 1075 125 \r\nz\r\n\" id=\"SimHei-2e\" transform=\"scale(0.015625)\"/>\r\n       </defs>\r\n       <use xlink:href=\"#SimHei-2d\"/>\r\n       <use x=\"50\" xlink:href=\"#SimHei-30\"/>\r\n       <use x=\"100\" xlink:href=\"#SimHei-2e\"/>\r\n       <use x=\"150\" xlink:href=\"#SimHei-30\"/>\r\n       <use x=\"200\" xlink:href=\"#SimHei-34\"/>\r\n      </g>\r\n     </g>\r\n    </g>\r\n    <g id=\"ytick_2\">\r\n     <g id=\"line2d_8\">\r\n      <g>\r\n       <use style=\"stroke:#000000;stroke-width:0.8;\" x=\"51.325\" xlink:href=\"#m6c2e8f101d\" y=\"206.861932\"/>\r\n      </g>\r\n     </g>\r\n     <g id=\"text_9\">\r\n      <!-- -0.02 -->\r\n      <g transform=\"translate(19.325 210.299432)scale(0.1 -0.1)\">\r\n       <use xlink:href=\"#SimHei-2d\"/>\r\n       <use x=\"50\" xlink:href=\"#SimHei-30\"/>\r\n       <use x=\"100\" xlink:href=\"#SimHei-2e\"/>\r\n       <use x=\"150\" xlink:href=\"#SimHei-30\"/>\r\n       <use x=\"200\" xlink:href=\"#SimHei-32\"/>\r\n      </g>\r\n     </g>\r\n    </g>\r\n    <g id=\"ytick_3\">\r\n     <g id=\"line2d_9\">\r\n      <g>\r\n       <use style=\"stroke:#000000;stroke-width:0.8;\" x=\"51.325\" xlink:href=\"#m6c2e8f101d\" y=\"157.44375\"/>\r\n      </g>\r\n     </g>\r\n     <g id=\"text_10\">\r\n      <!-- 0.00 -->\r\n      <g transform=\"translate(24.325 160.88125)scale(0.1 -0.1)\">\r\n       <use xlink:href=\"#SimHei-30\"/>\r\n       <use x=\"50\" xlink:href=\"#SimHei-2e\"/>\r\n       <use x=\"100\" xlink:href=\"#SimHei-30\"/>\r\n       <use x=\"150\" xlink:href=\"#SimHei-30\"/>\r\n      </g>\r\n     </g>\r\n    </g>\r\n    <g id=\"ytick_4\">\r\n     <g id=\"line2d_10\">\r\n      <g>\r\n       <use style=\"stroke:#000000;stroke-width:0.8;\" x=\"51.325\" xlink:href=\"#m6c2e8f101d\" y=\"108.025568\"/>\r\n      </g>\r\n     </g>\r\n     <g id=\"text_11\">\r\n      <!-- 0.02 -->\r\n      <g transform=\"translate(24.325 111.463068)scale(0.1 -0.1)\">\r\n       <use xlink:href=\"#SimHei-30\"/>\r\n       <use x=\"50\" xlink:href=\"#SimHei-2e\"/>\r\n       <use x=\"100\" xlink:href=\"#SimHei-30\"/>\r\n       <use x=\"150\" xlink:href=\"#SimHei-32\"/>\r\n      </g>\r\n     </g>\r\n    </g>\r\n    <g id=\"ytick_5\">\r\n     <g id=\"line2d_11\">\r\n      <g>\r\n       <use style=\"stroke:#000000;stroke-width:0.8;\" x=\"51.325\" xlink:href=\"#m6c2e8f101d\" y=\"58.607386\"/>\r\n      </g>\r\n     </g>\r\n     <g id=\"text_12\">\r\n      <!-- 0.04 -->\r\n      <g transform=\"translate(24.325 62.044886)scale(0.1 -0.1)\">\r\n       <use xlink:href=\"#SimHei-30\"/>\r\n       <use x=\"50\" xlink:href=\"#SimHei-2e\"/>\r\n       <use x=\"100\" xlink:href=\"#SimHei-30\"/>\r\n       <use x=\"150\" xlink:href=\"#SimHei-34\"/>\r\n      </g>\r\n     </g>\r\n    </g>\r\n    <g id=\"text_13\">\r\n     <!-- pnl -->\r\n     <g transform=\"translate(14.075 164.94375)rotate(-90)scale(0.1 -0.1)\">\r\n      <defs>\r\n       <path d=\"M 2825 1525 \r\nQ 2825 800 2475 425 \r\nQ 2125 50 1625 50 \r\nQ 1350 50 1150 162 \r\nQ 950 275 800 500 \r\nL 800 -800 \r\nL 300 -800 \r\nL 300 2925 \r\nL 800 2925 \r\nL 800 2550 \r\nQ 950 2775 1150 2875 \r\nQ 1350 2975 1625 2975 \r\nQ 2125 2975 2475 2612 \r\nQ 2825 2250 2825 1525 \r\nz\r\nM 2275 1525 \r\nQ 2275 2000 2087 2262 \r\nQ 1900 2525 1525 2525 \r\nQ 1225 2525 1012 2262 \r\nQ 800 2000 800 1525 \r\nQ 800 1050 1012 775 \r\nQ 1225 500 1525 500 \r\nQ 1900 500 2087 775 \r\nQ 2275 1050 2275 1525 \r\nz\r\n\" id=\"SimHei-70\" transform=\"scale(0.015625)\"/>\r\n       <path d=\"M 2800 125 \r\nL 2300 125 \r\nL 2300 1925 \r\nQ 2300 2225 2150 2400 \r\nQ 2000 2575 1750 2575 \r\nQ 1425 2575 1137 2237 \r\nQ 850 1900 850 1400 \r\nL 850 125 \r\nL 350 125 \r\nL 350 2925 \r\nL 850 2925 \r\nL 850 2400 \r\nQ 1050 2675 1287 2825 \r\nQ 1525 2975 1900 2975 \r\nQ 2350 2975 2575 2725 \r\nQ 2800 2475 2800 2100 \r\nL 2800 125 \r\nz\r\n\" id=\"SimHei-6e\" transform=\"scale(0.015625)\"/>\r\n       <path d=\"M 1825 125 \r\nL 1325 125 \r\nL 1325 4400 \r\nL 1825 4400 \r\nL 1825 125 \r\nz\r\n\" id=\"SimHei-6c\" transform=\"scale(0.015625)\"/>\r\n      </defs>\r\n      <use xlink:href=\"#SimHei-70\"/>\r\n      <use x=\"50\" xlink:href=\"#SimHei-6e\"/>\r\n      <use x=\"100\" xlink:href=\"#SimHei-6c\"/>\r\n     </g>\r\n    </g>\r\n   </g>\r\n   <g id=\"line2d_12\">\r\n    <path clip-path=\"url(#p249c05baac)\" style=\"fill:none;stroke:#0000ff;stroke-linecap:square;stroke-width:1.5;\"/>\r\n   </g>\r\n   <g id=\"line2d_13\">\r\n    <path clip-path=\"url(#p249c05baac)\" d=\"M 0 0 \r\n\" style=\"fill:none;stroke:#ff0000;stroke-linecap:square;stroke-width:1.5;\"/>\r\n   </g>\r\n   <g id=\"patch_3\">\r\n    <path d=\"M 51.325 293.34375 \r\nL 51.325 21.54375 \r\n\" style=\"fill:none;stroke:#000000;stroke-linecap:square;stroke-linejoin:miter;stroke-width:0.8;\"/>\r\n   </g>\r\n   <g id=\"patch_4\">\r\n    <path d=\"M 609.325 293.34375 \r\nL 609.325 21.54375 \r\n\" style=\"fill:none;stroke:#000000;stroke-linecap:square;stroke-linejoin:miter;stroke-width:0.8;\"/>\r\n   </g>\r\n   <g id=\"patch_5\">\r\n    <path d=\"M 51.325 293.34375 \r\nL 609.325 293.34375 \r\n\" style=\"fill:none;stroke:#000000;stroke-linecap:square;stroke-linejoin:miter;stroke-width:0.8;\"/>\r\n   </g>\r\n   <g id=\"patch_6\">\r\n    <path d=\"M 51.325 21.54375 \r\nL 609.325 21.54375 \r\n\" style=\"fill:none;stroke:#000000;stroke-linecap:square;stroke-linejoin:miter;stroke-width:0.8;\"/>\r\n   </g>\r\n   <g id=\"text_14\">\r\n    <!-- portfolio -->\r\n    <g transform=\"translate(303.325 15.54375)scale(0.12 -0.12)\">\r\n     <defs>\r\n      <path d=\"M 2925 1525 \r\nQ 2925 875 2525 475 \r\nQ 2125 75 1575 75 \r\nQ 1025 75 625 475 \r\nQ 225 875 225 1525 \r\nQ 225 2175 625 2575 \r\nQ 1025 2975 1575 2975 \r\nQ 2125 2975 2525 2575 \r\nQ 2925 2175 2925 1525 \r\nz\r\nM 2375 1525 \r\nQ 2375 2025 2125 2275 \r\nQ 1875 2525 1575 2525 \r\nQ 1275 2525 1025 2275 \r\nQ 775 2025 775 1525 \r\nQ 775 1025 1025 775 \r\nQ 1275 525 1575 525 \r\nQ 1875 525 2125 775 \r\nQ 2375 1025 2375 1525 \r\nz\r\n\" id=\"SimHei-6f\" transform=\"scale(0.015625)\"/>\r\n      <path d=\"M 2500 2425 \r\nQ 2025 2500 1700 2287 \r\nQ 1375 2075 1150 1550 \r\nL 1150 125 \r\nL 650 125 \r\nL 650 2925 \r\nL 1150 2925 \r\nL 1150 2200 \r\nQ 1375 2600 1712 2787 \r\nQ 2050 2975 2500 2975 \r\nL 2500 2425 \r\nz\r\n\" id=\"SimHei-72\" transform=\"scale(0.015625)\"/>\r\n      <path d=\"M 2850 3825 \r\nQ 2725 3900 2550 3950 \r\nQ 2375 4000 2100 4000 \r\nQ 1825 4000 1725 3862 \r\nQ 1625 3725 1625 3525 \r\nL 1625 2925 \r\nL 2650 2925 \r\nL 2650 2525 \r\nL 1625 2525 \r\nL 1625 125 \r\nL 1125 125 \r\nL 1125 2525 \r\nL 275 2525 \r\nL 275 2925 \r\nL 1125 2925 \r\nL 1125 3500 \r\nQ 1125 3950 1400 4200 \r\nQ 1675 4450 2125 4450 \r\nQ 2400 4450 2562 4412 \r\nQ 2725 4375 2850 4325 \r\nL 2850 3825 \r\nz\r\n\" id=\"SimHei-66\" transform=\"scale(0.015625)\"/>\r\n      <path d=\"M 1800 3725 \r\nL 1300 3725 \r\nL 1300 4375 \r\nL 1800 4375 \r\nL 1800 3725 \r\nz\r\nM 1800 125 \r\nL 1300 125 \r\nL 1300 2925 \r\nL 1800 2925 \r\nL 1800 125 \r\nz\r\n\" id=\"SimHei-69\" transform=\"scale(0.015625)\"/>\r\n     </defs>\r\n     <use xlink:href=\"#SimHei-70\"/>\r\n     <use x=\"50\" xlink:href=\"#SimHei-6f\"/>\r\n     <use x=\"100\" xlink:href=\"#SimHei-72\"/>\r\n     <use x=\"150\" xlink:href=\"#SimHei-74\"/>\r\n     <use x=\"200\" xlink:href=\"#SimHei-66\"/>\r\n     <use x=\"250\" xlink:href=\"#SimHei-6f\"/>\r\n     <use x=\"300\" xlink:href=\"#SimHei-6c\"/>\r\n     <use x=\"350\" xlink:href=\"#SimHei-69\"/>\r\n     <use x=\"400\" xlink:href=\"#SimHei-6f\"/>\r\n    </g>\r\n   </g>\r\n  </g>\r\n </g>\r\n <defs>\r\n  <clipPath id=\"p249c05baac\">\r\n   <rect height=\"271.8\" width=\"558\" x=\"51.325\" y=\"21.54375\"/>\r\n  </clipPath>\r\n </defs>\r\n</svg>\r\n",
      "text/plain": [
       "<Figure size 720x360 with 1 Axes>"
      ]
     },
     "metadata": {
      "needs_background": "light"
     },
     "output_type": "display_data"
    }
   ],
   "source": [
    "i = 0\n",
    "strat = \"xgb.002.4096\"\n",
    "test_all_pnl = np.zeros([sum(test_sample), len(product_list)])\n",
    "train_all_pnl = np.zeros([sum(train_sample), len(product_list)])\n",
    "min_pnl = 2\n",
    "min_num = 10\n",
    "for product in product_list:\n",
    "    spread = product_info[product][\"spread\"]\n",
    "    signal_stat = load(HEAD_PATH+\"\\\\signal_result_atr\\\\\"+product+\".\"+strat+\".trend.pkl\")\n",
    "    train_stat = signal_stat[\"train.stat\"]\n",
    "    good_strat = (train_stat[\"final.result\"][\"avg.pnl\"]>min_pnl*spread) & (train_stat[\"final.result\"][\"num\"]>min_num)\n",
    "    train_pnl = train_stat[\"daily.ret\"].loc[:, good_strat].sum(axis=1)/sum(good_strat)\n",
    "    test_stat = signal_stat[\"test.stat\"]\n",
    "    test_pnl = test_stat[\"daily.ret\"].loc[:, good_strat].sum(axis=1)/sum(good_strat)\n",
    "    print(product, \"train sharpe \", sharpe(train_pnl), \"test sharpe \", sharpe(test_pnl))\n",
    "    test_all_pnl[:,i] = test_pnl\n",
    "    train_all_pnl[:,i] = train_pnl\n",
    "    i = i+1\n",
    "train_portfolio = np.array(np.mean(train_all_pnl, axis=1))\n",
    "test_portfolio = np.array(np.mean(test_all_pnl, axis=1))\n",
    "all_portfolio = np.append(train_portfolio, test_portfolio)\n",
    "plt.figure(1, figsize=(10, 5))\n",
    "plt.title(\"\")\n",
    "plt.xlabel(\"date\")\n",
    "plt.ylabel(\"pnl\")\n",
    "plt.title(\"portfolio\")\n",
    "plt.plot(format_dates, all_portfolio.cumsum(), color=\"b\")\n",
    "plt.plot(format_dates[test_sample], all_portfolio.cumsum()[test_sample], color=\"r\")\n",
    "print(\"train sharpe: \", sharpe(train_portfolio), \"test sharpe: \", sharpe(test_portfolio))"
   ]
  },
  {
   "cell_type": "code",
   "execution_count": null,
   "metadata": {},
   "outputs": [],
   "source": []
  }
 ],
 "metadata": {
  "interpreter": {
   "hash": "6f5583cf1d9466b5c27e75c89cc6b383bed5736d6b16c51c8074d8690011a952"
  },
  "kernelspec": {
   "display_name": "Python 3.9.7 ('base')",
   "language": "python",
   "name": "python3"
  },
  "language_info": {
   "codemirror_mode": {
    "name": "ipython",
    "version": 3
   },
   "file_extension": ".py",
   "mimetype": "text/x-python",
   "name": "python",
   "nbconvert_exporter": "python",
   "pygments_lexer": "ipython3",
   "version": "3.9.7"
  },
  "orig_nbformat": 4
 },
 "nbformat": 4,
 "nbformat_minor": 2
}
