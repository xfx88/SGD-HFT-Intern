{
 "cells": [
  {
   "cell_type": "markdown",
   "metadata": {},
   "source": [
    "## **Python for Quantitative Trading: Futures**\n",
    "### **Integrated CTA Strategies Episode 11 - Strategies with Different Frequencies**"
   ]
  },
  {
   "cell_type": "code",
   "execution_count": 1,
   "metadata": {},
   "outputs": [
    {
     "name": "stderr",
     "output_type": "stream",
     "text": [
      "c:\\Anaconda\\lib\\site-packages\\statsmodels\\tsa\\base\\tsa_model.py:7: FutureWarning: pandas.Int64Index is deprecated and will be removed from pandas in a future version. Use pandas.Index with the appropriate dtype instead.\n",
      "  from pandas import (to_datetime, Int64Index, DatetimeIndex, Period,\n",
      "c:\\Anaconda\\lib\\site-packages\\statsmodels\\tsa\\base\\tsa_model.py:7: FutureWarning: pandas.Float64Index is deprecated and will be removed from pandas in a future version. Use pandas.Index with the appropriate dtype instead.\n",
      "  from pandas import (to_datetime, Int64Index, DatetimeIndex, Period,\n"
     ]
    }
   ],
   "source": [
    "import numpy as np\n",
    "import pandas as pd\n",
    "import math\n",
    "import gzip\n",
    "import _pickle as cPickle\n",
    "import matplotlib.pyplot as plt\n",
    "import seaborn as sns\n",
    "import statsmodels.api as sm\n",
    "from datetime import datetime\n",
    "\n",
    "import os\n",
    "from helper import *\n",
    "from stats import *\n",
    "from product_info import *\n",
    "import helper\n",
    "import stats\n",
    "import dask\n",
    "from dask import compute, delayed\n",
    "\n",
    "\n",
    "plt.rcParams['font.family'] = ['sans-serif']\n",
    "plt.rcParams['font.sans-serif'] = ['SimHei'] # 用来正常显示中文标签`\n",
    "plt.rcParams['axes.unicode_minus'] = False\n",
    "\n",
    "%config InlineBackend.figure_format = 'svg' #在notebook中可以更好的显示，svg输出是一种向量化格式，缩放网页并不会导致图片失真。这行代码似乎只用在ipynb文件中才能使用。\n",
    "\n",
    "%matplotlib inline \n",
    "\n",
    "import warnings\n",
    "warnings.filterwarnings('ignore')  # 忽略一些warnings\n",
    "\n",
    "# This allows multiple outputs from a single jupyter notebook cell:\n",
    "# from IPython.core.interactiveshell import InteractiveShell\n",
    "# InteractiveShell.ast_node_interactivity = \"all\"\n",
    "\n",
    "pd.set_option('expand_frame_repr', False)  \n",
    "pd.set_option(\"display.max_rows\", 500) \n",
    "pd.set_option('display.max_columns', None) #防止column太多中间变成省略号\n"
   ]
  },
  {
   "cell_type": "code",
   "execution_count": 2,
   "metadata": {},
   "outputs": [
    {
     "data": {
      "text/plain": [
       "<module 'stats' from 'e:\\\\My_Strategies_CTA\\\\stats.py'>"
      ]
     },
     "execution_count": 2,
     "metadata": {},
     "output_type": "execute_result"
    }
   ],
   "source": [
    "from imp import reload  \n",
    "reload(helper)\n",
    "reload(stats)"
   ]
  },
  {
   "cell_type": "code",
   "execution_count": 3,
   "metadata": {},
   "outputs": [
    {
     "data": {
      "text/plain": [
       "16"
      ]
     },
     "execution_count": 3,
     "metadata": {},
     "output_type": "execute_result"
    }
   ],
   "source": [
    "HEAD_PATH = r\"E:\\My_Strategies_CTA\" \n",
    "DATA_PATH = HEAD_PATH + \"\\\\pkl_tick\" \n",
    "NIGHT_PATH = HEAD_PATH + \"\\\\night_pkl_tick\\\\\"\n",
    "SAVE_PATH = r\"E:\\My_Strategies_CTA\"  #保存计算的因子数据的地方\n",
    "SIGNAL_PATH = r\"E:\\My_Strategies_CTA\" \n",
    "CORE_NUM = int(os.environ['NUMBER_OF_PROCESSORS'])\n",
    "CORE_NUM"
   ]
  },
  {
   "cell_type": "code",
   "execution_count": 4,
   "metadata": {},
   "outputs": [
    {
     "name": "stdout",
     "output_type": "stream",
     "text": [
      "rb\n",
      "1063 ['20170103.pkl', '20170104.pkl', '20170105.pkl', '20170106.pkl', '20170109.pkl', '20170110.pkl']\n"
     ]
    }
   ],
   "source": [
    "product_list = [\"rb\", \"hc\", \"i\", \"j\", \"jm\"]\n",
    "product = product_list[0] #随便取一个商品期货，可以更改\n",
    "print(product)\n",
    "all_dates = os.listdir(DATA_PATH + \"\\\\\" + product)\n",
    "all_dates.sort()\n",
    "n_days = len(all_dates)\n",
    "print(len(all_dates), all_dates[:6])"
   ]
  },
  {
   "cell_type": "code",
   "execution_count": 5,
   "metadata": {},
   "outputs": [],
   "source": [
    "period = 4096\n",
    "\n",
    "# train and test\n",
    "train_sample = np.array(all_dates) < \"2019\"\n",
    "test_sample = np.array(all_dates) > \"2019\"\n",
    "\n",
    "# 记录时间的字符串和时间格式\n",
    "date_str = [n[0:8] for n in all_dates]\n",
    "format_dates = np.array([pd.to_datetime(d) for d in date_str])\n"
   ]
  },
  {
   "cell_type": "code",
   "execution_count": 6,
   "metadata": {},
   "outputs": [],
   "source": [
    "os.makedirs(HEAD_PATH+\"\\\\all_signals\", exist_ok=True)\n",
    "dire_signal_list = [\"trade.imb\", \"total.trade.imb\", \"nr\", \"dbook\", \"range.pos\", \"price.osci\", \"ma.dif.10\", \"kdj.k\", \"kdj.j\"]\n",
    "range_signal_list = [\"\", \"range\", \"std\", \"volume.open.ratio\", \"trend.index\"]\n",
    "all_signal_list = np.array([])\n",
    "for range_signal in range_signal_list:\n",
    "    for dire_signal in dire_signal_list:\n",
    "        if len(range_signal)==0:\n",
    "            signal_name = dire_signal\n",
    "        else:\n",
    "            signal_name = dire_signal+\".\"+range_signal\n",
    "        all_signal_list = np.append(all_signal_list,signal_name)\n",
    "n_signal = len(all_signal_list)\n",
    "signal_list = [signal+\".4096\" for signal in all_signal_list]"
   ]
  },
  {
   "cell_type": "code",
   "execution_count": 7,
   "metadata": {},
   "outputs": [],
   "source": [
    "import sklearn.preprocessing\n",
    "from sklearn import linear_model\n",
    "from sklearn.model_selection import cross_val_score\n",
    "from sklearn.linear_model import lasso_path, LassoCV\n",
    "from sklearn.preprocessing import StandardScaler\n",
    "y_signal = \"ret.\"+str(period)+\".002\""
   ]
  },
  {
   "cell_type": "code",
   "execution_count": 8,
   "metadata": {},
   "outputs": [],
   "source": [
    "def get_multiple_sample_signal(good_night_files, sample, product, signal_name, period, daily_num, mod=np.array([0])):\n",
    "    n_samples = int(sum(daily_num[sample]))\n",
    "    n_mod = len(mod)\n",
    "    if n_mod==1:\n",
    "        all_signal = np.zeros(n_samples)\n",
    "    else:\n",
    "        all_signal = np.zeros((n_mod, n_samples))\n",
    "    cur = 0\n",
    "    for file in good_night_files[sample]:\n",
    "        good = load(SAVE_PATH+\"\\\\good_pkl\\\\\"+product+\"\\\\\"+file)\n",
    "        S = load(SAVE_PATH+\"\\\\factor_pkl\\\\\"+product+\"\\\\\"+signal_name+\"\\\\\"+file)\n",
    "        S = S[good]\n",
    "        for i in range(n_mod):\n",
    "            signal = S[(np.arange(len(S))+1) % period == mod[i]]\n",
    "            ## the ret.cor has some bad records\n",
    "            signal[np.isnan(signal)] = 0\n",
    "            signal[np.isinf(signal)] = 0\n",
    "            if mod[i]==0: \n",
    "                cur_end = np.min((cur+len(signal),n_samples))\n",
    "            if n_mod==1:\n",
    "                all_signal[cur:cur_end] = signal[0:(cur_end-cur)]\n",
    "            else:\n",
    "                all_signal[i, cur:cur_end] = signal[0:(cur_end-cur)]\n",
    "        cur = cur_end\n",
    "    return all_signal"
   ]
  },
  {
   "cell_type": "code",
   "execution_count": 9,
   "metadata": {},
   "outputs": [],
   "source": [
    "mod = np.arange(0, np.floor(period/10)*10, np.floor(period/10))\n",
    "n_mod = len(mod)"
   ]
  },
  {
   "cell_type": "code",
   "execution_count": 16,
   "metadata": {},
   "outputs": [],
   "source": [
    "os.makedirs(SAVE_PATH+\"\\\\train_test_array\", exist_ok=True)"
   ]
  },
  {
   "cell_type": "code",
   "execution_count": 18,
   "metadata": {},
   "outputs": [
    {
     "name": "stdout",
     "output_type": "stream",
     "text": [
      "rb\n",
      "hc\n",
      "i\n",
      "j\n",
      "jm\n",
      "Wall time: 10min 1s\n"
     ]
    }
   ],
   "source": [
    "%%time\n",
    "for product in product_list:\n",
    "    print(product)\n",
    "    daily_num = load(HEAD_PATH+\"\\\\daily_num\\\\\"+product+\".pkl\")\n",
    "    n_train = sum(daily_num[train_sample])\n",
    "    n_test = sum(daily_num[test_sample])\n",
    "    train_array = np.zeros((n_mod, int(n_train), n_signal+1))\n",
    "    for i in range(n_signal):\n",
    "        train_array[:,:,i] = get_multiple_sample_signal(np.array(all_dates), train_sample, product, signal_list[i], period, daily_num, mod)\n",
    "    train_array[:,:,n_signal] = get_multiple_sample_signal(np.array(all_dates), train_sample, product, \"ret.\"+str(period), period, daily_num, mod)\n",
    "    save(train_array, HEAD_PATH+\"\\\\train_test_array\\\\\"+product+\".train.array.pkl\")"
   ]
  },
  {
   "cell_type": "code",
   "execution_count": 10,
   "metadata": {},
   "outputs": [],
   "source": [
    "all_train_array = dict([])\n",
    "for product in product_list:\n",
    "    all_train_array[product] = load(HEAD_PATH+\"\\\\train_test_array\\\\\"+product+\".train.array.pkl\")"
   ]
  },
  {
   "cell_type": "code",
   "execution_count": 22,
   "metadata": {},
   "outputs": [],
   "source": [
    "nfold = 10\n",
    "model_coef = dict([])\n",
    "for product in product_list:\n",
    "    model_coef[product] = np.zeros(n_signal)\n",
    "for i_mod in range(n_mod):\n",
    "    train_std_mat = dict([])\n",
    "    x_train = np.zeros((0, n_signal))\n",
    "    y_train = np.array([])\n",
    "    for product in product_list:\n",
    "        cur_mat = all_train_array[product][i_mod,:,:]\n",
    "        train_std_mat[product] = np.std(cur_mat, axis=0)\n",
    "        x_train = np.vstack((x_train, cur_mat[:,:n_signal]/train_std_mat[product][:n_signal]))\n",
    "        y_train = np.concatenate((y_train, cur_mat[:,n_signal]/train_std_mat[product][n_signal]))\n",
    "    scaler =  StandardScaler(copy=True, with_mean=False, with_std=True)\n",
    "    scaler.fit(x_train)\n",
    "    x_std = np.sqrt(scaler.var_)\n",
    "    x_train_normal = scaler.transform(x_train)\n",
    "    model = LassoCV(n_alphas=100, fit_intercept=False, cv=10, max_iter=10000).fit(x_train_normal, y_train)\n",
    "    fit_coef = model.coef_/x_std\n",
    "    for product in product_list:\n",
    "        coef = fit_coef*train_std_mat[product][n_signal]/train_std_mat[product][:n_signal]\n",
    "        model_coef[product] = model_coef[product]+coef/n_mod"
   ]
  },
  {
   "cell_type": "code",
   "execution_count": 21,
   "metadata": {},
   "outputs": [],
   "source": [
    "save(model_coef, SAVE_PATH+\"\\\\processed_data\\\\black.ensemble.model.pkl\")"
   ]
  },
  {
   "cell_type": "code",
   "execution_count": 11,
   "metadata": {},
   "outputs": [],
   "source": [
    "model_coef = load(SAVE_PATH+\"\\\\processed_data\\\\black.ensemble.model.pkl\")"
   ]
  },
  {
   "cell_type": "code",
   "execution_count": 12,
   "metadata": {},
   "outputs": [
    {
     "data": {
      "text/plain": [
       "{'rb': array([-1.00130563e-04, -3.97066901e-05,  3.30786188e-05, -1.34861998e-03,\n",
       "         0.00000000e+00,  2.24150081e-04,  1.82200520e-02,  8.78032768e-05,\n",
       "         1.00341466e-04,  4.56747597e-07, -7.64902768e-06,  1.80466399e-05,\n",
       "         9.58768599e-06, -4.99636144e-05,  1.22292464e-06,  2.80698127e-04,\n",
       "         0.00000000e+00,  0.00000000e+00, -1.71438694e-06,  0.00000000e+00,\n",
       "         1.30444932e-04,  1.48808229e-05,  0.00000000e+00,  1.09738997e-06,\n",
       "        -1.79485123e-04,  4.41468311e-06,  9.52208389e-06, -9.17723923e-05,\n",
       "        -5.80523931e-04,  0.00000000e+00, -1.97578048e-03, -5.40813856e-03,\n",
       "         1.00884070e-04, -3.71692448e-02,  3.06840016e-04,  0.00000000e+00,\n",
       "        -1.01004184e-03,  5.51388051e-04,  0.00000000e+00, -1.11473626e-03,\n",
       "        -2.67168351e-04,  1.48526037e-04,  1.03802318e-02,  4.83125665e-05,\n",
       "        -4.38273245e-05]),\n",
       " 'hc': array([-1.17706390e-04, -4.59132011e-05,  4.32856922e-05, -2.19213867e-03,\n",
       "         0.00000000e+00,  2.10213645e-04,  1.75573183e-02,  8.50221842e-05,\n",
       "         9.96598692e-05,  4.13397461e-07, -8.70331224e-06,  2.27742645e-05,\n",
       "         1.33484096e-05, -4.64910089e-05,  1.15210032e-06,  2.70173308e-04,\n",
       "         0.00000000e+00,  0.00000000e+00, -1.67637940e-06,  0.00000000e+00,\n",
       "         1.56817622e-04,  1.97000812e-05,  0.00000000e+00,  1.04168774e-06,\n",
       "        -1.60792569e-04,  4.12289050e-06,  8.74940572e-06, -1.12292872e-04,\n",
       "        -8.25765560e-04,  0.00000000e+00, -3.60661353e-03, -6.30848592e-03,\n",
       "         1.14452161e-04, -4.62436075e-02,  3.53929520e-04,  0.00000000e+00,\n",
       "        -1.08632774e-03,  6.61649603e-04,  0.00000000e+00, -1.78572889e-03,\n",
       "        -2.75742508e-04,  1.57528327e-04,  1.02297859e-02,  4.74418698e-05,\n",
       "        -4.58117576e-05]),\n",
       " 'i': array([-9.99558444e-05, -3.58954709e-05,  2.48979241e-05, -1.50101302e-03,\n",
       "         0.00000000e+00,  2.86537480e-04,  1.84458433e-02,  1.10112467e-04,\n",
       "         1.28579240e-04,  2.26119371e-06, -3.77083556e-05,  4.38612713e-05,\n",
       "         5.23476826e-05, -3.34833515e-04,  8.59670445e-06,  1.50799173e-03,\n",
       "         0.00000000e+00,  0.00000000e+00, -7.88004054e-06,  0.00000000e+00,\n",
       "         5.14329588e-04,  7.99195446e-05,  0.00000000e+00,  7.45949171e-06,\n",
       "        -7.69518606e-04,  2.89540535e-05,  6.08908051e-05, -8.08271323e-05,\n",
       "        -4.62439670e-04,  0.00000000e+00, -2.00737252e-03, -6.59160563e-03,\n",
       "         1.23310415e-04, -3.43576156e-02,  3.70359834e-04,  0.00000000e+00,\n",
       "        -9.30988794e-04,  4.82318900e-04,  0.00000000e+00, -1.20359522e-03,\n",
       "        -3.48409123e-04,  1.91472582e-04,  1.03705373e-02,  5.93692678e-05,\n",
       "        -5.65054699e-05]),\n",
       " 'j': array([-2.56963254e-04, -6.24037151e-05,  7.22755389e-05, -4.50534863e-03,\n",
       "         0.00000000e+00,  3.49463845e-04,  1.82344191e-02,  1.28189608e-04,\n",
       "         1.48318669e-04,  1.22009532e-06, -1.44605218e-05,  3.08399999e-05,\n",
       "         3.60836977e-05, -8.57584804e-05,  2.34334938e-06,  3.82169846e-04,\n",
       "         0.00000000e+00,  0.00000000e+00, -4.19306769e-06,  0.00000000e+00,\n",
       "         3.07838400e-04,  5.62600703e-05,  0.00000000e+00,  2.01008687e-06,\n",
       "        -1.98848977e-04,  7.69510622e-06,  1.63249500e-05, -1.77174048e-04,\n",
       "        -7.25861543e-04,  0.00000000e+00, -5.18168874e-03, -6.57113405e-03,\n",
       "         1.23038043e-04, -3.27813515e-02,  3.71519756e-04,  0.00000000e+00,\n",
       "        -2.41745568e-03,  8.85136973e-04,  0.00000000e+00, -3.58026476e-03,\n",
       "        -4.04826971e-04,  2.38716609e-04,  1.07602135e-02,  7.24375503e-05,\n",
       "        -6.76698949e-05]),\n",
       " 'jm': array([-2.09494855e-04, -7.26126647e-05,  7.19890368e-05, -3.47138500e-03,\n",
       "         0.00000000e+00,  3.81448474e-04,  1.87973885e-02,  1.34058672e-04,\n",
       "         1.54935895e-04,  1.55488887e-06, -2.53554924e-05,  4.77314184e-05,\n",
       "         4.31528219e-05, -1.39296247e-04,  3.83980591e-06,  5.81561151e-04,\n",
       "         0.00000000e+00,  0.00000000e+00, -5.45021172e-06,  0.00000000e+00,\n",
       "         5.00642931e-04,  6.69505077e-05,  0.00000000e+00,  3.27995403e-06,\n",
       "        -3.24226354e-04,  1.22689071e-05,  2.63826682e-05, -1.48898833e-04,\n",
       "        -8.84217038e-04,  0.00000000e+00, -4.07661435e-03, -7.36012009e-03,\n",
       "         1.40324294e-04, -3.67251916e-02,  4.09422418e-04,  0.00000000e+00,\n",
       "        -2.02154131e-03,  1.03202596e-03,  0.00000000e+00, -2.81323467e-03,\n",
       "        -4.33369423e-04,  2.60169372e-04,  1.11996363e-02,  7.58238752e-05,\n",
       "        -6.99145419e-05])}"
      ]
     },
     "execution_count": 12,
     "metadata": {},
     "output_type": "execute_result"
    }
   ],
   "source": [
    "model_coef"
   ]
  },
  {
   "cell_type": "code",
   "execution_count": 24,
   "metadata": {},
   "outputs": [],
   "source": [
    "strat = \"ensemble.lasso.\"+str(period)\n",
    "for product in product_list:\n",
    "    os.makedirs(SAVE_PATH+\"\\\\factor_pkl\\\\\"+product+\"\\\\\"+strat, exist_ok=True)"
   ]
  },
  {
   "cell_type": "code",
   "execution_count": 25,
   "metadata": {},
   "outputs": [
    {
     "name": "stdout",
     "output_type": "stream",
     "text": [
      "rb\n",
      "hc\n",
      "i\n",
      "j\n",
      "jm\n",
      "Wall time: 2min 49s\n"
     ]
    }
   ],
   "source": [
    "%%time\n",
    "for product in product_list:\n",
    "    print(product)\n",
    "    coef = model_coef[product]\n",
    "    parLapply(CORE_NUM, all_dates, par_get_daily_pred, \n",
    "              product=product, coef=coef, strat=strat, HEAD_PATH=HEAD_PATH, SAVE_PATH=SAVE_PATH)"
   ]
  },
  {
   "cell_type": "code",
   "execution_count": 26,
   "metadata": {},
   "outputs": [
    {
     "name": "stdout",
     "output_type": "stream",
     "text": [
      "Wall time: 26.3 s\n"
     ]
    }
   ],
   "source": [
    "%%time\n",
    "for product in product_list:\n",
    "    par_get_all_signal(strat, all_dates, product, 4096, SAVE_PATH=SAVE_PATH)"
   ]
  },
  {
   "cell_type": "code",
   "execution_count": 27,
   "metadata": {},
   "outputs": [
    {
     "name": "stdout",
     "output_type": "stream",
     "text": [
      "reverse=1\n",
      "reverse=1\n",
      "reverse=1\n",
      "reverse=1\n",
      "reverse=1\n",
      "Wall time: 4min 58s\n"
     ]
    }
   ],
   "source": [
    "%%time\n",
    "for product in product_list:\n",
    "    spread = product_info[product][\"spread\"]\n",
    "    evaluate_signal(\"ensemble.lasso\", np.array(all_dates), product, 2, 20, CORE_NUM, HEAD_PATH, SAVE_PATH,\n",
    "                    period=4096, split_str=\"2019\", tranct=1.1e-4, \n",
    "                    max_spread=spread*1.1, tranct_ratio=False, atr_filter=0.01, save_path=\"signal_result_atr\",reverse=1)"
   ]
  },
  {
   "cell_type": "code",
   "execution_count": 28,
   "metadata": {},
   "outputs": [
    {
     "name": "stdout",
     "output_type": "stream",
     "text": [
      "rb train sharpe  0.5881378789107498 test sharpe  0.41762268302494365\n",
      "hc train sharpe  0.7455817699382021 test sharpe  0.4828342842406056\n",
      "i train sharpe  1.095944872847482 test sharpe  -0.12612654090027547\n",
      "j train sharpe  1.130674611614598 test sharpe  1.8127339348870837\n",
      "jm train sharpe  1.7208890383720503 test sharpe  -0.6296974413987417\n"
     ]
    }
   ],
   "source": [
    "for product in product_list:\n",
    "    spread = product_info[product][\"spread\"]\n",
    "    signal_stat = load(HEAD_PATH+\"\\\\signal_result_atr\\\\\"+product+\".\"+\"ensemble.lasso.4096\"+\".trend.pkl\")\n",
    "    train_stat = signal_stat[\"train.stat\"]\n",
    "    good_strat = (train_stat[\"final.result\"][\"avg.pnl\"]>2*spread)\n",
    "    train_pnl = train_stat[\"daily.ret\"].loc[:, good_strat].sum(axis=1)/sum(good_strat)\n",
    "    test_stat = signal_stat[\"test.stat\"]\n",
    "    test_pnl = test_stat[\"daily.ret\"].loc[:, good_strat].sum(axis=1)/sum(good_strat)\n",
    "    print(product, \"train sharpe \", sharpe(train_pnl), \"test sharpe \", sharpe(test_pnl))"
   ]
  },
  {
   "cell_type": "code",
   "execution_count": 29,
   "metadata": {},
   "outputs": [],
   "source": [
    "nfold = 10\n",
    "model_coef = dict([])\n",
    "for i_mod in range(n_mod):\n",
    "    train_std_mat = dict([])\n",
    "    model_coef[str(i_mod)] = dict([])\n",
    "    x_train = np.zeros((0, n_signal))\n",
    "    y_train = np.array([])\n",
    "    for product in product_list:\n",
    "        cur_mat = all_train_array[product][i_mod,:,:]\n",
    "        train_std_mat[product] = np.std(cur_mat, axis=0)\n",
    "        x_train = np.vstack((x_train, cur_mat[:,:n_signal]/train_std_mat[product][:n_signal]))\n",
    "        y_train = np.concatenate((y_train, cur_mat[:,n_signal]/train_std_mat[product][n_signal]))\n",
    "    scaler =  StandardScaler(copy=True, with_mean=False, with_std=True)\n",
    "    scaler.fit(x_train)\n",
    "    x_std = np.sqrt(scaler.var_)\n",
    "    x_train_normal = scaler.transform(x_train)\n",
    "    model = LassoCV(n_alphas=100, fit_intercept=False, cv=10, max_iter=10000).fit(x_train_normal, y_train)\n",
    "    fit_coef = model.coef_/x_std\n",
    "    for product in product_list:\n",
    "        coef = fit_coef*train_std_mat[product][n_signal]/train_std_mat[product][:n_signal]\n",
    "        model_coef[str(i_mod)][product] = coef"
   ]
  },
  {
   "cell_type": "code",
   "execution_count": 30,
   "metadata": {},
   "outputs": [],
   "source": [
    "save(model_coef, SAVE_PATH+\"\\\\processed_data\\\\black.ensemble.all.coef.pkl\")"
   ]
  },
  {
   "cell_type": "code",
   "execution_count": 31,
   "metadata": {},
   "outputs": [
    {
     "name": "stdout",
     "output_type": "stream",
     "text": [
      "0\n",
      "reverse=1\n",
      "reverse=1\n",
      "reverse=1\n",
      "reverse=1\n",
      "reverse=1\n",
      "1\n",
      "reverse=1\n",
      "reverse=1\n",
      "reverse=1\n",
      "reverse=1\n",
      "reverse=1\n",
      "2\n",
      "reverse=1\n",
      "reverse=1\n",
      "reverse=1\n",
      "reverse=1\n",
      "reverse=1\n",
      "3\n",
      "reverse=1\n",
      "reverse=1\n",
      "reverse=1\n",
      "reverse=1\n",
      "reverse=1\n",
      "4\n",
      "reverse=1\n",
      "reverse=1\n",
      "reverse=1\n",
      "reverse=1\n",
      "reverse=1\n",
      "5\n",
      "reverse=1\n",
      "reverse=1\n",
      "reverse=1\n",
      "reverse=1\n",
      "reverse=1\n",
      "6\n",
      "reverse=1\n",
      "reverse=1\n",
      "reverse=1\n",
      "reverse=1\n",
      "reverse=1\n",
      "7\n",
      "reverse=1\n",
      "reverse=1\n",
      "reverse=1\n",
      "reverse=1\n",
      "reverse=1\n",
      "8\n",
      "reverse=1\n",
      "reverse=1\n",
      "reverse=1\n",
      "reverse=1\n",
      "reverse=1\n",
      "9\n",
      "reverse=1\n",
      "reverse=1\n",
      "reverse=1\n",
      "reverse=1\n",
      "reverse=1\n",
      "Wall time: 1h 27min 8s\n"
     ]
    }
   ],
   "source": [
    "%%time\n",
    "for i_mod in range(n_mod):\n",
    "    print(i_mod)\n",
    "    strat = \"ensemble.lasso.\"+str(i_mod)+\".\"+str(period)\n",
    "    for product in product_list:\n",
    "        os.makedirs(SAVE_PATH+\"\\\\factor_pkl\\\\\"+product+\"\\\\\"+strat, exist_ok=True)\n",
    "        coef = model_coef[str(i_mod)][product]\n",
    "        parLapply(CORE_NUM, all_dates, par_get_daily_pred, \n",
    "                  product=product, coef=coef, strat=strat, HEAD_PATH=HEAD_PATH, SAVE_PATH=SAVE_PATH)\n",
    "        par_get_all_signal(strat, all_dates, product, 4096, SAVE_PATH=SAVE_PATH)    \n",
    "        spread = product_info[product][\"spread\"]\n",
    "        evaluate_signal(\"ensemble.lasso.\"+str(i_mod), np.array(all_dates), product, 2, 20, CORE_NUM, HEAD_PATH, SAVE_PATH,\n",
    "                        period=4096, split_str=\"2019\", tranct=1.1e-4, \n",
    "                        max_spread=spread*1.1, tranct_ratio=False, atr_filter=0.01, save_path=\"signal_result_atr\",reverse=1)"
   ]
  },
  {
   "cell_type": "code",
   "execution_count": 32,
   "metadata": {},
   "outputs": [
    {
     "name": "stdout",
     "output_type": "stream",
     "text": [
      "rb train sharpe  1.0925305656934594 test sharpe  0.315077183458294\n",
      "hc train sharpe  1.4252591180586232 test sharpe  0.1476200895066984\n",
      "i train sharpe  0.7949207409107137 test sharpe  0.042715490381475\n",
      "j train sharpe  1.1600129138971618 test sharpe  0.2916127214667432\n",
      "jm train sharpe  0.5469583754239747 test sharpe  -1.0925560437047395\n",
      "rb train sharpe  0.8040008309123385 test sharpe  0.949274215086458\n",
      "hc train sharpe  0.860351521316492 test sharpe  0.43145949406368284\n",
      "i train sharpe  1.9409615964980345 test sharpe  -0.7312793459621499\n",
      "j train sharpe  0.776056652391818 test sharpe  1.9146712034966935\n",
      "jm train sharpe  1.6655916493235043 test sharpe  -0.27613634396366\n",
      "rb train sharpe  0.48409384228263624 test sharpe  0.4704659102469149\n",
      "hc train sharpe  0.8286511320170039 test sharpe  0.015461773013520452\n",
      "i train sharpe  1.2334078352973918 test sharpe  -0.4706487550604966\n",
      "j train sharpe  1.13431121292944 test sharpe  2.019132424782098\n",
      "jm train sharpe  2.1534461701801293 test sharpe  -0.6153020784191373\n",
      "rb train sharpe  nan test sharpe  nan\n",
      "hc train sharpe  1.3083642278398606 test sharpe  0.499691855790934\n",
      "i train sharpe  1.0709282464212646 test sharpe  0.250490565075461\n",
      "j train sharpe  1.2067228681470745 test sharpe  2.001212130758504\n",
      "jm train sharpe  0.8134711867989342 test sharpe  -0.47077543593431803\n",
      "rb train sharpe  0.33539577543423804 test sharpe  0.004190656867690047\n",
      "hc train sharpe  0.38958429212966156 test sharpe  0.6423891576081274\n",
      "i train sharpe  0.6261378276130222 test sharpe  -0.8988401634681995\n",
      "j train sharpe  0.9797691786423277 test sharpe  1.891360353308947\n",
      "jm train sharpe  0.8158914626726755 test sharpe  -0.4269226965991984\n",
      "rb train sharpe  nan test sharpe  nan\n",
      "hc train sharpe  0.4422421149044061 test sharpe  0.6524186384077676\n",
      "i train sharpe  1.216446574650087 test sharpe  -0.5974829350071124\n",
      "j train sharpe  1.3305752520464527 test sharpe  1.8822824890200718\n",
      "jm train sharpe  1.1397487385711678 test sharpe  -0.7949000087719876\n",
      "rb train sharpe  0.37667646497318785 test sharpe  0.6182945175981737\n",
      "hc train sharpe  0.7915417482337523 test sharpe  0.15583599041351737\n",
      "i train sharpe  1.0300614094831586 test sharpe  0.12445909931679024\n",
      "j train sharpe  0.9086699147718261 test sharpe  1.5587837395831403\n",
      "jm train sharpe  1.4753978741294151 test sharpe  -1.0499912935763152\n",
      "rb train sharpe  0.6236798816290067 test sharpe  0.7078315290750138\n",
      "hc train sharpe  0.5115589626318132 test sharpe  0.5336070853498257\n",
      "i train sharpe  0.540716149506809 test sharpe  -0.5982136340265952\n",
      "j train sharpe  0.23515688826406494 test sharpe  1.6532614405992814\n",
      "jm train sharpe  0.9709484572337956 test sharpe  -0.5903233512833228\n",
      "rb train sharpe  1.5143049115520155 test sharpe  0.4037817064029784\n",
      "hc train sharpe  1.1749989635670794 test sharpe  0.35764771487417996\n",
      "i train sharpe  0.8741838695788879 test sharpe  -0.12799191518362393\n",
      "j train sharpe  0.5466144206682215 test sharpe  1.4768242211053322\n",
      "jm train sharpe  1.3613392808074085 test sharpe  -0.7216006994839402\n",
      "rb train sharpe  1.7129425654480879 test sharpe  0.3864879387201126\n",
      "hc train sharpe  1.114161065406795 test sharpe  0.003897411404653063\n",
      "i train sharpe  1.2188130167300355 test sharpe  0.11823555882959999\n",
      "j train sharpe  0.5840497597694797 test sharpe  1.0781551417132462\n",
      "jm train sharpe  1.2760575443568603 test sharpe  -0.8549152911750123\n"
     ]
    }
   ],
   "source": [
    "min_pnl = 2\n",
    "min_num = 10\n",
    "all_portfolio = np.zeros((sum(test_sample)+sum(train_sample),n_mod))\n",
    "for i_mod in range(n_mod):\n",
    "    strat = \"ensemble.lasso.\"+str(i_mod)+\".\"+str(period)\n",
    "    i = 0\n",
    "    test_all_pnl = np.zeros([sum(test_sample), len(product_list)])\n",
    "    train_all_pnl = np.zeros([sum(train_sample), len(product_list)])\n",
    "    for product in product_list:\n",
    "        spread = product_info[product][\"spread\"]\n",
    "        signal_stat = load(HEAD_PATH+\"\\\\signal_result_atr\\\\\"+product+\".\"+strat+\".trend.pkl\")\n",
    "        train_stat = signal_stat[\"train.stat\"]\n",
    "        good_strat = (train_stat[\"final.result\"][\"avg.pnl\"]>min_pnl*spread) & (train_stat[\"final.result\"][\"num\"]>min_num)\n",
    "        train_pnl = train_stat[\"daily.ret\"].loc[:, good_strat].sum(axis=1)/sum(good_strat)\n",
    "        test_stat = signal_stat[\"test.stat\"]\n",
    "        test_pnl = test_stat[\"daily.ret\"].loc[:, good_strat].sum(axis=1)/sum(good_strat)\n",
    "        print(product, \"train sharpe \", sharpe(train_pnl), \"test sharpe \", sharpe(test_pnl))\n",
    "        if sum(good_strat)==0:\n",
    "            test_pnl = np.zeros(sum(test_sample))\n",
    "            train_pnl = np.zeros(sum(train_sample))\n",
    "        test_all_pnl[:,i] = test_pnl\n",
    "        train_all_pnl[:,i] = train_pnl\n",
    "        i = i+1\n",
    "    train_portfolio = np.array(np.mean(train_all_pnl, axis=1))\n",
    "    test_portfolio = np.array(np.mean(test_all_pnl, axis=1))\n",
    "    all_portfolio[:,i_mod] = np.append(train_portfolio, test_portfolio)"
   ]
  },
  {
   "cell_type": "code",
   "execution_count": 33,
   "metadata": {},
   "outputs": [
    {
     "name": "stdout",
     "output_type": "stream",
     "text": [
      "train sharpe:  1.7551333111691503 test sharpe:  0.3909091678306983\n"
     ]
    },
    {
     "data": {
      "image/svg+xml": "<?xml version=\"1.0\" encoding=\"utf-8\" standalone=\"no\"?>\r\n<!DOCTYPE svg PUBLIC \"-//W3C//DTD SVG 1.1//EN\"\r\n  \"http://www.w3.org/Graphics/SVG/1.1/DTD/svg11.dtd\">\r\n<svg height=\"327.79375pt\" version=\"1.1\" viewBox=\"0 0 615.370092 327.79375\" width=\"615.370092pt\" xmlns=\"http://www.w3.org/2000/svg\" xmlns:xlink=\"http://www.w3.org/1999/xlink\">\r\n <metadata>\r\n  <rdf:RDF xmlns:cc=\"http://creativecommons.org/ns#\" xmlns:dc=\"http://purl.org/dc/elements/1.1/\" xmlns:rdf=\"http://www.w3.org/1999/02/22-rdf-syntax-ns#\">\r\n   <cc:Work>\r\n    <dc:type rdf:resource=\"http://purl.org/dc/dcmitype/StillImage\"/>\r\n    <dc:date>2022-06-08T01:05:35.007918</dc:date>\r\n    <dc:format>image/svg+xml</dc:format>\r\n    <dc:creator>\r\n     <cc:Agent>\r\n      <dc:title>Matplotlib v3.4.3, https://matplotlib.org/</dc:title>\r\n     </cc:Agent>\r\n    </dc:creator>\r\n   </cc:Work>\r\n  </rdf:RDF>\r\n </metadata>\r\n <defs>\r\n  <style type=\"text/css\">*{stroke-linecap:butt;stroke-linejoin:round;}</style>\r\n </defs>\r\n <g id=\"figure_1\">\r\n  <g id=\"patch_1\">\r\n   <path d=\"M 0 327.79375 \r\nL 615.370092 327.79375 \r\nL 615.370092 0 \r\nL 0 0 \r\nz\r\n\" style=\"fill:none;\"/>\r\n  </g>\r\n  <g id=\"axes_1\">\r\n   <g id=\"patch_2\">\r\n    <path d=\"M 46.325 293.34375 \r\nL 604.325 293.34375 \r\nL 604.325 21.54375 \r\nL 46.325 21.54375 \r\nz\r\n\" style=\"fill:#ffffff;\"/>\r\n   </g>\r\n   <g id=\"matplotlib.axis_1\">\r\n    <g id=\"xtick_1\">\r\n     <g id=\"line2d_1\">\r\n      <defs>\r\n       <path d=\"M 0 0 \r\nL 0 3.5 \r\n\" id=\"mef2c1e6734\" style=\"stroke:#000000;stroke-width:0.8;\"/>\r\n      </defs>\r\n      <g>\r\n       <use style=\"stroke:#000000;stroke-width:0.8;\" x=\"71.055732\" xlink:href=\"#mef2c1e6734\" y=\"293.34375\"/>\r\n      </g>\r\n     </g>\r\n     <g id=\"text_1\">\r\n      <!-- 2017-01 -->\r\n      <g transform=\"translate(53.555732 307.21875)scale(0.1 -0.1)\">\r\n       <defs>\r\n        <path d=\"M 300 250 \r\nQ 325 625 650 925 \r\nQ 975 1225 1475 1862 \r\nQ 1975 2500 2125 2850 \r\nQ 2275 3200 2237 3450 \r\nQ 2200 3700 2000 3862 \r\nQ 1800 4025 1537 4000 \r\nQ 1275 3975 1037 3800 \r\nQ 800 3625 675 3275 \r\nL 200 3350 \r\nQ 400 3925 712 4187 \r\nQ 1025 4450 1450 4475 \r\nQ 1700 4500 1900 4462 \r\nQ 2100 4425 2312 4287 \r\nQ 2525 4150 2662 3875 \r\nQ 2800 3600 2762 3212 \r\nQ 2725 2825 2375 2287 \r\nQ 2025 1750 1025 600 \r\nL 2825 600 \r\nL 2825 150 \r\nL 300 150 \r\nL 300 250 \r\nz\r\n\" id=\"SimHei-32\" transform=\"scale(0.015625)\"/>\r\n        <path d=\"M 225 2537 \r\nQ 250 3200 412 3587 \r\nQ 575 3975 875 4225 \r\nQ 1175 4475 1612 4475 \r\nQ 2050 4475 2375 4112 \r\nQ 2700 3750 2800 3200 \r\nQ 2900 2650 2862 1937 \r\nQ 2825 1225 2612 775 \r\nQ 2400 325 1975 150 \r\nQ 1550 -25 1125 187 \r\nQ 700 400 525 750 \r\nQ 350 1100 275 1487 \r\nQ 200 1875 225 2537 \r\nz\r\nM 750 2687 \r\nQ 675 2000 800 1462 \r\nQ 925 925 1212 700 \r\nQ 1500 475 1800 612 \r\nQ 2100 750 2237 1162 \r\nQ 2375 1575 2375 2062 \r\nQ 2375 2550 2337 2950 \r\nQ 2300 3350 2112 3675 \r\nQ 1925 4000 1612 4012 \r\nQ 1300 4025 1062 3700 \r\nQ 825 3375 750 2687 \r\nz\r\n\" id=\"SimHei-30\" transform=\"scale(0.015625)\"/>\r\n        <path d=\"M 1400 3600 \r\nQ 1075 3275 575 2975 \r\nL 575 3450 \r\nQ 1200 3875 1600 4450 \r\nL 1900 4450 \r\nL 1900 150 \r\nL 1400 150 \r\nL 1400 3600 \r\nz\r\n\" id=\"SimHei-31\" transform=\"scale(0.015625)\"/>\r\n        <path d=\"M 850 150 \r\nQ 1300 2050 2425 3925 \r\nL 275 3925 \r\nL 275 4375 \r\nL 2950 4375 \r\nL 2950 3950 \r\nQ 1775 2050 1400 150 \r\nL 850 150 \r\nz\r\n\" id=\"SimHei-37\" transform=\"scale(0.015625)\"/>\r\n        <path d=\"M 2975 2125 \r\nL 125 2125 \r\nL 125 2525 \r\nL 2975 2525 \r\nL 2975 2125 \r\nz\r\n\" id=\"SimHei-2d\" transform=\"scale(0.015625)\"/>\r\n       </defs>\r\n       <use xlink:href=\"#SimHei-32\"/>\r\n       <use x=\"50\" xlink:href=\"#SimHei-30\"/>\r\n       <use x=\"100\" xlink:href=\"#SimHei-31\"/>\r\n       <use x=\"150\" xlink:href=\"#SimHei-37\"/>\r\n       <use x=\"200\" xlink:href=\"#SimHei-2d\"/>\r\n       <use x=\"250\" xlink:href=\"#SimHei-30\"/>\r\n       <use x=\"300\" xlink:href=\"#SimHei-31\"/>\r\n      </g>\r\n     </g>\r\n    </g>\r\n    <g id=\"xtick_2\">\r\n     <g id=\"line2d_2\">\r\n      <g>\r\n       <use style=\"stroke:#000000;stroke-width:0.8;\" x=\"128.333563\" xlink:href=\"#mef2c1e6734\" y=\"293.34375\"/>\r\n      </g>\r\n     </g>\r\n     <g id=\"text_2\">\r\n      <!-- 2017-07 -->\r\n      <g transform=\"translate(110.833563 307.21875)scale(0.1 -0.1)\">\r\n       <use xlink:href=\"#SimHei-32\"/>\r\n       <use x=\"50\" xlink:href=\"#SimHei-30\"/>\r\n       <use x=\"100\" xlink:href=\"#SimHei-31\"/>\r\n       <use x=\"150\" xlink:href=\"#SimHei-37\"/>\r\n       <use x=\"200\" xlink:href=\"#SimHei-2d\"/>\r\n       <use x=\"250\" xlink:href=\"#SimHei-30\"/>\r\n       <use x=\"300\" xlink:href=\"#SimHei-37\"/>\r\n      </g>\r\n     </g>\r\n    </g>\r\n    <g id=\"xtick_3\">\r\n     <g id=\"line2d_3\">\r\n      <g>\r\n       <use style=\"stroke:#000000;stroke-width:0.8;\" x=\"186.560751\" xlink:href=\"#mef2c1e6734\" y=\"293.34375\"/>\r\n      </g>\r\n     </g>\r\n     <g id=\"text_3\">\r\n      <!-- 2018-01 -->\r\n      <g transform=\"translate(169.060751 307.21875)scale(0.1 -0.1)\">\r\n       <defs>\r\n        <path d=\"M 175 1375 \r\nQ 175 1675 325 1962 \r\nQ 475 2250 825 2425 \r\nQ 525 2600 425 2812 \r\nQ 325 3025 312 3300 \r\nQ 300 3575 387 3775 \r\nQ 475 3975 650 4150 \r\nQ 825 4325 1037 4387 \r\nQ 1250 4450 1500 4450 \r\nQ 1750 4450 1950 4400 \r\nQ 2150 4350 2375 4187 \r\nQ 2600 4025 2700 3725 \r\nQ 2800 3425 2687 3025 \r\nQ 2575 2625 2100 2400 \r\nQ 2525 2275 2700 2012 \r\nQ 2875 1750 2875 1375 \r\nQ 2875 1000 2762 775 \r\nQ 2650 550 2512 400 \r\nQ 2375 250 2137 162 \r\nQ 1900 75 1537 75 \r\nQ 1175 75 912 162 \r\nQ 650 250 475 425 \r\nQ 300 600 237 837 \r\nQ 175 1075 175 1375 \r\nz\r\nM 687 1400 \r\nQ 675 1100 787 875 \r\nQ 900 650 1200 587 \r\nQ 1500 525 1825 600 \r\nQ 2150 675 2275 950 \r\nQ 2400 1225 2362 1500 \r\nQ 2325 1775 2050 1962 \r\nQ 1775 2150 1450 2125 \r\nQ 1125 2100 912 1900 \r\nQ 700 1700 687 1400 \r\nz\r\nM 775 3350 \r\nQ 775 3100 950 2875 \r\nQ 1125 2650 1500 2650 \r\nQ 1875 2650 2062 2875 \r\nQ 2250 3100 2237 3412 \r\nQ 2225 3725 2012 3875 \r\nQ 1800 4025 1437 4000 \r\nQ 1075 3975 925 3787 \r\nQ 775 3600 775 3350 \r\nz\r\n\" id=\"SimHei-38\" transform=\"scale(0.015625)\"/>\r\n       </defs>\r\n       <use xlink:href=\"#SimHei-32\"/>\r\n       <use x=\"50\" xlink:href=\"#SimHei-30\"/>\r\n       <use x=\"100\" xlink:href=\"#SimHei-31\"/>\r\n       <use x=\"150\" xlink:href=\"#SimHei-38\"/>\r\n       <use x=\"200\" xlink:href=\"#SimHei-2d\"/>\r\n       <use x=\"250\" xlink:href=\"#SimHei-30\"/>\r\n       <use x=\"300\" xlink:href=\"#SimHei-31\"/>\r\n      </g>\r\n     </g>\r\n    </g>\r\n    <g id=\"xtick_4\">\r\n     <g id=\"line2d_4\">\r\n      <g>\r\n       <use style=\"stroke:#000000;stroke-width:0.8;\" x=\"243.838582\" xlink:href=\"#mef2c1e6734\" y=\"293.34375\"/>\r\n      </g>\r\n     </g>\r\n     <g id=\"text_4\">\r\n      <!-- 2018-07 -->\r\n      <g transform=\"translate(226.338582 307.21875)scale(0.1 -0.1)\">\r\n       <use xlink:href=\"#SimHei-32\"/>\r\n       <use x=\"50\" xlink:href=\"#SimHei-30\"/>\r\n       <use x=\"100\" xlink:href=\"#SimHei-31\"/>\r\n       <use x=\"150\" xlink:href=\"#SimHei-38\"/>\r\n       <use x=\"200\" xlink:href=\"#SimHei-2d\"/>\r\n       <use x=\"250\" xlink:href=\"#SimHei-30\"/>\r\n       <use x=\"300\" xlink:href=\"#SimHei-37\"/>\r\n      </g>\r\n     </g>\r\n    </g>\r\n    <g id=\"xtick_5\">\r\n     <g id=\"line2d_5\">\r\n      <g>\r\n       <use style=\"stroke:#000000;stroke-width:0.8;\" x=\"302.06577\" xlink:href=\"#mef2c1e6734\" y=\"293.34375\"/>\r\n      </g>\r\n     </g>\r\n     <g id=\"text_5\">\r\n      <!-- 2019-01 -->\r\n      <g transform=\"translate(284.56577 307.21875)scale(0.1 -0.1)\">\r\n       <defs>\r\n        <path d=\"M 800 75 \r\nQ 1350 1000 1700 1750 \r\nQ 1075 1650 662 1912 \r\nQ 250 2175 162 2625 \r\nQ 75 3075 175 3437 \r\nQ 275 3800 487 4037 \r\nQ 700 4275 1000 4375 \r\nQ 1300 4475 1537 4475 \r\nQ 1775 4475 2025 4375 \r\nQ 2275 4275 2475 4075 \r\nQ 2675 3875 2750 3662 \r\nQ 2825 3450 2825 3112 \r\nQ 2825 2775 2575 2250 \r\nQ 2325 1725 1350 75 \r\nL 800 75 \r\nz\r\nM 662 2875 \r\nQ 700 2550 937 2337 \r\nQ 1175 2125 1450 2150 \r\nQ 1725 2175 1887 2300 \r\nQ 2050 2425 2200 2725 \r\nQ 2300 3100 2250 3362 \r\nQ 2200 3625 1987 3800 \r\nQ 1775 3975 1525 3975 \r\nQ 1375 4000 1137 3900 \r\nQ 900 3800 762 3500 \r\nQ 625 3200 662 2875 \r\nz\r\n\" id=\"SimHei-39\" transform=\"scale(0.015625)\"/>\r\n       </defs>\r\n       <use xlink:href=\"#SimHei-32\"/>\r\n       <use x=\"50\" xlink:href=\"#SimHei-30\"/>\r\n       <use x=\"100\" xlink:href=\"#SimHei-31\"/>\r\n       <use x=\"150\" xlink:href=\"#SimHei-39\"/>\r\n       <use x=\"200\" xlink:href=\"#SimHei-2d\"/>\r\n       <use x=\"250\" xlink:href=\"#SimHei-30\"/>\r\n       <use x=\"300\" xlink:href=\"#SimHei-31\"/>\r\n      </g>\r\n     </g>\r\n    </g>\r\n    <g id=\"xtick_6\">\r\n     <g id=\"line2d_6\">\r\n      <g>\r\n       <use style=\"stroke:#000000;stroke-width:0.8;\" x=\"359.343601\" xlink:href=\"#mef2c1e6734\" y=\"293.34375\"/>\r\n      </g>\r\n     </g>\r\n     <g id=\"text_6\">\r\n      <!-- 2019-07 -->\r\n      <g transform=\"translate(341.843601 307.21875)scale(0.1 -0.1)\">\r\n       <use xlink:href=\"#SimHei-32\"/>\r\n       <use x=\"50\" xlink:href=\"#SimHei-30\"/>\r\n       <use x=\"100\" xlink:href=\"#SimHei-31\"/>\r\n       <use x=\"150\" xlink:href=\"#SimHei-39\"/>\r\n       <use x=\"200\" xlink:href=\"#SimHei-2d\"/>\r\n       <use x=\"250\" xlink:href=\"#SimHei-30\"/>\r\n       <use x=\"300\" xlink:href=\"#SimHei-37\"/>\r\n      </g>\r\n     </g>\r\n    </g>\r\n    <g id=\"xtick_7\">\r\n     <g id=\"line2d_7\">\r\n      <g>\r\n       <use style=\"stroke:#000000;stroke-width:0.8;\" x=\"417.570789\" xlink:href=\"#mef2c1e6734\" y=\"293.34375\"/>\r\n      </g>\r\n     </g>\r\n     <g id=\"text_7\">\r\n      <!-- 2020-01 -->\r\n      <g transform=\"translate(400.070789 307.21875)scale(0.1 -0.1)\">\r\n       <use xlink:href=\"#SimHei-32\"/>\r\n       <use x=\"50\" xlink:href=\"#SimHei-30\"/>\r\n       <use x=\"100\" xlink:href=\"#SimHei-32\"/>\r\n       <use x=\"150\" xlink:href=\"#SimHei-30\"/>\r\n       <use x=\"200\" xlink:href=\"#SimHei-2d\"/>\r\n       <use x=\"250\" xlink:href=\"#SimHei-30\"/>\r\n       <use x=\"300\" xlink:href=\"#SimHei-31\"/>\r\n      </g>\r\n     </g>\r\n    </g>\r\n    <g id=\"xtick_8\">\r\n     <g id=\"line2d_8\">\r\n      <g>\r\n       <use style=\"stroke:#000000;stroke-width:0.8;\" x=\"475.165073\" xlink:href=\"#mef2c1e6734\" y=\"293.34375\"/>\r\n      </g>\r\n     </g>\r\n     <g id=\"text_8\">\r\n      <!-- 2020-07 -->\r\n      <g transform=\"translate(457.665073 307.21875)scale(0.1 -0.1)\">\r\n       <use xlink:href=\"#SimHei-32\"/>\r\n       <use x=\"50\" xlink:href=\"#SimHei-30\"/>\r\n       <use x=\"100\" xlink:href=\"#SimHei-32\"/>\r\n       <use x=\"150\" xlink:href=\"#SimHei-30\"/>\r\n       <use x=\"200\" xlink:href=\"#SimHei-2d\"/>\r\n       <use x=\"250\" xlink:href=\"#SimHei-30\"/>\r\n       <use x=\"300\" xlink:href=\"#SimHei-37\"/>\r\n      </g>\r\n     </g>\r\n    </g>\r\n    <g id=\"xtick_9\">\r\n     <g id=\"line2d_9\">\r\n      <g>\r\n       <use style=\"stroke:#000000;stroke-width:0.8;\" x=\"533.39226\" xlink:href=\"#mef2c1e6734\" y=\"293.34375\"/>\r\n      </g>\r\n     </g>\r\n     <g id=\"text_9\">\r\n      <!-- 2021-01 -->\r\n      <g transform=\"translate(515.89226 307.21875)scale(0.1 -0.1)\">\r\n       <use xlink:href=\"#SimHei-32\"/>\r\n       <use x=\"50\" xlink:href=\"#SimHei-30\"/>\r\n       <use x=\"100\" xlink:href=\"#SimHei-32\"/>\r\n       <use x=\"150\" xlink:href=\"#SimHei-31\"/>\r\n       <use x=\"200\" xlink:href=\"#SimHei-2d\"/>\r\n       <use x=\"250\" xlink:href=\"#SimHei-30\"/>\r\n       <use x=\"300\" xlink:href=\"#SimHei-31\"/>\r\n      </g>\r\n     </g>\r\n    </g>\r\n    <g id=\"xtick_10\">\r\n     <g id=\"line2d_10\">\r\n      <g>\r\n       <use style=\"stroke:#000000;stroke-width:0.8;\" x=\"590.670092\" xlink:href=\"#mef2c1e6734\" y=\"293.34375\"/>\r\n      </g>\r\n     </g>\r\n     <g id=\"text_10\">\r\n      <!-- 2021-07 -->\r\n      <g transform=\"translate(573.170092 307.21875)scale(0.1 -0.1)\">\r\n       <use xlink:href=\"#SimHei-32\"/>\r\n       <use x=\"50\" xlink:href=\"#SimHei-30\"/>\r\n       <use x=\"100\" xlink:href=\"#SimHei-32\"/>\r\n       <use x=\"150\" xlink:href=\"#SimHei-31\"/>\r\n       <use x=\"200\" xlink:href=\"#SimHei-2d\"/>\r\n       <use x=\"250\" xlink:href=\"#SimHei-30\"/>\r\n       <use x=\"300\" xlink:href=\"#SimHei-37\"/>\r\n      </g>\r\n     </g>\r\n    </g>\r\n    <g id=\"text_11\">\r\n     <!-- date -->\r\n     <g transform=\"translate(315.325 319.34375)scale(0.1 -0.1)\">\r\n      <defs>\r\n       <path d=\"M 2750 125 \r\nL 2250 125 \r\nL 2250 500 \r\nQ 2100 275 1900 175 \r\nQ 1700 75 1425 75 \r\nQ 925 75 575 437 \r\nQ 225 800 225 1525 \r\nQ 225 2250 575 2625 \r\nQ 925 3000 1425 3000 \r\nQ 1700 3000 1900 2887 \r\nQ 2100 2775 2250 2550 \r\nL 2250 4400 \r\nL 2750 4400 \r\nL 2750 125 \r\nz\r\nM 2250 1525 \r\nQ 2250 2000 2037 2275 \r\nQ 1825 2550 1525 2550 \r\nQ 1150 2550 962 2275 \r\nQ 775 2000 775 1525 \r\nQ 775 1050 962 787 \r\nQ 1150 525 1525 525 \r\nQ 1825 525 2037 787 \r\nQ 2250 1050 2250 1525 \r\nz\r\n\" id=\"SimHei-64\" transform=\"scale(0.015625)\"/>\r\n       <path d=\"M 2875 125 \r\nL 2275 125 \r\nQ 2225 175 2200 262 \r\nQ 2175 350 2175 475 \r\nQ 2000 275 1750 175 \r\nQ 1500 75 1225 75 \r\nQ 825 75 550 275 \r\nQ 275 475 275 850 \r\nQ 275 1225 525 1450 \r\nQ 775 1675 1300 1750 \r\nQ 1650 1800 1912 1875 \r\nQ 2175 1950 2175 2075 \r\nQ 2175 2225 2062 2375 \r\nQ 1950 2525 1575 2525 \r\nQ 1275 2525 1137 2412 \r\nQ 1000 2300 950 2100 \r\nL 400 2100 \r\nQ 450 2500 762 2737 \r\nQ 1075 2975 1575 2975 \r\nQ 2125 2975 2400 2725 \r\nQ 2675 2475 2675 2025 \r\nL 2675 650 \r\nQ 2675 500 2725 375 \r\nQ 2775 250 2875 125 \r\nz\r\nM 2175 1050 \r\nL 2175 1550 \r\nQ 2025 1500 1887 1462 \r\nQ 1750 1425 1425 1375 \r\nQ 1050 1325 937 1200 \r\nQ 825 1075 825 900 \r\nQ 825 750 937 637 \r\nQ 1050 525 1275 525 \r\nQ 1500 525 1762 650 \r\nQ 2025 775 2175 1050 \r\nz\r\n\" id=\"SimHei-61\" transform=\"scale(0.015625)\"/>\r\n       <path d=\"M 2750 200 \r\nQ 2625 150 2462 112 \r\nQ 2300 75 2025 75 \r\nQ 1575 75 1300 325 \r\nQ 1025 575 1025 1025 \r\nL 1025 2525 \r\nL 175 2525 \r\nL 175 2925 \r\nL 1025 2925 \r\nL 1025 3900 \r\nL 1525 3900 \r\nL 1525 2925 \r\nL 2550 2925 \r\nL 2550 2525 \r\nL 1525 2525 \r\nL 1525 1000 \r\nQ 1525 800 1625 662 \r\nQ 1725 525 2000 525 \r\nQ 2275 525 2450 575 \r\nQ 2625 625 2750 700 \r\nL 2750 200 \r\nz\r\n\" id=\"SimHei-74\" transform=\"scale(0.015625)\"/>\r\n       <path d=\"M 2850 1075 \r\nQ 2800 625 2450 350 \r\nQ 2100 75 1625 75 \r\nQ 1025 75 637 462 \r\nQ 250 850 250 1525 \r\nQ 250 2200 637 2587 \r\nQ 1025 2975 1625 2975 \r\nQ 2150 2975 2487 2637 \r\nQ 2825 2300 2825 1525 \r\nL 800 1525 \r\nQ 800 975 1037 750 \r\nQ 1275 525 1625 525 \r\nQ 1900 525 2075 662 \r\nQ 2250 800 2300 1075 \r\nL 2850 1075 \r\nz\r\nM 2250 1925 \r\nQ 2200 2275 2025 2412 \r\nQ 1850 2550 1575 2550 \r\nQ 1325 2550 1125 2412 \r\nQ 925 2275 825 1925 \r\nL 2250 1925 \r\nz\r\n\" id=\"SimHei-65\" transform=\"scale(0.015625)\"/>\r\n      </defs>\r\n      <use xlink:href=\"#SimHei-64\"/>\r\n      <use x=\"50\" xlink:href=\"#SimHei-61\"/>\r\n      <use x=\"100\" xlink:href=\"#SimHei-74\"/>\r\n      <use x=\"150\" xlink:href=\"#SimHei-65\"/>\r\n     </g>\r\n    </g>\r\n   </g>\r\n   <g id=\"matplotlib.axis_2\">\r\n    <g id=\"ytick_1\">\r\n     <g id=\"line2d_11\">\r\n      <defs>\r\n       <path d=\"M 0 0 \r\nL -3.5 0 \r\n\" id=\"m986b9fab48\" style=\"stroke:#000000;stroke-width:0.8;\"/>\r\n      </defs>\r\n      <g>\r\n       <use style=\"stroke:#000000;stroke-width:0.8;\" x=\"46.325\" xlink:href=\"#m986b9fab48\" y=\"267.306814\"/>\r\n      </g>\r\n     </g>\r\n     <g id=\"text_12\">\r\n      <!-- 0.00 -->\r\n      <g transform=\"translate(19.325 270.744314)scale(0.1 -0.1)\">\r\n       <defs>\r\n        <path d=\"M 1075 125 \r\nL 500 125 \r\nL 500 675 \r\nL 1075 675 \r\nL 1075 125 \r\nz\r\n\" id=\"SimHei-2e\" transform=\"scale(0.015625)\"/>\r\n       </defs>\r\n       <use xlink:href=\"#SimHei-30\"/>\r\n       <use x=\"50\" xlink:href=\"#SimHei-2e\"/>\r\n       <use x=\"100\" xlink:href=\"#SimHei-30\"/>\r\n       <use x=\"150\" xlink:href=\"#SimHei-30\"/>\r\n      </g>\r\n     </g>\r\n    </g>\r\n    <g id=\"ytick_2\">\r\n     <g id=\"line2d_12\">\r\n      <g>\r\n       <use style=\"stroke:#000000;stroke-width:0.8;\" x=\"46.325\" xlink:href=\"#m986b9fab48\" y=\"224.784838\"/>\r\n      </g>\r\n     </g>\r\n     <g id=\"text_13\">\r\n      <!-- 0.05 -->\r\n      <g transform=\"translate(19.325 228.222338)scale(0.1 -0.1)\">\r\n       <defs>\r\n        <path d=\"M 550 1325 \r\nQ 725 650 1150 575 \r\nQ 1575 500 1837 662 \r\nQ 2100 825 2212 1087 \r\nQ 2325 1350 2312 1675 \r\nQ 2300 2000 2137 2225 \r\nQ 1975 2450 1725 2525 \r\nQ 1475 2600 1162 2525 \r\nQ 850 2450 650 2175 \r\nL 225 2225 \r\nQ 275 2375 700 4375 \r\nL 2675 4375 \r\nL 2675 3925 \r\nL 1075 3925 \r\nQ 950 3250 825 2850 \r\nQ 1200 3025 1525 3012 \r\nQ 1850 3000 2150 2862 \r\nQ 2450 2725 2587 2487 \r\nQ 2725 2250 2787 2012 \r\nQ 2850 1775 2837 1500 \r\nQ 2825 1225 2725 937 \r\nQ 2625 650 2425 462 \r\nQ 2225 275 1937 162 \r\nQ 1650 50 1275 75 \r\nQ 900 100 562 350 \r\nQ 225 600 100 1200 \r\nL 550 1325 \r\nz\r\n\" id=\"SimHei-35\" transform=\"scale(0.015625)\"/>\r\n       </defs>\r\n       <use xlink:href=\"#SimHei-30\"/>\r\n       <use x=\"50\" xlink:href=\"#SimHei-2e\"/>\r\n       <use x=\"100\" xlink:href=\"#SimHei-30\"/>\r\n       <use x=\"150\" xlink:href=\"#SimHei-35\"/>\r\n      </g>\r\n     </g>\r\n    </g>\r\n    <g id=\"ytick_3\">\r\n     <g id=\"line2d_13\">\r\n      <g>\r\n       <use style=\"stroke:#000000;stroke-width:0.8;\" x=\"46.325\" xlink:href=\"#m986b9fab48\" y=\"182.262862\"/>\r\n      </g>\r\n     </g>\r\n     <g id=\"text_14\">\r\n      <!-- 0.10 -->\r\n      <g transform=\"translate(19.325 185.700362)scale(0.1 -0.1)\">\r\n       <use xlink:href=\"#SimHei-30\"/>\r\n       <use x=\"50\" xlink:href=\"#SimHei-2e\"/>\r\n       <use x=\"100\" xlink:href=\"#SimHei-31\"/>\r\n       <use x=\"150\" xlink:href=\"#SimHei-30\"/>\r\n      </g>\r\n     </g>\r\n    </g>\r\n    <g id=\"ytick_4\">\r\n     <g id=\"line2d_14\">\r\n      <g>\r\n       <use style=\"stroke:#000000;stroke-width:0.8;\" x=\"46.325\" xlink:href=\"#m986b9fab48\" y=\"139.740886\"/>\r\n      </g>\r\n     </g>\r\n     <g id=\"text_15\">\r\n      <!-- 0.15 -->\r\n      <g transform=\"translate(19.325 143.178386)scale(0.1 -0.1)\">\r\n       <use xlink:href=\"#SimHei-30\"/>\r\n       <use x=\"50\" xlink:href=\"#SimHei-2e\"/>\r\n       <use x=\"100\" xlink:href=\"#SimHei-31\"/>\r\n       <use x=\"150\" xlink:href=\"#SimHei-35\"/>\r\n      </g>\r\n     </g>\r\n    </g>\r\n    <g id=\"ytick_5\">\r\n     <g id=\"line2d_15\">\r\n      <g>\r\n       <use style=\"stroke:#000000;stroke-width:0.8;\" x=\"46.325\" xlink:href=\"#m986b9fab48\" y=\"97.21891\"/>\r\n      </g>\r\n     </g>\r\n     <g id=\"text_16\">\r\n      <!-- 0.20 -->\r\n      <g transform=\"translate(19.325 100.65641)scale(0.1 -0.1)\">\r\n       <use xlink:href=\"#SimHei-30\"/>\r\n       <use x=\"50\" xlink:href=\"#SimHei-2e\"/>\r\n       <use x=\"100\" xlink:href=\"#SimHei-32\"/>\r\n       <use x=\"150\" xlink:href=\"#SimHei-30\"/>\r\n      </g>\r\n     </g>\r\n    </g>\r\n    <g id=\"ytick_6\">\r\n     <g id=\"line2d_16\">\r\n      <g>\r\n       <use style=\"stroke:#000000;stroke-width:0.8;\" x=\"46.325\" xlink:href=\"#m986b9fab48\" y=\"54.696934\"/>\r\n      </g>\r\n     </g>\r\n     <g id=\"text_17\">\r\n      <!-- 0.25 -->\r\n      <g transform=\"translate(19.325 58.134434)scale(0.1 -0.1)\">\r\n       <use xlink:href=\"#SimHei-30\"/>\r\n       <use x=\"50\" xlink:href=\"#SimHei-2e\"/>\r\n       <use x=\"100\" xlink:href=\"#SimHei-32\"/>\r\n       <use x=\"150\" xlink:href=\"#SimHei-35\"/>\r\n      </g>\r\n     </g>\r\n    </g>\r\n    <g id=\"text_18\">\r\n     <!-- pnl -->\r\n     <g transform=\"translate(14.075 164.94375)rotate(-90)scale(0.1 -0.1)\">\r\n      <defs>\r\n       <path d=\"M 2825 1525 \r\nQ 2825 800 2475 425 \r\nQ 2125 50 1625 50 \r\nQ 1350 50 1150 162 \r\nQ 950 275 800 500 \r\nL 800 -800 \r\nL 300 -800 \r\nL 300 2925 \r\nL 800 2925 \r\nL 800 2550 \r\nQ 950 2775 1150 2875 \r\nQ 1350 2975 1625 2975 \r\nQ 2125 2975 2475 2612 \r\nQ 2825 2250 2825 1525 \r\nz\r\nM 2275 1525 \r\nQ 2275 2000 2087 2262 \r\nQ 1900 2525 1525 2525 \r\nQ 1225 2525 1012 2262 \r\nQ 800 2000 800 1525 \r\nQ 800 1050 1012 775 \r\nQ 1225 500 1525 500 \r\nQ 1900 500 2087 775 \r\nQ 2275 1050 2275 1525 \r\nz\r\n\" id=\"SimHei-70\" transform=\"scale(0.015625)\"/>\r\n       <path d=\"M 2800 125 \r\nL 2300 125 \r\nL 2300 1925 \r\nQ 2300 2225 2150 2400 \r\nQ 2000 2575 1750 2575 \r\nQ 1425 2575 1137 2237 \r\nQ 850 1900 850 1400 \r\nL 850 125 \r\nL 350 125 \r\nL 350 2925 \r\nL 850 2925 \r\nL 850 2400 \r\nQ 1050 2675 1287 2825 \r\nQ 1525 2975 1900 2975 \r\nQ 2350 2975 2575 2725 \r\nQ 2800 2475 2800 2100 \r\nL 2800 125 \r\nz\r\n\" id=\"SimHei-6e\" transform=\"scale(0.015625)\"/>\r\n       <path d=\"M 1825 125 \r\nL 1325 125 \r\nL 1325 4400 \r\nL 1825 4400 \r\nL 1825 125 \r\nz\r\n\" id=\"SimHei-6c\" transform=\"scale(0.015625)\"/>\r\n      </defs>\r\n      <use xlink:href=\"#SimHei-70\"/>\r\n      <use x=\"50\" xlink:href=\"#SimHei-6e\"/>\r\n      <use x=\"100\" xlink:href=\"#SimHei-6c\"/>\r\n     </g>\r\n    </g>\r\n   </g>\r\n   <g id=\"line2d_17\">\r\n    <path clip-path=\"url(#p11890ea146)\" d=\"M 71.688636 280.762714 \r\nL 72.005088 279.866168 \r\nL 72.637993 280.989205 \r\nL 73.587349 278.514018 \r\nL 73.903801 275.613516 \r\nL 74.220253 275.8802 \r\nL 74.536705 277.019122 \r\nL 74.853157 274.753637 \r\nL 75.802514 274.631201 \r\nL 76.118966 275.135606 \r\nL 76.435418 273.45781 \r\nL 76.75187 273.763181 \r\nL 77.068322 274.915904 \r\nL 78.017679 274.856005 \r\nL 78.334131 270.678011 \r\nL 78.650583 271.678345 \r\nL 78.967035 271.929205 \r\nL 81.498652 244.158211 \r\nL 82.448008 243.284577 \r\nL 82.76446 243.35687 \r\nL 83.080912 242.459803 \r\nL 83.397364 242.560263 \r\nL 83.713816 247.618171 \r\nL 84.663173 247.661102 \r\nL 84.979625 252.769885 \r\nL 85.296077 252.72477 \r\nL 85.612529 251.138071 \r\nL 85.928981 251.138071 \r\nL 86.878337 251.77438 \r\nL 87.19479 250.793578 \r\nL 87.511242 250.847007 \r\nL 87.827694 251.948013 \r\nL 88.144146 246.661772 \r\nL 89.093502 246.880962 \r\nL 89.409954 245.934929 \r\nL 89.726406 245.980676 \r\nL 90.042859 245.644601 \r\nL 91.308667 245.983489 \r\nL 91.625119 246.421884 \r\nL 91.941571 252.533479 \r\nL 92.574475 252.569588 \r\nL 93.523832 233.056281 \r\nL 93.840284 232.944884 \r\nL 94.78964 233.336379 \r\nL 95.738996 232.328137 \r\nL 96.055449 233.012884 \r\nL 96.371901 232.881463 \r\nL 96.688353 232.485269 \r\nL 97.004805 232.516451 \r\nL 97.954161 233.421218 \r\nL 98.270613 227.196361 \r\nL 98.903518 227.457826 \r\nL 99.21997 227.14 \r\nL 100.80223 224.468152 \r\nL 101.118682 221.881466 \r\nL 101.435134 221.994834 \r\nL 102.384491 215.755121 \r\nL 102.700943 218.015562 \r\nL 103.017395 219.184342 \r\nL 103.333847 219.576819 \r\nL 103.650299 216.525005 \r\nL 104.599655 215.456968 \r\nL 104.916108 214.907012 \r\nL 105.23256 215.878398 \r\nL 105.549012 204.346887 \r\nL 105.865464 204.418945 \r\nL 107.131272 204.151052 \r\nL 107.447724 206.663852 \r\nL 107.764177 206.624921 \r\nL 108.080629 205.982567 \r\nL 109.346437 207.040649 \r\nL 109.662889 204.676103 \r\nL 109.979341 206.137359 \r\nL 110.295793 205.498896 \r\nL 111.24515 205.107013 \r\nL 111.561602 205.210683 \r\nL 111.878054 206.346427 \r\nL 112.194506 206.1812 \r\nL 112.510958 206.501176 \r\nL 113.460314 208.314646 \r\nL 113.776767 207.935449 \r\nL 114.093219 207.921893 \r\nL 114.409671 213.113865 \r\nL 114.726123 213.555716 \r\nL 115.675479 213.154111 \r\nL 115.991931 213.174219 \r\nL 116.308383 212.77839 \r\nL 116.624836 211.686759 \r\nL 116.941288 211.830029 \r\nL 118.523548 209.935717 \r\nL 118.84 211.320867 \r\nL 119.156452 210.740521 \r\nL 120.105809 209.318662 \r\nL 120.738713 209.339252 \r\nL 121.055165 208.912114 \r\nL 121.371617 207.860105 \r\nL 122.320973 207.868366 \r\nL 122.637426 208.100465 \r\nL 123.27033 202.848212 \r\nL 123.586782 203.013941 \r\nL 124.536138 201.434065 \r\nL 124.85259 201.466472 \r\nL 125.169042 199.994698 \r\nL 125.485495 200.151653 \r\nL 125.801947 200.441375 \r\nL 126.751303 200.506523 \r\nL 127.067755 200.836502 \r\nL 127.384207 198.80503 \r\nL 127.700659 199.070669 \r\nL 128.017111 199.137685 \r\nL 128.966468 199.821521 \r\nL 129.28292 198.456419 \r\nL 129.599372 198.399187 \r\nL 129.915824 198.618751 \r\nL 130.232276 198.677966 \r\nL 131.498085 199.179481 \r\nL 132.130989 199.919523 \r\nL 132.447441 199.525762 \r\nL 133.396797 199.08739 \r\nL 134.029701 195.362918 \r\nL 134.346154 195.45732 \r\nL 134.662606 201.208333 \r\nL 135.928414 200.6479 \r\nL 136.244866 201.104569 \r\nL 136.561318 200.239132 \r\nL 136.87777 200.200248 \r\nL 137.827127 195.323301 \r\nL 138.143579 195.37932 \r\nL 138.460031 196.086172 \r\nL 138.776483 198.047825 \r\nL 139.092935 198.661253 \r\nL 140.042291 206.406838 \r\nL 140.358744 206.410279 \r\nL 140.675196 206.957672 \r\nL 140.991648 209.298882 \r\nL 141.3081 205.569427 \r\nL 142.257456 209.977567 \r\nL 142.573908 209.235525 \r\nL 142.89036 204.141854 \r\nL 143.206813 204.980969 \r\nL 143.523265 208.404666 \r\nL 144.472621 207.564971 \r\nL 144.789073 201.33109 \r\nL 145.105525 199.228706 \r\nL 145.421977 198.116394 \r\nL 145.738429 193.321844 \r\nL 146.687786 198.181645 \r\nL 147.004238 197.649819 \r\nL 147.637142 196.086522 \r\nL 147.953594 196.701208 \r\nL 148.90295 192.790694 \r\nL 149.219403 195.737354 \r\nL 149.852307 196.493235 \r\nL 150.168759 198.626101 \r\nL 151.118115 189.416677 \r\nL 151.434567 189.458314 \r\nL 151.751019 189.143881 \r\nL 152.067472 189.113203 \r\nL 152.383924 188.842826 \r\nL 153.33328 191.497459 \r\nL 153.649732 191.482782 \r\nL 153.966184 192.227038 \r\nL 154.282636 192.159412 \r\nL 154.599088 192.58421 \r\nL 155.548445 195.64872 \r\nL 155.864897 195.611262 \r\nL 156.181349 194.009149 \r\nL 156.497801 196.028536 \r\nL 156.814253 193.512306 \r\nL 159.978774 193.654852 \r\nL 160.295226 194.15558 \r\nL 160.611678 195.721937 \r\nL 160.92813 191.292374 \r\nL 161.244583 192.542248 \r\nL 162.193939 182.720161 \r\nL 162.510391 182.445457 \r\nL 162.826843 179.193897 \r\nL 163.143295 179.24963 \r\nL 163.459747 177.079747 \r\nL 164.409104 177.458497 \r\nL 164.725556 178.242417 \r\nL 165.042008 177.165819 \r\nL 165.674912 177.198359 \r\nL 166.624268 177.003651 \r\nL 166.940721 178.022064 \r\nL 167.257173 176.184388 \r\nL 167.573625 176.25064 \r\nL 167.890077 176.466123 \r\nL 169.155885 176.423707 \r\nL 169.472337 175.353519 \r\nL 169.788789 174.68442 \r\nL 170.105242 174.784252 \r\nL 171.054598 174.784252 \r\nL 171.37105 174.636987 \r\nL 171.687502 173.212277 \r\nL 172.003954 173.023298 \r\nL 172.320406 173.090213 \r\nL 173.269763 173.81195 \r\nL 173.586215 173.81195 \r\nL 173.902667 173.632887 \r\nL 174.219119 174.695229 \r\nL 174.535571 174.695229 \r\nL 175.484927 173.292566 \r\nL 175.80138 173.450202 \r\nL 176.117832 172.97445 \r\nL 176.750736 173.330145 \r\nL 178.016544 173.858926 \r\nL 178.332996 173.485883 \r\nL 178.649448 168.900479 \r\nL 178.965901 166.591956 \r\nL 180.231709 167.156955 \r\nL 180.548161 167.156955 \r\nL 180.864613 167.334169 \r\nL 181.181065 166.256644 \r\nL 182.446874 167.280573 \r\nL 182.763326 166.435828 \r\nL 183.079778 169.86826 \r\nL 183.39623 169.86826 \r\nL 184.345586 163.128705 \r\nL 184.662039 163.128705 \r\nL 184.978491 163.637375 \r\nL 185.294943 162.809114 \r\nL 185.611395 162.817156 \r\nL 186.877203 162.312967 \r\nL 187.193655 162.312967 \r\nL 187.510107 160.696925 \r\nL 187.82656 160.740904 \r\nL 189.092368 159.091586 \r\nL 189.725272 158.830521 \r\nL 190.041724 158.896865 \r\nL 190.991081 160.657525 \r\nL 191.307533 160.80435 \r\nL 191.940437 160.749527 \r\nL 192.256889 159.93626 \r\nL 193.522697 159.816531 \r\nL 193.83915 159.813004 \r\nL 194.155602 160.009358 \r\nL 195.42141 160.075356 \r\nL 195.737862 160.396182 \r\nL 196.054314 160.184002 \r\nL 196.370766 160.646814 \r\nL 196.687219 160.525181 \r\nL 197.636575 156.851276 \r\nL 197.953027 156.843947 \r\nL 198.585931 156.959377 \r\nL 198.902383 156.951642 \r\nL 199.85174 158.024056 \r\nL 200.484644 158.02128 \r\nL 203.016261 159.288535 \r\nL 203.332713 156.404512 \r\nL 204.598521 157.214013 \r\nL 204.914973 159.592881 \r\nL 206.497234 159.46718 \r\nL 206.813686 159.550452 \r\nL 207.44659 159.393824 \r\nL 207.763042 158.014083 \r\nL 208.712399 159.055626 \r\nL 209.028851 159.045115 \r\nL 209.345303 158.906982 \r\nL 209.661755 159.261805 \r\nL 209.978207 159.38253 \r\nL 211.244015 159.34252 \r\nL 211.560468 159.554188 \r\nL 211.87692 161.583818 \r\nL 212.193372 166.146433 \r\nL 213.142728 167.527609 \r\nL 213.45918 167.114059 \r\nL 213.775632 170.317851 \r\nL 214.092084 169.873944 \r\nL 214.408537 167.502674 \r\nL 215.357893 165.928172 \r\nL 215.674345 166.271603 \r\nL 215.990797 166.271603 \r\nL 217.573058 164.526329 \r\nL 217.88951 164.739346 \r\nL 218.522414 164.773411 \r\nL 218.838866 164.477813 \r\nL 219.788222 167.151485 \r\nL 220.104674 166.63378 \r\nL 221.054031 166.653409 \r\nL 222.003387 166.178823 \r\nL 222.319839 166.178823 \r\nL 222.636291 166.877009 \r\nL 223.269196 166.88344 \r\nL 224.851456 162.178587 \r\nL 225.48436 161.994828 \r\nL 226.433717 162.665707 \r\nL 226.750169 162.520071 \r\nL 227.383073 162.593352 \r\nL 227.699525 162.206866 \r\nL 228.648881 162.169991 \r\nL 228.965333 162.519605 \r\nL 229.281786 164.019854 \r\nL 229.598238 164.019854 \r\nL 229.91469 163.500459 \r\nL 230.864046 164.979529 \r\nL 231.180498 164.955468 \r\nL 231.49695 165.86821 \r\nL 231.813402 165.282798 \r\nL 233.079211 165.478608 \r\nL 233.395663 165.370544 \r\nL 234.345019 165.558569 \r\nL 235.294376 165.74732 \r\nL 235.610828 165.639299 \r\nL 235.92728 165.711494 \r\nL 237.50954 165.322444 \r\nL 237.825992 166.053938 \r\nL 238.142445 166.07377 \r\nL 238.458897 166.475677 \r\nL 238.775349 166.475677 \r\nL 240.041157 157.816557 \r\nL 240.357609 157.88938 \r\nL 240.674061 158.100023 \r\nL 240.990514 157.465839 \r\nL 242.256322 157.172984 \r\nL 242.572774 156.759501 \r\nL 243.205678 156.877689 \r\nL 244.155035 154.694522 \r\nL 244.471487 154.753027 \r\nL 244.787939 155.561928 \r\nL 245.104391 155.56545 \r\nL 245.420843 158.430239 \r\nL 246.370199 157.635654 \r\nL 246.686651 157.635654 \r\nL 247.003104 158.290273 \r\nL 247.636008 158.091098 \r\nL 248.585364 158.916866 \r\nL 248.901816 158.410496 \r\nL 249.53472 158.329581 \r\nL 249.851173 158.287936 \r\nL 251.116981 158.198416 \r\nL 251.433433 158.456489 \r\nL 251.749885 158.459221 \r\nL 252.066337 157.385906 \r\nL 253.015694 156.304389 \r\nL 253.332146 156.160531 \r\nL 253.648598 156.216877 \r\nL 253.96505 155.334924 \r\nL 255.230858 158.270611 \r\nL 255.54731 155.457097 \r\nL 255.863763 155.272198 \r\nL 256.180215 155.272198 \r\nL 256.496667 152.313533 \r\nL 257.446023 149.547389 \r\nL 257.762475 149.491948 \r\nL 258.078927 153.021345 \r\nL 258.395379 152.528193 \r\nL 258.711832 154.379007 \r\nL 259.97764 156.499732 \r\nL 260.294092 154.591224 \r\nL 260.610544 155.685397 \r\nL 260.926996 155.787413 \r\nL 262.192805 155.704643 \r\nL 262.509257 154.832642 \r\nL 262.825709 154.622036 \r\nL 263.142161 154.73813 \r\nL 264.091517 154.64172 \r\nL 264.407969 153.327847 \r\nL 264.724422 153.553281 \r\nL 265.040874 152.477315 \r\nL 265.357326 152.292052 \r\nL 266.306682 147.404421 \r\nL 266.623134 147.760337 \r\nL 267.256038 147.745187 \r\nL 267.572491 147.39159 \r\nL 268.521847 147.805785 \r\nL 268.838299 146.554141 \r\nL 269.154751 146.773599 \r\nL 269.471203 146.798555 \r\nL 269.787655 146.096013 \r\nL 271.053464 145.016718 \r\nL 271.369916 145.208983 \r\nL 271.686368 145.045209 \r\nL 272.00282 143.621565 \r\nL 275.800245 143.194877 \r\nL 276.116697 143.913544 \r\nL 276.433149 144.098457 \r\nL 277.698958 144.08234 \r\nL 278.01541 142.260167 \r\nL 278.331862 142.473887 \r\nL 279.597671 142.547607 \r\nL 279.914123 143.477879 \r\nL 280.230575 143.363972 \r\nL 280.547027 143.794441 \r\nL 280.863479 142.908495 \r\nL 282.44574 143.333787 \r\nL 282.762192 143.932758 \r\nL 283.078644 143.057125 \r\nL 284.028 142.814412 \r\nL 284.344452 142.331418 \r\nL 284.660904 142.497081 \r\nL 284.977356 140.872482 \r\nL 285.293808 141.195694 \r\nL 286.559617 141.353566 \r\nL 286.876069 141.271261 \r\nL 287.192521 138.729314 \r\nL 287.508973 138.729314 \r\nL 288.45833 138.438408 \r\nL 288.774782 137.746465 \r\nL 289.091234 131.329266 \r\nL 289.407686 131.300172 \r\nL 289.724138 132.110532 \r\nL 290.673494 126.178079 \r\nL 290.989946 125.334425 \r\nL 291.306399 125.454735 \r\nL 291.622851 126.437036 \r\nL 291.939303 125.369947 \r\nL 292.888659 131.753087 \r\nL 293.205111 131.759722 \r\nL 293.521563 133.712034 \r\nL 294.154467 134.752454 \r\nL 295.103824 134.352562 \r\nL 295.420276 134.036432 \r\nL 295.736728 133.929136 \r\nL 296.05318 134.148745 \r\nL 296.369632 134.001632 \r\nL 297.318989 134.001367 \r\nL 297.635441 133.81025 \r\nL 297.951893 134.057076 \r\nL 298.584797 134.016465 \r\nL 299.534153 134.050707 \r\nL 299.850605 133.471805 \r\nL 300.167058 133.660847 \r\nL 300.48351 134.434833 \r\nL 300.799962 134.434833 \r\nL 302.382222 132.893118 \r\nL 302.698674 134.098196 \r\nL 303.015126 134.219502 \r\nL 304.597387 134.229491 \r\nL 304.913839 134.751462 \r\nL 305.230291 134.841179 \r\nL 306.179648 134.709922 \r\nL 306.812552 134.84158 \r\nL 307.445456 134.797935 \r\nL 309.660621 134.95776 \r\nL 310.609977 133.260535 \r\nL 310.926429 132.992729 \r\nL 311.242881 134.678502 \r\nL 311.559333 133.529 \r\nL 311.875785 134.021713 \r\nL 315.040307 130.614123 \r\nL 315.356759 130.950973 \r\nL 316.306115 131.049035 \r\nL 317.255471 130.552859 \r\nL 317.888375 131.693749 \r\nL 318.204828 132.115447 \r\nL 319.470636 132.153172 \r\nL 320.10354 133.068159 \r\nL 320.736444 133.089835 \r\nL 321.685801 128.184043 \r\nL 322.002253 128.116672 \r\nL 322.318705 128.466831 \r\nL 322.951609 128.650027 \r\nL 323.900966 128.421999 \r\nL 324.53387 128.550365 \r\nL 325.166774 129.256784 \r\nL 326.432582 129.997306 \r\nL 326.749034 130.935765 \r\nL 328.647747 130.892135 \r\nL 328.964199 131.142664 \r\nL 329.280651 131.142664 \r\nL 330.54646 132.111307 \r\nL 330.862912 131.60439 \r\nL 331.179364 132.489604 \r\nL 331.495816 132.489604 \r\nL 332.761625 131.05376 \r\nL 333.394529 131.160447 \r\nL 333.710981 129.509406 \r\nL 334.027433 129.585118 \r\nL 334.976789 129.531428 \r\nL 335.609693 129.641406 \r\nL 335.926146 129.641406 \r\nL 336.242598 129.212579 \r\nL 337.824858 129.245823 \r\nL 338.457762 129.284054 \r\nL 339.407119 129.667451 \r\nL 339.723571 129.667451 \r\nL 341.622284 131.861156 \r\nL 342.255188 133.644672 \r\nL 342.57164 133.644672 \r\nL 342.888092 133.794069 \r\nL 343.837448 133.902798 \r\nL 344.1539 133.523029 \r\nL 344.470352 133.359687 \r\nL 344.786805 133.530151 \r\nL 345.103257 134.108379 \r\nL 346.052613 134.283875 \r\nL 346.369065 130.153088 \r\nL 346.685517 130.255118 \r\nL 347.001969 130.056177 \r\nL 347.318421 129.665242 \r\nL 348.267778 129.900791 \r\nL 348.58423 131.398722 \r\nL 349.217134 131.54163 \r\nL 349.533586 130.28689 \r\nL 350.482942 131.122666 \r\nL 351.115847 131.137671 \r\nL 351.432299 126.213136 \r\nL 352.698107 126.195747 \r\nL 353.014559 126.475262 \r\nL 353.331011 125.888682 \r\nL 353.647464 127.708092 \r\nL 353.963916 127.977724 \r\nL 354.913272 127.977724 \r\nL 355.229724 127.804444 \r\nL 355.546176 131.107584 \r\nL 355.862628 131.588111 \r\nL 356.17908 131.788909 \r\nL 357.128437 133.551173 \r\nL 357.444889 133.551173 \r\nL 357.761341 132.272933 \r\nL 358.077793 132.674059 \r\nL 358.394245 132.588282 \r\nL 359.343601 133.606153 \r\nL 359.660054 137.303483 \r\nL 359.976506 137.989003 \r\nL 360.60941 137.481993 \r\nL 361.558766 136.629233 \r\nL 361.875218 136.03712 \r\nL 362.19167 136.138964 \r\nL 362.824575 137.007485 \r\nL 363.773931 135.146431 \r\nL 364.090383 135.823244 \r\nL 364.406835 137.348381 \r\nL 364.723287 137.660704 \r\nL 365.039739 136.725072 \r\nL 365.989096 137.083199 \r\nL 366.305548 137.46783 \r\nL 366.622 136.73285 \r\nL 366.938452 136.784618 \r\nL 367.254904 136.223699 \r\nL 368.837165 136.215682 \r\nL 369.153617 135.850823 \r\nL 370.735877 136.015028 \r\nL 371.052329 137.085569 \r\nL 371.368782 136.755678 \r\nL 371.685234 137.233415 \r\nL 372.63459 136.339519 \r\nL 372.951042 135.422184 \r\nL 373.267494 135.513741 \r\nL 373.900398 135.282541 \r\nL 374.849755 135.629141 \r\nL 375.166207 134.80488 \r\nL 376.115563 134.815716 \r\nL 377.064919 132.083444 \r\nL 377.381372 132.182542 \r\nL 378.014276 132.611684 \r\nL 378.330728 132.398278 \r\nL 379.596536 132.642415 \r\nL 379.912988 132.661313 \r\nL 380.229441 132.38009 \r\nL 380.545893 131.570017 \r\nL 381.495249 131.129704 \r\nL 381.811701 131.122909 \r\nL 382.128153 132.653023 \r\nL 382.444605 132.729314 \r\nL 383.710414 132.190228 \r\nL 384.026866 132.294519 \r\nL 384.343318 129.075833 \r\nL 384.976222 131.793929 \r\nL 385.925578 127.256357 \r\nL 386.242031 129.021444 \r\nL 386.558483 129.037255 \r\nL 386.874935 129.510929 \r\nL 387.191387 129.381979 \r\nL 388.140743 129.4241 \r\nL 390.67236 130.171358 \r\nL 390.988812 130.422311 \r\nL 391.621716 130.356182 \r\nL 392.571073 129.033503 \r\nL 392.887525 127.188148 \r\nL 393.203977 126.628475 \r\nL 393.520429 126.628475 \r\nL 393.836881 125.114277 \r\nL 395.10269 125.09726 \r\nL 396.052046 125.061544 \r\nL 397.317854 124.762512 \r\nL 397.634306 125.140085 \r\nL 397.950759 125.124667 \r\nL 398.267211 125.359586 \r\nL 399.216567 125.382394 \r\nL 399.533019 124.732308 \r\nL 400.165923 124.919217 \r\nL 400.482375 124.685521 \r\nL 401.431732 124.752072 \r\nL 401.748184 124.421512 \r\nL 402.064636 123.699532 \r\nL 402.69754 123.950254 \r\nL 403.963349 124.954857 \r\nL 404.912705 124.954857 \r\nL 405.862061 124.632446 \r\nL 406.178513 124.861755 \r\nL 408.393678 124.738793 \r\nL 409.026582 125.322032 \r\nL 409.343034 125.258326 \r\nL 410.292391 125.744427 \r\nL 410.608843 125.71973 \r\nL 410.925295 124.52624 \r\nL 411.241747 125.246571 \r\nL 411.558199 125.420874 \r\nL 412.507555 124.994341 \r\nL 412.824008 124.163604 \r\nL 413.14046 124.533309 \r\nL 413.456912 124.710684 \r\nL 413.773364 124.702344 \r\nL 415.039172 124.561101 \r\nL 415.988529 124.623524 \r\nL 417.254337 124.711977 \r\nL 417.887241 125.03235 \r\nL 419.15305 125.03235 \r\nL 419.469502 124.889471 \r\nL 423.899831 124.980028 \r\nL 424.216283 123.729956 \r\nL 424.532735 123.88017 \r\nL 428.013709 123.968519 \r\nL 428.330161 114.063105 \r\nL 428.646613 114.063105 \r\nL 428.963065 113.542548 \r\nL 429.279517 113.542548 \r\nL 430.228873 114.77182 \r\nL 430.545326 113.39192 \r\nL 431.17823 113.715045 \r\nL 431.494682 113.702928 \r\nL 432.76049 114.383424 \r\nL 433.076942 114.404948 \r\nL 433.393394 113.49465 \r\nL 433.709847 113.67655 \r\nL 434.975655 115.110138 \r\nL 435.292107 114.308082 \r\nL 435.608559 114.594998 \r\nL 435.925011 118.15141 \r\nL 436.874368 109.321961 \r\nL 437.19082 110.654941 \r\nL 437.507272 110.292373 \r\nL 438.140176 111.180514 \r\nL 439.089532 107.522345 \r\nL 439.405985 104.980941 \r\nL 439.722437 105.249627 \r\nL 440.038889 105.190892 \r\nL 440.355341 101.920588 \r\nL 441.304697 101.536306 \r\nL 441.621149 101.717915 \r\nL 441.937601 102.053876 \r\nL 442.254053 92.332285 \r\nL 442.570506 91.365169 \r\nL 443.519862 90.741301 \r\nL 443.836314 88.737366 \r\nL 444.152766 89.945494 \r\nL 444.469218 89.945494 \r\nL 444.78567 90.368054 \r\nL 445.735027 90.129009 \r\nL 446.051479 89.583274 \r\nL 446.367931 92.642905 \r\nL 446.684383 84.686482 \r\nL 447.000835 83.022571 \r\nL 448.266644 84.966107 \r\nL 448.583096 84.993217 \r\nL 449.216 83.806743 \r\nL 450.165356 83.790829 \r\nL 450.481808 84.270826 \r\nL 451.114712 84.290819 \r\nL 451.431165 85.126594 \r\nL 452.380521 85.329687 \r\nL 453.013425 85.626052 \r\nL 453.329877 86.348569 \r\nL 453.646329 86.41718 \r\nL 454.595686 86.454925 \r\nL 454.912138 88.509453 \r\nL 455.22859 88.861734 \r\nL 455.545042 87.869548 \r\nL 457.760207 87.51706 \r\nL 459.026015 87.54022 \r\nL 459.342467 87.874179 \r\nL 459.975371 87.927053 \r\nL 460.291824 87.995826 \r\nL 461.874084 87.985196 \r\nL 462.190536 88.381501 \r\nL 462.506988 89.200241 \r\nL 463.456345 89.22549 \r\nL 463.772797 89.672697 \r\nL 464.089249 89.736218 \r\nL 464.722153 89.699042 \r\nL 465.671509 90.097856 \r\nL 466.304414 89.294451 \r\nL 466.620866 89.506298 \r\nL 466.937318 90.106225 \r\nL 467.886674 93.133019 \r\nL 468.203126 93.555981 \r\nL 468.519578 93.576415 \r\nL 468.83603 94.001709 \r\nL 469.152483 93.675224 \r\nL 470.101839 93.255968 \r\nL 470.418291 93.374165 \r\nL 471.367647 93.388092 \r\nL 472.633456 93.658675 \r\nL 472.949908 93.658675 \r\nL 474.532168 90.037801 \r\nL 475.165073 90.080586 \r\nL 475.797977 90.38246 \r\nL 477.063785 89.620056 \r\nL 477.696689 89.559158 \r\nL 478.013142 88.198616 \r\nL 479.595402 89.035338 \r\nL 479.911854 88.86542 \r\nL 480.228306 90.422573 \r\nL 481.177663 90.422573 \r\nL 481.494115 90.551651 \r\nL 481.810567 91.28953 \r\nL 482.127019 91.510165 \r\nL 482.443471 90.960267 \r\nL 483.392827 90.579203 \r\nL 484.025732 90.593172 \r\nL 484.342184 90.341537 \r\nL 484.658636 89.650606 \r\nL 485.924444 90.85792 \r\nL 486.557348 90.809039 \r\nL 486.873801 89.440393 \r\nL 487.823157 89.388121 \r\nL 488.139609 90.368299 \r\nL 488.456061 87.936735 \r\nL 488.772513 87.973586 \r\nL 489.088965 88.494886 \r\nL 490.354774 87.573802 \r\nL 490.671226 87.615928 \r\nL 490.987678 87.987582 \r\nL 491.30413 88.101553 \r\nL 492.253486 88.604345 \r\nL 492.569938 88.423257 \r\nL 493.202843 88.429792 \r\nL 493.519295 88.275158 \r\nL 494.468651 88.988886 \r\nL 495.101555 89.093305 \r\nL 495.418007 88.305898 \r\nL 495.73446 86.427146 \r\nL 496.683816 86.269789 \r\nL 497.000268 85.515786 \r\nL 497.31672 85.237261 \r\nL 498.898981 85.225927 \r\nL 499.215433 82.757462 \r\nL 499.531885 82.57749 \r\nL 500.164789 82.599793 \r\nL 501.430597 80.439423 \r\nL 502.379954 80.524182 \r\nL 503.962214 80.629278 \r\nL 506.810283 77.061057 \r\nL 507.75964 75.372714 \r\nL 508.392544 75.302097 \r\nL 508.708996 75.542391 \r\nL 509.025448 75.542391 \r\nL 509.974804 75.996371 \r\nL 510.924161 76.086208 \r\nL 511.240613 76.133098 \r\nL 512.506421 76.006428 \r\nL 512.822873 76.164592 \r\nL 513.139325 78.340003 \r\nL 513.455778 77.838269 \r\nL 514.405134 78.120833 \r\nL 514.721586 76.939952 \r\nL 515.038038 77.675284 \r\nL 515.35449 77.5634 \r\nL 515.670942 77.988069 \r\nL 516.620299 78.877478 \r\nL 516.936751 78.893317 \r\nL 517.253203 78.600227 \r\nL 517.569655 78.997387 \r\nL 517.886107 78.188508 \r\nL 519.468368 78.707431 \r\nL 519.78482 78.71611 \r\nL 520.101272 78.348822 \r\nL 521.050628 73.943897 \r\nL 521.36708 74.480671 \r\nL 521.683532 74.65123 \r\nL 521.999984 75.365224 \r\nL 522.316437 75.588855 \r\nL 523.582245 76.618504 \r\nL 523.898697 76.364169 \r\nL 524.215149 77.646269 \r\nL 524.531601 77.972411 \r\nL 525.480958 80.357883 \r\nL 525.79741 79.786987 \r\nL 526.113862 83.496624 \r\nL 526.430314 90.14051 \r\nL 526.746766 68.79459 \r\nL 527.696122 69.177938 \r\nL 528.012574 69.112128 \r\nL 528.329027 69.261941 \r\nL 528.645479 69.215919 \r\nL 528.961931 74.409363 \r\nL 529.911287 70.422229 \r\nL 530.227739 51.892037 \r\nL 530.544191 43.515413 \r\nL 530.860643 45.000623 \r\nL 531.177096 42.733147 \r\nL 532.442904 42.073869 \r\nL 532.759356 42.073869 \r\nL 533.075808 40.8014 \r\nL 534.341617 46.952708 \r\nL 534.658069 46.462633 \r\nL 534.974521 46.462633 \r\nL 535.290973 45.635686 \r\nL 535.607425 44.164841 \r\nL 536.556781 43.658039 \r\nL 536.873233 42.538504 \r\nL 537.189686 44.479794 \r\nL 537.506138 44.673726 \r\nL 537.82259 43.650289 \r\nL 538.771946 43.369044 \r\nL 539.088398 43.845219 \r\nL 539.40485 43.943762 \r\nL 539.721302 43.721725 \r\nL 540.037754 44.013793 \r\nL 540.987111 45.648215 \r\nL 541.303563 44.240796 \r\nL 541.620015 44.172445 \r\nL 542.252919 46.329891 \r\nL 543.518728 45.430017 \r\nL 543.83518 47.262686 \r\nL 544.151632 45.275437 \r\nL 544.468084 46.205467 \r\nL 545.41744 47.033805 \r\nL 545.733892 47.051039 \r\nL 546.050345 46.537973 \r\nL 548.581961 47.940354 \r\nL 548.898413 47.584689 \r\nL 549.84777 47.804634 \r\nL 550.164222 46.710822 \r\nL 550.797126 46.235161 \r\nL 551.113578 52.029271 \r\nL 552.062935 44.20079 \r\nL 552.379387 47.653389 \r\nL 552.695839 46.862442 \r\nL 553.328743 38.670776 \r\nL 554.278099 41.518372 \r\nL 554.911004 44.521796 \r\nL 555.227456 41.812888 \r\nL 555.543908 42.133569 \r\nL 556.809716 40.509921 \r\nL 557.126168 41.133045 \r\nL 557.759072 42.891385 \r\nL 558.708429 37.313171 \r\nL 559.024881 37.715054 \r\nL 559.341333 37.030206 \r\nL 559.974237 36.964728 \r\nL 560.923594 39.418014 \r\nL 561.240046 39.825402 \r\nL 561.556498 41.828501 \r\nL 561.87295 40.572114 \r\nL 562.189402 41.227551 \r\nL 563.45521 42.688098 \r\nL 563.771663 44.010474 \r\nL 564.404567 43.537636 \r\nL 565.353923 41.539889 \r\nL 565.670375 41.48835 \r\nL 565.986827 41.578137 \r\nL 566.303279 41.925988 \r\nL 566.619731 44.306882 \r\nL 567.569088 44.842877 \r\nL 567.88554 44.815694 \r\nL 568.201992 46.219865 \r\nL 568.834896 47.344593 \r\nL 569.784253 48.60113 \r\nL 570.100705 48.18492 \r\nL 570.417157 50.162608 \r\nL 570.733609 49.189542 \r\nL 571.050061 49.544426 \r\nL 572.948774 33.898295 \r\nL 573.265226 34.109133 \r\nL 575.48039 64.047532 \r\nL 576.746199 84.849621 \r\nL 577.062651 100.833831 \r\nL 577.379103 96.685778 \r\nL 577.695555 101.002365 \r\nL 578.644912 94.519402 \r\nL 578.961364 97.858551 \r\nL 578.961364 97.858551 \r\n\" style=\"fill:none;stroke:#0000ff;stroke-linecap:square;stroke-width:1.5;\"/>\r\n   </g>\r\n   <g id=\"line2d_18\">\r\n    <path clip-path=\"url(#p11890ea146)\" d=\"M 302.382222 132.893118 \r\nL 302.698674 134.098196 \r\nL 303.015126 134.219502 \r\nL 304.597387 134.229491 \r\nL 304.913839 134.751462 \r\nL 305.230291 134.841179 \r\nL 306.179648 134.709922 \r\nL 306.812552 134.84158 \r\nL 307.445456 134.797935 \r\nL 309.660621 134.95776 \r\nL 310.609977 133.260535 \r\nL 310.926429 132.992729 \r\nL 311.242881 134.678502 \r\nL 311.559333 133.529 \r\nL 311.875785 134.021713 \r\nL 315.040307 130.614123 \r\nL 315.356759 130.950973 \r\nL 316.306115 131.049035 \r\nL 317.255471 130.552859 \r\nL 317.888375 131.693749 \r\nL 318.204828 132.115447 \r\nL 319.470636 132.153172 \r\nL 320.10354 133.068159 \r\nL 320.736444 133.089835 \r\nL 321.685801 128.184043 \r\nL 322.002253 128.116672 \r\nL 322.318705 128.466831 \r\nL 322.951609 128.650027 \r\nL 323.900966 128.421999 \r\nL 324.53387 128.550365 \r\nL 325.166774 129.256784 \r\nL 326.432582 129.997306 \r\nL 326.749034 130.935765 \r\nL 328.647747 130.892135 \r\nL 328.964199 131.142664 \r\nL 329.280651 131.142664 \r\nL 330.54646 132.111307 \r\nL 330.862912 131.60439 \r\nL 331.179364 132.489604 \r\nL 331.495816 132.489604 \r\nL 332.761625 131.05376 \r\nL 333.394529 131.160447 \r\nL 333.710981 129.509406 \r\nL 334.027433 129.585118 \r\nL 334.976789 129.531428 \r\nL 335.609693 129.641406 \r\nL 335.926146 129.641406 \r\nL 336.242598 129.212579 \r\nL 337.824858 129.245823 \r\nL 338.457762 129.284054 \r\nL 339.407119 129.667451 \r\nL 339.723571 129.667451 \r\nL 341.622284 131.861156 \r\nL 342.255188 133.644672 \r\nL 342.57164 133.644672 \r\nL 342.888092 133.794069 \r\nL 343.837448 133.902798 \r\nL 344.1539 133.523029 \r\nL 344.470352 133.359687 \r\nL 344.786805 133.530151 \r\nL 345.103257 134.108379 \r\nL 346.052613 134.283875 \r\nL 346.369065 130.153088 \r\nL 346.685517 130.255118 \r\nL 347.001969 130.056177 \r\nL 347.318421 129.665242 \r\nL 348.267778 129.900791 \r\nL 348.58423 131.398722 \r\nL 349.217134 131.54163 \r\nL 349.533586 130.28689 \r\nL 350.482942 131.122666 \r\nL 351.115847 131.137671 \r\nL 351.432299 126.213136 \r\nL 352.698107 126.195747 \r\nL 353.014559 126.475262 \r\nL 353.331011 125.888682 \r\nL 353.647464 127.708092 \r\nL 353.963916 127.977724 \r\nL 354.913272 127.977724 \r\nL 355.229724 127.804444 \r\nL 355.546176 131.107584 \r\nL 355.862628 131.588111 \r\nL 356.17908 131.788909 \r\nL 357.128437 133.551173 \r\nL 357.444889 133.551173 \r\nL 357.761341 132.272933 \r\nL 358.077793 132.674059 \r\nL 358.394245 132.588282 \r\nL 359.343601 133.606153 \r\nL 359.660054 137.303483 \r\nL 359.976506 137.989003 \r\nL 360.60941 137.481993 \r\nL 361.558766 136.629233 \r\nL 361.875218 136.03712 \r\nL 362.19167 136.138964 \r\nL 362.824575 137.007485 \r\nL 363.773931 135.146431 \r\nL 364.090383 135.823244 \r\nL 364.406835 137.348381 \r\nL 364.723287 137.660704 \r\nL 365.039739 136.725072 \r\nL 365.989096 137.083199 \r\nL 366.305548 137.46783 \r\nL 366.622 136.73285 \r\nL 366.938452 136.784618 \r\nL 367.254904 136.223699 \r\nL 368.837165 136.215682 \r\nL 369.153617 135.850823 \r\nL 370.735877 136.015028 \r\nL 371.052329 137.085569 \r\nL 371.368782 136.755678 \r\nL 371.685234 137.233415 \r\nL 372.63459 136.339519 \r\nL 372.951042 135.422184 \r\nL 373.267494 135.513741 \r\nL 373.900398 135.282541 \r\nL 374.849755 135.629141 \r\nL 375.166207 134.80488 \r\nL 376.115563 134.815716 \r\nL 377.064919 132.083444 \r\nL 377.381372 132.182542 \r\nL 378.014276 132.611684 \r\nL 378.330728 132.398278 \r\nL 379.596536 132.642415 \r\nL 379.912988 132.661313 \r\nL 380.229441 132.38009 \r\nL 380.545893 131.570017 \r\nL 381.495249 131.129704 \r\nL 381.811701 131.122909 \r\nL 382.128153 132.653023 \r\nL 382.444605 132.729314 \r\nL 383.710414 132.190228 \r\nL 384.026866 132.294519 \r\nL 384.343318 129.075833 \r\nL 384.976222 131.793929 \r\nL 385.925578 127.256357 \r\nL 386.242031 129.021444 \r\nL 386.558483 129.037255 \r\nL 386.874935 129.510929 \r\nL 387.191387 129.381979 \r\nL 388.140743 129.4241 \r\nL 390.67236 130.171358 \r\nL 390.988812 130.422311 \r\nL 391.621716 130.356182 \r\nL 392.571073 129.033503 \r\nL 392.887525 127.188148 \r\nL 393.203977 126.628475 \r\nL 393.520429 126.628475 \r\nL 393.836881 125.114277 \r\nL 395.10269 125.09726 \r\nL 396.052046 125.061544 \r\nL 397.317854 124.762512 \r\nL 397.634306 125.140085 \r\nL 397.950759 125.124667 \r\nL 398.267211 125.359586 \r\nL 399.216567 125.382394 \r\nL 399.533019 124.732308 \r\nL 400.165923 124.919217 \r\nL 400.482375 124.685521 \r\nL 401.431732 124.752072 \r\nL 401.748184 124.421512 \r\nL 402.064636 123.699532 \r\nL 402.69754 123.950254 \r\nL 403.963349 124.954857 \r\nL 404.912705 124.954857 \r\nL 405.862061 124.632446 \r\nL 406.178513 124.861755 \r\nL 408.393678 124.738793 \r\nL 409.026582 125.322032 \r\nL 409.343034 125.258326 \r\nL 410.292391 125.744427 \r\nL 410.608843 125.71973 \r\nL 410.925295 124.52624 \r\nL 411.241747 125.246571 \r\nL 411.558199 125.420874 \r\nL 412.507555 124.994341 \r\nL 412.824008 124.163604 \r\nL 413.14046 124.533309 \r\nL 413.456912 124.710684 \r\nL 413.773364 124.702344 \r\nL 415.039172 124.561101 \r\nL 415.988529 124.623524 \r\nL 417.254337 124.711977 \r\nL 417.887241 125.03235 \r\nL 419.15305 125.03235 \r\nL 419.469502 124.889471 \r\nL 423.899831 124.980028 \r\nL 424.216283 123.729956 \r\nL 424.532735 123.88017 \r\nL 428.013709 123.968519 \r\nL 428.330161 114.063105 \r\nL 428.646613 114.063105 \r\nL 428.963065 113.542548 \r\nL 429.279517 113.542548 \r\nL 430.228873 114.77182 \r\nL 430.545326 113.39192 \r\nL 431.17823 113.715045 \r\nL 431.494682 113.702928 \r\nL 432.76049 114.383424 \r\nL 433.076942 114.404948 \r\nL 433.393394 113.49465 \r\nL 433.709847 113.67655 \r\nL 434.975655 115.110138 \r\nL 435.292107 114.308082 \r\nL 435.608559 114.594998 \r\nL 435.925011 118.15141 \r\nL 436.874368 109.321961 \r\nL 437.19082 110.654941 \r\nL 437.507272 110.292373 \r\nL 438.140176 111.180514 \r\nL 439.089532 107.522345 \r\nL 439.405985 104.980941 \r\nL 439.722437 105.249627 \r\nL 440.038889 105.190892 \r\nL 440.355341 101.920588 \r\nL 441.304697 101.536306 \r\nL 441.621149 101.717915 \r\nL 441.937601 102.053876 \r\nL 442.254053 92.332285 \r\nL 442.570506 91.365169 \r\nL 443.519862 90.741301 \r\nL 443.836314 88.737366 \r\nL 444.152766 89.945494 \r\nL 444.469218 89.945494 \r\nL 444.78567 90.368054 \r\nL 445.735027 90.129009 \r\nL 446.051479 89.583274 \r\nL 446.367931 92.642905 \r\nL 446.684383 84.686482 \r\nL 447.000835 83.022571 \r\nL 448.266644 84.966107 \r\nL 448.583096 84.993217 \r\nL 449.216 83.806743 \r\nL 450.165356 83.790829 \r\nL 450.481808 84.270826 \r\nL 451.114712 84.290819 \r\nL 451.431165 85.126594 \r\nL 452.380521 85.329687 \r\nL 453.013425 85.626052 \r\nL 453.329877 86.348569 \r\nL 453.646329 86.41718 \r\nL 454.595686 86.454925 \r\nL 454.912138 88.509453 \r\nL 455.22859 88.861734 \r\nL 455.545042 87.869548 \r\nL 457.760207 87.51706 \r\nL 459.026015 87.54022 \r\nL 459.342467 87.874179 \r\nL 459.975371 87.927053 \r\nL 460.291824 87.995826 \r\nL 461.874084 87.985196 \r\nL 462.190536 88.381501 \r\nL 462.506988 89.200241 \r\nL 463.456345 89.22549 \r\nL 463.772797 89.672697 \r\nL 464.089249 89.736218 \r\nL 464.722153 89.699042 \r\nL 465.671509 90.097856 \r\nL 466.304414 89.294451 \r\nL 466.620866 89.506298 \r\nL 466.937318 90.106225 \r\nL 467.886674 93.133019 \r\nL 468.203126 93.555981 \r\nL 468.519578 93.576415 \r\nL 468.83603 94.001709 \r\nL 469.152483 93.675224 \r\nL 470.101839 93.255968 \r\nL 470.418291 93.374165 \r\nL 471.367647 93.388092 \r\nL 472.633456 93.658675 \r\nL 472.949908 93.658675 \r\nL 474.532168 90.037801 \r\nL 475.165073 90.080586 \r\nL 475.797977 90.38246 \r\nL 477.063785 89.620056 \r\nL 477.696689 89.559158 \r\nL 478.013142 88.198616 \r\nL 479.595402 89.035338 \r\nL 479.911854 88.86542 \r\nL 480.228306 90.422573 \r\nL 481.177663 90.422573 \r\nL 481.494115 90.551651 \r\nL 481.810567 91.28953 \r\nL 482.127019 91.510165 \r\nL 482.443471 90.960267 \r\nL 483.392827 90.579203 \r\nL 484.025732 90.593172 \r\nL 484.342184 90.341537 \r\nL 484.658636 89.650606 \r\nL 485.924444 90.85792 \r\nL 486.557348 90.809039 \r\nL 486.873801 89.440393 \r\nL 487.823157 89.388121 \r\nL 488.139609 90.368299 \r\nL 488.456061 87.936735 \r\nL 488.772513 87.973586 \r\nL 489.088965 88.494886 \r\nL 490.354774 87.573802 \r\nL 490.671226 87.615928 \r\nL 490.987678 87.987582 \r\nL 491.30413 88.101553 \r\nL 492.253486 88.604345 \r\nL 492.569938 88.423257 \r\nL 493.202843 88.429792 \r\nL 493.519295 88.275158 \r\nL 494.468651 88.988886 \r\nL 495.101555 89.093305 \r\nL 495.418007 88.305898 \r\nL 495.73446 86.427146 \r\nL 496.683816 86.269789 \r\nL 497.000268 85.515786 \r\nL 497.31672 85.237261 \r\nL 498.898981 85.225927 \r\nL 499.215433 82.757462 \r\nL 499.531885 82.57749 \r\nL 500.164789 82.599793 \r\nL 501.430597 80.439423 \r\nL 502.379954 80.524182 \r\nL 503.962214 80.629278 \r\nL 506.810283 77.061057 \r\nL 507.75964 75.372714 \r\nL 508.392544 75.302097 \r\nL 508.708996 75.542391 \r\nL 509.025448 75.542391 \r\nL 509.974804 75.996371 \r\nL 510.924161 76.086208 \r\nL 511.240613 76.133098 \r\nL 512.506421 76.006428 \r\nL 512.822873 76.164592 \r\nL 513.139325 78.340003 \r\nL 513.455778 77.838269 \r\nL 514.405134 78.120833 \r\nL 514.721586 76.939952 \r\nL 515.038038 77.675284 \r\nL 515.35449 77.5634 \r\nL 515.670942 77.988069 \r\nL 516.620299 78.877478 \r\nL 516.936751 78.893317 \r\nL 517.253203 78.600227 \r\nL 517.569655 78.997387 \r\nL 517.886107 78.188508 \r\nL 519.468368 78.707431 \r\nL 519.78482 78.71611 \r\nL 520.101272 78.348822 \r\nL 521.050628 73.943897 \r\nL 521.36708 74.480671 \r\nL 521.683532 74.65123 \r\nL 521.999984 75.365224 \r\nL 522.316437 75.588855 \r\nL 523.582245 76.618504 \r\nL 523.898697 76.364169 \r\nL 524.215149 77.646269 \r\nL 524.531601 77.972411 \r\nL 525.480958 80.357883 \r\nL 525.79741 79.786987 \r\nL 526.113862 83.496624 \r\nL 526.430314 90.14051 \r\nL 526.746766 68.79459 \r\nL 527.696122 69.177938 \r\nL 528.012574 69.112128 \r\nL 528.329027 69.261941 \r\nL 528.645479 69.215919 \r\nL 528.961931 74.409363 \r\nL 529.911287 70.422229 \r\nL 530.227739 51.892037 \r\nL 530.544191 43.515413 \r\nL 530.860643 45.000623 \r\nL 531.177096 42.733147 \r\nL 532.442904 42.073869 \r\nL 532.759356 42.073869 \r\nL 533.075808 40.8014 \r\nL 534.341617 46.952708 \r\nL 534.658069 46.462633 \r\nL 534.974521 46.462633 \r\nL 535.290973 45.635686 \r\nL 535.607425 44.164841 \r\nL 536.556781 43.658039 \r\nL 536.873233 42.538504 \r\nL 537.189686 44.479794 \r\nL 537.506138 44.673726 \r\nL 537.82259 43.650289 \r\nL 538.771946 43.369044 \r\nL 539.088398 43.845219 \r\nL 539.40485 43.943762 \r\nL 539.721302 43.721725 \r\nL 540.037754 44.013793 \r\nL 540.987111 45.648215 \r\nL 541.303563 44.240796 \r\nL 541.620015 44.172445 \r\nL 542.252919 46.329891 \r\nL 543.518728 45.430017 \r\nL 543.83518 47.262686 \r\nL 544.151632 45.275437 \r\nL 544.468084 46.205467 \r\nL 545.41744 47.033805 \r\nL 545.733892 47.051039 \r\nL 546.050345 46.537973 \r\nL 548.581961 47.940354 \r\nL 548.898413 47.584689 \r\nL 549.84777 47.804634 \r\nL 550.164222 46.710822 \r\nL 550.797126 46.235161 \r\nL 551.113578 52.029271 \r\nL 552.062935 44.20079 \r\nL 552.379387 47.653389 \r\nL 552.695839 46.862442 \r\nL 553.328743 38.670776 \r\nL 554.278099 41.518372 \r\nL 554.911004 44.521796 \r\nL 555.227456 41.812888 \r\nL 555.543908 42.133569 \r\nL 556.809716 40.509921 \r\nL 557.126168 41.133045 \r\nL 557.759072 42.891385 \r\nL 558.708429 37.313171 \r\nL 559.024881 37.715054 \r\nL 559.341333 37.030206 \r\nL 559.974237 36.964728 \r\nL 560.923594 39.418014 \r\nL 561.240046 39.825402 \r\nL 561.556498 41.828501 \r\nL 561.87295 40.572114 \r\nL 562.189402 41.227551 \r\nL 563.45521 42.688098 \r\nL 563.771663 44.010474 \r\nL 564.404567 43.537636 \r\nL 565.353923 41.539889 \r\nL 565.670375 41.48835 \r\nL 565.986827 41.578137 \r\nL 566.303279 41.925988 \r\nL 566.619731 44.306882 \r\nL 567.569088 44.842877 \r\nL 567.88554 44.815694 \r\nL 568.201992 46.219865 \r\nL 568.834896 47.344593 \r\nL 569.784253 48.60113 \r\nL 570.100705 48.18492 \r\nL 570.417157 50.162608 \r\nL 570.733609 49.189542 \r\nL 571.050061 49.544426 \r\nL 572.948774 33.898295 \r\nL 573.265226 34.109133 \r\nL 575.48039 64.047532 \r\nL 576.746199 84.849621 \r\nL 577.062651 100.833831 \r\nL 577.379103 96.685778 \r\nL 577.695555 101.002365 \r\nL 578.644912 94.519402 \r\nL 578.961364 97.858551 \r\nL 578.961364 97.858551 \r\n\" style=\"fill:none;stroke:#ff0000;stroke-linecap:square;stroke-width:1.5;\"/>\r\n   </g>\r\n   <g id=\"patch_3\">\r\n    <path d=\"M 46.325 293.34375 \r\nL 46.325 21.54375 \r\n\" style=\"fill:none;stroke:#000000;stroke-linecap:square;stroke-linejoin:miter;stroke-width:0.8;\"/>\r\n   </g>\r\n   <g id=\"patch_4\">\r\n    <path d=\"M 604.325 293.34375 \r\nL 604.325 21.54375 \r\n\" style=\"fill:none;stroke:#000000;stroke-linecap:square;stroke-linejoin:miter;stroke-width:0.8;\"/>\r\n   </g>\r\n   <g id=\"patch_5\">\r\n    <path d=\"M 46.325 293.34375 \r\nL 604.325 293.34375 \r\n\" style=\"fill:none;stroke:#000000;stroke-linecap:square;stroke-linejoin:miter;stroke-width:0.8;\"/>\r\n   </g>\r\n   <g id=\"patch_6\">\r\n    <path d=\"M 46.325 21.54375 \r\nL 604.325 21.54375 \r\n\" style=\"fill:none;stroke:#000000;stroke-linecap:square;stroke-linejoin:miter;stroke-width:0.8;\"/>\r\n   </g>\r\n   <g id=\"text_19\">\r\n    <!-- portfolio -->\r\n    <g transform=\"translate(298.325 15.54375)scale(0.12 -0.12)\">\r\n     <defs>\r\n      <path d=\"M 2925 1525 \r\nQ 2925 875 2525 475 \r\nQ 2125 75 1575 75 \r\nQ 1025 75 625 475 \r\nQ 225 875 225 1525 \r\nQ 225 2175 625 2575 \r\nQ 1025 2975 1575 2975 \r\nQ 2125 2975 2525 2575 \r\nQ 2925 2175 2925 1525 \r\nz\r\nM 2375 1525 \r\nQ 2375 2025 2125 2275 \r\nQ 1875 2525 1575 2525 \r\nQ 1275 2525 1025 2275 \r\nQ 775 2025 775 1525 \r\nQ 775 1025 1025 775 \r\nQ 1275 525 1575 525 \r\nQ 1875 525 2125 775 \r\nQ 2375 1025 2375 1525 \r\nz\r\n\" id=\"SimHei-6f\" transform=\"scale(0.015625)\"/>\r\n      <path d=\"M 2500 2425 \r\nQ 2025 2500 1700 2287 \r\nQ 1375 2075 1150 1550 \r\nL 1150 125 \r\nL 650 125 \r\nL 650 2925 \r\nL 1150 2925 \r\nL 1150 2200 \r\nQ 1375 2600 1712 2787 \r\nQ 2050 2975 2500 2975 \r\nL 2500 2425 \r\nz\r\n\" id=\"SimHei-72\" transform=\"scale(0.015625)\"/>\r\n      <path d=\"M 2850 3825 \r\nQ 2725 3900 2550 3950 \r\nQ 2375 4000 2100 4000 \r\nQ 1825 4000 1725 3862 \r\nQ 1625 3725 1625 3525 \r\nL 1625 2925 \r\nL 2650 2925 \r\nL 2650 2525 \r\nL 1625 2525 \r\nL 1625 125 \r\nL 1125 125 \r\nL 1125 2525 \r\nL 275 2525 \r\nL 275 2925 \r\nL 1125 2925 \r\nL 1125 3500 \r\nQ 1125 3950 1400 4200 \r\nQ 1675 4450 2125 4450 \r\nQ 2400 4450 2562 4412 \r\nQ 2725 4375 2850 4325 \r\nL 2850 3825 \r\nz\r\n\" id=\"SimHei-66\" transform=\"scale(0.015625)\"/>\r\n      <path d=\"M 1800 3725 \r\nL 1300 3725 \r\nL 1300 4375 \r\nL 1800 4375 \r\nL 1800 3725 \r\nz\r\nM 1800 125 \r\nL 1300 125 \r\nL 1300 2925 \r\nL 1800 2925 \r\nL 1800 125 \r\nz\r\n\" id=\"SimHei-69\" transform=\"scale(0.015625)\"/>\r\n     </defs>\r\n     <use xlink:href=\"#SimHei-70\"/>\r\n     <use x=\"50\" xlink:href=\"#SimHei-6f\"/>\r\n     <use x=\"100\" xlink:href=\"#SimHei-72\"/>\r\n     <use x=\"150\" xlink:href=\"#SimHei-74\"/>\r\n     <use x=\"200\" xlink:href=\"#SimHei-66\"/>\r\n     <use x=\"250\" xlink:href=\"#SimHei-6f\"/>\r\n     <use x=\"300\" xlink:href=\"#SimHei-6c\"/>\r\n     <use x=\"350\" xlink:href=\"#SimHei-69\"/>\r\n     <use x=\"400\" xlink:href=\"#SimHei-6f\"/>\r\n    </g>\r\n   </g>\r\n  </g>\r\n </g>\r\n <defs>\r\n  <clipPath id=\"p11890ea146\">\r\n   <rect height=\"271.8\" width=\"558\" x=\"46.325\" y=\"21.54375\"/>\r\n  </clipPath>\r\n </defs>\r\n</svg>\r\n",
      "text/plain": [
       "<Figure size 720x360 with 1 Axes>"
      ]
     },
     "metadata": {
      "needs_background": "light"
     },
     "output_type": "display_data"
    }
   ],
   "source": [
    "portfolio = np.mean(all_portfolio, axis=1)\n",
    "train_portfolio = portfolio[train_sample]\n",
    "test_portfolio = portfolio[test_sample]\n",
    "plt.figure(1, figsize=(10, 5))\n",
    "plt.title(\"\")\n",
    "plt.xlabel(\"date\")\n",
    "plt.ylabel(\"pnl\")\n",
    "plt.title(\"portfolio\")\n",
    "plt.plot(format_dates, portfolio.cumsum(), color=\"b\")\n",
    "plt.plot(format_dates[test_sample], portfolio.cumsum()[test_sample], color=\"r\")\n",
    "print(\"train sharpe: \", sharpe(train_portfolio), \"test sharpe: \", sharpe(test_portfolio))"
   ]
  },
  {
   "cell_type": "code",
   "execution_count": 13,
   "metadata": {},
   "outputs": [],
   "source": [
    "def get_contract(file):\n",
    "    data = load(file)\n",
    "    return data[\"contract\"][data[\"good\"]].iloc[0]"
   ]
  },
  {
   "cell_type": "code",
   "execution_count": 15,
   "metadata": {},
   "outputs": [
    {
     "name": "stdout",
     "output_type": "stream",
     "text": [
      "0       rb1705\n",
      "1       rb1705\n",
      "2       rb1705\n",
      "3       rb1705\n",
      "4       rb1705\n",
      "         ...  \n",
      "1058    rb2110\n",
      "1059    rb2110\n",
      "1060    rb2110\n",
      "1061    rb2110\n",
      "1062    rb2110\n",
      "Length: 1063, dtype: object\n",
      "0       hc1705\n",
      "1       hc1705\n",
      "2       hc1705\n",
      "3       hc1705\n",
      "4       hc1705\n",
      "         ...  \n",
      "1058    hc2110\n",
      "1059    hc2110\n",
      "1060    hc2110\n",
      "1061    hc2110\n",
      "1062    hc2110\n",
      "Length: 1063, dtype: object\n",
      "0       i1705\n",
      "1       i1705\n",
      "2       i1705\n",
      "3       i1705\n",
      "4       i1705\n",
      "        ...  \n",
      "1058    i2105\n",
      "1059    i2109\n",
      "1060    i2109\n",
      "1061    i2109\n",
      "1062    i2109\n",
      "Length: 1063, dtype: object\n",
      "0       j1705\n",
      "1       j1705\n",
      "2       j1705\n",
      "3       j1705\n",
      "4       j1705\n",
      "        ...  \n",
      "1058    j2105\n",
      "1059    j2109\n",
      "1060    j2109\n",
      "1061    j2109\n",
      "1062    j2109\n",
      "Length: 1063, dtype: object\n",
      "0       jm1705\n",
      "1       jm1705\n",
      "2       jm1705\n",
      "3       jm1705\n",
      "4       jm1705\n",
      "         ...  \n",
      "1058    jm2105\n",
      "1059    jm2109\n",
      "1060    jm2109\n",
      "1061    jm2109\n",
      "1062    jm2109\n",
      "Length: 1063, dtype: object\n"
     ]
    }
   ],
   "source": [
    "contract_list=dict([])\n",
    "for product in product_list:\n",
    "    file_list = list(map(lambda x: DATA_PATH+\"\\\\\" + product+\"\\\\\"+x, os.listdir(DATA_PATH + \"\\\\\" + product)))\n",
    "    contract_vec = pd.Series(list(map(get_contract, file_list)))\n",
    "    print(contract_vec)\n",
    "    save(contract_vec, HEAD_PATH+\"\\\\processed_data\\\\\"+product+\"contract.vec.pkl\")\n",
    "    contract_list[product] = contract_vec"
   ]
  },
  {
   "cell_type": "code",
   "execution_count": 36,
   "metadata": {},
   "outputs": [],
   "source": [
    "save(contract_list, HEAD_PATH+\"\\\\processed_data\\\\contract.list.pkl\")"
   ]
  },
  {
   "cell_type": "code",
   "execution_count": 16,
   "metadata": {},
   "outputs": [],
   "source": [
    "contract_list = load(HEAD_PATH+\"\\\\processed_data\\\\contract.list.pkl\")\n",
    "product_cum = dict([])\n",
    "product_len = dict([])\n",
    "for product in product_list:\n",
    "    contract_vec = contract_list[product]\n",
    "    contract_len = contract_vec.value_counts().sort_index()\n",
    "    contract_cum = contract_len.cumsum()\n",
    "    product_len[product] = contract_len\n",
    "    product_cum[product] = contract_cum"
   ]
  },
  {
   "cell_type": "code",
   "execution_count": 17,
   "metadata": {},
   "outputs": [],
   "source": [
    "product = \"rb\"\n",
    "train_sample_list = dict([])\n",
    "test_sample_list = dict([])\n",
    "for product in product_list:\n",
    "    contract_cum = product_cum[product]\n",
    "    split_date = np.array(all_dates)[contract_cum[np.max(np.where(np.array(all_dates)[contract_cum-1]<\"2018\"))]]\n",
    "    medium_train_sample = (np.array(all_dates) < split_date)\n",
    "    medium_test_sample = (np.array(all_dates) >= split_date)\n",
    "    train_sample_list[product] = medium_train_sample\n",
    "    test_sample_list[product] = medium_test_sample"
   ]
  },
  {
   "cell_type": "code",
   "execution_count": 18,
   "metadata": {},
   "outputs": [],
   "source": [
    "daily_ticks = dict([])\n",
    "all_mat = dict([])\n",
    "for product in product_list:\n",
    "    daily_num = load(HEAD_PATH+\"\\\\daily_num\\\\\"+product+\".pkl\")\n",
    "    daily_ticks[product] = daily_num\n",
    "    test_mat = load(HEAD_PATH+\"\\\\train_test_mat\\\\\"+product+\".test.mat.pkl\")\n",
    "    train_mat = load(HEAD_PATH+\"\\\\train_test_mat\\\\\"+product+\".train.mat.pkl\")\n",
    "    train_mat\n",
    "    all_mat[product] = pd.concat((train_mat, test_mat))"
   ]
  },
  {
   "cell_type": "code",
   "execution_count": 19,
   "metadata": {},
   "outputs": [],
   "source": [
    "train_std = dict([])\n",
    "all_x_train = dict([])\n",
    "all_y_train = dict([])\n",
    "n_sample = 0\n",
    "for product in product_list:\n",
    "    medium_train_sample = train_sample_list[product]\n",
    "    medium_test_sample = test_sample_list[product]\n",
    "    medium_train_range = range(round(sum((daily_ticks[product][medium_train_sample]))))\n",
    "    medium_test_range = np.arange(sum(daily_ticks[product][medium_train_sample])+1,sum(daily_ticks[product]))\n",
    "    medium_train_mat = all_mat[product].iloc[medium_train_range,:]\n",
    "    medium_test_mat = all_mat[product].iloc[medium_test_range,:]\n",
    "    x_train = medium_train_mat.iloc[:,:n_signal]\n",
    "    y_train = medium_train_mat[y_signal]\n",
    "    train_std[product] = np.std(medium_train_mat)\n",
    "    all_x_train[product] = x_train\n",
    "    all_y_train[product] = y_train\n",
    "    n_sample = n_sample+len(y_train)"
   ]
  },
  {
   "cell_type": "code",
   "execution_count": 20,
   "metadata": {},
   "outputs": [],
   "source": [
    "x_train = np.zeros((n_sample, n_signal))\n",
    "y_train = np.zeros(n_sample)\n",
    "cur = 0\n",
    "for product in product_list:\n",
    "    x_train[cur:(cur+len(all_y_train[product])),] = all_x_train[product]/train_std[product][:n_signal]\n",
    "    y_train[cur:(cur+len(all_y_train[product]))] = all_y_train[product]/train_std[product][y_signal]\n",
    "    cur = cur+len(all_y_train[product])"
   ]
  },
  {
   "cell_type": "code",
   "execution_count": 23,
   "metadata": {},
   "outputs": [
    {
     "name": "stdout",
     "output_type": "stream",
     "text": [
      "rb\n",
      "trade.imb.4096                           -0.000056\n",
      "total.trade.imb.4096                     -0.000000\n",
      "nr.4096                                   0.000000\n",
      "dbook.4096                               -0.002699\n",
      "range.pos.4096                           -0.000000\n",
      "price.osci.4096                           0.000460\n",
      "ma.dif.10.4096                           -0.000000\n",
      "kdj.k.4096                                0.000000\n",
      "kdj.j.4096                                0.000000\n",
      "trade.imb.range.4096                     -0.000000\n",
      "total.trade.imb.range.4096               -0.000000\n",
      "nr.range.4096                             0.000000\n",
      "dbook.range.4096                          0.000000\n",
      "range.pos.range.4096                     -0.000084\n",
      "price.osci.range.4096                    -0.000000\n",
      "ma.dif.10.range.4096                      0.000000\n",
      "kdj.k.range.4096                         -0.000000\n",
      "kdj.j.range.4096                          0.000000\n",
      "trade.imb.std.4096                       -0.000018\n",
      "total.trade.imb.std.4096                 -0.000000\n",
      "nr.std.4096                               0.000832\n",
      "dbook.std.4096                            0.000000\n",
      "range.pos.std.4096                       -0.000000\n",
      "price.osci.std.4096                      -0.000000\n",
      "ma.dif.10.std.4096                        0.000000\n",
      "kdj.k.std.4096                            0.000000\n",
      "kdj.j.std.4096                            0.000043\n",
      "trade.imb.volume.open.ratio.4096         -0.000000\n",
      "total.trade.imb.volume.open.ratio.4096   -0.006318\n",
      "nr.volume.open.ratio.4096                -0.000000\n",
      "dbook.volume.open.ratio.4096             -0.000373\n",
      "range.pos.volume.open.ratio.4096         -0.000000\n",
      "price.osci.volume.open.ratio.4096        -0.000000\n",
      "ma.dif.10.volume.open.ratio.4096         -0.086019\n",
      "kdj.k.volume.open.ratio.4096              0.000000\n",
      "kdj.j.volume.open.ratio.4096              0.000000\n",
      "trade.imb.trend.index.4096                0.001930\n",
      "total.trade.imb.trend.index.4096          0.002463\n",
      "nr.trend.index.4096                       0.000000\n",
      "dbook.trend.index.4096                   -0.000000\n",
      "range.pos.trend.index.4096               -0.000125\n",
      "price.osci.trend.index.4096               0.000000\n",
      "ma.dif.10.trend.index.4096                0.000000\n",
      "kdj.k.trend.index.4096                    0.000000\n",
      "kdj.j.trend.index.4096                   -0.000000\n",
      "dtype: float64\n",
      "hc\n",
      "trade.imb.4096                           -0.000062\n",
      "total.trade.imb.4096                     -0.000000\n",
      "nr.4096                                   0.000000\n",
      "dbook.4096                               -0.004614\n",
      "range.pos.4096                           -0.000000\n",
      "price.osci.4096                           0.000382\n",
      "ma.dif.10.4096                           -0.000000\n",
      "kdj.k.4096                                0.000000\n",
      "kdj.j.4096                                0.000000\n",
      "trade.imb.range.4096                     -0.000000\n",
      "total.trade.imb.range.4096               -0.000000\n",
      "nr.range.4096                             0.000000\n",
      "dbook.range.4096                          0.000000\n",
      "range.pos.range.4096                     -0.000078\n",
      "price.osci.range.4096                    -0.000000\n",
      "ma.dif.10.range.4096                      0.000000\n",
      "kdj.k.range.4096                         -0.000000\n",
      "kdj.j.range.4096                          0.000000\n",
      "trade.imb.std.4096                       -0.000017\n",
      "total.trade.imb.std.4096                 -0.000000\n",
      "nr.std.4096                               0.000943\n",
      "dbook.std.4096                            0.000000\n",
      "range.pos.std.4096                       -0.000000\n",
      "price.osci.std.4096                      -0.000000\n",
      "ma.dif.10.std.4096                        0.000000\n",
      "kdj.k.std.4096                            0.000000\n",
      "kdj.j.std.4096                            0.000039\n",
      "trade.imb.volume.open.ratio.4096         -0.000000\n",
      "total.trade.imb.volume.open.ratio.4096   -0.009780\n",
      "nr.volume.open.ratio.4096                -0.000000\n",
      "dbook.volume.open.ratio.4096             -0.000715\n",
      "range.pos.volume.open.ratio.4096         -0.000000\n",
      "price.osci.volume.open.ratio.4096        -0.000000\n",
      "ma.dif.10.volume.open.ratio.4096         -0.113742\n",
      "kdj.k.volume.open.ratio.4096              0.000000\n",
      "kdj.j.volume.open.ratio.4096              0.000000\n",
      "trade.imb.trend.index.4096                0.002211\n",
      "total.trade.imb.trend.index.4096          0.003229\n",
      "nr.trend.index.4096                       0.000000\n",
      "dbook.trend.index.4096                   -0.000000\n",
      "range.pos.trend.index.4096               -0.000132\n",
      "price.osci.trend.index.4096               0.000000\n",
      "ma.dif.10.trend.index.4096                0.000000\n",
      "kdj.k.trend.index.4096                    0.000000\n",
      "kdj.j.trend.index.4096                   -0.000000\n",
      "dtype: float64\n",
      "i\n",
      "trade.imb.4096                           -0.000046\n",
      "total.trade.imb.4096                     -0.000000\n",
      "nr.4096                                   0.000000\n",
      "dbook.4096                               -0.002648\n",
      "range.pos.4096                           -0.000000\n",
      "price.osci.4096                           0.000538\n",
      "ma.dif.10.4096                           -0.000000\n",
      "kdj.k.4096                                0.000000\n",
      "kdj.j.4096                                0.000000\n",
      "trade.imb.range.4096                     -0.000000\n",
      "total.trade.imb.range.4096               -0.000000\n",
      "nr.range.4096                             0.000000\n",
      "dbook.range.4096                          0.000000\n",
      "range.pos.range.4096                     -0.000468\n",
      "price.osci.range.4096                    -0.000000\n",
      "ma.dif.10.range.4096                      0.000000\n",
      "kdj.k.range.4096                         -0.000000\n",
      "kdj.j.range.4096                          0.000000\n",
      "trade.imb.std.4096                       -0.000068\n",
      "total.trade.imb.std.4096                 -0.000000\n",
      "nr.std.4096                               0.002821\n",
      "dbook.std.4096                            0.000000\n",
      "range.pos.std.4096                       -0.000000\n",
      "price.osci.std.4096                      -0.000000\n",
      "ma.dif.10.std.4096                        0.000000\n",
      "kdj.k.std.4096                            0.000000\n",
      "kdj.j.std.4096                            0.000230\n",
      "trade.imb.volume.open.ratio.4096         -0.000000\n",
      "total.trade.imb.volume.open.ratio.4096   -0.005572\n",
      "nr.volume.open.ratio.4096                -0.000000\n",
      "dbook.volume.open.ratio.4096             -0.000352\n",
      "range.pos.volume.open.ratio.4096         -0.000000\n",
      "price.osci.volume.open.ratio.4096        -0.000000\n",
      "ma.dif.10.volume.open.ratio.4096         -0.079232\n",
      "kdj.k.volume.open.ratio.4096              0.000000\n",
      "kdj.j.volume.open.ratio.4096              0.000000\n",
      "trade.imb.trend.index.4096                0.001603\n",
      "total.trade.imb.trend.index.4096          0.002294\n",
      "nr.trend.index.4096                       0.000000\n",
      "dbook.trend.index.4096                   -0.000000\n",
      "range.pos.trend.index.4096               -0.000159\n",
      "price.osci.trend.index.4096               0.000000\n",
      "ma.dif.10.trend.index.4096                0.000000\n",
      "kdj.k.trend.index.4096                    0.000000\n",
      "kdj.j.trend.index.4096                   -0.000000\n",
      "dtype: float64\n",
      "j\n",
      "trade.imb.4096                           -0.000112\n",
      "total.trade.imb.4096                     -0.000000\n",
      "nr.4096                                   0.000000\n",
      "dbook.4096                               -0.008054\n",
      "range.pos.4096                           -0.000000\n",
      "price.osci.4096                           0.000663\n",
      "ma.dif.10.4096                           -0.000000\n",
      "kdj.k.4096                                0.000000\n",
      "kdj.j.4096                                0.000000\n",
      "trade.imb.range.4096                     -0.000000\n",
      "total.trade.imb.range.4096               -0.000000\n",
      "nr.range.4096                             0.000000\n",
      "dbook.range.4096                          0.000000\n",
      "range.pos.range.4096                     -0.000127\n",
      "price.osci.range.4096                    -0.000000\n",
      "ma.dif.10.range.4096                      0.000000\n",
      "kdj.k.range.4096                         -0.000000\n",
      "kdj.j.range.4096                          0.000000\n",
      "trade.imb.std.4096                       -0.000040\n",
      "total.trade.imb.std.4096                 -0.000000\n",
      "nr.std.4096                               0.002022\n",
      "dbook.std.4096                            0.000000\n",
      "range.pos.std.4096                       -0.000000\n",
      "price.osci.std.4096                      -0.000000\n",
      "ma.dif.10.std.4096                        0.000000\n",
      "kdj.k.std.4096                            0.000000\n",
      "kdj.j.std.4096                            0.000066\n",
      "trade.imb.volume.open.ratio.4096         -0.000000\n",
      "total.trade.imb.volume.open.ratio.4096   -0.008173\n",
      "nr.volume.open.ratio.4096                -0.000000\n",
      "dbook.volume.open.ratio.4096             -0.000934\n",
      "range.pos.volume.open.ratio.4096         -0.000000\n",
      "price.osci.volume.open.ratio.4096        -0.000000\n",
      "ma.dif.10.volume.open.ratio.4096         -0.076364\n",
      "kdj.k.volume.open.ratio.4096              0.000000\n",
      "kdj.j.volume.open.ratio.4096              0.000000\n",
      "trade.imb.trend.index.4096                0.003854\n",
      "total.trade.imb.trend.index.4096          0.003744\n",
      "nr.trend.index.4096                       0.000000\n",
      "dbook.trend.index.4096                   -0.000000\n",
      "range.pos.trend.index.4096               -0.000169\n",
      "price.osci.trend.index.4096               0.000000\n",
      "ma.dif.10.trend.index.4096                0.000000\n",
      "kdj.k.trend.index.4096                    0.000000\n",
      "kdj.j.trend.index.4096                   -0.000000\n",
      "dtype: float64\n",
      "jm\n",
      "trade.imb.4096                           -0.000110\n",
      "total.trade.imb.4096                     -0.000000\n",
      "nr.4096                                   0.000000\n",
      "dbook.4096                               -0.007157\n",
      "range.pos.4096                           -0.000000\n",
      "price.osci.4096                           0.000705\n",
      "ma.dif.10.4096                           -0.000000\n",
      "kdj.k.4096                                0.000000\n",
      "kdj.j.4096                                0.000000\n",
      "trade.imb.range.4096                     -0.000000\n",
      "total.trade.imb.range.4096               -0.000000\n",
      "nr.range.4096                             0.000000\n",
      "dbook.range.4096                          0.000000\n",
      "range.pos.range.4096                     -0.000198\n",
      "price.osci.range.4096                    -0.000000\n",
      "ma.dif.10.range.4096                      0.000000\n",
      "kdj.k.range.4096                         -0.000000\n",
      "kdj.j.range.4096                          0.000000\n",
      "trade.imb.std.4096                       -0.000056\n",
      "total.trade.imb.std.4096                 -0.000000\n",
      "nr.std.4096                               0.002816\n",
      "dbook.std.4096                            0.000000\n",
      "range.pos.std.4096                       -0.000000\n",
      "price.osci.std.4096                      -0.000000\n",
      "ma.dif.10.std.4096                        0.000000\n",
      "kdj.k.std.4096                            0.000000\n",
      "kdj.j.std.4096                            0.000101\n",
      "trade.imb.volume.open.ratio.4096         -0.000000\n",
      "total.trade.imb.volume.open.ratio.4096   -0.009674\n",
      "nr.volume.open.ratio.4096                -0.000000\n",
      "dbook.volume.open.ratio.4096             -0.000805\n",
      "range.pos.volume.open.ratio.4096         -0.000000\n",
      "price.osci.volume.open.ratio.4096        -0.000000\n",
      "ma.dif.10.volume.open.ratio.4096         -0.079922\n",
      "kdj.k.volume.open.ratio.4096              0.000000\n",
      "kdj.j.volume.open.ratio.4096              0.000000\n",
      "trade.imb.trend.index.4096                0.003827\n",
      "total.trade.imb.trend.index.4096          0.004484\n",
      "nr.trend.index.4096                       0.000000\n",
      "dbook.trend.index.4096                   -0.000000\n",
      "range.pos.trend.index.4096               -0.000190\n",
      "price.osci.trend.index.4096               0.000000\n",
      "ma.dif.10.trend.index.4096                0.000000\n",
      "kdj.k.trend.index.4096                    0.000000\n",
      "kdj.j.trend.index.4096                   -0.000000\n",
      "dtype: float64\n"
     ]
    }
   ],
   "source": [
    "coef_list=dict([])\n",
    "for product in product_list:\n",
    "    coef = fit_coef*train_std[product][y_signal]/train_std[product][:n_signal]\n",
    "    coef_list[product] = coef\n",
    "    print(product)\n",
    "    print(coef)"
   ]
  },
  {
   "cell_type": "code",
   "execution_count": 24,
   "metadata": {},
   "outputs": [],
   "source": [
    "strat = \"lasso.medium.002.\"+str(period)\n",
    "for product in product_list:\n",
    "    os.makedirs(SAVE_PATH+\"\\\\factor_pkl\\\\\"+product+\"\\\\\"+strat, exist_ok=True)"
   ]
  },
  {
   "cell_type": "code",
   "execution_count": 45,
   "metadata": {},
   "outputs": [
    {
     "name": "stdout",
     "output_type": "stream",
     "text": [
      "rb\n",
      "hc\n",
      "i\n",
      "j\n",
      "jm\n",
      "Wall time: 2min 52s\n"
     ]
    }
   ],
   "source": [
    "%%time\n",
    "for product in product_list:\n",
    "    print(product)\n",
    "    coef = coef_list[product]\n",
    "    parLapply(CORE_NUM, all_dates, par_get_daily_pred, \n",
    "              product=product, coef=coef, strat=strat, HEAD_PATH=HEAD_PATH, SAVE_PATH=SAVE_PATH)"
   ]
  },
  {
   "cell_type": "code",
   "execution_count": 46,
   "metadata": {},
   "outputs": [
    {
     "name": "stdout",
     "output_type": "stream",
     "text": [
      "Wall time: 26.1 s\n"
     ]
    }
   ],
   "source": [
    "%%time\n",
    "for product in product_list:\n",
    "    par_get_all_signal(strat, all_dates, product, 4096, SAVE_PATH=SAVE_PATH)"
   ]
  },
  {
   "cell_type": "code",
   "execution_count": 25,
   "metadata": {},
   "outputs": [],
   "source": [
    "close_thre_list = dict([])\n",
    "for product in product_list:\n",
    "    all_signal = load(SAVE_PATH+\"\\\\all_signals\\\\\"+product+\".\"+strat+\".pkl\")\n",
    "    open_thre = np.quantile(abs(all_signal), np.concatenate((np.arange(0.991, 0.999, 0.001),\n",
    "                                                         np.arange(0.9991,0.9999,0.0001)),axis=0))\n",
    "    thre_mat = pd.DataFrame(data=OrderedDict([(\"open\", open_thre), (\"close\", -open_thre)]))\n",
    "    from collections import OrderedDict\n",
    "    import itertools\n",
    "    open_list=open_thre\n",
    "    thre_list = []\n",
    "    for cartesian in itertools.product(open_list, np.array([0.2, 0.4, 0.6, 0.8, 1.0])):\n",
    "        thre_list.append((cartesian[0], -cartesian[0] * cartesian[1]))\n",
    "    thre_list = np.array(thre_list)\n",
    "    close_thre_mat = pd.DataFrame(data=OrderedDict([(\"open\", thre_list[:, 0]), (\"close\", thre_list[:, 1])]))\n",
    "    close_thre_list[product] = close_thre_mat\n"
   ]
  },
  {
   "cell_type": "code",
   "execution_count": 26,
   "metadata": {},
   "outputs": [],
   "source": [
    "contract_vec = dict([])\n",
    "contract_start = dict([])\n",
    "for product in product_list:\n",
    "    contract_vec[product] = np.array(product_cum[product].index)\n",
    "    contract_start[product] = np.hstack((0, product_cum[product].values))\n"
   ]
  },
  {
   "cell_type": "code",
   "execution_count": 27,
   "metadata": {},
   "outputs": [],
   "source": [
    "def get_signal_pnl_contract(contract, contract_vec, good_night_files, product, signal_name, thre_mat, \n",
    "                                    slippage=1, fee=0.1, reverse=1, HEAD_PATH=HEAD_PATH, SAVE_PATH=SAVE_PATH):\n",
    "    file_list = good_night_files[contract_vec==contract]\n",
    "    n_thre = len(thre_mat)\n",
    "    result = pd.DataFrame(data=OrderedDict([(\"open\", thre_mat[\"open\"].values), (\"close\", thre_mat[\"close\"].values),\n",
    "                               (\"num\", 0), (\"avg.pnl\", 0), (\"pnl\", 0), (\"avg.ret\", 0), (\"ret\", 0)]), \n",
    "                          index=thre_mat.index)\n",
    "    ## load product info\n",
    "    tranct = product_info[product][\"tranct\"]*(1+fee)\n",
    "    close = product_info[product][\"close\"]*(1+fee)\n",
    "    min_spread = product_info[product][\"spread\"]+0.1\n",
    "    spread = product_info[product][\"spread\"]\n",
    "    tranct_ratio = product_info[product][\"tranct.ratio\"]\n",
    "    \n",
    "    yesterday_pos = np.repeat(0, n_thre)\n",
    "    yesterday_notional = np.repeat(0., n_thre)\n",
    "    yesterday_price = 0.\n",
    "    n_day = len(file_list)\n",
    "    daily_pnl = np.zeros((n_day, n_thre))\n",
    "    daily_ret = np.zeros((n_day, n_thre))\n",
    "    for i_day in range(n_day):\n",
    "        file = file_list[i_day]\n",
    "        data = load(HEAD_PATH+\"\\\\pkl_tick\\\\\"+product+\"\\\\\"+file)\n",
    "        S = load(SAVE_PATH+\"\\\\factor_pkl\\\\\"+product+\"\\\\\"+signal_name+\"\\\\\"+file)\n",
    "        S = S[data[\"good\"]]\n",
    "        data = data[data[\"good\"]].reset_index(drop=True)\n",
    "        n_bar = len(data)\n",
    "        ## load signal\n",
    "        ## we don't know the signal is positive correlated or negative correlated  \n",
    "        pred = S*reverse\n",
    "        \n",
    "        bid_ask_spread = data[\"ask\"]-data[\"bid\"]\n",
    "        next_spread = bid_ask_spread.shift(-1)\n",
    "        next_spread.iloc[-1] = bid_ask_spread.iloc[-1]\n",
    "        #not_trade = (data[\"time\"]==\"10:15:00\") | (data[\"time\"]==\"11:30:00\") | (data[\"time\"]==\"15:00:00\") | (bid_ask_spread>min_spread) | (next_spread>min_spread)\n",
    "        not_trade = (data[\"time\"]==\"11:30:00\") | (data[\"time\"]==\"15:00:00\") | (bid_ask_spread>min_spread) | (next_spread>min_spread)\n",
    "            \n",
    "        next_ask = data[\"next.ask\"].values\n",
    "        next_bid = data[\"next.bid\"].values\n",
    "          \n",
    "        i_thre = 0 \n",
    "        for thre in thre_mat.values:\n",
    "            buy = pred>thre[0]\n",
    "            sell = pred<-thre[0]\n",
    "            signal = pd.Series(data=0, index=data.index)\n",
    "            #position = signal.copy()\n",
    "            signal[buy] = 1\n",
    "            signal[sell] = -1\n",
    "            signal[not_trade] = 0\n",
    "            scratch = -thre[1]\n",
    "            position_pos = pd.Series(data=np.nan, index=data.index)\n",
    "            position_pos[(signal==1) & (next_ask>0) & (next_bid>0)] = 1\n",
    "            position_pos[(pred< -scratch) & (next_bid>0)] = 0\n",
    "            position_pos.iloc[0] = max((0, yesterday_pos[i_thre]))\n",
    "            position_pos.ffill(inplace=True)\n",
    "            pre_pos = position_pos.shift(1)\n",
    "            notional_position_pos = pd.Series(data=np.nan, index=data.index)\n",
    "            notional_position_pos[position_pos==1] = 1\n",
    "            notional_position_pos[0] = np.nan\n",
    "            notional_position_pos[(position_pos==1) & (pre_pos==1)] = np.nan\n",
    "            notional_position_pos[(notional_position_pos==1)] = 1/data[\"next.ask\"][(notional_position_pos==1)]\n",
    "            notional_position_pos[(pred< -scratch) & (next_bid>0)] = 0\n",
    "            notional_position_pos.iloc[0] = max((0, yesterday_notional[i_thre]))\n",
    "            notional_position_pos.ffill(inplace=True)\n",
    "            position_neg = pd.Series(data=np.nan, index=data.index)\n",
    "            position_neg[(signal==-1) & (next_ask>0) & (next_bid>0)] = -1\n",
    "            position_neg[(pred> scratch) & (next_ask>0)] = 0\n",
    "            position_neg.iloc[0] = min((yesterday_pos[i_thre], 0))\n",
    "            position_neg.ffill(inplace=True)\n",
    "            pre_neg = position_neg.shift(1)\n",
    "            notional_position_neg = pd.Series(data=np.nan, index=data.index)\n",
    "            notional_position_neg[position_neg==-1] = -1\n",
    "            notional_position_neg[0] = np.nan\n",
    "            notional_position_neg[(position_neg==-1) & (pre_neg==-1)] = np.nan\n",
    "            notional_position_neg[(notional_position_neg==-1)] = -1/data[\"next.bid\"][(notional_position_neg==-1)]\n",
    "            notional_position_neg[(pred> scratch) & (next_ask>0)] = 0\n",
    "            notional_position_neg.iloc[0] = min((yesterday_notional[i_thre], 0))\n",
    "            notional_position_neg.ffill(inplace=True)\n",
    "            position = position_pos + position_neg\n",
    "            notional_position = notional_position_pos+notional_position_neg\n",
    "            position.loc[0] = yesterday_pos[i_thre]\n",
    "            notional_position[0] = yesterday_notional[i_thre]\n",
    "            if file == file_list[-1]:\n",
    "                position.iloc[-10:] = 0\n",
    "                notional_position.iloc[-10:] = 0\n",
    "            else:\n",
    "                position.iloc[-10:] = position.iloc[-10]\n",
    "                notional_position.iloc[-10:] = notional_position.iloc[-10]\n",
    "            initial_pnl = yesterday_pos[i_thre]*yesterday_price\n",
    "            initial_notional_pnl = yesterday_notional[i_thre]*yesterday_price\n",
    "            change_pos = position - position.shift(1)\n",
    "            change_pos.iloc[0] = 0\n",
    "            notional_change_pos = notional_position-notional_position.shift(1)\n",
    "            notional_change_pos.iloc[0] = 0\n",
    "            pre_pos = position.shift(1)\n",
    "            pre_pos.iloc[0] = position.iloc[0]\n",
    "            change_base = pd.Series(data=0, index=data.index)\n",
    "            change_buy = change_pos>0\n",
    "            change_sell = change_pos<0\n",
    "            if (tranct_ratio):\n",
    "                change_base[change_buy] = (data[\"next.ask\"][change_buy]+spread*slippage)*(1+tranct)\n",
    "                change_base[change_sell] = (data[\"next.bid\"][change_sell]-spread*slippage)*(1-tranct)\n",
    "            else:\n",
    "                change_base[change_buy] = data[\"next.ask\"][change_buy]+tranct+spread*slippage\n",
    "                change_base[change_sell] = data[\"next.bid\"][change_sell]-tranct-spread*slippage\n",
    "            notional_change_base = pd.Series(data=0, index=data.index)\n",
    "            notional_change_buy = notional_change_pos>0\n",
    "            notional_change_sell = notional_change_pos<0\n",
    "            if (tranct_ratio):\n",
    "                notional_change_base[notional_change_buy] = (data[\"next.ask\"][notional_change_buy]+spread*slippage)*(1+tranct)\n",
    "                notional_change_base[notional_change_sell] = (data[\"next.bid\"][notional_change_sell]-spread*slippage)*(1-tranct)\n",
    "            else:\n",
    "                notional_change_base[notional_change_buy] = data[\"next.ask\"][notional_change_buy]+tranct+spread*slippage\n",
    "                notional_change_base[notional_change_sell] = data[\"next.bid\"][notional_change_sell]-tranct-spread*slippage\n",
    "\n",
    "            yesterday_pos[i_thre] = position.iloc[-1]\n",
    "            yesterday_notional[i_thre] = notional_position.iloc[-1]\n",
    "            final_pnl = -sum(change_base*change_pos)+data[\"price\"].iloc[-1]*yesterday_pos[i_thre]-initial_pnl\n",
    "            daily_pnl[i_day, i_thre] = final_pnl\n",
    "            ret = -sum(notional_change_base*notional_change_pos)+data[\"price\"].iloc[-1]*yesterday_notional[i_thre]-initial_notional_pnl\n",
    "            daily_ret[i_day, i_thre] = ret\n",
    "            num = sum((position!=0) & (change_pos!=0))\n",
    "            result.loc[i_thre, (\"num\")] = result.loc[i_thre, (\"num\")]+num\n",
    "            result.loc[i_thre, (\"pnl\")] = result.loc[i_thre, (\"pnl\")]+final_pnl\n",
    "            result.loc[i_thre, (\"ret\")] = result.loc[i_thre, (\"ret\")]+ret\n",
    "            if result.loc[i_thre, (\"num\")] == 0:\n",
    "                result.loc[i_thre, (\"avg.pnl\")] = 0\n",
    "                result.loc[i_thre, (\"avg.ret\")] = 0\n",
    "            else:\n",
    "                result.loc[i_thre, (\"avg.pnl\")] = np.divide(result.loc[i_thre, (\"pnl\")], result.loc[i_thre, (\"num\")])\n",
    "                result.loc[i_thre, (\"avg.ret\")] = np.divide(result.loc[i_thre, (\"ret\")], result.loc[i_thre, (\"num\")])\n",
    "            i_thre = i_thre + 1\n",
    "        yesterday_price = data[\"price\"].iloc[-1]\n",
    "    os.makedirs(SAVE_PATH+\"\\\\medium_strat\\\\\"+product+\"\\\\\"+signal_name, exist_ok=True)\n",
    "    save((result, daily_pnl, daily_ret), SAVE_PATH+\"\\\\medium_strat\\\\\"+product+\"\\\\\"+signal_name+\"\\\\\"+contract+\".pkl\")"
   ]
  },
  {
   "cell_type": "code",
   "execution_count": 28,
   "metadata": {},
   "outputs": [
    {
     "name": "stdout",
     "output_type": "stream",
     "text": [
      "Wall time: 56min 34s\n"
     ]
    }
   ],
   "source": [
    "%%time\n",
    "for product in product_list:\n",
    "    result = parLapply(CORE_NUM, contract_vec[product], get_signal_pnl_contract, \n",
    "                       contract_vec=contract_list[product], good_night_files=np.array(all_dates), product=product, \n",
    "                       signal_name=strat, thre_mat=close_thre_list[product])"
   ]
  },
  {
   "cell_type": "code",
   "execution_count": 29,
   "metadata": {},
   "outputs": [],
   "source": [
    "train_contract_list = dict([])\n",
    "test_contract_list = dict([])\n",
    "for product in product_list:\n",
    "    last_contract = contract_list[product][np.max(np.where(train_sample_list[product]))]\n",
    "    train_contract_list[product] = contract_vec[product][contract_vec[product]<=last_contract]\n",
    "    test_contract_list[product] = contract_vec[product][contract_vec[product]>last_contract]"
   ]
  },
  {
   "cell_type": "code",
   "execution_count": 30,
   "metadata": {},
   "outputs": [],
   "source": [
    "train_stat_list = dict([])\n",
    "for product in product_list:\n",
    "    train_stat = OrderedDict([(\"final.result\", None), (\"daily.ret\", None)])\n",
    "    train_contract = train_contract_list[product]\n",
    "    for contract in train_contract:\n",
    "        (result, daily_pnl, daily_ret) = load(SAVE_PATH+\"\\\\medium_strat\\\\\"+product+\"\\\\\"+strat+\"\\\\\"+contract+\".pkl\")\n",
    "        if train_stat[\"final.result\"] is None:\n",
    "            train_stat[\"final.result\"] = result\n",
    "        else:\n",
    "            train_stat[\"final.result\"][\"num\"] = train_stat[\"final.result\"][\"num\"] + result[\"num\"]\n",
    "            train_stat[\"final.result\"][\"pnl\"] = train_stat[\"final.result\"][\"pnl\"] + result[\"pnl\"]\n",
    "            train_stat[\"final.result\"][\"ret\"] = train_stat[\"final.result\"][\"ret\"] + result[\"ret\"]\n",
    "            train_stat[\"final.result\"][\"avg.pnl\"] = zero_divide(train_stat[\"final.result\"][\"pnl\"], train_stat[\"final.result\"][\"num\"])\n",
    "            train_stat[\"final.result\"][\"avg.ret\"] = zero_divide(train_stat[\"final.result\"][\"ret\"], train_stat[\"final.result\"][\"num\"])\n",
    "\n",
    "        if train_stat[\"daily.ret\"] is None:\n",
    "            train_stat[\"daily.ret\"] = daily_ret\n",
    "        else:\n",
    "            train_stat[\"daily.ret\"] = np.vstack((train_stat[\"daily.ret\"], daily_ret))\n",
    "    train_stat_list[product] = train_stat"
   ]
  },
  {
   "cell_type": "code",
   "execution_count": 31,
   "metadata": {},
   "outputs": [],
   "source": [
    "test_stat_list = dict([])\n",
    "for product in product_list:\n",
    "    test_stat = OrderedDict([(\"final.result\", None), (\"daily.ret\", None)])\n",
    "    test_contract = test_contract_list[product]\n",
    "    for contract in test_contract:\n",
    "        (result, daily_pnl,daily_ret) = load(SAVE_PATH+\"\\\\medium_strat\\\\\"+product+\"\\\\\"+strat+\"\\\\\"+contract+\".pkl\")\n",
    "        if test_stat[\"final.result\"] is None:\n",
    "            test_stat[\"final.result\"] = result\n",
    "        else:\n",
    "            test_stat[\"final.result\"][\"num\"] = test_stat[\"final.result\"][\"num\"] + result[\"num\"]\n",
    "            test_stat[\"final.result\"][\"pnl\"] = test_stat[\"final.result\"][\"pnl\"] + result[\"pnl\"]\n",
    "            test_stat[\"final.result\"][\"ret\"] = test_stat[\"final.result\"][\"ret\"] + result[\"ret\"]\n",
    "            test_stat[\"final.result\"][\"avg.pnl\"] = zero_divide(test_stat[\"final.result\"][\"pnl\"], test_stat[\"final.result\"][\"num\"])\n",
    "            test_stat[\"final.result\"][\"avg.ret\"] = zero_divide(test_stat[\"final.result\"][\"ret\"], test_stat[\"final.result\"][\"num\"])\n",
    "\n",
    "        if test_stat[\"daily.ret\"] is None:\n",
    "            test_stat[\"daily.ret\"] = daily_ret\n",
    "        else:\n",
    "            test_stat[\"daily.ret\"] = np.vstack((test_stat[\"daily.ret\"], daily_ret))\n",
    "    test_stat_list[product] = test_stat"
   ]
  },
  {
   "cell_type": "code",
   "execution_count": 32,
   "metadata": {},
   "outputs": [
    {
     "name": "stdout",
     "output_type": "stream",
     "text": [
      "rb train sharpe  2.467734324892313 test sharpe  0.4430171271429347\n",
      "hc train sharpe  2.4765973009325464 test sharpe  -0.5630626151693138\n",
      "i train sharpe  1.8602025331510503 test sharpe  -0.36548342585606114\n",
      "j train sharpe  2.0289832472506366 test sharpe  0.9393625603161039\n",
      "jm train sharpe  0.959001989409875 test sharpe  -0.5399784677159838\n"
     ]
    }
   ],
   "source": [
    "i = 0\n",
    "test_all_pnl = np.zeros([sum(test_sample), len(product_list)])\n",
    "train_all_pnl = np.zeros([sum(train_sample), len(product_list)])\n",
    "min_pnl = 5\n",
    "min_num = 10\n",
    "for product in product_list:\n",
    "    spread = product_info[product][\"spread\"]\n",
    "    train_stat = train_stat_list[product]\n",
    "    good_strat = (train_stat[\"final.result\"][\"avg.pnl\"]>min_pnl*spread) & (train_stat[\"final.result\"][\"num\"]>min_num)\n",
    "    train_pnl = train_stat[\"daily.ret\"][:, good_strat].sum(axis=1)/sum(good_strat)\n",
    "    test_stat = test_stat_list[product]\n",
    "    test_pnl = test_stat[\"daily.ret\"][:, good_strat].sum(axis=1)/sum(good_strat)\n",
    "    print(product, \"train sharpe \", sharpe(train_pnl), \"test sharpe \", sharpe(test_pnl))\n",
    "    i = i+1"
   ]
  },
  {
   "cell_type": "code",
   "execution_count": 33,
   "metadata": {},
   "outputs": [
    {
     "name": "stdout",
     "output_type": "stream",
     "text": [
      "rb train sharpe  2.380876778912309 test sharpe  0.4121767274533083\n",
      "hc train sharpe  2.4765973009325464 test sharpe  -0.5630626151693138\n",
      "i train sharpe  2.2209162432384644 test sharpe  -0.25478988960250426\n",
      "j train sharpe  2.192600905704255 test sharpe  0.8751961941933143\n",
      "jm train sharpe  1.6195448118804274 test sharpe  -0.5468550910743617\n"
     ]
    }
   ],
   "source": [
    "i = 0\n",
    "test_all_pnl = np.zeros([sum(test_sample), len(product_list)])\n",
    "train_all_pnl = np.zeros([sum(train_sample), len(product_list)])\n",
    "min_pnl = 5\n",
    "min_num = 5\n",
    "for product in product_list:\n",
    "    spread = product_info[product][\"spread\"]\n",
    "    train_stat = train_stat_list[product]\n",
    "    good_strat = (train_stat[\"final.result\"][\"avg.pnl\"]>min_pnl*spread) & (train_stat[\"final.result\"][\"num\"]>min_num)\n",
    "    train_pnl = train_stat[\"daily.ret\"][:, good_strat].sum(axis=1)/sum(good_strat)\n",
    "    test_stat = test_stat_list[product]\n",
    "    test_pnl = test_stat[\"daily.ret\"][:, good_strat].sum(axis=1)/sum(good_strat)\n",
    "    print(product, \"train sharpe \", sharpe(train_pnl), \"test sharpe \", sharpe(test_pnl))\n",
    "    i = i+1"
   ]
  },
  {
   "cell_type": "code",
   "execution_count": null,
   "metadata": {},
   "outputs": [],
   "source": []
  },
  {
   "cell_type": "code",
   "execution_count": null,
   "metadata": {},
   "outputs": [],
   "source": []
  },
  {
   "cell_type": "code",
   "execution_count": null,
   "metadata": {},
   "outputs": [],
   "source": []
  }
 ],
 "metadata": {
  "interpreter": {
   "hash": "6f5583cf1d9466b5c27e75c89cc6b383bed5736d6b16c51c8074d8690011a952"
  },
  "kernelspec": {
   "display_name": "Python 3.9.7 ('base')",
   "language": "python",
   "name": "python3"
  },
  "language_info": {
   "codemirror_mode": {
    "name": "ipython",
    "version": 3
   },
   "file_extension": ".py",
   "mimetype": "text/x-python",
   "name": "python",
   "nbconvert_exporter": "python",
   "pygments_lexer": "ipython3",
   "version": "3.9.7"
  },
  "orig_nbformat": 4
 },
 "nbformat": 4,
 "nbformat_minor": 2
}
