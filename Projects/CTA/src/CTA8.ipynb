{
 "cells": [
  {
   "cell_type": "code",
   "execution_count": 14,
   "metadata": {},
   "outputs": [],
   "source": [
    "import numpy as np\n",
    "import pandas as pd\n",
    "import math\n",
    "import gzip\n",
    "import _pickle as cPickle\n",
    "import matplotlib.pyplot as plt\n",
    "import seaborn as sns\n",
    "import statsmodels.api as sm\n",
    "from datetime import datetime\n",
    "\n",
    "import os\n",
    "from helper import *\n",
    "from stats import *\n",
    "from product_info import *\n",
    "import helper\n",
    "import stats\n",
    "import dask\n",
    "from dask import compute, delayed\n",
    "\n",
    "\n",
    "plt.rcParams['font.family'] = ['sans-serif']\n",
    "plt.rcParams['font.sans-serif'] = ['SimHei'] # 用来正常显示中文标签`\n",
    "plt.rcParams['axes.unicode_minus'] = False\n",
    "\n",
    "%config InlineBackend.figure_format = 'svg' #在notebook中可以更好的显示，svg输出是一种向量化格式，缩放网页并不会导致图片失真。这行代码似乎只用在ipynb文件中才能使用。\n",
    "\n",
    "%matplotlib inline \n",
    "\n",
    "import warnings\n",
    "warnings.filterwarnings('ignore')  # 忽略一些warnings\n",
    "\n",
    "# This allows multiple outputs from a single jupyter notebook cell:\n",
    "# from IPython.core.interactiveshell import InteractiveShell\n",
    "# InteractiveShell.ast_node_interactivity = \"all\"\n",
    "\n",
    "pd.set_option('expand_frame_repr', False)  \n",
    "pd.set_option(\"display.max_rows\", 500) \n",
    "pd.set_option('display.max_columns', None) #防止column太多中间变成省略号\n"
   ]
  },
  {
   "cell_type": "code",
   "execution_count": 15,
   "metadata": {},
   "outputs": [
    {
     "data": {
      "text/plain": [
       "<module 'stats' from 'e:\\\\My_Strategies_CTA\\\\stats.py'>"
      ]
     },
     "execution_count": 15,
     "metadata": {},
     "output_type": "execute_result"
    }
   ],
   "source": [
    "from imp import reload  \n",
    "reload(helper)\n",
    "reload(stats)"
   ]
  },
  {
   "cell_type": "code",
   "execution_count": 16,
   "metadata": {},
   "outputs": [
    {
     "data": {
      "text/plain": [
       "16"
      ]
     },
     "execution_count": 16,
     "metadata": {},
     "output_type": "execute_result"
    }
   ],
   "source": [
    "HEAD_PATH = r\"E:\\My_Strategies_CTA\" \n",
    "DATA_PATH = HEAD_PATH + \"\\\\pkl_tick\" \n",
    "NIGHT_PATH = HEAD_PATH + \"\\\\night_pkl_tick\\\\\"\n",
    "SAVE_PATH = r\"E:\\My_Strategies_CTA\"  #保存计算的因子数据的地方\n",
    "SIGNAL_PATH = r\"E:\\My_Strategies_CTA\" \n",
    "CORE_NUM = int(os.environ['NUMBER_OF_PROCESSORS'])\n",
    "CORE_NUM"
   ]
  },
  {
   "cell_type": "code",
   "execution_count": 17,
   "metadata": {},
   "outputs": [
    {
     "name": "stdout",
     "output_type": "stream",
     "text": [
      "rb\n",
      "1063 ['20170103.pkl', '20170104.pkl', '20170105.pkl', '20170106.pkl', '20170109.pkl', '20170110.pkl']\n"
     ]
    }
   ],
   "source": [
    "product_list = [\"rb\", \"hc\", \"i\", \"j\", \"jm\"]\n",
    "product = product_list[0] #随便取一个商品期货，可以更改\n",
    "print(product)\n",
    "all_dates = os.listdir(DATA_PATH + \"\\\\\" + product)\n",
    "all_dates.sort()\n",
    "n_days = len(all_dates)\n",
    "print(len(all_dates), all_dates[:6])"
   ]
  },
  {
   "cell_type": "code",
   "execution_count": 18,
   "metadata": {},
   "outputs": [],
   "source": [
    "period = 4096\n",
    "\n",
    "# train and test\n",
    "train_sample = np.array(all_dates) < \"2019\"\n",
    "test_sample = np.array(all_dates) > \"2019\"\n",
    "\n",
    "# 记录时间的字符串和时间格式\n",
    "date_str = [n[0:8] for n in all_dates]\n",
    "format_dates = np.array([pd.to_datetime(d) for d in date_str])"
   ]
  },
  {
   "cell_type": "code",
   "execution_count": 19,
   "metadata": {},
   "outputs": [],
   "source": [
    "os.makedirs(HEAD_PATH+\"\\\\all_signals\", exist_ok=True)\n",
    "dire_signal_list = [\"trade.imb\", \"total.trade.imb\", \"nr\", \"dbook\", \"range.pos\", \"price.osci\", \"ma.dif.10\", \"kdj.k\", \"kdj.j\"]\n",
    "range_signal_list = [\"\", \"range\", \"std\", \"volume.open.ratio\", \"trend.index\"]\n",
    "all_signal_list = np.array([])\n",
    "for range_signal in range_signal_list:\n",
    "    for dire_signal in dire_signal_list:\n",
    "        if len(range_signal)==0:\n",
    "            signal_name = dire_signal\n",
    "        else:\n",
    "            signal_name = dire_signal+\".\"+range_signal\n",
    "        all_signal_list = np.append(all_signal_list,signal_name)\n",
    "signal_list = [signal+\".4096\" for signal in all_signal_list]\n",
    "n_signal = len(signal_list)"
   ]
  },
  {
   "cell_type": "code",
   "execution_count": 20,
   "metadata": {},
   "outputs": [],
   "source": [
    "from sklearn import linear_model\n",
    "from sklearn.model_selection import cross_val_score\n",
    "from sklearn.linear_model import lasso_path, LassoCV\n",
    "from sklearn.preprocessing import StandardScaler\n",
    "y_signal = \"ret.\"+str(period)+\".002\""
   ]
  },
  {
   "cell_type": "code",
   "execution_count": 21,
   "metadata": {},
   "outputs": [
    {
     "name": "stdout",
     "output_type": "stream",
     "text": [
      "rb\n",
      "[-0.00000000e+00 -0.00000000e+00  1.32112153e-02 -0.00000000e+00\n",
      " -0.00000000e+00  0.00000000e+00 -0.00000000e+00  0.00000000e+00\n",
      "  4.69840390e-06 -0.00000000e+00 -7.22052862e-05  0.00000000e+00\n",
      " -8.09121080e-05 -0.00000000e+00 -0.00000000e+00 -0.00000000e+00\n",
      "  0.00000000e+00  0.00000000e+00 -0.00000000e+00 -1.34049707e-05\n",
      "  0.00000000e+00 -0.00000000e+00 -0.00000000e+00 -0.00000000e+00\n",
      " -0.00000000e+00  0.00000000e+00  0.00000000e+00 -0.00000000e+00\n",
      " -0.00000000e+00  0.00000000e+00 -1.65478349e-02 -7.60806600e-03\n",
      "  0.00000000e+00 -0.00000000e+00  0.00000000e+00  0.00000000e+00\n",
      "  0.00000000e+00 -0.00000000e+00  0.00000000e+00 -6.15495611e-04\n",
      " -3.25112535e-03  6.23583901e-04 -0.00000000e+00  0.00000000e+00\n",
      "  0.00000000e+00]\n",
      "hc\n",
      "[-0.00000000e+00 -0.00000000e+00  2.82001385e-03 -5.18453409e-03\n",
      " -0.00000000e+00  1.62402783e-04  0.00000000e+00  5.23953203e-05\n",
      " -0.00000000e+00 -0.00000000e+00 -4.88443020e-05  0.00000000e+00\n",
      "  0.00000000e+00 -6.52314005e-05  0.00000000e+00  8.60695214e-04\n",
      "  0.00000000e+00 -0.00000000e+00 -0.00000000e+00 -0.00000000e+00\n",
      "  0.00000000e+00  0.00000000e+00 -0.00000000e+00  0.00000000e+00\n",
      " -0.00000000e+00  0.00000000e+00 -0.00000000e+00 -0.00000000e+00\n",
      " -0.00000000e+00  0.00000000e+00 -0.00000000e+00 -0.00000000e+00\n",
      "  0.00000000e+00 -0.00000000e+00  0.00000000e+00 -0.00000000e+00\n",
      " -0.00000000e+00 -0.00000000e+00  0.00000000e+00 -0.00000000e+00\n",
      " -0.00000000e+00  5.48847707e-04  0.00000000e+00  0.00000000e+00\n",
      " -0.00000000e+00]\n",
      "i\n",
      "[ 2.62562922e-03 -2.35174568e-03  0.00000000e+00  0.00000000e+00\n",
      " -0.00000000e+00  6.21697879e-04 -0.00000000e+00 -0.00000000e+00\n",
      " -0.00000000e+00  0.00000000e+00  0.00000000e+00  7.65726125e-04\n",
      " -0.00000000e+00 -0.00000000e+00 -0.00000000e+00 -0.00000000e+00\n",
      "  8.37570052e-06  0.00000000e+00 -0.00000000e+00  1.45898065e-04\n",
      "  0.00000000e+00 -7.34670201e-04 -0.00000000e+00 -0.00000000e+00\n",
      " -0.00000000e+00  0.00000000e+00 -0.00000000e+00  0.00000000e+00\n",
      "  0.00000000e+00  0.00000000e+00  0.00000000e+00 -0.00000000e+00\n",
      " -0.00000000e+00 -1.85690660e-01 -0.00000000e+00 -1.11930653e-03\n",
      "  5.55411291e-05  0.00000000e+00  3.28433705e-03  7.00288861e-04\n",
      " -2.68733801e-03  1.26014932e-04  0.00000000e+00  3.98545332e-04\n",
      " -0.00000000e+00]\n",
      "j\n",
      "[-0.00000000e+00  0.00000000e+00  0.00000000e+00 -3.75912582e-03\n",
      " -0.00000000e+00  7.81636567e-04 -0.00000000e+00  0.00000000e+00\n",
      " -0.00000000e+00 -6.60950940e-05 -0.00000000e+00 -0.00000000e+00\n",
      " -0.00000000e+00 -0.00000000e+00 -0.00000000e+00 -0.00000000e+00\n",
      "  0.00000000e+00 -0.00000000e+00 -1.02767121e-04 -0.00000000e+00\n",
      " -0.00000000e+00 -0.00000000e+00 -0.00000000e+00  0.00000000e+00\n",
      "  0.00000000e+00  0.00000000e+00  0.00000000e+00 -0.00000000e+00\n",
      " -0.00000000e+00 -0.00000000e+00 -0.00000000e+00 -3.78342977e-03\n",
      " -0.00000000e+00 -0.00000000e+00  0.00000000e+00 -0.00000000e+00\n",
      " -0.00000000e+00  0.00000000e+00 -0.00000000e+00 -0.00000000e+00\n",
      " -0.00000000e+00  0.00000000e+00 -0.00000000e+00  0.00000000e+00\n",
      " -0.00000000e+00]\n",
      "jm\n",
      "[-0.0000000e+00 -0.0000000e+00 -0.0000000e+00 -0.0000000e+00\n",
      " -0.0000000e+00 -0.0000000e+00 -0.0000000e+00 -0.0000000e+00\n",
      " -0.0000000e+00 -0.0000000e+00 -0.0000000e+00  0.0000000e+00\n",
      " -0.0000000e+00 -0.0000000e+00 -0.0000000e+00 -0.0000000e+00\n",
      " -0.0000000e+00 -0.0000000e+00 -0.0000000e+00 -0.0000000e+00\n",
      " -0.0000000e+00 -0.0000000e+00 -0.0000000e+00 -0.0000000e+00\n",
      " -0.0000000e+00 -0.0000000e+00 -0.0000000e+00 -0.0000000e+00\n",
      " -0.0000000e+00 -0.0000000e+00 -0.0000000e+00 -0.0000000e+00\n",
      " -0.0000000e+00 -0.0000000e+00 -0.0000000e+00 -0.0000000e+00\n",
      " -4.4156172e-18 -0.0000000e+00 -0.0000000e+00 -0.0000000e+00\n",
      " -0.0000000e+00 -0.0000000e+00 -0.0000000e+00 -0.0000000e+00\n",
      " -0.0000000e+00]\n"
     ]
    }
   ],
   "source": [
    "coef_list=dict([])\n",
    "for product in product_list:\n",
    "    train_mat = load(HEAD_PATH+\"\\\\train_test_mat\\\\\"+product+\".train.mat.pkl\")\n",
    "    x_train = train_mat.iloc[:, :n_signal].values\n",
    "    y_train = train_mat.loc[:, y_signal].values\n",
    "    scaler =  StandardScaler(copy=True, with_mean=False, with_std=True)\n",
    "    scaler.fit(x_train)\n",
    "    x_std = np.sqrt(scaler.var_)\n",
    "    x_train_normal = scaler.transform(x_train)\n",
    "    model = LassoCV(n_alphas=100, fit_intercept=False, cv=5, max_iter=10000).fit(x_train_normal, y_train)\n",
    "    coef = model.coef_/x_std\n",
    "    print(product)\n",
    "    print(coef)\n",
    "    coef_list[product] = coef"
   ]
  },
  {
   "cell_type": "code",
   "execution_count": 22,
   "metadata": {},
   "outputs": [],
   "source": [
    "strat = \"lasso.002.\"+str(period)\n",
    "for product in product_list:\n",
    "    os.makedirs(SAVE_PATH+\"\\\\factor_pkl\\\\\"+product+\"\\\\\"+strat, exist_ok=True)"
   ]
  },
  {
   "cell_type": "code",
   "execution_count": 23,
   "metadata": {},
   "outputs": [],
   "source": [
    "os.makedirs(HEAD_PATH+\"\\\\signal_mat_pkl\", exist_ok=True)\n",
    "for product in product_list:\n",
    "    os.makedirs(HEAD_PATH+\"\\\\signal_mat_pkl\\\\\"+product, exist_ok=True)"
   ]
  },
  {
   "cell_type": "code",
   "execution_count": 24,
   "metadata": {},
   "outputs": [],
   "source": [
    "def par_get_signal_mat(file_name, product, signal_list, HEAD_PATH, SAVE_PATH):\n",
    "    data = load(HEAD_PATH+\"\\\\pkl_tick\\\\\"+product+\"\\\\\"+file_name)\n",
    "    signal_mat = functools.reduce(functools.partial(get_signal_mat, product=product, file_name=file_name, HEAD_PATH=SAVE_PATH), signal_list, None)\n",
    "    save(signal_mat, SAVE_PATH+\"\\\\signal_mat_pkl\\\\\"+product+\"\\\\\"+file_name)"
   ]
  },
  {
   "cell_type": "code",
   "execution_count": 25,
   "metadata": {},
   "outputs": [],
   "source": [
    "def par_get_daily_pred(file_name, product, coef, strat, HEAD_PATH):\n",
    "    signal_mat = load(HEAD_PATH+\"\\\\signal_mat_pkl\\\\\"+product+\"\\\\\"+file_name)\n",
    "    S = np.dot(signal_mat.transpose(),coef)\n",
    "    save(S, HEAD_PATH+\"\\\\factor_pkl\\\\\"+product+\"\\\\\"+strat+\"\\\\\"+file_name)      \n"
   ]
  },
  {
   "cell_type": "code",
   "execution_count": 26,
   "metadata": {},
   "outputs": [
    {
     "name": "stdout",
     "output_type": "stream",
     "text": [
      "rb\n",
      "hc\n",
      "i\n",
      "j\n",
      "jm\n",
      "Wall time: 13min 34s\n"
     ]
    }
   ],
   "source": [
    "%%time\n",
    "for product in product_list:\n",
    "    print(product)\n",
    "    parLapply(CORE_NUM, all_dates, par_get_signal_mat, product=product, signal_list=signal_list, HEAD_PATH=HEAD_PATH, SAVE_PATH=SAVE_PATH)"
   ]
  },
  {
   "cell_type": "code",
   "execution_count": 27,
   "metadata": {},
   "outputs": [
    {
     "name": "stdout",
     "output_type": "stream",
     "text": [
      "rb\n",
      "hc\n",
      "i\n",
      "j\n",
      "jm\n",
      "Wall time: 2min 5s\n"
     ]
    }
   ],
   "source": [
    "%%time\n",
    "for product in product_list:\n",
    "    print(product)\n",
    "    coef = coef_list[product]\n",
    "    parLapply(CORE_NUM, all_dates, par_get_daily_pred, \n",
    "              product=product, coef=coef, strat=strat, HEAD_PATH=SAVE_PATH)"
   ]
  },
  {
   "cell_type": "code",
   "execution_count": 28,
   "metadata": {},
   "outputs": [],
   "source": [
    "def par_get_all_signal(signal_name, file_list, product, period, HEAD_PATH=HEAD_PATH):\n",
    "    n_files = len(file_list)\n",
    "    all_signal = np.array([])\n",
    "    for file in file_list:\n",
    "        S = load(HEAD_PATH+\"\\\\factor_pkl\\\\\"+product+\"\\\\\"+signal_name+\"\\\\\"+file)\n",
    "        #data = load(HEAD_PATH+\"\\\\pkl_tick\\\\\"+product+\"\\\\\"+file)\n",
    "        good = load(HEAD_PATH+\"\\\\good_pkl\\\\\"+product+\"\\\\\"+file)\n",
    "        signal = S[good]\n",
    "        chosen = (np.arange(len(signal))+1) % period==0\n",
    "        all_signal = np.concatenate((all_signal, signal[chosen]), axis=0)\n",
    "    save(all_signal, HEAD_PATH+\"\\\\all_signals\\\\\"+product+\".\"+signal_name+\".pkl\")"
   ]
  },
  {
   "cell_type": "code",
   "execution_count": 29,
   "metadata": {},
   "outputs": [
    {
     "name": "stdout",
     "output_type": "stream",
     "text": [
      "Wall time: 22.2 s\n"
     ]
    }
   ],
   "source": [
    "%%time\n",
    "for product in product_list:\n",
    "    par_get_all_signal(strat, all_dates, product, 4096, HEAD_PATH=SAVE_PATH)"
   ]
  },
  {
   "cell_type": "code",
   "execution_count": 32,
   "metadata": {},
   "outputs": [],
   "source": [
    "split_str=\"2019\""
   ]
  },
  {
   "cell_type": "code",
   "execution_count": 33,
   "metadata": {},
   "outputs": [
    {
     "name": "stdout",
     "output_type": "stream",
     "text": [
      "reverse=1\n",
      "reverse=1\n",
      "reverse=1\n",
      "reverse=1\n",
      "reverse=1\n",
      "Wall time: 4min 27s\n"
     ]
    }
   ],
   "source": [
    "%%time\n",
    "for product in product_list:\n",
    "    spread = product_info[product][\"spread\"]\n",
    "    tranct = product_info[product][\"tranct\"]\n",
    "    tranct_ratio = product_info[product][\"tranct.ratio\"]\n",
    "    evaluate_signal(\"lasso.002\", np.array(all_dates), product, 2, 20, \n",
    "                    CORE_NUM, HEAD_PATH, SAVE_PATH, period=4096, split_str=split_str, tranct=tranct, \n",
    "                    max_spread=spread*1.1, tranct_ratio=tranct_ratio, atr_filter=0.01, save_path=\"signal_result_atr\",reverse=1)"
   ]
  },
  {
   "cell_type": "code",
   "execution_count": 34,
   "metadata": {},
   "outputs": [
    {
     "name": "stdout",
     "output_type": "stream",
     "text": [
      "rb train sharpe  0.3015100788618357 test sharpe  0.5863598165054786\n",
      "hc train sharpe  0.9840271279996472 test sharpe  0.2495855483298399\n",
      "i train sharpe  0.8615120251321614 test sharpe  -0.8212427181913234\n",
      "j train sharpe  0.32948033272116684 test sharpe  0.6896787660294378\n",
      "jm train sharpe  0.9451699408900707 test sharpe  1.4673043892423416\n",
      "train sharpe:  1.5554285525515157 test sharpe:  0.5408961731886603\n"
     ]
    },
    {
     "data": {
      "image/svg+xml": "<?xml version=\"1.0\" encoding=\"utf-8\" standalone=\"no\"?>\r\n<!DOCTYPE svg PUBLIC \"-//W3C//DTD SVG 1.1//EN\"\r\n  \"http://www.w3.org/Graphics/SVG/1.1/DTD/svg11.dtd\">\r\n<svg height=\"327.79375pt\" version=\"1.1\" viewBox=\"0 0 620.370092 327.79375\" width=\"620.370092pt\" xmlns=\"http://www.w3.org/2000/svg\" xmlns:xlink=\"http://www.w3.org/1999/xlink\">\r\n <metadata>\r\n  <rdf:RDF xmlns:cc=\"http://creativecommons.org/ns#\" xmlns:dc=\"http://purl.org/dc/elements/1.1/\" xmlns:rdf=\"http://www.w3.org/1999/02/22-rdf-syntax-ns#\">\r\n   <cc:Work>\r\n    <dc:type rdf:resource=\"http://purl.org/dc/dcmitype/StillImage\"/>\r\n    <dc:date>2022-06-07T10:27:31.226779</dc:date>\r\n    <dc:format>image/svg+xml</dc:format>\r\n    <dc:creator>\r\n     <cc:Agent>\r\n      <dc:title>Matplotlib v3.4.3, https://matplotlib.org/</dc:title>\r\n     </cc:Agent>\r\n    </dc:creator>\r\n   </cc:Work>\r\n  </rdf:RDF>\r\n </metadata>\r\n <defs>\r\n  <style type=\"text/css\">*{stroke-linecap:butt;stroke-linejoin:round;}</style>\r\n </defs>\r\n <g id=\"figure_1\">\r\n  <g id=\"patch_1\">\r\n   <path d=\"M 0 327.79375 \r\nL 620.370092 327.79375 \r\nL 620.370092 0 \r\nL 0 0 \r\nz\r\n\" style=\"fill:none;\"/>\r\n  </g>\r\n  <g id=\"axes_1\">\r\n   <g id=\"patch_2\">\r\n    <path d=\"M 51.325 293.34375 \r\nL 609.325 293.34375 \r\nL 609.325 21.54375 \r\nL 51.325 21.54375 \r\nz\r\n\" style=\"fill:#ffffff;\"/>\r\n   </g>\r\n   <g id=\"matplotlib.axis_1\">\r\n    <g id=\"xtick_1\">\r\n     <g id=\"line2d_1\">\r\n      <defs>\r\n       <path d=\"M 0 0 \r\nL 0 3.5 \r\n\" id=\"m4bedf31e14\" style=\"stroke:#000000;stroke-width:0.8;\"/>\r\n      </defs>\r\n      <g>\r\n       <use style=\"stroke:#000000;stroke-width:0.8;\" x=\"76.055732\" xlink:href=\"#m4bedf31e14\" y=\"293.34375\"/>\r\n      </g>\r\n     </g>\r\n     <g id=\"text_1\">\r\n      <!-- 2017-01 -->\r\n      <g transform=\"translate(58.555732 307.21875)scale(0.1 -0.1)\">\r\n       <defs>\r\n        <path d=\"M 300 250 \r\nQ 325 625 650 925 \r\nQ 975 1225 1475 1862 \r\nQ 1975 2500 2125 2850 \r\nQ 2275 3200 2237 3450 \r\nQ 2200 3700 2000 3862 \r\nQ 1800 4025 1537 4000 \r\nQ 1275 3975 1037 3800 \r\nQ 800 3625 675 3275 \r\nL 200 3350 \r\nQ 400 3925 712 4187 \r\nQ 1025 4450 1450 4475 \r\nQ 1700 4500 1900 4462 \r\nQ 2100 4425 2312 4287 \r\nQ 2525 4150 2662 3875 \r\nQ 2800 3600 2762 3212 \r\nQ 2725 2825 2375 2287 \r\nQ 2025 1750 1025 600 \r\nL 2825 600 \r\nL 2825 150 \r\nL 300 150 \r\nL 300 250 \r\nz\r\n\" id=\"SimHei-32\" transform=\"scale(0.015625)\"/>\r\n        <path d=\"M 225 2537 \r\nQ 250 3200 412 3587 \r\nQ 575 3975 875 4225 \r\nQ 1175 4475 1612 4475 \r\nQ 2050 4475 2375 4112 \r\nQ 2700 3750 2800 3200 \r\nQ 2900 2650 2862 1937 \r\nQ 2825 1225 2612 775 \r\nQ 2400 325 1975 150 \r\nQ 1550 -25 1125 187 \r\nQ 700 400 525 750 \r\nQ 350 1100 275 1487 \r\nQ 200 1875 225 2537 \r\nz\r\nM 750 2687 \r\nQ 675 2000 800 1462 \r\nQ 925 925 1212 700 \r\nQ 1500 475 1800 612 \r\nQ 2100 750 2237 1162 \r\nQ 2375 1575 2375 2062 \r\nQ 2375 2550 2337 2950 \r\nQ 2300 3350 2112 3675 \r\nQ 1925 4000 1612 4012 \r\nQ 1300 4025 1062 3700 \r\nQ 825 3375 750 2687 \r\nz\r\n\" id=\"SimHei-30\" transform=\"scale(0.015625)\"/>\r\n        <path d=\"M 1400 3600 \r\nQ 1075 3275 575 2975 \r\nL 575 3450 \r\nQ 1200 3875 1600 4450 \r\nL 1900 4450 \r\nL 1900 150 \r\nL 1400 150 \r\nL 1400 3600 \r\nz\r\n\" id=\"SimHei-31\" transform=\"scale(0.015625)\"/>\r\n        <path d=\"M 850 150 \r\nQ 1300 2050 2425 3925 \r\nL 275 3925 \r\nL 275 4375 \r\nL 2950 4375 \r\nL 2950 3950 \r\nQ 1775 2050 1400 150 \r\nL 850 150 \r\nz\r\n\" id=\"SimHei-37\" transform=\"scale(0.015625)\"/>\r\n        <path d=\"M 2975 2125 \r\nL 125 2125 \r\nL 125 2525 \r\nL 2975 2525 \r\nL 2975 2125 \r\nz\r\n\" id=\"SimHei-2d\" transform=\"scale(0.015625)\"/>\r\n       </defs>\r\n       <use xlink:href=\"#SimHei-32\"/>\r\n       <use x=\"50\" xlink:href=\"#SimHei-30\"/>\r\n       <use x=\"100\" xlink:href=\"#SimHei-31\"/>\r\n       <use x=\"150\" xlink:href=\"#SimHei-37\"/>\r\n       <use x=\"200\" xlink:href=\"#SimHei-2d\"/>\r\n       <use x=\"250\" xlink:href=\"#SimHei-30\"/>\r\n       <use x=\"300\" xlink:href=\"#SimHei-31\"/>\r\n      </g>\r\n     </g>\r\n    </g>\r\n    <g id=\"xtick_2\">\r\n     <g id=\"line2d_2\">\r\n      <g>\r\n       <use style=\"stroke:#000000;stroke-width:0.8;\" x=\"133.333563\" xlink:href=\"#m4bedf31e14\" y=\"293.34375\"/>\r\n      </g>\r\n     </g>\r\n     <g id=\"text_2\">\r\n      <!-- 2017-07 -->\r\n      <g transform=\"translate(115.833563 307.21875)scale(0.1 -0.1)\">\r\n       <use xlink:href=\"#SimHei-32\"/>\r\n       <use x=\"50\" xlink:href=\"#SimHei-30\"/>\r\n       <use x=\"100\" xlink:href=\"#SimHei-31\"/>\r\n       <use x=\"150\" xlink:href=\"#SimHei-37\"/>\r\n       <use x=\"200\" xlink:href=\"#SimHei-2d\"/>\r\n       <use x=\"250\" xlink:href=\"#SimHei-30\"/>\r\n       <use x=\"300\" xlink:href=\"#SimHei-37\"/>\r\n      </g>\r\n     </g>\r\n    </g>\r\n    <g id=\"xtick_3\">\r\n     <g id=\"line2d_3\">\r\n      <g>\r\n       <use style=\"stroke:#000000;stroke-width:0.8;\" x=\"191.560751\" xlink:href=\"#m4bedf31e14\" y=\"293.34375\"/>\r\n      </g>\r\n     </g>\r\n     <g id=\"text_3\">\r\n      <!-- 2018-01 -->\r\n      <g transform=\"translate(174.060751 307.21875)scale(0.1 -0.1)\">\r\n       <defs>\r\n        <path d=\"M 175 1375 \r\nQ 175 1675 325 1962 \r\nQ 475 2250 825 2425 \r\nQ 525 2600 425 2812 \r\nQ 325 3025 312 3300 \r\nQ 300 3575 387 3775 \r\nQ 475 3975 650 4150 \r\nQ 825 4325 1037 4387 \r\nQ 1250 4450 1500 4450 \r\nQ 1750 4450 1950 4400 \r\nQ 2150 4350 2375 4187 \r\nQ 2600 4025 2700 3725 \r\nQ 2800 3425 2687 3025 \r\nQ 2575 2625 2100 2400 \r\nQ 2525 2275 2700 2012 \r\nQ 2875 1750 2875 1375 \r\nQ 2875 1000 2762 775 \r\nQ 2650 550 2512 400 \r\nQ 2375 250 2137 162 \r\nQ 1900 75 1537 75 \r\nQ 1175 75 912 162 \r\nQ 650 250 475 425 \r\nQ 300 600 237 837 \r\nQ 175 1075 175 1375 \r\nz\r\nM 687 1400 \r\nQ 675 1100 787 875 \r\nQ 900 650 1200 587 \r\nQ 1500 525 1825 600 \r\nQ 2150 675 2275 950 \r\nQ 2400 1225 2362 1500 \r\nQ 2325 1775 2050 1962 \r\nQ 1775 2150 1450 2125 \r\nQ 1125 2100 912 1900 \r\nQ 700 1700 687 1400 \r\nz\r\nM 775 3350 \r\nQ 775 3100 950 2875 \r\nQ 1125 2650 1500 2650 \r\nQ 1875 2650 2062 2875 \r\nQ 2250 3100 2237 3412 \r\nQ 2225 3725 2012 3875 \r\nQ 1800 4025 1437 4000 \r\nQ 1075 3975 925 3787 \r\nQ 775 3600 775 3350 \r\nz\r\n\" id=\"SimHei-38\" transform=\"scale(0.015625)\"/>\r\n       </defs>\r\n       <use xlink:href=\"#SimHei-32\"/>\r\n       <use x=\"50\" xlink:href=\"#SimHei-30\"/>\r\n       <use x=\"100\" xlink:href=\"#SimHei-31\"/>\r\n       <use x=\"150\" xlink:href=\"#SimHei-38\"/>\r\n       <use x=\"200\" xlink:href=\"#SimHei-2d\"/>\r\n       <use x=\"250\" xlink:href=\"#SimHei-30\"/>\r\n       <use x=\"300\" xlink:href=\"#SimHei-31\"/>\r\n      </g>\r\n     </g>\r\n    </g>\r\n    <g id=\"xtick_4\">\r\n     <g id=\"line2d_4\">\r\n      <g>\r\n       <use style=\"stroke:#000000;stroke-width:0.8;\" x=\"248.838582\" xlink:href=\"#m4bedf31e14\" y=\"293.34375\"/>\r\n      </g>\r\n     </g>\r\n     <g id=\"text_4\">\r\n      <!-- 2018-07 -->\r\n      <g transform=\"translate(231.338582 307.21875)scale(0.1 -0.1)\">\r\n       <use xlink:href=\"#SimHei-32\"/>\r\n       <use x=\"50\" xlink:href=\"#SimHei-30\"/>\r\n       <use x=\"100\" xlink:href=\"#SimHei-31\"/>\r\n       <use x=\"150\" xlink:href=\"#SimHei-38\"/>\r\n       <use x=\"200\" xlink:href=\"#SimHei-2d\"/>\r\n       <use x=\"250\" xlink:href=\"#SimHei-30\"/>\r\n       <use x=\"300\" xlink:href=\"#SimHei-37\"/>\r\n      </g>\r\n     </g>\r\n    </g>\r\n    <g id=\"xtick_5\">\r\n     <g id=\"line2d_5\">\r\n      <g>\r\n       <use style=\"stroke:#000000;stroke-width:0.8;\" x=\"307.06577\" xlink:href=\"#m4bedf31e14\" y=\"293.34375\"/>\r\n      </g>\r\n     </g>\r\n     <g id=\"text_5\">\r\n      <!-- 2019-01 -->\r\n      <g transform=\"translate(289.56577 307.21875)scale(0.1 -0.1)\">\r\n       <defs>\r\n        <path d=\"M 800 75 \r\nQ 1350 1000 1700 1750 \r\nQ 1075 1650 662 1912 \r\nQ 250 2175 162 2625 \r\nQ 75 3075 175 3437 \r\nQ 275 3800 487 4037 \r\nQ 700 4275 1000 4375 \r\nQ 1300 4475 1537 4475 \r\nQ 1775 4475 2025 4375 \r\nQ 2275 4275 2475 4075 \r\nQ 2675 3875 2750 3662 \r\nQ 2825 3450 2825 3112 \r\nQ 2825 2775 2575 2250 \r\nQ 2325 1725 1350 75 \r\nL 800 75 \r\nz\r\nM 662 2875 \r\nQ 700 2550 937 2337 \r\nQ 1175 2125 1450 2150 \r\nQ 1725 2175 1887 2300 \r\nQ 2050 2425 2200 2725 \r\nQ 2300 3100 2250 3362 \r\nQ 2200 3625 1987 3800 \r\nQ 1775 3975 1525 3975 \r\nQ 1375 4000 1137 3900 \r\nQ 900 3800 762 3500 \r\nQ 625 3200 662 2875 \r\nz\r\n\" id=\"SimHei-39\" transform=\"scale(0.015625)\"/>\r\n       </defs>\r\n       <use xlink:href=\"#SimHei-32\"/>\r\n       <use x=\"50\" xlink:href=\"#SimHei-30\"/>\r\n       <use x=\"100\" xlink:href=\"#SimHei-31\"/>\r\n       <use x=\"150\" xlink:href=\"#SimHei-39\"/>\r\n       <use x=\"200\" xlink:href=\"#SimHei-2d\"/>\r\n       <use x=\"250\" xlink:href=\"#SimHei-30\"/>\r\n       <use x=\"300\" xlink:href=\"#SimHei-31\"/>\r\n      </g>\r\n     </g>\r\n    </g>\r\n    <g id=\"xtick_6\">\r\n     <g id=\"line2d_6\">\r\n      <g>\r\n       <use style=\"stroke:#000000;stroke-width:0.8;\" x=\"364.343601\" xlink:href=\"#m4bedf31e14\" y=\"293.34375\"/>\r\n      </g>\r\n     </g>\r\n     <g id=\"text_6\">\r\n      <!-- 2019-07 -->\r\n      <g transform=\"translate(346.843601 307.21875)scale(0.1 -0.1)\">\r\n       <use xlink:href=\"#SimHei-32\"/>\r\n       <use x=\"50\" xlink:href=\"#SimHei-30\"/>\r\n       <use x=\"100\" xlink:href=\"#SimHei-31\"/>\r\n       <use x=\"150\" xlink:href=\"#SimHei-39\"/>\r\n       <use x=\"200\" xlink:href=\"#SimHei-2d\"/>\r\n       <use x=\"250\" xlink:href=\"#SimHei-30\"/>\r\n       <use x=\"300\" xlink:href=\"#SimHei-37\"/>\r\n      </g>\r\n     </g>\r\n    </g>\r\n    <g id=\"xtick_7\">\r\n     <g id=\"line2d_7\">\r\n      <g>\r\n       <use style=\"stroke:#000000;stroke-width:0.8;\" x=\"422.570789\" xlink:href=\"#m4bedf31e14\" y=\"293.34375\"/>\r\n      </g>\r\n     </g>\r\n     <g id=\"text_7\">\r\n      <!-- 2020-01 -->\r\n      <g transform=\"translate(405.070789 307.21875)scale(0.1 -0.1)\">\r\n       <use xlink:href=\"#SimHei-32\"/>\r\n       <use x=\"50\" xlink:href=\"#SimHei-30\"/>\r\n       <use x=\"100\" xlink:href=\"#SimHei-32\"/>\r\n       <use x=\"150\" xlink:href=\"#SimHei-30\"/>\r\n       <use x=\"200\" xlink:href=\"#SimHei-2d\"/>\r\n       <use x=\"250\" xlink:href=\"#SimHei-30\"/>\r\n       <use x=\"300\" xlink:href=\"#SimHei-31\"/>\r\n      </g>\r\n     </g>\r\n    </g>\r\n    <g id=\"xtick_8\">\r\n     <g id=\"line2d_8\">\r\n      <g>\r\n       <use style=\"stroke:#000000;stroke-width:0.8;\" x=\"480.165073\" xlink:href=\"#m4bedf31e14\" y=\"293.34375\"/>\r\n      </g>\r\n     </g>\r\n     <g id=\"text_8\">\r\n      <!-- 2020-07 -->\r\n      <g transform=\"translate(462.665073 307.21875)scale(0.1 -0.1)\">\r\n       <use xlink:href=\"#SimHei-32\"/>\r\n       <use x=\"50\" xlink:href=\"#SimHei-30\"/>\r\n       <use x=\"100\" xlink:href=\"#SimHei-32\"/>\r\n       <use x=\"150\" xlink:href=\"#SimHei-30\"/>\r\n       <use x=\"200\" xlink:href=\"#SimHei-2d\"/>\r\n       <use x=\"250\" xlink:href=\"#SimHei-30\"/>\r\n       <use x=\"300\" xlink:href=\"#SimHei-37\"/>\r\n      </g>\r\n     </g>\r\n    </g>\r\n    <g id=\"xtick_9\">\r\n     <g id=\"line2d_9\">\r\n      <g>\r\n       <use style=\"stroke:#000000;stroke-width:0.8;\" x=\"538.39226\" xlink:href=\"#m4bedf31e14\" y=\"293.34375\"/>\r\n      </g>\r\n     </g>\r\n     <g id=\"text_9\">\r\n      <!-- 2021-01 -->\r\n      <g transform=\"translate(520.89226 307.21875)scale(0.1 -0.1)\">\r\n       <use xlink:href=\"#SimHei-32\"/>\r\n       <use x=\"50\" xlink:href=\"#SimHei-30\"/>\r\n       <use x=\"100\" xlink:href=\"#SimHei-32\"/>\r\n       <use x=\"150\" xlink:href=\"#SimHei-31\"/>\r\n       <use x=\"200\" xlink:href=\"#SimHei-2d\"/>\r\n       <use x=\"250\" xlink:href=\"#SimHei-30\"/>\r\n       <use x=\"300\" xlink:href=\"#SimHei-31\"/>\r\n      </g>\r\n     </g>\r\n    </g>\r\n    <g id=\"xtick_10\">\r\n     <g id=\"line2d_10\">\r\n      <g>\r\n       <use style=\"stroke:#000000;stroke-width:0.8;\" x=\"595.670092\" xlink:href=\"#m4bedf31e14\" y=\"293.34375\"/>\r\n      </g>\r\n     </g>\r\n     <g id=\"text_10\">\r\n      <!-- 2021-07 -->\r\n      <g transform=\"translate(578.170092 307.21875)scale(0.1 -0.1)\">\r\n       <use xlink:href=\"#SimHei-32\"/>\r\n       <use x=\"50\" xlink:href=\"#SimHei-30\"/>\r\n       <use x=\"100\" xlink:href=\"#SimHei-32\"/>\r\n       <use x=\"150\" xlink:href=\"#SimHei-31\"/>\r\n       <use x=\"200\" xlink:href=\"#SimHei-2d\"/>\r\n       <use x=\"250\" xlink:href=\"#SimHei-30\"/>\r\n       <use x=\"300\" xlink:href=\"#SimHei-37\"/>\r\n      </g>\r\n     </g>\r\n    </g>\r\n    <g id=\"text_11\">\r\n     <!-- date -->\r\n     <g transform=\"translate(320.325 319.34375)scale(0.1 -0.1)\">\r\n      <defs>\r\n       <path d=\"M 2750 125 \r\nL 2250 125 \r\nL 2250 500 \r\nQ 2100 275 1900 175 \r\nQ 1700 75 1425 75 \r\nQ 925 75 575 437 \r\nQ 225 800 225 1525 \r\nQ 225 2250 575 2625 \r\nQ 925 3000 1425 3000 \r\nQ 1700 3000 1900 2887 \r\nQ 2100 2775 2250 2550 \r\nL 2250 4400 \r\nL 2750 4400 \r\nL 2750 125 \r\nz\r\nM 2250 1525 \r\nQ 2250 2000 2037 2275 \r\nQ 1825 2550 1525 2550 \r\nQ 1150 2550 962 2275 \r\nQ 775 2000 775 1525 \r\nQ 775 1050 962 787 \r\nQ 1150 525 1525 525 \r\nQ 1825 525 2037 787 \r\nQ 2250 1050 2250 1525 \r\nz\r\n\" id=\"SimHei-64\" transform=\"scale(0.015625)\"/>\r\n       <path d=\"M 2875 125 \r\nL 2275 125 \r\nQ 2225 175 2200 262 \r\nQ 2175 350 2175 475 \r\nQ 2000 275 1750 175 \r\nQ 1500 75 1225 75 \r\nQ 825 75 550 275 \r\nQ 275 475 275 850 \r\nQ 275 1225 525 1450 \r\nQ 775 1675 1300 1750 \r\nQ 1650 1800 1912 1875 \r\nQ 2175 1950 2175 2075 \r\nQ 2175 2225 2062 2375 \r\nQ 1950 2525 1575 2525 \r\nQ 1275 2525 1137 2412 \r\nQ 1000 2300 950 2100 \r\nL 400 2100 \r\nQ 450 2500 762 2737 \r\nQ 1075 2975 1575 2975 \r\nQ 2125 2975 2400 2725 \r\nQ 2675 2475 2675 2025 \r\nL 2675 650 \r\nQ 2675 500 2725 375 \r\nQ 2775 250 2875 125 \r\nz\r\nM 2175 1050 \r\nL 2175 1550 \r\nQ 2025 1500 1887 1462 \r\nQ 1750 1425 1425 1375 \r\nQ 1050 1325 937 1200 \r\nQ 825 1075 825 900 \r\nQ 825 750 937 637 \r\nQ 1050 525 1275 525 \r\nQ 1500 525 1762 650 \r\nQ 2025 775 2175 1050 \r\nz\r\n\" id=\"SimHei-61\" transform=\"scale(0.015625)\"/>\r\n       <path d=\"M 2750 200 \r\nQ 2625 150 2462 112 \r\nQ 2300 75 2025 75 \r\nQ 1575 75 1300 325 \r\nQ 1025 575 1025 1025 \r\nL 1025 2525 \r\nL 175 2525 \r\nL 175 2925 \r\nL 1025 2925 \r\nL 1025 3900 \r\nL 1525 3900 \r\nL 1525 2925 \r\nL 2550 2925 \r\nL 2550 2525 \r\nL 1525 2525 \r\nL 1525 1000 \r\nQ 1525 800 1625 662 \r\nQ 1725 525 2000 525 \r\nQ 2275 525 2450 575 \r\nQ 2625 625 2750 700 \r\nL 2750 200 \r\nz\r\n\" id=\"SimHei-74\" transform=\"scale(0.015625)\"/>\r\n       <path d=\"M 2850 1075 \r\nQ 2800 625 2450 350 \r\nQ 2100 75 1625 75 \r\nQ 1025 75 637 462 \r\nQ 250 850 250 1525 \r\nQ 250 2200 637 2587 \r\nQ 1025 2975 1625 2975 \r\nQ 2150 2975 2487 2637 \r\nQ 2825 2300 2825 1525 \r\nL 800 1525 \r\nQ 800 975 1037 750 \r\nQ 1275 525 1625 525 \r\nQ 1900 525 2075 662 \r\nQ 2250 800 2300 1075 \r\nL 2850 1075 \r\nz\r\nM 2250 1925 \r\nQ 2200 2275 2025 2412 \r\nQ 1850 2550 1575 2550 \r\nQ 1325 2550 1125 2412 \r\nQ 925 2275 825 1925 \r\nL 2250 1925 \r\nz\r\n\" id=\"SimHei-65\" transform=\"scale(0.015625)\"/>\r\n      </defs>\r\n      <use xlink:href=\"#SimHei-64\"/>\r\n      <use x=\"50\" xlink:href=\"#SimHei-61\"/>\r\n      <use x=\"100\" xlink:href=\"#SimHei-74\"/>\r\n      <use x=\"150\" xlink:href=\"#SimHei-65\"/>\r\n     </g>\r\n    </g>\r\n   </g>\r\n   <g id=\"matplotlib.axis_2\">\r\n    <g id=\"ytick_1\">\r\n     <g id=\"line2d_11\">\r\n      <defs>\r\n       <path d=\"M 0 0 \r\nL -3.5 0 \r\n\" id=\"m163812bba8\" style=\"stroke:#000000;stroke-width:0.8;\"/>\r\n      </defs>\r\n      <g>\r\n       <use style=\"stroke:#000000;stroke-width:0.8;\" x=\"51.325\" xlink:href=\"#m163812bba8\" y=\"282.243621\"/>\r\n      </g>\r\n     </g>\r\n     <g id=\"text_12\">\r\n      <!-- -0.02 -->\r\n      <g transform=\"translate(19.325 285.681121)scale(0.1 -0.1)\">\r\n       <defs>\r\n        <path d=\"M 1075 125 \r\nL 500 125 \r\nL 500 675 \r\nL 1075 675 \r\nL 1075 125 \r\nz\r\n\" id=\"SimHei-2e\" transform=\"scale(0.015625)\"/>\r\n       </defs>\r\n       <use xlink:href=\"#SimHei-2d\"/>\r\n       <use x=\"50\" xlink:href=\"#SimHei-30\"/>\r\n       <use x=\"100\" xlink:href=\"#SimHei-2e\"/>\r\n       <use x=\"150\" xlink:href=\"#SimHei-30\"/>\r\n       <use x=\"200\" xlink:href=\"#SimHei-32\"/>\r\n      </g>\r\n     </g>\r\n    </g>\r\n    <g id=\"ytick_2\">\r\n     <g id=\"line2d_12\">\r\n      <g>\r\n       <use style=\"stroke:#000000;stroke-width:0.8;\" x=\"51.325\" xlink:href=\"#m163812bba8\" y=\"251.437986\"/>\r\n      </g>\r\n     </g>\r\n     <g id=\"text_13\">\r\n      <!-- 0.00 -->\r\n      <g transform=\"translate(24.325 254.875486)scale(0.1 -0.1)\">\r\n       <use xlink:href=\"#SimHei-30\"/>\r\n       <use x=\"50\" xlink:href=\"#SimHei-2e\"/>\r\n       <use x=\"100\" xlink:href=\"#SimHei-30\"/>\r\n       <use x=\"150\" xlink:href=\"#SimHei-30\"/>\r\n      </g>\r\n     </g>\r\n    </g>\r\n    <g id=\"ytick_3\">\r\n     <g id=\"line2d_13\">\r\n      <g>\r\n       <use style=\"stroke:#000000;stroke-width:0.8;\" x=\"51.325\" xlink:href=\"#m163812bba8\" y=\"220.632352\"/>\r\n      </g>\r\n     </g>\r\n     <g id=\"text_14\">\r\n      <!-- 0.02 -->\r\n      <g transform=\"translate(24.325 224.069852)scale(0.1 -0.1)\">\r\n       <use xlink:href=\"#SimHei-30\"/>\r\n       <use x=\"50\" xlink:href=\"#SimHei-2e\"/>\r\n       <use x=\"100\" xlink:href=\"#SimHei-30\"/>\r\n       <use x=\"150\" xlink:href=\"#SimHei-32\"/>\r\n      </g>\r\n     </g>\r\n    </g>\r\n    <g id=\"ytick_4\">\r\n     <g id=\"line2d_14\">\r\n      <g>\r\n       <use style=\"stroke:#000000;stroke-width:0.8;\" x=\"51.325\" xlink:href=\"#m163812bba8\" y=\"189.826717\"/>\r\n      </g>\r\n     </g>\r\n     <g id=\"text_15\">\r\n      <!-- 0.04 -->\r\n      <g transform=\"translate(24.325 193.264217)scale(0.1 -0.1)\">\r\n       <defs>\r\n        <path d=\"M 2000 1100 \r\nL 75 1100 \r\nL 75 1525 \r\nL 2100 4450 \r\nL 2475 4450 \r\nL 2475 1525 \r\nL 3075 1525 \r\nL 3075 1100 \r\nL 2475 1100 \r\nL 2475 150 \r\nL 2000 150 \r\nL 2000 1100 \r\nz\r\nM 2000 1525 \r\nL 2000 3500 \r\nL 600 1525 \r\nL 2000 1525 \r\nz\r\n\" id=\"SimHei-34\" transform=\"scale(0.015625)\"/>\r\n       </defs>\r\n       <use xlink:href=\"#SimHei-30\"/>\r\n       <use x=\"50\" xlink:href=\"#SimHei-2e\"/>\r\n       <use x=\"100\" xlink:href=\"#SimHei-30\"/>\r\n       <use x=\"150\" xlink:href=\"#SimHei-34\"/>\r\n      </g>\r\n     </g>\r\n    </g>\r\n    <g id=\"ytick_5\">\r\n     <g id=\"line2d_15\">\r\n      <g>\r\n       <use style=\"stroke:#000000;stroke-width:0.8;\" x=\"51.325\" xlink:href=\"#m163812bba8\" y=\"159.021083\"/>\r\n      </g>\r\n     </g>\r\n     <g id=\"text_16\">\r\n      <!-- 0.06 -->\r\n      <g transform=\"translate(24.325 162.458583)scale(0.1 -0.1)\">\r\n       <defs>\r\n        <path d=\"M 250 1612 \r\nQ 275 1975 387 2225 \r\nQ 500 2475 725 2850 \r\nL 1750 4450 \r\nL 2325 4450 \r\nL 1275 2800 \r\nQ 1950 2975 2350 2750 \r\nQ 2750 2525 2887 2237 \r\nQ 3025 1950 3037 1612 \r\nQ 3050 1275 2937 950 \r\nQ 2825 625 2537 362 \r\nQ 2250 100 1737 75 \r\nQ 1225 50 862 262 \r\nQ 500 475 362 862 \r\nQ 225 1250 250 1612 \r\nz\r\nM 1025 787 \r\nQ 1250 550 1625 525 \r\nQ 2000 500 2250 775 \r\nQ 2500 1050 2500 1575 \r\nQ 2500 2100 2187 2300 \r\nQ 1875 2500 1487 2450 \r\nQ 1100 2400 925 2075 \r\nQ 750 1750 775 1387 \r\nQ 800 1025 1025 787 \r\nz\r\n\" id=\"SimHei-36\" transform=\"scale(0.015625)\"/>\r\n       </defs>\r\n       <use xlink:href=\"#SimHei-30\"/>\r\n       <use x=\"50\" xlink:href=\"#SimHei-2e\"/>\r\n       <use x=\"100\" xlink:href=\"#SimHei-30\"/>\r\n       <use x=\"150\" xlink:href=\"#SimHei-36\"/>\r\n      </g>\r\n     </g>\r\n    </g>\r\n    <g id=\"ytick_6\">\r\n     <g id=\"line2d_16\">\r\n      <g>\r\n       <use style=\"stroke:#000000;stroke-width:0.8;\" x=\"51.325\" xlink:href=\"#m163812bba8\" y=\"128.215448\"/>\r\n      </g>\r\n     </g>\r\n     <g id=\"text_17\">\r\n      <!-- 0.08 -->\r\n      <g transform=\"translate(24.325 131.652948)scale(0.1 -0.1)\">\r\n       <use xlink:href=\"#SimHei-30\"/>\r\n       <use x=\"50\" xlink:href=\"#SimHei-2e\"/>\r\n       <use x=\"100\" xlink:href=\"#SimHei-30\"/>\r\n       <use x=\"150\" xlink:href=\"#SimHei-38\"/>\r\n      </g>\r\n     </g>\r\n    </g>\r\n    <g id=\"ytick_7\">\r\n     <g id=\"line2d_17\">\r\n      <g>\r\n       <use style=\"stroke:#000000;stroke-width:0.8;\" x=\"51.325\" xlink:href=\"#m163812bba8\" y=\"97.409814\"/>\r\n      </g>\r\n     </g>\r\n     <g id=\"text_18\">\r\n      <!-- 0.10 -->\r\n      <g transform=\"translate(24.325 100.847314)scale(0.1 -0.1)\">\r\n       <use xlink:href=\"#SimHei-30\"/>\r\n       <use x=\"50\" xlink:href=\"#SimHei-2e\"/>\r\n       <use x=\"100\" xlink:href=\"#SimHei-31\"/>\r\n       <use x=\"150\" xlink:href=\"#SimHei-30\"/>\r\n      </g>\r\n     </g>\r\n    </g>\r\n    <g id=\"ytick_8\">\r\n     <g id=\"line2d_18\">\r\n      <g>\r\n       <use style=\"stroke:#000000;stroke-width:0.8;\" x=\"51.325\" xlink:href=\"#m163812bba8\" y=\"66.604179\"/>\r\n      </g>\r\n     </g>\r\n     <g id=\"text_19\">\r\n      <!-- 0.12 -->\r\n      <g transform=\"translate(24.325 70.041679)scale(0.1 -0.1)\">\r\n       <use xlink:href=\"#SimHei-30\"/>\r\n       <use x=\"50\" xlink:href=\"#SimHei-2e\"/>\r\n       <use x=\"100\" xlink:href=\"#SimHei-31\"/>\r\n       <use x=\"150\" xlink:href=\"#SimHei-32\"/>\r\n      </g>\r\n     </g>\r\n    </g>\r\n    <g id=\"ytick_9\">\r\n     <g id=\"line2d_19\">\r\n      <g>\r\n       <use style=\"stroke:#000000;stroke-width:0.8;\" x=\"51.325\" xlink:href=\"#m163812bba8\" y=\"35.798545\"/>\r\n      </g>\r\n     </g>\r\n     <g id=\"text_20\">\r\n      <!-- 0.14 -->\r\n      <g transform=\"translate(24.325 39.236045)scale(0.1 -0.1)\">\r\n       <use xlink:href=\"#SimHei-30\"/>\r\n       <use x=\"50\" xlink:href=\"#SimHei-2e\"/>\r\n       <use x=\"100\" xlink:href=\"#SimHei-31\"/>\r\n       <use x=\"150\" xlink:href=\"#SimHei-34\"/>\r\n      </g>\r\n     </g>\r\n    </g>\r\n    <g id=\"text_21\">\r\n     <!-- pnl -->\r\n     <g transform=\"translate(14.075 164.94375)rotate(-90)scale(0.1 -0.1)\">\r\n      <defs>\r\n       <path d=\"M 2825 1525 \r\nQ 2825 800 2475 425 \r\nQ 2125 50 1625 50 \r\nQ 1350 50 1150 162 \r\nQ 950 275 800 500 \r\nL 800 -800 \r\nL 300 -800 \r\nL 300 2925 \r\nL 800 2925 \r\nL 800 2550 \r\nQ 950 2775 1150 2875 \r\nQ 1350 2975 1625 2975 \r\nQ 2125 2975 2475 2612 \r\nQ 2825 2250 2825 1525 \r\nz\r\nM 2275 1525 \r\nQ 2275 2000 2087 2262 \r\nQ 1900 2525 1525 2525 \r\nQ 1225 2525 1012 2262 \r\nQ 800 2000 800 1525 \r\nQ 800 1050 1012 775 \r\nQ 1225 500 1525 500 \r\nQ 1900 500 2087 775 \r\nQ 2275 1050 2275 1525 \r\nz\r\n\" id=\"SimHei-70\" transform=\"scale(0.015625)\"/>\r\n       <path d=\"M 2800 125 \r\nL 2300 125 \r\nL 2300 1925 \r\nQ 2300 2225 2150 2400 \r\nQ 2000 2575 1750 2575 \r\nQ 1425 2575 1137 2237 \r\nQ 850 1900 850 1400 \r\nL 850 125 \r\nL 350 125 \r\nL 350 2925 \r\nL 850 2925 \r\nL 850 2400 \r\nQ 1050 2675 1287 2825 \r\nQ 1525 2975 1900 2975 \r\nQ 2350 2975 2575 2725 \r\nQ 2800 2475 2800 2100 \r\nL 2800 125 \r\nz\r\n\" id=\"SimHei-6e\" transform=\"scale(0.015625)\"/>\r\n       <path d=\"M 1825 125 \r\nL 1325 125 \r\nL 1325 4400 \r\nL 1825 4400 \r\nL 1825 125 \r\nz\r\n\" id=\"SimHei-6c\" transform=\"scale(0.015625)\"/>\r\n      </defs>\r\n      <use xlink:href=\"#SimHei-70\"/>\r\n      <use x=\"50\" xlink:href=\"#SimHei-6e\"/>\r\n      <use x=\"100\" xlink:href=\"#SimHei-6c\"/>\r\n     </g>\r\n    </g>\r\n   </g>\r\n   <g id=\"line2d_20\">\r\n    <path clip-path=\"url(#pad80badb75)\" d=\"M 76.688636 269.37215 \r\nL 77.637993 269.37215 \r\nL 78.587349 268.933255 \r\nL 79.220253 268.933255 \r\nL 79.536705 269.091354 \r\nL 79.853157 268.17946 \r\nL 80.802514 278.259717 \r\nL 81.118966 273.926335 \r\nL 81.435418 273.000455 \r\nL 81.75187 273.000455 \r\nL 82.068322 280.989205 \r\nL 83.967035 280.989205 \r\nL 86.498652 268.851715 \r\nL 87.76446 268.851715 \r\nL 88.080912 268.528812 \r\nL 88.397364 268.528812 \r\nL 88.713816 266.825742 \r\nL 89.663173 266.825742 \r\nL 89.979625 271.779642 \r\nL 90.296077 271.637517 \r\nL 90.612529 264.94499 \r\nL 91.878337 264.94499 \r\nL 92.19479 260.113472 \r\nL 92.827694 260.113472 \r\nL 93.144146 242.383189 \r\nL 97.574475 242.383189 \r\nL 98.523832 227.628357 \r\nL 98.840284 227.628357 \r\nL 99.156736 225.135025 \r\nL 99.473188 225.575229 \r\nL 100.738996 225.575229 \r\nL 101.055449 223.195103 \r\nL 102.004805 223.227443 \r\nL 102.954161 227.276502 \r\nL 103.270613 211.98016 \r\nL 103.903518 211.98016 \r\nL 106.435134 207.459892 \r\nL 107.384491 207.459892 \r\nL 107.700943 209.791435 \r\nL 108.650299 209.791435 \r\nL 109.599655 205.33565 \r\nL 109.916108 202.028533 \r\nL 110.23256 202.028533 \r\nL 110.549012 196.355089 \r\nL 110.865464 196.355089 \r\nL 111.81482 202.697539 \r\nL 112.131272 202.697539 \r\nL 112.447724 203.092477 \r\nL 112.764177 203.092477 \r\nL 113.080629 200.594335 \r\nL 114.346437 199.87563 \r\nL 114.662889 197.769328 \r\nL 114.979341 192.2764 \r\nL 115.295793 192.074755 \r\nL 116.24515 192.074755 \r\nL 116.561602 192.476366 \r\nL 116.878054 192.476366 \r\nL 117.194506 187.066897 \r\nL 118.460314 187.066897 \r\nL 118.776767 186.603581 \r\nL 119.093219 186.603581 \r\nL 119.409671 198.460152 \r\nL 121.941288 198.508135 \r\nL 123.523548 202.517283 \r\nL 124.156452 202.517283 \r\nL 125.105809 202.986966 \r\nL 127.637426 202.986966 \r\nL 127.953878 200.39629 \r\nL 128.27033 199.862174 \r\nL 131.751303 199.862174 \r\nL 132.067755 194.770202 \r\nL 133.017111 194.820046 \r\nL 134.28292 194.820046 \r\nL 134.599372 194.687217 \r\nL 136.814537 194.687217 \r\nL 137.130989 194.970652 \r\nL 137.447441 194.970652 \r\nL 138.396797 194.792081 \r\nL 138.713249 188.672561 \r\nL 141.561318 188.672561 \r\nL 141.87777 188.542123 \r\nL 142.827127 182.384159 \r\nL 143.143579 182.384159 \r\nL 143.460031 184.998399 \r\nL 143.776483 186.384555 \r\nL 144.092935 186.473368 \r\nL 145.042291 200.33983 \r\nL 145.675196 200.33983 \r\nL 145.991648 205.541641 \r\nL 146.3081 202.519724 \r\nL 147.257456 202.519724 \r\nL 147.573908 204.350504 \r\nL 147.89036 196.822049 \r\nL 148.206813 193.001293 \r\nL 148.523265 192.954449 \r\nL 149.472621 189.633665 \r\nL 149.789073 186.048592 \r\nL 150.105525 183.744081 \r\nL 150.421977 183.744081 \r\nL 150.738429 180.619487 \r\nL 151.687786 181.413676 \r\nL 152.004238 181.232703 \r\nL 152.637142 181.232703 \r\nL 152.953594 174.840566 \r\nL 153.90295 172.039349 \r\nL 154.535855 175.196526 \r\nL 154.852307 175.196526 \r\nL 155.168759 186.239691 \r\nL 156.118115 181.386368 \r\nL 157.067472 181.386368 \r\nL 157.383924 178.870561 \r\nL 158.966184 178.713029 \r\nL 159.599088 178.72064 \r\nL 160.548445 179.736913 \r\nL 161.181349 179.736913 \r\nL 161.497801 177.806082 \r\nL 165.295226 177.720515 \r\nL 165.611678 180.636316 \r\nL 165.92813 174.12599 \r\nL 166.244583 174.12599 \r\nL 167.193939 156.460468 \r\nL 167.510391 155.587168 \r\nL 167.826843 153.998391 \r\nL 168.459747 153.998391 \r\nL 169.409104 151.405778 \r\nL 169.725556 151.405778 \r\nL 170.042008 144.597959 \r\nL 172.257173 144.579677 \r\nL 172.573625 143.47609 \r\nL 174.155885 143.47609 \r\nL 174.472337 141.934163 \r\nL 174.788789 136.836064 \r\nL 176.687502 136.735148 \r\nL 177.003954 137.150336 \r\nL 178.902667 137.150336 \r\nL 179.219119 140.289718 \r\nL 179.535571 140.289718 \r\nL 180.484927 138.700097 \r\nL 183.332996 138.629787 \r\nL 183.649448 133.876265 \r\nL 183.965901 138.267515 \r\nL 185.864613 138.267515 \r\nL 186.181065 136.589713 \r\nL 187.130422 141.438201 \r\nL 187.446874 141.438201 \r\nL 187.763326 141.210463 \r\nL 188.39623 141.210463 \r\nL 189.345586 127.750766 \r\nL 189.978491 127.750766 \r\nL 190.294943 127.34208 \r\nL 192.193655 127.34208 \r\nL 192.510107 126.270534 \r\nL 192.82656 126.270534 \r\nL 194.092368 126.09839 \r\nL 195.041724 126.011441 \r\nL 195.991081 129.373566 \r\nL 197.256889 129.29653 \r\nL 198.206245 127.658558 \r\nL 198.522697 130.040665 \r\nL 199.472054 130.040665 \r\nL 200.42141 130.454081 \r\nL 200.737862 130.454081 \r\nL 201.054314 129.738282 \r\nL 201.370766 129.916294 \r\nL 201.687219 129.916294 \r\nL 202.636575 122.549917 \r\nL 205.484644 122.549917 \r\nL 208.016261 122.688972 \r\nL 208.332713 122.914125 \r\nL 209.282069 123.3894 \r\nL 209.598521 123.167713 \r\nL 209.914973 125.613783 \r\nL 212.44659 125.613783 \r\nL 212.763042 127.523328 \r\nL 214.661755 127.523328 \r\nL 214.978207 127.302474 \r\nL 215.927563 124.394183 \r\nL 216.87692 124.394183 \r\nL 217.193372 122.243665 \r\nL 218.45918 122.243665 \r\nL 218.775632 122.732994 \r\nL 219.092084 122.732994 \r\nL 219.408537 122.615301 \r\nL 220.357893 118.864469 \r\nL 225.104674 118.915291 \r\nL 225.421127 118.385675 \r\nL 225.737579 118.635768 \r\nL 226.054031 118.635768 \r\nL 227.003387 117.076552 \r\nL 227.319839 117.076552 \r\nL 227.636291 118.288973 \r\nL 228.269196 118.288973 \r\nL 230.167908 117.874564 \r\nL 230.48436 117.835436 \r\nL 231.433717 118.101915 \r\nL 232.066621 118.005893 \r\nL 235.864046 118.011189 \r\nL 236.180498 117.875024 \r\nL 236.49695 119.405779 \r\nL 238.395663 119.405779 \r\nL 238.712115 119.888283 \r\nL 240.294376 119.888283 \r\nL 240.610828 117.717959 \r\nL 243.142445 117.717959 \r\nL 243.458897 117.913455 \r\nL 243.775349 117.913455 \r\nL 245.041157 108.707741 \r\nL 245.674061 108.707741 \r\nL 245.990514 104.792505 \r\nL 246.93987 110.462702 \r\nL 248.205678 110.462702 \r\nL 249.787939 110.623752 \r\nL 250.420843 110.56733 \r\nL 251.370199 108.977208 \r\nL 251.686651 108.977208 \r\nL 252.003104 110.397678 \r\nL 254.53472 110.397678 \r\nL 254.851173 110.841602 \r\nL 256.749885 110.784338 \r\nL 257.066337 112.607963 \r\nL 258.015694 116.414354 \r\nL 258.332146 116.414354 \r\nL 258.648598 118.046126 \r\nL 258.96505 118.046126 \r\nL 259.281502 117.550013 \r\nL 260.230858 117.550013 \r\nL 260.54731 117.161436 \r\nL 261.180215 117.161436 \r\nL 261.496667 108.379128 \r\nL 262.446023 101.383503 \r\nL 262.762475 101.383503 \r\nL 263.078927 103.079006 \r\nL 264.661188 103.079006 \r\nL 264.97764 106.813218 \r\nL 265.926996 106.813218 \r\nL 266.876353 107.410196 \r\nL 267.192805 106.507893 \r\nL 267.509257 106.507893 \r\nL 267.825709 104.014865 \r\nL 270.357326 104.014865 \r\nL 271.306682 100.770836 \r\nL 271.623134 101.045887 \r\nL 271.939586 99.153784 \r\nL 277.00282 99.153784 \r\nL 280.167341 95.090904 \r\nL 282.698958 95.090904 \r\nL 283.01541 94.747634 \r\nL 284.597671 94.747634 \r\nL 284.914123 98.040726 \r\nL 285.547027 98.040726 \r\nL 285.863479 95.028593 \r\nL 287.129287 95.028593 \r\nL 287.44574 94.893314 \r\nL 287.762192 100.652131 \r\nL 290.293808 100.652131 \r\nL 291.243165 101.747522 \r\nL 293.45833 101.747522 \r\nL 293.774782 101.976998 \r\nL 294.407686 101.891911 \r\nL 294.724138 102.581221 \r\nL 295.673494 105.189031 \r\nL 295.989946 103.046239 \r\nL 296.939303 103.046239 \r\nL 297.888659 112.316561 \r\nL 298.205111 112.316561 \r\nL 298.521563 111.12901 \r\nL 298.838015 111.12901 \r\nL 299.154467 117.457847 \r\nL 300.103824 117.457847 \r\nL 300.420276 115.47917 \r\nL 300.736728 115.47917 \r\nL 301.05318 115.7267 \r\nL 305.799962 115.802268 \r\nL 307.382222 112.504179 \r\nL 307.698674 114.74738 \r\nL 309.597387 114.74738 \r\nL 309.913839 112.674451 \r\nL 311.179648 112.674451 \r\nL 311.4961 113.218322 \r\nL 314.344169 113.183144 \r\nL 314.660621 112.985545 \r\nL 315.609977 117.5283 \r\nL 315.926429 117.5283 \r\nL 316.242881 115.957866 \r\nL 316.559333 107.191305 \r\nL 316.875785 106.386144 \r\nL 320.040307 107.916474 \r\nL 320.356759 111.073764 \r\nL 321.306115 111.073764 \r\nL 322.255471 109.138746 \r\nL 322.888375 109.138746 \r\nL 323.204828 108.452819 \r\nL 325.736444 108.531245 \r\nL 326.685801 106.567901 \r\nL 327.635157 106.567901 \r\nL 327.951609 108.077656 \r\nL 328.900966 108.077656 \r\nL 329.217418 108.450238 \r\nL 331.432582 108.463223 \r\nL 331.749034 109.280184 \r\nL 332.065487 109.7201 \r\nL 335.54646 109.678872 \r\nL 335.862912 108.618351 \r\nL 336.495816 108.618351 \r\nL 337.761625 100.470206 \r\nL 338.078077 102.86261 \r\nL 338.394529 102.86261 \r\nL 338.710981 103.547649 \r\nL 339.027433 105.334314 \r\nL 340.293241 105.334314 \r\nL 340.609693 104.45424 \r\nL 343.14131 104.391721 \r\nL 343.457762 103.786245 \r\nL 344.723571 103.793855 \r\nL 346.622284 109.789795 \r\nL 346.938736 112.713546 \r\nL 348.837448 112.713546 \r\nL 349.1539 113.409142 \r\nL 349.470352 113.409142 \r\nL 349.786805 107.699816 \r\nL 350.103257 107.699816 \r\nL 351.052613 107.578743 \r\nL 351.369065 105.890128 \r\nL 352.001969 105.890128 \r\nL 352.318421 103.557464 \r\nL 354.217134 103.500793 \r\nL 354.533586 104.823842 \r\nL 355.482942 105.295693 \r\nL 356.115847 105.295693 \r\nL 356.432299 104.845973 \r\nL 357.698107 104.845973 \r\nL 358.014559 105.985839 \r\nL 358.331011 105.985839 \r\nL 358.647464 105.840116 \r\nL 359.913272 105.840116 \r\nL 360.229724 100.758642 \r\nL 360.546176 109.095915 \r\nL 361.17908 109.130016 \r\nL 362.128437 109.912748 \r\nL 362.761341 109.912748 \r\nL 363.077793 109.601725 \r\nL 363.394245 109.601725 \r\nL 364.343601 108.105876 \r\nL 364.660054 109.145642 \r\nL 364.976506 109.312255 \r\nL 365.292958 109.043825 \r\nL 365.60941 109.456065 \r\nL 366.875218 109.456065 \r\nL 367.19167 109.965231 \r\nL 367.824575 109.965231 \r\nL 368.773931 108.391989 \r\nL 369.090383 108.499935 \r\nL 369.406835 112.741282 \r\nL 369.723287 112.741282 \r\nL 370.039739 112.574073 \r\nL 371.305548 112.877832 \r\nL 373.837165 112.901864 \r\nL 374.153617 112.729441 \r\nL 374.470069 113.971778 \r\nL 375.735877 113.971778 \r\nL 376.052329 114.393405 \r\nL 376.368782 114.144851 \r\nL 376.685234 113.276788 \r\nL 377.63459 113.276788 \r\nL 377.951042 114.862381 \r\nL 381.115563 114.820076 \r\nL 382.064919 114.136736 \r\nL 382.381372 115.154974 \r\nL 382.697824 115.154974 \r\nL 383.014276 115.305631 \r\nL 383.330728 115.305631 \r\nL 384.596536 115.438803 \r\nL 385.229441 114.637489 \r\nL 385.545893 111.718851 \r\nL 387.444605 111.718851 \r\nL 388.710414 112.428733 \r\nL 389.026866 112.428733 \r\nL 389.343318 109.643857 \r\nL 389.65977 109.643857 \r\nL 389.976222 110.354363 \r\nL 390.925578 101.482423 \r\nL 391.242031 100.341398 \r\nL 395.988812 100.327756 \r\nL 396.305264 100.055059 \r\nL 396.621716 100.055059 \r\nL 397.571073 100.573925 \r\nL 397.887525 100.573925 \r\nL 398.203977 98.83906 \r\nL 401.052046 98.796039 \r\nL 402.001402 101.161859 \r\nL 402.317854 101.161859 \r\nL 402.634306 100.438569 \r\nL 402.950759 100.438569 \r\nL 403.267211 103.874492 \r\nL 404.216567 103.923267 \r\nL 404.533019 102.095935 \r\nL 405.165923 102.095935 \r\nL 405.482375 102.399315 \r\nL 406.431732 102.399315 \r\nL 407.064636 100.022532 \r\nL 407.381088 103.337406 \r\nL 408.646896 103.337406 \r\nL 408.963349 104.190703 \r\nL 409.912705 104.190703 \r\nL 410.862061 102.454099 \r\nL 413.71013 102.467106 \r\nL 414.026582 102.467106 \r\nL 414.343034 102.262981 \r\nL 415.292391 102.246677 \r\nL 415.608843 102.631226 \r\nL 415.925295 102.368679 \r\nL 416.241747 103.744209 \r\nL 416.558199 104.420192 \r\nL 417.507555 104.053252 \r\nL 417.824008 104.053252 \r\nL 418.14046 105.446656 \r\nL 418.773364 105.553197 \r\nL 419.72272 107.00929 \r\nL 421.937885 107.00929 \r\nL 422.254337 106.442091 \r\nL 424.15305 106.481103 \r\nL 424.469502 104.589286 \r\nL 424.785954 104.589286 \r\nL 425.102406 104.396214 \r\nL 428.899831 104.396214 \r\nL 429.216283 101.836946 \r\nL 429.532735 100.63956 \r\nL 433.013709 99.983933 \r\nL 433.330161 95.552449 \r\nL 434.279517 95.552449 \r\nL 435.228873 97.815152 \r\nL 435.545326 97.495275 \r\nL 435.861778 98.329126 \r\nL 438.076942 98.329126 \r\nL 438.393394 94.361649 \r\nL 438.709847 94.381425 \r\nL 439.659203 96.553114 \r\nL 439.975655 104.084166 \r\nL 440.608559 104.084166 \r\nL 440.925011 107.089369 \r\nL 441.874368 99.6718 \r\nL 442.19082 103.277698 \r\nL 442.507272 102.022879 \r\nL 442.823724 103.935291 \r\nL 443.140176 103.935291 \r\nL 444.089532 110.816158 \r\nL 444.405985 106.52916 \r\nL 444.722437 107.741855 \r\nL 445.038889 107.86283 \r\nL 445.355341 103.292979 \r\nL 446.621149 102.425434 \r\nL 446.937601 103.760276 \r\nL 447.254053 74.335263 \r\nL 447.570506 68.095203 \r\nL 448.519862 68.224562 \r\nL 448.836314 65.631057 \r\nL 449.152766 68.32192 \r\nL 449.469218 68.32192 \r\nL 449.78567 69.62288 \r\nL 450.735027 69.585802 \r\nL 451.051479 68.52352 \r\nL 451.367931 74.094054 \r\nL 451.684383 68.83953 \r\nL 452.000835 71.357802 \r\nL 453.266644 77.333012 \r\nL 453.583096 77.670602 \r\nL 454.216 72.512985 \r\nL 455.165356 71.666055 \r\nL 455.481808 73.690477 \r\nL 455.79826 73.690477 \r\nL 456.114712 74.790088 \r\nL 456.431165 78.251613 \r\nL 457.380521 79.597194 \r\nL 457.696973 79.47617 \r\nL 458.013425 79.798567 \r\nL 458.329877 83.915427 \r\nL 458.646329 83.915427 \r\nL 459.595686 84.430105 \r\nL 459.912138 87.230121 \r\nL 460.22859 87.230121 \r\nL 460.545042 83.498463 \r\nL 462.443755 82.268279 \r\nL 462.760207 79.508033 \r\nL 463.076659 79.574111 \r\nL 464.026015 79.968763 \r\nL 464.342467 82.032876 \r\nL 464.975371 82.032876 \r\nL 465.291824 83.894571 \r\nL 466.24118 73.627231 \r\nL 466.557632 75.410534 \r\nL 466.874084 75.410534 \r\nL 467.190536 77.205136 \r\nL 467.506988 77.480754 \r\nL 468.772797 77.480754 \r\nL 469.089249 78.034162 \r\nL 469.405701 77.140921 \r\nL 469.722153 77.111251 \r\nL 470.671509 79.295738 \r\nL 470.987961 77.404842 \r\nL 471.304414 77.404842 \r\nL 471.620866 81.151412 \r\nL 471.937318 80.764772 \r\nL 472.886674 90.904922 \r\nL 473.203126 91.677192 \r\nL 473.519578 91.677192 \r\nL 473.83603 94.377462 \r\nL 474.152483 93.026625 \r\nL 475.101839 93.026625 \r\nL 475.418291 94.385325 \r\nL 476.367647 94.517528 \r\nL 477.317004 96.481728 \r\nL 477.949908 96.481728 \r\nL 479.532168 94.503793 \r\nL 479.84862 94.503793 \r\nL 480.165073 95.05522 \r\nL 480.481525 93.904789 \r\nL 480.797977 94.501887 \r\nL 482.063785 86.358235 \r\nL 482.380237 85.560995 \r\nL 482.696689 85.560995 \r\nL 483.013142 84.868137 \r\nL 484.27895 85.123758 \r\nL 484.595402 86.387035 \r\nL 484.911854 86.387035 \r\nL 485.228306 86.651052 \r\nL 486.177663 86.684637 \r\nL 486.494115 81.704218 \r\nL 486.810567 83.177877 \r\nL 487.127019 83.177877 \r\nL 487.443471 78.731154 \r\nL 488.709279 78.453329 \r\nL 489.025732 79.057834 \r\nL 489.342184 78.573224 \r\nL 489.658636 78.573224 \r\nL 490.607992 78.287888 \r\nL 490.924444 78.77094 \r\nL 491.557348 78.77094 \r\nL 491.873801 76.506639 \r\nL 492.823157 76.663153 \r\nL 493.456061 79.733735 \r\nL 493.772513 79.895638 \r\nL 494.088965 80.510715 \r\nL 495.354774 80.510715 \r\nL 495.671226 81.389644 \r\nL 497.253486 81.389644 \r\nL 497.569938 81.027359 \r\nL 498.202843 81.027359 \r\nL 498.519295 80.708088 \r\nL 499.468651 82.930905 \r\nL 499.785103 83.177116 \r\nL 500.101555 85.458655 \r\nL 500.418007 82.563931 \r\nL 500.73446 81.5949 \r\nL 501.683816 81.5949 \r\nL 502.000268 81.238528 \r\nL 502.31672 79.283606 \r\nL 502.949624 79.084938 \r\nL 504.215433 79.063464 \r\nL 504.531885 71.588764 \r\nL 505.164789 71.588764 \r\nL 506.114145 70.768359 \r\nL 508.32931 70.768359 \r\nL 508.645762 70.092943 \r\nL 508.962214 69.9678 \r\nL 511.810283 63.764948 \r\nL 513.076092 63.764948 \r\nL 513.392544 63.541406 \r\nL 514.025448 63.607732 \r\nL 514.974804 64.881552 \r\nL 516.240613 64.847246 \r\nL 517.189969 62.680085 \r\nL 517.822873 62.785242 \r\nL 518.139325 63.920872 \r\nL 520.35449 63.920872 \r\nL 520.670942 65.836282 \r\nL 522.253203 65.152707 \r\nL 522.569655 65.152707 \r\nL 522.886107 65.000924 \r\nL 524.151915 64.779159 \r\nL 524.78482 64.779159 \r\nL 525.101272 67.366316 \r\nL 526.050628 60.258807 \r\nL 527.316437 60.258807 \r\nL 528.265793 61.748846 \r\nL 528.898697 61.748846 \r\nL 529.215149 61.96851 \r\nL 529.531601 60.783433 \r\nL 530.480958 66.370577 \r\nL 530.79741 66.08372 \r\nL 531.113862 72.028072 \r\nL 531.430314 72.028072 \r\nL 531.746766 70.302775 \r\nL 533.329027 71.137329 \r\nL 533.645479 71.137329 \r\nL 533.961931 72.972837 \r\nL 535.227739 54.38301 \r\nL 535.544191 65.929972 \r\nL 535.860643 65.677364 \r\nL 536.177096 65.161838 \r\nL 537.126452 62.708763 \r\nL 537.442904 53.556437 \r\nL 538.075808 53.556437 \r\nL 539.341617 59.29788 \r\nL 539.658069 59.85737 \r\nL 540.290973 59.85737 \r\nL 540.607425 60.439033 \r\nL 541.556781 60.072941 \r\nL 541.873233 60.46592 \r\nL 542.506138 62.243125 \r\nL 542.82259 62.243125 \r\nL 544.088398 66.443738 \r\nL 544.40485 69.661587 \r\nL 544.721302 69.674594 \r\nL 545.037754 69.171551 \r\nL 545.987111 69.171551 \r\nL 546.303563 68.346191 \r\nL 546.620015 68.346191 \r\nL 546.936467 68.205857 \r\nL 547.252919 68.589055 \r\nL 548.518728 68.763908 \r\nL 548.83518 68.763908 \r\nL 549.151632 68.393378 \r\nL 549.468084 69.301561 \r\nL 550.41744 69.301561 \r\nL 550.733892 69.139961 \r\nL 551.050345 69.139961 \r\nL 553.581961 65.177966 \r\nL 553.898413 65.562594 \r\nL 554.84777 70.114118 \r\nL 555.480674 70.114118 \r\nL 555.797126 71.31788 \r\nL 556.113578 74.384488 \r\nL 557.062935 74.384488 \r\nL 557.379387 76.684286 \r\nL 558.012291 72.752038 \r\nL 558.328743 67.972102 \r\nL 559.278099 76.0449 \r\nL 559.594551 75.899242 \r\nL 559.911004 77.427927 \r\nL 560.227456 77.490083 \r\nL 560.543908 73.740407 \r\nL 561.493264 73.701878 \r\nL 561.809716 71.028239 \r\nL 562.44262 71.028239 \r\nL 562.759072 70.674858 \r\nL 563.708429 68.00319 \r\nL 564.974237 68.00319 \r\nL 565.923594 70.078695 \r\nL 566.240046 70.078695 \r\nL 566.556498 81.512383 \r\nL 567.189402 81.537194 \r\nL 568.45521 81.537194 \r\nL 568.771663 83.905997 \r\nL 569.088115 84.158551 \r\nL 569.404567 84.158551 \r\nL 570.353923 85.426839 \r\nL 571.303279 85.426839 \r\nL 571.619731 81.735035 \r\nL 572.569088 81.384083 \r\nL 572.88554 74.719483 \r\nL 573.201992 71.312776 \r\nL 573.834896 71.312776 \r\nL 574.784253 72.71544 \r\nL 575.100705 72.894343 \r\nL 575.417157 71.936201 \r\nL 575.733609 71.936201 \r\nL 576.050061 72.07542 \r\nL 577.948774 33.898295 \r\nL 578.265226 43.115296 \r\nL 580.48039 70.408755 \r\nL 581.429747 78.423236 \r\nL 581.746199 78.423236 \r\nL 582.062651 70.543193 \r\nL 582.379103 48.779069 \r\nL 582.695555 48.779069 \r\nL 583.644912 50.194396 \r\nL 583.961364 50.194396 \r\nL 583.961364 50.194396 \r\n\" style=\"fill:none;stroke:#0000ff;stroke-linecap:square;stroke-width:1.5;\"/>\r\n   </g>\r\n   <g id=\"line2d_21\">\r\n    <path clip-path=\"url(#pad80badb75)\" d=\"M 307.382222 112.504179 \r\nL 307.698674 114.74738 \r\nL 309.597387 114.74738 \r\nL 309.913839 112.674451 \r\nL 311.179648 112.674451 \r\nL 311.4961 113.218322 \r\nL 314.344169 113.183144 \r\nL 314.660621 112.985545 \r\nL 315.609977 117.5283 \r\nL 315.926429 117.5283 \r\nL 316.242881 115.957866 \r\nL 316.559333 107.191305 \r\nL 316.875785 106.386144 \r\nL 320.040307 107.916474 \r\nL 320.356759 111.073764 \r\nL 321.306115 111.073764 \r\nL 322.255471 109.138746 \r\nL 322.888375 109.138746 \r\nL 323.204828 108.452819 \r\nL 325.736444 108.531245 \r\nL 326.685801 106.567901 \r\nL 327.635157 106.567901 \r\nL 327.951609 108.077656 \r\nL 328.900966 108.077656 \r\nL 329.217418 108.450238 \r\nL 331.432582 108.463223 \r\nL 331.749034 109.280184 \r\nL 332.065487 109.7201 \r\nL 335.54646 109.678872 \r\nL 335.862912 108.618351 \r\nL 336.495816 108.618351 \r\nL 337.761625 100.470206 \r\nL 338.078077 102.86261 \r\nL 338.394529 102.86261 \r\nL 338.710981 103.547649 \r\nL 339.027433 105.334314 \r\nL 340.293241 105.334314 \r\nL 340.609693 104.45424 \r\nL 343.14131 104.391721 \r\nL 343.457762 103.786245 \r\nL 344.723571 103.793855 \r\nL 346.622284 109.789795 \r\nL 346.938736 112.713546 \r\nL 348.837448 112.713546 \r\nL 349.1539 113.409142 \r\nL 349.470352 113.409142 \r\nL 349.786805 107.699816 \r\nL 350.103257 107.699816 \r\nL 351.052613 107.578743 \r\nL 351.369065 105.890128 \r\nL 352.001969 105.890128 \r\nL 352.318421 103.557464 \r\nL 354.217134 103.500793 \r\nL 354.533586 104.823842 \r\nL 355.482942 105.295693 \r\nL 356.115847 105.295693 \r\nL 356.432299 104.845973 \r\nL 357.698107 104.845973 \r\nL 358.014559 105.985839 \r\nL 358.331011 105.985839 \r\nL 358.647464 105.840116 \r\nL 359.913272 105.840116 \r\nL 360.229724 100.758642 \r\nL 360.546176 109.095915 \r\nL 361.17908 109.130016 \r\nL 362.128437 109.912748 \r\nL 362.761341 109.912748 \r\nL 363.077793 109.601725 \r\nL 363.394245 109.601725 \r\nL 364.343601 108.105876 \r\nL 364.660054 109.145642 \r\nL 364.976506 109.312255 \r\nL 365.292958 109.043825 \r\nL 365.60941 109.456065 \r\nL 366.875218 109.456065 \r\nL 367.19167 109.965231 \r\nL 367.824575 109.965231 \r\nL 368.773931 108.391989 \r\nL 369.090383 108.499935 \r\nL 369.406835 112.741282 \r\nL 369.723287 112.741282 \r\nL 370.039739 112.574073 \r\nL 371.305548 112.877832 \r\nL 373.837165 112.901864 \r\nL 374.153617 112.729441 \r\nL 374.470069 113.971778 \r\nL 375.735877 113.971778 \r\nL 376.052329 114.393405 \r\nL 376.368782 114.144851 \r\nL 376.685234 113.276788 \r\nL 377.63459 113.276788 \r\nL 377.951042 114.862381 \r\nL 381.115563 114.820076 \r\nL 382.064919 114.136736 \r\nL 382.381372 115.154974 \r\nL 382.697824 115.154974 \r\nL 383.014276 115.305631 \r\nL 383.330728 115.305631 \r\nL 384.596536 115.438803 \r\nL 385.229441 114.637489 \r\nL 385.545893 111.718851 \r\nL 387.444605 111.718851 \r\nL 388.710414 112.428733 \r\nL 389.026866 112.428733 \r\nL 389.343318 109.643857 \r\nL 389.65977 109.643857 \r\nL 389.976222 110.354363 \r\nL 390.925578 101.482423 \r\nL 391.242031 100.341398 \r\nL 395.988812 100.327756 \r\nL 396.305264 100.055059 \r\nL 396.621716 100.055059 \r\nL 397.571073 100.573925 \r\nL 397.887525 100.573925 \r\nL 398.203977 98.83906 \r\nL 401.052046 98.796039 \r\nL 402.001402 101.161859 \r\nL 402.317854 101.161859 \r\nL 402.634306 100.438569 \r\nL 402.950759 100.438569 \r\nL 403.267211 103.874492 \r\nL 404.216567 103.923267 \r\nL 404.533019 102.095935 \r\nL 405.165923 102.095935 \r\nL 405.482375 102.399315 \r\nL 406.431732 102.399315 \r\nL 407.064636 100.022532 \r\nL 407.381088 103.337406 \r\nL 408.646896 103.337406 \r\nL 408.963349 104.190703 \r\nL 409.912705 104.190703 \r\nL 410.862061 102.454099 \r\nL 413.71013 102.467106 \r\nL 414.026582 102.467106 \r\nL 414.343034 102.262981 \r\nL 415.292391 102.246677 \r\nL 415.608843 102.631226 \r\nL 415.925295 102.368679 \r\nL 416.241747 103.744209 \r\nL 416.558199 104.420192 \r\nL 417.507555 104.053252 \r\nL 417.824008 104.053252 \r\nL 418.14046 105.446656 \r\nL 418.773364 105.553197 \r\nL 419.72272 107.00929 \r\nL 421.937885 107.00929 \r\nL 422.254337 106.442091 \r\nL 424.15305 106.481103 \r\nL 424.469502 104.589286 \r\nL 424.785954 104.589286 \r\nL 425.102406 104.396214 \r\nL 428.899831 104.396214 \r\nL 429.216283 101.836946 \r\nL 429.532735 100.63956 \r\nL 433.013709 99.983933 \r\nL 433.330161 95.552449 \r\nL 434.279517 95.552449 \r\nL 435.228873 97.815152 \r\nL 435.545326 97.495275 \r\nL 435.861778 98.329126 \r\nL 438.076942 98.329126 \r\nL 438.393394 94.361649 \r\nL 438.709847 94.381425 \r\nL 439.659203 96.553114 \r\nL 439.975655 104.084166 \r\nL 440.608559 104.084166 \r\nL 440.925011 107.089369 \r\nL 441.874368 99.6718 \r\nL 442.19082 103.277698 \r\nL 442.507272 102.022879 \r\nL 442.823724 103.935291 \r\nL 443.140176 103.935291 \r\nL 444.089532 110.816158 \r\nL 444.405985 106.52916 \r\nL 444.722437 107.741855 \r\nL 445.038889 107.86283 \r\nL 445.355341 103.292979 \r\nL 446.621149 102.425434 \r\nL 446.937601 103.760276 \r\nL 447.254053 74.335263 \r\nL 447.570506 68.095203 \r\nL 448.519862 68.224562 \r\nL 448.836314 65.631057 \r\nL 449.152766 68.32192 \r\nL 449.469218 68.32192 \r\nL 449.78567 69.62288 \r\nL 450.735027 69.585802 \r\nL 451.051479 68.52352 \r\nL 451.367931 74.094054 \r\nL 451.684383 68.83953 \r\nL 452.000835 71.357802 \r\nL 453.266644 77.333012 \r\nL 453.583096 77.670602 \r\nL 454.216 72.512985 \r\nL 455.165356 71.666055 \r\nL 455.481808 73.690477 \r\nL 455.79826 73.690477 \r\nL 456.114712 74.790088 \r\nL 456.431165 78.251613 \r\nL 457.380521 79.597194 \r\nL 457.696973 79.47617 \r\nL 458.013425 79.798567 \r\nL 458.329877 83.915427 \r\nL 458.646329 83.915427 \r\nL 459.595686 84.430105 \r\nL 459.912138 87.230121 \r\nL 460.22859 87.230121 \r\nL 460.545042 83.498463 \r\nL 462.443755 82.268279 \r\nL 462.760207 79.508033 \r\nL 463.076659 79.574111 \r\nL 464.026015 79.968763 \r\nL 464.342467 82.032876 \r\nL 464.975371 82.032876 \r\nL 465.291824 83.894571 \r\nL 466.24118 73.627231 \r\nL 466.557632 75.410534 \r\nL 466.874084 75.410534 \r\nL 467.190536 77.205136 \r\nL 467.506988 77.480754 \r\nL 468.772797 77.480754 \r\nL 469.089249 78.034162 \r\nL 469.405701 77.140921 \r\nL 469.722153 77.111251 \r\nL 470.671509 79.295738 \r\nL 470.987961 77.404842 \r\nL 471.304414 77.404842 \r\nL 471.620866 81.151412 \r\nL 471.937318 80.764772 \r\nL 472.886674 90.904922 \r\nL 473.203126 91.677192 \r\nL 473.519578 91.677192 \r\nL 473.83603 94.377462 \r\nL 474.152483 93.026625 \r\nL 475.101839 93.026625 \r\nL 475.418291 94.385325 \r\nL 476.367647 94.517528 \r\nL 477.317004 96.481728 \r\nL 477.949908 96.481728 \r\nL 479.532168 94.503793 \r\nL 479.84862 94.503793 \r\nL 480.165073 95.05522 \r\nL 480.481525 93.904789 \r\nL 480.797977 94.501887 \r\nL 482.063785 86.358235 \r\nL 482.380237 85.560995 \r\nL 482.696689 85.560995 \r\nL 483.013142 84.868137 \r\nL 484.27895 85.123758 \r\nL 484.595402 86.387035 \r\nL 484.911854 86.387035 \r\nL 485.228306 86.651052 \r\nL 486.177663 86.684637 \r\nL 486.494115 81.704218 \r\nL 486.810567 83.177877 \r\nL 487.127019 83.177877 \r\nL 487.443471 78.731154 \r\nL 488.709279 78.453329 \r\nL 489.025732 79.057834 \r\nL 489.342184 78.573224 \r\nL 489.658636 78.573224 \r\nL 490.607992 78.287888 \r\nL 490.924444 78.77094 \r\nL 491.557348 78.77094 \r\nL 491.873801 76.506639 \r\nL 492.823157 76.663153 \r\nL 493.456061 79.733735 \r\nL 493.772513 79.895638 \r\nL 494.088965 80.510715 \r\nL 495.354774 80.510715 \r\nL 495.671226 81.389644 \r\nL 497.253486 81.389644 \r\nL 497.569938 81.027359 \r\nL 498.202843 81.027359 \r\nL 498.519295 80.708088 \r\nL 499.468651 82.930905 \r\nL 499.785103 83.177116 \r\nL 500.101555 85.458655 \r\nL 500.418007 82.563931 \r\nL 500.73446 81.5949 \r\nL 501.683816 81.5949 \r\nL 502.000268 81.238528 \r\nL 502.31672 79.283606 \r\nL 502.949624 79.084938 \r\nL 504.215433 79.063464 \r\nL 504.531885 71.588764 \r\nL 505.164789 71.588764 \r\nL 506.114145 70.768359 \r\nL 508.32931 70.768359 \r\nL 508.645762 70.092943 \r\nL 508.962214 69.9678 \r\nL 511.810283 63.764948 \r\nL 513.076092 63.764948 \r\nL 513.392544 63.541406 \r\nL 514.025448 63.607732 \r\nL 514.974804 64.881552 \r\nL 516.240613 64.847246 \r\nL 517.189969 62.680085 \r\nL 517.822873 62.785242 \r\nL 518.139325 63.920872 \r\nL 520.35449 63.920872 \r\nL 520.670942 65.836282 \r\nL 522.253203 65.152707 \r\nL 522.569655 65.152707 \r\nL 522.886107 65.000924 \r\nL 524.151915 64.779159 \r\nL 524.78482 64.779159 \r\nL 525.101272 67.366316 \r\nL 526.050628 60.258807 \r\nL 527.316437 60.258807 \r\nL 528.265793 61.748846 \r\nL 528.898697 61.748846 \r\nL 529.215149 61.96851 \r\nL 529.531601 60.783433 \r\nL 530.480958 66.370577 \r\nL 530.79741 66.08372 \r\nL 531.113862 72.028072 \r\nL 531.430314 72.028072 \r\nL 531.746766 70.302775 \r\nL 533.329027 71.137329 \r\nL 533.645479 71.137329 \r\nL 533.961931 72.972837 \r\nL 535.227739 54.38301 \r\nL 535.544191 65.929972 \r\nL 535.860643 65.677364 \r\nL 536.177096 65.161838 \r\nL 537.126452 62.708763 \r\nL 537.442904 53.556437 \r\nL 538.075808 53.556437 \r\nL 539.341617 59.29788 \r\nL 539.658069 59.85737 \r\nL 540.290973 59.85737 \r\nL 540.607425 60.439033 \r\nL 541.556781 60.072941 \r\nL 541.873233 60.46592 \r\nL 542.506138 62.243125 \r\nL 542.82259 62.243125 \r\nL 544.088398 66.443738 \r\nL 544.40485 69.661587 \r\nL 544.721302 69.674594 \r\nL 545.037754 69.171551 \r\nL 545.987111 69.171551 \r\nL 546.303563 68.346191 \r\nL 546.620015 68.346191 \r\nL 546.936467 68.205857 \r\nL 547.252919 68.589055 \r\nL 548.518728 68.763908 \r\nL 548.83518 68.763908 \r\nL 549.151632 68.393378 \r\nL 549.468084 69.301561 \r\nL 550.41744 69.301561 \r\nL 550.733892 69.139961 \r\nL 551.050345 69.139961 \r\nL 553.581961 65.177966 \r\nL 553.898413 65.562594 \r\nL 554.84777 70.114118 \r\nL 555.480674 70.114118 \r\nL 555.797126 71.31788 \r\nL 556.113578 74.384488 \r\nL 557.062935 74.384488 \r\nL 557.379387 76.684286 \r\nL 558.012291 72.752038 \r\nL 558.328743 67.972102 \r\nL 559.278099 76.0449 \r\nL 559.594551 75.899242 \r\nL 559.911004 77.427927 \r\nL 560.227456 77.490083 \r\nL 560.543908 73.740407 \r\nL 561.493264 73.701878 \r\nL 561.809716 71.028239 \r\nL 562.44262 71.028239 \r\nL 562.759072 70.674858 \r\nL 563.708429 68.00319 \r\nL 564.974237 68.00319 \r\nL 565.923594 70.078695 \r\nL 566.240046 70.078695 \r\nL 566.556498 81.512383 \r\nL 567.189402 81.537194 \r\nL 568.45521 81.537194 \r\nL 568.771663 83.905997 \r\nL 569.088115 84.158551 \r\nL 569.404567 84.158551 \r\nL 570.353923 85.426839 \r\nL 571.303279 85.426839 \r\nL 571.619731 81.735035 \r\nL 572.569088 81.384083 \r\nL 572.88554 74.719483 \r\nL 573.201992 71.312776 \r\nL 573.834896 71.312776 \r\nL 574.784253 72.71544 \r\nL 575.100705 72.894343 \r\nL 575.417157 71.936201 \r\nL 575.733609 71.936201 \r\nL 576.050061 72.07542 \r\nL 577.948774 33.898295 \r\nL 578.265226 43.115296 \r\nL 580.48039 70.408755 \r\nL 581.429747 78.423236 \r\nL 581.746199 78.423236 \r\nL 582.062651 70.543193 \r\nL 582.379103 48.779069 \r\nL 582.695555 48.779069 \r\nL 583.644912 50.194396 \r\nL 583.961364 50.194396 \r\nL 583.961364 50.194396 \r\n\" style=\"fill:none;stroke:#ff0000;stroke-linecap:square;stroke-width:1.5;\"/>\r\n   </g>\r\n   <g id=\"patch_3\">\r\n    <path d=\"M 51.325 293.34375 \r\nL 51.325 21.54375 \r\n\" style=\"fill:none;stroke:#000000;stroke-linecap:square;stroke-linejoin:miter;stroke-width:0.8;\"/>\r\n   </g>\r\n   <g id=\"patch_4\">\r\n    <path d=\"M 609.325 293.34375 \r\nL 609.325 21.54375 \r\n\" style=\"fill:none;stroke:#000000;stroke-linecap:square;stroke-linejoin:miter;stroke-width:0.8;\"/>\r\n   </g>\r\n   <g id=\"patch_5\">\r\n    <path d=\"M 51.325 293.34375 \r\nL 609.325 293.34375 \r\n\" style=\"fill:none;stroke:#000000;stroke-linecap:square;stroke-linejoin:miter;stroke-width:0.8;\"/>\r\n   </g>\r\n   <g id=\"patch_6\">\r\n    <path d=\"M 51.325 21.54375 \r\nL 609.325 21.54375 \r\n\" style=\"fill:none;stroke:#000000;stroke-linecap:square;stroke-linejoin:miter;stroke-width:0.8;\"/>\r\n   </g>\r\n   <g id=\"text_22\">\r\n    <!-- portfolio -->\r\n    <g transform=\"translate(303.325 15.54375)scale(0.12 -0.12)\">\r\n     <defs>\r\n      <path d=\"M 2925 1525 \r\nQ 2925 875 2525 475 \r\nQ 2125 75 1575 75 \r\nQ 1025 75 625 475 \r\nQ 225 875 225 1525 \r\nQ 225 2175 625 2575 \r\nQ 1025 2975 1575 2975 \r\nQ 2125 2975 2525 2575 \r\nQ 2925 2175 2925 1525 \r\nz\r\nM 2375 1525 \r\nQ 2375 2025 2125 2275 \r\nQ 1875 2525 1575 2525 \r\nQ 1275 2525 1025 2275 \r\nQ 775 2025 775 1525 \r\nQ 775 1025 1025 775 \r\nQ 1275 525 1575 525 \r\nQ 1875 525 2125 775 \r\nQ 2375 1025 2375 1525 \r\nz\r\n\" id=\"SimHei-6f\" transform=\"scale(0.015625)\"/>\r\n      <path d=\"M 2500 2425 \r\nQ 2025 2500 1700 2287 \r\nQ 1375 2075 1150 1550 \r\nL 1150 125 \r\nL 650 125 \r\nL 650 2925 \r\nL 1150 2925 \r\nL 1150 2200 \r\nQ 1375 2600 1712 2787 \r\nQ 2050 2975 2500 2975 \r\nL 2500 2425 \r\nz\r\n\" id=\"SimHei-72\" transform=\"scale(0.015625)\"/>\r\n      <path d=\"M 2850 3825 \r\nQ 2725 3900 2550 3950 \r\nQ 2375 4000 2100 4000 \r\nQ 1825 4000 1725 3862 \r\nQ 1625 3725 1625 3525 \r\nL 1625 2925 \r\nL 2650 2925 \r\nL 2650 2525 \r\nL 1625 2525 \r\nL 1625 125 \r\nL 1125 125 \r\nL 1125 2525 \r\nL 275 2525 \r\nL 275 2925 \r\nL 1125 2925 \r\nL 1125 3500 \r\nQ 1125 3950 1400 4200 \r\nQ 1675 4450 2125 4450 \r\nQ 2400 4450 2562 4412 \r\nQ 2725 4375 2850 4325 \r\nL 2850 3825 \r\nz\r\n\" id=\"SimHei-66\" transform=\"scale(0.015625)\"/>\r\n      <path d=\"M 1800 3725 \r\nL 1300 3725 \r\nL 1300 4375 \r\nL 1800 4375 \r\nL 1800 3725 \r\nz\r\nM 1800 125 \r\nL 1300 125 \r\nL 1300 2925 \r\nL 1800 2925 \r\nL 1800 125 \r\nz\r\n\" id=\"SimHei-69\" transform=\"scale(0.015625)\"/>\r\n     </defs>\r\n     <use xlink:href=\"#SimHei-70\"/>\r\n     <use x=\"50\" xlink:href=\"#SimHei-6f\"/>\r\n     <use x=\"100\" xlink:href=\"#SimHei-72\"/>\r\n     <use x=\"150\" xlink:href=\"#SimHei-74\"/>\r\n     <use x=\"200\" xlink:href=\"#SimHei-66\"/>\r\n     <use x=\"250\" xlink:href=\"#SimHei-6f\"/>\r\n     <use x=\"300\" xlink:href=\"#SimHei-6c\"/>\r\n     <use x=\"350\" xlink:href=\"#SimHei-69\"/>\r\n     <use x=\"400\" xlink:href=\"#SimHei-6f\"/>\r\n    </g>\r\n   </g>\r\n  </g>\r\n </g>\r\n <defs>\r\n  <clipPath id=\"pad80badb75\">\r\n   <rect height=\"271.8\" width=\"558\" x=\"51.325\" y=\"21.54375\"/>\r\n  </clipPath>\r\n </defs>\r\n</svg>\r\n",
      "text/plain": [
       "<Figure size 720x360 with 1 Axes>"
      ]
     },
     "metadata": {
      "needs_background": "light"
     },
     "output_type": "display_data"
    }
   ],
   "source": [
    "i = 0\n",
    "strat = \"lasso.002.4096\"\n",
    "test_all_pnl = np.zeros([sum(test_sample), len(product_list)])\n",
    "train_all_pnl = np.zeros([sum(train_sample), len(product_list)])\n",
    "min_pnl = 2\n",
    "min_num = 10\n",
    "for product in product_list:\n",
    "    spread = product_info[product][\"spread\"]\n",
    "    signal_stat = load(HEAD_PATH+\"\\\\signal_result_atr\\\\\"+product+\".\"+strat+\".trend.pkl\")\n",
    "    train_stat = signal_stat[\"train.stat\"]\n",
    "    good_strat = (train_stat[\"final.result\"][\"avg.pnl\"]>min_pnl*spread) & (train_stat[\"final.result\"][\"num\"]>min_num)\n",
    "    train_pnl = train_stat[\"daily.ret\"].loc[:, good_strat].sum(axis=1)/sum(good_strat)\n",
    "    test_stat = signal_stat[\"test.stat\"]\n",
    "    test_pnl = test_stat[\"daily.ret\"].loc[:, good_strat].sum(axis=1)/sum(good_strat)\n",
    "    print(product, \"train sharpe \", sharpe(train_pnl), \"test sharpe \", sharpe(test_pnl))\n",
    "    test_all_pnl[:,i] = test_pnl\n",
    "    train_all_pnl[:,i] = train_pnl\n",
    "    i = i+1\n",
    "train_portfolio = np.array(np.mean(train_all_pnl, axis=1))\n",
    "test_portfolio = np.array(np.mean(test_all_pnl, axis=1))\n",
    "all_portfolio = np.append(train_portfolio, test_portfolio)\n",
    "plt.figure(1, figsize=(10, 5))\n",
    "plt.title(\"\")\n",
    "plt.xlabel(\"date\")\n",
    "plt.ylabel(\"pnl\")\n",
    "plt.title(\"portfolio\")\n",
    "plt.plot(format_dates, all_portfolio.cumsum(), color=\"b\")\n",
    "plt.plot(format_dates[test_sample], all_portfolio.cumsum()[test_sample], color=\"r\")\n",
    "print(\"train sharpe: \", sharpe(train_portfolio), \"test sharpe: \", sharpe(test_portfolio))  "
   ]
  },
  {
   "cell_type": "code",
   "execution_count": 35,
   "metadata": {},
   "outputs": [],
   "source": [
    "from sklearn.linear_model import RidgeCV\n",
    "strat = \"ridge.002\"+str(period)"
   ]
  },
  {
   "cell_type": "code",
   "execution_count": 36,
   "metadata": {},
   "outputs": [],
   "source": [
    "for product in product_list:\n",
    "    os.makedirs(SAVE_PATH+\"\\\\factor_pkl\\\\\"+product+\"\\\\\"+strat, exist_ok=True)"
   ]
  },
  {
   "cell_type": "code",
   "execution_count": 37,
   "metadata": {},
   "outputs": [
    {
     "name": "stdout",
     "output_type": "stream",
     "text": [
      "rb\n",
      "[-1.35215178e-03 -9.25469887e-04  2.50933650e-02  2.22144753e-03\n",
      " -3.78132261e-04 -6.95467376e-04  7.44276211e-02 -2.60725208e-04\n",
      "  2.18596578e-04 -3.59480627e-06  3.08896077e-05  5.20739134e-04\n",
      " -2.01045932e-04  1.34725290e-04 -1.06406871e-04  1.60965960e-04\n",
      " -2.62229978e-06  1.59208827e-05  1.31695872e-03 -9.02717830e-04\n",
      " -2.31946744e-04 -5.12867323e-04 -3.71912592e-05  1.83167960e-04\n",
      "  7.70713670e-03 -1.18232374e-04  5.26539759e-05 -9.81586543e-02\n",
      "  3.79935581e-02 -1.13227759e-01  3.99190846e-02 -3.79344445e-02\n",
      "  8.91980127e-03 -2.73655176e-01  3.92386476e-03  9.51100361e-04\n",
      "  2.39467664e-02 -1.22280300e-02  1.35015663e-02 -1.65278204e-02\n",
      " -7.86794145e-03  3.55339721e-03 -2.00277133e-01 -1.37262605e-04\n",
      "  3.17179306e-04]\n",
      "hc\n",
      "[ 8.22837792e-03  1.86730100e-03  3.78525314e-03 -1.51773986e-02\n",
      "  6.51855201e-04  4.09342304e-04  4.39901617e-02  1.43936330e-03\n",
      " -1.14130137e-03 -2.43265715e-04 -5.00112424e-04 -2.52064457e-04\n",
      "  8.45436889e-04 -1.64683381e-04 -5.59653899e-06  4.45245358e-03\n",
      " -3.29635078e-05  7.69935341e-05 -1.03870492e-03  3.42589413e-04\n",
      "  4.78547281e-03 -5.45312017e-05 -1.21107328e-04 -5.82724671e-05\n",
      " -1.83642878e-02  1.80135511e-05  3.40964260e-05  2.64021748e-02\n",
      "  5.30832202e-02 -9.25588983e-02 -8.05618719e-02  6.98773669e-03\n",
      "  9.43236007e-04 -2.81108275e-01  5.55095152e-03 -1.08974020e-02\n",
      "  4.46693099e-03 -5.18317283e-06  2.45642508e-03 -8.33894039e-03\n",
      "  2.28167199e-04  3.70475230e-04  1.53201865e-01 -2.16793701e-03\n",
      "  3.07844858e-04]\n",
      "i\n",
      "[ 1.26832491e-02 -1.34678633e-02 -1.09279940e-03 -4.70213081e-03\n",
      "  3.84175896e-03  2.50249297e-03  1.15691740e-01 -1.44699813e-03\n",
      "  9.56392258e-04  1.95665968e-03 -6.50067175e-04  1.91961976e-03\n",
      " -1.09331291e-03 -1.13042088e-03 -3.55630068e-04  3.46226061e-03\n",
      "  4.16551589e-04  4.35316398e-05 -6.11434657e-03  4.65841518e-03\n",
      " -7.53331470e-03 -8.69538511e-04  5.06190715e-03 -5.61394891e-04\n",
      " -1.40214695e-02 -4.70081867e-04 -9.96402773e-04 -4.33251293e-02\n",
      "  2.36489716e-02  4.55748817e-02  4.92064811e-02  1.02413733e-02\n",
      " -4.69654304e-03 -4.41245802e-01 -7.18606897e-03  1.56956581e-04\n",
      " -8.36918895e-03  7.75162975e-03 -4.88511920e-03  4.24362858e-03\n",
      " -1.43618379e-02 -1.86549974e-04  2.28013948e-01  3.57491369e-03\n",
      " -1.90684836e-03]\n",
      "j\n",
      "[-5.22533761e-03  6.36681408e-03  4.16637645e-02 -1.16421935e-02\n",
      " -6.48621701e-03  4.30810223e-03 -3.49023202e-01 -3.26722416e-04\n",
      " -2.05464082e-04 -1.42018310e-03 -2.55083747e-04  1.21338703e-03\n",
      "  1.06022355e-03  2.78744565e-04  3.57598353e-05 -5.03612255e-03\n",
      " -7.26755568e-05  4.32451476e-05 -1.31468719e-03  1.59600112e-04\n",
      "  4.92573156e-03  6.87295846e-04 -4.02915295e-05 -2.48749402e-04\n",
      "  1.06211237e-02 -1.37993256e-04  1.36708299e-04  1.68104414e-01\n",
      " -2.22579639e-02 -1.42728637e-01 -8.27872075e-02 -1.51496415e-02\n",
      " -4.97345852e-03  2.80716159e-01  1.14292913e-02  3.12321779e-04\n",
      " -4.35745161e-04  2.26184812e-02 -1.93965215e-01 -3.00761410e-04\n",
      " -4.07862383e-03 -3.62927043e-04  4.30247431e-01  2.81964211e-03\n",
      " -2.92736381e-03]\n",
      "jm\n",
      "[ 8.69254299e-03 -7.41660105e-03 -1.94027470e-02 -7.23871336e-03\n",
      " -9.70096463e-03  2.23930209e-03 -2.75042509e-01  2.51439356e-04\n",
      "  1.56289358e-03  3.85638561e-04  1.75713052e-04  4.07748152e-03\n",
      "  5.67159307e-04  2.99547126e-04  8.28524919e-05  6.67356850e-03\n",
      " -8.95778111e-05 -4.89806798e-06 -4.43100536e-03  1.61109935e-03\n",
      " -2.40730668e-04  3.52011140e-03 -1.00327831e-03 -2.40889671e-04\n",
      " -1.94019460e-02  5.39709630e-05  3.46907902e-04  9.41013317e-02\n",
      " -1.01729266e-02 -1.79190964e-01 -1.01238375e-01  1.28992683e-02\n",
      "  3.04234289e-03 -4.62802573e-01  4.55741735e-03 -1.94673118e-03\n",
      " -4.02655110e-02 -6.48817592e-03  7.04401431e-03  2.07452083e-03\n",
      "  5.17504988e-03  1.15706406e-03  5.37791476e-02 -1.85365069e-03\n",
      " -1.92145372e-03]\n"
     ]
    }
   ],
   "source": [
    "coef_list=dict([])\n",
    "for product in product_list:\n",
    "    train_mat = load(HEAD_PATH+\"\\\\train_test_mat\\\\\"+product+\".train.mat.pkl\")\n",
    "    x_train = train_mat.iloc[:, :n_signal].values\n",
    "    y_train = train_mat.loc[:, y_signal].values\n",
    "    scaler =  StandardScaler(copy=True, with_mean=False, with_std=True)\n",
    "    scaler.fit(x_train)\n",
    "    x_std = np.sqrt(scaler.var_)\n",
    "    x_train_normal = scaler.transform(x_train)\n",
    "    model = RidgeCV(fit_intercept=False, cv=5).fit(x_train_normal, y_train)\n",
    "    coef = model.coef_/x_std\n",
    "    print(product)\n",
    "    print(coef)\n",
    "    coef_list[product] = coef"
   ]
  },
  {
   "cell_type": "code",
   "execution_count": 38,
   "metadata": {},
   "outputs": [],
   "source": [
    "strat = \"ridge.002.\"+str(period)\n",
    "for product in product_list:\n",
    "    os.makedirs(SAVE_PATH+\"\\\\factor_pkl\\\\\"+product+\"\\\\\"+strat, exist_ok=True)"
   ]
  },
  {
   "cell_type": "code",
   "execution_count": 39,
   "metadata": {},
   "outputs": [
    {
     "name": "stdout",
     "output_type": "stream",
     "text": [
      "rb\n",
      "hc\n",
      "i\n",
      "j\n",
      "jm\n",
      "Wall time: 2min 10s\n"
     ]
    }
   ],
   "source": [
    "%%time\n",
    "for product in product_list:\n",
    "    print(product)\n",
    "    coef = coef_list[product]\n",
    "    parLapply(CORE_NUM, all_dates, par_get_daily_pred, \n",
    "              product=product, coef=coef, strat=strat, HEAD_PATH=SAVE_PATH)"
   ]
  },
  {
   "cell_type": "code",
   "execution_count": 40,
   "metadata": {},
   "outputs": [
    {
     "name": "stdout",
     "output_type": "stream",
     "text": [
      "Wall time: 22.4 s\n"
     ]
    }
   ],
   "source": [
    "%%time\n",
    "for product in product_list:\n",
    "    par_get_all_signal(strat, all_dates, product, 4096, HEAD_PATH=SAVE_PATH)"
   ]
  },
  {
   "cell_type": "code",
   "execution_count": 41,
   "metadata": {},
   "outputs": [
    {
     "name": "stdout",
     "output_type": "stream",
     "text": [
      "reverse=1\n",
      "reverse=1\n",
      "reverse=1\n",
      "reverse=1\n",
      "reverse=1\n",
      "Wall time: 5min 7s\n"
     ]
    }
   ],
   "source": [
    "%%time\n",
    "for product in product_list:\n",
    "    spread = product_info[product][\"spread\"]\n",
    "    tranct = product_info[product][\"tranct\"]\n",
    "    tranct_ratio = product_info[product][\"tranct.ratio\"]\n",
    "    evaluate_signal(\"ridge.002\", np.array(all_dates), product, 2, 20, \n",
    "                    CORE_NUM, HEAD_PATH, SAVE_PATH, period=4096, split_str=split_str, tranct=tranct, \n",
    "                    max_spread=spread*1.1, tranct_ratio=tranct_ratio, atr_filter=0.01, save_path=\"signal_result_atr\",reverse=1)"
   ]
  },
  {
   "cell_type": "code",
   "execution_count": 42,
   "metadata": {},
   "outputs": [
    {
     "name": "stdout",
     "output_type": "stream",
     "text": [
      "rb train sharpe  nan test sharpe  nan\n",
      "hc train sharpe  1.1090526215217564 test sharpe  0.991592519082524\n",
      "i train sharpe  0.443386119181694 test sharpe  -0.573832620720769\n",
      "j train sharpe  0.5135091251727041 test sharpe  -1.0129944365029409\n",
      "jm train sharpe  nan test sharpe  nan\n",
      "train sharpe:  nan test sharpe:  nan\n"
     ]
    },
    {
     "data": {
      "image/svg+xml": "<?xml version=\"1.0\" encoding=\"utf-8\" standalone=\"no\"?>\r\n<!DOCTYPE svg PUBLIC \"-//W3C//DTD SVG 1.1//EN\"\r\n  \"http://www.w3.org/Graphics/SVG/1.1/DTD/svg11.dtd\">\r\n<svg height=\"327.79375pt\" version=\"1.1\" viewBox=\"0 0 616.525 327.79375\" width=\"616.525pt\" xmlns=\"http://www.w3.org/2000/svg\" xmlns:xlink=\"http://www.w3.org/1999/xlink\">\r\n <metadata>\r\n  <rdf:RDF xmlns:cc=\"http://creativecommons.org/ns#\" xmlns:dc=\"http://purl.org/dc/elements/1.1/\" xmlns:rdf=\"http://www.w3.org/1999/02/22-rdf-syntax-ns#\">\r\n   <cc:Work>\r\n    <dc:type rdf:resource=\"http://purl.org/dc/dcmitype/StillImage\"/>\r\n    <dc:date>2022-06-07T10:35:11.632400</dc:date>\r\n    <dc:format>image/svg+xml</dc:format>\r\n    <dc:creator>\r\n     <cc:Agent>\r\n      <dc:title>Matplotlib v3.4.3, https://matplotlib.org/</dc:title>\r\n     </cc:Agent>\r\n    </dc:creator>\r\n   </cc:Work>\r\n  </rdf:RDF>\r\n </metadata>\r\n <defs>\r\n  <style type=\"text/css\">*{stroke-linecap:butt;stroke-linejoin:round;}</style>\r\n </defs>\r\n <g id=\"figure_1\">\r\n  <g id=\"patch_1\">\r\n   <path d=\"M 0 327.79375 \r\nL 616.525 327.79375 \r\nL 616.525 0 \r\nL 0 0 \r\nz\r\n\" style=\"fill:none;\"/>\r\n  </g>\r\n  <g id=\"axes_1\">\r\n   <g id=\"patch_2\">\r\n    <path d=\"M 51.325 293.34375 \r\nL 609.325 293.34375 \r\nL 609.325 21.54375 \r\nL 51.325 21.54375 \r\nz\r\n\" style=\"fill:#ffffff;\"/>\r\n   </g>\r\n   <g id=\"matplotlib.axis_1\">\r\n    <g id=\"xtick_1\">\r\n     <g id=\"line2d_1\">\r\n      <defs>\r\n       <path d=\"M 0 0 \r\nL 0 3.5 \r\n\" id=\"m01f90a4818\" style=\"stroke:#000000;stroke-width:0.8;\"/>\r\n      </defs>\r\n      <g>\r\n       <use style=\"stroke:#000000;stroke-width:0.8;\" x=\"76.688636\" xlink:href=\"#m01f90a4818\" y=\"293.34375\"/>\r\n      </g>\r\n     </g>\r\n     <g id=\"text_1\">\r\n      <!-- 2000 -->\r\n      <g transform=\"translate(66.688636 307.21875)scale(0.1 -0.1)\">\r\n       <defs>\r\n        <path d=\"M 300 250 \r\nQ 325 625 650 925 \r\nQ 975 1225 1475 1862 \r\nQ 1975 2500 2125 2850 \r\nQ 2275 3200 2237 3450 \r\nQ 2200 3700 2000 3862 \r\nQ 1800 4025 1537 4000 \r\nQ 1275 3975 1037 3800 \r\nQ 800 3625 675 3275 \r\nL 200 3350 \r\nQ 400 3925 712 4187 \r\nQ 1025 4450 1450 4475 \r\nQ 1700 4500 1900 4462 \r\nQ 2100 4425 2312 4287 \r\nQ 2525 4150 2662 3875 \r\nQ 2800 3600 2762 3212 \r\nQ 2725 2825 2375 2287 \r\nQ 2025 1750 1025 600 \r\nL 2825 600 \r\nL 2825 150 \r\nL 300 150 \r\nL 300 250 \r\nz\r\n\" id=\"SimHei-32\" transform=\"scale(0.015625)\"/>\r\n        <path d=\"M 225 2537 \r\nQ 250 3200 412 3587 \r\nQ 575 3975 875 4225 \r\nQ 1175 4475 1612 4475 \r\nQ 2050 4475 2375 4112 \r\nQ 2700 3750 2800 3200 \r\nQ 2900 2650 2862 1937 \r\nQ 2825 1225 2612 775 \r\nQ 2400 325 1975 150 \r\nQ 1550 -25 1125 187 \r\nQ 700 400 525 750 \r\nQ 350 1100 275 1487 \r\nQ 200 1875 225 2537 \r\nz\r\nM 750 2687 \r\nQ 675 2000 800 1462 \r\nQ 925 925 1212 700 \r\nQ 1500 475 1800 612 \r\nQ 2100 750 2237 1162 \r\nQ 2375 1575 2375 2062 \r\nQ 2375 2550 2337 2950 \r\nQ 2300 3350 2112 3675 \r\nQ 1925 4000 1612 4012 \r\nQ 1300 4025 1062 3700 \r\nQ 825 3375 750 2687 \r\nz\r\n\" id=\"SimHei-30\" transform=\"scale(0.015625)\"/>\r\n       </defs>\r\n       <use xlink:href=\"#SimHei-32\"/>\r\n       <use x=\"50\" xlink:href=\"#SimHei-30\"/>\r\n       <use x=\"100\" xlink:href=\"#SimHei-30\"/>\r\n       <use x=\"150\" xlink:href=\"#SimHei-30\"/>\r\n      </g>\r\n     </g>\r\n    </g>\r\n    <g id=\"xtick_2\">\r\n     <g id=\"line2d_2\">\r\n      <g>\r\n       <use style=\"stroke:#000000;stroke-width:0.8;\" x=\"178.198728\" xlink:href=\"#m01f90a4818\" y=\"293.34375\"/>\r\n      </g>\r\n     </g>\r\n     <g id=\"text_2\">\r\n      <!-- 2002 -->\r\n      <g transform=\"translate(168.198728 307.21875)scale(0.1 -0.1)\">\r\n       <use xlink:href=\"#SimHei-32\"/>\r\n       <use x=\"50\" xlink:href=\"#SimHei-30\"/>\r\n       <use x=\"100\" xlink:href=\"#SimHei-30\"/>\r\n       <use x=\"150\" xlink:href=\"#SimHei-32\"/>\r\n      </g>\r\n     </g>\r\n    </g>\r\n    <g id=\"xtick_3\">\r\n     <g id=\"line2d_3\">\r\n      <g>\r\n       <use style=\"stroke:#000000;stroke-width:0.8;\" x=\"279.569954\" xlink:href=\"#m01f90a4818\" y=\"293.34375\"/>\r\n      </g>\r\n     </g>\r\n     <g id=\"text_3\">\r\n      <!-- 2004 -->\r\n      <g transform=\"translate(269.569954 307.21875)scale(0.1 -0.1)\">\r\n       <defs>\r\n        <path d=\"M 2000 1100 \r\nL 75 1100 \r\nL 75 1525 \r\nL 2100 4450 \r\nL 2475 4450 \r\nL 2475 1525 \r\nL 3075 1525 \r\nL 3075 1100 \r\nL 2475 1100 \r\nL 2475 150 \r\nL 2000 150 \r\nL 2000 1100 \r\nz\r\nM 2000 1525 \r\nL 2000 3500 \r\nL 600 1525 \r\nL 2000 1525 \r\nz\r\n\" id=\"SimHei-34\" transform=\"scale(0.015625)\"/>\r\n       </defs>\r\n       <use xlink:href=\"#SimHei-32\"/>\r\n       <use x=\"50\" xlink:href=\"#SimHei-30\"/>\r\n       <use x=\"100\" xlink:href=\"#SimHei-30\"/>\r\n       <use x=\"150\" xlink:href=\"#SimHei-34\"/>\r\n      </g>\r\n     </g>\r\n    </g>\r\n    <g id=\"xtick_4\">\r\n     <g id=\"line2d_4\">\r\n      <g>\r\n       <use style=\"stroke:#000000;stroke-width:0.8;\" x=\"381.080046\" xlink:href=\"#m01f90a4818\" y=\"293.34375\"/>\r\n      </g>\r\n     </g>\r\n     <g id=\"text_4\">\r\n      <!-- 2006 -->\r\n      <g transform=\"translate(371.080046 307.21875)scale(0.1 -0.1)\">\r\n       <defs>\r\n        <path d=\"M 250 1612 \r\nQ 275 1975 387 2225 \r\nQ 500 2475 725 2850 \r\nL 1750 4450 \r\nL 2325 4450 \r\nL 1275 2800 \r\nQ 1950 2975 2350 2750 \r\nQ 2750 2525 2887 2237 \r\nQ 3025 1950 3037 1612 \r\nQ 3050 1275 2937 950 \r\nQ 2825 625 2537 362 \r\nQ 2250 100 1737 75 \r\nQ 1225 50 862 262 \r\nQ 500 475 362 862 \r\nQ 225 1250 250 1612 \r\nz\r\nM 1025 787 \r\nQ 1250 550 1625 525 \r\nQ 2000 500 2250 775 \r\nQ 2500 1050 2500 1575 \r\nQ 2500 2100 2187 2300 \r\nQ 1875 2500 1487 2450 \r\nQ 1100 2400 925 2075 \r\nQ 750 1750 775 1387 \r\nQ 800 1025 1025 787 \r\nz\r\n\" id=\"SimHei-36\" transform=\"scale(0.015625)\"/>\r\n       </defs>\r\n       <use xlink:href=\"#SimHei-32\"/>\r\n       <use x=\"50\" xlink:href=\"#SimHei-30\"/>\r\n       <use x=\"100\" xlink:href=\"#SimHei-30\"/>\r\n       <use x=\"150\" xlink:href=\"#SimHei-36\"/>\r\n      </g>\r\n     </g>\r\n    </g>\r\n    <g id=\"xtick_5\">\r\n     <g id=\"line2d_5\">\r\n      <g>\r\n       <use style=\"stroke:#000000;stroke-width:0.8;\" x=\"482.451272\" xlink:href=\"#m01f90a4818\" y=\"293.34375\"/>\r\n      </g>\r\n     </g>\r\n     <g id=\"text_5\">\r\n      <!-- 2008 -->\r\n      <g transform=\"translate(472.451272 307.21875)scale(0.1 -0.1)\">\r\n       <defs>\r\n        <path d=\"M 175 1375 \r\nQ 175 1675 325 1962 \r\nQ 475 2250 825 2425 \r\nQ 525 2600 425 2812 \r\nQ 325 3025 312 3300 \r\nQ 300 3575 387 3775 \r\nQ 475 3975 650 4150 \r\nQ 825 4325 1037 4387 \r\nQ 1250 4450 1500 4450 \r\nQ 1750 4450 1950 4400 \r\nQ 2150 4350 2375 4187 \r\nQ 2600 4025 2700 3725 \r\nQ 2800 3425 2687 3025 \r\nQ 2575 2625 2100 2400 \r\nQ 2525 2275 2700 2012 \r\nQ 2875 1750 2875 1375 \r\nQ 2875 1000 2762 775 \r\nQ 2650 550 2512 400 \r\nQ 2375 250 2137 162 \r\nQ 1900 75 1537 75 \r\nQ 1175 75 912 162 \r\nQ 650 250 475 425 \r\nQ 300 600 237 837 \r\nQ 175 1075 175 1375 \r\nz\r\nM 687 1400 \r\nQ 675 1100 787 875 \r\nQ 900 650 1200 587 \r\nQ 1500 525 1825 600 \r\nQ 2150 675 2275 950 \r\nQ 2400 1225 2362 1500 \r\nQ 2325 1775 2050 1962 \r\nQ 1775 2150 1450 2125 \r\nQ 1125 2100 912 1900 \r\nQ 700 1700 687 1400 \r\nz\r\nM 775 3350 \r\nQ 775 3100 950 2875 \r\nQ 1125 2650 1500 2650 \r\nQ 1875 2650 2062 2875 \r\nQ 2250 3100 2237 3412 \r\nQ 2225 3725 2012 3875 \r\nQ 1800 4025 1437 4000 \r\nQ 1075 3975 925 3787 \r\nQ 775 3600 775 3350 \r\nz\r\n\" id=\"SimHei-38\" transform=\"scale(0.015625)\"/>\r\n       </defs>\r\n       <use xlink:href=\"#SimHei-32\"/>\r\n       <use x=\"50\" xlink:href=\"#SimHei-30\"/>\r\n       <use x=\"100\" xlink:href=\"#SimHei-30\"/>\r\n       <use x=\"150\" xlink:href=\"#SimHei-38\"/>\r\n      </g>\r\n     </g>\r\n    </g>\r\n    <g id=\"xtick_6\">\r\n     <g id=\"line2d_6\">\r\n      <g>\r\n       <use style=\"stroke:#000000;stroke-width:0.8;\" x=\"583.961364\" xlink:href=\"#m01f90a4818\" y=\"293.34375\"/>\r\n      </g>\r\n     </g>\r\n     <g id=\"text_6\">\r\n      <!-- 2010 -->\r\n      <g transform=\"translate(573.961364 307.21875)scale(0.1 -0.1)\">\r\n       <defs>\r\n        <path d=\"M 1400 3600 \r\nQ 1075 3275 575 2975 \r\nL 575 3450 \r\nQ 1200 3875 1600 4450 \r\nL 1900 4450 \r\nL 1900 150 \r\nL 1400 150 \r\nL 1400 3600 \r\nz\r\n\" id=\"SimHei-31\" transform=\"scale(0.015625)\"/>\r\n       </defs>\r\n       <use xlink:href=\"#SimHei-32\"/>\r\n       <use x=\"50\" xlink:href=\"#SimHei-30\"/>\r\n       <use x=\"100\" xlink:href=\"#SimHei-31\"/>\r\n       <use x=\"150\" xlink:href=\"#SimHei-30\"/>\r\n      </g>\r\n     </g>\r\n    </g>\r\n    <g id=\"text_7\">\r\n     <!-- date -->\r\n     <g transform=\"translate(320.325 319.34375)scale(0.1 -0.1)\">\r\n      <defs>\r\n       <path d=\"M 2750 125 \r\nL 2250 125 \r\nL 2250 500 \r\nQ 2100 275 1900 175 \r\nQ 1700 75 1425 75 \r\nQ 925 75 575 437 \r\nQ 225 800 225 1525 \r\nQ 225 2250 575 2625 \r\nQ 925 3000 1425 3000 \r\nQ 1700 3000 1900 2887 \r\nQ 2100 2775 2250 2550 \r\nL 2250 4400 \r\nL 2750 4400 \r\nL 2750 125 \r\nz\r\nM 2250 1525 \r\nQ 2250 2000 2037 2275 \r\nQ 1825 2550 1525 2550 \r\nQ 1150 2550 962 2275 \r\nQ 775 2000 775 1525 \r\nQ 775 1050 962 787 \r\nQ 1150 525 1525 525 \r\nQ 1825 525 2037 787 \r\nQ 2250 1050 2250 1525 \r\nz\r\n\" id=\"SimHei-64\" transform=\"scale(0.015625)\"/>\r\n       <path d=\"M 2875 125 \r\nL 2275 125 \r\nQ 2225 175 2200 262 \r\nQ 2175 350 2175 475 \r\nQ 2000 275 1750 175 \r\nQ 1500 75 1225 75 \r\nQ 825 75 550 275 \r\nQ 275 475 275 850 \r\nQ 275 1225 525 1450 \r\nQ 775 1675 1300 1750 \r\nQ 1650 1800 1912 1875 \r\nQ 2175 1950 2175 2075 \r\nQ 2175 2225 2062 2375 \r\nQ 1950 2525 1575 2525 \r\nQ 1275 2525 1137 2412 \r\nQ 1000 2300 950 2100 \r\nL 400 2100 \r\nQ 450 2500 762 2737 \r\nQ 1075 2975 1575 2975 \r\nQ 2125 2975 2400 2725 \r\nQ 2675 2475 2675 2025 \r\nL 2675 650 \r\nQ 2675 500 2725 375 \r\nQ 2775 250 2875 125 \r\nz\r\nM 2175 1050 \r\nL 2175 1550 \r\nQ 2025 1500 1887 1462 \r\nQ 1750 1425 1425 1375 \r\nQ 1050 1325 937 1200 \r\nQ 825 1075 825 900 \r\nQ 825 750 937 637 \r\nQ 1050 525 1275 525 \r\nQ 1500 525 1762 650 \r\nQ 2025 775 2175 1050 \r\nz\r\n\" id=\"SimHei-61\" transform=\"scale(0.015625)\"/>\r\n       <path d=\"M 2750 200 \r\nQ 2625 150 2462 112 \r\nQ 2300 75 2025 75 \r\nQ 1575 75 1300 325 \r\nQ 1025 575 1025 1025 \r\nL 1025 2525 \r\nL 175 2525 \r\nL 175 2925 \r\nL 1025 2925 \r\nL 1025 3900 \r\nL 1525 3900 \r\nL 1525 2925 \r\nL 2550 2925 \r\nL 2550 2525 \r\nL 1525 2525 \r\nL 1525 1000 \r\nQ 1525 800 1625 662 \r\nQ 1725 525 2000 525 \r\nQ 2275 525 2450 575 \r\nQ 2625 625 2750 700 \r\nL 2750 200 \r\nz\r\n\" id=\"SimHei-74\" transform=\"scale(0.015625)\"/>\r\n       <path d=\"M 2850 1075 \r\nQ 2800 625 2450 350 \r\nQ 2100 75 1625 75 \r\nQ 1025 75 637 462 \r\nQ 250 850 250 1525 \r\nQ 250 2200 637 2587 \r\nQ 1025 2975 1625 2975 \r\nQ 2150 2975 2487 2637 \r\nQ 2825 2300 2825 1525 \r\nL 800 1525 \r\nQ 800 975 1037 750 \r\nQ 1275 525 1625 525 \r\nQ 1900 525 2075 662 \r\nQ 2250 800 2300 1075 \r\nL 2850 1075 \r\nz\r\nM 2250 1925 \r\nQ 2200 2275 2025 2412 \r\nQ 1850 2550 1575 2550 \r\nQ 1325 2550 1125 2412 \r\nQ 925 2275 825 1925 \r\nL 2250 1925 \r\nz\r\n\" id=\"SimHei-65\" transform=\"scale(0.015625)\"/>\r\n      </defs>\r\n      <use xlink:href=\"#SimHei-64\"/>\r\n      <use x=\"50\" xlink:href=\"#SimHei-61\"/>\r\n      <use x=\"100\" xlink:href=\"#SimHei-74\"/>\r\n      <use x=\"150\" xlink:href=\"#SimHei-65\"/>\r\n     </g>\r\n    </g>\r\n   </g>\r\n   <g id=\"matplotlib.axis_2\">\r\n    <g id=\"ytick_1\">\r\n     <g id=\"line2d_7\">\r\n      <defs>\r\n       <path d=\"M 0 0 \r\nL -3.5 0 \r\n\" id=\"m64b9ca3e30\" style=\"stroke:#000000;stroke-width:0.8;\"/>\r\n      </defs>\r\n      <g>\r\n       <use style=\"stroke:#000000;stroke-width:0.8;\" x=\"51.325\" xlink:href=\"#m64b9ca3e30\" y=\"256.280114\"/>\r\n      </g>\r\n     </g>\r\n     <g id=\"text_8\">\r\n      <!-- -0.04 -->\r\n      <g transform=\"translate(19.325 259.717614)scale(0.1 -0.1)\">\r\n       <defs>\r\n        <path d=\"M 2975 2125 \r\nL 125 2125 \r\nL 125 2525 \r\nL 2975 2525 \r\nL 2975 2125 \r\nz\r\n\" id=\"SimHei-2d\" transform=\"scale(0.015625)\"/>\r\n        <path d=\"M 1075 125 \r\nL 500 125 \r\nL 500 675 \r\nL 1075 675 \r\nL 1075 125 \r\nz\r\n\" id=\"SimHei-2e\" transform=\"scale(0.015625)\"/>\r\n       </defs>\r\n       <use xlink:href=\"#SimHei-2d\"/>\r\n       <use x=\"50\" xlink:href=\"#SimHei-30\"/>\r\n       <use x=\"100\" xlink:href=\"#SimHei-2e\"/>\r\n       <use x=\"150\" xlink:href=\"#SimHei-30\"/>\r\n       <use x=\"200\" xlink:href=\"#SimHei-34\"/>\r\n      </g>\r\n     </g>\r\n    </g>\r\n    <g id=\"ytick_2\">\r\n     <g id=\"line2d_8\">\r\n      <g>\r\n       <use style=\"stroke:#000000;stroke-width:0.8;\" x=\"51.325\" xlink:href=\"#m64b9ca3e30\" y=\"206.861932\"/>\r\n      </g>\r\n     </g>\r\n     <g id=\"text_9\">\r\n      <!-- -0.02 -->\r\n      <g transform=\"translate(19.325 210.299432)scale(0.1 -0.1)\">\r\n       <use xlink:href=\"#SimHei-2d\"/>\r\n       <use x=\"50\" xlink:href=\"#SimHei-30\"/>\r\n       <use x=\"100\" xlink:href=\"#SimHei-2e\"/>\r\n       <use x=\"150\" xlink:href=\"#SimHei-30\"/>\r\n       <use x=\"200\" xlink:href=\"#SimHei-32\"/>\r\n      </g>\r\n     </g>\r\n    </g>\r\n    <g id=\"ytick_3\">\r\n     <g id=\"line2d_9\">\r\n      <g>\r\n       <use style=\"stroke:#000000;stroke-width:0.8;\" x=\"51.325\" xlink:href=\"#m64b9ca3e30\" y=\"157.44375\"/>\r\n      </g>\r\n     </g>\r\n     <g id=\"text_10\">\r\n      <!-- 0.00 -->\r\n      <g transform=\"translate(24.325 160.88125)scale(0.1 -0.1)\">\r\n       <use xlink:href=\"#SimHei-30\"/>\r\n       <use x=\"50\" xlink:href=\"#SimHei-2e\"/>\r\n       <use x=\"100\" xlink:href=\"#SimHei-30\"/>\r\n       <use x=\"150\" xlink:href=\"#SimHei-30\"/>\r\n      </g>\r\n     </g>\r\n    </g>\r\n    <g id=\"ytick_4\">\r\n     <g id=\"line2d_10\">\r\n      <g>\r\n       <use style=\"stroke:#000000;stroke-width:0.8;\" x=\"51.325\" xlink:href=\"#m64b9ca3e30\" y=\"108.025568\"/>\r\n      </g>\r\n     </g>\r\n     <g id=\"text_11\">\r\n      <!-- 0.02 -->\r\n      <g transform=\"translate(24.325 111.463068)scale(0.1 -0.1)\">\r\n       <use xlink:href=\"#SimHei-30\"/>\r\n       <use x=\"50\" xlink:href=\"#SimHei-2e\"/>\r\n       <use x=\"100\" xlink:href=\"#SimHei-30\"/>\r\n       <use x=\"150\" xlink:href=\"#SimHei-32\"/>\r\n      </g>\r\n     </g>\r\n    </g>\r\n    <g id=\"ytick_5\">\r\n     <g id=\"line2d_11\">\r\n      <g>\r\n       <use style=\"stroke:#000000;stroke-width:0.8;\" x=\"51.325\" xlink:href=\"#m64b9ca3e30\" y=\"58.607386\"/>\r\n      </g>\r\n     </g>\r\n     <g id=\"text_12\">\r\n      <!-- 0.04 -->\r\n      <g transform=\"translate(24.325 62.044886)scale(0.1 -0.1)\">\r\n       <use xlink:href=\"#SimHei-30\"/>\r\n       <use x=\"50\" xlink:href=\"#SimHei-2e\"/>\r\n       <use x=\"100\" xlink:href=\"#SimHei-30\"/>\r\n       <use x=\"150\" xlink:href=\"#SimHei-34\"/>\r\n      </g>\r\n     </g>\r\n    </g>\r\n    <g id=\"text_13\">\r\n     <!-- pnl -->\r\n     <g transform=\"translate(14.075 164.94375)rotate(-90)scale(0.1 -0.1)\">\r\n      <defs>\r\n       <path d=\"M 2825 1525 \r\nQ 2825 800 2475 425 \r\nQ 2125 50 1625 50 \r\nQ 1350 50 1150 162 \r\nQ 950 275 800 500 \r\nL 800 -800 \r\nL 300 -800 \r\nL 300 2925 \r\nL 800 2925 \r\nL 800 2550 \r\nQ 950 2775 1150 2875 \r\nQ 1350 2975 1625 2975 \r\nQ 2125 2975 2475 2612 \r\nQ 2825 2250 2825 1525 \r\nz\r\nM 2275 1525 \r\nQ 2275 2000 2087 2262 \r\nQ 1900 2525 1525 2525 \r\nQ 1225 2525 1012 2262 \r\nQ 800 2000 800 1525 \r\nQ 800 1050 1012 775 \r\nQ 1225 500 1525 500 \r\nQ 1900 500 2087 775 \r\nQ 2275 1050 2275 1525 \r\nz\r\n\" id=\"SimHei-70\" transform=\"scale(0.015625)\"/>\r\n       <path d=\"M 2800 125 \r\nL 2300 125 \r\nL 2300 1925 \r\nQ 2300 2225 2150 2400 \r\nQ 2000 2575 1750 2575 \r\nQ 1425 2575 1137 2237 \r\nQ 850 1900 850 1400 \r\nL 850 125 \r\nL 350 125 \r\nL 350 2925 \r\nL 850 2925 \r\nL 850 2400 \r\nQ 1050 2675 1287 2825 \r\nQ 1525 2975 1900 2975 \r\nQ 2350 2975 2575 2725 \r\nQ 2800 2475 2800 2100 \r\nL 2800 125 \r\nz\r\n\" id=\"SimHei-6e\" transform=\"scale(0.015625)\"/>\r\n       <path d=\"M 1825 125 \r\nL 1325 125 \r\nL 1325 4400 \r\nL 1825 4400 \r\nL 1825 125 \r\nz\r\n\" id=\"SimHei-6c\" transform=\"scale(0.015625)\"/>\r\n      </defs>\r\n      <use xlink:href=\"#SimHei-70\"/>\r\n      <use x=\"50\" xlink:href=\"#SimHei-6e\"/>\r\n      <use x=\"100\" xlink:href=\"#SimHei-6c\"/>\r\n     </g>\r\n    </g>\r\n   </g>\r\n   <g id=\"line2d_12\">\r\n    <path clip-path=\"url(#p5f65480eaf)\" style=\"fill:none;stroke:#0000ff;stroke-linecap:square;stroke-width:1.5;\"/>\r\n   </g>\r\n   <g id=\"line2d_13\">\r\n    <path clip-path=\"url(#p5f65480eaf)\" d=\"M 0 0 \r\n\" style=\"fill:none;stroke:#ff0000;stroke-linecap:square;stroke-width:1.5;\"/>\r\n   </g>\r\n   <g id=\"patch_3\">\r\n    <path d=\"M 51.325 293.34375 \r\nL 51.325 21.54375 \r\n\" style=\"fill:none;stroke:#000000;stroke-linecap:square;stroke-linejoin:miter;stroke-width:0.8;\"/>\r\n   </g>\r\n   <g id=\"patch_4\">\r\n    <path d=\"M 609.325 293.34375 \r\nL 609.325 21.54375 \r\n\" style=\"fill:none;stroke:#000000;stroke-linecap:square;stroke-linejoin:miter;stroke-width:0.8;\"/>\r\n   </g>\r\n   <g id=\"patch_5\">\r\n    <path d=\"M 51.325 293.34375 \r\nL 609.325 293.34375 \r\n\" style=\"fill:none;stroke:#000000;stroke-linecap:square;stroke-linejoin:miter;stroke-width:0.8;\"/>\r\n   </g>\r\n   <g id=\"patch_6\">\r\n    <path d=\"M 51.325 21.54375 \r\nL 609.325 21.54375 \r\n\" style=\"fill:none;stroke:#000000;stroke-linecap:square;stroke-linejoin:miter;stroke-width:0.8;\"/>\r\n   </g>\r\n   <g id=\"text_14\">\r\n    <!-- portfolio -->\r\n    <g transform=\"translate(303.325 15.54375)scale(0.12 -0.12)\">\r\n     <defs>\r\n      <path d=\"M 2925 1525 \r\nQ 2925 875 2525 475 \r\nQ 2125 75 1575 75 \r\nQ 1025 75 625 475 \r\nQ 225 875 225 1525 \r\nQ 225 2175 625 2575 \r\nQ 1025 2975 1575 2975 \r\nQ 2125 2975 2525 2575 \r\nQ 2925 2175 2925 1525 \r\nz\r\nM 2375 1525 \r\nQ 2375 2025 2125 2275 \r\nQ 1875 2525 1575 2525 \r\nQ 1275 2525 1025 2275 \r\nQ 775 2025 775 1525 \r\nQ 775 1025 1025 775 \r\nQ 1275 525 1575 525 \r\nQ 1875 525 2125 775 \r\nQ 2375 1025 2375 1525 \r\nz\r\n\" id=\"SimHei-6f\" transform=\"scale(0.015625)\"/>\r\n      <path d=\"M 2500 2425 \r\nQ 2025 2500 1700 2287 \r\nQ 1375 2075 1150 1550 \r\nL 1150 125 \r\nL 650 125 \r\nL 650 2925 \r\nL 1150 2925 \r\nL 1150 2200 \r\nQ 1375 2600 1712 2787 \r\nQ 2050 2975 2500 2975 \r\nL 2500 2425 \r\nz\r\n\" id=\"SimHei-72\" transform=\"scale(0.015625)\"/>\r\n      <path d=\"M 2850 3825 \r\nQ 2725 3900 2550 3950 \r\nQ 2375 4000 2100 4000 \r\nQ 1825 4000 1725 3862 \r\nQ 1625 3725 1625 3525 \r\nL 1625 2925 \r\nL 2650 2925 \r\nL 2650 2525 \r\nL 1625 2525 \r\nL 1625 125 \r\nL 1125 125 \r\nL 1125 2525 \r\nL 275 2525 \r\nL 275 2925 \r\nL 1125 2925 \r\nL 1125 3500 \r\nQ 1125 3950 1400 4200 \r\nQ 1675 4450 2125 4450 \r\nQ 2400 4450 2562 4412 \r\nQ 2725 4375 2850 4325 \r\nL 2850 3825 \r\nz\r\n\" id=\"SimHei-66\" transform=\"scale(0.015625)\"/>\r\n      <path d=\"M 1800 3725 \r\nL 1300 3725 \r\nL 1300 4375 \r\nL 1800 4375 \r\nL 1800 3725 \r\nz\r\nM 1800 125 \r\nL 1300 125 \r\nL 1300 2925 \r\nL 1800 2925 \r\nL 1800 125 \r\nz\r\n\" id=\"SimHei-69\" transform=\"scale(0.015625)\"/>\r\n     </defs>\r\n     <use xlink:href=\"#SimHei-70\"/>\r\n     <use x=\"50\" xlink:href=\"#SimHei-6f\"/>\r\n     <use x=\"100\" xlink:href=\"#SimHei-72\"/>\r\n     <use x=\"150\" xlink:href=\"#SimHei-74\"/>\r\n     <use x=\"200\" xlink:href=\"#SimHei-66\"/>\r\n     <use x=\"250\" xlink:href=\"#SimHei-6f\"/>\r\n     <use x=\"300\" xlink:href=\"#SimHei-6c\"/>\r\n     <use x=\"350\" xlink:href=\"#SimHei-69\"/>\r\n     <use x=\"400\" xlink:href=\"#SimHei-6f\"/>\r\n    </g>\r\n   </g>\r\n  </g>\r\n </g>\r\n <defs>\r\n  <clipPath id=\"p5f65480eaf\">\r\n   <rect height=\"271.8\" width=\"558\" x=\"51.325\" y=\"21.54375\"/>\r\n  </clipPath>\r\n </defs>\r\n</svg>\r\n",
      "text/plain": [
       "<Figure size 720x360 with 1 Axes>"
      ]
     },
     "metadata": {
      "needs_background": "light"
     },
     "output_type": "display_data"
    }
   ],
   "source": [
    "i = 0\n",
    "strat = \"ridge.002.4096\"\n",
    "test_all_pnl = np.zeros([sum(test_sample), len(product_list)])\n",
    "train_all_pnl = np.zeros([sum(train_sample), len(product_list)])\n",
    "min_pnl = 2\n",
    "min_num = 10\n",
    "for product in product_list:\n",
    "    spread = product_info[product][\"spread\"]\n",
    "    signal_stat = load(HEAD_PATH+\"\\\\signal_result_atr\\\\\"+product+\".\"+strat+\".trend.pkl\")\n",
    "    train_stat = signal_stat[\"train.stat\"]\n",
    "    good_strat = (train_stat[\"final.result\"][\"avg.pnl\"]>min_pnl*spread) & (train_stat[\"final.result\"][\"num\"]>min_num)\n",
    "    train_pnl = train_stat[\"daily.ret\"].loc[:, good_strat].sum(axis=1)/sum(good_strat)\n",
    "    test_stat = signal_stat[\"test.stat\"]\n",
    "    test_pnl = test_stat[\"daily.ret\"].loc[:, good_strat].sum(axis=1)/sum(good_strat)\n",
    "    print(product, \"train sharpe \", sharpe(train_pnl), \"test sharpe \", sharpe(test_pnl))\n",
    "    test_all_pnl[:,i] = test_pnl\n",
    "    train_all_pnl[:,i] = train_pnl\n",
    "    i = i+1\n",
    "train_portfolio = np.array(np.mean(train_all_pnl, axis=1))\n",
    "test_portfolio = np.array(np.mean(test_all_pnl, axis=1))\n",
    "all_portfolio = np.append(train_portfolio, test_portfolio)\n",
    "plt.figure(1, figsize=(10, 5))\n",
    "plt.title(\"\")\n",
    "plt.xlabel(\"date\")\n",
    "plt.ylabel(\"pnl\")\n",
    "plt.title(\"portfolio\")\n",
    "plt.plot(format_dates, all_portfolio.cumsum(), color=\"b\")\n",
    "plt.plot(format_dates[test_sample], all_portfolio.cumsum()[test_sample], color=\"r\")\n",
    "print(\"train sharpe: \", sharpe(train_portfolio), \"test sharpe: \", sharpe(test_portfolio))  "
   ]
  },
  {
   "cell_type": "code",
   "execution_count": 43,
   "metadata": {},
   "outputs": [],
   "source": [
    "from sklearn.linear_model import ElasticNetCV\n",
    "strat = \"elastic.002.\"+str(period)"
   ]
  },
  {
   "cell_type": "code",
   "execution_count": 44,
   "metadata": {},
   "outputs": [],
   "source": [
    "for product in product_list:\n",
    "    os.makedirs(SAVE_PATH+\"\\\\factor_pkl\\\\\"+product+\"\\\\\"+strat, exist_ok=True)"
   ]
  },
  {
   "cell_type": "code",
   "execution_count": 45,
   "metadata": {},
   "outputs": [
    {
     "name": "stdout",
     "output_type": "stream",
     "text": [
      "rb\n",
      "[-0.00000000e+00 -0.00000000e+00  1.32095242e-02 -0.00000000e+00\n",
      " -0.00000000e+00  0.00000000e+00 -0.00000000e+00  0.00000000e+00\n",
      "  4.64649176e-06 -0.00000000e+00 -7.21537651e-05  0.00000000e+00\n",
      " -8.08976176e-05 -0.00000000e+00 -0.00000000e+00 -0.00000000e+00\n",
      "  0.00000000e+00  0.00000000e+00 -0.00000000e+00 -1.35655604e-05\n",
      "  0.00000000e+00 -0.00000000e+00 -0.00000000e+00 -0.00000000e+00\n",
      " -0.00000000e+00  0.00000000e+00  0.00000000e+00 -0.00000000e+00\n",
      " -0.00000000e+00  0.00000000e+00 -1.65484122e-02 -7.60793758e-03\n",
      "  0.00000000e+00 -0.00000000e+00  0.00000000e+00  0.00000000e+00\n",
      "  0.00000000e+00 -0.00000000e+00  0.00000000e+00 -6.15747898e-04\n",
      " -3.25018414e-03  6.23433890e-04 -0.00000000e+00  0.00000000e+00\n",
      "  0.00000000e+00]\n",
      "hc\n",
      "[-0.00000000e+00 -0.00000000e+00  2.82008817e-03 -5.18417920e-03\n",
      " -0.00000000e+00  1.62391583e-04  0.00000000e+00  5.23665551e-05\n",
      " -0.00000000e+00 -0.00000000e+00 -4.88401539e-05  0.00000000e+00\n",
      "  0.00000000e+00 -6.52113068e-05  0.00000000e+00  8.60427504e-04\n",
      "  0.00000000e+00 -0.00000000e+00 -0.00000000e+00 -0.00000000e+00\n",
      "  0.00000000e+00  0.00000000e+00 -0.00000000e+00  0.00000000e+00\n",
      " -0.00000000e+00  0.00000000e+00 -0.00000000e+00 -0.00000000e+00\n",
      " -0.00000000e+00  0.00000000e+00 -0.00000000e+00 -0.00000000e+00\n",
      "  0.00000000e+00 -0.00000000e+00  0.00000000e+00 -0.00000000e+00\n",
      " -0.00000000e+00 -0.00000000e+00  0.00000000e+00 -0.00000000e+00\n",
      " -0.00000000e+00  5.48735510e-04  0.00000000e+00  0.00000000e+00\n",
      " -0.00000000e+00]\n",
      "i\n",
      "[ 2.62485161e-03 -2.35091926e-03  0.00000000e+00  0.00000000e+00\n",
      " -0.00000000e+00  6.21543376e-04 -0.00000000e+00 -0.00000000e+00\n",
      " -0.00000000e+00  0.00000000e+00  0.00000000e+00  7.65371155e-04\n",
      " -0.00000000e+00 -0.00000000e+00 -0.00000000e+00 -0.00000000e+00\n",
      "  8.39754393e-06  0.00000000e+00 -0.00000000e+00  1.45687553e-04\n",
      "  0.00000000e+00 -7.34524109e-04 -0.00000000e+00 -0.00000000e+00\n",
      " -0.00000000e+00  0.00000000e+00 -0.00000000e+00  0.00000000e+00\n",
      "  0.00000000e+00  0.00000000e+00  0.00000000e+00 -0.00000000e+00\n",
      " -0.00000000e+00 -1.85621432e-01 -0.00000000e+00 -1.12003896e-03\n",
      "  5.61679075e-05  0.00000000e+00  3.28510084e-03  7.00489780e-04\n",
      " -2.68667288e-03  1.26036800e-04  0.00000000e+00  3.98425175e-04\n",
      " -0.00000000e+00]\n",
      "j\n",
      "[-0.00000000e+00  0.00000000e+00  0.00000000e+00 -3.75920626e-03\n",
      " -0.00000000e+00  7.81448253e-04 -0.00000000e+00  0.00000000e+00\n",
      " -0.00000000e+00 -6.60427216e-05 -0.00000000e+00 -0.00000000e+00\n",
      " -0.00000000e+00 -0.00000000e+00 -0.00000000e+00 -0.00000000e+00\n",
      "  0.00000000e+00 -0.00000000e+00 -1.02933240e-04 -0.00000000e+00\n",
      " -0.00000000e+00 -0.00000000e+00 -0.00000000e+00  0.00000000e+00\n",
      "  0.00000000e+00  0.00000000e+00  0.00000000e+00 -0.00000000e+00\n",
      " -0.00000000e+00 -0.00000000e+00 -0.00000000e+00 -3.78102043e-03\n",
      " -0.00000000e+00 -0.00000000e+00  0.00000000e+00 -0.00000000e+00\n",
      " -0.00000000e+00  0.00000000e+00 -0.00000000e+00 -0.00000000e+00\n",
      " -0.00000000e+00  0.00000000e+00 -0.00000000e+00  0.00000000e+00\n",
      " -0.00000000e+00]\n",
      "jm\n",
      "[-0.00000000e+00 -0.00000000e+00 -0.00000000e+00 -0.00000000e+00\n",
      " -0.00000000e+00 -0.00000000e+00 -0.00000000e+00 -0.00000000e+00\n",
      " -0.00000000e+00 -0.00000000e+00 -0.00000000e+00  0.00000000e+00\n",
      " -0.00000000e+00 -0.00000000e+00 -0.00000000e+00 -0.00000000e+00\n",
      " -0.00000000e+00 -0.00000000e+00 -0.00000000e+00 -0.00000000e+00\n",
      " -0.00000000e+00 -0.00000000e+00 -0.00000000e+00 -0.00000000e+00\n",
      " -0.00000000e+00 -0.00000000e+00 -0.00000000e+00 -0.00000000e+00\n",
      " -0.00000000e+00 -0.00000000e+00 -0.00000000e+00 -0.00000000e+00\n",
      " -0.00000000e+00 -0.00000000e+00 -0.00000000e+00 -0.00000000e+00\n",
      " -4.41447811e-18 -0.00000000e+00 -0.00000000e+00 -0.00000000e+00\n",
      " -0.00000000e+00 -0.00000000e+00 -0.00000000e+00 -0.00000000e+00\n",
      " -0.00000000e+00]\n"
     ]
    }
   ],
   "source": [
    "coef_list=dict([])\n",
    "for product in product_list:\n",
    "    train_mat = load(HEAD_PATH+\"\\\\train_test_mat\\\\\"+product+\".train.mat.pkl\")\n",
    "    x_train = train_mat.iloc[:, :n_signal].values\n",
    "    y_train = train_mat.loc[:, y_signal].values\n",
    "    scaler =  StandardScaler(copy=True, with_mean=False, with_std=True)\n",
    "    scaler.fit(x_train)\n",
    "    x_std = np.sqrt(scaler.var_)\n",
    "    x_train_normal = scaler.transform(x_train)\n",
    "    model = ElasticNetCV(n_alphas=100, l1_ratio=0.5, fit_intercept=False, cv=5, max_iter=10000).fit(x_train_normal, y_train)\n",
    "    coef = model.coef_/x_std\n",
    "    print(product)\n",
    "    print(coef)\n",
    "    coef_list[product] = coef"
   ]
  },
  {
   "cell_type": "code",
   "execution_count": 46,
   "metadata": {},
   "outputs": [
    {
     "name": "stdout",
     "output_type": "stream",
     "text": [
      "rb\n",
      "hc\n",
      "i\n",
      "j\n",
      "jm\n",
      "Wall time: 2min 7s\n"
     ]
    }
   ],
   "source": [
    "%%time\n",
    "for product in product_list:\n",
    "    print(product)\n",
    "    coef = coef_list[product]\n",
    "    parLapply(CORE_NUM, all_dates, par_get_daily_pred, \n",
    "              product=product, coef=coef, strat=strat, HEAD_PATH=SAVE_PATH)"
   ]
  },
  {
   "cell_type": "code",
   "execution_count": 47,
   "metadata": {},
   "outputs": [
    {
     "name": "stdout",
     "output_type": "stream",
     "text": [
      "Wall time: 21.3 s\n"
     ]
    }
   ],
   "source": [
    "%%time\n",
    "for product in product_list:\n",
    "    par_get_all_signal(strat, all_dates, product, 4096, HEAD_PATH=SAVE_PATH)"
   ]
  },
  {
   "cell_type": "code",
   "execution_count": 48,
   "metadata": {},
   "outputs": [
    {
     "name": "stdout",
     "output_type": "stream",
     "text": [
      "reverse=1\n",
      "reverse=1\n",
      "reverse=1\n",
      "reverse=1\n",
      "reverse=1\n",
      "Wall time: 4min 45s\n"
     ]
    }
   ],
   "source": [
    "%%time\n",
    "for product in product_list:\n",
    "    spread = product_info[product][\"spread\"]\n",
    "    evaluate_signal(\"elastic.002\", np.array(all_dates), product, 2, 20, \n",
    "                    CORE_NUM, HEAD_PATH, SAVE_PATH, period=4096, split_str=\"2019\", tranct=1.1e-4, \n",
    "                    max_spread=spread*1.1, tranct_ratio=True, atr_filter=0.01, save_path=\"signal_result_atr\",reverse=1)"
   ]
  },
  {
   "cell_type": "code",
   "execution_count": 49,
   "metadata": {},
   "outputs": [
    {
     "name": "stdout",
     "output_type": "stream",
     "text": [
      "rb train sharpe  0.3002640495788593 test sharpe  0.5934722364467039\n",
      "hc train sharpe  0.9838873198259507 test sharpe  0.23871922442456417\n",
      "i train sharpe  0.8615120251321614 test sharpe  -0.822755848461863\n",
      "j train sharpe  0.33073731197795087 test sharpe  0.6894150302293027\n",
      "jm train sharpe  0.9451699408900707 test sharpe  1.4673043892423416\n",
      "train sharpe:  1.555338267496114 test sharpe:  0.5384875962081396\n"
     ]
    },
    {
     "data": {
      "image/svg+xml": "<?xml version=\"1.0\" encoding=\"utf-8\" standalone=\"no\"?>\r\n<!DOCTYPE svg PUBLIC \"-//W3C//DTD SVG 1.1//EN\"\r\n  \"http://www.w3.org/Graphics/SVG/1.1/DTD/svg11.dtd\">\r\n<svg height=\"327.79375pt\" version=\"1.1\" viewBox=\"0 0 620.370092 327.79375\" width=\"620.370092pt\" xmlns=\"http://www.w3.org/2000/svg\" xmlns:xlink=\"http://www.w3.org/1999/xlink\">\r\n <metadata>\r\n  <rdf:RDF xmlns:cc=\"http://creativecommons.org/ns#\" xmlns:dc=\"http://purl.org/dc/elements/1.1/\" xmlns:rdf=\"http://www.w3.org/1999/02/22-rdf-syntax-ns#\">\r\n   <cc:Work>\r\n    <dc:type rdf:resource=\"http://purl.org/dc/dcmitype/StillImage\"/>\r\n    <dc:date>2022-06-07T10:42:31.407125</dc:date>\r\n    <dc:format>image/svg+xml</dc:format>\r\n    <dc:creator>\r\n     <cc:Agent>\r\n      <dc:title>Matplotlib v3.4.3, https://matplotlib.org/</dc:title>\r\n     </cc:Agent>\r\n    </dc:creator>\r\n   </cc:Work>\r\n  </rdf:RDF>\r\n </metadata>\r\n <defs>\r\n  <style type=\"text/css\">*{stroke-linecap:butt;stroke-linejoin:round;}</style>\r\n </defs>\r\n <g id=\"figure_1\">\r\n  <g id=\"patch_1\">\r\n   <path d=\"M 0 327.79375 \r\nL 620.370092 327.79375 \r\nL 620.370092 0 \r\nL 0 0 \r\nz\r\n\" style=\"fill:none;\"/>\r\n  </g>\r\n  <g id=\"axes_1\">\r\n   <g id=\"patch_2\">\r\n    <path d=\"M 51.325 293.34375 \r\nL 609.325 293.34375 \r\nL 609.325 21.54375 \r\nL 51.325 21.54375 \r\nz\r\n\" style=\"fill:#ffffff;\"/>\r\n   </g>\r\n   <g id=\"matplotlib.axis_1\">\r\n    <g id=\"xtick_1\">\r\n     <g id=\"line2d_1\">\r\n      <defs>\r\n       <path d=\"M 0 0 \r\nL 0 3.5 \r\n\" id=\"me4c9762263\" style=\"stroke:#000000;stroke-width:0.8;\"/>\r\n      </defs>\r\n      <g>\r\n       <use style=\"stroke:#000000;stroke-width:0.8;\" x=\"76.055732\" xlink:href=\"#me4c9762263\" y=\"293.34375\"/>\r\n      </g>\r\n     </g>\r\n     <g id=\"text_1\">\r\n      <!-- 2017-01 -->\r\n      <g transform=\"translate(58.555732 307.21875)scale(0.1 -0.1)\">\r\n       <defs>\r\n        <path d=\"M 300 250 \r\nQ 325 625 650 925 \r\nQ 975 1225 1475 1862 \r\nQ 1975 2500 2125 2850 \r\nQ 2275 3200 2237 3450 \r\nQ 2200 3700 2000 3862 \r\nQ 1800 4025 1537 4000 \r\nQ 1275 3975 1037 3800 \r\nQ 800 3625 675 3275 \r\nL 200 3350 \r\nQ 400 3925 712 4187 \r\nQ 1025 4450 1450 4475 \r\nQ 1700 4500 1900 4462 \r\nQ 2100 4425 2312 4287 \r\nQ 2525 4150 2662 3875 \r\nQ 2800 3600 2762 3212 \r\nQ 2725 2825 2375 2287 \r\nQ 2025 1750 1025 600 \r\nL 2825 600 \r\nL 2825 150 \r\nL 300 150 \r\nL 300 250 \r\nz\r\n\" id=\"SimHei-32\" transform=\"scale(0.015625)\"/>\r\n        <path d=\"M 225 2537 \r\nQ 250 3200 412 3587 \r\nQ 575 3975 875 4225 \r\nQ 1175 4475 1612 4475 \r\nQ 2050 4475 2375 4112 \r\nQ 2700 3750 2800 3200 \r\nQ 2900 2650 2862 1937 \r\nQ 2825 1225 2612 775 \r\nQ 2400 325 1975 150 \r\nQ 1550 -25 1125 187 \r\nQ 700 400 525 750 \r\nQ 350 1100 275 1487 \r\nQ 200 1875 225 2537 \r\nz\r\nM 750 2687 \r\nQ 675 2000 800 1462 \r\nQ 925 925 1212 700 \r\nQ 1500 475 1800 612 \r\nQ 2100 750 2237 1162 \r\nQ 2375 1575 2375 2062 \r\nQ 2375 2550 2337 2950 \r\nQ 2300 3350 2112 3675 \r\nQ 1925 4000 1612 4012 \r\nQ 1300 4025 1062 3700 \r\nQ 825 3375 750 2687 \r\nz\r\n\" id=\"SimHei-30\" transform=\"scale(0.015625)\"/>\r\n        <path d=\"M 1400 3600 \r\nQ 1075 3275 575 2975 \r\nL 575 3450 \r\nQ 1200 3875 1600 4450 \r\nL 1900 4450 \r\nL 1900 150 \r\nL 1400 150 \r\nL 1400 3600 \r\nz\r\n\" id=\"SimHei-31\" transform=\"scale(0.015625)\"/>\r\n        <path d=\"M 850 150 \r\nQ 1300 2050 2425 3925 \r\nL 275 3925 \r\nL 275 4375 \r\nL 2950 4375 \r\nL 2950 3950 \r\nQ 1775 2050 1400 150 \r\nL 850 150 \r\nz\r\n\" id=\"SimHei-37\" transform=\"scale(0.015625)\"/>\r\n        <path d=\"M 2975 2125 \r\nL 125 2125 \r\nL 125 2525 \r\nL 2975 2525 \r\nL 2975 2125 \r\nz\r\n\" id=\"SimHei-2d\" transform=\"scale(0.015625)\"/>\r\n       </defs>\r\n       <use xlink:href=\"#SimHei-32\"/>\r\n       <use x=\"50\" xlink:href=\"#SimHei-30\"/>\r\n       <use x=\"100\" xlink:href=\"#SimHei-31\"/>\r\n       <use x=\"150\" xlink:href=\"#SimHei-37\"/>\r\n       <use x=\"200\" xlink:href=\"#SimHei-2d\"/>\r\n       <use x=\"250\" xlink:href=\"#SimHei-30\"/>\r\n       <use x=\"300\" xlink:href=\"#SimHei-31\"/>\r\n      </g>\r\n     </g>\r\n    </g>\r\n    <g id=\"xtick_2\">\r\n     <g id=\"line2d_2\">\r\n      <g>\r\n       <use style=\"stroke:#000000;stroke-width:0.8;\" x=\"133.333563\" xlink:href=\"#me4c9762263\" y=\"293.34375\"/>\r\n      </g>\r\n     </g>\r\n     <g id=\"text_2\">\r\n      <!-- 2017-07 -->\r\n      <g transform=\"translate(115.833563 307.21875)scale(0.1 -0.1)\">\r\n       <use xlink:href=\"#SimHei-32\"/>\r\n       <use x=\"50\" xlink:href=\"#SimHei-30\"/>\r\n       <use x=\"100\" xlink:href=\"#SimHei-31\"/>\r\n       <use x=\"150\" xlink:href=\"#SimHei-37\"/>\r\n       <use x=\"200\" xlink:href=\"#SimHei-2d\"/>\r\n       <use x=\"250\" xlink:href=\"#SimHei-30\"/>\r\n       <use x=\"300\" xlink:href=\"#SimHei-37\"/>\r\n      </g>\r\n     </g>\r\n    </g>\r\n    <g id=\"xtick_3\">\r\n     <g id=\"line2d_3\">\r\n      <g>\r\n       <use style=\"stroke:#000000;stroke-width:0.8;\" x=\"191.560751\" xlink:href=\"#me4c9762263\" y=\"293.34375\"/>\r\n      </g>\r\n     </g>\r\n     <g id=\"text_3\">\r\n      <!-- 2018-01 -->\r\n      <g transform=\"translate(174.060751 307.21875)scale(0.1 -0.1)\">\r\n       <defs>\r\n        <path d=\"M 175 1375 \r\nQ 175 1675 325 1962 \r\nQ 475 2250 825 2425 \r\nQ 525 2600 425 2812 \r\nQ 325 3025 312 3300 \r\nQ 300 3575 387 3775 \r\nQ 475 3975 650 4150 \r\nQ 825 4325 1037 4387 \r\nQ 1250 4450 1500 4450 \r\nQ 1750 4450 1950 4400 \r\nQ 2150 4350 2375 4187 \r\nQ 2600 4025 2700 3725 \r\nQ 2800 3425 2687 3025 \r\nQ 2575 2625 2100 2400 \r\nQ 2525 2275 2700 2012 \r\nQ 2875 1750 2875 1375 \r\nQ 2875 1000 2762 775 \r\nQ 2650 550 2512 400 \r\nQ 2375 250 2137 162 \r\nQ 1900 75 1537 75 \r\nQ 1175 75 912 162 \r\nQ 650 250 475 425 \r\nQ 300 600 237 837 \r\nQ 175 1075 175 1375 \r\nz\r\nM 687 1400 \r\nQ 675 1100 787 875 \r\nQ 900 650 1200 587 \r\nQ 1500 525 1825 600 \r\nQ 2150 675 2275 950 \r\nQ 2400 1225 2362 1500 \r\nQ 2325 1775 2050 1962 \r\nQ 1775 2150 1450 2125 \r\nQ 1125 2100 912 1900 \r\nQ 700 1700 687 1400 \r\nz\r\nM 775 3350 \r\nQ 775 3100 950 2875 \r\nQ 1125 2650 1500 2650 \r\nQ 1875 2650 2062 2875 \r\nQ 2250 3100 2237 3412 \r\nQ 2225 3725 2012 3875 \r\nQ 1800 4025 1437 4000 \r\nQ 1075 3975 925 3787 \r\nQ 775 3600 775 3350 \r\nz\r\n\" id=\"SimHei-38\" transform=\"scale(0.015625)\"/>\r\n       </defs>\r\n       <use xlink:href=\"#SimHei-32\"/>\r\n       <use x=\"50\" xlink:href=\"#SimHei-30\"/>\r\n       <use x=\"100\" xlink:href=\"#SimHei-31\"/>\r\n       <use x=\"150\" xlink:href=\"#SimHei-38\"/>\r\n       <use x=\"200\" xlink:href=\"#SimHei-2d\"/>\r\n       <use x=\"250\" xlink:href=\"#SimHei-30\"/>\r\n       <use x=\"300\" xlink:href=\"#SimHei-31\"/>\r\n      </g>\r\n     </g>\r\n    </g>\r\n    <g id=\"xtick_4\">\r\n     <g id=\"line2d_4\">\r\n      <g>\r\n       <use style=\"stroke:#000000;stroke-width:0.8;\" x=\"248.838582\" xlink:href=\"#me4c9762263\" y=\"293.34375\"/>\r\n      </g>\r\n     </g>\r\n     <g id=\"text_4\">\r\n      <!-- 2018-07 -->\r\n      <g transform=\"translate(231.338582 307.21875)scale(0.1 -0.1)\">\r\n       <use xlink:href=\"#SimHei-32\"/>\r\n       <use x=\"50\" xlink:href=\"#SimHei-30\"/>\r\n       <use x=\"100\" xlink:href=\"#SimHei-31\"/>\r\n       <use x=\"150\" xlink:href=\"#SimHei-38\"/>\r\n       <use x=\"200\" xlink:href=\"#SimHei-2d\"/>\r\n       <use x=\"250\" xlink:href=\"#SimHei-30\"/>\r\n       <use x=\"300\" xlink:href=\"#SimHei-37\"/>\r\n      </g>\r\n     </g>\r\n    </g>\r\n    <g id=\"xtick_5\">\r\n     <g id=\"line2d_5\">\r\n      <g>\r\n       <use style=\"stroke:#000000;stroke-width:0.8;\" x=\"307.06577\" xlink:href=\"#me4c9762263\" y=\"293.34375\"/>\r\n      </g>\r\n     </g>\r\n     <g id=\"text_5\">\r\n      <!-- 2019-01 -->\r\n      <g transform=\"translate(289.56577 307.21875)scale(0.1 -0.1)\">\r\n       <defs>\r\n        <path d=\"M 800 75 \r\nQ 1350 1000 1700 1750 \r\nQ 1075 1650 662 1912 \r\nQ 250 2175 162 2625 \r\nQ 75 3075 175 3437 \r\nQ 275 3800 487 4037 \r\nQ 700 4275 1000 4375 \r\nQ 1300 4475 1537 4475 \r\nQ 1775 4475 2025 4375 \r\nQ 2275 4275 2475 4075 \r\nQ 2675 3875 2750 3662 \r\nQ 2825 3450 2825 3112 \r\nQ 2825 2775 2575 2250 \r\nQ 2325 1725 1350 75 \r\nL 800 75 \r\nz\r\nM 662 2875 \r\nQ 700 2550 937 2337 \r\nQ 1175 2125 1450 2150 \r\nQ 1725 2175 1887 2300 \r\nQ 2050 2425 2200 2725 \r\nQ 2300 3100 2250 3362 \r\nQ 2200 3625 1987 3800 \r\nQ 1775 3975 1525 3975 \r\nQ 1375 4000 1137 3900 \r\nQ 900 3800 762 3500 \r\nQ 625 3200 662 2875 \r\nz\r\n\" id=\"SimHei-39\" transform=\"scale(0.015625)\"/>\r\n       </defs>\r\n       <use xlink:href=\"#SimHei-32\"/>\r\n       <use x=\"50\" xlink:href=\"#SimHei-30\"/>\r\n       <use x=\"100\" xlink:href=\"#SimHei-31\"/>\r\n       <use x=\"150\" xlink:href=\"#SimHei-39\"/>\r\n       <use x=\"200\" xlink:href=\"#SimHei-2d\"/>\r\n       <use x=\"250\" xlink:href=\"#SimHei-30\"/>\r\n       <use x=\"300\" xlink:href=\"#SimHei-31\"/>\r\n      </g>\r\n     </g>\r\n    </g>\r\n    <g id=\"xtick_6\">\r\n     <g id=\"line2d_6\">\r\n      <g>\r\n       <use style=\"stroke:#000000;stroke-width:0.8;\" x=\"364.343601\" xlink:href=\"#me4c9762263\" y=\"293.34375\"/>\r\n      </g>\r\n     </g>\r\n     <g id=\"text_6\">\r\n      <!-- 2019-07 -->\r\n      <g transform=\"translate(346.843601 307.21875)scale(0.1 -0.1)\">\r\n       <use xlink:href=\"#SimHei-32\"/>\r\n       <use x=\"50\" xlink:href=\"#SimHei-30\"/>\r\n       <use x=\"100\" xlink:href=\"#SimHei-31\"/>\r\n       <use x=\"150\" xlink:href=\"#SimHei-39\"/>\r\n       <use x=\"200\" xlink:href=\"#SimHei-2d\"/>\r\n       <use x=\"250\" xlink:href=\"#SimHei-30\"/>\r\n       <use x=\"300\" xlink:href=\"#SimHei-37\"/>\r\n      </g>\r\n     </g>\r\n    </g>\r\n    <g id=\"xtick_7\">\r\n     <g id=\"line2d_7\">\r\n      <g>\r\n       <use style=\"stroke:#000000;stroke-width:0.8;\" x=\"422.570789\" xlink:href=\"#me4c9762263\" y=\"293.34375\"/>\r\n      </g>\r\n     </g>\r\n     <g id=\"text_7\">\r\n      <!-- 2020-01 -->\r\n      <g transform=\"translate(405.070789 307.21875)scale(0.1 -0.1)\">\r\n       <use xlink:href=\"#SimHei-32\"/>\r\n       <use x=\"50\" xlink:href=\"#SimHei-30\"/>\r\n       <use x=\"100\" xlink:href=\"#SimHei-32\"/>\r\n       <use x=\"150\" xlink:href=\"#SimHei-30\"/>\r\n       <use x=\"200\" xlink:href=\"#SimHei-2d\"/>\r\n       <use x=\"250\" xlink:href=\"#SimHei-30\"/>\r\n       <use x=\"300\" xlink:href=\"#SimHei-31\"/>\r\n      </g>\r\n     </g>\r\n    </g>\r\n    <g id=\"xtick_8\">\r\n     <g id=\"line2d_8\">\r\n      <g>\r\n       <use style=\"stroke:#000000;stroke-width:0.8;\" x=\"480.165073\" xlink:href=\"#me4c9762263\" y=\"293.34375\"/>\r\n      </g>\r\n     </g>\r\n     <g id=\"text_8\">\r\n      <!-- 2020-07 -->\r\n      <g transform=\"translate(462.665073 307.21875)scale(0.1 -0.1)\">\r\n       <use xlink:href=\"#SimHei-32\"/>\r\n       <use x=\"50\" xlink:href=\"#SimHei-30\"/>\r\n       <use x=\"100\" xlink:href=\"#SimHei-32\"/>\r\n       <use x=\"150\" xlink:href=\"#SimHei-30\"/>\r\n       <use x=\"200\" xlink:href=\"#SimHei-2d\"/>\r\n       <use x=\"250\" xlink:href=\"#SimHei-30\"/>\r\n       <use x=\"300\" xlink:href=\"#SimHei-37\"/>\r\n      </g>\r\n     </g>\r\n    </g>\r\n    <g id=\"xtick_9\">\r\n     <g id=\"line2d_9\">\r\n      <g>\r\n       <use style=\"stroke:#000000;stroke-width:0.8;\" x=\"538.39226\" xlink:href=\"#me4c9762263\" y=\"293.34375\"/>\r\n      </g>\r\n     </g>\r\n     <g id=\"text_9\">\r\n      <!-- 2021-01 -->\r\n      <g transform=\"translate(520.89226 307.21875)scale(0.1 -0.1)\">\r\n       <use xlink:href=\"#SimHei-32\"/>\r\n       <use x=\"50\" xlink:href=\"#SimHei-30\"/>\r\n       <use x=\"100\" xlink:href=\"#SimHei-32\"/>\r\n       <use x=\"150\" xlink:href=\"#SimHei-31\"/>\r\n       <use x=\"200\" xlink:href=\"#SimHei-2d\"/>\r\n       <use x=\"250\" xlink:href=\"#SimHei-30\"/>\r\n       <use x=\"300\" xlink:href=\"#SimHei-31\"/>\r\n      </g>\r\n     </g>\r\n    </g>\r\n    <g id=\"xtick_10\">\r\n     <g id=\"line2d_10\">\r\n      <g>\r\n       <use style=\"stroke:#000000;stroke-width:0.8;\" x=\"595.670092\" xlink:href=\"#me4c9762263\" y=\"293.34375\"/>\r\n      </g>\r\n     </g>\r\n     <g id=\"text_10\">\r\n      <!-- 2021-07 -->\r\n      <g transform=\"translate(578.170092 307.21875)scale(0.1 -0.1)\">\r\n       <use xlink:href=\"#SimHei-32\"/>\r\n       <use x=\"50\" xlink:href=\"#SimHei-30\"/>\r\n       <use x=\"100\" xlink:href=\"#SimHei-32\"/>\r\n       <use x=\"150\" xlink:href=\"#SimHei-31\"/>\r\n       <use x=\"200\" xlink:href=\"#SimHei-2d\"/>\r\n       <use x=\"250\" xlink:href=\"#SimHei-30\"/>\r\n       <use x=\"300\" xlink:href=\"#SimHei-37\"/>\r\n      </g>\r\n     </g>\r\n    </g>\r\n    <g id=\"text_11\">\r\n     <!-- date -->\r\n     <g transform=\"translate(320.325 319.34375)scale(0.1 -0.1)\">\r\n      <defs>\r\n       <path d=\"M 2750 125 \r\nL 2250 125 \r\nL 2250 500 \r\nQ 2100 275 1900 175 \r\nQ 1700 75 1425 75 \r\nQ 925 75 575 437 \r\nQ 225 800 225 1525 \r\nQ 225 2250 575 2625 \r\nQ 925 3000 1425 3000 \r\nQ 1700 3000 1900 2887 \r\nQ 2100 2775 2250 2550 \r\nL 2250 4400 \r\nL 2750 4400 \r\nL 2750 125 \r\nz\r\nM 2250 1525 \r\nQ 2250 2000 2037 2275 \r\nQ 1825 2550 1525 2550 \r\nQ 1150 2550 962 2275 \r\nQ 775 2000 775 1525 \r\nQ 775 1050 962 787 \r\nQ 1150 525 1525 525 \r\nQ 1825 525 2037 787 \r\nQ 2250 1050 2250 1525 \r\nz\r\n\" id=\"SimHei-64\" transform=\"scale(0.015625)\"/>\r\n       <path d=\"M 2875 125 \r\nL 2275 125 \r\nQ 2225 175 2200 262 \r\nQ 2175 350 2175 475 \r\nQ 2000 275 1750 175 \r\nQ 1500 75 1225 75 \r\nQ 825 75 550 275 \r\nQ 275 475 275 850 \r\nQ 275 1225 525 1450 \r\nQ 775 1675 1300 1750 \r\nQ 1650 1800 1912 1875 \r\nQ 2175 1950 2175 2075 \r\nQ 2175 2225 2062 2375 \r\nQ 1950 2525 1575 2525 \r\nQ 1275 2525 1137 2412 \r\nQ 1000 2300 950 2100 \r\nL 400 2100 \r\nQ 450 2500 762 2737 \r\nQ 1075 2975 1575 2975 \r\nQ 2125 2975 2400 2725 \r\nQ 2675 2475 2675 2025 \r\nL 2675 650 \r\nQ 2675 500 2725 375 \r\nQ 2775 250 2875 125 \r\nz\r\nM 2175 1050 \r\nL 2175 1550 \r\nQ 2025 1500 1887 1462 \r\nQ 1750 1425 1425 1375 \r\nQ 1050 1325 937 1200 \r\nQ 825 1075 825 900 \r\nQ 825 750 937 637 \r\nQ 1050 525 1275 525 \r\nQ 1500 525 1762 650 \r\nQ 2025 775 2175 1050 \r\nz\r\n\" id=\"SimHei-61\" transform=\"scale(0.015625)\"/>\r\n       <path d=\"M 2750 200 \r\nQ 2625 150 2462 112 \r\nQ 2300 75 2025 75 \r\nQ 1575 75 1300 325 \r\nQ 1025 575 1025 1025 \r\nL 1025 2525 \r\nL 175 2525 \r\nL 175 2925 \r\nL 1025 2925 \r\nL 1025 3900 \r\nL 1525 3900 \r\nL 1525 2925 \r\nL 2550 2925 \r\nL 2550 2525 \r\nL 1525 2525 \r\nL 1525 1000 \r\nQ 1525 800 1625 662 \r\nQ 1725 525 2000 525 \r\nQ 2275 525 2450 575 \r\nQ 2625 625 2750 700 \r\nL 2750 200 \r\nz\r\n\" id=\"SimHei-74\" transform=\"scale(0.015625)\"/>\r\n       <path d=\"M 2850 1075 \r\nQ 2800 625 2450 350 \r\nQ 2100 75 1625 75 \r\nQ 1025 75 637 462 \r\nQ 250 850 250 1525 \r\nQ 250 2200 637 2587 \r\nQ 1025 2975 1625 2975 \r\nQ 2150 2975 2487 2637 \r\nQ 2825 2300 2825 1525 \r\nL 800 1525 \r\nQ 800 975 1037 750 \r\nQ 1275 525 1625 525 \r\nQ 1900 525 2075 662 \r\nQ 2250 800 2300 1075 \r\nL 2850 1075 \r\nz\r\nM 2250 1925 \r\nQ 2200 2275 2025 2412 \r\nQ 1850 2550 1575 2550 \r\nQ 1325 2550 1125 2412 \r\nQ 925 2275 825 1925 \r\nL 2250 1925 \r\nz\r\n\" id=\"SimHei-65\" transform=\"scale(0.015625)\"/>\r\n      </defs>\r\n      <use xlink:href=\"#SimHei-64\"/>\r\n      <use x=\"50\" xlink:href=\"#SimHei-61\"/>\r\n      <use x=\"100\" xlink:href=\"#SimHei-74\"/>\r\n      <use x=\"150\" xlink:href=\"#SimHei-65\"/>\r\n     </g>\r\n    </g>\r\n   </g>\r\n   <g id=\"matplotlib.axis_2\">\r\n    <g id=\"ytick_1\">\r\n     <g id=\"line2d_11\">\r\n      <defs>\r\n       <path d=\"M 0 0 \r\nL -3.5 0 \r\n\" id=\"mc4d5865cc6\" style=\"stroke:#000000;stroke-width:0.8;\"/>\r\n      </defs>\r\n      <g>\r\n       <use style=\"stroke:#000000;stroke-width:0.8;\" x=\"51.325\" xlink:href=\"#mc4d5865cc6\" y=\"282.24488\"/>\r\n      </g>\r\n     </g>\r\n     <g id=\"text_12\">\r\n      <!-- -0.02 -->\r\n      <g transform=\"translate(19.325 285.68238)scale(0.1 -0.1)\">\r\n       <defs>\r\n        <path d=\"M 1075 125 \r\nL 500 125 \r\nL 500 675 \r\nL 1075 675 \r\nL 1075 125 \r\nz\r\n\" id=\"SimHei-2e\" transform=\"scale(0.015625)\"/>\r\n       </defs>\r\n       <use xlink:href=\"#SimHei-2d\"/>\r\n       <use x=\"50\" xlink:href=\"#SimHei-30\"/>\r\n       <use x=\"100\" xlink:href=\"#SimHei-2e\"/>\r\n       <use x=\"150\" xlink:href=\"#SimHei-30\"/>\r\n       <use x=\"200\" xlink:href=\"#SimHei-32\"/>\r\n      </g>\r\n     </g>\r\n    </g>\r\n    <g id=\"ytick_2\">\r\n     <g id=\"line2d_12\">\r\n      <g>\r\n       <use style=\"stroke:#000000;stroke-width:0.8;\" x=\"51.325\" xlink:href=\"#mc4d5865cc6\" y=\"251.408327\"/>\r\n      </g>\r\n     </g>\r\n     <g id=\"text_13\">\r\n      <!-- 0.00 -->\r\n      <g transform=\"translate(24.325 254.845827)scale(0.1 -0.1)\">\r\n       <use xlink:href=\"#SimHei-30\"/>\r\n       <use x=\"50\" xlink:href=\"#SimHei-2e\"/>\r\n       <use x=\"100\" xlink:href=\"#SimHei-30\"/>\r\n       <use x=\"150\" xlink:href=\"#SimHei-30\"/>\r\n      </g>\r\n     </g>\r\n    </g>\r\n    <g id=\"ytick_3\">\r\n     <g id=\"line2d_13\">\r\n      <g>\r\n       <use style=\"stroke:#000000;stroke-width:0.8;\" x=\"51.325\" xlink:href=\"#mc4d5865cc6\" y=\"220.571775\"/>\r\n      </g>\r\n     </g>\r\n     <g id=\"text_14\">\r\n      <!-- 0.02 -->\r\n      <g transform=\"translate(24.325 224.009275)scale(0.1 -0.1)\">\r\n       <use xlink:href=\"#SimHei-30\"/>\r\n       <use x=\"50\" xlink:href=\"#SimHei-2e\"/>\r\n       <use x=\"100\" xlink:href=\"#SimHei-30\"/>\r\n       <use x=\"150\" xlink:href=\"#SimHei-32\"/>\r\n      </g>\r\n     </g>\r\n    </g>\r\n    <g id=\"ytick_4\">\r\n     <g id=\"line2d_14\">\r\n      <g>\r\n       <use style=\"stroke:#000000;stroke-width:0.8;\" x=\"51.325\" xlink:href=\"#mc4d5865cc6\" y=\"189.735223\"/>\r\n      </g>\r\n     </g>\r\n     <g id=\"text_15\">\r\n      <!-- 0.04 -->\r\n      <g transform=\"translate(24.325 193.172723)scale(0.1 -0.1)\">\r\n       <defs>\r\n        <path d=\"M 2000 1100 \r\nL 75 1100 \r\nL 75 1525 \r\nL 2100 4450 \r\nL 2475 4450 \r\nL 2475 1525 \r\nL 3075 1525 \r\nL 3075 1100 \r\nL 2475 1100 \r\nL 2475 150 \r\nL 2000 150 \r\nL 2000 1100 \r\nz\r\nM 2000 1525 \r\nL 2000 3500 \r\nL 600 1525 \r\nL 2000 1525 \r\nz\r\n\" id=\"SimHei-34\" transform=\"scale(0.015625)\"/>\r\n       </defs>\r\n       <use xlink:href=\"#SimHei-30\"/>\r\n       <use x=\"50\" xlink:href=\"#SimHei-2e\"/>\r\n       <use x=\"100\" xlink:href=\"#SimHei-30\"/>\r\n       <use x=\"150\" xlink:href=\"#SimHei-34\"/>\r\n      </g>\r\n     </g>\r\n    </g>\r\n    <g id=\"ytick_5\">\r\n     <g id=\"line2d_15\">\r\n      <g>\r\n       <use style=\"stroke:#000000;stroke-width:0.8;\" x=\"51.325\" xlink:href=\"#mc4d5865cc6\" y=\"158.898671\"/>\r\n      </g>\r\n     </g>\r\n     <g id=\"text_16\">\r\n      <!-- 0.06 -->\r\n      <g transform=\"translate(24.325 162.336171)scale(0.1 -0.1)\">\r\n       <defs>\r\n        <path d=\"M 250 1612 \r\nQ 275 1975 387 2225 \r\nQ 500 2475 725 2850 \r\nL 1750 4450 \r\nL 2325 4450 \r\nL 1275 2800 \r\nQ 1950 2975 2350 2750 \r\nQ 2750 2525 2887 2237 \r\nQ 3025 1950 3037 1612 \r\nQ 3050 1275 2937 950 \r\nQ 2825 625 2537 362 \r\nQ 2250 100 1737 75 \r\nQ 1225 50 862 262 \r\nQ 500 475 362 862 \r\nQ 225 1250 250 1612 \r\nz\r\nM 1025 787 \r\nQ 1250 550 1625 525 \r\nQ 2000 500 2250 775 \r\nQ 2500 1050 2500 1575 \r\nQ 2500 2100 2187 2300 \r\nQ 1875 2500 1487 2450 \r\nQ 1100 2400 925 2075 \r\nQ 750 1750 775 1387 \r\nQ 800 1025 1025 787 \r\nz\r\n\" id=\"SimHei-36\" transform=\"scale(0.015625)\"/>\r\n       </defs>\r\n       <use xlink:href=\"#SimHei-30\"/>\r\n       <use x=\"50\" xlink:href=\"#SimHei-2e\"/>\r\n       <use x=\"100\" xlink:href=\"#SimHei-30\"/>\r\n       <use x=\"150\" xlink:href=\"#SimHei-36\"/>\r\n      </g>\r\n     </g>\r\n    </g>\r\n    <g id=\"ytick_6\">\r\n     <g id=\"line2d_16\">\r\n      <g>\r\n       <use style=\"stroke:#000000;stroke-width:0.8;\" x=\"51.325\" xlink:href=\"#mc4d5865cc6\" y=\"128.062119\"/>\r\n      </g>\r\n     </g>\r\n     <g id=\"text_17\">\r\n      <!-- 0.08 -->\r\n      <g transform=\"translate(24.325 131.499619)scale(0.1 -0.1)\">\r\n       <use xlink:href=\"#SimHei-30\"/>\r\n       <use x=\"50\" xlink:href=\"#SimHei-2e\"/>\r\n       <use x=\"100\" xlink:href=\"#SimHei-30\"/>\r\n       <use x=\"150\" xlink:href=\"#SimHei-38\"/>\r\n      </g>\r\n     </g>\r\n    </g>\r\n    <g id=\"ytick_7\">\r\n     <g id=\"line2d_17\">\r\n      <g>\r\n       <use style=\"stroke:#000000;stroke-width:0.8;\" x=\"51.325\" xlink:href=\"#mc4d5865cc6\" y=\"97.225567\"/>\r\n      </g>\r\n     </g>\r\n     <g id=\"text_18\">\r\n      <!-- 0.10 -->\r\n      <g transform=\"translate(24.325 100.663067)scale(0.1 -0.1)\">\r\n       <use xlink:href=\"#SimHei-30\"/>\r\n       <use x=\"50\" xlink:href=\"#SimHei-2e\"/>\r\n       <use x=\"100\" xlink:href=\"#SimHei-31\"/>\r\n       <use x=\"150\" xlink:href=\"#SimHei-30\"/>\r\n      </g>\r\n     </g>\r\n    </g>\r\n    <g id=\"ytick_8\">\r\n     <g id=\"line2d_18\">\r\n      <g>\r\n       <use style=\"stroke:#000000;stroke-width:0.8;\" x=\"51.325\" xlink:href=\"#mc4d5865cc6\" y=\"66.389014\"/>\r\n      </g>\r\n     </g>\r\n     <g id=\"text_19\">\r\n      <!-- 0.12 -->\r\n      <g transform=\"translate(24.325 69.826514)scale(0.1 -0.1)\">\r\n       <use xlink:href=\"#SimHei-30\"/>\r\n       <use x=\"50\" xlink:href=\"#SimHei-2e\"/>\r\n       <use x=\"100\" xlink:href=\"#SimHei-31\"/>\r\n       <use x=\"150\" xlink:href=\"#SimHei-32\"/>\r\n      </g>\r\n     </g>\r\n    </g>\r\n    <g id=\"ytick_9\">\r\n     <g id=\"line2d_19\">\r\n      <g>\r\n       <use style=\"stroke:#000000;stroke-width:0.8;\" x=\"51.325\" xlink:href=\"#mc4d5865cc6\" y=\"35.552462\"/>\r\n      </g>\r\n     </g>\r\n     <g id=\"text_20\">\r\n      <!-- 0.14 -->\r\n      <g transform=\"translate(24.325 38.989962)scale(0.1 -0.1)\">\r\n       <use xlink:href=\"#SimHei-30\"/>\r\n       <use x=\"50\" xlink:href=\"#SimHei-2e\"/>\r\n       <use x=\"100\" xlink:href=\"#SimHei-31\"/>\r\n       <use x=\"150\" xlink:href=\"#SimHei-34\"/>\r\n      </g>\r\n     </g>\r\n    </g>\r\n    <g id=\"text_21\">\r\n     <!-- pnl -->\r\n     <g transform=\"translate(14.075 164.94375)rotate(-90)scale(0.1 -0.1)\">\r\n      <defs>\r\n       <path d=\"M 2825 1525 \r\nQ 2825 800 2475 425 \r\nQ 2125 50 1625 50 \r\nQ 1350 50 1150 162 \r\nQ 950 275 800 500 \r\nL 800 -800 \r\nL 300 -800 \r\nL 300 2925 \r\nL 800 2925 \r\nL 800 2550 \r\nQ 950 2775 1150 2875 \r\nQ 1350 2975 1625 2975 \r\nQ 2125 2975 2475 2612 \r\nQ 2825 2250 2825 1525 \r\nz\r\nM 2275 1525 \r\nQ 2275 2000 2087 2262 \r\nQ 1900 2525 1525 2525 \r\nQ 1225 2525 1012 2262 \r\nQ 800 2000 800 1525 \r\nQ 800 1050 1012 775 \r\nQ 1225 500 1525 500 \r\nQ 1900 500 2087 775 \r\nQ 2275 1050 2275 1525 \r\nz\r\n\" id=\"SimHei-70\" transform=\"scale(0.015625)\"/>\r\n       <path d=\"M 2800 125 \r\nL 2300 125 \r\nL 2300 1925 \r\nQ 2300 2225 2150 2400 \r\nQ 2000 2575 1750 2575 \r\nQ 1425 2575 1137 2237 \r\nQ 850 1900 850 1400 \r\nL 850 125 \r\nL 350 125 \r\nL 350 2925 \r\nL 850 2925 \r\nL 850 2400 \r\nQ 1050 2675 1287 2825 \r\nQ 1525 2975 1900 2975 \r\nQ 2350 2975 2575 2725 \r\nQ 2800 2475 2800 2100 \r\nL 2800 125 \r\nz\r\n\" id=\"SimHei-6e\" transform=\"scale(0.015625)\"/>\r\n       <path d=\"M 1825 125 \r\nL 1325 125 \r\nL 1325 4400 \r\nL 1825 4400 \r\nL 1825 125 \r\nz\r\n\" id=\"SimHei-6c\" transform=\"scale(0.015625)\"/>\r\n      </defs>\r\n      <use xlink:href=\"#SimHei-70\"/>\r\n      <use x=\"50\" xlink:href=\"#SimHei-6e\"/>\r\n      <use x=\"100\" xlink:href=\"#SimHei-6c\"/>\r\n     </g>\r\n    </g>\r\n   </g>\r\n   <g id=\"line2d_20\">\r\n    <path clip-path=\"url(#p8ecf364d28)\" d=\"M 76.688636 269.36049 \r\nL 77.637993 269.36049 \r\nL 78.587349 268.921155 \r\nL 79.220253 268.921155 \r\nL 79.536705 269.079413 \r\nL 79.853157 268.166603 \r\nL 80.802514 278.256977 \r\nL 81.118966 273.919246 \r\nL 81.435418 272.992437 \r\nL 81.75187 272.992437 \r\nL 82.068322 280.989205 \r\nL 83.967035 280.989205 \r\nL 86.498652 268.848351 \r\nL 87.76446 268.848351 \r\nL 88.080912 268.525124 \r\nL 88.397364 268.525124 \r\nL 88.713816 266.820345 \r\nL 89.663173 266.820345 \r\nL 89.979625 271.779216 \r\nL 90.296077 271.636949 \r\nL 90.612529 264.937705 \r\nL 91.878337 264.937705 \r\nL 92.19479 260.101339 \r\nL 92.827694 260.101339 \r\nL 93.144146 242.353261 \r\nL 97.574475 242.353261 \r\nL 98.523832 227.58362 \r\nL 98.840284 227.58362 \r\nL 99.156736 225.087786 \r\nL 99.473188 225.528432 \r\nL 100.738996 225.528432 \r\nL 101.055449 223.145917 \r\nL 102.004805 223.178289 \r\nL 102.954161 227.231412 \r\nL 103.270613 211.919718 \r\nL 103.903518 211.919718 \r\nL 106.435134 207.394913 \r\nL 107.384491 207.394913 \r\nL 107.700943 209.728796 \r\nL 108.650299 209.728796 \r\nL 109.599655 205.268539 \r\nL 109.916108 201.958103 \r\nL 110.23256 201.958103 \r\nL 110.549012 196.278964 \r\nL 110.865464 196.278964 \r\nL 111.81482 202.62778 \r\nL 112.131272 202.62778 \r\nL 112.447724 203.023115 \r\nL 112.764177 203.023115 \r\nL 113.080629 200.522465 \r\nL 114.346437 199.803039 \r\nL 114.662889 197.694623 \r\nL 114.979341 192.196182 \r\nL 115.295793 191.994335 \r\nL 116.24515 191.994335 \r\nL 116.561602 192.396349 \r\nL 116.878054 192.396349 \r\nL 117.194506 186.981451 \r\nL 118.460314 186.981451 \r\nL 118.776767 186.517669 \r\nL 119.093219 186.517669 \r\nL 119.409671 198.38614 \r\nL 121.941288 198.434172 \r\nL 123.523548 202.447343 \r\nL 124.156452 202.447343 \r\nL 125.105809 202.917497 \r\nL 127.637426 202.917497 \r\nL 127.953878 200.324222 \r\nL 128.27033 199.777855 \r\nL 131.751303 199.777855 \r\nL 132.067755 194.680773 \r\nL 133.017111 194.730667 \r\nL 134.28292 194.730667 \r\nL 134.599372 194.597705 \r\nL 136.814537 194.597705 \r\nL 137.130989 194.881424 \r\nL 137.447441 194.881424 \r\nL 138.396797 194.702674 \r\nL 138.713249 188.577012 \r\nL 141.561318 188.577012 \r\nL 141.87777 188.446443 \r\nL 142.827127 182.282299 \r\nL 143.143579 182.282299 \r\nL 143.460031 184.899162 \r\nL 143.776483 186.28671 \r\nL 144.092935 186.375612 \r\nL 145.042291 200.255991 \r\nL 145.675196 200.255991 \r\nL 145.991648 205.463022 \r\nL 146.3081 202.438073 \r\nL 147.257456 202.438073 \r\nL 147.573908 204.27069 \r\nL 147.89036 196.734679 \r\nL 148.206813 192.910089 \r\nL 148.523265 192.863198 \r\nL 149.472621 189.539081 \r\nL 149.789073 185.95041 \r\nL 150.105525 183.643586 \r\nL 150.421977 183.643586 \r\nL 150.738429 180.526857 \r\nL 151.687786 181.321844 \r\nL 152.004238 181.140689 \r\nL 152.637142 181.140689 \r\nL 152.953594 174.742137 \r\nL 153.90295 171.938108 \r\nL 154.535855 175.143453 \r\nL 154.852307 175.143453 \r\nL 155.168759 186.197702 \r\nL 156.118115 181.339507 \r\nL 157.067472 181.339507 \r\nL 157.383924 178.821175 \r\nL 158.966184 178.663485 \r\nL 159.599088 178.671104 \r\nL 160.548445 179.688397 \r\nL 161.181349 179.688397 \r\nL 161.497801 177.743823 \r\nL 165.295226 177.65817 \r\nL 165.611678 180.576898 \r\nL 165.92813 174.060038 \r\nL 166.244583 174.060038 \r\nL 167.193939 156.357447 \r\nL 167.510391 155.48327 \r\nL 167.826843 153.892899 \r\nL 168.459747 153.892899 \r\nL 169.409104 151.297684 \r\nL 169.725556 151.297684 \r\nL 170.042008 144.483033 \r\nL 172.257173 144.488647 \r\nL 172.573625 143.383953 \r\nL 174.155885 143.383953 \r\nL 174.472337 141.840478 \r\nL 174.788789 136.737262 \r\nL 176.687502 136.636245 \r\nL 177.003954 137.05185 \r\nL 178.902667 137.05185 \r\nL 179.219119 140.194382 \r\nL 179.535571 140.194382 \r\nL 180.484927 138.614661 \r\nL 183.332996 138.544281 \r\nL 183.649448 133.773865 \r\nL 183.965901 138.169522 \r\nL 185.864613 138.169522 \r\nL 186.181065 136.490036 \r\nL 187.130422 141.343391 \r\nL 187.446874 141.343391 \r\nL 187.763326 141.115424 \r\nL 188.39623 141.115424 \r\nL 189.345586 127.637501 \r\nL 189.978491 127.637501 \r\nL 190.294943 127.228405 \r\nL 192.193655 127.228405 \r\nL 192.510107 126.155784 \r\nL 192.82656 126.155784 \r\nL 194.092368 125.983467 \r\nL 195.041724 125.89643 \r\nL 195.991081 129.26193 \r\nL 197.256889 129.184817 \r\nL 198.206245 127.545201 \r\nL 198.522697 129.929698 \r\nL 199.472054 129.929698 \r\nL 200.42141 130.343529 \r\nL 200.737862 130.343529 \r\nL 201.054314 129.627012 \r\nL 201.370766 129.805202 \r\nL 201.687219 129.805202 \r\nL 202.636575 122.431433 \r\nL 205.484644 122.431433 \r\nL 208.016261 122.570627 \r\nL 208.332713 122.796006 \r\nL 209.282069 123.271758 \r\nL 209.598521 123.049848 \r\nL 209.914973 125.498374 \r\nL 212.44659 125.498374 \r\nL 212.763042 127.409835 \r\nL 214.661755 127.409835 \r\nL 214.978207 127.188759 \r\nL 215.927563 124.277549 \r\nL 216.87692 124.277549 \r\nL 217.193372 122.124874 \r\nL 218.45918 122.124874 \r\nL 218.775632 122.614693 \r\nL 219.092084 122.614693 \r\nL 219.408537 122.496882 \r\nL 220.357893 118.742286 \r\nL 225.104674 118.793158 \r\nL 225.421127 118.263011 \r\nL 225.737579 118.513356 \r\nL 226.054031 118.513356 \r\nL 227.003387 116.952574 \r\nL 227.319839 116.952574 \r\nL 227.636291 118.166212 \r\nL 228.269196 118.166212 \r\nL 230.167908 117.751387 \r\nL 230.48436 117.71222 \r\nL 231.433717 117.978966 \r\nL 232.066621 117.882848 \r\nL 235.864046 117.841572 \r\nL 236.180498 117.70527 \r\nL 236.49695 119.237561 \r\nL 238.395663 119.237561 \r\nL 238.712115 119.720549 \r\nL 240.294376 119.720549 \r\nL 240.610828 117.548048 \r\nL 243.142445 117.548048 \r\nL 243.458897 117.74374 \r\nL 243.775349 117.74374 \r\nL 245.041157 108.528786 \r\nL 245.674061 108.528786 \r\nL 245.990514 104.60962 \r\nL 246.93987 110.285509 \r\nL 248.205678 110.285509 \r\nL 249.787939 110.44672 \r\nL 250.420843 110.390241 \r\nL 251.370199 108.798524 \r\nL 251.686651 108.798524 \r\nL 252.003104 110.22042 \r\nL 254.53472 110.22042 \r\nL 254.851173 110.664789 \r\nL 256.749885 110.607467 \r\nL 257.066337 112.432923 \r\nL 258.015694 116.243134 \r\nL 258.332146 116.243134 \r\nL 258.648598 117.876544 \r\nL 258.96505 117.876544 \r\nL 259.281502 117.379933 \r\nL 260.230858 117.379933 \r\nL 260.54731 116.990965 \r\nL 261.180215 116.990965 \r\nL 261.496667 108.199844 \r\nL 262.446023 101.197197 \r\nL 262.762475 101.197197 \r\nL 263.078927 102.894402 \r\nL 264.661188 102.894402 \r\nL 264.97764 106.632362 \r\nL 265.926996 106.632362 \r\nL 266.876353 107.229939 \r\nL 267.192805 106.32673 \r\nL 267.509257 106.32673 \r\nL 267.825709 103.8312 \r\nL 270.357326 103.8312 \r\nL 271.306682 100.583915 \r\nL 271.623134 100.859243 \r\nL 271.939586 98.96524 \r\nL 277.00282 98.96524 \r\nL 280.167341 94.898283 \r\nL 282.698958 94.898283 \r\nL 283.01541 94.554668 \r\nL 284.597671 94.554668 \r\nL 284.914123 97.851065 \r\nL 285.547027 97.851065 \r\nL 285.863479 94.83591 \r\nL 287.129287 94.83591 \r\nL 287.44574 94.700494 \r\nL 287.762192 100.465091 \r\nL 290.293808 100.465091 \r\nL 291.243165 101.561581 \r\nL 293.45833 101.561581 \r\nL 293.774782 101.791288 \r\nL 294.407686 101.706115 \r\nL 294.724138 102.396118 \r\nL 295.673494 105.006545 \r\nL 295.989946 102.861603 \r\nL 296.939303 102.861603 \r\nL 297.888659 112.141229 \r\nL 298.205111 112.141229 \r\nL 298.521563 110.952486 \r\nL 298.838015 110.952486 \r\nL 299.154467 117.287675 \r\nL 300.103824 117.287675 \r\nL 300.420276 115.307012 \r\nL 300.736728 115.307012 \r\nL 301.05318 115.554789 \r\nL 305.799962 115.630434 \r\nL 307.382222 112.379992 \r\nL 307.698674 114.625444 \r\nL 309.597387 114.625444 \r\nL 309.913839 112.550434 \r\nL 311.179648 112.550434 \r\nL 311.4961 113.094851 \r\nL 314.344169 113.059638 \r\nL 314.660621 112.861841 \r\nL 315.609977 117.409156 \r\nL 315.926429 117.409156 \r\nL 316.242881 115.837145 \r\nL 316.559333 107.061785 \r\nL 316.875785 106.255816 \r\nL 320.040307 107.787683 \r\nL 320.356759 110.948141 \r\nL 321.306115 110.948141 \r\nL 322.255471 109.011181 \r\nL 322.888375 109.011181 \r\nL 323.204828 108.324566 \r\nL 325.736444 108.40307 \r\nL 326.685801 106.437755 \r\nL 327.635157 106.437755 \r\nL 327.951609 107.949026 \r\nL 328.900966 107.949026 \r\nL 329.217418 108.321982 \r\nL 331.432582 108.33498 \r\nL 331.749034 109.152761 \r\nL 332.065487 109.593118 \r\nL 335.54646 109.551849 \r\nL 335.862912 108.490263 \r\nL 336.495816 108.490263 \r\nL 337.761625 100.333941 \r\nL 338.078077 102.728746 \r\nL 338.394529 102.728746 \r\nL 338.710981 103.414473 \r\nL 339.027433 105.202931 \r\nL 340.293241 105.202931 \r\nL 340.609693 104.321974 \r\nL 343.14131 104.259392 \r\nL 343.457762 103.653308 \r\nL 344.723571 103.660926 \r\nL 346.622284 109.662883 \r\nL 346.938736 112.589569 \r\nL 348.837448 112.589569 \r\nL 349.1539 113.285863 \r\nL 349.470352 113.285863 \r\nL 349.786805 107.570807 \r\nL 350.103257 107.570807 \r\nL 351.052613 107.449612 \r\nL 351.369065 105.759303 \r\nL 352.001969 105.759303 \r\nL 352.318421 103.424297 \r\nL 354.217134 103.367569 \r\nL 354.533586 104.691946 \r\nL 355.482942 105.164271 \r\nL 356.115847 105.164271 \r\nL 356.432299 104.7141 \r\nL 357.698107 104.7141 \r\nL 358.014559 105.85511 \r\nL 358.331011 105.85511 \r\nL 358.647464 105.709241 \r\nL 359.913272 105.709241 \r\nL 360.229724 100.622666 \r\nL 360.546176 109.10216 \r\nL 361.17908 109.136295 \r\nL 362.128437 109.919812 \r\nL 362.761341 109.919812 \r\nL 363.077793 109.608477 \r\nL 363.394245 109.608477 \r\nL 364.343601 108.111127 \r\nL 364.660054 109.151936 \r\nL 364.976506 109.318717 \r\nL 365.292958 109.050018 \r\nL 365.60941 109.462671 \r\nL 366.875218 109.462671 \r\nL 367.19167 109.972348 \r\nL 367.824575 109.972348 \r\nL 368.773931 108.397527 \r\nL 369.090383 108.505581 \r\nL 369.406835 112.751186 \r\nL 369.723287 112.751186 \r\nL 370.039739 112.583808 \r\nL 371.305548 112.887873 \r\nL 373.837165 112.911929 \r\nL 374.153617 112.739333 \r\nL 374.470069 113.982916 \r\nL 375.735877 113.982916 \r\nL 376.052329 114.404967 \r\nL 376.368782 114.156163 \r\nL 376.685234 113.287229 \r\nL 377.63459 113.287229 \r\nL 377.951042 114.874413 \r\nL 381.115563 114.832066 \r\nL 382.064919 114.14804 \r\nL 382.381372 115.1673 \r\nL 382.697824 115.1673 \r\nL 383.014276 115.318108 \r\nL 383.330728 115.318108 \r\nL 384.596536 115.451414 \r\nL 385.229441 114.649296 \r\nL 385.545893 111.727729 \r\nL 387.444605 111.727729 \r\nL 388.710414 112.438322 \r\nL 389.026866 112.438322 \r\nL 389.343318 109.650651 \r\nL 389.65977 109.650651 \r\nL 389.976222 110.361871 \r\nL 390.925578 101.481026 \r\nL 391.242031 100.338856 \r\nL 395.988812 100.325201 \r\nL 396.305264 100.05223 \r\nL 396.621716 100.05223 \r\nL 397.571073 100.571617 \r\nL 397.887525 100.571617 \r\nL 398.203977 98.83501 \r\nL 401.052046 98.791946 \r\nL 402.001402 101.160141 \r\nL 402.317854 101.160141 \r\nL 402.634306 100.436124 \r\nL 402.950759 100.436124 \r\nL 403.267211 103.875496 \r\nL 404.216567 103.924321 \r\nL 404.533019 102.095154 \r\nL 405.165923 102.095154 \r\nL 405.482375 102.398838 \r\nL 406.431732 102.398838 \r\nL 407.064636 100.01967 \r\nL 407.381088 103.337871 \r\nL 408.646896 103.337871 \r\nL 408.963349 104.192025 \r\nL 409.912705 104.192025 \r\nL 410.862061 102.453678 \r\nL 413.71013 102.466698 \r\nL 414.026582 102.466698 \r\nL 414.343034 102.262368 \r\nL 415.292391 102.246048 \r\nL 415.608843 102.630983 \r\nL 415.925295 102.368172 \r\nL 416.241747 103.745083 \r\nL 416.558199 104.421744 \r\nL 417.507555 104.054435 \r\nL 417.824008 104.054435 \r\nL 418.14046 105.449238 \r\nL 418.773364 105.555886 \r\nL 419.72272 107.013441 \r\nL 421.937885 107.013441 \r\nL 422.254337 106.445672 \r\nL 424.15305 106.484723 \r\nL 424.469502 104.591008 \r\nL 424.785954 104.591008 \r\nL 425.102406 104.397742 \r\nL 428.899831 104.397742 \r\nL 429.216283 101.835905 \r\nL 429.532735 100.637318 \r\nL 433.013709 99.981033 \r\nL 433.330161 95.512014 \r\nL 434.279517 95.512014 \r\nL 435.228873 97.779745 \r\nL 435.545326 97.459548 \r\nL 435.861778 98.294235 \r\nL 438.076942 98.294235 \r\nL 438.393394 94.322777 \r\nL 438.709847 94.342572 \r\nL 439.659203 96.516441 \r\nL 439.975655 104.055051 \r\nL 440.608559 104.055051 \r\nL 440.925011 107.063271 \r\nL 441.874368 99.638257 \r\nL 442.19082 103.247774 \r\nL 442.507272 101.991695 \r\nL 442.823724 103.906027 \r\nL 443.140176 103.906027 \r\nL 444.089532 110.7938 \r\nL 444.405985 106.502499 \r\nL 444.722437 107.716411 \r\nL 445.038889 107.837507 \r\nL 445.355341 103.263071 \r\nL 446.621149 102.394654 \r\nL 446.937601 103.730836 \r\nL 447.254053 74.276291 \r\nL 447.570506 68.029968 \r\nL 448.519862 68.159457 \r\nL 448.836314 65.56335 \r\nL 449.152766 68.256913 \r\nL 449.469218 68.256913 \r\nL 449.78567 69.559179 \r\nL 450.735027 69.522064 \r\nL 451.051479 68.458715 \r\nL 451.367931 74.03484 \r\nL 451.684383 68.775042 \r\nL 452.000835 71.295842 \r\nL 453.266644 77.277049 \r\nL 453.583096 77.614977 \r\nL 454.216 72.452184 \r\nL 455.165356 71.604405 \r\nL 455.481808 73.630859 \r\nL 455.79826 73.630859 \r\nL 456.114712 74.731573 \r\nL 456.431165 78.196572 \r\nL 457.380521 79.543503 \r\nL 457.696973 79.422358 \r\nL 458.013425 79.745078 \r\nL 458.329877 83.866071 \r\nL 458.646329 83.866071 \r\nL 459.595686 84.381265 \r\nL 459.912138 87.184091 \r\nL 460.22859 87.184091 \r\nL 460.545042 83.448688 \r\nL 462.443755 82.217269 \r\nL 462.760207 79.454253 \r\nL 463.076659 79.520397 \r\nL 464.026015 79.915445 \r\nL 464.342467 81.98163 \r\nL 464.975371 81.98163 \r\nL 465.291824 83.845194 \r\nL 466.24118 73.567549 \r\nL 466.557632 75.352641 \r\nL 466.874084 75.352641 \r\nL 467.190536 77.149044 \r\nL 467.506988 77.424939 \r\nL 468.772797 77.424939 \r\nL 469.089249 77.692929 \r\nL 469.405701 76.798791 \r\nL 469.722153 76.769091 \r\nL 470.671509 78.95577 \r\nL 470.987961 77.062977 \r\nL 471.304414 77.062977 \r\nL 471.620866 80.813308 \r\nL 471.937318 80.426279 \r\nL 472.886674 90.576606 \r\nL 473.203126 91.349652 \r\nL 473.519578 91.349652 \r\nL 473.83603 94.052631 \r\nL 474.152483 92.700438 \r\nL 475.101839 92.700438 \r\nL 475.418291 94.060503 \r\nL 476.367647 94.192838 \r\nL 477.317004 96.15901 \r\nL 477.949908 96.15901 \r\nL 479.532168 94.179089 \r\nL 479.84862 94.179089 \r\nL 480.165073 94.73107 \r\nL 480.481525 93.579484 \r\nL 480.797977 94.177181 \r\nL 482.063785 86.025356 \r\nL 482.380237 85.227316 \r\nL 482.696689 85.227316 \r\nL 483.013142 84.533763 \r\nL 484.27895 84.789641 \r\nL 484.595402 86.054185 \r\nL 484.911854 86.054185 \r\nL 485.228306 86.318467 \r\nL 486.177663 86.352086 \r\nL 486.494115 81.366668 \r\nL 486.810567 82.841806 \r\nL 487.127019 82.841806 \r\nL 487.443471 78.39062 \r\nL 488.709279 78.112517 \r\nL 489.025732 78.717628 \r\nL 489.342184 78.232532 \r\nL 489.658636 78.232532 \r\nL 490.607992 77.946909 \r\nL 490.924444 78.430446 \r\nL 491.557348 78.430446 \r\nL 491.873801 76.163872 \r\nL 492.823157 76.320544 \r\nL 493.456061 79.394207 \r\nL 493.772513 79.556273 \r\nL 494.088965 80.171968 \r\nL 495.354774 80.171968 \r\nL 495.671226 81.051779 \r\nL 497.253486 81.051779 \r\nL 497.569938 80.68913 \r\nL 498.202843 80.68913 \r\nL 498.519295 80.369539 \r\nL 499.468651 82.594586 \r\nL 499.785103 82.841045 \r\nL 500.101555 85.124873 \r\nL 500.418007 82.227244 \r\nL 500.73446 81.254813 \r\nL 501.683816 81.254813 \r\nL 502.000268 80.898084 \r\nL 502.31672 78.9412 \r\nL 502.949624 78.742333 \r\nL 504.215433 78.720837 \r\nL 504.531885 71.238635 \r\nL 505.164789 71.238635 \r\nL 506.114145 70.417406 \r\nL 508.32931 70.417406 \r\nL 508.645762 69.741313 \r\nL 508.962214 69.616044 \r\nL 511.810283 63.406967 \r\nL 513.076092 63.406967 \r\nL 513.392544 63.183201 \r\nL 514.025448 63.249593 \r\nL 514.974804 64.524691 \r\nL 516.240613 64.490351 \r\nL 517.189969 62.321015 \r\nL 517.822873 62.426278 \r\nL 518.139325 63.563047 \r\nL 520.35449 63.563047 \r\nL 520.670942 65.48038 \r\nL 522.253203 64.796118 \r\nL 522.569655 64.796118 \r\nL 522.886107 64.644183 \r\nL 524.151915 64.422196 \r\nL 524.78482 64.422196 \r\nL 525.101272 67.011949 \r\nL 526.050628 59.895014 \r\nL 527.316437 59.895014 \r\nL 528.265793 61.386548 \r\nL 528.898697 61.386548 \r\nL 529.215149 61.606433 \r\nL 529.531601 60.420166 \r\nL 530.480958 66.012917 \r\nL 530.79741 65.725773 \r\nL 531.113862 71.67609 \r\nL 531.430314 71.67609 \r\nL 531.746766 69.957155 \r\nL 533.329027 70.792548 \r\nL 533.645479 70.792548 \r\nL 533.961931 72.629898 \r\nL 535.227739 54.021413 \r\nL 535.544191 65.579964 \r\nL 535.860643 65.327103 \r\nL 536.177096 64.811059 \r\nL 537.126452 62.355522 \r\nL 537.442904 53.196164 \r\nL 538.075808 53.196164 \r\nL 539.341617 58.943369 \r\nL 539.658069 59.503421 \r\nL 540.290973 59.503421 \r\nL 540.607425 60.085668 \r\nL 541.556781 59.719208 \r\nL 541.873233 60.112582 \r\nL 542.506138 61.89157 \r\nL 542.82259 61.89157 \r\nL 544.088398 66.096399 \r\nL 544.40485 69.317478 \r\nL 544.721302 69.330498 \r\nL 545.037754 68.82695 \r\nL 545.987111 68.82695 \r\nL 546.303563 68.000761 \r\nL 546.620015 68.000761 \r\nL 546.936467 67.860287 \r\nL 547.252919 68.252315 \r\nL 548.518728 68.427343 \r\nL 548.83518 68.427343 \r\nL 549.151632 68.056441 \r\nL 549.468084 68.965536 \r\nL 550.41744 68.965536 \r\nL 550.733892 68.803773 \r\nL 551.050345 68.803773 \r\nL 553.581961 64.837802 \r\nL 553.898413 65.222817 \r\nL 554.84777 69.769343 \r\nL 555.480674 69.769343 \r\nL 555.797126 70.974313 \r\nL 556.113578 74.043999 \r\nL 557.062935 74.043999 \r\nL 557.379387 76.346105 \r\nL 558.012291 72.409911 \r\nL 558.328743 67.625177 \r\nL 559.278099 75.706078 \r\nL 559.594551 75.560273 \r\nL 559.911004 77.090493 \r\nL 560.227456 77.152711 \r\nL 560.543908 73.399271 \r\nL 561.493264 73.360704 \r\nL 561.809716 70.684382 \r\nL 562.44262 70.684382 \r\nL 562.759072 70.330646 \r\nL 563.708429 67.630422 \r\nL 564.974237 67.630422 \r\nL 565.923594 69.70801 \r\nL 566.240046 69.70801 \r\nL 566.556498 81.153173 \r\nL 567.189402 81.17801 \r\nL 568.45521 81.17801 \r\nL 568.771663 83.54919 \r\nL 569.088115 83.801998 \r\nL 569.404567 83.801998 \r\nL 570.353923 85.071558 \r\nL 571.303279 85.071558 \r\nL 571.619731 81.376049 \r\nL 572.569088 81.024744 \r\nL 572.88554 74.353456 \r\nL 573.201992 71.350327 \r\nL 573.834896 71.350327 \r\nL 574.784253 72.754399 \r\nL 575.100705 72.933481 \r\nL 575.417157 71.974377 \r\nL 575.733609 71.974377 \r\nL 576.050061 72.113736 \r\nL 577.948774 33.898295 \r\nL 578.265226 43.124547 \r\nL 580.48039 70.445398 \r\nL 581.429747 78.467923 \r\nL 581.746199 78.467923 \r\nL 582.062651 70.624653 \r\nL 582.379103 48.838684 \r\nL 582.695555 48.838684 \r\nL 583.644912 50.255432 \r\nL 583.961364 50.255432 \r\nL 583.961364 50.255432 \r\n\" style=\"fill:none;stroke:#0000ff;stroke-linecap:square;stroke-width:1.5;\"/>\r\n   </g>\r\n   <g id=\"line2d_21\">\r\n    <path clip-path=\"url(#p8ecf364d28)\" d=\"M 307.382222 112.379992 \r\nL 307.698674 114.625444 \r\nL 309.597387 114.625444 \r\nL 309.913839 112.550434 \r\nL 311.179648 112.550434 \r\nL 311.4961 113.094851 \r\nL 314.344169 113.059638 \r\nL 314.660621 112.861841 \r\nL 315.609977 117.409156 \r\nL 315.926429 117.409156 \r\nL 316.242881 115.837145 \r\nL 316.559333 107.061785 \r\nL 316.875785 106.255816 \r\nL 320.040307 107.787683 \r\nL 320.356759 110.948141 \r\nL 321.306115 110.948141 \r\nL 322.255471 109.011181 \r\nL 322.888375 109.011181 \r\nL 323.204828 108.324566 \r\nL 325.736444 108.40307 \r\nL 326.685801 106.437755 \r\nL 327.635157 106.437755 \r\nL 327.951609 107.949026 \r\nL 328.900966 107.949026 \r\nL 329.217418 108.321982 \r\nL 331.432582 108.33498 \r\nL 331.749034 109.152761 \r\nL 332.065487 109.593118 \r\nL 335.54646 109.551849 \r\nL 335.862912 108.490263 \r\nL 336.495816 108.490263 \r\nL 337.761625 100.333941 \r\nL 338.078077 102.728746 \r\nL 338.394529 102.728746 \r\nL 338.710981 103.414473 \r\nL 339.027433 105.202931 \r\nL 340.293241 105.202931 \r\nL 340.609693 104.321974 \r\nL 343.14131 104.259392 \r\nL 343.457762 103.653308 \r\nL 344.723571 103.660926 \r\nL 346.622284 109.662883 \r\nL 346.938736 112.589569 \r\nL 348.837448 112.589569 \r\nL 349.1539 113.285863 \r\nL 349.470352 113.285863 \r\nL 349.786805 107.570807 \r\nL 350.103257 107.570807 \r\nL 351.052613 107.449612 \r\nL 351.369065 105.759303 \r\nL 352.001969 105.759303 \r\nL 352.318421 103.424297 \r\nL 354.217134 103.367569 \r\nL 354.533586 104.691946 \r\nL 355.482942 105.164271 \r\nL 356.115847 105.164271 \r\nL 356.432299 104.7141 \r\nL 357.698107 104.7141 \r\nL 358.014559 105.85511 \r\nL 358.331011 105.85511 \r\nL 358.647464 105.709241 \r\nL 359.913272 105.709241 \r\nL 360.229724 100.622666 \r\nL 360.546176 109.10216 \r\nL 361.17908 109.136295 \r\nL 362.128437 109.919812 \r\nL 362.761341 109.919812 \r\nL 363.077793 109.608477 \r\nL 363.394245 109.608477 \r\nL 364.343601 108.111127 \r\nL 364.660054 109.151936 \r\nL 364.976506 109.318717 \r\nL 365.292958 109.050018 \r\nL 365.60941 109.462671 \r\nL 366.875218 109.462671 \r\nL 367.19167 109.972348 \r\nL 367.824575 109.972348 \r\nL 368.773931 108.397527 \r\nL 369.090383 108.505581 \r\nL 369.406835 112.751186 \r\nL 369.723287 112.751186 \r\nL 370.039739 112.583808 \r\nL 371.305548 112.887873 \r\nL 373.837165 112.911929 \r\nL 374.153617 112.739333 \r\nL 374.470069 113.982916 \r\nL 375.735877 113.982916 \r\nL 376.052329 114.404967 \r\nL 376.368782 114.156163 \r\nL 376.685234 113.287229 \r\nL 377.63459 113.287229 \r\nL 377.951042 114.874413 \r\nL 381.115563 114.832066 \r\nL 382.064919 114.14804 \r\nL 382.381372 115.1673 \r\nL 382.697824 115.1673 \r\nL 383.014276 115.318108 \r\nL 383.330728 115.318108 \r\nL 384.596536 115.451414 \r\nL 385.229441 114.649296 \r\nL 385.545893 111.727729 \r\nL 387.444605 111.727729 \r\nL 388.710414 112.438322 \r\nL 389.026866 112.438322 \r\nL 389.343318 109.650651 \r\nL 389.65977 109.650651 \r\nL 389.976222 110.361871 \r\nL 390.925578 101.481026 \r\nL 391.242031 100.338856 \r\nL 395.988812 100.325201 \r\nL 396.305264 100.05223 \r\nL 396.621716 100.05223 \r\nL 397.571073 100.571617 \r\nL 397.887525 100.571617 \r\nL 398.203977 98.83501 \r\nL 401.052046 98.791946 \r\nL 402.001402 101.160141 \r\nL 402.317854 101.160141 \r\nL 402.634306 100.436124 \r\nL 402.950759 100.436124 \r\nL 403.267211 103.875496 \r\nL 404.216567 103.924321 \r\nL 404.533019 102.095154 \r\nL 405.165923 102.095154 \r\nL 405.482375 102.398838 \r\nL 406.431732 102.398838 \r\nL 407.064636 100.01967 \r\nL 407.381088 103.337871 \r\nL 408.646896 103.337871 \r\nL 408.963349 104.192025 \r\nL 409.912705 104.192025 \r\nL 410.862061 102.453678 \r\nL 413.71013 102.466698 \r\nL 414.026582 102.466698 \r\nL 414.343034 102.262368 \r\nL 415.292391 102.246048 \r\nL 415.608843 102.630983 \r\nL 415.925295 102.368172 \r\nL 416.241747 103.745083 \r\nL 416.558199 104.421744 \r\nL 417.507555 104.054435 \r\nL 417.824008 104.054435 \r\nL 418.14046 105.449238 \r\nL 418.773364 105.555886 \r\nL 419.72272 107.013441 \r\nL 421.937885 107.013441 \r\nL 422.254337 106.445672 \r\nL 424.15305 106.484723 \r\nL 424.469502 104.591008 \r\nL 424.785954 104.591008 \r\nL 425.102406 104.397742 \r\nL 428.899831 104.397742 \r\nL 429.216283 101.835905 \r\nL 429.532735 100.637318 \r\nL 433.013709 99.981033 \r\nL 433.330161 95.512014 \r\nL 434.279517 95.512014 \r\nL 435.228873 97.779745 \r\nL 435.545326 97.459548 \r\nL 435.861778 98.294235 \r\nL 438.076942 98.294235 \r\nL 438.393394 94.322777 \r\nL 438.709847 94.342572 \r\nL 439.659203 96.516441 \r\nL 439.975655 104.055051 \r\nL 440.608559 104.055051 \r\nL 440.925011 107.063271 \r\nL 441.874368 99.638257 \r\nL 442.19082 103.247774 \r\nL 442.507272 101.991695 \r\nL 442.823724 103.906027 \r\nL 443.140176 103.906027 \r\nL 444.089532 110.7938 \r\nL 444.405985 106.502499 \r\nL 444.722437 107.716411 \r\nL 445.038889 107.837507 \r\nL 445.355341 103.263071 \r\nL 446.621149 102.394654 \r\nL 446.937601 103.730836 \r\nL 447.254053 74.276291 \r\nL 447.570506 68.029968 \r\nL 448.519862 68.159457 \r\nL 448.836314 65.56335 \r\nL 449.152766 68.256913 \r\nL 449.469218 68.256913 \r\nL 449.78567 69.559179 \r\nL 450.735027 69.522064 \r\nL 451.051479 68.458715 \r\nL 451.367931 74.03484 \r\nL 451.684383 68.775042 \r\nL 452.000835 71.295842 \r\nL 453.266644 77.277049 \r\nL 453.583096 77.614977 \r\nL 454.216 72.452184 \r\nL 455.165356 71.604405 \r\nL 455.481808 73.630859 \r\nL 455.79826 73.630859 \r\nL 456.114712 74.731573 \r\nL 456.431165 78.196572 \r\nL 457.380521 79.543503 \r\nL 457.696973 79.422358 \r\nL 458.013425 79.745078 \r\nL 458.329877 83.866071 \r\nL 458.646329 83.866071 \r\nL 459.595686 84.381265 \r\nL 459.912138 87.184091 \r\nL 460.22859 87.184091 \r\nL 460.545042 83.448688 \r\nL 462.443755 82.217269 \r\nL 462.760207 79.454253 \r\nL 463.076659 79.520397 \r\nL 464.026015 79.915445 \r\nL 464.342467 81.98163 \r\nL 464.975371 81.98163 \r\nL 465.291824 83.845194 \r\nL 466.24118 73.567549 \r\nL 466.557632 75.352641 \r\nL 466.874084 75.352641 \r\nL 467.190536 77.149044 \r\nL 467.506988 77.424939 \r\nL 468.772797 77.424939 \r\nL 469.089249 77.692929 \r\nL 469.405701 76.798791 \r\nL 469.722153 76.769091 \r\nL 470.671509 78.95577 \r\nL 470.987961 77.062977 \r\nL 471.304414 77.062977 \r\nL 471.620866 80.813308 \r\nL 471.937318 80.426279 \r\nL 472.886674 90.576606 \r\nL 473.203126 91.349652 \r\nL 473.519578 91.349652 \r\nL 473.83603 94.052631 \r\nL 474.152483 92.700438 \r\nL 475.101839 92.700438 \r\nL 475.418291 94.060503 \r\nL 476.367647 94.192838 \r\nL 477.317004 96.15901 \r\nL 477.949908 96.15901 \r\nL 479.532168 94.179089 \r\nL 479.84862 94.179089 \r\nL 480.165073 94.73107 \r\nL 480.481525 93.579484 \r\nL 480.797977 94.177181 \r\nL 482.063785 86.025356 \r\nL 482.380237 85.227316 \r\nL 482.696689 85.227316 \r\nL 483.013142 84.533763 \r\nL 484.27895 84.789641 \r\nL 484.595402 86.054185 \r\nL 484.911854 86.054185 \r\nL 485.228306 86.318467 \r\nL 486.177663 86.352086 \r\nL 486.494115 81.366668 \r\nL 486.810567 82.841806 \r\nL 487.127019 82.841806 \r\nL 487.443471 78.39062 \r\nL 488.709279 78.112517 \r\nL 489.025732 78.717628 \r\nL 489.342184 78.232532 \r\nL 489.658636 78.232532 \r\nL 490.607992 77.946909 \r\nL 490.924444 78.430446 \r\nL 491.557348 78.430446 \r\nL 491.873801 76.163872 \r\nL 492.823157 76.320544 \r\nL 493.456061 79.394207 \r\nL 493.772513 79.556273 \r\nL 494.088965 80.171968 \r\nL 495.354774 80.171968 \r\nL 495.671226 81.051779 \r\nL 497.253486 81.051779 \r\nL 497.569938 80.68913 \r\nL 498.202843 80.68913 \r\nL 498.519295 80.369539 \r\nL 499.468651 82.594586 \r\nL 499.785103 82.841045 \r\nL 500.101555 85.124873 \r\nL 500.418007 82.227244 \r\nL 500.73446 81.254813 \r\nL 501.683816 81.254813 \r\nL 502.000268 80.898084 \r\nL 502.31672 78.9412 \r\nL 502.949624 78.742333 \r\nL 504.215433 78.720837 \r\nL 504.531885 71.238635 \r\nL 505.164789 71.238635 \r\nL 506.114145 70.417406 \r\nL 508.32931 70.417406 \r\nL 508.645762 69.741313 \r\nL 508.962214 69.616044 \r\nL 511.810283 63.406967 \r\nL 513.076092 63.406967 \r\nL 513.392544 63.183201 \r\nL 514.025448 63.249593 \r\nL 514.974804 64.524691 \r\nL 516.240613 64.490351 \r\nL 517.189969 62.321015 \r\nL 517.822873 62.426278 \r\nL 518.139325 63.563047 \r\nL 520.35449 63.563047 \r\nL 520.670942 65.48038 \r\nL 522.253203 64.796118 \r\nL 522.569655 64.796118 \r\nL 522.886107 64.644183 \r\nL 524.151915 64.422196 \r\nL 524.78482 64.422196 \r\nL 525.101272 67.011949 \r\nL 526.050628 59.895014 \r\nL 527.316437 59.895014 \r\nL 528.265793 61.386548 \r\nL 528.898697 61.386548 \r\nL 529.215149 61.606433 \r\nL 529.531601 60.420166 \r\nL 530.480958 66.012917 \r\nL 530.79741 65.725773 \r\nL 531.113862 71.67609 \r\nL 531.430314 71.67609 \r\nL 531.746766 69.957155 \r\nL 533.329027 70.792548 \r\nL 533.645479 70.792548 \r\nL 533.961931 72.629898 \r\nL 535.227739 54.021413 \r\nL 535.544191 65.579964 \r\nL 535.860643 65.327103 \r\nL 536.177096 64.811059 \r\nL 537.126452 62.355522 \r\nL 537.442904 53.196164 \r\nL 538.075808 53.196164 \r\nL 539.341617 58.943369 \r\nL 539.658069 59.503421 \r\nL 540.290973 59.503421 \r\nL 540.607425 60.085668 \r\nL 541.556781 59.719208 \r\nL 541.873233 60.112582 \r\nL 542.506138 61.89157 \r\nL 542.82259 61.89157 \r\nL 544.088398 66.096399 \r\nL 544.40485 69.317478 \r\nL 544.721302 69.330498 \r\nL 545.037754 68.82695 \r\nL 545.987111 68.82695 \r\nL 546.303563 68.000761 \r\nL 546.620015 68.000761 \r\nL 546.936467 67.860287 \r\nL 547.252919 68.252315 \r\nL 548.518728 68.427343 \r\nL 548.83518 68.427343 \r\nL 549.151632 68.056441 \r\nL 549.468084 68.965536 \r\nL 550.41744 68.965536 \r\nL 550.733892 68.803773 \r\nL 551.050345 68.803773 \r\nL 553.581961 64.837802 \r\nL 553.898413 65.222817 \r\nL 554.84777 69.769343 \r\nL 555.480674 69.769343 \r\nL 555.797126 70.974313 \r\nL 556.113578 74.043999 \r\nL 557.062935 74.043999 \r\nL 557.379387 76.346105 \r\nL 558.012291 72.409911 \r\nL 558.328743 67.625177 \r\nL 559.278099 75.706078 \r\nL 559.594551 75.560273 \r\nL 559.911004 77.090493 \r\nL 560.227456 77.152711 \r\nL 560.543908 73.399271 \r\nL 561.493264 73.360704 \r\nL 561.809716 70.684382 \r\nL 562.44262 70.684382 \r\nL 562.759072 70.330646 \r\nL 563.708429 67.630422 \r\nL 564.974237 67.630422 \r\nL 565.923594 69.70801 \r\nL 566.240046 69.70801 \r\nL 566.556498 81.153173 \r\nL 567.189402 81.17801 \r\nL 568.45521 81.17801 \r\nL 568.771663 83.54919 \r\nL 569.088115 83.801998 \r\nL 569.404567 83.801998 \r\nL 570.353923 85.071558 \r\nL 571.303279 85.071558 \r\nL 571.619731 81.376049 \r\nL 572.569088 81.024744 \r\nL 572.88554 74.353456 \r\nL 573.201992 71.350327 \r\nL 573.834896 71.350327 \r\nL 574.784253 72.754399 \r\nL 575.100705 72.933481 \r\nL 575.417157 71.974377 \r\nL 575.733609 71.974377 \r\nL 576.050061 72.113736 \r\nL 577.948774 33.898295 \r\nL 578.265226 43.124547 \r\nL 580.48039 70.445398 \r\nL 581.429747 78.467923 \r\nL 581.746199 78.467923 \r\nL 582.062651 70.624653 \r\nL 582.379103 48.838684 \r\nL 582.695555 48.838684 \r\nL 583.644912 50.255432 \r\nL 583.961364 50.255432 \r\nL 583.961364 50.255432 \r\n\" style=\"fill:none;stroke:#ff0000;stroke-linecap:square;stroke-width:1.5;\"/>\r\n   </g>\r\n   <g id=\"patch_3\">\r\n    <path d=\"M 51.325 293.34375 \r\nL 51.325 21.54375 \r\n\" style=\"fill:none;stroke:#000000;stroke-linecap:square;stroke-linejoin:miter;stroke-width:0.8;\"/>\r\n   </g>\r\n   <g id=\"patch_4\">\r\n    <path d=\"M 609.325 293.34375 \r\nL 609.325 21.54375 \r\n\" style=\"fill:none;stroke:#000000;stroke-linecap:square;stroke-linejoin:miter;stroke-width:0.8;\"/>\r\n   </g>\r\n   <g id=\"patch_5\">\r\n    <path d=\"M 51.325 293.34375 \r\nL 609.325 293.34375 \r\n\" style=\"fill:none;stroke:#000000;stroke-linecap:square;stroke-linejoin:miter;stroke-width:0.8;\"/>\r\n   </g>\r\n   <g id=\"patch_6\">\r\n    <path d=\"M 51.325 21.54375 \r\nL 609.325 21.54375 \r\n\" style=\"fill:none;stroke:#000000;stroke-linecap:square;stroke-linejoin:miter;stroke-width:0.8;\"/>\r\n   </g>\r\n   <g id=\"text_22\">\r\n    <!-- portfolio -->\r\n    <g transform=\"translate(303.325 15.54375)scale(0.12 -0.12)\">\r\n     <defs>\r\n      <path d=\"M 2925 1525 \r\nQ 2925 875 2525 475 \r\nQ 2125 75 1575 75 \r\nQ 1025 75 625 475 \r\nQ 225 875 225 1525 \r\nQ 225 2175 625 2575 \r\nQ 1025 2975 1575 2975 \r\nQ 2125 2975 2525 2575 \r\nQ 2925 2175 2925 1525 \r\nz\r\nM 2375 1525 \r\nQ 2375 2025 2125 2275 \r\nQ 1875 2525 1575 2525 \r\nQ 1275 2525 1025 2275 \r\nQ 775 2025 775 1525 \r\nQ 775 1025 1025 775 \r\nQ 1275 525 1575 525 \r\nQ 1875 525 2125 775 \r\nQ 2375 1025 2375 1525 \r\nz\r\n\" id=\"SimHei-6f\" transform=\"scale(0.015625)\"/>\r\n      <path d=\"M 2500 2425 \r\nQ 2025 2500 1700 2287 \r\nQ 1375 2075 1150 1550 \r\nL 1150 125 \r\nL 650 125 \r\nL 650 2925 \r\nL 1150 2925 \r\nL 1150 2200 \r\nQ 1375 2600 1712 2787 \r\nQ 2050 2975 2500 2975 \r\nL 2500 2425 \r\nz\r\n\" id=\"SimHei-72\" transform=\"scale(0.015625)\"/>\r\n      <path d=\"M 2850 3825 \r\nQ 2725 3900 2550 3950 \r\nQ 2375 4000 2100 4000 \r\nQ 1825 4000 1725 3862 \r\nQ 1625 3725 1625 3525 \r\nL 1625 2925 \r\nL 2650 2925 \r\nL 2650 2525 \r\nL 1625 2525 \r\nL 1625 125 \r\nL 1125 125 \r\nL 1125 2525 \r\nL 275 2525 \r\nL 275 2925 \r\nL 1125 2925 \r\nL 1125 3500 \r\nQ 1125 3950 1400 4200 \r\nQ 1675 4450 2125 4450 \r\nQ 2400 4450 2562 4412 \r\nQ 2725 4375 2850 4325 \r\nL 2850 3825 \r\nz\r\n\" id=\"SimHei-66\" transform=\"scale(0.015625)\"/>\r\n      <path d=\"M 1800 3725 \r\nL 1300 3725 \r\nL 1300 4375 \r\nL 1800 4375 \r\nL 1800 3725 \r\nz\r\nM 1800 125 \r\nL 1300 125 \r\nL 1300 2925 \r\nL 1800 2925 \r\nL 1800 125 \r\nz\r\n\" id=\"SimHei-69\" transform=\"scale(0.015625)\"/>\r\n     </defs>\r\n     <use xlink:href=\"#SimHei-70\"/>\r\n     <use x=\"50\" xlink:href=\"#SimHei-6f\"/>\r\n     <use x=\"100\" xlink:href=\"#SimHei-72\"/>\r\n     <use x=\"150\" xlink:href=\"#SimHei-74\"/>\r\n     <use x=\"200\" xlink:href=\"#SimHei-66\"/>\r\n     <use x=\"250\" xlink:href=\"#SimHei-6f\"/>\r\n     <use x=\"300\" xlink:href=\"#SimHei-6c\"/>\r\n     <use x=\"350\" xlink:href=\"#SimHei-69\"/>\r\n     <use x=\"400\" xlink:href=\"#SimHei-6f\"/>\r\n    </g>\r\n   </g>\r\n  </g>\r\n </g>\r\n <defs>\r\n  <clipPath id=\"p8ecf364d28\">\r\n   <rect height=\"271.8\" width=\"558\" x=\"51.325\" y=\"21.54375\"/>\r\n  </clipPath>\r\n </defs>\r\n</svg>\r\n",
      "text/plain": [
       "<Figure size 720x360 with 1 Axes>"
      ]
     },
     "metadata": {
      "needs_background": "light"
     },
     "output_type": "display_data"
    }
   ],
   "source": [
    "i = 0\n",
    "strat = \"elastic.002.4096\"\n",
    "test_all_pnl = np.zeros([sum(test_sample), len(product_list)])\n",
    "train_all_pnl = np.zeros([sum(train_sample), len(product_list)])\n",
    "min_pnl = 2\n",
    "min_num = 10\n",
    "for product in product_list:\n",
    "    spread = product_info[product][\"spread\"]\n",
    "    signal_stat = load(HEAD_PATH+\"\\\\signal_result_atr\\\\\"+product+\".\"+strat+\".trend.pkl\")\n",
    "    train_stat = signal_stat[\"train.stat\"]\n",
    "    good_strat = (train_stat[\"final.result\"][\"avg.pnl\"]>min_pnl*spread) & (train_stat[\"final.result\"][\"num\"]>min_num)\n",
    "    train_pnl = train_stat[\"daily.ret\"].loc[:, good_strat].sum(axis=1)/sum(good_strat)\n",
    "    test_stat = signal_stat[\"test.stat\"]\n",
    "    test_pnl = test_stat[\"daily.ret\"].loc[:, good_strat].sum(axis=1)/sum(good_strat)\n",
    "    print(product, \"train sharpe \", sharpe(train_pnl), \"test sharpe \", sharpe(test_pnl))\n",
    "    test_all_pnl[:,i] = test_pnl\n",
    "    train_all_pnl[:,i] = train_pnl\n",
    "    i = i+1\n",
    "train_portfolio = np.array(np.mean(train_all_pnl, axis=1))\n",
    "test_portfolio = np.array(np.mean(test_all_pnl, axis=1))\n",
    "all_portfolio = np.append(train_portfolio, test_portfolio)\n",
    "plt.figure(1, figsize=(10, 5))\n",
    "plt.title(\"\")\n",
    "plt.xlabel(\"date\")\n",
    "plt.ylabel(\"pnl\")\n",
    "plt.title(\"portfolio\")\n",
    "plt.plot(format_dates, all_portfolio.cumsum(), color=\"b\")\n",
    "plt.plot(format_dates[test_sample], all_portfolio.cumsum()[test_sample], color=\"r\")\n",
    "print(\"train sharpe: \", sharpe(train_portfolio), \"test sharpe: \", sharpe(test_portfolio))  "
   ]
  },
  {
   "cell_type": "code",
   "execution_count": 51,
   "metadata": {},
   "outputs": [],
   "source": [
    "os.makedirs(HEAD_PATH + \"\\\\coefficients\", exist_ok=True)\n",
    "for product in product_list:\n",
    "    file_name = HEAD_PATH + \"\\\\coefficients\\\\\"+product+\".signal.txt\"\n",
    "    fo = open(file_name, \"w\")\n",
    "    fo.writelines(\"signal coef\\n\")\n",
    "    chosen_signal = coef_list[product]!=0\n",
    "    for i in np.where(chosen_signal)[0]:\n",
    "        fo.writelines(signal_list[i]+\" \"+str(coef_list[product][i])+\"\\n\")\n",
    "    fo.close()"
   ]
  },
  {
   "cell_type": "code",
   "execution_count": 56,
   "metadata": {},
   "outputs": [
    {
     "data": {
      "text/plain": [
       "{'rb': array([-0.00000000e+00, -0.00000000e+00,  1.32095242e-02, -0.00000000e+00,\n",
       "        -0.00000000e+00,  0.00000000e+00, -0.00000000e+00,  0.00000000e+00,\n",
       "         4.64649176e-06, -0.00000000e+00, -7.21537651e-05,  0.00000000e+00,\n",
       "        -8.08976176e-05, -0.00000000e+00, -0.00000000e+00, -0.00000000e+00,\n",
       "         0.00000000e+00,  0.00000000e+00, -0.00000000e+00, -1.35655604e-05,\n",
       "         0.00000000e+00, -0.00000000e+00, -0.00000000e+00, -0.00000000e+00,\n",
       "        -0.00000000e+00,  0.00000000e+00,  0.00000000e+00, -0.00000000e+00,\n",
       "        -0.00000000e+00,  0.00000000e+00, -1.65484122e-02, -7.60793758e-03,\n",
       "         0.00000000e+00, -0.00000000e+00,  0.00000000e+00,  0.00000000e+00,\n",
       "         0.00000000e+00, -0.00000000e+00,  0.00000000e+00, -6.15747898e-04,\n",
       "        -3.25018414e-03,  6.23433890e-04, -0.00000000e+00,  0.00000000e+00,\n",
       "         0.00000000e+00]),\n",
       " 'hc': array([-0.00000000e+00, -0.00000000e+00,  2.82008817e-03, -5.18417920e-03,\n",
       "        -0.00000000e+00,  1.62391583e-04,  0.00000000e+00,  5.23665551e-05,\n",
       "        -0.00000000e+00, -0.00000000e+00, -4.88401539e-05,  0.00000000e+00,\n",
       "         0.00000000e+00, -6.52113068e-05,  0.00000000e+00,  8.60427504e-04,\n",
       "         0.00000000e+00, -0.00000000e+00, -0.00000000e+00, -0.00000000e+00,\n",
       "         0.00000000e+00,  0.00000000e+00, -0.00000000e+00,  0.00000000e+00,\n",
       "        -0.00000000e+00,  0.00000000e+00, -0.00000000e+00, -0.00000000e+00,\n",
       "        -0.00000000e+00,  0.00000000e+00, -0.00000000e+00, -0.00000000e+00,\n",
       "         0.00000000e+00, -0.00000000e+00,  0.00000000e+00, -0.00000000e+00,\n",
       "        -0.00000000e+00, -0.00000000e+00,  0.00000000e+00, -0.00000000e+00,\n",
       "        -0.00000000e+00,  5.48735510e-04,  0.00000000e+00,  0.00000000e+00,\n",
       "        -0.00000000e+00]),\n",
       " 'i': array([ 2.62485161e-03, -2.35091926e-03,  0.00000000e+00,  0.00000000e+00,\n",
       "        -0.00000000e+00,  6.21543376e-04, -0.00000000e+00, -0.00000000e+00,\n",
       "        -0.00000000e+00,  0.00000000e+00,  0.00000000e+00,  7.65371155e-04,\n",
       "        -0.00000000e+00, -0.00000000e+00, -0.00000000e+00, -0.00000000e+00,\n",
       "         8.39754393e-06,  0.00000000e+00, -0.00000000e+00,  1.45687553e-04,\n",
       "         0.00000000e+00, -7.34524109e-04, -0.00000000e+00, -0.00000000e+00,\n",
       "        -0.00000000e+00,  0.00000000e+00, -0.00000000e+00,  0.00000000e+00,\n",
       "         0.00000000e+00,  0.00000000e+00,  0.00000000e+00, -0.00000000e+00,\n",
       "        -0.00000000e+00, -1.85621432e-01, -0.00000000e+00, -1.12003896e-03,\n",
       "         5.61679075e-05,  0.00000000e+00,  3.28510084e-03,  7.00489780e-04,\n",
       "        -2.68667288e-03,  1.26036800e-04,  0.00000000e+00,  3.98425175e-04,\n",
       "        -0.00000000e+00]),\n",
       " 'j': array([-0.00000000e+00,  0.00000000e+00,  0.00000000e+00, -3.75920626e-03,\n",
       "        -0.00000000e+00,  7.81448253e-04, -0.00000000e+00,  0.00000000e+00,\n",
       "        -0.00000000e+00, -6.60427216e-05, -0.00000000e+00, -0.00000000e+00,\n",
       "        -0.00000000e+00, -0.00000000e+00, -0.00000000e+00, -0.00000000e+00,\n",
       "         0.00000000e+00, -0.00000000e+00, -1.02933240e-04, -0.00000000e+00,\n",
       "        -0.00000000e+00, -0.00000000e+00, -0.00000000e+00,  0.00000000e+00,\n",
       "         0.00000000e+00,  0.00000000e+00,  0.00000000e+00, -0.00000000e+00,\n",
       "        -0.00000000e+00, -0.00000000e+00, -0.00000000e+00, -3.78102043e-03,\n",
       "        -0.00000000e+00, -0.00000000e+00,  0.00000000e+00, -0.00000000e+00,\n",
       "        -0.00000000e+00,  0.00000000e+00, -0.00000000e+00, -0.00000000e+00,\n",
       "        -0.00000000e+00,  0.00000000e+00, -0.00000000e+00,  0.00000000e+00,\n",
       "        -0.00000000e+00]),\n",
       " 'jm': array([-0.00000000e+00, -0.00000000e+00, -0.00000000e+00, -0.00000000e+00,\n",
       "        -0.00000000e+00, -0.00000000e+00, -0.00000000e+00, -0.00000000e+00,\n",
       "        -0.00000000e+00, -0.00000000e+00, -0.00000000e+00,  0.00000000e+00,\n",
       "        -0.00000000e+00, -0.00000000e+00, -0.00000000e+00, -0.00000000e+00,\n",
       "        -0.00000000e+00, -0.00000000e+00, -0.00000000e+00, -0.00000000e+00,\n",
       "        -0.00000000e+00, -0.00000000e+00, -0.00000000e+00, -0.00000000e+00,\n",
       "        -0.00000000e+00, -0.00000000e+00, -0.00000000e+00, -0.00000000e+00,\n",
       "        -0.00000000e+00, -0.00000000e+00, -0.00000000e+00, -0.00000000e+00,\n",
       "        -0.00000000e+00, -0.00000000e+00, -0.00000000e+00, -0.00000000e+00,\n",
       "        -4.41447811e-18, -0.00000000e+00, -0.00000000e+00, -0.00000000e+00,\n",
       "        -0.00000000e+00, -0.00000000e+00, -0.00000000e+00, -0.00000000e+00,\n",
       "        -0.00000000e+00])}"
      ]
     },
     "execution_count": 56,
     "metadata": {},
     "output_type": "execute_result"
    }
   ],
   "source": [
    "coef_list"
   ]
  },
  {
   "cell_type": "code",
   "execution_count": 61,
   "metadata": {},
   "outputs": [
    {
     "name": "stdout",
     "output_type": "stream",
     "text": [
      "[False False  True False False False False False  True False  True False\n",
      "  True False False False False False False  True False False False False\n",
      " False False False False False False  True  True False False False False\n",
      " False False False  True  True  True False False False]\n",
      "[False False  True  True False  True False  True False False  True False\n",
      " False  True False  True False False False False False False False False\n",
      " False False False False False False False False False False False False\n",
      " False False False False False  True False False False]\n",
      "[ True  True False False False  True False False False False False  True\n",
      " False False False False  True False False  True False  True False False\n",
      " False False False False False False False False False  True False  True\n",
      "  True False  True  True  True  True False  True False]\n",
      "[False False False  True False  True False False False  True False False\n",
      " False False False False False False  True False False False False False\n",
      " False False False False False False False  True False False False False\n",
      " False False False False False False False False False]\n",
      "[False False False False False False False False False False False False\n",
      " False False False False False False False False False False False False\n",
      " False False False False False False False False False False False False\n",
      "  True False False False False False False False False]\n"
     ]
    }
   ],
   "source": [
    "# confirm with the signals chosen in the regularized model for each commodity\n",
    "for product in product_list:\n",
    "    chosen_signal = coef_list[product]!=0\n",
    "    print(chosen_signal)"
   ]
  },
  {
   "cell_type": "code",
   "execution_count": 57,
   "metadata": {},
   "outputs": [
    {
     "name": "stdout",
     "output_type": "stream",
     "text": [
      "[-0.00000000e+00 -0.00000000e+00  1.32095242e-02 -0.00000000e+00\n",
      " -0.00000000e+00  0.00000000e+00 -0.00000000e+00  0.00000000e+00\n",
      "  4.64649176e-06 -0.00000000e+00 -7.21537651e-05  0.00000000e+00\n",
      " -8.08976176e-05 -0.00000000e+00 -0.00000000e+00 -0.00000000e+00\n",
      "  0.00000000e+00  0.00000000e+00 -0.00000000e+00 -1.35655604e-05\n",
      "  0.00000000e+00 -0.00000000e+00 -0.00000000e+00 -0.00000000e+00\n",
      " -0.00000000e+00  0.00000000e+00  0.00000000e+00 -0.00000000e+00\n",
      " -0.00000000e+00  0.00000000e+00 -1.65484122e-02 -7.60793758e-03\n",
      "  0.00000000e+00 -0.00000000e+00  0.00000000e+00  0.00000000e+00\n",
      "  0.00000000e+00 -0.00000000e+00  0.00000000e+00 -6.15747898e-04\n",
      " -3.25018414e-03  6.23433890e-04 -0.00000000e+00  0.00000000e+00\n",
      "  0.00000000e+00]\n",
      "[-0.00000000e+00 -0.00000000e+00  2.82008817e-03 -5.18417920e-03\n",
      " -0.00000000e+00  1.62391583e-04  0.00000000e+00  5.23665551e-05\n",
      " -0.00000000e+00 -0.00000000e+00 -4.88401539e-05  0.00000000e+00\n",
      "  0.00000000e+00 -6.52113068e-05  0.00000000e+00  8.60427504e-04\n",
      "  0.00000000e+00 -0.00000000e+00 -0.00000000e+00 -0.00000000e+00\n",
      "  0.00000000e+00  0.00000000e+00 -0.00000000e+00  0.00000000e+00\n",
      " -0.00000000e+00  0.00000000e+00 -0.00000000e+00 -0.00000000e+00\n",
      " -0.00000000e+00  0.00000000e+00 -0.00000000e+00 -0.00000000e+00\n",
      "  0.00000000e+00 -0.00000000e+00  0.00000000e+00 -0.00000000e+00\n",
      " -0.00000000e+00 -0.00000000e+00  0.00000000e+00 -0.00000000e+00\n",
      " -0.00000000e+00  5.48735510e-04  0.00000000e+00  0.00000000e+00\n",
      " -0.00000000e+00]\n",
      "[ 2.62485161e-03 -2.35091926e-03  0.00000000e+00  0.00000000e+00\n",
      " -0.00000000e+00  6.21543376e-04 -0.00000000e+00 -0.00000000e+00\n",
      " -0.00000000e+00  0.00000000e+00  0.00000000e+00  7.65371155e-04\n",
      " -0.00000000e+00 -0.00000000e+00 -0.00000000e+00 -0.00000000e+00\n",
      "  8.39754393e-06  0.00000000e+00 -0.00000000e+00  1.45687553e-04\n",
      "  0.00000000e+00 -7.34524109e-04 -0.00000000e+00 -0.00000000e+00\n",
      " -0.00000000e+00  0.00000000e+00 -0.00000000e+00  0.00000000e+00\n",
      "  0.00000000e+00  0.00000000e+00  0.00000000e+00 -0.00000000e+00\n",
      " -0.00000000e+00 -1.85621432e-01 -0.00000000e+00 -1.12003896e-03\n",
      "  5.61679075e-05  0.00000000e+00  3.28510084e-03  7.00489780e-04\n",
      " -2.68667288e-03  1.26036800e-04  0.00000000e+00  3.98425175e-04\n",
      " -0.00000000e+00]\n",
      "[-0.00000000e+00  0.00000000e+00  0.00000000e+00 -3.75920626e-03\n",
      " -0.00000000e+00  7.81448253e-04 -0.00000000e+00  0.00000000e+00\n",
      " -0.00000000e+00 -6.60427216e-05 -0.00000000e+00 -0.00000000e+00\n",
      " -0.00000000e+00 -0.00000000e+00 -0.00000000e+00 -0.00000000e+00\n",
      "  0.00000000e+00 -0.00000000e+00 -1.02933240e-04 -0.00000000e+00\n",
      " -0.00000000e+00 -0.00000000e+00 -0.00000000e+00  0.00000000e+00\n",
      "  0.00000000e+00  0.00000000e+00  0.00000000e+00 -0.00000000e+00\n",
      " -0.00000000e+00 -0.00000000e+00 -0.00000000e+00 -3.78102043e-03\n",
      " -0.00000000e+00 -0.00000000e+00  0.00000000e+00 -0.00000000e+00\n",
      " -0.00000000e+00  0.00000000e+00 -0.00000000e+00 -0.00000000e+00\n",
      " -0.00000000e+00  0.00000000e+00 -0.00000000e+00  0.00000000e+00\n",
      " -0.00000000e+00]\n",
      "[-0.00000000e+00 -0.00000000e+00 -0.00000000e+00 -0.00000000e+00\n",
      " -0.00000000e+00 -0.00000000e+00 -0.00000000e+00 -0.00000000e+00\n",
      " -0.00000000e+00 -0.00000000e+00 -0.00000000e+00  0.00000000e+00\n",
      " -0.00000000e+00 -0.00000000e+00 -0.00000000e+00 -0.00000000e+00\n",
      " -0.00000000e+00 -0.00000000e+00 -0.00000000e+00 -0.00000000e+00\n",
      " -0.00000000e+00 -0.00000000e+00 -0.00000000e+00 -0.00000000e+00\n",
      " -0.00000000e+00 -0.00000000e+00 -0.00000000e+00 -0.00000000e+00\n",
      " -0.00000000e+00 -0.00000000e+00 -0.00000000e+00 -0.00000000e+00\n",
      " -0.00000000e+00 -0.00000000e+00 -0.00000000e+00 -0.00000000e+00\n",
      " -4.41447811e-18 -0.00000000e+00 -0.00000000e+00 -0.00000000e+00\n",
      " -0.00000000e+00 -0.00000000e+00 -0.00000000e+00 -0.00000000e+00\n",
      " -0.00000000e+00]\n"
     ]
    }
   ],
   "source": [
    "for product in product_list:\n",
    "    print(coef_list[product])"
   ]
  },
  {
   "cell_type": "code",
   "execution_count": null,
   "metadata": {},
   "outputs": [],
   "source": []
  }
 ],
 "metadata": {
  "interpreter": {
   "hash": "6f5583cf1d9466b5c27e75c89cc6b383bed5736d6b16c51c8074d8690011a952"
  },
  "kernelspec": {
   "display_name": "Python 3.9.7 ('base')",
   "language": "python",
   "name": "python3"
  },
  "language_info": {
   "codemirror_mode": {
    "name": "ipython",
    "version": 3
   },
   "file_extension": ".py",
   "mimetype": "text/x-python",
   "name": "python",
   "nbconvert_exporter": "python",
   "pygments_lexer": "ipython3",
   "version": "3.9.7"
  },
  "orig_nbformat": 4
 },
 "nbformat": 4,
 "nbformat_minor": 2
}
