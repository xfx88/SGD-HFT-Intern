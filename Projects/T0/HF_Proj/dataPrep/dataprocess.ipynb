{
 "cells": [
  {
   "cell_type": "code",
   "execution_count": 1,
   "id": "ab189576-e8ef-4751-869b-c8ef7d82d34e",
   "metadata": {},
   "outputs": [],
   "source": [
    "import os\n",
    "import pandas as pd\n",
    "import numpy as np"
   ]
  },
  {
   "cell_type": "code",
   "execution_count": 2,
   "id": "30e1c427-305f-4ba8-86d5-9e7b3d1c260b",
   "metadata": {},
   "outputs": [],
   "source": [
    "abs_path = '/home/yby/YBY/HF_Proj/LOB-master/lob_modeling/LOB_data/' + '2020.9'"
   ]
  },
  {
   "cell_type": "code",
   "execution_count": 3,
   "id": "ee253a90-dca7-4712-a4d0-9ce72fbf1ea3",
   "metadata": {},
   "outputs": [
    {
     "data": {
      "text/plain": [
       "['002185_lobXY.csv',\n",
       " '000066_lobXY.csv',\n",
       " '002340_lobXY.csv',\n",
       " '000001_lobXY.csv',\n",
       " '300088_lobXY.csv',\n",
       " '000425_lobXY.csv',\n",
       " '000750_lobXY.csv',\n",
       " '000413_lobXY.csv',\n",
       " '002600_lobXY.csv',\n",
       " '002027_lobXY.csv',\n",
       " '002797_lobXY.csv',\n",
       " '000063_lobXY.csv',\n",
       " '000629_lobXY.csv',\n",
       " '002195_lobXY.csv',\n",
       " '300059_lobXY.csv',\n",
       " '000100_lobXY.csv',\n",
       " '002385_lobXY.csv',\n",
       " '000725_lobXY.csv',\n",
       " '002456_lobXY.csv',\n",
       " '002131_lobXY.csv']"
      ]
     },
     "execution_count": 3,
     "metadata": {},
     "output_type": "execute_result"
    }
   ],
   "source": [
    "os.listdir(abs_path)"
   ]
  },
  {
   "cell_type": "code",
   "execution_count": 4,
   "id": "19eb7160-800e-49c7-9217-95c23f123be0",
   "metadata": {},
   "outputs": [],
   "source": [
    "df = pd.read_csv(abs_path + '/' + '002185_lobXY.csv')"
   ]
  },
  {
   "cell_type": "code",
   "execution_count": 5,
   "id": "a937f0a0-68e5-40c0-a86b-0cba9688eaf2",
   "metadata": {},
   "outputs": [
    {
     "name": "stdout",
     "output_type": "stream",
     "text": [
      "<class 'pandas.core.frame.DataFrame'>\n",
      "RangeIndex: 306239 entries, 0 to 306238\n",
      "Columns: 148 entries, 1598952601000.0 to 2883655\n",
      "dtypes: float64(134), int64(11), object(3)\n",
      "memory usage: 345.8+ MB\n"
     ]
    }
   ],
   "source": [
    "df.info()"
   ]
  },
  {
   "cell_type": "code",
   "execution_count": 9,
   "id": "cb20a7fa",
   "metadata": {},
   "outputs": [
    {
     "data": {
      "text/plain": [
       "Index(['1598952601000.0', '002185.SZ', '158318.0', '51400.0', '67.0',\n",
       "       '158500.0', '158400.0', '158500.0.1', '158100.0', '158300.0',\n",
       "       ...\n",
       "       '84300', '156300', '211000', '266000', '316400', '580700', '1258355',\n",
       "       '1577055', '2012555', '2883655'],\n",
       "      dtype='object', length=148)"
      ]
     },
     "execution_count": 9,
     "metadata": {},
     "output_type": "execute_result"
    }
   ],
   "source": [
    "df.columns"
   ]
  },
  {
   "cell_type": "code",
   "execution_count": null,
   "id": "e91027bb",
   "metadata": {},
   "outputs": [],
   "source": []
  }
 ],
 "metadata": {
  "kernelspec": {
   "display_name": "Python 3.8.13 ('yby')",
   "language": "python",
   "name": "python3"
  },
  "language_info": {
   "codemirror_mode": {
    "name": "ipython",
    "version": 3
   },
   "file_extension": ".py",
   "mimetype": "text/x-python",
   "name": "python",
   "nbconvert_exporter": "python",
   "pygments_lexer": "ipython3",
   "version": "3.8.13"
  },
  "vscode": {
   "interpreter": {
    "hash": "c95fbed52b129232c9ea0f2f91c787ed695e80b66859bc8c4100814e282311dd"
   }
  }
 },
 "nbformat": 4,
 "nbformat_minor": 5
}
