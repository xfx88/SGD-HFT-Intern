{
 "cells": [
  {
   "cell_type": "code",
   "execution_count": 3,
   "id": "8db667f6-77a8-45fd-bdde-5d54832ed806",
   "metadata": {},
   "outputs": [],
   "source": [
    "import xgboost as xgb\n",
    "import numpy as np\n",
    "import pandas as pd\n",
    "import matplotlib.pyplot as plt\n",
    "%matplotlib inline\n",
    "\n",
    "from sklearn.model_selection import train_test_split\n",
    "from xgboost.sklearn import XGBClassifier\n",
    "from xgboost import plot_importance"
   ]
  },
  {
   "cell_type": "code",
   "execution_count": 5,
   "id": "abea9757-69d8-4ad2-9bd5-9ead879c31f9",
   "metadata": {},
   "outputs": [],
   "source": [
    "import utilities as ut"
   ]
  },
  {
   "cell_type": "code",
   "execution_count": 7,
   "id": "5e823520-5da7-4e6f-afe1-686f8544e79f",
   "metadata": {},
   "outputs": [],
   "source": [
    "from sklearn.datasets import load_iris"
   ]
  },
  {
   "cell_type": "code",
   "execution_count": 8,
   "id": "da95f6f6-a3a5-4607-8e70-296bd74d2dfe",
   "metadata": {},
   "outputs": [],
   "source": [
    "iris = load_iris()\n",
    "x, y = iris.data, iris.target"
   ]
  },
  {
   "cell_type": "code",
   "execution_count": 13,
   "id": "41431eca-407e-484d-baba-0a7aefbafd9f",
   "metadata": {},
   "outputs": [
    {
     "data": {
      "text/plain": [
       "array([5.1, 3.5, 1.4, 0.2])"
      ]
     },
     "execution_count": 13,
     "metadata": {},
     "output_type": "execute_result"
    }
   ],
   "source": [
    "x[0]"
   ]
  }
 ],
 "metadata": {
  "kernelspec": {
   "display_name": "Python 3 (ipykernel)",
   "language": "python",
   "name": "python3"
  },
  "language_info": {
   "codemirror_mode": {
    "name": "ipython",
    "version": 3
   },
   "file_extension": ".py",
   "mimetype": "text/x-python",
   "name": "python",
   "nbconvert_exporter": "python",
   "pygments_lexer": "ipython3",
   "version": "3.9.7"
  }
 },
 "nbformat": 4,
 "nbformat_minor": 5
}
