{
 "cells": [
  {
   "cell_type": "code",
   "execution_count": 1,
   "id": "cb62e467-266a-44a4-90a8-06645ff80a7d",
   "metadata": {},
   "outputs": [],
   "source": [
    "import paramiko\n",
    "import pandas as pd\n",
    "import numpy as np\n",
    "import os\n",
    "from collections import defaultdict, namedtuple\n",
    "from label_extractor import label_extractor"
   ]
  },
  {
   "cell_type": "code",
   "execution_count": 4,
   "id": "db59e258-70d9-4497-b10e-7ee9655c10fc",
   "metadata": {},
   "outputs": [],
   "source": [
    "class RemoteSrc:\n",
    "    REMOTE_PATH = \"/sgd-data/data/stock/\"\n",
    "    TEMP = \"/home/yby/YBY/CNN/backtest_temp/\"\n",
    "\n",
    "    def __init__(self):\n",
    "        self._client = paramiko.Transport((\"192.168.1.147\", 22))\n",
    "        self._client.connect(username=\"sgd\", password=\"sgd123\")\n",
    "        self._SFTP = paramiko.SFTPClient.from_transport(self._client)\n",
    "        if not os.path.exists(self.TEMP):\n",
    "            os.mkdir(self.TEMP)\n",
    "\n",
    "        self.dict_stocksPerDay = defaultdict(list)\n",
    "\n",
    "    def get_raw_bars(self, ticker, date):\n",
    "\n",
    "        local_path = f\"{self.TEMP}{ticker}_{date}.csv.gz\"\n",
    "\n",
    "        if not os.path.exists(local_path):\n",
    "            files_currentDay = self._SFTP.listdir(f\"{self.REMOTE_PATH}{date}/tick_csv/\")\n",
    "            if date in self.dict_stocksPerDay.keys():\n",
    "                stocks_currentDay = self.dict_stocksPerDay[date]\n",
    "            else:\n",
    "                stocks_currentDay = [s[:6] for s in files_currentDay]\n",
    "\n",
    "            file_idx = stocks_currentDay.index(ticker)\n",
    "\n",
    "            self._SFTP.get(remotepath=f\"{self.REMOTE_PATH}{date}/tick_csv/{files_currentDay[file_idx]}\",\n",
    "                           localpath=local_path)\n",
    "\n",
    "        data = pd.read_csv(local_path)\n",
    "        data['server_time'] = pd.to_datetime(data.server_time)\n",
    "        data['local_time'] = data['server_time']\n",
    "        data['time'] = data.apply(lambda x: str(x['server_time'].time()), axis = 1)\n",
    "\n",
    "        return data"
   ]
  },
  {
   "cell_type": "code",
   "execution_count": 9,
   "id": "ad0d986f-d685-45c6-8a89-ae5b68d60f00",
   "metadata": {},
   "outputs": [],
   "source": [
    "DATA_PATH = \"/home/yby/YBY/Data_labels\""
   ]
  },
  {
   "cell_type": "code",
   "execution_count": 7,
   "id": "1d5905e0-c790-417e-b1e4-e7912487de4d",
   "metadata": {},
   "outputs": [],
   "source": [
    "class Predict:\n",
    "    def __init__(self):\n",
    "        self.remote_server = RemoteSrc()\n",
    "\n",
    "\n",
    "    def specific_stock(self, stock_id, date):\n",
    "\n",
    "        data = pd.read_pickle(f\"{DATA_PATH}/{stock_id}/{date}.pkl\").fillna('0')\n",
    "        raw_data = self.remote_server.get_raw_bars(ticker = stock_id, date = date).set_index(\"time\")\n",
    "        data.set_index(\"time\", inplace = True)\n",
    "        \n",
    "        res = pd.merge(data, raw_data, how = \"inner\", left_index = True, right_index = True)\n",
    "\n",
    "        return res\n",
    "\n",
    "\n",
    "\n",
    "def query(stock_id, date):\n",
    "    SAVING_PATH = '../Backtest/'\n",
    "    if not os.path.exists(SAVING_PATH):\n",
    "        os.makedirs(SAVING_PATH)\n",
    "    predict = Predict()\n",
    "\n",
    "    stock_bars:pd.DataFrame = predict.specific_stock(stock_id=stock_id, date=date)\n",
    "    return stock_bars"
   ]
  },
  {
   "cell_type": "code",
   "execution_count": 112,
   "id": "4b40a1f6-eb6e-4148-ae1f-783fce98e088",
   "metadata": {},
   "outputs": [],
   "source": [
    "df = query(\"603290\", \"20211101\")"
   ]
  },
  {
   "cell_type": "code",
   "execution_count": 171,
   "id": "57a2f804-39ce-4929-87f6-257ba59c2c3c",
   "metadata": {},
   "outputs": [],
   "source": [
    "df.reset_index(inplace = True)\n",
    "df[\"time\"] = pd.to_datetime(df[\"time\"])\n"
   ]
  },
  {
   "cell_type": "code",
   "execution_count": 174,
   "id": "a99de2b1-99f6-4577-873b-fab532c6be65",
   "metadata": {},
   "outputs": [],
   "source": [
    "df.set_index(\"time\", inplace = True)"
   ]
  },
  {
   "cell_type": "code",
   "execution_count": 175,
   "id": "29e8e86f-f586-45d4-94f7-eb56ceb05922",
   "metadata": {},
   "outputs": [],
   "source": [
    "data = df[[\"vwp\", \"price\", \"volume\"]]"
   ]
  },
  {
   "cell_type": "code",
   "execution_count": 176,
   "id": "8155d489-23d3-473c-9e77-b0aff7e56f69",
   "metadata": {},
   "outputs": [
    {
     "name": "stderr",
     "output_type": "stream",
     "text": [
      "/tmp/ipykernel_1481328/11271596.py:1: SettingWithCopyWarning: \n",
      "A value is trying to be set on a copy of a slice from a DataFrame.\n",
      "Try using .loc[row_indexer,col_indexer] = value instead\n",
      "\n",
      "See the caveats in the documentation: https://pandas.pydata.org/pandas-docs/stable/user_guide/indexing.html#returning-a-view-versus-a-copy\n",
      "  data[\"net_vol\"] = data[\"volume\"].diff()\n"
     ]
    }
   ],
   "source": [
    "data[\"net_vol\"] = data[\"volume\"].diff()"
   ]
  },
  {
   "cell_type": "code",
   "execution_count": null,
   "id": "8757ec4c-0b3b-4a7c-87a9-649417179973",
   "metadata": {},
   "outputs": [],
   "source": [
    "def test_deal_diff(window):\n",
    "    data = df[[\"vwp\", \"price\", \"volume\"]]\n",
    "    data[\"net_volume\"] = data.volume.diff()\n",
    "    data.iloc[0, 3] = data.iloc[0, 2]\n",
    "    data[\"deal\"] = data[\"net_vol\"] * data[\"price\"]\n",
    "    data[\"vwp_hat\"] = data[\"deal\"].rolling(window, closed = \"right\").sum() / data[\"net_vol\"].rolling(window, closed = \"right\").sum()\n",
    "    data[\"deal_diff\"] = data[\"vwp_hat\"] - data[\"]"
   ]
  },
  {
   "cell_type": "code",
   "execution_count": 240,
   "id": "e3669c7c-3abf-48f3-94de-02f91b115596",
   "metadata": {},
   "outputs": [
    {
     "name": "stderr",
     "output_type": "stream",
     "text": [
      "/tmp/ipykernel_1481328/572854824.py:1: SettingWithCopyWarning: \n",
      "A value is trying to be set on a copy of a slice from a DataFrame.\n",
      "Try using .loc[row_indexer,col_indexer] = value instead\n",
      "\n",
      "See the caveats in the documentation: https://pandas.pydata.org/pandas-docs/stable/user_guide/indexing.html#returning-a-view-versus-a-copy\n",
      "  data[\"deal\"] = data[\"net_vol\"] * data[\"price\"]\n",
      "/tmp/ipykernel_1481328/572854824.py:2: SettingWithCopyWarning: \n",
      "A value is trying to be set on a copy of a slice from a DataFrame.\n",
      "Try using .loc[row_indexer,col_indexer] = value instead\n",
      "\n",
      "See the caveats in the documentation: https://pandas.pydata.org/pandas-docs/stable/user_guide/indexing.html#returning-a-view-versus-a-copy\n",
      "  data[\"vwp_hat\"] = data[\"deal\"].rolling(200, closed = \"right\").sum() / data[\"net_vol\"].rolling(200, closed = \"right\").sum()\n"
     ]
    }
   ],
   "source": [
    "data[\"deal\"] = data[\"net_vol\"] * data[\"price\"]\n",
    "data[\"vwp_hat\"] = data[\"deal\"].rolling(200, closed = \"right\").sum() / data[\"net_vol\"].rolling(200, closed = \"right\").sum()"
   ]
  },
  {
   "cell_type": "code",
   "execution_count": 243,
   "id": "437b4224-282a-4e33-abe2-9ecbc1cc7927",
   "metadata": {},
   "outputs": [
    {
     "data": {
      "text/plain": [
       "-41.99051980716713"
      ]
     },
     "execution_count": 243,
     "metadata": {},
     "output_type": "execute_result"
    }
   ],
   "source": [
    "data.mean()[\"deal_diff\"]"
   ]
  },
  {
   "cell_type": "code",
   "execution_count": 222,
   "id": "64031a83-63c6-40ab-a6b5-d7be8846e5d7",
   "metadata": {},
   "outputs": [
    {
     "name": "stderr",
     "output_type": "stream",
     "text": [
      "/tmp/ipykernel_1481328/951073025.py:1: SettingWithCopyWarning: \n",
      "A value is trying to be set on a copy of a slice from a DataFrame.\n",
      "Try using .loc[row_indexer,col_indexer] = value instead\n",
      "\n",
      "See the caveats in the documentation: https://pandas.pydata.org/pandas-docs/stable/user_guide/indexing.html#returning-a-view-versus-a-copy\n",
      "  data[\"vwp_deal\"] = data[\"vwp\"] * data[\"net_vol\"]\n"
     ]
    }
   ],
   "source": [
    "data[\"vwp_deal\"] = data[\"vwp\"] * data[\"net_vol\"]"
   ]
  },
  {
   "cell_type": "code",
   "execution_count": 244,
   "id": "f86b32f8-145a-436d-9446-d97d24195041",
   "metadata": {},
   "outputs": [
    {
     "data": {
      "text/html": [
       "<div>\n",
       "<style scoped>\n",
       "    .dataframe tbody tr th:only-of-type {\n",
       "        vertical-align: middle;\n",
       "    }\n",
       "\n",
       "    .dataframe tbody tr th {\n",
       "        vertical-align: top;\n",
       "    }\n",
       "\n",
       "    .dataframe thead th {\n",
       "        text-align: right;\n",
       "    }\n",
       "</style>\n",
       "<table border=\"1\" class=\"dataframe\">\n",
       "  <thead>\n",
       "    <tr style=\"text-align: right;\">\n",
       "      <th></th>\n",
       "      <th>vwp</th>\n",
       "      <th>price</th>\n",
       "      <th>volume</th>\n",
       "      <th>net_vol</th>\n",
       "      <th>deal</th>\n",
       "      <th>vwp_hat</th>\n",
       "      <th>weight</th>\n",
       "      <th>vwp_deal</th>\n",
       "      <th>deal_diff</th>\n",
       "    </tr>\n",
       "    <tr>\n",
       "      <th>time</th>\n",
       "      <th></th>\n",
       "      <th></th>\n",
       "      <th></th>\n",
       "      <th></th>\n",
       "      <th></th>\n",
       "      <th></th>\n",
       "      <th></th>\n",
       "      <th></th>\n",
       "      <th></th>\n",
       "    </tr>\n",
       "  </thead>\n",
       "  <tbody>\n",
       "    <tr>\n",
       "      <th>2022-06-23 09:30:03</th>\n",
       "      <td>401.096176</td>\n",
       "      <td>400.965</td>\n",
       "      <td>12600</td>\n",
       "      <td>NaN</td>\n",
       "      <td>NaN</td>\n",
       "      <td>NaN</td>\n",
       "      <td>NaN</td>\n",
       "      <td>NaN</td>\n",
       "      <td>NaN</td>\n",
       "    </tr>\n",
       "    <tr>\n",
       "      <th>2022-06-23 09:30:06</th>\n",
       "      <td>401.047632</td>\n",
       "      <td>401.450</td>\n",
       "      <td>16400</td>\n",
       "      <td>3800.0</td>\n",
       "      <td>1525510.0</td>\n",
       "      <td>NaN</td>\n",
       "      <td>3803.812515</td>\n",
       "      <td>1523981.0</td>\n",
       "      <td>1529.0</td>\n",
       "    </tr>\n",
       "    <tr>\n",
       "      <th>2022-06-23 09:30:09</th>\n",
       "      <td>401.244853</td>\n",
       "      <td>401.015</td>\n",
       "      <td>23200</td>\n",
       "      <td>6800.0</td>\n",
       "      <td>2726902.0</td>\n",
       "      <td>NaN</td>\n",
       "      <td>6796.104623</td>\n",
       "      <td>2728465.0</td>\n",
       "      <td>-1563.0</td>\n",
       "    </tr>\n",
       "    <tr>\n",
       "      <th>2022-06-23 09:30:12</th>\n",
       "      <td>400.950000</td>\n",
       "      <td>400.525</td>\n",
       "      <td>26300</td>\n",
       "      <td>3100.0</td>\n",
       "      <td>1241627.5</td>\n",
       "      <td>NaN</td>\n",
       "      <td>3096.714054</td>\n",
       "      <td>1242945.0</td>\n",
       "      <td>-1317.5</td>\n",
       "    </tr>\n",
       "    <tr>\n",
       "      <th>2022-06-23 09:30:15</th>\n",
       "      <td>400.215455</td>\n",
       "      <td>400.035</td>\n",
       "      <td>27400</td>\n",
       "      <td>1100.0</td>\n",
       "      <td>440038.5</td>\n",
       "      <td>NaN</td>\n",
       "      <td>1099.504017</td>\n",
       "      <td>440237.0</td>\n",
       "      <td>-198.5</td>\n",
       "    </tr>\n",
       "    <tr>\n",
       "      <th>...</th>\n",
       "      <td>...</td>\n",
       "      <td>...</td>\n",
       "      <td>...</td>\n",
       "      <td>...</td>\n",
       "      <td>...</td>\n",
       "      <td>...</td>\n",
       "      <td>...</td>\n",
       "      <td>...</td>\n",
       "      <td>...</td>\n",
       "    </tr>\n",
       "    <tr>\n",
       "      <th>2022-06-23 14:56:45</th>\n",
       "      <td>437.690000</td>\n",
       "      <td>437.495</td>\n",
       "      <td>4285050</td>\n",
       "      <td>600.0</td>\n",
       "      <td>262497.0</td>\n",
       "      <td>438.120033</td>\n",
       "      <td>599.732688</td>\n",
       "      <td>262614.0</td>\n",
       "      <td>-117.0</td>\n",
       "    </tr>\n",
       "    <tr>\n",
       "      <th>2022-06-23 14:56:48</th>\n",
       "      <td>437.695000</td>\n",
       "      <td>437.745</td>\n",
       "      <td>4285250</td>\n",
       "      <td>200.0</td>\n",
       "      <td>87549.0</td>\n",
       "      <td>438.116181</td>\n",
       "      <td>200.022847</td>\n",
       "      <td>87539.0</td>\n",
       "      <td>10.0</td>\n",
       "    </tr>\n",
       "    <tr>\n",
       "      <th>2022-06-23 14:56:51</th>\n",
       "      <td>437.495000</td>\n",
       "      <td>437.745</td>\n",
       "      <td>4285650</td>\n",
       "      <td>400.0</td>\n",
       "      <td>175098.0</td>\n",
       "      <td>438.111596</td>\n",
       "      <td>400.228574</td>\n",
       "      <td>174998.0</td>\n",
       "      <td>100.0</td>\n",
       "    </tr>\n",
       "    <tr>\n",
       "      <th>2022-06-23 14:56:54</th>\n",
       "      <td>437.909545</td>\n",
       "      <td>437.605</td>\n",
       "      <td>4287850</td>\n",
       "      <td>2200.0</td>\n",
       "      <td>962731.0</td>\n",
       "      <td>438.099698</td>\n",
       "      <td>2198.470004</td>\n",
       "      <td>963401.0</td>\n",
       "      <td>-670.0</td>\n",
       "    </tr>\n",
       "    <tr>\n",
       "      <th>2022-06-23 14:56:57</th>\n",
       "      <td>437.970000</td>\n",
       "      <td>437.980</td>\n",
       "      <td>4287950</td>\n",
       "      <td>100.0</td>\n",
       "      <td>43798.0</td>\n",
       "      <td>438.098938</td>\n",
       "      <td>100.002283</td>\n",
       "      <td>43797.0</td>\n",
       "      <td>1.0</td>\n",
       "    </tr>\n",
       "  </tbody>\n",
       "</table>\n",
       "<p>4772 rows × 9 columns</p>\n",
       "</div>"
      ],
      "text/plain": [
       "                            vwp    price   volume  net_vol       deal  \\\n",
       "time                                                                    \n",
       "2022-06-23 09:30:03  401.096176  400.965    12600      NaN        NaN   \n",
       "2022-06-23 09:30:06  401.047632  401.450    16400   3800.0  1525510.0   \n",
       "2022-06-23 09:30:09  401.244853  401.015    23200   6800.0  2726902.0   \n",
       "2022-06-23 09:30:12  400.950000  400.525    26300   3100.0  1241627.5   \n",
       "2022-06-23 09:30:15  400.215455  400.035    27400   1100.0   440038.5   \n",
       "...                         ...      ...      ...      ...        ...   \n",
       "2022-06-23 14:56:45  437.690000  437.495  4285050    600.0   262497.0   \n",
       "2022-06-23 14:56:48  437.695000  437.745  4285250    200.0    87549.0   \n",
       "2022-06-23 14:56:51  437.495000  437.745  4285650    400.0   175098.0   \n",
       "2022-06-23 14:56:54  437.909545  437.605  4287850   2200.0   962731.0   \n",
       "2022-06-23 14:56:57  437.970000  437.980  4287950    100.0    43798.0   \n",
       "\n",
       "                        vwp_hat       weight   vwp_deal  deal_diff  \n",
       "time                                                                \n",
       "2022-06-23 09:30:03         NaN          NaN        NaN        NaN  \n",
       "2022-06-23 09:30:06         NaN  3803.812515  1523981.0     1529.0  \n",
       "2022-06-23 09:30:09         NaN  6796.104623  2728465.0    -1563.0  \n",
       "2022-06-23 09:30:12         NaN  3096.714054  1242945.0    -1317.5  \n",
       "2022-06-23 09:30:15         NaN  1099.504017   440237.0     -198.5  \n",
       "...                         ...          ...        ...        ...  \n",
       "2022-06-23 14:56:45  438.120033   599.732688   262614.0     -117.0  \n",
       "2022-06-23 14:56:48  438.116181   200.022847    87539.0       10.0  \n",
       "2022-06-23 14:56:51  438.111596   400.228574   174998.0      100.0  \n",
       "2022-06-23 14:56:54  438.099698  2198.470004   963401.0     -670.0  \n",
       "2022-06-23 14:56:57  438.098938   100.002283    43797.0        1.0  \n",
       "\n",
       "[4772 rows x 9 columns]"
      ]
     },
     "execution_count": 244,
     "metadata": {},
     "output_type": "execute_result"
    }
   ],
   "source": [
    "data"
   ]
  },
  {
   "cell_type": "code",
   "execution_count": 233,
   "id": "0b1956af-454b-4125-96a0-57422d742fe5",
   "metadata": {},
   "outputs": [
    {
     "data": {
      "text/plain": [
       "count      4771.000000\n",
       "mean        -41.990520\n",
       "std        1769.025557\n",
       "min     -105414.500000\n",
       "25%         -21.500000\n",
       "50%           0.000000\n",
       "75%          20.000000\n",
       "max       18056.000000\n",
       "Name: deal_diff, dtype: float64"
      ]
     },
     "execution_count": 233,
     "metadata": {},
     "output_type": "execute_result"
    }
   ],
   "source": [
    "data[\"deal_diff\"].describe()"
   ]
  },
  {
   "cell_type": "code",
   "execution_count": null,
   "id": "f1f6868e-707b-47cc-b0d6-8e445a2744c3",
   "metadata": {},
   "outputs": [],
   "source": [
    "data[\"diff\"]"
   ]
  }
 ],
 "metadata": {
  "kernelspec": {
   "display_name": "Python 3.8.13 ('yby')",
   "language": "python",
   "name": "python3"
  },
  "language_info": {
   "codemirror_mode": {
    "name": "ipython",
    "version": 3
   },
   "file_extension": ".py",
   "mimetype": "text/x-python",
   "name": "python",
   "nbconvert_exporter": "python",
   "pygments_lexer": "ipython3",
   "version": "3.8.13"
  },
  "vscode": {
   "interpreter": {
    "hash": "c95fbed52b129232c9ea0f2f91c787ed695e80b66859bc8c4100814e282311dd"
   }
  }
 },
 "nbformat": 4,
 "nbformat_minor": 5
}
