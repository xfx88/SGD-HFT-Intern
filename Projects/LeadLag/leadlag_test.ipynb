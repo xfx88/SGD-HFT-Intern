{
 "cells": [
  {
   "cell_type": "code",
   "execution_count": 1,
   "metadata": {},
   "outputs": [
    {
     "data": {
      "text/html": [
       "<style>.container{width:100% !important; }</style>"
      ],
      "text/plain": [
       "<IPython.core.display.HTML object>"
      ]
     },
     "metadata": {},
     "output_type": "display_data"
    }
   ],
   "source": [
    "import numpy as np\n",
    "import pandas as pd\n",
    "# import modin.pandas as pd\n",
    "import matplotlib.pyplot as plt\n",
    "import seaborn as sns\n",
    "import statsmodels.api as sm\n",
    "import scipy.stats as stats\n",
    "from datetime import datetime\n",
    "from datetime import timedelta\n",
    "\n",
    "\n",
    "plt.rcParams['font.family'] = ['sans-serif']\n",
    "plt.rcParams['font.sans-serif'] = ['SimHei'] # 用来正常显示中文标签`\n",
    "plt.rcParams['axes.unicode_minus'] = False\n",
    "plt.rcParams['figure.figsize'] = (12,10) #提前设置图片形状大小\n",
    "\n",
    "%config InlineBackend.figure_format = 'svg' \n",
    "\n",
    "%matplotlib inline\n",
    "\n",
    "import warnings\n",
    "warnings.filterwarnings('ignore')  # 忽略一些warnings\n",
    "\n",
    "# # This allows multiple outputs from a single jupyter notebook cell:\n",
    "# from IPython.core.interactiveshell import InteractiveShell\n",
    "# InteractiveShell.ast_node_interactivity = \"all\"\n",
    "\n",
    "from IPython.display import display\n",
    "pd.set_option('expand_frame_repr', False)\n",
    "pd.set_option('display.unicode.ambiguous_as_wide', True)\n",
    "pd.set_option('display.unicode.east_asian_width', True)\n",
    "pd.set_option('display.width', 180)\n",
    "pd.set_option('display.max_columns', None)\n",
    "from IPython.core.display import display, HTML\n",
    "display(HTML(\"<style>.container{width:100% !important; }</style>\"))"
   ]
  },
  {
   "cell_type": "code",
   "execution_count": 2,
   "metadata": {},
   "outputs": [],
   "source": [
    "def normal_corr(x, y, l):\n",
    "    if l > 0:\n",
    "        # x leads y\n",
    "        # calculate the correlation between current x and future y\n",
    "        lag_y = y[l:]\n",
    "        lag_x = x[:-l]\n",
    "    elif l < 0:\n",
    "        # y leads x\n",
    "        # correlation between current y and future x\n",
    "        lag_y = y[:l]\n",
    "        lag_x = x[-l:]\n",
    "    else:\n",
    "        lag_x = x\n",
    "        lag_y = y\n",
    "    var = np.dot(lag_x, lag_y)\n",
    "    corr = var/np.sqrt(np.sum(lag_x**2) * np.sum(lag_y**2))\n",
    "    return corr\n",
    "\n",
    "def prev_tick(df, namex, namey, l):\n",
    "    return normal_corr(df[namex].to_numpy(), df[namey].to_numpy(), l)    "
   ]
  },
  {
   "cell_type": "code",
   "execution_count": 3,
   "metadata": {},
   "outputs": [],
   "source": [
    "# HY estimator\n",
    "def hy_corr(dfx, dfy, lag, choice='lead'):\n",
    "    dfy = dfy.copy()\n",
    "    \"\"\"\n",
    "    lag: should be a datetime.timedelta object\n",
    "    lag > 0 means X leads Y\n",
    "    \"\"\"\n",
    "    if choice=='lead': \n",
    "        dfy['server_time'] -= lag \n",
    "        \n",
    "    else: \n",
    "        dfy['server_time'] += lag\n",
    "    dfy['prev_time'] = dfy['server_time'].shift()\n",
    "    dfx['prev_time'] = dfx['server_time'].shift()\n",
    "    num = dfx.apply(lambda x: (dfy[(x['prev_time'] < dfy['server_time'])&(dfy['prev_time'] < x['server_time'])]['delta_quote'] * x['delta_quote']).sum(), axis=1).sum()\n",
    "    deno = np.sqrt((dfx['delta_quote']**2).sum() * (dfy['delta_quote']**2).sum())\n",
    "    return num/deno\n",
    "\n",
    "\n",
    "def LLR(dfx, dfy, grid):\n",
    "    \"\"\"\n",
    "    grid: a positive grid of lag timedelta objects\n",
    "    return: lead-lag ratio (LLR > 1 means X leads Y more significantly than Y leads X)\n",
    "    \"\"\"\n",
    "    nums = np.array(list(map(lambda lag: hy_corr(dfx, dfy, lag, choice='lag'), grid)) + list(map(lambda lag: hy_corr(dfx, dfy, lag, choice='lead'), grid)))\n",
    "    return sum(nums[nums.__len__()//2:]**2)/sum(nums[:nums.__len__()//2]**2)"
   ]
  },
  {
   "cell_type": "code",
   "execution_count": 4,
   "metadata": {},
   "outputs": [],
   "source": [
    "from RemoteQuery import RemoteSrc\n",
    "src = RemoteSrc()"
   ]
  },
  {
   "cell_type": "code",
   "execution_count": 5,
   "metadata": {},
   "outputs": [
    {
     "data": {
      "text/plain": [
       "(4784, 1)"
      ]
     },
     "execution_count": 5,
     "metadata": {},
     "output_type": "execute_result"
    }
   ],
   "source": [
    "date = '20211230'\n",
    "code = src.get_stock_list(date)\n",
    "stock_list = pd.DataFrame(code, columns=['code'])\n",
    "# 只取开头为000,60,002,30,43,83,87\n",
    "stock_list = stock_list[stock_list['code'].str[:2].isin(['00', '30', '60', '68', '43', '83', '87'])]\n",
    "stock_list.shape"
   ]
  },
  {
   "cell_type": "code",
   "execution_count": 6,
   "metadata": {},
   "outputs": [
    {
     "data": {
      "text/plain": [
       "['603698', '300763', '300206', '688036', '000042']"
      ]
     },
     "execution_count": 6,
     "metadata": {},
     "output_type": "execute_result"
    }
   ],
   "source": [
    "stock_list = stock_list['code'].to_list()\n",
    "stock_list[:5]"
   ]
  },
  {
   "cell_type": "code",
   "execution_count": 156,
   "metadata": {},
   "outputs": [],
   "source": [
    "pa = src.get_raw_bars('000001', date)"
   ]
  },
  {
   "cell_type": "code",
   "execution_count": 164,
   "metadata": {},
   "outputs": [
    {
     "data": {
      "text/plain": [
       "(3147, 55)"
      ]
     },
     "execution_count": 164,
     "metadata": {},
     "output_type": "execute_result"
    }
   ],
   "source": [
    "src.get_raw_bars('000123', date).shape"
   ]
  },
  {
   "cell_type": "code",
   "execution_count": 8,
   "metadata": {},
   "outputs": [],
   "source": [
    "# 3s快照行情\n",
    "ci = src.get_raw_bars('600030', date)\n",
    "ht = src.get_raw_bars('600837', date)\n",
    "# ci.to_csv(\"./data/ci.csv\", header=True, index=False)\n",
    "# ht.to_csv(\"./data/ht.csv\", header=True, index=False)\n",
    "begin_time = '09:30:00'\n",
    "end_time = '14:57:00'\n",
    "range_ci = (ci['time'] >= begin_time)&(ci['time'] < end_time)\n",
    "range_ht = (ht['time'] >= begin_time)&(ht['time'] < end_time)\n",
    "\n",
    "ci = ci[range_ci]\n",
    "ht = ht[range_ht]"
   ]
  },
  {
   "cell_type": "code",
   "execution_count": 9,
   "metadata": {},
   "outputs": [
    {
     "data": {
      "text/html": [
       "<div>\n",
       "<style scoped>\n",
       "    .dataframe tbody tr th:only-of-type {\n",
       "        vertical-align: middle;\n",
       "    }\n",
       "\n",
       "    .dataframe tbody tr th {\n",
       "        vertical-align: top;\n",
       "    }\n",
       "\n",
       "    .dataframe thead th {\n",
       "        text-align: right;\n",
       "    }\n",
       "</style>\n",
       "<table border=\"1\" class=\"dataframe\">\n",
       "  <thead>\n",
       "    <tr style=\"text-align: right;\">\n",
       "      <th></th>\n",
       "      <th>date</th>\n",
       "      <th>code</th>\n",
       "      <th>server_time</th>\n",
       "      <th>local_time</th>\n",
       "      <th>preclose</th>\n",
       "      <th>open</th>\n",
       "      <th>high</th>\n",
       "      <th>low</th>\n",
       "      <th>last</th>\n",
       "      <th>upper_limit</th>\n",
       "      <th>lower_limit</th>\n",
       "      <th>volume</th>\n",
       "      <th>turnover</th>\n",
       "      <th>iopv</th>\n",
       "      <th>ask_price1</th>\n",
       "      <th>ask_volume1</th>\n",
       "      <th>ask_price2</th>\n",
       "      <th>ask_volume2</th>\n",
       "      <th>ask_price3</th>\n",
       "      <th>ask_volume3</th>\n",
       "      <th>ask_price4</th>\n",
       "      <th>ask_volume4</th>\n",
       "      <th>ask_price5</th>\n",
       "      <th>ask_volume5</th>\n",
       "      <th>ask_price6</th>\n",
       "      <th>ask_volume6</th>\n",
       "      <th>ask_price7</th>\n",
       "      <th>ask_volume7</th>\n",
       "      <th>ask_price8</th>\n",
       "      <th>ask_volume8</th>\n",
       "      <th>ask_price9</th>\n",
       "      <th>ask_volume9</th>\n",
       "      <th>ask_price10</th>\n",
       "      <th>ask_volume10</th>\n",
       "      <th>bid_price1</th>\n",
       "      <th>bid_volume1</th>\n",
       "      <th>bid_price2</th>\n",
       "      <th>bid_volume2</th>\n",
       "      <th>bid_price3</th>\n",
       "      <th>bid_volume3</th>\n",
       "      <th>bid_price4</th>\n",
       "      <th>bid_volume4</th>\n",
       "      <th>bid_price5</th>\n",
       "      <th>bid_volume5</th>\n",
       "      <th>bid_price6</th>\n",
       "      <th>bid_volume6</th>\n",
       "      <th>bid_price7</th>\n",
       "      <th>bid_volume7</th>\n",
       "      <th>bid_price8</th>\n",
       "      <th>bid_volume8</th>\n",
       "      <th>bid_price9</th>\n",
       "      <th>bid_volume9</th>\n",
       "      <th>bid_price10</th>\n",
       "      <th>bid_volume10</th>\n",
       "      <th>time</th>\n",
       "      <th>midquote</th>\n",
       "      <th>delta_quote</th>\n",
       "    </tr>\n",
       "  </thead>\n",
       "  <tbody>\n",
       "    <tr>\n",
       "      <th>106</th>\n",
       "      <td>20211230</td>\n",
       "      <td>600030.SSE</td>\n",
       "      <td>2021-12-30 09:30:03</td>\n",
       "      <td>2021-12-30 09:30:03.000</td>\n",
       "      <td>25.88</td>\n",
       "      <td>25.85</td>\n",
       "      <td>25.88</td>\n",
       "      <td>25.85</td>\n",
       "      <td>25.86</td>\n",
       "      <td>28.47</td>\n",
       "      <td>23.29</td>\n",
       "      <td>210300</td>\n",
       "      <td>5437877</td>\n",
       "      <td>0</td>\n",
       "      <td>25.88</td>\n",
       "      <td>2000</td>\n",
       "      <td>25.89</td>\n",
       "      <td>600</td>\n",
       "      <td>25.90</td>\n",
       "      <td>3700</td>\n",
       "      <td>25.91</td>\n",
       "      <td>400</td>\n",
       "      <td>25.96</td>\n",
       "      <td>10000</td>\n",
       "      <td>25.97</td>\n",
       "      <td>1000</td>\n",
       "      <td>25.98</td>\n",
       "      <td>4600</td>\n",
       "      <td>25.99</td>\n",
       "      <td>30316</td>\n",
       "      <td>26.00</td>\n",
       "      <td>17000</td>\n",
       "      <td>26.01</td>\n",
       "      <td>2200</td>\n",
       "      <td>25.86</td>\n",
       "      <td>27600</td>\n",
       "      <td>25.85</td>\n",
       "      <td>49900</td>\n",
       "      <td>25.84</td>\n",
       "      <td>28800</td>\n",
       "      <td>25.83</td>\n",
       "      <td>22900</td>\n",
       "      <td>25.82</td>\n",
       "      <td>16000</td>\n",
       "      <td>25.81</td>\n",
       "      <td>74400</td>\n",
       "      <td>25.80</td>\n",
       "      <td>65500</td>\n",
       "      <td>25.79</td>\n",
       "      <td>2300</td>\n",
       "      <td>25.78</td>\n",
       "      <td>8400</td>\n",
       "      <td>25.77</td>\n",
       "      <td>15300</td>\n",
       "      <td>09:30:03</td>\n",
       "      <td>25.870</td>\n",
       "      <td>NaN</td>\n",
       "    </tr>\n",
       "    <tr>\n",
       "      <th>107</th>\n",
       "      <td>20211230</td>\n",
       "      <td>600030.SSE</td>\n",
       "      <td>2021-12-30 09:30:06</td>\n",
       "      <td>2021-12-30 09:30:06.000</td>\n",
       "      <td>25.88</td>\n",
       "      <td>25.85</td>\n",
       "      <td>25.90</td>\n",
       "      <td>25.85</td>\n",
       "      <td>25.88</td>\n",
       "      <td>28.47</td>\n",
       "      <td>23.29</td>\n",
       "      <td>281600</td>\n",
       "      <td>7283220</td>\n",
       "      <td>0</td>\n",
       "      <td>25.90</td>\n",
       "      <td>3900</td>\n",
       "      <td>25.91</td>\n",
       "      <td>400</td>\n",
       "      <td>25.95</td>\n",
       "      <td>3000</td>\n",
       "      <td>25.96</td>\n",
       "      <td>10000</td>\n",
       "      <td>25.97</td>\n",
       "      <td>1000</td>\n",
       "      <td>25.98</td>\n",
       "      <td>5300</td>\n",
       "      <td>25.99</td>\n",
       "      <td>35016</td>\n",
       "      <td>26.00</td>\n",
       "      <td>17500</td>\n",
       "      <td>26.01</td>\n",
       "      <td>1000</td>\n",
       "      <td>26.02</td>\n",
       "      <td>2200</td>\n",
       "      <td>25.88</td>\n",
       "      <td>14700</td>\n",
       "      <td>25.87</td>\n",
       "      <td>3100</td>\n",
       "      <td>25.86</td>\n",
       "      <td>60500</td>\n",
       "      <td>25.85</td>\n",
       "      <td>76500</td>\n",
       "      <td>25.84</td>\n",
       "      <td>29300</td>\n",
       "      <td>25.83</td>\n",
       "      <td>25400</td>\n",
       "      <td>25.82</td>\n",
       "      <td>42400</td>\n",
       "      <td>25.81</td>\n",
       "      <td>82200</td>\n",
       "      <td>25.80</td>\n",
       "      <td>129800</td>\n",
       "      <td>25.79</td>\n",
       "      <td>2500</td>\n",
       "      <td>09:30:06</td>\n",
       "      <td>25.890</td>\n",
       "      <td>0.020</td>\n",
       "    </tr>\n",
       "    <tr>\n",
       "      <th>108</th>\n",
       "      <td>20211230</td>\n",
       "      <td>600030.SSE</td>\n",
       "      <td>2021-12-30 09:30:09</td>\n",
       "      <td>2021-12-30 09:30:09.000</td>\n",
       "      <td>25.88</td>\n",
       "      <td>25.85</td>\n",
       "      <td>25.96</td>\n",
       "      <td>25.85</td>\n",
       "      <td>25.90</td>\n",
       "      <td>28.47</td>\n",
       "      <td>23.29</td>\n",
       "      <td>314708</td>\n",
       "      <td>8141245</td>\n",
       "      <td>0</td>\n",
       "      <td>25.96</td>\n",
       "      <td>11200</td>\n",
       "      <td>25.97</td>\n",
       "      <td>1000</td>\n",
       "      <td>25.98</td>\n",
       "      <td>7300</td>\n",
       "      <td>25.99</td>\n",
       "      <td>37016</td>\n",
       "      <td>26.00</td>\n",
       "      <td>17500</td>\n",
       "      <td>26.01</td>\n",
       "      <td>1000</td>\n",
       "      <td>26.02</td>\n",
       "      <td>2200</td>\n",
       "      <td>26.03</td>\n",
       "      <td>14500</td>\n",
       "      <td>26.04</td>\n",
       "      <td>36900</td>\n",
       "      <td>26.05</td>\n",
       "      <td>20800</td>\n",
       "      <td>25.90</td>\n",
       "      <td>5600</td>\n",
       "      <td>25.89</td>\n",
       "      <td>39892</td>\n",
       "      <td>25.88</td>\n",
       "      <td>19900</td>\n",
       "      <td>25.87</td>\n",
       "      <td>3000</td>\n",
       "      <td>25.86</td>\n",
       "      <td>85700</td>\n",
       "      <td>25.85</td>\n",
       "      <td>91600</td>\n",
       "      <td>25.84</td>\n",
       "      <td>30200</td>\n",
       "      <td>25.83</td>\n",
       "      <td>25700</td>\n",
       "      <td>25.82</td>\n",
       "      <td>61300</td>\n",
       "      <td>25.81</td>\n",
       "      <td>117600</td>\n",
       "      <td>09:30:09</td>\n",
       "      <td>25.930</td>\n",
       "      <td>0.040</td>\n",
       "    </tr>\n",
       "    <tr>\n",
       "      <th>109</th>\n",
       "      <td>20211230</td>\n",
       "      <td>600030.SSE</td>\n",
       "      <td>2021-12-30 09:30:12</td>\n",
       "      <td>2021-12-30 09:30:12.000</td>\n",
       "      <td>25.88</td>\n",
       "      <td>25.85</td>\n",
       "      <td>25.97</td>\n",
       "      <td>25.85</td>\n",
       "      <td>25.97</td>\n",
       "      <td>28.47</td>\n",
       "      <td>23.29</td>\n",
       "      <td>384416</td>\n",
       "      <td>9950185</td>\n",
       "      <td>0</td>\n",
       "      <td>25.98</td>\n",
       "      <td>7800</td>\n",
       "      <td>25.99</td>\n",
       "      <td>40016</td>\n",
       "      <td>26.00</td>\n",
       "      <td>20000</td>\n",
       "      <td>26.01</td>\n",
       "      <td>1100</td>\n",
       "      <td>26.02</td>\n",
       "      <td>2200</td>\n",
       "      <td>26.03</td>\n",
       "      <td>14500</td>\n",
       "      <td>26.04</td>\n",
       "      <td>36900</td>\n",
       "      <td>26.05</td>\n",
       "      <td>20800</td>\n",
       "      <td>26.06</td>\n",
       "      <td>18600</td>\n",
       "      <td>26.07</td>\n",
       "      <td>5800</td>\n",
       "      <td>25.97</td>\n",
       "      <td>20500</td>\n",
       "      <td>25.96</td>\n",
       "      <td>5400</td>\n",
       "      <td>25.93</td>\n",
       "      <td>1800</td>\n",
       "      <td>25.91</td>\n",
       "      <td>10792</td>\n",
       "      <td>25.90</td>\n",
       "      <td>47300</td>\n",
       "      <td>25.89</td>\n",
       "      <td>44392</td>\n",
       "      <td>25.88</td>\n",
       "      <td>17100</td>\n",
       "      <td>25.87</td>\n",
       "      <td>4900</td>\n",
       "      <td>25.86</td>\n",
       "      <td>93000</td>\n",
       "      <td>25.85</td>\n",
       "      <td>90000</td>\n",
       "      <td>09:30:12</td>\n",
       "      <td>25.975</td>\n",
       "      <td>0.045</td>\n",
       "    </tr>\n",
       "    <tr>\n",
       "      <th>110</th>\n",
       "      <td>20211230</td>\n",
       "      <td>600030.SSE</td>\n",
       "      <td>2021-12-30 09:30:15</td>\n",
       "      <td>2021-12-30 09:30:15.000</td>\n",
       "      <td>25.88</td>\n",
       "      <td>25.85</td>\n",
       "      <td>25.98</td>\n",
       "      <td>25.85</td>\n",
       "      <td>25.97</td>\n",
       "      <td>28.47</td>\n",
       "      <td>23.29</td>\n",
       "      <td>471324</td>\n",
       "      <td>12206996</td>\n",
       "      <td>0</td>\n",
       "      <td>25.97</td>\n",
       "      <td>3100</td>\n",
       "      <td>25.98</td>\n",
       "      <td>1700</td>\n",
       "      <td>25.99</td>\n",
       "      <td>40016</td>\n",
       "      <td>26.00</td>\n",
       "      <td>20000</td>\n",
       "      <td>26.01</td>\n",
       "      <td>1100</td>\n",
       "      <td>26.02</td>\n",
       "      <td>2200</td>\n",
       "      <td>26.03</td>\n",
       "      <td>14500</td>\n",
       "      <td>26.04</td>\n",
       "      <td>36900</td>\n",
       "      <td>26.05</td>\n",
       "      <td>20800</td>\n",
       "      <td>26.06</td>\n",
       "      <td>18600</td>\n",
       "      <td>25.96</td>\n",
       "      <td>1592</td>\n",
       "      <td>25.93</td>\n",
       "      <td>1800</td>\n",
       "      <td>25.91</td>\n",
       "      <td>1100</td>\n",
       "      <td>25.90</td>\n",
       "      <td>39100</td>\n",
       "      <td>25.89</td>\n",
       "      <td>44292</td>\n",
       "      <td>25.88</td>\n",
       "      <td>10700</td>\n",
       "      <td>25.87</td>\n",
       "      <td>5000</td>\n",
       "      <td>25.86</td>\n",
       "      <td>93000</td>\n",
       "      <td>25.85</td>\n",
       "      <td>90500</td>\n",
       "      <td>25.84</td>\n",
       "      <td>30200</td>\n",
       "      <td>09:30:15</td>\n",
       "      <td>25.965</td>\n",
       "      <td>-0.010</td>\n",
       "    </tr>\n",
       "  </tbody>\n",
       "</table>\n",
       "</div>"
      ],
      "text/plain": [
       "         date        code         server_time               local_time  preclose   open   high    low   last  upper_limit  lower_limit  volume  turnover  iopv  ask_price1  ask_volume1  ask_price2  ask_volume2  ask_price3  ask_volume3  ask_price4  ask_volume4  ask_price5  ask_volume5  ask_price6  ask_volume6  ask_price7  ask_volume7  ask_price8  ask_volume8  ask_price9  ask_volume9  ask_price10  ask_volume10  bid_price1  bid_volume1  bid_price2  bid_volume2  bid_price3  bid_volume3  bid_price4  bid_volume4  bid_price5  bid_volume5  bid_price6  bid_volume6  bid_price7  bid_volume7  bid_price8  bid_volume8  bid_price9  bid_volume9  bid_price10  bid_volume10      time  midquote  delta_quote\n",
       "106  20211230  600030.SSE 2021-12-30 09:30:03  2021-12-30 09:30:03.000     25.88  25.85  25.88  25.85  25.86        28.47        23.29  210300   5437877     0       25.88         2000       25.89          600       25.90         3700       25.91          400       25.96        10000       25.97         1000       25.98         4600       25.99        30316       26.00        17000        26.01          2200       25.86        27600       25.85        49900       25.84        28800       25.83        22900       25.82        16000       25.81        74400       25.80        65500       25.79         2300       25.78         8400        25.77         15300  09:30:03    25.870          NaN\n",
       "107  20211230  600030.SSE 2021-12-30 09:30:06  2021-12-30 09:30:06.000     25.88  25.85  25.90  25.85  25.88        28.47        23.29  281600   7283220     0       25.90         3900       25.91          400       25.95         3000       25.96        10000       25.97         1000       25.98         5300       25.99        35016       26.00        17500       26.01         1000        26.02          2200       25.88        14700       25.87         3100       25.86        60500       25.85        76500       25.84        29300       25.83        25400       25.82        42400       25.81        82200       25.80       129800        25.79          2500  09:30:06    25.890        0.020\n",
       "108  20211230  600030.SSE 2021-12-30 09:30:09  2021-12-30 09:30:09.000     25.88  25.85  25.96  25.85  25.90        28.47        23.29  314708   8141245     0       25.96        11200       25.97         1000       25.98         7300       25.99        37016       26.00        17500       26.01         1000       26.02         2200       26.03        14500       26.04        36900        26.05         20800       25.90         5600       25.89        39892       25.88        19900       25.87         3000       25.86        85700       25.85        91600       25.84        30200       25.83        25700       25.82        61300        25.81        117600  09:30:09    25.930        0.040\n",
       "109  20211230  600030.SSE 2021-12-30 09:30:12  2021-12-30 09:30:12.000     25.88  25.85  25.97  25.85  25.97        28.47        23.29  384416   9950185     0       25.98         7800       25.99        40016       26.00        20000       26.01         1100       26.02         2200       26.03        14500       26.04        36900       26.05        20800       26.06        18600        26.07          5800       25.97        20500       25.96         5400       25.93         1800       25.91        10792       25.90        47300       25.89        44392       25.88        17100       25.87         4900       25.86        93000        25.85         90000  09:30:12    25.975        0.045\n",
       "110  20211230  600030.SSE 2021-12-30 09:30:15  2021-12-30 09:30:15.000     25.88  25.85  25.98  25.85  25.97        28.47        23.29  471324  12206996     0       25.97         3100       25.98         1700       25.99        40016       26.00        20000       26.01         1100       26.02         2200       26.03        14500       26.04        36900       26.05        20800        26.06         18600       25.96         1592       25.93         1800       25.91         1100       25.90        39100       25.89        44292       25.88        10700       25.87         5000       25.86        93000       25.85        90500        25.84         30200  09:30:15    25.965       -0.010"
      ]
     },
     "execution_count": 9,
     "metadata": {},
     "output_type": "execute_result"
    }
   ],
   "source": [
    "ci['midquote'] = (ci['ask_price1']+ci['bid_price1'])/2\n",
    "ht['midquote'] = (ht['ask_price1']+ht['bid_price1'])/2\n",
    "\n",
    "ci['delta_quote'] = ci['midquote'].diff()\n",
    "ht['delta_quote'] = ht['midquote'].diff()\n",
    "\n",
    "ci = ci[ci['delta_quote'] != 0]\n",
    "ht = ht[ht['delta_quote'] != 0]\n",
    "ci.head()"
   ]
  },
  {
   "cell_type": "code",
   "execution_count": 10,
   "metadata": {},
   "outputs": [
    {
     "data": {
      "text/plain": [
       "(1391, 57)"
      ]
     },
     "execution_count": 10,
     "metadata": {},
     "output_type": "execute_result"
    }
   ],
   "source": [
    "ci.shape"
   ]
  },
  {
   "cell_type": "code",
   "execution_count": 11,
   "metadata": {},
   "outputs": [
    {
     "data": {
      "text/plain": [
       "0.16933090959099134"
      ]
     },
     "execution_count": 11,
     "metadata": {},
     "output_type": "execute_result"
    }
   ],
   "source": [
    "lag = timedelta(seconds=0)\n",
    "hy_corr(ci[['server_time', 'delta_quote']], ht[['server_time', 'delta_quote']], lag, choice='lead')"
   ]
  },
  {
   "cell_type": "code",
   "execution_count": 12,
   "metadata": {},
   "outputs": [
    {
     "data": {
      "text/plain": [
       "0.1996062905157897"
      ]
     },
     "execution_count": 12,
     "metadata": {},
     "output_type": "execute_result"
    }
   ],
   "source": [
    "lag = timedelta(seconds=1)\n",
    "hy_corr(ci[['server_time', 'delta_quote']], ht[['server_time', 'delta_quote']], lag, choice='lag')"
   ]
  },
  {
   "cell_type": "code",
   "execution_count": 13,
   "metadata": {},
   "outputs": [
    {
     "data": {
      "text/plain": [
       "0.502452487455922"
      ]
     },
     "execution_count": 13,
     "metadata": {},
     "output_type": "execute_result"
    }
   ],
   "source": [
    "nums = [3,6,9,12,15]\n",
    "grid = [timedelta(seconds=i) for i in nums]\n",
    "LLR(ci, ht, grid)"
   ]
  },
  {
   "cell_type": "code",
   "execution_count": 14,
   "metadata": {},
   "outputs": [
    {
     "data": {
      "text/plain": [
       "1.0"
      ]
     },
     "execution_count": 14,
     "metadata": {},
     "output_type": "execute_result"
    }
   ],
   "source": [
    "LLR(ci, ci, grid)"
   ]
  },
  {
   "cell_type": "code",
   "execution_count": 181,
   "metadata": {},
   "outputs": [
    {
     "data": {
      "text/plain": [
       "1.8244863931398836"
      ]
     },
     "execution_count": 181,
     "metadata": {},
     "output_type": "execute_result"
    }
   ],
   "source": [
    "nums = [1,2,3,4,5,6,7,8,9,10,15,20,30,60,120,180,240,300]\n",
    "grid = [timedelta(seconds=i) for i in nums]\n",
    "LLR(ci[['server_time', 'delta_quote']], ht[['server_time', 'delta_quote']], grid)"
   ]
  },
  {
   "cell_type": "code",
   "execution_count": 202,
   "metadata": {},
   "outputs": [
    {
     "data": {
      "text/plain": [
       "[1, 2, 3, 4, 5, 6, 7, 8, 9, 10, 11, 12, 13, 14, 15, 16, 17, 18, 19]"
      ]
     },
     "execution_count": 202,
     "metadata": {},
     "output_type": "execute_result"
    }
   ],
   "source": [
    "list(range(1,20))"
   ]
  },
  {
   "cell_type": "code",
   "execution_count": 21,
   "metadata": {},
   "outputs": [],
   "source": [
    "nums = [1,2,3,4,5,6,7,8,9,10,15,20,30,60,120,180,240,300]\n",
    "# nums = list(range(1,100,3))\n",
    "index =[-i for i in nums[::-1]] + [0] + nums\n",
    "res = []\n",
    "for i in nums[::-1]:\n",
    "    res.append(hy_corr(ci[['server_time', 'delta_quote']], ht[['server_time', 'delta_quote']], timedelta(seconds=i), choice='lag'))\n",
    "res.append(hy_corr(ci[['server_time', 'delta_quote']], ht[['server_time', 'delta_quote']], timedelta(seconds=0), choice='lag'))\n",
    "for i in nums:\n",
    "    res.append(hy_corr(ci[['server_time', 'delta_quote']], ht[['server_time', 'delta_quote']], timedelta(seconds=i), choice='lead'))\n",
    "res = np.array(res)\n",
    "ratio = sum(res[res.__len__()//2+1:]**2)/sum(res[:res.__len__()//2]**2)"
   ]
  },
  {
   "cell_type": "code",
   "execution_count": 22,
   "metadata": {},
   "outputs": [
    {
     "data": {
      "text/plain": [
       "<matplotlib.legend.Legend at 0x7f21494d12e0>"
      ]
     },
     "execution_count": 22,
     "metadata": {},
     "output_type": "execute_result"
    },
    {
     "data": {
      "image/svg+xml": "<?xml version=\"1.0\" encoding=\"utf-8\" standalone=\"no\"?>\n<!DOCTYPE svg PUBLIC \"-//W3C//DTD SVG 1.1//EN\"\n  \"http://www.w3.org/Graphics/SVG/1.1/DTD/svg11.dtd\">\n<svg xmlns:xlink=\"http://www.w3.org/1999/xlink\" width=\"724.189062pt\" height=\"386.034375pt\" viewBox=\"0 0 724.189062 386.034375\" xmlns=\"http://www.w3.org/2000/svg\" version=\"1.1\">\n <metadata>\n  <rdf:RDF xmlns:dc=\"http://purl.org/dc/elements/1.1/\" xmlns:cc=\"http://creativecommons.org/ns#\" xmlns:rdf=\"http://www.w3.org/1999/02/22-rdf-syntax-ns#\">\n   <cc:Work>\n    <dc:type rdf:resource=\"http://purl.org/dc/dcmitype/StillImage\"/>\n    <dc:date>2022-06-02T10:42:23.998440</dc:date>\n    <dc:format>image/svg+xml</dc:format>\n    <dc:creator>\n     <cc:Agent>\n      <dc:title>Matplotlib v3.5.1, https://matplotlib.org/</dc:title>\n     </cc:Agent>\n    </dc:creator>\n   </cc:Work>\n  </rdf:RDF>\n </metadata>\n <defs>\n  <style type=\"text/css\">*{stroke-linejoin: round; stroke-linecap: butt}</style>\n </defs>\n <g id=\"figure_1\">\n  <g id=\"patch_1\">\n   <path d=\"M 0 386.034375 \nL 724.189062 386.034375 \nL 724.189062 0 \nL 0 0 \nz\n\" style=\"fill: #ffffff\"/>\n  </g>\n  <g id=\"axes_1\">\n   <g id=\"patch_2\">\n    <path d=\"M 47.389063 348.478125 \nL 716.989063 348.478125 \nL 716.989063 22.318125 \nL 47.389063 22.318125 \nz\n\" style=\"fill: #ffffff\"/>\n   </g>\n   <g id=\"matplotlib.axis_1\">\n    <g id=\"xtick_1\">\n     <g id=\"line2d_1\">\n      <path d=\"M 68.412118 348.478125 \nL 68.412118 22.318125 \n\" clip-path=\"url(#pb153a512d2)\" style=\"fill: none; stroke: #cccccc; stroke-width: 0.8; stroke-linecap: round\"/>\n     </g>\n     <g id=\"text_1\">\n      <!-- -100 -->\n      <g style=\"fill: #262626\" transform=\"translate(57.064462 363.076562)scale(0.1 -0.1)\">\n       <defs>\n        <path id=\"DejaVuSans-2d\" d=\"M 313 2009 \nL 1997 2009 \nL 1997 1497 \nL 313 1497 \nL 313 2009 \nz\n\" transform=\"scale(0.015625)\"/>\n        <path id=\"DejaVuSans-31\" d=\"M 794 531 \nL 1825 531 \nL 1825 4091 \nL 703 3866 \nL 703 4441 \nL 1819 4666 \nL 2450 4666 \nL 2450 531 \nL 3481 531 \nL 3481 0 \nL 794 0 \nL 794 531 \nz\n\" transform=\"scale(0.015625)\"/>\n        <path id=\"DejaVuSans-30\" d=\"M 2034 4250 \nQ 1547 4250 1301 3770 \nQ 1056 3291 1056 2328 \nQ 1056 1369 1301 889 \nQ 1547 409 2034 409 \nQ 2525 409 2770 889 \nQ 3016 1369 3016 2328 \nQ 3016 3291 2770 3770 \nQ 2525 4250 2034 4250 \nz\nM 2034 4750 \nQ 2819 4750 3233 4129 \nQ 3647 3509 3647 2328 \nQ 3647 1150 3233 529 \nQ 2819 -91 2034 -91 \nQ 1250 -91 836 529 \nQ 422 1150 422 2328 \nQ 422 3509 836 4129 \nQ 1250 4750 2034 4750 \nz\n\" transform=\"scale(0.015625)\"/>\n       </defs>\n       <use xlink:href=\"#DejaVuSans-2d\"/>\n       <use xlink:href=\"#DejaVuSans-31\" x=\"36.083984\"/>\n       <use xlink:href=\"#DejaVuSans-30\" x=\"99.707031\"/>\n       <use xlink:href=\"#DejaVuSans-30\" x=\"163.330078\"/>\n      </g>\n     </g>\n    </g>\n    <g id=\"xtick_2\">\n     <g id=\"line2d_2\">\n      <path d=\"M 146.856354 348.478125 \nL 146.856354 22.318125 \n\" clip-path=\"url(#pb153a512d2)\" style=\"fill: none; stroke: #cccccc; stroke-width: 0.8; stroke-linecap: round\"/>\n     </g>\n     <g id=\"text_2\">\n      <!-- -75 -->\n      <g style=\"fill: #262626\" transform=\"translate(138.689948 363.076562)scale(0.1 -0.1)\">\n       <defs>\n        <path id=\"DejaVuSans-37\" d=\"M 525 4666 \nL 3525 4666 \nL 3525 4397 \nL 1831 0 \nL 1172 0 \nL 2766 4134 \nL 525 4134 \nL 525 4666 \nz\n\" transform=\"scale(0.015625)\"/>\n        <path id=\"DejaVuSans-35\" d=\"M 691 4666 \nL 3169 4666 \nL 3169 4134 \nL 1269 4134 \nL 1269 2991 \nQ 1406 3038 1543 3061 \nQ 1681 3084 1819 3084 \nQ 2600 3084 3056 2656 \nQ 3513 2228 3513 1497 \nQ 3513 744 3044 326 \nQ 2575 -91 1722 -91 \nQ 1428 -91 1123 -41 \nQ 819 9 494 109 \nL 494 744 \nQ 775 591 1075 516 \nQ 1375 441 1709 441 \nQ 2250 441 2565 725 \nQ 2881 1009 2881 1497 \nQ 2881 1984 2565 2268 \nQ 2250 2553 1709 2553 \nQ 1456 2553 1204 2497 \nQ 953 2441 691 2322 \nL 691 4666 \nz\n\" transform=\"scale(0.015625)\"/>\n       </defs>\n       <use xlink:href=\"#DejaVuSans-2d\"/>\n       <use xlink:href=\"#DejaVuSans-37\" x=\"36.083984\"/>\n       <use xlink:href=\"#DejaVuSans-35\" x=\"99.707031\"/>\n      </g>\n     </g>\n    </g>\n    <g id=\"xtick_3\">\n     <g id=\"line2d_3\">\n      <path d=\"M 225.30059 348.478125 \nL 225.30059 22.318125 \n\" clip-path=\"url(#pb153a512d2)\" style=\"fill: none; stroke: #cccccc; stroke-width: 0.8; stroke-linecap: round\"/>\n     </g>\n     <g id=\"text_3\">\n      <!-- -50 -->\n      <g style=\"fill: #262626\" transform=\"translate(217.134184 363.076562)scale(0.1 -0.1)\">\n       <use xlink:href=\"#DejaVuSans-2d\"/>\n       <use xlink:href=\"#DejaVuSans-35\" x=\"36.083984\"/>\n       <use xlink:href=\"#DejaVuSans-30\" x=\"99.707031\"/>\n      </g>\n     </g>\n    </g>\n    <g id=\"xtick_4\">\n     <g id=\"line2d_4\">\n      <path d=\"M 303.744826 348.478125 \nL 303.744826 22.318125 \n\" clip-path=\"url(#pb153a512d2)\" style=\"fill: none; stroke: #cccccc; stroke-width: 0.8; stroke-linecap: round\"/>\n     </g>\n     <g id=\"text_4\">\n      <!-- -25 -->\n      <g style=\"fill: #262626\" transform=\"translate(295.57842 363.076562)scale(0.1 -0.1)\">\n       <defs>\n        <path id=\"DejaVuSans-32\" d=\"M 1228 531 \nL 3431 531 \nL 3431 0 \nL 469 0 \nL 469 531 \nQ 828 903 1448 1529 \nQ 2069 2156 2228 2338 \nQ 2531 2678 2651 2914 \nQ 2772 3150 2772 3378 \nQ 2772 3750 2511 3984 \nQ 2250 4219 1831 4219 \nQ 1534 4219 1204 4116 \nQ 875 4013 500 3803 \nL 500 4441 \nQ 881 4594 1212 4672 \nQ 1544 4750 1819 4750 \nQ 2544 4750 2975 4387 \nQ 3406 4025 3406 3419 \nQ 3406 3131 3298 2873 \nQ 3191 2616 2906 2266 \nQ 2828 2175 2409 1742 \nQ 1991 1309 1228 531 \nz\n\" transform=\"scale(0.015625)\"/>\n       </defs>\n       <use xlink:href=\"#DejaVuSans-2d\"/>\n       <use xlink:href=\"#DejaVuSans-32\" x=\"36.083984\"/>\n       <use xlink:href=\"#DejaVuSans-35\" x=\"99.707031\"/>\n      </g>\n     </g>\n    </g>\n    <g id=\"xtick_5\">\n     <g id=\"line2d_5\">\n      <path d=\"M 382.189063 348.478125 \nL 382.189063 22.318125 \n\" clip-path=\"url(#pb153a512d2)\" style=\"fill: none; stroke: #cccccc; stroke-width: 0.8; stroke-linecap: round\"/>\n     </g>\n     <g id=\"text_5\">\n      <!-- 0 -->\n      <g style=\"fill: #262626\" transform=\"translate(379.007813 363.076562)scale(0.1 -0.1)\">\n       <use xlink:href=\"#DejaVuSans-30\"/>\n      </g>\n     </g>\n    </g>\n    <g id=\"xtick_6\">\n     <g id=\"line2d_6\">\n      <path d=\"M 460.633299 348.478125 \nL 460.633299 22.318125 \n\" clip-path=\"url(#pb153a512d2)\" style=\"fill: none; stroke: #cccccc; stroke-width: 0.8; stroke-linecap: round\"/>\n     </g>\n     <g id=\"text_6\">\n      <!-- 25 -->\n      <g style=\"fill: #262626\" transform=\"translate(454.270799 363.076562)scale(0.1 -0.1)\">\n       <use xlink:href=\"#DejaVuSans-32\"/>\n       <use xlink:href=\"#DejaVuSans-35\" x=\"63.623047\"/>\n      </g>\n     </g>\n    </g>\n    <g id=\"xtick_7\">\n     <g id=\"line2d_7\">\n      <path d=\"M 539.077535 348.478125 \nL 539.077535 22.318125 \n\" clip-path=\"url(#pb153a512d2)\" style=\"fill: none; stroke: #cccccc; stroke-width: 0.8; stroke-linecap: round\"/>\n     </g>\n     <g id=\"text_7\">\n      <!-- 50 -->\n      <g style=\"fill: #262626\" transform=\"translate(532.715035 363.076562)scale(0.1 -0.1)\">\n       <use xlink:href=\"#DejaVuSans-35\"/>\n       <use xlink:href=\"#DejaVuSans-30\" x=\"63.623047\"/>\n      </g>\n     </g>\n    </g>\n    <g id=\"xtick_8\">\n     <g id=\"line2d_8\">\n      <path d=\"M 617.521771 348.478125 \nL 617.521771 22.318125 \n\" clip-path=\"url(#pb153a512d2)\" style=\"fill: none; stroke: #cccccc; stroke-width: 0.8; stroke-linecap: round\"/>\n     </g>\n     <g id=\"text_8\">\n      <!-- 75 -->\n      <g style=\"fill: #262626\" transform=\"translate(611.159271 363.076562)scale(0.1 -0.1)\">\n       <use xlink:href=\"#DejaVuSans-37\"/>\n       <use xlink:href=\"#DejaVuSans-35\" x=\"63.623047\"/>\n      </g>\n     </g>\n    </g>\n    <g id=\"xtick_9\">\n     <g id=\"line2d_9\">\n      <path d=\"M 695.966007 348.478125 \nL 695.966007 22.318125 \n\" clip-path=\"url(#pb153a512d2)\" style=\"fill: none; stroke: #cccccc; stroke-width: 0.8; stroke-linecap: round\"/>\n     </g>\n     <g id=\"text_9\">\n      <!-- 100 -->\n      <g style=\"fill: #262626\" transform=\"translate(686.422257 363.076562)scale(0.1 -0.1)\">\n       <use xlink:href=\"#DejaVuSans-31\"/>\n       <use xlink:href=\"#DejaVuSans-30\" x=\"63.623047\"/>\n       <use xlink:href=\"#DejaVuSans-30\" x=\"127.246094\"/>\n      </g>\n     </g>\n    </g>\n    <g id=\"text_10\">\n     <!-- Lag -->\n     <g style=\"fill: #262626\" transform=\"translate(373.164844 376.754687)scale(0.1 -0.1)\">\n      <defs>\n       <path id=\"DejaVuSans-4c\" d=\"M 628 4666 \nL 1259 4666 \nL 1259 531 \nL 3531 531 \nL 3531 0 \nL 628 0 \nL 628 4666 \nz\n\" transform=\"scale(0.015625)\"/>\n       <path id=\"DejaVuSans-61\" d=\"M 2194 1759 \nQ 1497 1759 1228 1600 \nQ 959 1441 959 1056 \nQ 959 750 1161 570 \nQ 1363 391 1709 391 \nQ 2188 391 2477 730 \nQ 2766 1069 2766 1631 \nL 2766 1759 \nL 2194 1759 \nz\nM 3341 1997 \nL 3341 0 \nL 2766 0 \nL 2766 531 \nQ 2569 213 2275 61 \nQ 1981 -91 1556 -91 \nQ 1019 -91 701 211 \nQ 384 513 384 1019 \nQ 384 1609 779 1909 \nQ 1175 2209 1959 2209 \nL 2766 2209 \nL 2766 2266 \nQ 2766 2663 2505 2880 \nQ 2244 3097 1772 3097 \nQ 1472 3097 1187 3025 \nQ 903 2953 641 2809 \nL 641 3341 \nQ 956 3463 1253 3523 \nQ 1550 3584 1831 3584 \nQ 2591 3584 2966 3190 \nQ 3341 2797 3341 1997 \nz\n\" transform=\"scale(0.015625)\"/>\n       <path id=\"DejaVuSans-67\" d=\"M 2906 1791 \nQ 2906 2416 2648 2759 \nQ 2391 3103 1925 3103 \nQ 1463 3103 1205 2759 \nQ 947 2416 947 1791 \nQ 947 1169 1205 825 \nQ 1463 481 1925 481 \nQ 2391 481 2648 825 \nQ 2906 1169 2906 1791 \nz\nM 3481 434 \nQ 3481 -459 3084 -895 \nQ 2688 -1331 1869 -1331 \nQ 1566 -1331 1297 -1286 \nQ 1028 -1241 775 -1147 \nL 775 -588 \nQ 1028 -725 1275 -790 \nQ 1522 -856 1778 -856 \nQ 2344 -856 2625 -561 \nQ 2906 -266 2906 331 \nL 2906 616 \nQ 2728 306 2450 153 \nQ 2172 0 1784 0 \nQ 1141 0 747 490 \nQ 353 981 353 1791 \nQ 353 2603 747 3093 \nQ 1141 3584 1784 3584 \nQ 2172 3584 2450 3431 \nQ 2728 3278 2906 2969 \nL 2906 3500 \nL 3481 3500 \nL 3481 434 \nz\n\" transform=\"scale(0.015625)\"/>\n      </defs>\n      <use xlink:href=\"#DejaVuSans-4c\"/>\n      <use xlink:href=\"#DejaVuSans-61\" x=\"55.712891\"/>\n      <use xlink:href=\"#DejaVuSans-67\" x=\"116.992188\"/>\n     </g>\n    </g>\n   </g>\n   <g id=\"matplotlib.axis_2\">\n    <g id=\"ytick_1\">\n     <g id=\"line2d_10\">\n      <path d=\"M 47.389063 348.478125 \nL 716.989063 348.478125 \n\" clip-path=\"url(#pb153a512d2)\" style=\"fill: none; stroke: #cccccc; stroke-width: 0.8; stroke-linecap: round\"/>\n     </g>\n     <g id=\"text_11\">\n      <!-- -0.1 -->\n      <g style=\"fill: #262626\" transform=\"translate(20.878125 352.277344)scale(0.1 -0.1)\">\n       <defs>\n        <path id=\"DejaVuSans-2e\" d=\"M 684 794 \nL 1344 794 \nL 1344 0 \nL 684 0 \nL 684 794 \nz\n\" transform=\"scale(0.015625)\"/>\n       </defs>\n       <use xlink:href=\"#DejaVuSans-2d\"/>\n       <use xlink:href=\"#DejaVuSans-30\" x=\"36.083984\"/>\n       <use xlink:href=\"#DejaVuSans-2e\" x=\"99.707031\"/>\n       <use xlink:href=\"#DejaVuSans-31\" x=\"131.494141\"/>\n      </g>\n     </g>\n    </g>\n    <g id=\"ytick_2\">\n     <g id=\"line2d_11\">\n      <path d=\"M 47.389063 283.246125 \nL 716.989063 283.246125 \n\" clip-path=\"url(#pb153a512d2)\" style=\"fill: none; stroke: #cccccc; stroke-width: 0.8; stroke-linecap: round\"/>\n     </g>\n     <g id=\"text_12\">\n      <!-- 0.0 -->\n      <g style=\"fill: #262626\" transform=\"translate(24.485938 287.045344)scale(0.1 -0.1)\">\n       <use xlink:href=\"#DejaVuSans-30\"/>\n       <use xlink:href=\"#DejaVuSans-2e\" x=\"63.623047\"/>\n       <use xlink:href=\"#DejaVuSans-30\" x=\"95.410156\"/>\n      </g>\n     </g>\n    </g>\n    <g id=\"ytick_3\">\n     <g id=\"line2d_12\">\n      <path d=\"M 47.389063 218.014125 \nL 716.989063 218.014125 \n\" clip-path=\"url(#pb153a512d2)\" style=\"fill: none; stroke: #cccccc; stroke-width: 0.8; stroke-linecap: round\"/>\n     </g>\n     <g id=\"text_13\">\n      <!-- 0.1 -->\n      <g style=\"fill: #262626\" transform=\"translate(24.485938 221.813344)scale(0.1 -0.1)\">\n       <use xlink:href=\"#DejaVuSans-30\"/>\n       <use xlink:href=\"#DejaVuSans-2e\" x=\"63.623047\"/>\n       <use xlink:href=\"#DejaVuSans-31\" x=\"95.410156\"/>\n      </g>\n     </g>\n    </g>\n    <g id=\"ytick_4\">\n     <g id=\"line2d_13\">\n      <path d=\"M 47.389063 152.782125 \nL 716.989063 152.782125 \n\" clip-path=\"url(#pb153a512d2)\" style=\"fill: none; stroke: #cccccc; stroke-width: 0.8; stroke-linecap: round\"/>\n     </g>\n     <g id=\"text_14\">\n      <!-- 0.2 -->\n      <g style=\"fill: #262626\" transform=\"translate(24.485938 156.581344)scale(0.1 -0.1)\">\n       <use xlink:href=\"#DejaVuSans-30\"/>\n       <use xlink:href=\"#DejaVuSans-2e\" x=\"63.623047\"/>\n       <use xlink:href=\"#DejaVuSans-32\" x=\"95.410156\"/>\n      </g>\n     </g>\n    </g>\n    <g id=\"ytick_5\">\n     <g id=\"line2d_14\">\n      <path d=\"M 47.389063 87.550125 \nL 716.989063 87.550125 \n\" clip-path=\"url(#pb153a512d2)\" style=\"fill: none; stroke: #cccccc; stroke-width: 0.8; stroke-linecap: round\"/>\n     </g>\n     <g id=\"text_15\">\n      <!-- 0.3 -->\n      <g style=\"fill: #262626\" transform=\"translate(24.485938 91.349344)scale(0.1 -0.1)\">\n       <defs>\n        <path id=\"DejaVuSans-33\" d=\"M 2597 2516 \nQ 3050 2419 3304 2112 \nQ 3559 1806 3559 1356 \nQ 3559 666 3084 287 \nQ 2609 -91 1734 -91 \nQ 1441 -91 1130 -33 \nQ 819 25 488 141 \nL 488 750 \nQ 750 597 1062 519 \nQ 1375 441 1716 441 \nQ 2309 441 2620 675 \nQ 2931 909 2931 1356 \nQ 2931 1769 2642 2001 \nQ 2353 2234 1838 2234 \nL 1294 2234 \nL 1294 2753 \nL 1863 2753 \nQ 2328 2753 2575 2939 \nQ 2822 3125 2822 3475 \nQ 2822 3834 2567 4026 \nQ 2313 4219 1838 4219 \nQ 1578 4219 1281 4162 \nQ 984 4106 628 3988 \nL 628 4550 \nQ 988 4650 1302 4700 \nQ 1616 4750 1894 4750 \nQ 2613 4750 3031 4423 \nQ 3450 4097 3450 3541 \nQ 3450 3153 3228 2886 \nQ 3006 2619 2597 2516 \nz\n\" transform=\"scale(0.015625)\"/>\n       </defs>\n       <use xlink:href=\"#DejaVuSans-30\"/>\n       <use xlink:href=\"#DejaVuSans-2e\" x=\"63.623047\"/>\n       <use xlink:href=\"#DejaVuSans-33\" x=\"95.410156\"/>\n      </g>\n     </g>\n    </g>\n    <g id=\"ytick_6\">\n     <g id=\"line2d_15\">\n      <path d=\"M 47.389063 22.318125 \nL 716.989063 22.318125 \n\" clip-path=\"url(#pb153a512d2)\" style=\"fill: none; stroke: #cccccc; stroke-width: 0.8; stroke-linecap: round\"/>\n     </g>\n     <g id=\"text_16\">\n      <!-- 0.4 -->\n      <g style=\"fill: #262626\" transform=\"translate(24.485938 26.117344)scale(0.1 -0.1)\">\n       <defs>\n        <path id=\"DejaVuSans-34\" d=\"M 2419 4116 \nL 825 1625 \nL 2419 1625 \nL 2419 4116 \nz\nM 2253 4666 \nL 3047 4666 \nL 3047 1625 \nL 3713 1625 \nL 3713 1100 \nL 3047 1100 \nL 3047 0 \nL 2419 0 \nL 2419 1100 \nL 313 1100 \nL 313 1709 \nL 2253 4666 \nz\n\" transform=\"scale(0.015625)\"/>\n       </defs>\n       <use xlink:href=\"#DejaVuSans-30\"/>\n       <use xlink:href=\"#DejaVuSans-2e\" x=\"63.623047\"/>\n       <use xlink:href=\"#DejaVuSans-34\" x=\"95.410156\"/>\n      </g>\n     </g>\n    </g>\n    <g id=\"text_17\">\n     <!-- Cross-correlation -->\n     <g style=\"fill: #262626\" transform=\"translate(14.798438 227.731719)rotate(-90)scale(0.1 -0.1)\">\n      <defs>\n       <path id=\"DejaVuSans-43\" d=\"M 4122 4306 \nL 4122 3641 \nQ 3803 3938 3442 4084 \nQ 3081 4231 2675 4231 \nQ 1875 4231 1450 3742 \nQ 1025 3253 1025 2328 \nQ 1025 1406 1450 917 \nQ 1875 428 2675 428 \nQ 3081 428 3442 575 \nQ 3803 722 4122 1019 \nL 4122 359 \nQ 3791 134 3420 21 \nQ 3050 -91 2638 -91 \nQ 1578 -91 968 557 \nQ 359 1206 359 2328 \nQ 359 3453 968 4101 \nQ 1578 4750 2638 4750 \nQ 3056 4750 3426 4639 \nQ 3797 4528 4122 4306 \nz\n\" transform=\"scale(0.015625)\"/>\n       <path id=\"DejaVuSans-72\" d=\"M 2631 2963 \nQ 2534 3019 2420 3045 \nQ 2306 3072 2169 3072 \nQ 1681 3072 1420 2755 \nQ 1159 2438 1159 1844 \nL 1159 0 \nL 581 0 \nL 581 3500 \nL 1159 3500 \nL 1159 2956 \nQ 1341 3275 1631 3429 \nQ 1922 3584 2338 3584 \nQ 2397 3584 2469 3576 \nQ 2541 3569 2628 3553 \nL 2631 2963 \nz\n\" transform=\"scale(0.015625)\"/>\n       <path id=\"DejaVuSans-6f\" d=\"M 1959 3097 \nQ 1497 3097 1228 2736 \nQ 959 2375 959 1747 \nQ 959 1119 1226 758 \nQ 1494 397 1959 397 \nQ 2419 397 2687 759 \nQ 2956 1122 2956 1747 \nQ 2956 2369 2687 2733 \nQ 2419 3097 1959 3097 \nz\nM 1959 3584 \nQ 2709 3584 3137 3096 \nQ 3566 2609 3566 1747 \nQ 3566 888 3137 398 \nQ 2709 -91 1959 -91 \nQ 1206 -91 779 398 \nQ 353 888 353 1747 \nQ 353 2609 779 3096 \nQ 1206 3584 1959 3584 \nz\n\" transform=\"scale(0.015625)\"/>\n       <path id=\"DejaVuSans-73\" d=\"M 2834 3397 \nL 2834 2853 \nQ 2591 2978 2328 3040 \nQ 2066 3103 1784 3103 \nQ 1356 3103 1142 2972 \nQ 928 2841 928 2578 \nQ 928 2378 1081 2264 \nQ 1234 2150 1697 2047 \nL 1894 2003 \nQ 2506 1872 2764 1633 \nQ 3022 1394 3022 966 \nQ 3022 478 2636 193 \nQ 2250 -91 1575 -91 \nQ 1294 -91 989 -36 \nQ 684 19 347 128 \nL 347 722 \nQ 666 556 975 473 \nQ 1284 391 1588 391 \nQ 1994 391 2212 530 \nQ 2431 669 2431 922 \nQ 2431 1156 2273 1281 \nQ 2116 1406 1581 1522 \nL 1381 1569 \nQ 847 1681 609 1914 \nQ 372 2147 372 2553 \nQ 372 3047 722 3315 \nQ 1072 3584 1716 3584 \nQ 2034 3584 2315 3537 \nQ 2597 3491 2834 3397 \nz\n\" transform=\"scale(0.015625)\"/>\n       <path id=\"DejaVuSans-63\" d=\"M 3122 3366 \nL 3122 2828 \nQ 2878 2963 2633 3030 \nQ 2388 3097 2138 3097 \nQ 1578 3097 1268 2742 \nQ 959 2388 959 1747 \nQ 959 1106 1268 751 \nQ 1578 397 2138 397 \nQ 2388 397 2633 464 \nQ 2878 531 3122 666 \nL 3122 134 \nQ 2881 22 2623 -34 \nQ 2366 -91 2075 -91 \nQ 1284 -91 818 406 \nQ 353 903 353 1747 \nQ 353 2603 823 3093 \nQ 1294 3584 2113 3584 \nQ 2378 3584 2631 3529 \nQ 2884 3475 3122 3366 \nz\n\" transform=\"scale(0.015625)\"/>\n       <path id=\"DejaVuSans-65\" d=\"M 3597 1894 \nL 3597 1613 \nL 953 1613 \nQ 991 1019 1311 708 \nQ 1631 397 2203 397 \nQ 2534 397 2845 478 \nQ 3156 559 3463 722 \nL 3463 178 \nQ 3153 47 2828 -22 \nQ 2503 -91 2169 -91 \nQ 1331 -91 842 396 \nQ 353 884 353 1716 \nQ 353 2575 817 3079 \nQ 1281 3584 2069 3584 \nQ 2775 3584 3186 3129 \nQ 3597 2675 3597 1894 \nz\nM 3022 2063 \nQ 3016 2534 2758 2815 \nQ 2500 3097 2075 3097 \nQ 1594 3097 1305 2825 \nQ 1016 2553 972 2059 \nL 3022 2063 \nz\n\" transform=\"scale(0.015625)\"/>\n       <path id=\"DejaVuSans-6c\" d=\"M 603 4863 \nL 1178 4863 \nL 1178 0 \nL 603 0 \nL 603 4863 \nz\n\" transform=\"scale(0.015625)\"/>\n       <path id=\"DejaVuSans-74\" d=\"M 1172 4494 \nL 1172 3500 \nL 2356 3500 \nL 2356 3053 \nL 1172 3053 \nL 1172 1153 \nQ 1172 725 1289 603 \nQ 1406 481 1766 481 \nL 2356 481 \nL 2356 0 \nL 1766 0 \nQ 1100 0 847 248 \nQ 594 497 594 1153 \nL 594 3053 \nL 172 3053 \nL 172 3500 \nL 594 3500 \nL 594 4494 \nL 1172 4494 \nz\n\" transform=\"scale(0.015625)\"/>\n       <path id=\"DejaVuSans-69\" d=\"M 603 3500 \nL 1178 3500 \nL 1178 0 \nL 603 0 \nL 603 3500 \nz\nM 603 4863 \nL 1178 4863 \nL 1178 4134 \nL 603 4134 \nL 603 4863 \nz\n\" transform=\"scale(0.015625)\"/>\n       <path id=\"DejaVuSans-6e\" d=\"M 3513 2113 \nL 3513 0 \nL 2938 0 \nL 2938 2094 \nQ 2938 2591 2744 2837 \nQ 2550 3084 2163 3084 \nQ 1697 3084 1428 2787 \nQ 1159 2491 1159 1978 \nL 1159 0 \nL 581 0 \nL 581 3500 \nL 1159 3500 \nL 1159 2956 \nQ 1366 3272 1645 3428 \nQ 1925 3584 2291 3584 \nQ 2894 3584 3203 3211 \nQ 3513 2838 3513 2113 \nz\n\" transform=\"scale(0.015625)\"/>\n      </defs>\n      <use xlink:href=\"#DejaVuSans-43\"/>\n      <use xlink:href=\"#DejaVuSans-72\" x=\"69.824219\"/>\n      <use xlink:href=\"#DejaVuSans-6f\" x=\"108.6875\"/>\n      <use xlink:href=\"#DejaVuSans-73\" x=\"169.869141\"/>\n      <use xlink:href=\"#DejaVuSans-73\" x=\"221.96875\"/>\n      <use xlink:href=\"#DejaVuSans-2d\" x=\"274.068359\"/>\n      <use xlink:href=\"#DejaVuSans-63\" x=\"310.152344\"/>\n      <use xlink:href=\"#DejaVuSans-6f\" x=\"365.132812\"/>\n      <use xlink:href=\"#DejaVuSans-72\" x=\"426.314453\"/>\n      <use xlink:href=\"#DejaVuSans-72\" x=\"465.677734\"/>\n      <use xlink:href=\"#DejaVuSans-65\" x=\"504.541016\"/>\n      <use xlink:href=\"#DejaVuSans-6c\" x=\"566.064453\"/>\n      <use xlink:href=\"#DejaVuSans-61\" x=\"593.847656\"/>\n      <use xlink:href=\"#DejaVuSans-74\" x=\"655.126953\"/>\n      <use xlink:href=\"#DejaVuSans-69\" x=\"694.335938\"/>\n      <use xlink:href=\"#DejaVuSans-6f\" x=\"722.119141\"/>\n      <use xlink:href=\"#DejaVuSans-6e\" x=\"783.300781\"/>\n     </g>\n    </g>\n   </g>\n   <g id=\"line2d_16\">\n    <path d=\"M 77.825426 240.762302 \nL 87.238734 243.288367 \nL 96.652043 247.421929 \nL 106.065351 245.355148 \nL 115.47866 238.236237 \nL 124.891968 281.179344 \nL 134.305276 278.423637 \nL 143.718585 265.793311 \nL 153.131893 281.408987 \nL 162.545201 254.770482 \nL 171.95851 262.578319 \nL 181.371818 264.185815 \nL 190.785126 267.63045 \nL 200.198435 244.206937 \nL 209.611743 218.027716 \nL 219.025051 218.487001 \nL 228.43836 209.301309 \nL 237.851668 201.952756 \nL 247.264976 187.25565 \nL 256.678285 188.403861 \nL 266.091593 201.952756 \nL 275.504901 201.263829 \nL 284.91821 218.027716 \nL 294.331518 215.272009 \nL 303.744826 206.775244 \nL 313.158135 182.662804 \nL 322.571443 173.017828 \nL 331.984751 179.677455 \nL 341.39806 199.885976 \nL 350.811368 177.151389 \nL 360.224676 153.03895 \nL 369.637985 146.149681 \nL 379.051293 153.03895 \nL 382.189063 172.788186 \nL 385.326832 171.639975 \nL 394.74014 174.395682 \nL 404.153449 199.197049 \nL 413.566757 218.487001 \nL 422.980065 218.716643 \nL 432.393374 244.436579 \nL 441.806682 253.851913 \nL 451.21999 261.889393 \nL 460.633299 261.430108 \nL 470.046607 288.987182 \nL 479.459915 276.586499 \nL 488.873224 284.394336 \nL 498.286532 275.208645 \nL 507.69984 269.008303 \nL 517.113149 278.193995 \nL 526.526457 287.838971 \nL 535.939765 331.471005 \nL 545.353074 313.558907 \nL 554.766382 282.327556 \nL 564.17969 290.365036 \nL 573.592999 280.72006 \nL 583.006307 293.580028 \nL 592.419615 272.223295 \nL 601.832924 296.335735 \nL 611.246232 292.661459 \nL 620.65954 285.542548 \nL 630.072849 283.246125 \nL 639.486157 280.72006 \nL 648.899465 257.066905 \nL 658.312774 265.334027 \nL 667.726082 278.193995 \nL 677.139391 296.335735 \nL 686.552699 300.698939 \n\" clip-path=\"url(#pb153a512d2)\" style=\"fill: none; stroke: #0000ff; stroke-width: 1.5; stroke-linecap: round\"/>\n   </g>\n   <g id=\"patch_3\">\n    <path d=\"M 47.389063 348.478125 \nL 47.389063 22.318125 \n\" style=\"fill: none; stroke: #cccccc; stroke-width: 0.8; stroke-linejoin: miter; stroke-linecap: square\"/>\n   </g>\n   <g id=\"patch_4\">\n    <path d=\"M 716.989063 348.478125 \nL 716.989063 22.318125 \n\" style=\"fill: none; stroke: #cccccc; stroke-width: 0.8; stroke-linejoin: miter; stroke-linecap: square\"/>\n   </g>\n   <g id=\"patch_5\">\n    <path d=\"M 47.389063 348.478125 \nL 716.989063 348.478125 \n\" style=\"fill: none; stroke: #cccccc; stroke-width: 0.8; stroke-linejoin: miter; stroke-linecap: square\"/>\n   </g>\n   <g id=\"patch_6\">\n    <path d=\"M 47.389063 22.318125 \nL 716.989063 22.318125 \n\" style=\"fill: none; stroke: #cccccc; stroke-width: 0.8; stroke-linejoin: miter; stroke-linecap: square\"/>\n   </g>\n   <g id=\"text_18\">\n    <!-- Previous-tick Correlation -->\n    <g style=\"fill: #262626\" transform=\"translate(308.88875 16.318125)scale(0.12 -0.12)\">\n     <defs>\n      <path id=\"DejaVuSans-50\" d=\"M 1259 4147 \nL 1259 2394 \nL 2053 2394 \nQ 2494 2394 2734 2622 \nQ 2975 2850 2975 3272 \nQ 2975 3691 2734 3919 \nQ 2494 4147 2053 4147 \nL 1259 4147 \nz\nM 628 4666 \nL 2053 4666 \nQ 2838 4666 3239 4311 \nQ 3641 3956 3641 3272 \nQ 3641 2581 3239 2228 \nQ 2838 1875 2053 1875 \nL 1259 1875 \nL 1259 0 \nL 628 0 \nL 628 4666 \nz\n\" transform=\"scale(0.015625)\"/>\n      <path id=\"DejaVuSans-76\" d=\"M 191 3500 \nL 800 3500 \nL 1894 563 \nL 2988 3500 \nL 3597 3500 \nL 2284 0 \nL 1503 0 \nL 191 3500 \nz\n\" transform=\"scale(0.015625)\"/>\n      <path id=\"DejaVuSans-75\" d=\"M 544 1381 \nL 544 3500 \nL 1119 3500 \nL 1119 1403 \nQ 1119 906 1312 657 \nQ 1506 409 1894 409 \nQ 2359 409 2629 706 \nQ 2900 1003 2900 1516 \nL 2900 3500 \nL 3475 3500 \nL 3475 0 \nL 2900 0 \nL 2900 538 \nQ 2691 219 2414 64 \nQ 2138 -91 1772 -91 \nQ 1169 -91 856 284 \nQ 544 659 544 1381 \nz\nM 1991 3584 \nL 1991 3584 \nz\n\" transform=\"scale(0.015625)\"/>\n      <path id=\"DejaVuSans-6b\" d=\"M 581 4863 \nL 1159 4863 \nL 1159 1991 \nL 2875 3500 \nL 3609 3500 \nL 1753 1863 \nL 3688 0 \nL 2938 0 \nL 1159 1709 \nL 1159 0 \nL 581 0 \nL 581 4863 \nz\n\" transform=\"scale(0.015625)\"/>\n      <path id=\"DejaVuSans-20\" transform=\"scale(0.015625)\"/>\n     </defs>\n     <use xlink:href=\"#DejaVuSans-50\"/>\n     <use xlink:href=\"#DejaVuSans-72\" x=\"58.552734\"/>\n     <use xlink:href=\"#DejaVuSans-65\" x=\"97.416016\"/>\n     <use xlink:href=\"#DejaVuSans-76\" x=\"158.939453\"/>\n     <use xlink:href=\"#DejaVuSans-69\" x=\"218.119141\"/>\n     <use xlink:href=\"#DejaVuSans-6f\" x=\"245.902344\"/>\n     <use xlink:href=\"#DejaVuSans-75\" x=\"307.083984\"/>\n     <use xlink:href=\"#DejaVuSans-73\" x=\"370.462891\"/>\n     <use xlink:href=\"#DejaVuSans-2d\" x=\"422.5625\"/>\n     <use xlink:href=\"#DejaVuSans-74\" x=\"458.646484\"/>\n     <use xlink:href=\"#DejaVuSans-69\" x=\"497.855469\"/>\n     <use xlink:href=\"#DejaVuSans-63\" x=\"525.638672\"/>\n     <use xlink:href=\"#DejaVuSans-6b\" x=\"580.619141\"/>\n     <use xlink:href=\"#DejaVuSans-20\" x=\"638.529297\"/>\n     <use xlink:href=\"#DejaVuSans-43\" x=\"670.316406\"/>\n     <use xlink:href=\"#DejaVuSans-6f\" x=\"740.140625\"/>\n     <use xlink:href=\"#DejaVuSans-72\" x=\"801.322266\"/>\n     <use xlink:href=\"#DejaVuSans-72\" x=\"840.685547\"/>\n     <use xlink:href=\"#DejaVuSans-65\" x=\"879.548828\"/>\n     <use xlink:href=\"#DejaVuSans-6c\" x=\"941.072266\"/>\n     <use xlink:href=\"#DejaVuSans-61\" x=\"968.855469\"/>\n     <use xlink:href=\"#DejaVuSans-74\" x=\"1030.134766\"/>\n     <use xlink:href=\"#DejaVuSans-69\" x=\"1069.34375\"/>\n     <use xlink:href=\"#DejaVuSans-6f\" x=\"1097.126953\"/>\n     <use xlink:href=\"#DejaVuSans-6e\" x=\"1158.308594\"/>\n    </g>\n   </g>\n   <g id=\"legend_1\">\n    <g id=\"patch_7\">\n     <path d=\"M 535.959375 44.99625 \nL 709.989063 44.99625 \nQ 711.989063 44.99625 711.989063 42.99625 \nL 711.989063 29.318125 \nQ 711.989063 27.318125 709.989063 27.318125 \nL 535.959375 27.318125 \nQ 533.959375 27.318125 533.959375 29.318125 \nL 533.959375 42.99625 \nQ 533.959375 44.99625 535.959375 44.99625 \nz\n\" style=\"fill: #ffffff; opacity: 0.8; stroke: #cccccc; stroke-linejoin: miter\"/>\n    </g>\n    <g id=\"line2d_17\">\n     <path d=\"M 537.959375 35.416562 \nL 547.959375 35.416562 \nL 557.959375 35.416562 \n\" style=\"fill: none; stroke: #0000ff; stroke-width: 1.5; stroke-linecap: round\"/>\n    </g>\n    <g id=\"text_19\">\n     <!-- LLR: 0.26696544983739096 -->\n     <g style=\"fill: #262626\" transform=\"translate(565.959375 38.916562)scale(0.1 -0.1)\">\n      <defs>\n       <path id=\"DejaVuSans-52\" d=\"M 2841 2188 \nQ 3044 2119 3236 1894 \nQ 3428 1669 3622 1275 \nL 4263 0 \nL 3584 0 \nL 2988 1197 \nQ 2756 1666 2539 1819 \nQ 2322 1972 1947 1972 \nL 1259 1972 \nL 1259 0 \nL 628 0 \nL 628 4666 \nL 2053 4666 \nQ 2853 4666 3247 4331 \nQ 3641 3997 3641 3322 \nQ 3641 2881 3436 2590 \nQ 3231 2300 2841 2188 \nz\nM 1259 4147 \nL 1259 2491 \nL 2053 2491 \nQ 2509 2491 2742 2702 \nQ 2975 2913 2975 3322 \nQ 2975 3731 2742 3939 \nQ 2509 4147 2053 4147 \nL 1259 4147 \nz\n\" transform=\"scale(0.015625)\"/>\n       <path id=\"DejaVuSans-3a\" d=\"M 750 794 \nL 1409 794 \nL 1409 0 \nL 750 0 \nL 750 794 \nz\nM 750 3309 \nL 1409 3309 \nL 1409 2516 \nL 750 2516 \nL 750 3309 \nz\n\" transform=\"scale(0.015625)\"/>\n       <path id=\"DejaVuSans-36\" d=\"M 2113 2584 \nQ 1688 2584 1439 2293 \nQ 1191 2003 1191 1497 \nQ 1191 994 1439 701 \nQ 1688 409 2113 409 \nQ 2538 409 2786 701 \nQ 3034 994 3034 1497 \nQ 3034 2003 2786 2293 \nQ 2538 2584 2113 2584 \nz\nM 3366 4563 \nL 3366 3988 \nQ 3128 4100 2886 4159 \nQ 2644 4219 2406 4219 \nQ 1781 4219 1451 3797 \nQ 1122 3375 1075 2522 \nQ 1259 2794 1537 2939 \nQ 1816 3084 2150 3084 \nQ 2853 3084 3261 2657 \nQ 3669 2231 3669 1497 \nQ 3669 778 3244 343 \nQ 2819 -91 2113 -91 \nQ 1303 -91 875 529 \nQ 447 1150 447 2328 \nQ 447 3434 972 4092 \nQ 1497 4750 2381 4750 \nQ 2619 4750 2861 4703 \nQ 3103 4656 3366 4563 \nz\n\" transform=\"scale(0.015625)\"/>\n       <path id=\"DejaVuSans-39\" d=\"M 703 97 \nL 703 672 \nQ 941 559 1184 500 \nQ 1428 441 1663 441 \nQ 2288 441 2617 861 \nQ 2947 1281 2994 2138 \nQ 2813 1869 2534 1725 \nQ 2256 1581 1919 1581 \nQ 1219 1581 811 2004 \nQ 403 2428 403 3163 \nQ 403 3881 828 4315 \nQ 1253 4750 1959 4750 \nQ 2769 4750 3195 4129 \nQ 3622 3509 3622 2328 \nQ 3622 1225 3098 567 \nQ 2575 -91 1691 -91 \nQ 1453 -91 1209 -44 \nQ 966 3 703 97 \nz\nM 1959 2075 \nQ 2384 2075 2632 2365 \nQ 2881 2656 2881 3163 \nQ 2881 3666 2632 3958 \nQ 2384 4250 1959 4250 \nQ 1534 4250 1286 3958 \nQ 1038 3666 1038 3163 \nQ 1038 2656 1286 2365 \nQ 1534 2075 1959 2075 \nz\n\" transform=\"scale(0.015625)\"/>\n       <path id=\"DejaVuSans-38\" d=\"M 2034 2216 \nQ 1584 2216 1326 1975 \nQ 1069 1734 1069 1313 \nQ 1069 891 1326 650 \nQ 1584 409 2034 409 \nQ 2484 409 2743 651 \nQ 3003 894 3003 1313 \nQ 3003 1734 2745 1975 \nQ 2488 2216 2034 2216 \nz\nM 1403 2484 \nQ 997 2584 770 2862 \nQ 544 3141 544 3541 \nQ 544 4100 942 4425 \nQ 1341 4750 2034 4750 \nQ 2731 4750 3128 4425 \nQ 3525 4100 3525 3541 \nQ 3525 3141 3298 2862 \nQ 3072 2584 2669 2484 \nQ 3125 2378 3379 2068 \nQ 3634 1759 3634 1313 \nQ 3634 634 3220 271 \nQ 2806 -91 2034 -91 \nQ 1263 -91 848 271 \nQ 434 634 434 1313 \nQ 434 1759 690 2068 \nQ 947 2378 1403 2484 \nz\nM 1172 3481 \nQ 1172 3119 1398 2916 \nQ 1625 2713 2034 2713 \nQ 2441 2713 2670 2916 \nQ 2900 3119 2900 3481 \nQ 2900 3844 2670 4047 \nQ 2441 4250 2034 4250 \nQ 1625 4250 1398 4047 \nQ 1172 3844 1172 3481 \nz\n\" transform=\"scale(0.015625)\"/>\n      </defs>\n      <use xlink:href=\"#DejaVuSans-4c\"/>\n      <use xlink:href=\"#DejaVuSans-4c\" x=\"55.712891\"/>\n      <use xlink:href=\"#DejaVuSans-52\" x=\"111.425781\"/>\n      <use xlink:href=\"#DejaVuSans-3a\" x=\"177.783203\"/>\n      <use xlink:href=\"#DejaVuSans-20\" x=\"211.474609\"/>\n      <use xlink:href=\"#DejaVuSans-30\" x=\"243.261719\"/>\n      <use xlink:href=\"#DejaVuSans-2e\" x=\"306.884766\"/>\n      <use xlink:href=\"#DejaVuSans-32\" x=\"338.671875\"/>\n      <use xlink:href=\"#DejaVuSans-36\" x=\"402.294922\"/>\n      <use xlink:href=\"#DejaVuSans-36\" x=\"465.917969\"/>\n      <use xlink:href=\"#DejaVuSans-39\" x=\"529.541016\"/>\n      <use xlink:href=\"#DejaVuSans-36\" x=\"593.164062\"/>\n      <use xlink:href=\"#DejaVuSans-35\" x=\"656.787109\"/>\n      <use xlink:href=\"#DejaVuSans-34\" x=\"720.410156\"/>\n      <use xlink:href=\"#DejaVuSans-34\" x=\"784.033203\"/>\n      <use xlink:href=\"#DejaVuSans-39\" x=\"847.65625\"/>\n      <use xlink:href=\"#DejaVuSans-38\" x=\"911.279297\"/>\n      <use xlink:href=\"#DejaVuSans-33\" x=\"974.902344\"/>\n      <use xlink:href=\"#DejaVuSans-37\" x=\"1038.525391\"/>\n      <use xlink:href=\"#DejaVuSans-33\" x=\"1102.148438\"/>\n      <use xlink:href=\"#DejaVuSans-39\" x=\"1165.771484\"/>\n      <use xlink:href=\"#DejaVuSans-30\" x=\"1229.394531\"/>\n      <use xlink:href=\"#DejaVuSans-39\" x=\"1293.017578\"/>\n      <use xlink:href=\"#DejaVuSans-36\" x=\"1356.640625\"/>\n     </g>\n    </g>\n   </g>\n  </g>\n </g>\n <defs>\n  <clipPath id=\"pb153a512d2\">\n   <rect x=\"47.389063\" y=\"22.318125\" width=\"669.6\" height=\"326.16\"/>\n  </clipPath>\n </defs>\n</svg>\n",
      "text/plain": [
       "<Figure size 864x432 with 1 Axes>"
      ]
     },
     "metadata": {},
     "output_type": "display_data"
    }
   ],
   "source": [
    "sns.set_style('whitegrid')\n",
    "fig, ax = plt.subplots(figsize=(12,6))\n",
    "plt.plot(index, res, color='b', label='LLR: %s'%ratio)\n",
    "ax.set_ylim(-0.1, 0.4)\n",
    "ax.set_title('HY Correlation')\n",
    "ax.set_xlabel('Lag')\n",
    "ax.set_ylabel('Cross-correlation')\n",
    "plt.legend(loc=0)"
   ]
  },
  {
   "cell_type": "code",
   "execution_count": 57,
   "metadata": {},
   "outputs": [
    {
     "data": {
      "text/plain": [
       "0.16933090959099134"
      ]
     },
     "execution_count": 57,
     "metadata": {},
     "output_type": "execute_result"
    }
   ],
   "source": [
    "res[res.__len__()//2]"
   ]
  },
  {
   "cell_type": "code",
   "execution_count": 17,
   "metadata": {},
   "outputs": [
    {
     "data": {
      "text/plain": [
       "0.16933090959099134"
      ]
     },
     "execution_count": 17,
     "metadata": {},
     "output_type": "execute_result"
    }
   ],
   "source": [
    "hy_corr(ci, ht, timedelta(seconds=0))"
   ]
  },
  {
   "cell_type": "code",
   "execution_count": 9,
   "metadata": {},
   "outputs": [],
   "source": [
    "def obtain_cross_correlation(code1, code2, date, grid):\n",
    "    src = RemoteSrc()\n",
    "    asset1 = src.get_raw_bars(code1, date)\n",
    "    asset2 = src.get_raw_bars(code2, date)\n",
    "    begin_time = '09:30:00'\n",
    "    end_time = '14:57:00'\n",
    "\n",
    "    # preprocessing\n",
    "    range_1 = (asset1['time'] >= begin_time)&(asset1['time'] < end_time)\n",
    "    asset1 = asset1[range_1]\n",
    "    asset1['midquote'] = (asset1['ask_price1'] + asset1['bid_price1'])/2\n",
    "    asset1['delta_quote'] = asset1['midquote'].diff()\n",
    "    asset1 = asset1[asset1['delta_quote'] != 0][['delta_quote', 'server_time']]\n",
    "\n",
    "    range_2 = (asset2['time'] >= begin_time)&(asset2['time'] < end_time)\n",
    "    asset2 = asset2[range_2]\n",
    "    asset2['midquote'] = (asset2['ask_price1'] + asset2['bid_price1'])/2\n",
    "    asset2['delta_quote'] = asset2['midquote'].diff()\n",
    "    asset2 = asset2[asset2['delta_quote'] != 0][['delta_quote', 'server_time']]\n",
    "\n",
    "    res_lag = list(map(lambda lag: hy_corr(asset1, asset2, lag, choice='lag'), grid))\n",
    "    res_lead = list(map(lambda lag: hy_corr(asset1, asset2, lag, choice='lead'), grid))\n",
    "    res_total = res_lag[::-1] + [hy_corr(asset1, asset2, timedelta(seconds=0))] + res_lead\n",
    "    return np.array(res_lag), np.array(res_lead), np.array(res_total)\n",
    "    \n",
    "def obtain_statistics(code_pair:tuple, date, grid):\n",
    "    code1, code2 = code_pair\n",
    "    res_lag, res_lead, res_total = obtain_cross_correlation(code1, code2, date, grid)\n",
    "    max_lead_corr, max_lag_corr = res_lead.max(), res_lag.max()\n",
    "    max_lead, max_lag = grid[res_lead.argmax()], grid[res_lag.argmax()]\n",
    "    llr = (res_lead**2).sum()/(res_lag**2).sum()\n",
    "    print(\"maximum lead correlation (lead = %s): %s\"%(max_lead, max_lead_corr))\n",
    "    print(\"maximum lag correlation (lag = %s): %s\"%(max_lag, max_lag_corr))\n",
    "    print(\"Lead/lag ratio of stock %s and %s: %s\"%(code1, code2, llr))\n",
    "    summary = {'max_lead': max_lead, 'max_lead_corr': max_lead_corr, 'max_lag': max_lag, 'max_lag_corr': max_lag_corr, 'hy_corr': res_total, 'LLR':llr}\n",
    "    return summary\n",
    "    # return max_lead, max_lead_corr, max_lag, max_lag_corr, llr, res_total"
   ]
  },
  {
   "cell_type": "code",
   "execution_count": 13,
   "metadata": {},
   "outputs": [
    {
     "data": {
      "text/plain": [
       "35"
      ]
     },
     "execution_count": 13,
     "metadata": {},
     "output_type": "execute_result"
    }
   ],
   "source": [
    "# nums = [i/100 for i in list(range(1,10))] + [i/10 for i in list(range(1,10))] + list(range(1,11)) + [15, 20, 30, 40, 50, 60, 70, 80, 90, 100, 110, 120, 180, 240, 300]\n",
    "nums = [i/2 for i in list(range(1,21))] + [15, 20, 30, 40, 50, 60, 70, 80, 90, 100, 110, 120, 180, 240, 300]\n",
    "grid = [timedelta(seconds=i) for i in nums]\n",
    "nums.__len__()"
   ]
  },
  {
   "cell_type": "code",
   "execution_count": 14,
   "metadata": {},
   "outputs": [
    {
     "data": {
      "text/plain": [
       "[(1, 3), (1, 4), (1, 5)]"
      ]
     },
     "execution_count": 14,
     "metadata": {},
     "output_type": "execute_result"
    }
   ],
   "source": [
    "list(product(*[[1], [3,4,5]]))"
   ]
  },
  {
   "cell_type": "code",
   "execution_count": 15,
   "metadata": {},
   "outputs": [],
   "source": [
    "from multiprocessing import cpu_count\n",
    "import functools\n",
    "import dask\n",
    "def scan_all_pairs(code_pairs, date, grid):\n",
    "    f_par = functools.partial(obtain_statistics, date=date, grid=grid)\n",
    "    result = joblib.Parallel(n_jobs=max(cpu_count() - 1, 1))(joblib.delayed(f_par)(code_pair) for code_pair in code_pairs)\n",
    "    # with dask.config.set(scheduler='processes', num_workers=cpu_count()-1):\n",
    "        # result = dask.compute(dask.delayed(f_par)(code_pair) for code_pair in code_pairs)\n",
    "    return result"
   ]
  },
  {
   "cell_type": "code",
   "execution_count": 16,
   "metadata": {},
   "outputs": [
    {
     "name": "stdout",
     "output_type": "stream",
     "text": [
      "maximum lead correlation (lead = 0:00:05): 0.19080530768880302\n",
      "maximum lag correlation (lag = 0:00:02.500000): 0.23692245770215645\n",
      "Lead/lag ratio of stock 600030 and 600837: 0.5417169082253731\n",
      "maximum lead correlation (lead = 0:01:00): 0.09076645875699274\n",
      "maximum lag correlation (lag = 0:00:20): 0.08142834571614853\n",
      "Lead/lag ratio of stock 600030 and 600838: 0.9874177566908056\n",
      "CPU times: user 466 ms, sys: 1.27 s, total: 1.74 s\n",
      "Wall time: 1min 18s\n"
     ]
    },
    {
     "data": {
      "text/plain": [
       "[{'max_lead': datetime.timedelta(seconds=5),\n",
       "  'max_lead_corr': 0.19080530768880302,\n",
       "  'max_lag': datetime.timedelta(seconds=2, microseconds=500000),\n",
       "  'max_lag_corr': 0.23692245770215645,\n",
       "  'hy_corr': array([ 0.04858143,  0.03978044,  0.01302545,  0.08941799,  0.06899971,\n",
       "          0.09716285,  0.05632629, -0.0017602 ,  0.04365287,  0.01584177,\n",
       "          0.09645877,  0.14539224,  0.08308128,  0.14468816,  0.12462192,\n",
       "          0.16264216,  0.17214722,  0.17144315,  0.1763717 ,  0.20242261,\n",
       "          0.19925425,  0.19960629,  0.20031037,  0.19467774,  0.20066241,\n",
       "          0.18658084,  0.20207057,  0.21016747,  0.2158001 ,  0.22812147,\n",
       "          0.23692246,  0.22460108,  0.19749405,  0.19960629,  0.20171853,\n",
       "          0.16933091,  0.1629942 ,  0.17109111,  0.18411656,  0.17073907,\n",
       "          0.1746115 ,  0.17038703,  0.17390742,  0.16686663,  0.18482064,\n",
       "          0.19080531,  0.18658084,  0.17214722,  0.15243302,  0.12884639,\n",
       "          0.11124442,  0.1038516 ,  0.09927509,  0.08624963,  0.09751489,\n",
       "          0.09927509,  0.0591426 ,  0.04963754, -0.01091322,  0.02182644,\n",
       "         -0.07357622,  0.00422447, -0.02006624,  0.00668875,  0.02499479,\n",
       "         -0.02429071,  0.02217848, -0.01443361,  0.00704079,  0.06547931,\n",
       "         -0.02464275]),\n",
       "  'LLR': 0.5417169082253731},\n",
       " {'max_lead': datetime.timedelta(seconds=60),\n",
       "  'max_lead_corr': 0.09076645875699274,\n",
       "  'max_lag': datetime.timedelta(seconds=20),\n",
       "  'max_lag_corr': 0.08142834571614853,\n",
       "  'hy_corr': array([-0.03548483, -0.00971164,  0.00522934,  0.0168086 , -0.01643508,\n",
       "         -0.01083221,  0.0029882 , -0.00224115, -0.0212909 ,  0.01045869,\n",
       "          0.06760794,  0.06013745,  0.02801434,  0.08142835,  0.01120574,\n",
       "          0.02913491,  0.03548483,  0.01904975,  0.0623786 ,  0.05864335,\n",
       "          0.06163155,  0.0623786 ,  0.05378753,  0.0776931 ,  0.07657253,\n",
       "          0.07657253,  0.06611384,  0.0564022 ,  0.06461974,  0.04855819,\n",
       "          0.04631704,  0.03548483,  0.04407589,  0.04706409,  0.0410877 ,\n",
       "          0.02539967,  0.04183475,  0.04967876,  0.0410877 ,  0.04482294,\n",
       "          0.03361721,  0.04332884,  0.02876139,  0.01942328,  0.02801434,\n",
       "          0.01867623,  0.03287016,  0.01269983,  0.05005229,  0.06648736,\n",
       "          0.05416106,  0.05341401,  0.05378753,  0.0776931 ,  0.04818466,\n",
       "          0.0395936 ,  0.04295532,  0.05341401,  0.02801434,  0.05378753,\n",
       "          0.06424622,  0.09076646,  0.05714925,  0.03137606,  0.04594352,\n",
       "          0.02502614, -0.02539967,  0.03623188,  0.06574032,  0.06312564,\n",
       "          0.02838786]),\n",
       "  'LLR': 0.9874177566908056}]"
      ]
     },
     "execution_count": 16,
     "metadata": {},
     "output_type": "execute_result"
    }
   ],
   "source": [
    "%%time\n",
    "from itertools import product\n",
    "\n",
    "code_list1 = ['600030']\n",
    "code_list2 = ['600837', '600838']\n",
    "all_pairs = list(product(*[code_list1, code_list2]))\n",
    "\n",
    "summary = scan_all_pairs(all_pairs, date, grid)\n",
    "summary"
   ]
  },
  {
   "cell_type": "code",
   "execution_count": 17,
   "metadata": {},
   "outputs": [
    {
     "data": {
      "text/plain": [
       "{'max_lead': datetime.timedelta(seconds=5),\n",
       " 'max_lead_corr': 0.19080530768880302,\n",
       " 'max_lag': datetime.timedelta(seconds=2, microseconds=500000),\n",
       " 'max_lag_corr': 0.23692245770215645,\n",
       " 'hy_corr': array([ 0.04858143,  0.03978044,  0.01302545,  0.08941799,  0.06899971,\n",
       "         0.09716285,  0.05632629, -0.0017602 ,  0.04365287,  0.01584177,\n",
       "         0.09645877,  0.14539224,  0.08308128,  0.14468816,  0.12462192,\n",
       "         0.16264216,  0.17214722,  0.17144315,  0.1763717 ,  0.20242261,\n",
       "         0.19925425,  0.19960629,  0.20031037,  0.19467774,  0.20066241,\n",
       "         0.18658084,  0.20207057,  0.21016747,  0.2158001 ,  0.22812147,\n",
       "         0.23692246,  0.22460108,  0.19749405,  0.19960629,  0.20171853,\n",
       "         0.16933091,  0.1629942 ,  0.17109111,  0.18411656,  0.17073907,\n",
       "         0.1746115 ,  0.17038703,  0.17390742,  0.16686663,  0.18482064,\n",
       "         0.19080531,  0.18658084,  0.17214722,  0.15243302,  0.12884639,\n",
       "         0.11124442,  0.1038516 ,  0.09927509,  0.08624963,  0.09751489,\n",
       "         0.09927509,  0.0591426 ,  0.04963754, -0.01091322,  0.02182644,\n",
       "        -0.07357622,  0.00422447, -0.02006624,  0.00668875,  0.02499479,\n",
       "        -0.02429071,  0.02217848, -0.01443361,  0.00704079,  0.06547931,\n",
       "        -0.02464275]),\n",
       " 'LLR': 0.5417169082253731}"
      ]
     },
     "execution_count": 17,
     "metadata": {},
     "output_type": "execute_result"
    }
   ],
   "source": [
    "summary[0]"
   ]
  },
  {
   "cell_type": "code",
   "execution_count": 18,
   "metadata": {},
   "outputs": [
    {
     "data": {
      "text/plain": [
       "<matplotlib.collections.LineCollection at 0x7f30b26462b0>"
      ]
     },
     "execution_count": 18,
     "metadata": {},
     "output_type": "execute_result"
    },
    {
     "data": {
      "image/svg+xml": "<?xml version=\"1.0\" encoding=\"utf-8\" standalone=\"no\"?>\n<!DOCTYPE svg PUBLIC \"-//W3C//DTD SVG 1.1//EN\"\n  \"http://www.w3.org/Graphics/SVG/1.1/DTD/svg11.dtd\">\n<svg xmlns:xlink=\"http://www.w3.org/1999/xlink\" width=\"720.58125pt\" height=\"386.034375pt\" viewBox=\"0 0 720.58125 386.034375\" xmlns=\"http://www.w3.org/2000/svg\" version=\"1.1\">\n <metadata>\n  <rdf:RDF xmlns:dc=\"http://purl.org/dc/elements/1.1/\" xmlns:cc=\"http://creativecommons.org/ns#\" xmlns:rdf=\"http://www.w3.org/1999/02/22-rdf-syntax-ns#\">\n   <cc:Work>\n    <dc:type rdf:resource=\"http://purl.org/dc/dcmitype/StillImage\"/>\n    <dc:date>2022-06-02T16:05:10.242925</dc:date>\n    <dc:format>image/svg+xml</dc:format>\n    <dc:creator>\n     <cc:Agent>\n      <dc:title>Matplotlib v3.5.1, https://matplotlib.org/</dc:title>\n     </cc:Agent>\n    </dc:creator>\n   </cc:Work>\n  </rdf:RDF>\n </metadata>\n <defs>\n  <style type=\"text/css\">*{stroke-linejoin: round; stroke-linecap: butt}</style>\n </defs>\n <g id=\"figure_1\">\n  <g id=\"patch_1\">\n   <path d=\"M 0 386.034375 \nL 720.58125 386.034375 \nL 720.58125 0 \nL 0 0 \nz\n\" style=\"fill: #ffffff\"/>\n  </g>\n  <g id=\"axes_1\">\n   <g id=\"patch_2\">\n    <path d=\"M 43.78125 348.478125 \nL 713.38125 348.478125 \nL 713.38125 22.318125 \nL 43.78125 22.318125 \nz\n\" style=\"fill: #ffffff\"/>\n   </g>\n   <g id=\"matplotlib.axis_1\">\n    <g id=\"xtick_1\">\n     <g id=\"line2d_1\">\n      <path d=\"M 74.217614 348.478125 \nL 74.217614 22.318125 \n\" clip-path=\"url(#p8f5da1e47f)\" style=\"fill: none; stroke: #cccccc; stroke-width: 0.8; stroke-linecap: round\"/>\n     </g>\n     <g id=\"text_1\">\n      <!-- -300 -->\n      <g style=\"fill: #262626\" transform=\"translate(62.869957 363.076562)scale(0.1 -0.1)\">\n       <defs>\n        <path id=\"DejaVuSans-2d\" d=\"M 313 2009 \nL 1997 2009 \nL 1997 1497 \nL 313 1497 \nL 313 2009 \nz\n\" transform=\"scale(0.015625)\"/>\n        <path id=\"DejaVuSans-33\" d=\"M 2597 2516 \nQ 3050 2419 3304 2112 \nQ 3559 1806 3559 1356 \nQ 3559 666 3084 287 \nQ 2609 -91 1734 -91 \nQ 1441 -91 1130 -33 \nQ 819 25 488 141 \nL 488 750 \nQ 750 597 1062 519 \nQ 1375 441 1716 441 \nQ 2309 441 2620 675 \nQ 2931 909 2931 1356 \nQ 2931 1769 2642 2001 \nQ 2353 2234 1838 2234 \nL 1294 2234 \nL 1294 2753 \nL 1863 2753 \nQ 2328 2753 2575 2939 \nQ 2822 3125 2822 3475 \nQ 2822 3834 2567 4026 \nQ 2313 4219 1838 4219 \nQ 1578 4219 1281 4162 \nQ 984 4106 628 3988 \nL 628 4550 \nQ 988 4650 1302 4700 \nQ 1616 4750 1894 4750 \nQ 2613 4750 3031 4423 \nQ 3450 4097 3450 3541 \nQ 3450 3153 3228 2886 \nQ 3006 2619 2597 2516 \nz\n\" transform=\"scale(0.015625)\"/>\n        <path id=\"DejaVuSans-30\" d=\"M 2034 4250 \nQ 1547 4250 1301 3770 \nQ 1056 3291 1056 2328 \nQ 1056 1369 1301 889 \nQ 1547 409 2034 409 \nQ 2525 409 2770 889 \nQ 3016 1369 3016 2328 \nQ 3016 3291 2770 3770 \nQ 2525 4250 2034 4250 \nz\nM 2034 4750 \nQ 2819 4750 3233 4129 \nQ 3647 3509 3647 2328 \nQ 3647 1150 3233 529 \nQ 2819 -91 2034 -91 \nQ 1250 -91 836 529 \nQ 422 1150 422 2328 \nQ 422 3509 836 4129 \nQ 1250 4750 2034 4750 \nz\n\" transform=\"scale(0.015625)\"/>\n       </defs>\n       <use xlink:href=\"#DejaVuSans-2d\"/>\n       <use xlink:href=\"#DejaVuSans-33\" x=\"36.083984\"/>\n       <use xlink:href=\"#DejaVuSans-30\" x=\"99.707031\"/>\n       <use xlink:href=\"#DejaVuSans-30\" x=\"163.330078\"/>\n      </g>\n     </g>\n    </g>\n    <g id=\"xtick_2\">\n     <g id=\"line2d_2\">\n      <path d=\"M 175.672159 348.478125 \nL 175.672159 22.318125 \n\" clip-path=\"url(#p8f5da1e47f)\" style=\"fill: none; stroke: #cccccc; stroke-width: 0.8; stroke-linecap: round\"/>\n     </g>\n     <g id=\"text_2\">\n      <!-- -200 -->\n      <g style=\"fill: #262626\" transform=\"translate(164.324503 363.076562)scale(0.1 -0.1)\">\n       <defs>\n        <path id=\"DejaVuSans-32\" d=\"M 1228 531 \nL 3431 531 \nL 3431 0 \nL 469 0 \nL 469 531 \nQ 828 903 1448 1529 \nQ 2069 2156 2228 2338 \nQ 2531 2678 2651 2914 \nQ 2772 3150 2772 3378 \nQ 2772 3750 2511 3984 \nQ 2250 4219 1831 4219 \nQ 1534 4219 1204 4116 \nQ 875 4013 500 3803 \nL 500 4441 \nQ 881 4594 1212 4672 \nQ 1544 4750 1819 4750 \nQ 2544 4750 2975 4387 \nQ 3406 4025 3406 3419 \nQ 3406 3131 3298 2873 \nQ 3191 2616 2906 2266 \nQ 2828 2175 2409 1742 \nQ 1991 1309 1228 531 \nz\n\" transform=\"scale(0.015625)\"/>\n       </defs>\n       <use xlink:href=\"#DejaVuSans-2d\"/>\n       <use xlink:href=\"#DejaVuSans-32\" x=\"36.083984\"/>\n       <use xlink:href=\"#DejaVuSans-30\" x=\"99.707031\"/>\n       <use xlink:href=\"#DejaVuSans-30\" x=\"163.330078\"/>\n      </g>\n     </g>\n    </g>\n    <g id=\"xtick_3\">\n     <g id=\"line2d_3\">\n      <path d=\"M 277.126705 348.478125 \nL 277.126705 22.318125 \n\" clip-path=\"url(#p8f5da1e47f)\" style=\"fill: none; stroke: #cccccc; stroke-width: 0.8; stroke-linecap: round\"/>\n     </g>\n     <g id=\"text_3\">\n      <!-- -100 -->\n      <g style=\"fill: #262626\" transform=\"translate(265.779048 363.076562)scale(0.1 -0.1)\">\n       <defs>\n        <path id=\"DejaVuSans-31\" d=\"M 794 531 \nL 1825 531 \nL 1825 4091 \nL 703 3866 \nL 703 4441 \nL 1819 4666 \nL 2450 4666 \nL 2450 531 \nL 3481 531 \nL 3481 0 \nL 794 0 \nL 794 531 \nz\n\" transform=\"scale(0.015625)\"/>\n       </defs>\n       <use xlink:href=\"#DejaVuSans-2d\"/>\n       <use xlink:href=\"#DejaVuSans-31\" x=\"36.083984\"/>\n       <use xlink:href=\"#DejaVuSans-30\" x=\"99.707031\"/>\n       <use xlink:href=\"#DejaVuSans-30\" x=\"163.330078\"/>\n      </g>\n     </g>\n    </g>\n    <g id=\"xtick_4\">\n     <g id=\"line2d_4\">\n      <path d=\"M 378.58125 348.478125 \nL 378.58125 22.318125 \n\" clip-path=\"url(#p8f5da1e47f)\" style=\"fill: none; stroke: #cccccc; stroke-width: 0.8; stroke-linecap: round\"/>\n     </g>\n     <g id=\"text_4\">\n      <!-- 0 -->\n      <g style=\"fill: #262626\" transform=\"translate(375.4 363.076562)scale(0.1 -0.1)\">\n       <use xlink:href=\"#DejaVuSans-30\"/>\n      </g>\n     </g>\n    </g>\n    <g id=\"xtick_5\">\n     <g id=\"line2d_5\">\n      <path d=\"M 480.035795 348.478125 \nL 480.035795 22.318125 \n\" clip-path=\"url(#p8f5da1e47f)\" style=\"fill: none; stroke: #cccccc; stroke-width: 0.8; stroke-linecap: round\"/>\n     </g>\n     <g id=\"text_5\">\n      <!-- 100 -->\n      <g style=\"fill: #262626\" transform=\"translate(470.492045 363.076562)scale(0.1 -0.1)\">\n       <use xlink:href=\"#DejaVuSans-31\"/>\n       <use xlink:href=\"#DejaVuSans-30\" x=\"63.623047\"/>\n       <use xlink:href=\"#DejaVuSans-30\" x=\"127.246094\"/>\n      </g>\n     </g>\n    </g>\n    <g id=\"xtick_6\">\n     <g id=\"line2d_6\">\n      <path d=\"M 581.490341 348.478125 \nL 581.490341 22.318125 \n\" clip-path=\"url(#p8f5da1e47f)\" style=\"fill: none; stroke: #cccccc; stroke-width: 0.8; stroke-linecap: round\"/>\n     </g>\n     <g id=\"text_6\">\n      <!-- 200 -->\n      <g style=\"fill: #262626\" transform=\"translate(571.946591 363.076562)scale(0.1 -0.1)\">\n       <use xlink:href=\"#DejaVuSans-32\"/>\n       <use xlink:href=\"#DejaVuSans-30\" x=\"63.623047\"/>\n       <use xlink:href=\"#DejaVuSans-30\" x=\"127.246094\"/>\n      </g>\n     </g>\n    </g>\n    <g id=\"xtick_7\">\n     <g id=\"line2d_7\">\n      <path d=\"M 682.944886 348.478125 \nL 682.944886 22.318125 \n\" clip-path=\"url(#p8f5da1e47f)\" style=\"fill: none; stroke: #cccccc; stroke-width: 0.8; stroke-linecap: round\"/>\n     </g>\n     <g id=\"text_7\">\n      <!-- 300 -->\n      <g style=\"fill: #262626\" transform=\"translate(673.401136 363.076562)scale(0.1 -0.1)\">\n       <use xlink:href=\"#DejaVuSans-33\"/>\n       <use xlink:href=\"#DejaVuSans-30\" x=\"63.623047\"/>\n       <use xlink:href=\"#DejaVuSans-30\" x=\"127.246094\"/>\n      </g>\n     </g>\n    </g>\n    <g id=\"text_8\">\n     <!-- Lag -->\n     <g style=\"fill: #262626\" transform=\"translate(369.557031 376.754687)scale(0.1 -0.1)\">\n      <defs>\n       <path id=\"DejaVuSans-4c\" d=\"M 628 4666 \nL 1259 4666 \nL 1259 531 \nL 3531 531 \nL 3531 0 \nL 628 0 \nL 628 4666 \nz\n\" transform=\"scale(0.015625)\"/>\n       <path id=\"DejaVuSans-61\" d=\"M 2194 1759 \nQ 1497 1759 1228 1600 \nQ 959 1441 959 1056 \nQ 959 750 1161 570 \nQ 1363 391 1709 391 \nQ 2188 391 2477 730 \nQ 2766 1069 2766 1631 \nL 2766 1759 \nL 2194 1759 \nz\nM 3341 1997 \nL 3341 0 \nL 2766 0 \nL 2766 531 \nQ 2569 213 2275 61 \nQ 1981 -91 1556 -91 \nQ 1019 -91 701 211 \nQ 384 513 384 1019 \nQ 384 1609 779 1909 \nQ 1175 2209 1959 2209 \nL 2766 2209 \nL 2766 2266 \nQ 2766 2663 2505 2880 \nQ 2244 3097 1772 3097 \nQ 1472 3097 1187 3025 \nQ 903 2953 641 2809 \nL 641 3341 \nQ 956 3463 1253 3523 \nQ 1550 3584 1831 3584 \nQ 2591 3584 2966 3190 \nQ 3341 2797 3341 1997 \nz\n\" transform=\"scale(0.015625)\"/>\n       <path id=\"DejaVuSans-67\" d=\"M 2906 1791 \nQ 2906 2416 2648 2759 \nQ 2391 3103 1925 3103 \nQ 1463 3103 1205 2759 \nQ 947 2416 947 1791 \nQ 947 1169 1205 825 \nQ 1463 481 1925 481 \nQ 2391 481 2648 825 \nQ 2906 1169 2906 1791 \nz\nM 3481 434 \nQ 3481 -459 3084 -895 \nQ 2688 -1331 1869 -1331 \nQ 1566 -1331 1297 -1286 \nQ 1028 -1241 775 -1147 \nL 775 -588 \nQ 1028 -725 1275 -790 \nQ 1522 -856 1778 -856 \nQ 2344 -856 2625 -561 \nQ 2906 -266 2906 331 \nL 2906 616 \nQ 2728 306 2450 153 \nQ 2172 0 1784 0 \nQ 1141 0 747 490 \nQ 353 981 353 1791 \nQ 353 2603 747 3093 \nQ 1141 3584 1784 3584 \nQ 2172 3584 2450 3431 \nQ 2728 3278 2906 2969 \nL 2906 3500 \nL 3481 3500 \nL 3481 434 \nz\n\" transform=\"scale(0.015625)\"/>\n      </defs>\n      <use xlink:href=\"#DejaVuSans-4c\"/>\n      <use xlink:href=\"#DejaVuSans-61\" x=\"55.712891\"/>\n      <use xlink:href=\"#DejaVuSans-67\" x=\"116.992188\"/>\n     </g>\n    </g>\n   </g>\n   <g id=\"matplotlib.axis_2\">\n    <g id=\"ytick_1\">\n     <g id=\"line2d_8\">\n      <path d=\"M 43.78125 315.862125 \nL 713.38125 315.862125 \n\" clip-path=\"url(#p8f5da1e47f)\" style=\"fill: none; stroke: #cccccc; stroke-width: 0.8; stroke-linecap: round\"/>\n     </g>\n     <g id=\"text_9\">\n      <!-- 0.0 -->\n      <g style=\"fill: #262626\" transform=\"translate(20.878125 319.661344)scale(0.1 -0.1)\">\n       <defs>\n        <path id=\"DejaVuSans-2e\" d=\"M 684 794 \nL 1344 794 \nL 1344 0 \nL 684 0 \nL 684 794 \nz\n\" transform=\"scale(0.015625)\"/>\n       </defs>\n       <use xlink:href=\"#DejaVuSans-30\"/>\n       <use xlink:href=\"#DejaVuSans-2e\" x=\"63.623047\"/>\n       <use xlink:href=\"#DejaVuSans-30\" x=\"95.410156\"/>\n      </g>\n     </g>\n    </g>\n    <g id=\"ytick_2\">\n     <g id=\"line2d_9\">\n      <path d=\"M 43.78125 250.630125 \nL 713.38125 250.630125 \n\" clip-path=\"url(#p8f5da1e47f)\" style=\"fill: none; stroke: #cccccc; stroke-width: 0.8; stroke-linecap: round\"/>\n     </g>\n     <g id=\"text_10\">\n      <!-- 0.2 -->\n      <g style=\"fill: #262626\" transform=\"translate(20.878125 254.429344)scale(0.1 -0.1)\">\n       <use xlink:href=\"#DejaVuSans-30\"/>\n       <use xlink:href=\"#DejaVuSans-2e\" x=\"63.623047\"/>\n       <use xlink:href=\"#DejaVuSans-32\" x=\"95.410156\"/>\n      </g>\n     </g>\n    </g>\n    <g id=\"ytick_3\">\n     <g id=\"line2d_10\">\n      <path d=\"M 43.78125 185.398125 \nL 713.38125 185.398125 \n\" clip-path=\"url(#p8f5da1e47f)\" style=\"fill: none; stroke: #cccccc; stroke-width: 0.8; stroke-linecap: round\"/>\n     </g>\n     <g id=\"text_11\">\n      <!-- 0.4 -->\n      <g style=\"fill: #262626\" transform=\"translate(20.878125 189.197344)scale(0.1 -0.1)\">\n       <defs>\n        <path id=\"DejaVuSans-34\" d=\"M 2419 4116 \nL 825 1625 \nL 2419 1625 \nL 2419 4116 \nz\nM 2253 4666 \nL 3047 4666 \nL 3047 1625 \nL 3713 1625 \nL 3713 1100 \nL 3047 1100 \nL 3047 0 \nL 2419 0 \nL 2419 1100 \nL 313 1100 \nL 313 1709 \nL 2253 4666 \nz\n\" transform=\"scale(0.015625)\"/>\n       </defs>\n       <use xlink:href=\"#DejaVuSans-30\"/>\n       <use xlink:href=\"#DejaVuSans-2e\" x=\"63.623047\"/>\n       <use xlink:href=\"#DejaVuSans-34\" x=\"95.410156\"/>\n      </g>\n     </g>\n    </g>\n    <g id=\"ytick_4\">\n     <g id=\"line2d_11\">\n      <path d=\"M 43.78125 120.166125 \nL 713.38125 120.166125 \n\" clip-path=\"url(#p8f5da1e47f)\" style=\"fill: none; stroke: #cccccc; stroke-width: 0.8; stroke-linecap: round\"/>\n     </g>\n     <g id=\"text_12\">\n      <!-- 0.6 -->\n      <g style=\"fill: #262626\" transform=\"translate(20.878125 123.965344)scale(0.1 -0.1)\">\n       <defs>\n        <path id=\"DejaVuSans-36\" d=\"M 2113 2584 \nQ 1688 2584 1439 2293 \nQ 1191 2003 1191 1497 \nQ 1191 994 1439 701 \nQ 1688 409 2113 409 \nQ 2538 409 2786 701 \nQ 3034 994 3034 1497 \nQ 3034 2003 2786 2293 \nQ 2538 2584 2113 2584 \nz\nM 3366 4563 \nL 3366 3988 \nQ 3128 4100 2886 4159 \nQ 2644 4219 2406 4219 \nQ 1781 4219 1451 3797 \nQ 1122 3375 1075 2522 \nQ 1259 2794 1537 2939 \nQ 1816 3084 2150 3084 \nQ 2853 3084 3261 2657 \nQ 3669 2231 3669 1497 \nQ 3669 778 3244 343 \nQ 2819 -91 2113 -91 \nQ 1303 -91 875 529 \nQ 447 1150 447 2328 \nQ 447 3434 972 4092 \nQ 1497 4750 2381 4750 \nQ 2619 4750 2861 4703 \nQ 3103 4656 3366 4563 \nz\n\" transform=\"scale(0.015625)\"/>\n       </defs>\n       <use xlink:href=\"#DejaVuSans-30\"/>\n       <use xlink:href=\"#DejaVuSans-2e\" x=\"63.623047\"/>\n       <use xlink:href=\"#DejaVuSans-36\" x=\"95.410156\"/>\n      </g>\n     </g>\n    </g>\n    <g id=\"ytick_5\">\n     <g id=\"line2d_12\">\n      <path d=\"M 43.78125 54.934125 \nL 713.38125 54.934125 \n\" clip-path=\"url(#p8f5da1e47f)\" style=\"fill: none; stroke: #cccccc; stroke-width: 0.8; stroke-linecap: round\"/>\n     </g>\n     <g id=\"text_13\">\n      <!-- 0.8 -->\n      <g style=\"fill: #262626\" transform=\"translate(20.878125 58.733344)scale(0.1 -0.1)\">\n       <defs>\n        <path id=\"DejaVuSans-38\" d=\"M 2034 2216 \nQ 1584 2216 1326 1975 \nQ 1069 1734 1069 1313 \nQ 1069 891 1326 650 \nQ 1584 409 2034 409 \nQ 2484 409 2743 651 \nQ 3003 894 3003 1313 \nQ 3003 1734 2745 1975 \nQ 2488 2216 2034 2216 \nz\nM 1403 2484 \nQ 997 2584 770 2862 \nQ 544 3141 544 3541 \nQ 544 4100 942 4425 \nQ 1341 4750 2034 4750 \nQ 2731 4750 3128 4425 \nQ 3525 4100 3525 3541 \nQ 3525 3141 3298 2862 \nQ 3072 2584 2669 2484 \nQ 3125 2378 3379 2068 \nQ 3634 1759 3634 1313 \nQ 3634 634 3220 271 \nQ 2806 -91 2034 -91 \nQ 1263 -91 848 271 \nQ 434 634 434 1313 \nQ 434 1759 690 2068 \nQ 947 2378 1403 2484 \nz\nM 1172 3481 \nQ 1172 3119 1398 2916 \nQ 1625 2713 2034 2713 \nQ 2441 2713 2670 2916 \nQ 2900 3119 2900 3481 \nQ 2900 3844 2670 4047 \nQ 2441 4250 2034 4250 \nQ 1625 4250 1398 4047 \nQ 1172 3844 1172 3481 \nz\n\" transform=\"scale(0.015625)\"/>\n       </defs>\n       <use xlink:href=\"#DejaVuSans-30\"/>\n       <use xlink:href=\"#DejaVuSans-2e\" x=\"63.623047\"/>\n       <use xlink:href=\"#DejaVuSans-38\" x=\"95.410156\"/>\n      </g>\n     </g>\n    </g>\n    <g id=\"text_14\">\n     <!-- Cross-correlation -->\n     <g style=\"fill: #262626\" transform=\"translate(14.798438 227.731719)rotate(-90)scale(0.1 -0.1)\">\n      <defs>\n       <path id=\"DejaVuSans-43\" d=\"M 4122 4306 \nL 4122 3641 \nQ 3803 3938 3442 4084 \nQ 3081 4231 2675 4231 \nQ 1875 4231 1450 3742 \nQ 1025 3253 1025 2328 \nQ 1025 1406 1450 917 \nQ 1875 428 2675 428 \nQ 3081 428 3442 575 \nQ 3803 722 4122 1019 \nL 4122 359 \nQ 3791 134 3420 21 \nQ 3050 -91 2638 -91 \nQ 1578 -91 968 557 \nQ 359 1206 359 2328 \nQ 359 3453 968 4101 \nQ 1578 4750 2638 4750 \nQ 3056 4750 3426 4639 \nQ 3797 4528 4122 4306 \nz\n\" transform=\"scale(0.015625)\"/>\n       <path id=\"DejaVuSans-72\" d=\"M 2631 2963 \nQ 2534 3019 2420 3045 \nQ 2306 3072 2169 3072 \nQ 1681 3072 1420 2755 \nQ 1159 2438 1159 1844 \nL 1159 0 \nL 581 0 \nL 581 3500 \nL 1159 3500 \nL 1159 2956 \nQ 1341 3275 1631 3429 \nQ 1922 3584 2338 3584 \nQ 2397 3584 2469 3576 \nQ 2541 3569 2628 3553 \nL 2631 2963 \nz\n\" transform=\"scale(0.015625)\"/>\n       <path id=\"DejaVuSans-6f\" d=\"M 1959 3097 \nQ 1497 3097 1228 2736 \nQ 959 2375 959 1747 \nQ 959 1119 1226 758 \nQ 1494 397 1959 397 \nQ 2419 397 2687 759 \nQ 2956 1122 2956 1747 \nQ 2956 2369 2687 2733 \nQ 2419 3097 1959 3097 \nz\nM 1959 3584 \nQ 2709 3584 3137 3096 \nQ 3566 2609 3566 1747 \nQ 3566 888 3137 398 \nQ 2709 -91 1959 -91 \nQ 1206 -91 779 398 \nQ 353 888 353 1747 \nQ 353 2609 779 3096 \nQ 1206 3584 1959 3584 \nz\n\" transform=\"scale(0.015625)\"/>\n       <path id=\"DejaVuSans-73\" d=\"M 2834 3397 \nL 2834 2853 \nQ 2591 2978 2328 3040 \nQ 2066 3103 1784 3103 \nQ 1356 3103 1142 2972 \nQ 928 2841 928 2578 \nQ 928 2378 1081 2264 \nQ 1234 2150 1697 2047 \nL 1894 2003 \nQ 2506 1872 2764 1633 \nQ 3022 1394 3022 966 \nQ 3022 478 2636 193 \nQ 2250 -91 1575 -91 \nQ 1294 -91 989 -36 \nQ 684 19 347 128 \nL 347 722 \nQ 666 556 975 473 \nQ 1284 391 1588 391 \nQ 1994 391 2212 530 \nQ 2431 669 2431 922 \nQ 2431 1156 2273 1281 \nQ 2116 1406 1581 1522 \nL 1381 1569 \nQ 847 1681 609 1914 \nQ 372 2147 372 2553 \nQ 372 3047 722 3315 \nQ 1072 3584 1716 3584 \nQ 2034 3584 2315 3537 \nQ 2597 3491 2834 3397 \nz\n\" transform=\"scale(0.015625)\"/>\n       <path id=\"DejaVuSans-63\" d=\"M 3122 3366 \nL 3122 2828 \nQ 2878 2963 2633 3030 \nQ 2388 3097 2138 3097 \nQ 1578 3097 1268 2742 \nQ 959 2388 959 1747 \nQ 959 1106 1268 751 \nQ 1578 397 2138 397 \nQ 2388 397 2633 464 \nQ 2878 531 3122 666 \nL 3122 134 \nQ 2881 22 2623 -34 \nQ 2366 -91 2075 -91 \nQ 1284 -91 818 406 \nQ 353 903 353 1747 \nQ 353 2603 823 3093 \nQ 1294 3584 2113 3584 \nQ 2378 3584 2631 3529 \nQ 2884 3475 3122 3366 \nz\n\" transform=\"scale(0.015625)\"/>\n       <path id=\"DejaVuSans-65\" d=\"M 3597 1894 \nL 3597 1613 \nL 953 1613 \nQ 991 1019 1311 708 \nQ 1631 397 2203 397 \nQ 2534 397 2845 478 \nQ 3156 559 3463 722 \nL 3463 178 \nQ 3153 47 2828 -22 \nQ 2503 -91 2169 -91 \nQ 1331 -91 842 396 \nQ 353 884 353 1716 \nQ 353 2575 817 3079 \nQ 1281 3584 2069 3584 \nQ 2775 3584 3186 3129 \nQ 3597 2675 3597 1894 \nz\nM 3022 2063 \nQ 3016 2534 2758 2815 \nQ 2500 3097 2075 3097 \nQ 1594 3097 1305 2825 \nQ 1016 2553 972 2059 \nL 3022 2063 \nz\n\" transform=\"scale(0.015625)\"/>\n       <path id=\"DejaVuSans-6c\" d=\"M 603 4863 \nL 1178 4863 \nL 1178 0 \nL 603 0 \nL 603 4863 \nz\n\" transform=\"scale(0.015625)\"/>\n       <path id=\"DejaVuSans-74\" d=\"M 1172 4494 \nL 1172 3500 \nL 2356 3500 \nL 2356 3053 \nL 1172 3053 \nL 1172 1153 \nQ 1172 725 1289 603 \nQ 1406 481 1766 481 \nL 2356 481 \nL 2356 0 \nL 1766 0 \nQ 1100 0 847 248 \nQ 594 497 594 1153 \nL 594 3053 \nL 172 3053 \nL 172 3500 \nL 594 3500 \nL 594 4494 \nL 1172 4494 \nz\n\" transform=\"scale(0.015625)\"/>\n       <path id=\"DejaVuSans-69\" d=\"M 603 3500 \nL 1178 3500 \nL 1178 0 \nL 603 0 \nL 603 3500 \nz\nM 603 4863 \nL 1178 4863 \nL 1178 4134 \nL 603 4134 \nL 603 4863 \nz\n\" transform=\"scale(0.015625)\"/>\n       <path id=\"DejaVuSans-6e\" d=\"M 3513 2113 \nL 3513 0 \nL 2938 0 \nL 2938 2094 \nQ 2938 2591 2744 2837 \nQ 2550 3084 2163 3084 \nQ 1697 3084 1428 2787 \nQ 1159 2491 1159 1978 \nL 1159 0 \nL 581 0 \nL 581 3500 \nL 1159 3500 \nL 1159 2956 \nQ 1366 3272 1645 3428 \nQ 1925 3584 2291 3584 \nQ 2894 3584 3203 3211 \nQ 3513 2838 3513 2113 \nz\n\" transform=\"scale(0.015625)\"/>\n      </defs>\n      <use xlink:href=\"#DejaVuSans-43\"/>\n      <use xlink:href=\"#DejaVuSans-72\" x=\"69.824219\"/>\n      <use xlink:href=\"#DejaVuSans-6f\" x=\"108.6875\"/>\n      <use xlink:href=\"#DejaVuSans-73\" x=\"169.869141\"/>\n      <use xlink:href=\"#DejaVuSans-73\" x=\"221.96875\"/>\n      <use xlink:href=\"#DejaVuSans-2d\" x=\"274.068359\"/>\n      <use xlink:href=\"#DejaVuSans-63\" x=\"310.152344\"/>\n      <use xlink:href=\"#DejaVuSans-6f\" x=\"365.132812\"/>\n      <use xlink:href=\"#DejaVuSans-72\" x=\"426.314453\"/>\n      <use xlink:href=\"#DejaVuSans-72\" x=\"465.677734\"/>\n      <use xlink:href=\"#DejaVuSans-65\" x=\"504.541016\"/>\n      <use xlink:href=\"#DejaVuSans-6c\" x=\"566.064453\"/>\n      <use xlink:href=\"#DejaVuSans-61\" x=\"593.847656\"/>\n      <use xlink:href=\"#DejaVuSans-74\" x=\"655.126953\"/>\n      <use xlink:href=\"#DejaVuSans-69\" x=\"694.335938\"/>\n      <use xlink:href=\"#DejaVuSans-6f\" x=\"722.119141\"/>\n      <use xlink:href=\"#DejaVuSans-6e\" x=\"783.300781\"/>\n     </g>\n    </g>\n   </g>\n   <g id=\"line2d_13\">\n    <path d=\"M 74.217614 300.016807 \nL 135.090341 302.887336 \nL 195.963068 311.613743 \nL 256.835795 286.697555 \nL 266.98125 293.357181 \nL 277.126705 284.17149 \nL 287.272159 297.490742 \nL 297.417614 316.436231 \nL 307.563068 301.624303 \nL 317.708523 310.695174 \nL 327.853977 284.401132 \nL 337.999432 268.440993 \nL 348.144886 288.764335 \nL 358.290341 268.670635 \nL 363.363068 275.215441 \nL 368.435795 262.814757 \nL 368.943068 259.714586 \nL 369.450341 259.944229 \nL 369.957614 258.336733 \nL 370.464886 249.839968 \nL 370.972159 250.873358 \nL 371.479432 250.758537 \nL 371.986705 250.528895 \nL 372.493977 252.366033 \nL 373.00125 250.414074 \nL 373.508523 255.00692 \nL 374.015795 249.954789 \nL 374.523068 247.313903 \nL 375.030341 245.476765 \nL 375.537614 241.458025 \nL 376.044886 238.587496 \nL 376.552159 242.606236 \nL 377.059432 251.447464 \nL 377.566705 250.758537 \nL 378.073977 250.06961 \nL 378.58125 260.633156 \nL 379.088523 262.699936 \nL 379.595795 260.05905 \nL 380.103068 255.810668 \nL 380.610341 260.173871 \nL 381.117614 258.910838 \nL 381.624886 260.288692 \nL 382.132159 259.140481 \nL 382.639432 261.436904 \nL 383.146705 255.581025 \nL 383.653977 253.629066 \nL 384.16125 255.00692 \nL 384.668523 259.714586 \nL 385.175795 266.14457 \nL 385.683068 273.837587 \nL 386.190341 279.578644 \nL 386.697614 281.989888 \nL 387.204886 283.482563 \nL 387.712159 287.730945 \nL 388.219432 284.056669 \nL 388.726705 283.482563 \nL 393.799432 296.572173 \nL 398.872159 299.672344 \nL 409.017614 319.42158 \nL 419.163068 308.743214 \nL 429.308523 339.859744 \nL 439.453977 314.484271 \nL 449.599432 322.40693 \nL 459.744886 313.680523 \nL 469.890341 307.709824 \nL 480.035795 323.784784 \nL 490.18125 308.628393 \nL 500.326705 320.569792 \nL 561.199432 313.565702 \nL 622.072159 294.505393 \nL 682.944886 323.899605 \n\" clip-path=\"url(#p8f5da1e47f)\" style=\"fill: none; stroke: #0000ff; stroke-width: 1.5; stroke-linecap: round\"/>\n   </g>\n   <g id=\"LineCollection_1\">\n    <path d=\"M 378.58125 348.478125 \nL 378.58125 185.398125 \n\" clip-path=\"url(#p8f5da1e47f)\" style=\"fill: none; stroke-dasharray: 5.55,2.4; stroke-dashoffset: 0; stroke: #ff0000; stroke-width: 1.5\"/>\n   </g>\n   <g id=\"patch_3\">\n    <path d=\"M 43.78125 348.478125 \nL 43.78125 22.318125 \n\" style=\"fill: none; stroke: #cccccc; stroke-width: 0.8; stroke-linejoin: miter; stroke-linecap: square\"/>\n   </g>\n   <g id=\"patch_4\">\n    <path d=\"M 713.38125 348.478125 \nL 713.38125 22.318125 \n\" style=\"fill: none; stroke: #cccccc; stroke-width: 0.8; stroke-linejoin: miter; stroke-linecap: square\"/>\n   </g>\n   <g id=\"patch_5\">\n    <path d=\"M 43.78125 348.478125 \nL 713.38125 348.478125 \n\" style=\"fill: none; stroke: #cccccc; stroke-width: 0.8; stroke-linejoin: miter; stroke-linecap: square\"/>\n   </g>\n   <g id=\"patch_6\">\n    <path d=\"M 43.78125 22.318125 \nL 713.38125 22.318125 \n\" style=\"fill: none; stroke: #cccccc; stroke-width: 0.8; stroke-linejoin: miter; stroke-linecap: square\"/>\n   </g>\n   <g id=\"text_15\">\n    <!-- HY Correlation -->\n    <g style=\"fill: #262626\" transform=\"translate(335.415 16.318125)scale(0.12 -0.12)\">\n     <defs>\n      <path id=\"DejaVuSans-48\" d=\"M 628 4666 \nL 1259 4666 \nL 1259 2753 \nL 3553 2753 \nL 3553 4666 \nL 4184 4666 \nL 4184 0 \nL 3553 0 \nL 3553 2222 \nL 1259 2222 \nL 1259 0 \nL 628 0 \nL 628 4666 \nz\n\" transform=\"scale(0.015625)\"/>\n      <path id=\"DejaVuSans-59\" d=\"M -13 4666 \nL 666 4666 \nL 1959 2747 \nL 3244 4666 \nL 3922 4666 \nL 2272 2222 \nL 2272 0 \nL 1638 0 \nL 1638 2222 \nL -13 4666 \nz\n\" transform=\"scale(0.015625)\"/>\n      <path id=\"DejaVuSans-20\" transform=\"scale(0.015625)\"/>\n     </defs>\n     <use xlink:href=\"#DejaVuSans-48\"/>\n     <use xlink:href=\"#DejaVuSans-59\" x=\"75.195312\"/>\n     <use xlink:href=\"#DejaVuSans-20\" x=\"136.279297\"/>\n     <use xlink:href=\"#DejaVuSans-43\" x=\"168.066406\"/>\n     <use xlink:href=\"#DejaVuSans-6f\" x=\"237.890625\"/>\n     <use xlink:href=\"#DejaVuSans-72\" x=\"299.072266\"/>\n     <use xlink:href=\"#DejaVuSans-72\" x=\"338.435547\"/>\n     <use xlink:href=\"#DejaVuSans-65\" x=\"377.298828\"/>\n     <use xlink:href=\"#DejaVuSans-6c\" x=\"438.822266\"/>\n     <use xlink:href=\"#DejaVuSans-61\" x=\"466.605469\"/>\n     <use xlink:href=\"#DejaVuSans-74\" x=\"527.884766\"/>\n     <use xlink:href=\"#DejaVuSans-69\" x=\"567.09375\"/>\n     <use xlink:href=\"#DejaVuSans-6f\" x=\"594.876953\"/>\n     <use xlink:href=\"#DejaVuSans-6e\" x=\"656.058594\"/>\n    </g>\n   </g>\n   <g id=\"legend_1\">\n    <g id=\"patch_7\">\n     <path d=\"M 538.714063 44.99625 \nL 706.38125 44.99625 \nQ 708.38125 44.99625 708.38125 42.99625 \nL 708.38125 29.318125 \nQ 708.38125 27.318125 706.38125 27.318125 \nL 538.714063 27.318125 \nQ 536.714063 27.318125 536.714063 29.318125 \nL 536.714063 42.99625 \nQ 536.714063 44.99625 538.714063 44.99625 \nz\n\" style=\"fill: #ffffff; opacity: 0.8; stroke: #cccccc; stroke-linejoin: miter\"/>\n    </g>\n    <g id=\"line2d_14\">\n     <path d=\"M 540.714063 35.416562 \nL 550.714063 35.416562 \nL 560.714063 35.416562 \n\" style=\"fill: none; stroke: #0000ff; stroke-width: 1.5; stroke-linecap: round\"/>\n    </g>\n    <g id=\"text_16\">\n     <!-- LLR: 0.5417169082253731 -->\n     <g style=\"fill: #262626\" transform=\"translate(568.714063 38.916562)scale(0.1 -0.1)\">\n      <defs>\n       <path id=\"DejaVuSans-52\" d=\"M 2841 2188 \nQ 3044 2119 3236 1894 \nQ 3428 1669 3622 1275 \nL 4263 0 \nL 3584 0 \nL 2988 1197 \nQ 2756 1666 2539 1819 \nQ 2322 1972 1947 1972 \nL 1259 1972 \nL 1259 0 \nL 628 0 \nL 628 4666 \nL 2053 4666 \nQ 2853 4666 3247 4331 \nQ 3641 3997 3641 3322 \nQ 3641 2881 3436 2590 \nQ 3231 2300 2841 2188 \nz\nM 1259 4147 \nL 1259 2491 \nL 2053 2491 \nQ 2509 2491 2742 2702 \nQ 2975 2913 2975 3322 \nQ 2975 3731 2742 3939 \nQ 2509 4147 2053 4147 \nL 1259 4147 \nz\n\" transform=\"scale(0.015625)\"/>\n       <path id=\"DejaVuSans-3a\" d=\"M 750 794 \nL 1409 794 \nL 1409 0 \nL 750 0 \nL 750 794 \nz\nM 750 3309 \nL 1409 3309 \nL 1409 2516 \nL 750 2516 \nL 750 3309 \nz\n\" transform=\"scale(0.015625)\"/>\n       <path id=\"DejaVuSans-35\" d=\"M 691 4666 \nL 3169 4666 \nL 3169 4134 \nL 1269 4134 \nL 1269 2991 \nQ 1406 3038 1543 3061 \nQ 1681 3084 1819 3084 \nQ 2600 3084 3056 2656 \nQ 3513 2228 3513 1497 \nQ 3513 744 3044 326 \nQ 2575 -91 1722 -91 \nQ 1428 -91 1123 -41 \nQ 819 9 494 109 \nL 494 744 \nQ 775 591 1075 516 \nQ 1375 441 1709 441 \nQ 2250 441 2565 725 \nQ 2881 1009 2881 1497 \nQ 2881 1984 2565 2268 \nQ 2250 2553 1709 2553 \nQ 1456 2553 1204 2497 \nQ 953 2441 691 2322 \nL 691 4666 \nz\n\" transform=\"scale(0.015625)\"/>\n       <path id=\"DejaVuSans-37\" d=\"M 525 4666 \nL 3525 4666 \nL 3525 4397 \nL 1831 0 \nL 1172 0 \nL 2766 4134 \nL 525 4134 \nL 525 4666 \nz\n\" transform=\"scale(0.015625)\"/>\n       <path id=\"DejaVuSans-39\" d=\"M 703 97 \nL 703 672 \nQ 941 559 1184 500 \nQ 1428 441 1663 441 \nQ 2288 441 2617 861 \nQ 2947 1281 2994 2138 \nQ 2813 1869 2534 1725 \nQ 2256 1581 1919 1581 \nQ 1219 1581 811 2004 \nQ 403 2428 403 3163 \nQ 403 3881 828 4315 \nQ 1253 4750 1959 4750 \nQ 2769 4750 3195 4129 \nQ 3622 3509 3622 2328 \nQ 3622 1225 3098 567 \nQ 2575 -91 1691 -91 \nQ 1453 -91 1209 -44 \nQ 966 3 703 97 \nz\nM 1959 2075 \nQ 2384 2075 2632 2365 \nQ 2881 2656 2881 3163 \nQ 2881 3666 2632 3958 \nQ 2384 4250 1959 4250 \nQ 1534 4250 1286 3958 \nQ 1038 3666 1038 3163 \nQ 1038 2656 1286 2365 \nQ 1534 2075 1959 2075 \nz\n\" transform=\"scale(0.015625)\"/>\n      </defs>\n      <use xlink:href=\"#DejaVuSans-4c\"/>\n      <use xlink:href=\"#DejaVuSans-4c\" x=\"55.712891\"/>\n      <use xlink:href=\"#DejaVuSans-52\" x=\"111.425781\"/>\n      <use xlink:href=\"#DejaVuSans-3a\" x=\"177.783203\"/>\n      <use xlink:href=\"#DejaVuSans-20\" x=\"211.474609\"/>\n      <use xlink:href=\"#DejaVuSans-30\" x=\"243.261719\"/>\n      <use xlink:href=\"#DejaVuSans-2e\" x=\"306.884766\"/>\n      <use xlink:href=\"#DejaVuSans-35\" x=\"338.671875\"/>\n      <use xlink:href=\"#DejaVuSans-34\" x=\"402.294922\"/>\n      <use xlink:href=\"#DejaVuSans-31\" x=\"465.917969\"/>\n      <use xlink:href=\"#DejaVuSans-37\" x=\"529.541016\"/>\n      <use xlink:href=\"#DejaVuSans-31\" x=\"593.164062\"/>\n      <use xlink:href=\"#DejaVuSans-36\" x=\"656.787109\"/>\n      <use xlink:href=\"#DejaVuSans-39\" x=\"720.410156\"/>\n      <use xlink:href=\"#DejaVuSans-30\" x=\"784.033203\"/>\n      <use xlink:href=\"#DejaVuSans-38\" x=\"847.65625\"/>\n      <use xlink:href=\"#DejaVuSans-32\" x=\"911.279297\"/>\n      <use xlink:href=\"#DejaVuSans-32\" x=\"974.902344\"/>\n      <use xlink:href=\"#DejaVuSans-35\" x=\"1038.525391\"/>\n      <use xlink:href=\"#DejaVuSans-33\" x=\"1102.148438\"/>\n      <use xlink:href=\"#DejaVuSans-37\" x=\"1165.771484\"/>\n      <use xlink:href=\"#DejaVuSans-33\" x=\"1229.394531\"/>\n      <use xlink:href=\"#DejaVuSans-31\" x=\"1293.017578\"/>\n     </g>\n    </g>\n   </g>\n  </g>\n </g>\n <defs>\n  <clipPath id=\"p8f5da1e47f\">\n   <rect x=\"43.78125\" y=\"22.318125\" width=\"669.6\" height=\"326.16\"/>\n  </clipPath>\n </defs>\n</svg>\n",
      "text/plain": [
       "<Figure size 864x432 with 1 Axes>"
      ]
     },
     "metadata": {},
     "output_type": "display_data"
    }
   ],
   "source": [
    "index = [-i for i in nums[::-1]] + [0] + nums\n",
    "ratio = summary[0]['LLR']\n",
    "res = summary[0]['hy_corr']\n",
    "sns.set_style('whitegrid')\n",
    "fig, ax = plt.subplots(figsize=(12,6))\n",
    "plt.plot(index, res, color='b', label='LLR: %s'%ratio)\n",
    "ax.set_ylim(-0.1, 0.9)\n",
    "ax.set_title('HY Correlation')\n",
    "ax.set_xlabel('Lag')\n",
    "ax.set_ylabel('Cross-correlation')\n",
    "plt.legend(loc=0)\n",
    "plt.vlines(x = 0, ymin=-0.1, ymax=0.4, linestyles='dashed', color='r')"
   ]
  },
  {
   "cell_type": "code",
   "execution_count": null,
   "metadata": {},
   "outputs": [],
   "source": []
  },
  {
   "cell_type": "code",
   "execution_count": 176,
   "metadata": {},
   "outputs": [
    {
     "name": "stdout",
     "output_type": "stream",
     "text": [
      "maximum lead correlation (lead = 0:00:05): 0.19080530768880302\n",
      "maximum lag correlation (lag = 0:00:02.500000): 0.23692245770215645\n",
      "Lead/lag ratio of stock 600030 and 600837: 0.5417169082253731\n"
     ]
    }
   ],
   "source": [
    "a, b, c, d, e = obtain_statistics(('600030', '600837'), '20211230', grid)"
   ]
  },
  {
   "cell_type": "code",
   "execution_count": 118,
   "metadata": {},
   "outputs": [
    {
     "data": {
      "text/plain": [
       "array([ 0.049,  0.04 ,  0.013,  0.089,  0.069,  0.097,  0.056, -0.002,\n",
       "        0.044,  0.016,  0.096,  0.145,  0.083,  0.145,  0.125,  0.163,\n",
       "        0.172,  0.171,  0.176,  0.202,  0.199,  0.2  ,  0.2  ,  0.195,\n",
       "        0.201,  0.187,  0.202,  0.21 ,  0.216,  0.228,  0.237,  0.225,\n",
       "        0.197,  0.2  ,  0.202,  0.169,  0.163,  0.171,  0.184,  0.171,\n",
       "        0.175,  0.17 ,  0.174,  0.167,  0.185,  0.191,  0.187,  0.172,\n",
       "        0.152,  0.129,  0.111,  0.104,  0.099,  0.086,  0.098,  0.099,\n",
       "        0.059,  0.05 , -0.011,  0.022, -0.074,  0.004, -0.02 ,  0.007,\n",
       "        0.025, -0.024,  0.022, -0.014,  0.007,  0.065, -0.025])"
      ]
     },
     "execution_count": 118,
     "metadata": {},
     "output_type": "execute_result"
    }
   ],
   "source": [
    "np.round(e, 3)"
   ]
  },
  {
   "cell_type": "code",
   "execution_count": 136,
   "metadata": {},
   "outputs": [
    {
     "name": "stdout",
     "output_type": "stream",
     "text": [
      "maximum lead correlation (lead = 0:02:00): 0.0366848021977346\n",
      "maximum lag correlation (lag = 0:05:00): 0.03557314152508025\n",
      "Lead/lag ratio of stock 600644 and 600837: 0.9640793645956747\n"
     ]
    }
   ],
   "source": [
    "a1, b1, c1, d1, e1 = obtain_statistics(('600644', '600837'), '20211230', grid)"
   ]
  },
  {
   "cell_type": "code",
   "execution_count": 166,
   "metadata": {},
   "outputs": [
    {
     "name": "stdout",
     "output_type": "stream",
     "text": [
      "maximum lead correlation (lead = 0:00:07.500000): 0.12571803395831002\n",
      "maximum lag correlation (lag = 0:00:30): 0.14367775309523234\n",
      "Lead/lag ratio of stock 600031 and 600837: 0.7865180190478888\n"
     ]
    },
    {
     "data": {
      "text/plain": [
       "(datetime.timedelta(seconds=7, microseconds=500000),\n",
       " 0.12571803395831002,\n",
       " datetime.timedelta(seconds=30),\n",
       " 0.14367775309523234,\n",
       " array([ 1.10751601e-01,  1.97556911e-02, -9.57851687e-03,  5.50764720e-02,\n",
       "         4.60966125e-02,  1.19731461e-03, -5.54561606e-15,  6.04643878e-02,\n",
       "         1.10751601e-01,  1.08356972e-01,  1.22126090e-01,  1.34099236e-01,\n",
       "         1.43677753e-01,  1.42480438e-01,  1.11948916e-01,  9.75811406e-02,\n",
       "         9.39891968e-02,  1.04166371e-01,  9.63838260e-02,  1.08356972e-01,\n",
       "         1.05363686e-01,  1.11948916e-01,  1.02969056e-01,  8.44106799e-02,\n",
       "         8.62066519e-02,  7.90227642e-02,  6.40563316e-02,  6.16617024e-02,\n",
       "         5.92670732e-02,  5.86684158e-02,  6.40563316e-02,  6.94442473e-02,\n",
       "         5.92670732e-02,  4.84912417e-02,  5.20831855e-02,  5.08858709e-02,\n",
       "         4.43006405e-02,  3.05315225e-02,  4.25046686e-02,  4.96885563e-02,\n",
       "         5.20831855e-02,  4.66952698e-02,  5.38791574e-02,  6.10630451e-02,\n",
       "         9.09959103e-02,  1.10751601e-01,  1.14942202e-01,  1.11350259e-01,\n",
       "         1.15540860e-01,  1.25119377e-01,  1.25718034e-01,  9.21932249e-02,\n",
       "         8.50093372e-02,  8.74039665e-02,  6.58523035e-02,  7.18388765e-02,\n",
       "         1.22724747e-01,  1.17336832e-01,  3.17288371e-02, -6.58523035e-03,\n",
       "        -3.83140675e-02, -5.14845282e-02, -1.04765028e-01, -2.87355506e-02,\n",
       "        -9.63838260e-02, -7.24375339e-02, -5.14845282e-02, -5.26818428e-02,\n",
       "        -4.60966125e-02, -3.47221237e-02,  2.03543484e-02]))"
      ]
     },
     "execution_count": 166,
     "metadata": {},
     "output_type": "execute_result"
    }
   ],
   "source": [
    "obtain_statistics(('600031', '600837'), '20211230', grid)"
   ]
  },
  {
   "cell_type": "code",
   "execution_count": 132,
   "metadata": {},
   "outputs": [
    {
     "data": {
      "text/plain": [
       "array([-0.031, -0.053,  0.051, -0.015,  0.013,  0.014,  0.033,  0.041,\n",
       "        0.039,  0.122,  0.11 ,  0.068,  0.131,  0.157,  0.14 ,  0.13 ,\n",
       "        0.138,  0.134,  0.152,  0.153,  0.164,  0.164,  0.173,  0.188,\n",
       "        0.198,  0.196,  0.185,  0.183,  0.169,  0.159,  0.163,  0.169,\n",
       "        0.155,  0.147,  0.146,  0.124,  0.133,  0.128,  0.157,  0.155,\n",
       "        0.159,  0.149,  0.152,  0.14 ,  0.145,  0.138,  0.146,  0.153,\n",
       "        0.133,  0.125,  0.105,  0.102,  0.1  ,  0.097,  0.097,  0.101,\n",
       "        0.125,  0.131,  0.078,  0.06 ,  0.065,  0.04 ,  0.019,  0.022,\n",
       "       -0.045, -0.069, -0.004, -0.033, -0.038, -0.02 ,  0.048])"
      ]
     },
     "execution_count": 132,
     "metadata": {},
     "output_type": "execute_result"
    }
   ],
   "source": [
    "np.round(e1, 3)"
   ]
  },
  {
   "cell_type": "code",
   "execution_count": 95,
   "metadata": {},
   "outputs": [
    {
     "data": {
      "text/plain": [
       "0.16933090959099134"
      ]
     },
     "execution_count": 95,
     "metadata": {},
     "output_type": "execute_result"
    }
   ],
   "source": [
    "hy_corr(ci, ht, timedelta(seconds=0))"
   ]
  },
  {
   "cell_type": "code",
   "execution_count": 96,
   "metadata": {},
   "outputs": [
    {
     "data": {
      "text/plain": [
       "0.16299420195557215"
      ]
     },
     "execution_count": 96,
     "metadata": {},
     "output_type": "execute_result"
    }
   ],
   "source": [
    "hy_corr(ci, ht, timedelta(seconds=0.1), choice='lead')"
   ]
  },
  {
   "cell_type": "code",
   "execution_count": 103,
   "metadata": {},
   "outputs": [
    {
     "data": {
      "text/plain": [
       "0.1841165607403053"
      ]
     },
     "execution_count": 103,
     "metadata": {},
     "output_type": "execute_result"
    }
   ],
   "source": [
    "hy_corr(ci, ht, timedelta(seconds=1.2), choice='lead')"
   ]
  },
  {
   "cell_type": "code",
   "execution_count": null,
   "metadata": {},
   "outputs": [],
   "source": []
  },
  {
   "cell_type": "code",
   "execution_count": 167,
   "metadata": {},
   "outputs": [
    {
     "data": {
      "text/plain": [
       "<matplotlib.collections.LineCollection at 0x7f2118950a00>"
      ]
     },
     "execution_count": 167,
     "metadata": {},
     "output_type": "execute_result"
    },
    {
     "data": {
      "image/svg+xml": "<?xml version=\"1.0\" encoding=\"utf-8\" standalone=\"no\"?>\n<!DOCTYPE svg PUBLIC \"-//W3C//DTD SVG 1.1//EN\"\n  \"http://www.w3.org/Graphics/SVG/1.1/DTD/svg11.dtd\">\n<svg xmlns:xlink=\"http://www.w3.org/1999/xlink\" width=\"720.58125pt\" height=\"386.034375pt\" viewBox=\"0 0 720.58125 386.034375\" xmlns=\"http://www.w3.org/2000/svg\" version=\"1.1\">\n <metadata>\n  <rdf:RDF xmlns:dc=\"http://purl.org/dc/elements/1.1/\" xmlns:cc=\"http://creativecommons.org/ns#\" xmlns:rdf=\"http://www.w3.org/1999/02/22-rdf-syntax-ns#\">\n   <cc:Work>\n    <dc:type rdf:resource=\"http://purl.org/dc/dcmitype/StillImage\"/>\n    <dc:date>2022-06-02T13:28:52.865657</dc:date>\n    <dc:format>image/svg+xml</dc:format>\n    <dc:creator>\n     <cc:Agent>\n      <dc:title>Matplotlib v3.5.1, https://matplotlib.org/</dc:title>\n     </cc:Agent>\n    </dc:creator>\n   </cc:Work>\n  </rdf:RDF>\n </metadata>\n <defs>\n  <style type=\"text/css\">*{stroke-linejoin: round; stroke-linecap: butt}</style>\n </defs>\n <g id=\"figure_1\">\n  <g id=\"patch_1\">\n   <path d=\"M 0 386.034375 \nL 720.58125 386.034375 \nL 720.58125 0 \nL 0 0 \nz\n\" style=\"fill: #ffffff\"/>\n  </g>\n  <g id=\"axes_1\">\n   <g id=\"patch_2\">\n    <path d=\"M 43.78125 348.478125 \nL 713.38125 348.478125 \nL 713.38125 22.318125 \nL 43.78125 22.318125 \nz\n\" style=\"fill: #ffffff\"/>\n   </g>\n   <g id=\"matplotlib.axis_1\">\n    <g id=\"xtick_1\">\n     <g id=\"line2d_1\">\n      <path d=\"M 74.217614 348.478125 \nL 74.217614 22.318125 \n\" clip-path=\"url(#p6a63a3d21f)\" style=\"fill: none; stroke: #cccccc; stroke-width: 0.8; stroke-linecap: round\"/>\n     </g>\n     <g id=\"text_1\">\n      <!-- -300 -->\n      <g style=\"fill: #262626\" transform=\"translate(62.869957 363.076562)scale(0.1 -0.1)\">\n       <defs>\n        <path id=\"DejaVuSans-2d\" d=\"M 313 2009 \nL 1997 2009 \nL 1997 1497 \nL 313 1497 \nL 313 2009 \nz\n\" transform=\"scale(0.015625)\"/>\n        <path id=\"DejaVuSans-33\" d=\"M 2597 2516 \nQ 3050 2419 3304 2112 \nQ 3559 1806 3559 1356 \nQ 3559 666 3084 287 \nQ 2609 -91 1734 -91 \nQ 1441 -91 1130 -33 \nQ 819 25 488 141 \nL 488 750 \nQ 750 597 1062 519 \nQ 1375 441 1716 441 \nQ 2309 441 2620 675 \nQ 2931 909 2931 1356 \nQ 2931 1769 2642 2001 \nQ 2353 2234 1838 2234 \nL 1294 2234 \nL 1294 2753 \nL 1863 2753 \nQ 2328 2753 2575 2939 \nQ 2822 3125 2822 3475 \nQ 2822 3834 2567 4026 \nQ 2313 4219 1838 4219 \nQ 1578 4219 1281 4162 \nQ 984 4106 628 3988 \nL 628 4550 \nQ 988 4650 1302 4700 \nQ 1616 4750 1894 4750 \nQ 2613 4750 3031 4423 \nQ 3450 4097 3450 3541 \nQ 3450 3153 3228 2886 \nQ 3006 2619 2597 2516 \nz\n\" transform=\"scale(0.015625)\"/>\n        <path id=\"DejaVuSans-30\" d=\"M 2034 4250 \nQ 1547 4250 1301 3770 \nQ 1056 3291 1056 2328 \nQ 1056 1369 1301 889 \nQ 1547 409 2034 409 \nQ 2525 409 2770 889 \nQ 3016 1369 3016 2328 \nQ 3016 3291 2770 3770 \nQ 2525 4250 2034 4250 \nz\nM 2034 4750 \nQ 2819 4750 3233 4129 \nQ 3647 3509 3647 2328 \nQ 3647 1150 3233 529 \nQ 2819 -91 2034 -91 \nQ 1250 -91 836 529 \nQ 422 1150 422 2328 \nQ 422 3509 836 4129 \nQ 1250 4750 2034 4750 \nz\n\" transform=\"scale(0.015625)\"/>\n       </defs>\n       <use xlink:href=\"#DejaVuSans-2d\"/>\n       <use xlink:href=\"#DejaVuSans-33\" x=\"36.083984\"/>\n       <use xlink:href=\"#DejaVuSans-30\" x=\"99.707031\"/>\n       <use xlink:href=\"#DejaVuSans-30\" x=\"163.330078\"/>\n      </g>\n     </g>\n    </g>\n    <g id=\"xtick_2\">\n     <g id=\"line2d_2\">\n      <path d=\"M 175.672159 348.478125 \nL 175.672159 22.318125 \n\" clip-path=\"url(#p6a63a3d21f)\" style=\"fill: none; stroke: #cccccc; stroke-width: 0.8; stroke-linecap: round\"/>\n     </g>\n     <g id=\"text_2\">\n      <!-- -200 -->\n      <g style=\"fill: #262626\" transform=\"translate(164.324503 363.076562)scale(0.1 -0.1)\">\n       <defs>\n        <path id=\"DejaVuSans-32\" d=\"M 1228 531 \nL 3431 531 \nL 3431 0 \nL 469 0 \nL 469 531 \nQ 828 903 1448 1529 \nQ 2069 2156 2228 2338 \nQ 2531 2678 2651 2914 \nQ 2772 3150 2772 3378 \nQ 2772 3750 2511 3984 \nQ 2250 4219 1831 4219 \nQ 1534 4219 1204 4116 \nQ 875 4013 500 3803 \nL 500 4441 \nQ 881 4594 1212 4672 \nQ 1544 4750 1819 4750 \nQ 2544 4750 2975 4387 \nQ 3406 4025 3406 3419 \nQ 3406 3131 3298 2873 \nQ 3191 2616 2906 2266 \nQ 2828 2175 2409 1742 \nQ 1991 1309 1228 531 \nz\n\" transform=\"scale(0.015625)\"/>\n       </defs>\n       <use xlink:href=\"#DejaVuSans-2d\"/>\n       <use xlink:href=\"#DejaVuSans-32\" x=\"36.083984\"/>\n       <use xlink:href=\"#DejaVuSans-30\" x=\"99.707031\"/>\n       <use xlink:href=\"#DejaVuSans-30\" x=\"163.330078\"/>\n      </g>\n     </g>\n    </g>\n    <g id=\"xtick_3\">\n     <g id=\"line2d_3\">\n      <path d=\"M 277.126705 348.478125 \nL 277.126705 22.318125 \n\" clip-path=\"url(#p6a63a3d21f)\" style=\"fill: none; stroke: #cccccc; stroke-width: 0.8; stroke-linecap: round\"/>\n     </g>\n     <g id=\"text_3\">\n      <!-- -100 -->\n      <g style=\"fill: #262626\" transform=\"translate(265.779048 363.076562)scale(0.1 -0.1)\">\n       <defs>\n        <path id=\"DejaVuSans-31\" d=\"M 794 531 \nL 1825 531 \nL 1825 4091 \nL 703 3866 \nL 703 4441 \nL 1819 4666 \nL 2450 4666 \nL 2450 531 \nL 3481 531 \nL 3481 0 \nL 794 0 \nL 794 531 \nz\n\" transform=\"scale(0.015625)\"/>\n       </defs>\n       <use xlink:href=\"#DejaVuSans-2d\"/>\n       <use xlink:href=\"#DejaVuSans-31\" x=\"36.083984\"/>\n       <use xlink:href=\"#DejaVuSans-30\" x=\"99.707031\"/>\n       <use xlink:href=\"#DejaVuSans-30\" x=\"163.330078\"/>\n      </g>\n     </g>\n    </g>\n    <g id=\"xtick_4\">\n     <g id=\"line2d_4\">\n      <path d=\"M 378.58125 348.478125 \nL 378.58125 22.318125 \n\" clip-path=\"url(#p6a63a3d21f)\" style=\"fill: none; stroke: #cccccc; stroke-width: 0.8; stroke-linecap: round\"/>\n     </g>\n     <g id=\"text_4\">\n      <!-- 0 -->\n      <g style=\"fill: #262626\" transform=\"translate(375.4 363.076562)scale(0.1 -0.1)\">\n       <use xlink:href=\"#DejaVuSans-30\"/>\n      </g>\n     </g>\n    </g>\n    <g id=\"xtick_5\">\n     <g id=\"line2d_5\">\n      <path d=\"M 480.035795 348.478125 \nL 480.035795 22.318125 \n\" clip-path=\"url(#p6a63a3d21f)\" style=\"fill: none; stroke: #cccccc; stroke-width: 0.8; stroke-linecap: round\"/>\n     </g>\n     <g id=\"text_5\">\n      <!-- 100 -->\n      <g style=\"fill: #262626\" transform=\"translate(470.492045 363.076562)scale(0.1 -0.1)\">\n       <use xlink:href=\"#DejaVuSans-31\"/>\n       <use xlink:href=\"#DejaVuSans-30\" x=\"63.623047\"/>\n       <use xlink:href=\"#DejaVuSans-30\" x=\"127.246094\"/>\n      </g>\n     </g>\n    </g>\n    <g id=\"xtick_6\">\n     <g id=\"line2d_6\">\n      <path d=\"M 581.490341 348.478125 \nL 581.490341 22.318125 \n\" clip-path=\"url(#p6a63a3d21f)\" style=\"fill: none; stroke: #cccccc; stroke-width: 0.8; stroke-linecap: round\"/>\n     </g>\n     <g id=\"text_6\">\n      <!-- 200 -->\n      <g style=\"fill: #262626\" transform=\"translate(571.946591 363.076562)scale(0.1 -0.1)\">\n       <use xlink:href=\"#DejaVuSans-32\"/>\n       <use xlink:href=\"#DejaVuSans-30\" x=\"63.623047\"/>\n       <use xlink:href=\"#DejaVuSans-30\" x=\"127.246094\"/>\n      </g>\n     </g>\n    </g>\n    <g id=\"xtick_7\">\n     <g id=\"line2d_7\">\n      <path d=\"M 682.944886 348.478125 \nL 682.944886 22.318125 \n\" clip-path=\"url(#p6a63a3d21f)\" style=\"fill: none; stroke: #cccccc; stroke-width: 0.8; stroke-linecap: round\"/>\n     </g>\n     <g id=\"text_7\">\n      <!-- 300 -->\n      <g style=\"fill: #262626\" transform=\"translate(673.401136 363.076562)scale(0.1 -0.1)\">\n       <use xlink:href=\"#DejaVuSans-33\"/>\n       <use xlink:href=\"#DejaVuSans-30\" x=\"63.623047\"/>\n       <use xlink:href=\"#DejaVuSans-30\" x=\"127.246094\"/>\n      </g>\n     </g>\n    </g>\n    <g id=\"text_8\">\n     <!-- Lag -->\n     <g style=\"fill: #262626\" transform=\"translate(369.557031 376.754687)scale(0.1 -0.1)\">\n      <defs>\n       <path id=\"DejaVuSans-4c\" d=\"M 628 4666 \nL 1259 4666 \nL 1259 531 \nL 3531 531 \nL 3531 0 \nL 628 0 \nL 628 4666 \nz\n\" transform=\"scale(0.015625)\"/>\n       <path id=\"DejaVuSans-61\" d=\"M 2194 1759 \nQ 1497 1759 1228 1600 \nQ 959 1441 959 1056 \nQ 959 750 1161 570 \nQ 1363 391 1709 391 \nQ 2188 391 2477 730 \nQ 2766 1069 2766 1631 \nL 2766 1759 \nL 2194 1759 \nz\nM 3341 1997 \nL 3341 0 \nL 2766 0 \nL 2766 531 \nQ 2569 213 2275 61 \nQ 1981 -91 1556 -91 \nQ 1019 -91 701 211 \nQ 384 513 384 1019 \nQ 384 1609 779 1909 \nQ 1175 2209 1959 2209 \nL 2766 2209 \nL 2766 2266 \nQ 2766 2663 2505 2880 \nQ 2244 3097 1772 3097 \nQ 1472 3097 1187 3025 \nQ 903 2953 641 2809 \nL 641 3341 \nQ 956 3463 1253 3523 \nQ 1550 3584 1831 3584 \nQ 2591 3584 2966 3190 \nQ 3341 2797 3341 1997 \nz\n\" transform=\"scale(0.015625)\"/>\n       <path id=\"DejaVuSans-67\" d=\"M 2906 1791 \nQ 2906 2416 2648 2759 \nQ 2391 3103 1925 3103 \nQ 1463 3103 1205 2759 \nQ 947 2416 947 1791 \nQ 947 1169 1205 825 \nQ 1463 481 1925 481 \nQ 2391 481 2648 825 \nQ 2906 1169 2906 1791 \nz\nM 3481 434 \nQ 3481 -459 3084 -895 \nQ 2688 -1331 1869 -1331 \nQ 1566 -1331 1297 -1286 \nQ 1028 -1241 775 -1147 \nL 775 -588 \nQ 1028 -725 1275 -790 \nQ 1522 -856 1778 -856 \nQ 2344 -856 2625 -561 \nQ 2906 -266 2906 331 \nL 2906 616 \nQ 2728 306 2450 153 \nQ 2172 0 1784 0 \nQ 1141 0 747 490 \nQ 353 981 353 1791 \nQ 353 2603 747 3093 \nQ 1141 3584 1784 3584 \nQ 2172 3584 2450 3431 \nQ 2728 3278 2906 2969 \nL 2906 3500 \nL 3481 3500 \nL 3481 434 \nz\n\" transform=\"scale(0.015625)\"/>\n      </defs>\n      <use xlink:href=\"#DejaVuSans-4c\"/>\n      <use xlink:href=\"#DejaVuSans-61\" x=\"55.712891\"/>\n      <use xlink:href=\"#DejaVuSans-67\" x=\"116.992188\"/>\n     </g>\n    </g>\n   </g>\n   <g id=\"matplotlib.axis_2\">\n    <g id=\"ytick_1\">\n     <g id=\"line2d_8\">\n      <path d=\"M 43.78125 315.862125 \nL 713.38125 315.862125 \n\" clip-path=\"url(#p6a63a3d21f)\" style=\"fill: none; stroke: #cccccc; stroke-width: 0.8; stroke-linecap: round\"/>\n     </g>\n     <g id=\"text_9\">\n      <!-- 0.0 -->\n      <g style=\"fill: #262626\" transform=\"translate(20.878125 319.661344)scale(0.1 -0.1)\">\n       <defs>\n        <path id=\"DejaVuSans-2e\" d=\"M 684 794 \nL 1344 794 \nL 1344 0 \nL 684 0 \nL 684 794 \nz\n\" transform=\"scale(0.015625)\"/>\n       </defs>\n       <use xlink:href=\"#DejaVuSans-30\"/>\n       <use xlink:href=\"#DejaVuSans-2e\" x=\"63.623047\"/>\n       <use xlink:href=\"#DejaVuSans-30\" x=\"95.410156\"/>\n      </g>\n     </g>\n    </g>\n    <g id=\"ytick_2\">\n     <g id=\"line2d_9\">\n      <path d=\"M 43.78125 250.630125 \nL 713.38125 250.630125 \n\" clip-path=\"url(#p6a63a3d21f)\" style=\"fill: none; stroke: #cccccc; stroke-width: 0.8; stroke-linecap: round\"/>\n     </g>\n     <g id=\"text_10\">\n      <!-- 0.2 -->\n      <g style=\"fill: #262626\" transform=\"translate(20.878125 254.429344)scale(0.1 -0.1)\">\n       <use xlink:href=\"#DejaVuSans-30\"/>\n       <use xlink:href=\"#DejaVuSans-2e\" x=\"63.623047\"/>\n       <use xlink:href=\"#DejaVuSans-32\" x=\"95.410156\"/>\n      </g>\n     </g>\n    </g>\n    <g id=\"ytick_3\">\n     <g id=\"line2d_10\">\n      <path d=\"M 43.78125 185.398125 \nL 713.38125 185.398125 \n\" clip-path=\"url(#p6a63a3d21f)\" style=\"fill: none; stroke: #cccccc; stroke-width: 0.8; stroke-linecap: round\"/>\n     </g>\n     <g id=\"text_11\">\n      <!-- 0.4 -->\n      <g style=\"fill: #262626\" transform=\"translate(20.878125 189.197344)scale(0.1 -0.1)\">\n       <defs>\n        <path id=\"DejaVuSans-34\" d=\"M 2419 4116 \nL 825 1625 \nL 2419 1625 \nL 2419 4116 \nz\nM 2253 4666 \nL 3047 4666 \nL 3047 1625 \nL 3713 1625 \nL 3713 1100 \nL 3047 1100 \nL 3047 0 \nL 2419 0 \nL 2419 1100 \nL 313 1100 \nL 313 1709 \nL 2253 4666 \nz\n\" transform=\"scale(0.015625)\"/>\n       </defs>\n       <use xlink:href=\"#DejaVuSans-30\"/>\n       <use xlink:href=\"#DejaVuSans-2e\" x=\"63.623047\"/>\n       <use xlink:href=\"#DejaVuSans-34\" x=\"95.410156\"/>\n      </g>\n     </g>\n    </g>\n    <g id=\"ytick_4\">\n     <g id=\"line2d_11\">\n      <path d=\"M 43.78125 120.166125 \nL 713.38125 120.166125 \n\" clip-path=\"url(#p6a63a3d21f)\" style=\"fill: none; stroke: #cccccc; stroke-width: 0.8; stroke-linecap: round\"/>\n     </g>\n     <g id=\"text_12\">\n      <!-- 0.6 -->\n      <g style=\"fill: #262626\" transform=\"translate(20.878125 123.965344)scale(0.1 -0.1)\">\n       <defs>\n        <path id=\"DejaVuSans-36\" d=\"M 2113 2584 \nQ 1688 2584 1439 2293 \nQ 1191 2003 1191 1497 \nQ 1191 994 1439 701 \nQ 1688 409 2113 409 \nQ 2538 409 2786 701 \nQ 3034 994 3034 1497 \nQ 3034 2003 2786 2293 \nQ 2538 2584 2113 2584 \nz\nM 3366 4563 \nL 3366 3988 \nQ 3128 4100 2886 4159 \nQ 2644 4219 2406 4219 \nQ 1781 4219 1451 3797 \nQ 1122 3375 1075 2522 \nQ 1259 2794 1537 2939 \nQ 1816 3084 2150 3084 \nQ 2853 3084 3261 2657 \nQ 3669 2231 3669 1497 \nQ 3669 778 3244 343 \nQ 2819 -91 2113 -91 \nQ 1303 -91 875 529 \nQ 447 1150 447 2328 \nQ 447 3434 972 4092 \nQ 1497 4750 2381 4750 \nQ 2619 4750 2861 4703 \nQ 3103 4656 3366 4563 \nz\n\" transform=\"scale(0.015625)\"/>\n       </defs>\n       <use xlink:href=\"#DejaVuSans-30\"/>\n       <use xlink:href=\"#DejaVuSans-2e\" x=\"63.623047\"/>\n       <use xlink:href=\"#DejaVuSans-36\" x=\"95.410156\"/>\n      </g>\n     </g>\n    </g>\n    <g id=\"ytick_5\">\n     <g id=\"line2d_12\">\n      <path d=\"M 43.78125 54.934125 \nL 713.38125 54.934125 \n\" clip-path=\"url(#p6a63a3d21f)\" style=\"fill: none; stroke: #cccccc; stroke-width: 0.8; stroke-linecap: round\"/>\n     </g>\n     <g id=\"text_13\">\n      <!-- 0.8 -->\n      <g style=\"fill: #262626\" transform=\"translate(20.878125 58.733344)scale(0.1 -0.1)\">\n       <defs>\n        <path id=\"DejaVuSans-38\" d=\"M 2034 2216 \nQ 1584 2216 1326 1975 \nQ 1069 1734 1069 1313 \nQ 1069 891 1326 650 \nQ 1584 409 2034 409 \nQ 2484 409 2743 651 \nQ 3003 894 3003 1313 \nQ 3003 1734 2745 1975 \nQ 2488 2216 2034 2216 \nz\nM 1403 2484 \nQ 997 2584 770 2862 \nQ 544 3141 544 3541 \nQ 544 4100 942 4425 \nQ 1341 4750 2034 4750 \nQ 2731 4750 3128 4425 \nQ 3525 4100 3525 3541 \nQ 3525 3141 3298 2862 \nQ 3072 2584 2669 2484 \nQ 3125 2378 3379 2068 \nQ 3634 1759 3634 1313 \nQ 3634 634 3220 271 \nQ 2806 -91 2034 -91 \nQ 1263 -91 848 271 \nQ 434 634 434 1313 \nQ 434 1759 690 2068 \nQ 947 2378 1403 2484 \nz\nM 1172 3481 \nQ 1172 3119 1398 2916 \nQ 1625 2713 2034 2713 \nQ 2441 2713 2670 2916 \nQ 2900 3119 2900 3481 \nQ 2900 3844 2670 4047 \nQ 2441 4250 2034 4250 \nQ 1625 4250 1398 4047 \nQ 1172 3844 1172 3481 \nz\n\" transform=\"scale(0.015625)\"/>\n       </defs>\n       <use xlink:href=\"#DejaVuSans-30\"/>\n       <use xlink:href=\"#DejaVuSans-2e\" x=\"63.623047\"/>\n       <use xlink:href=\"#DejaVuSans-38\" x=\"95.410156\"/>\n      </g>\n     </g>\n    </g>\n    <g id=\"text_14\">\n     <!-- Cross-correlation -->\n     <g style=\"fill: #262626\" transform=\"translate(14.798438 227.731719)rotate(-90)scale(0.1 -0.1)\">\n      <defs>\n       <path id=\"DejaVuSans-43\" d=\"M 4122 4306 \nL 4122 3641 \nQ 3803 3938 3442 4084 \nQ 3081 4231 2675 4231 \nQ 1875 4231 1450 3742 \nQ 1025 3253 1025 2328 \nQ 1025 1406 1450 917 \nQ 1875 428 2675 428 \nQ 3081 428 3442 575 \nQ 3803 722 4122 1019 \nL 4122 359 \nQ 3791 134 3420 21 \nQ 3050 -91 2638 -91 \nQ 1578 -91 968 557 \nQ 359 1206 359 2328 \nQ 359 3453 968 4101 \nQ 1578 4750 2638 4750 \nQ 3056 4750 3426 4639 \nQ 3797 4528 4122 4306 \nz\n\" transform=\"scale(0.015625)\"/>\n       <path id=\"DejaVuSans-72\" d=\"M 2631 2963 \nQ 2534 3019 2420 3045 \nQ 2306 3072 2169 3072 \nQ 1681 3072 1420 2755 \nQ 1159 2438 1159 1844 \nL 1159 0 \nL 581 0 \nL 581 3500 \nL 1159 3500 \nL 1159 2956 \nQ 1341 3275 1631 3429 \nQ 1922 3584 2338 3584 \nQ 2397 3584 2469 3576 \nQ 2541 3569 2628 3553 \nL 2631 2963 \nz\n\" transform=\"scale(0.015625)\"/>\n       <path id=\"DejaVuSans-6f\" d=\"M 1959 3097 \nQ 1497 3097 1228 2736 \nQ 959 2375 959 1747 \nQ 959 1119 1226 758 \nQ 1494 397 1959 397 \nQ 2419 397 2687 759 \nQ 2956 1122 2956 1747 \nQ 2956 2369 2687 2733 \nQ 2419 3097 1959 3097 \nz\nM 1959 3584 \nQ 2709 3584 3137 3096 \nQ 3566 2609 3566 1747 \nQ 3566 888 3137 398 \nQ 2709 -91 1959 -91 \nQ 1206 -91 779 398 \nQ 353 888 353 1747 \nQ 353 2609 779 3096 \nQ 1206 3584 1959 3584 \nz\n\" transform=\"scale(0.015625)\"/>\n       <path id=\"DejaVuSans-73\" d=\"M 2834 3397 \nL 2834 2853 \nQ 2591 2978 2328 3040 \nQ 2066 3103 1784 3103 \nQ 1356 3103 1142 2972 \nQ 928 2841 928 2578 \nQ 928 2378 1081 2264 \nQ 1234 2150 1697 2047 \nL 1894 2003 \nQ 2506 1872 2764 1633 \nQ 3022 1394 3022 966 \nQ 3022 478 2636 193 \nQ 2250 -91 1575 -91 \nQ 1294 -91 989 -36 \nQ 684 19 347 128 \nL 347 722 \nQ 666 556 975 473 \nQ 1284 391 1588 391 \nQ 1994 391 2212 530 \nQ 2431 669 2431 922 \nQ 2431 1156 2273 1281 \nQ 2116 1406 1581 1522 \nL 1381 1569 \nQ 847 1681 609 1914 \nQ 372 2147 372 2553 \nQ 372 3047 722 3315 \nQ 1072 3584 1716 3584 \nQ 2034 3584 2315 3537 \nQ 2597 3491 2834 3397 \nz\n\" transform=\"scale(0.015625)\"/>\n       <path id=\"DejaVuSans-63\" d=\"M 3122 3366 \nL 3122 2828 \nQ 2878 2963 2633 3030 \nQ 2388 3097 2138 3097 \nQ 1578 3097 1268 2742 \nQ 959 2388 959 1747 \nQ 959 1106 1268 751 \nQ 1578 397 2138 397 \nQ 2388 397 2633 464 \nQ 2878 531 3122 666 \nL 3122 134 \nQ 2881 22 2623 -34 \nQ 2366 -91 2075 -91 \nQ 1284 -91 818 406 \nQ 353 903 353 1747 \nQ 353 2603 823 3093 \nQ 1294 3584 2113 3584 \nQ 2378 3584 2631 3529 \nQ 2884 3475 3122 3366 \nz\n\" transform=\"scale(0.015625)\"/>\n       <path id=\"DejaVuSans-65\" d=\"M 3597 1894 \nL 3597 1613 \nL 953 1613 \nQ 991 1019 1311 708 \nQ 1631 397 2203 397 \nQ 2534 397 2845 478 \nQ 3156 559 3463 722 \nL 3463 178 \nQ 3153 47 2828 -22 \nQ 2503 -91 2169 -91 \nQ 1331 -91 842 396 \nQ 353 884 353 1716 \nQ 353 2575 817 3079 \nQ 1281 3584 2069 3584 \nQ 2775 3584 3186 3129 \nQ 3597 2675 3597 1894 \nz\nM 3022 2063 \nQ 3016 2534 2758 2815 \nQ 2500 3097 2075 3097 \nQ 1594 3097 1305 2825 \nQ 1016 2553 972 2059 \nL 3022 2063 \nz\n\" transform=\"scale(0.015625)\"/>\n       <path id=\"DejaVuSans-6c\" d=\"M 603 4863 \nL 1178 4863 \nL 1178 0 \nL 603 0 \nL 603 4863 \nz\n\" transform=\"scale(0.015625)\"/>\n       <path id=\"DejaVuSans-74\" d=\"M 1172 4494 \nL 1172 3500 \nL 2356 3500 \nL 2356 3053 \nL 1172 3053 \nL 1172 1153 \nQ 1172 725 1289 603 \nQ 1406 481 1766 481 \nL 2356 481 \nL 2356 0 \nL 1766 0 \nQ 1100 0 847 248 \nQ 594 497 594 1153 \nL 594 3053 \nL 172 3053 \nL 172 3500 \nL 594 3500 \nL 594 4494 \nL 1172 4494 \nz\n\" transform=\"scale(0.015625)\"/>\n       <path id=\"DejaVuSans-69\" d=\"M 603 3500 \nL 1178 3500 \nL 1178 0 \nL 603 0 \nL 603 3500 \nz\nM 603 4863 \nL 1178 4863 \nL 1178 4134 \nL 603 4134 \nL 603 4863 \nz\n\" transform=\"scale(0.015625)\"/>\n       <path id=\"DejaVuSans-6e\" d=\"M 3513 2113 \nL 3513 0 \nL 2938 0 \nL 2938 2094 \nQ 2938 2591 2744 2837 \nQ 2550 3084 2163 3084 \nQ 1697 3084 1428 2787 \nQ 1159 2491 1159 1978 \nL 1159 0 \nL 581 0 \nL 581 3500 \nL 1159 3500 \nL 1159 2956 \nQ 1366 3272 1645 3428 \nQ 1925 3584 2291 3584 \nQ 2894 3584 3203 3211 \nQ 3513 2838 3513 2113 \nz\n\" transform=\"scale(0.015625)\"/>\n      </defs>\n      <use xlink:href=\"#DejaVuSans-43\"/>\n      <use xlink:href=\"#DejaVuSans-72\" x=\"69.824219\"/>\n      <use xlink:href=\"#DejaVuSans-6f\" x=\"108.6875\"/>\n      <use xlink:href=\"#DejaVuSans-73\" x=\"169.869141\"/>\n      <use xlink:href=\"#DejaVuSans-73\" x=\"221.96875\"/>\n      <use xlink:href=\"#DejaVuSans-2d\" x=\"274.068359\"/>\n      <use xlink:href=\"#DejaVuSans-63\" x=\"310.152344\"/>\n      <use xlink:href=\"#DejaVuSans-6f\" x=\"365.132812\"/>\n      <use xlink:href=\"#DejaVuSans-72\" x=\"426.314453\"/>\n      <use xlink:href=\"#DejaVuSans-72\" x=\"465.677734\"/>\n      <use xlink:href=\"#DejaVuSans-65\" x=\"504.541016\"/>\n      <use xlink:href=\"#DejaVuSans-6c\" x=\"566.064453\"/>\n      <use xlink:href=\"#DejaVuSans-61\" x=\"593.847656\"/>\n      <use xlink:href=\"#DejaVuSans-74\" x=\"655.126953\"/>\n      <use xlink:href=\"#DejaVuSans-69\" x=\"694.335938\"/>\n      <use xlink:href=\"#DejaVuSans-6f\" x=\"722.119141\"/>\n      <use xlink:href=\"#DejaVuSans-6e\" x=\"783.300781\"/>\n     </g>\n    </g>\n   </g>\n   <g id=\"line2d_13\">\n    <path d=\"M 74.217614 300.016807 \nL 135.090341 302.887336 \nL 195.963068 311.613743 \nL 256.835795 286.697555 \nL 266.98125 293.357181 \nL 277.126705 284.17149 \nL 287.272159 297.490742 \nL 297.417614 316.436231 \nL 307.563068 301.624303 \nL 317.708523 310.695174 \nL 327.853977 284.401132 \nL 337.999432 268.440993 \nL 348.144886 288.764335 \nL 358.290341 268.670635 \nL 363.363068 275.215441 \nL 368.435795 262.814757 \nL 368.943068 259.714586 \nL 369.450341 259.944229 \nL 369.957614 258.336733 \nL 370.464886 249.839968 \nL 370.972159 250.873358 \nL 371.479432 250.758537 \nL 371.986705 250.528895 \nL 372.493977 252.366033 \nL 373.00125 250.414074 \nL 373.508523 255.00692 \nL 374.015795 249.954789 \nL 374.523068 247.313903 \nL 375.030341 245.476765 \nL 375.537614 241.458025 \nL 376.044886 238.587496 \nL 376.552159 242.606236 \nL 377.059432 251.447464 \nL 377.566705 250.758537 \nL 378.073977 250.06961 \nL 378.58125 260.633156 \nL 379.088523 262.699936 \nL 379.595795 260.05905 \nL 380.103068 255.810668 \nL 380.610341 260.173871 \nL 381.117614 258.910838 \nL 381.624886 260.288692 \nL 382.132159 259.140481 \nL 382.639432 261.436904 \nL 383.146705 255.581025 \nL 383.653977 253.629066 \nL 384.16125 255.00692 \nL 384.668523 259.714586 \nL 385.175795 266.14457 \nL 385.683068 273.837587 \nL 386.190341 279.578644 \nL 386.697614 281.989888 \nL 387.204886 283.482563 \nL 387.712159 287.730945 \nL 388.219432 284.056669 \nL 388.726705 283.482563 \nL 393.799432 296.572173 \nL 398.872159 299.672344 \nL 409.017614 319.42158 \nL 419.163068 308.743214 \nL 429.308523 339.859744 \nL 439.453977 314.484271 \nL 449.599432 322.40693 \nL 459.744886 313.680523 \nL 469.890341 307.709824 \nL 480.035795 323.784784 \nL 490.18125 308.628393 \nL 500.326705 320.569792 \nL 561.199432 313.565702 \nL 622.072159 294.505393 \nL 682.944886 323.899605 \n\" clip-path=\"url(#p6a63a3d21f)\" style=\"fill: none; stroke: #0000ff; stroke-width: 1.5; stroke-linecap: round\"/>\n   </g>\n   <g id=\"LineCollection_1\">\n    <path d=\"M 378.58125 348.478125 \nL 378.58125 185.398125 \n\" clip-path=\"url(#p6a63a3d21f)\" style=\"fill: none; stroke-dasharray: 5.55,2.4; stroke-dashoffset: 0; stroke: #ff0000; stroke-width: 1.5\"/>\n   </g>\n   <g id=\"patch_3\">\n    <path d=\"M 43.78125 348.478125 \nL 43.78125 22.318125 \n\" style=\"fill: none; stroke: #cccccc; stroke-width: 0.8; stroke-linejoin: miter; stroke-linecap: square\"/>\n   </g>\n   <g id=\"patch_4\">\n    <path d=\"M 713.38125 348.478125 \nL 713.38125 22.318125 \n\" style=\"fill: none; stroke: #cccccc; stroke-width: 0.8; stroke-linejoin: miter; stroke-linecap: square\"/>\n   </g>\n   <g id=\"patch_5\">\n    <path d=\"M 43.78125 348.478125 \nL 713.38125 348.478125 \n\" style=\"fill: none; stroke: #cccccc; stroke-width: 0.8; stroke-linejoin: miter; stroke-linecap: square\"/>\n   </g>\n   <g id=\"patch_6\">\n    <path d=\"M 43.78125 22.318125 \nL 713.38125 22.318125 \n\" style=\"fill: none; stroke: #cccccc; stroke-width: 0.8; stroke-linejoin: miter; stroke-linecap: square\"/>\n   </g>\n   <g id=\"text_15\">\n    <!-- HY Correlation -->\n    <g style=\"fill: #262626\" transform=\"translate(335.415 16.318125)scale(0.12 -0.12)\">\n     <defs>\n      <path id=\"DejaVuSans-48\" d=\"M 628 4666 \nL 1259 4666 \nL 1259 2753 \nL 3553 2753 \nL 3553 4666 \nL 4184 4666 \nL 4184 0 \nL 3553 0 \nL 3553 2222 \nL 1259 2222 \nL 1259 0 \nL 628 0 \nL 628 4666 \nz\n\" transform=\"scale(0.015625)\"/>\n      <path id=\"DejaVuSans-59\" d=\"M -13 4666 \nL 666 4666 \nL 1959 2747 \nL 3244 4666 \nL 3922 4666 \nL 2272 2222 \nL 2272 0 \nL 1638 0 \nL 1638 2222 \nL -13 4666 \nz\n\" transform=\"scale(0.015625)\"/>\n      <path id=\"DejaVuSans-20\" transform=\"scale(0.015625)\"/>\n     </defs>\n     <use xlink:href=\"#DejaVuSans-48\"/>\n     <use xlink:href=\"#DejaVuSans-59\" x=\"75.195312\"/>\n     <use xlink:href=\"#DejaVuSans-20\" x=\"136.279297\"/>\n     <use xlink:href=\"#DejaVuSans-43\" x=\"168.066406\"/>\n     <use xlink:href=\"#DejaVuSans-6f\" x=\"237.890625\"/>\n     <use xlink:href=\"#DejaVuSans-72\" x=\"299.072266\"/>\n     <use xlink:href=\"#DejaVuSans-72\" x=\"338.435547\"/>\n     <use xlink:href=\"#DejaVuSans-65\" x=\"377.298828\"/>\n     <use xlink:href=\"#DejaVuSans-6c\" x=\"438.822266\"/>\n     <use xlink:href=\"#DejaVuSans-61\" x=\"466.605469\"/>\n     <use xlink:href=\"#DejaVuSans-74\" x=\"527.884766\"/>\n     <use xlink:href=\"#DejaVuSans-69\" x=\"567.09375\"/>\n     <use xlink:href=\"#DejaVuSans-6f\" x=\"594.876953\"/>\n     <use xlink:href=\"#DejaVuSans-6e\" x=\"656.058594\"/>\n    </g>\n   </g>\n   <g id=\"legend_1\">\n    <g id=\"patch_7\">\n     <path d=\"M 538.714063 44.99625 \nL 706.38125 44.99625 \nQ 708.38125 44.99625 708.38125 42.99625 \nL 708.38125 29.318125 \nQ 708.38125 27.318125 706.38125 27.318125 \nL 538.714063 27.318125 \nQ 536.714063 27.318125 536.714063 29.318125 \nL 536.714063 42.99625 \nQ 536.714063 44.99625 538.714063 44.99625 \nz\n\" style=\"fill: #ffffff; opacity: 0.8; stroke: #cccccc; stroke-linejoin: miter\"/>\n    </g>\n    <g id=\"line2d_14\">\n     <path d=\"M 540.714063 35.416562 \nL 550.714063 35.416562 \nL 560.714063 35.416562 \n\" style=\"fill: none; stroke: #0000ff; stroke-width: 1.5; stroke-linecap: round\"/>\n    </g>\n    <g id=\"text_16\">\n     <!-- LLR: 0.5417169082253732 -->\n     <g style=\"fill: #262626\" transform=\"translate(568.714063 38.916562)scale(0.1 -0.1)\">\n      <defs>\n       <path id=\"DejaVuSans-52\" d=\"M 2841 2188 \nQ 3044 2119 3236 1894 \nQ 3428 1669 3622 1275 \nL 4263 0 \nL 3584 0 \nL 2988 1197 \nQ 2756 1666 2539 1819 \nQ 2322 1972 1947 1972 \nL 1259 1972 \nL 1259 0 \nL 628 0 \nL 628 4666 \nL 2053 4666 \nQ 2853 4666 3247 4331 \nQ 3641 3997 3641 3322 \nQ 3641 2881 3436 2590 \nQ 3231 2300 2841 2188 \nz\nM 1259 4147 \nL 1259 2491 \nL 2053 2491 \nQ 2509 2491 2742 2702 \nQ 2975 2913 2975 3322 \nQ 2975 3731 2742 3939 \nQ 2509 4147 2053 4147 \nL 1259 4147 \nz\n\" transform=\"scale(0.015625)\"/>\n       <path id=\"DejaVuSans-3a\" d=\"M 750 794 \nL 1409 794 \nL 1409 0 \nL 750 0 \nL 750 794 \nz\nM 750 3309 \nL 1409 3309 \nL 1409 2516 \nL 750 2516 \nL 750 3309 \nz\n\" transform=\"scale(0.015625)\"/>\n       <path id=\"DejaVuSans-35\" d=\"M 691 4666 \nL 3169 4666 \nL 3169 4134 \nL 1269 4134 \nL 1269 2991 \nQ 1406 3038 1543 3061 \nQ 1681 3084 1819 3084 \nQ 2600 3084 3056 2656 \nQ 3513 2228 3513 1497 \nQ 3513 744 3044 326 \nQ 2575 -91 1722 -91 \nQ 1428 -91 1123 -41 \nQ 819 9 494 109 \nL 494 744 \nQ 775 591 1075 516 \nQ 1375 441 1709 441 \nQ 2250 441 2565 725 \nQ 2881 1009 2881 1497 \nQ 2881 1984 2565 2268 \nQ 2250 2553 1709 2553 \nQ 1456 2553 1204 2497 \nQ 953 2441 691 2322 \nL 691 4666 \nz\n\" transform=\"scale(0.015625)\"/>\n       <path id=\"DejaVuSans-37\" d=\"M 525 4666 \nL 3525 4666 \nL 3525 4397 \nL 1831 0 \nL 1172 0 \nL 2766 4134 \nL 525 4134 \nL 525 4666 \nz\n\" transform=\"scale(0.015625)\"/>\n       <path id=\"DejaVuSans-39\" d=\"M 703 97 \nL 703 672 \nQ 941 559 1184 500 \nQ 1428 441 1663 441 \nQ 2288 441 2617 861 \nQ 2947 1281 2994 2138 \nQ 2813 1869 2534 1725 \nQ 2256 1581 1919 1581 \nQ 1219 1581 811 2004 \nQ 403 2428 403 3163 \nQ 403 3881 828 4315 \nQ 1253 4750 1959 4750 \nQ 2769 4750 3195 4129 \nQ 3622 3509 3622 2328 \nQ 3622 1225 3098 567 \nQ 2575 -91 1691 -91 \nQ 1453 -91 1209 -44 \nQ 966 3 703 97 \nz\nM 1959 2075 \nQ 2384 2075 2632 2365 \nQ 2881 2656 2881 3163 \nQ 2881 3666 2632 3958 \nQ 2384 4250 1959 4250 \nQ 1534 4250 1286 3958 \nQ 1038 3666 1038 3163 \nQ 1038 2656 1286 2365 \nQ 1534 2075 1959 2075 \nz\n\" transform=\"scale(0.015625)\"/>\n      </defs>\n      <use xlink:href=\"#DejaVuSans-4c\"/>\n      <use xlink:href=\"#DejaVuSans-4c\" x=\"55.712891\"/>\n      <use xlink:href=\"#DejaVuSans-52\" x=\"111.425781\"/>\n      <use xlink:href=\"#DejaVuSans-3a\" x=\"177.783203\"/>\n      <use xlink:href=\"#DejaVuSans-20\" x=\"211.474609\"/>\n      <use xlink:href=\"#DejaVuSans-30\" x=\"243.261719\"/>\n      <use xlink:href=\"#DejaVuSans-2e\" x=\"306.884766\"/>\n      <use xlink:href=\"#DejaVuSans-35\" x=\"338.671875\"/>\n      <use xlink:href=\"#DejaVuSans-34\" x=\"402.294922\"/>\n      <use xlink:href=\"#DejaVuSans-31\" x=\"465.917969\"/>\n      <use xlink:href=\"#DejaVuSans-37\" x=\"529.541016\"/>\n      <use xlink:href=\"#DejaVuSans-31\" x=\"593.164062\"/>\n      <use xlink:href=\"#DejaVuSans-36\" x=\"656.787109\"/>\n      <use xlink:href=\"#DejaVuSans-39\" x=\"720.410156\"/>\n      <use xlink:href=\"#DejaVuSans-30\" x=\"784.033203\"/>\n      <use xlink:href=\"#DejaVuSans-38\" x=\"847.65625\"/>\n      <use xlink:href=\"#DejaVuSans-32\" x=\"911.279297\"/>\n      <use xlink:href=\"#DejaVuSans-32\" x=\"974.902344\"/>\n      <use xlink:href=\"#DejaVuSans-35\" x=\"1038.525391\"/>\n      <use xlink:href=\"#DejaVuSans-33\" x=\"1102.148438\"/>\n      <use xlink:href=\"#DejaVuSans-37\" x=\"1165.771484\"/>\n      <use xlink:href=\"#DejaVuSans-33\" x=\"1229.394531\"/>\n      <use xlink:href=\"#DejaVuSans-32\" x=\"1293.017578\"/>\n     </g>\n    </g>\n   </g>\n  </g>\n </g>\n <defs>\n  <clipPath id=\"p6a63a3d21f\">\n   <rect x=\"43.78125\" y=\"22.318125\" width=\"669.6\" height=\"326.16\"/>\n  </clipPath>\n </defs>\n</svg>\n",
      "text/plain": [
       "<Figure size 864x432 with 1 Axes>"
      ]
     },
     "metadata": {},
     "output_type": "display_data"
    }
   ],
   "source": [
    "index = [-i for i in nums[::-1]] + [0] + nums\n",
    "ratio = sum(e[e.__len__()//2+1:]**2)/sum(e[:e.__len__()//2]**2)\n",
    "sns.set_style('whitegrid')\n",
    "fig, ax = plt.subplots(figsize=(12,6))\n",
    "plt.plot(index, e, color='b', label='LLR: %s'%ratio)\n",
    "ax.set_ylim(-0.1, 0.9)\n",
    "ax.set_title('HY Correlation')\n",
    "ax.set_xlabel('Lag')\n",
    "ax.set_ylabel('Cross-correlation')\n",
    "plt.legend(loc=0)\n",
    "plt.vlines(x = 0, ymin=-0.1, ymax=0.4, linestyles='dashed', color='r')"
   ]
  },
  {
   "cell_type": "code",
   "execution_count": 168,
   "metadata": {},
   "outputs": [
    {
     "data": {
      "text/plain": [
       "<matplotlib.collections.LineCollection at 0x7f2118a3c250>"
      ]
     },
     "execution_count": 168,
     "metadata": {},
     "output_type": "execute_result"
    },
    {
     "data": {
      "image/svg+xml": "<?xml version=\"1.0\" encoding=\"utf-8\" standalone=\"no\"?>\n<!DOCTYPE svg PUBLIC \"-//W3C//DTD SVG 1.1//EN\"\n  \"http://www.w3.org/Graphics/SVG/1.1/DTD/svg11.dtd\">\n<svg xmlns:xlink=\"http://www.w3.org/1999/xlink\" width=\"720.58125pt\" height=\"386.034375pt\" viewBox=\"0 0 720.58125 386.034375\" xmlns=\"http://www.w3.org/2000/svg\" version=\"1.1\">\n <metadata>\n  <rdf:RDF xmlns:dc=\"http://purl.org/dc/elements/1.1/\" xmlns:cc=\"http://creativecommons.org/ns#\" xmlns:rdf=\"http://www.w3.org/1999/02/22-rdf-syntax-ns#\">\n   <cc:Work>\n    <dc:type rdf:resource=\"http://purl.org/dc/dcmitype/StillImage\"/>\n    <dc:date>2022-06-02T13:29:11.082738</dc:date>\n    <dc:format>image/svg+xml</dc:format>\n    <dc:creator>\n     <cc:Agent>\n      <dc:title>Matplotlib v3.5.1, https://matplotlib.org/</dc:title>\n     </cc:Agent>\n    </dc:creator>\n   </cc:Work>\n  </rdf:RDF>\n </metadata>\n <defs>\n  <style type=\"text/css\">*{stroke-linejoin: round; stroke-linecap: butt}</style>\n </defs>\n <g id=\"figure_1\">\n  <g id=\"patch_1\">\n   <path d=\"M 0 386.034375 \nL 720.58125 386.034375 \nL 720.58125 0 \nL 0 0 \nz\n\" style=\"fill: #ffffff\"/>\n  </g>\n  <g id=\"axes_1\">\n   <g id=\"patch_2\">\n    <path d=\"M 43.78125 348.478125 \nL 713.38125 348.478125 \nL 713.38125 22.318125 \nL 43.78125 22.318125 \nz\n\" style=\"fill: #ffffff\"/>\n   </g>\n   <g id=\"matplotlib.axis_1\">\n    <g id=\"xtick_1\">\n     <g id=\"line2d_1\">\n      <path d=\"M 74.217614 348.478125 \nL 74.217614 22.318125 \n\" clip-path=\"url(#p6117af001e)\" style=\"fill: none; stroke: #cccccc; stroke-width: 0.8; stroke-linecap: round\"/>\n     </g>\n     <g id=\"text_1\">\n      <!-- -300 -->\n      <g style=\"fill: #262626\" transform=\"translate(62.869957 363.076562)scale(0.1 -0.1)\">\n       <defs>\n        <path id=\"DejaVuSans-2d\" d=\"M 313 2009 \nL 1997 2009 \nL 1997 1497 \nL 313 1497 \nL 313 2009 \nz\n\" transform=\"scale(0.015625)\"/>\n        <path id=\"DejaVuSans-33\" d=\"M 2597 2516 \nQ 3050 2419 3304 2112 \nQ 3559 1806 3559 1356 \nQ 3559 666 3084 287 \nQ 2609 -91 1734 -91 \nQ 1441 -91 1130 -33 \nQ 819 25 488 141 \nL 488 750 \nQ 750 597 1062 519 \nQ 1375 441 1716 441 \nQ 2309 441 2620 675 \nQ 2931 909 2931 1356 \nQ 2931 1769 2642 2001 \nQ 2353 2234 1838 2234 \nL 1294 2234 \nL 1294 2753 \nL 1863 2753 \nQ 2328 2753 2575 2939 \nQ 2822 3125 2822 3475 \nQ 2822 3834 2567 4026 \nQ 2313 4219 1838 4219 \nQ 1578 4219 1281 4162 \nQ 984 4106 628 3988 \nL 628 4550 \nQ 988 4650 1302 4700 \nQ 1616 4750 1894 4750 \nQ 2613 4750 3031 4423 \nQ 3450 4097 3450 3541 \nQ 3450 3153 3228 2886 \nQ 3006 2619 2597 2516 \nz\n\" transform=\"scale(0.015625)\"/>\n        <path id=\"DejaVuSans-30\" d=\"M 2034 4250 \nQ 1547 4250 1301 3770 \nQ 1056 3291 1056 2328 \nQ 1056 1369 1301 889 \nQ 1547 409 2034 409 \nQ 2525 409 2770 889 \nQ 3016 1369 3016 2328 \nQ 3016 3291 2770 3770 \nQ 2525 4250 2034 4250 \nz\nM 2034 4750 \nQ 2819 4750 3233 4129 \nQ 3647 3509 3647 2328 \nQ 3647 1150 3233 529 \nQ 2819 -91 2034 -91 \nQ 1250 -91 836 529 \nQ 422 1150 422 2328 \nQ 422 3509 836 4129 \nQ 1250 4750 2034 4750 \nz\n\" transform=\"scale(0.015625)\"/>\n       </defs>\n       <use xlink:href=\"#DejaVuSans-2d\"/>\n       <use xlink:href=\"#DejaVuSans-33\" x=\"36.083984\"/>\n       <use xlink:href=\"#DejaVuSans-30\" x=\"99.707031\"/>\n       <use xlink:href=\"#DejaVuSans-30\" x=\"163.330078\"/>\n      </g>\n     </g>\n    </g>\n    <g id=\"xtick_2\">\n     <g id=\"line2d_2\">\n      <path d=\"M 175.672159 348.478125 \nL 175.672159 22.318125 \n\" clip-path=\"url(#p6117af001e)\" style=\"fill: none; stroke: #cccccc; stroke-width: 0.8; stroke-linecap: round\"/>\n     </g>\n     <g id=\"text_2\">\n      <!-- -200 -->\n      <g style=\"fill: #262626\" transform=\"translate(164.324503 363.076562)scale(0.1 -0.1)\">\n       <defs>\n        <path id=\"DejaVuSans-32\" d=\"M 1228 531 \nL 3431 531 \nL 3431 0 \nL 469 0 \nL 469 531 \nQ 828 903 1448 1529 \nQ 2069 2156 2228 2338 \nQ 2531 2678 2651 2914 \nQ 2772 3150 2772 3378 \nQ 2772 3750 2511 3984 \nQ 2250 4219 1831 4219 \nQ 1534 4219 1204 4116 \nQ 875 4013 500 3803 \nL 500 4441 \nQ 881 4594 1212 4672 \nQ 1544 4750 1819 4750 \nQ 2544 4750 2975 4387 \nQ 3406 4025 3406 3419 \nQ 3406 3131 3298 2873 \nQ 3191 2616 2906 2266 \nQ 2828 2175 2409 1742 \nQ 1991 1309 1228 531 \nz\n\" transform=\"scale(0.015625)\"/>\n       </defs>\n       <use xlink:href=\"#DejaVuSans-2d\"/>\n       <use xlink:href=\"#DejaVuSans-32\" x=\"36.083984\"/>\n       <use xlink:href=\"#DejaVuSans-30\" x=\"99.707031\"/>\n       <use xlink:href=\"#DejaVuSans-30\" x=\"163.330078\"/>\n      </g>\n     </g>\n    </g>\n    <g id=\"xtick_3\">\n     <g id=\"line2d_3\">\n      <path d=\"M 277.126705 348.478125 \nL 277.126705 22.318125 \n\" clip-path=\"url(#p6117af001e)\" style=\"fill: none; stroke: #cccccc; stroke-width: 0.8; stroke-linecap: round\"/>\n     </g>\n     <g id=\"text_3\">\n      <!-- -100 -->\n      <g style=\"fill: #262626\" transform=\"translate(265.779048 363.076562)scale(0.1 -0.1)\">\n       <defs>\n        <path id=\"DejaVuSans-31\" d=\"M 794 531 \nL 1825 531 \nL 1825 4091 \nL 703 3866 \nL 703 4441 \nL 1819 4666 \nL 2450 4666 \nL 2450 531 \nL 3481 531 \nL 3481 0 \nL 794 0 \nL 794 531 \nz\n\" transform=\"scale(0.015625)\"/>\n       </defs>\n       <use xlink:href=\"#DejaVuSans-2d\"/>\n       <use xlink:href=\"#DejaVuSans-31\" x=\"36.083984\"/>\n       <use xlink:href=\"#DejaVuSans-30\" x=\"99.707031\"/>\n       <use xlink:href=\"#DejaVuSans-30\" x=\"163.330078\"/>\n      </g>\n     </g>\n    </g>\n    <g id=\"xtick_4\">\n     <g id=\"line2d_4\">\n      <path d=\"M 378.58125 348.478125 \nL 378.58125 22.318125 \n\" clip-path=\"url(#p6117af001e)\" style=\"fill: none; stroke: #cccccc; stroke-width: 0.8; stroke-linecap: round\"/>\n     </g>\n     <g id=\"text_4\">\n      <!-- 0 -->\n      <g style=\"fill: #262626\" transform=\"translate(375.4 363.076562)scale(0.1 -0.1)\">\n       <use xlink:href=\"#DejaVuSans-30\"/>\n      </g>\n     </g>\n    </g>\n    <g id=\"xtick_5\">\n     <g id=\"line2d_5\">\n      <path d=\"M 480.035795 348.478125 \nL 480.035795 22.318125 \n\" clip-path=\"url(#p6117af001e)\" style=\"fill: none; stroke: #cccccc; stroke-width: 0.8; stroke-linecap: round\"/>\n     </g>\n     <g id=\"text_5\">\n      <!-- 100 -->\n      <g style=\"fill: #262626\" transform=\"translate(470.492045 363.076562)scale(0.1 -0.1)\">\n       <use xlink:href=\"#DejaVuSans-31\"/>\n       <use xlink:href=\"#DejaVuSans-30\" x=\"63.623047\"/>\n       <use xlink:href=\"#DejaVuSans-30\" x=\"127.246094\"/>\n      </g>\n     </g>\n    </g>\n    <g id=\"xtick_6\">\n     <g id=\"line2d_6\">\n      <path d=\"M 581.490341 348.478125 \nL 581.490341 22.318125 \n\" clip-path=\"url(#p6117af001e)\" style=\"fill: none; stroke: #cccccc; stroke-width: 0.8; stroke-linecap: round\"/>\n     </g>\n     <g id=\"text_6\">\n      <!-- 200 -->\n      <g style=\"fill: #262626\" transform=\"translate(571.946591 363.076562)scale(0.1 -0.1)\">\n       <use xlink:href=\"#DejaVuSans-32\"/>\n       <use xlink:href=\"#DejaVuSans-30\" x=\"63.623047\"/>\n       <use xlink:href=\"#DejaVuSans-30\" x=\"127.246094\"/>\n      </g>\n     </g>\n    </g>\n    <g id=\"xtick_7\">\n     <g id=\"line2d_7\">\n      <path d=\"M 682.944886 348.478125 \nL 682.944886 22.318125 \n\" clip-path=\"url(#p6117af001e)\" style=\"fill: none; stroke: #cccccc; stroke-width: 0.8; stroke-linecap: round\"/>\n     </g>\n     <g id=\"text_7\">\n      <!-- 300 -->\n      <g style=\"fill: #262626\" transform=\"translate(673.401136 363.076562)scale(0.1 -0.1)\">\n       <use xlink:href=\"#DejaVuSans-33\"/>\n       <use xlink:href=\"#DejaVuSans-30\" x=\"63.623047\"/>\n       <use xlink:href=\"#DejaVuSans-30\" x=\"127.246094\"/>\n      </g>\n     </g>\n    </g>\n    <g id=\"text_8\">\n     <!-- Lag -->\n     <g style=\"fill: #262626\" transform=\"translate(369.557031 376.754687)scale(0.1 -0.1)\">\n      <defs>\n       <path id=\"DejaVuSans-4c\" d=\"M 628 4666 \nL 1259 4666 \nL 1259 531 \nL 3531 531 \nL 3531 0 \nL 628 0 \nL 628 4666 \nz\n\" transform=\"scale(0.015625)\"/>\n       <path id=\"DejaVuSans-61\" d=\"M 2194 1759 \nQ 1497 1759 1228 1600 \nQ 959 1441 959 1056 \nQ 959 750 1161 570 \nQ 1363 391 1709 391 \nQ 2188 391 2477 730 \nQ 2766 1069 2766 1631 \nL 2766 1759 \nL 2194 1759 \nz\nM 3341 1997 \nL 3341 0 \nL 2766 0 \nL 2766 531 \nQ 2569 213 2275 61 \nQ 1981 -91 1556 -91 \nQ 1019 -91 701 211 \nQ 384 513 384 1019 \nQ 384 1609 779 1909 \nQ 1175 2209 1959 2209 \nL 2766 2209 \nL 2766 2266 \nQ 2766 2663 2505 2880 \nQ 2244 3097 1772 3097 \nQ 1472 3097 1187 3025 \nQ 903 2953 641 2809 \nL 641 3341 \nQ 956 3463 1253 3523 \nQ 1550 3584 1831 3584 \nQ 2591 3584 2966 3190 \nQ 3341 2797 3341 1997 \nz\n\" transform=\"scale(0.015625)\"/>\n       <path id=\"DejaVuSans-67\" d=\"M 2906 1791 \nQ 2906 2416 2648 2759 \nQ 2391 3103 1925 3103 \nQ 1463 3103 1205 2759 \nQ 947 2416 947 1791 \nQ 947 1169 1205 825 \nQ 1463 481 1925 481 \nQ 2391 481 2648 825 \nQ 2906 1169 2906 1791 \nz\nM 3481 434 \nQ 3481 -459 3084 -895 \nQ 2688 -1331 1869 -1331 \nQ 1566 -1331 1297 -1286 \nQ 1028 -1241 775 -1147 \nL 775 -588 \nQ 1028 -725 1275 -790 \nQ 1522 -856 1778 -856 \nQ 2344 -856 2625 -561 \nQ 2906 -266 2906 331 \nL 2906 616 \nQ 2728 306 2450 153 \nQ 2172 0 1784 0 \nQ 1141 0 747 490 \nQ 353 981 353 1791 \nQ 353 2603 747 3093 \nQ 1141 3584 1784 3584 \nQ 2172 3584 2450 3431 \nQ 2728 3278 2906 2969 \nL 2906 3500 \nL 3481 3500 \nL 3481 434 \nz\n\" transform=\"scale(0.015625)\"/>\n      </defs>\n      <use xlink:href=\"#DejaVuSans-4c\"/>\n      <use xlink:href=\"#DejaVuSans-61\" x=\"55.712891\"/>\n      <use xlink:href=\"#DejaVuSans-67\" x=\"116.992188\"/>\n     </g>\n    </g>\n   </g>\n   <g id=\"matplotlib.axis_2\">\n    <g id=\"ytick_1\">\n     <g id=\"line2d_8\">\n      <path d=\"M 43.78125 315.862125 \nL 713.38125 315.862125 \n\" clip-path=\"url(#p6117af001e)\" style=\"fill: none; stroke: #cccccc; stroke-width: 0.8; stroke-linecap: round\"/>\n     </g>\n     <g id=\"text_9\">\n      <!-- 0.0 -->\n      <g style=\"fill: #262626\" transform=\"translate(20.878125 319.661344)scale(0.1 -0.1)\">\n       <defs>\n        <path id=\"DejaVuSans-2e\" d=\"M 684 794 \nL 1344 794 \nL 1344 0 \nL 684 0 \nL 684 794 \nz\n\" transform=\"scale(0.015625)\"/>\n       </defs>\n       <use xlink:href=\"#DejaVuSans-30\"/>\n       <use xlink:href=\"#DejaVuSans-2e\" x=\"63.623047\"/>\n       <use xlink:href=\"#DejaVuSans-30\" x=\"95.410156\"/>\n      </g>\n     </g>\n    </g>\n    <g id=\"ytick_2\">\n     <g id=\"line2d_9\">\n      <path d=\"M 43.78125 250.630125 \nL 713.38125 250.630125 \n\" clip-path=\"url(#p6117af001e)\" style=\"fill: none; stroke: #cccccc; stroke-width: 0.8; stroke-linecap: round\"/>\n     </g>\n     <g id=\"text_10\">\n      <!-- 0.2 -->\n      <g style=\"fill: #262626\" transform=\"translate(20.878125 254.429344)scale(0.1 -0.1)\">\n       <use xlink:href=\"#DejaVuSans-30\"/>\n       <use xlink:href=\"#DejaVuSans-2e\" x=\"63.623047\"/>\n       <use xlink:href=\"#DejaVuSans-32\" x=\"95.410156\"/>\n      </g>\n     </g>\n    </g>\n    <g id=\"ytick_3\">\n     <g id=\"line2d_10\">\n      <path d=\"M 43.78125 185.398125 \nL 713.38125 185.398125 \n\" clip-path=\"url(#p6117af001e)\" style=\"fill: none; stroke: #cccccc; stroke-width: 0.8; stroke-linecap: round\"/>\n     </g>\n     <g id=\"text_11\">\n      <!-- 0.4 -->\n      <g style=\"fill: #262626\" transform=\"translate(20.878125 189.197344)scale(0.1 -0.1)\">\n       <defs>\n        <path id=\"DejaVuSans-34\" d=\"M 2419 4116 \nL 825 1625 \nL 2419 1625 \nL 2419 4116 \nz\nM 2253 4666 \nL 3047 4666 \nL 3047 1625 \nL 3713 1625 \nL 3713 1100 \nL 3047 1100 \nL 3047 0 \nL 2419 0 \nL 2419 1100 \nL 313 1100 \nL 313 1709 \nL 2253 4666 \nz\n\" transform=\"scale(0.015625)\"/>\n       </defs>\n       <use xlink:href=\"#DejaVuSans-30\"/>\n       <use xlink:href=\"#DejaVuSans-2e\" x=\"63.623047\"/>\n       <use xlink:href=\"#DejaVuSans-34\" x=\"95.410156\"/>\n      </g>\n     </g>\n    </g>\n    <g id=\"ytick_4\">\n     <g id=\"line2d_11\">\n      <path d=\"M 43.78125 120.166125 \nL 713.38125 120.166125 \n\" clip-path=\"url(#p6117af001e)\" style=\"fill: none; stroke: #cccccc; stroke-width: 0.8; stroke-linecap: round\"/>\n     </g>\n     <g id=\"text_12\">\n      <!-- 0.6 -->\n      <g style=\"fill: #262626\" transform=\"translate(20.878125 123.965344)scale(0.1 -0.1)\">\n       <defs>\n        <path id=\"DejaVuSans-36\" d=\"M 2113 2584 \nQ 1688 2584 1439 2293 \nQ 1191 2003 1191 1497 \nQ 1191 994 1439 701 \nQ 1688 409 2113 409 \nQ 2538 409 2786 701 \nQ 3034 994 3034 1497 \nQ 3034 2003 2786 2293 \nQ 2538 2584 2113 2584 \nz\nM 3366 4563 \nL 3366 3988 \nQ 3128 4100 2886 4159 \nQ 2644 4219 2406 4219 \nQ 1781 4219 1451 3797 \nQ 1122 3375 1075 2522 \nQ 1259 2794 1537 2939 \nQ 1816 3084 2150 3084 \nQ 2853 3084 3261 2657 \nQ 3669 2231 3669 1497 \nQ 3669 778 3244 343 \nQ 2819 -91 2113 -91 \nQ 1303 -91 875 529 \nQ 447 1150 447 2328 \nQ 447 3434 972 4092 \nQ 1497 4750 2381 4750 \nQ 2619 4750 2861 4703 \nQ 3103 4656 3366 4563 \nz\n\" transform=\"scale(0.015625)\"/>\n       </defs>\n       <use xlink:href=\"#DejaVuSans-30\"/>\n       <use xlink:href=\"#DejaVuSans-2e\" x=\"63.623047\"/>\n       <use xlink:href=\"#DejaVuSans-36\" x=\"95.410156\"/>\n      </g>\n     </g>\n    </g>\n    <g id=\"ytick_5\">\n     <g id=\"line2d_12\">\n      <path d=\"M 43.78125 54.934125 \nL 713.38125 54.934125 \n\" clip-path=\"url(#p6117af001e)\" style=\"fill: none; stroke: #cccccc; stroke-width: 0.8; stroke-linecap: round\"/>\n     </g>\n     <g id=\"text_13\">\n      <!-- 0.8 -->\n      <g style=\"fill: #262626\" transform=\"translate(20.878125 58.733344)scale(0.1 -0.1)\">\n       <defs>\n        <path id=\"DejaVuSans-38\" d=\"M 2034 2216 \nQ 1584 2216 1326 1975 \nQ 1069 1734 1069 1313 \nQ 1069 891 1326 650 \nQ 1584 409 2034 409 \nQ 2484 409 2743 651 \nQ 3003 894 3003 1313 \nQ 3003 1734 2745 1975 \nQ 2488 2216 2034 2216 \nz\nM 1403 2484 \nQ 997 2584 770 2862 \nQ 544 3141 544 3541 \nQ 544 4100 942 4425 \nQ 1341 4750 2034 4750 \nQ 2731 4750 3128 4425 \nQ 3525 4100 3525 3541 \nQ 3525 3141 3298 2862 \nQ 3072 2584 2669 2484 \nQ 3125 2378 3379 2068 \nQ 3634 1759 3634 1313 \nQ 3634 634 3220 271 \nQ 2806 -91 2034 -91 \nQ 1263 -91 848 271 \nQ 434 634 434 1313 \nQ 434 1759 690 2068 \nQ 947 2378 1403 2484 \nz\nM 1172 3481 \nQ 1172 3119 1398 2916 \nQ 1625 2713 2034 2713 \nQ 2441 2713 2670 2916 \nQ 2900 3119 2900 3481 \nQ 2900 3844 2670 4047 \nQ 2441 4250 2034 4250 \nQ 1625 4250 1398 4047 \nQ 1172 3844 1172 3481 \nz\n\" transform=\"scale(0.015625)\"/>\n       </defs>\n       <use xlink:href=\"#DejaVuSans-30\"/>\n       <use xlink:href=\"#DejaVuSans-2e\" x=\"63.623047\"/>\n       <use xlink:href=\"#DejaVuSans-38\" x=\"95.410156\"/>\n      </g>\n     </g>\n    </g>\n    <g id=\"text_14\">\n     <!-- Cross-correlation -->\n     <g style=\"fill: #262626\" transform=\"translate(14.798438 227.731719)rotate(-90)scale(0.1 -0.1)\">\n      <defs>\n       <path id=\"DejaVuSans-43\" d=\"M 4122 4306 \nL 4122 3641 \nQ 3803 3938 3442 4084 \nQ 3081 4231 2675 4231 \nQ 1875 4231 1450 3742 \nQ 1025 3253 1025 2328 \nQ 1025 1406 1450 917 \nQ 1875 428 2675 428 \nQ 3081 428 3442 575 \nQ 3803 722 4122 1019 \nL 4122 359 \nQ 3791 134 3420 21 \nQ 3050 -91 2638 -91 \nQ 1578 -91 968 557 \nQ 359 1206 359 2328 \nQ 359 3453 968 4101 \nQ 1578 4750 2638 4750 \nQ 3056 4750 3426 4639 \nQ 3797 4528 4122 4306 \nz\n\" transform=\"scale(0.015625)\"/>\n       <path id=\"DejaVuSans-72\" d=\"M 2631 2963 \nQ 2534 3019 2420 3045 \nQ 2306 3072 2169 3072 \nQ 1681 3072 1420 2755 \nQ 1159 2438 1159 1844 \nL 1159 0 \nL 581 0 \nL 581 3500 \nL 1159 3500 \nL 1159 2956 \nQ 1341 3275 1631 3429 \nQ 1922 3584 2338 3584 \nQ 2397 3584 2469 3576 \nQ 2541 3569 2628 3553 \nL 2631 2963 \nz\n\" transform=\"scale(0.015625)\"/>\n       <path id=\"DejaVuSans-6f\" d=\"M 1959 3097 \nQ 1497 3097 1228 2736 \nQ 959 2375 959 1747 \nQ 959 1119 1226 758 \nQ 1494 397 1959 397 \nQ 2419 397 2687 759 \nQ 2956 1122 2956 1747 \nQ 2956 2369 2687 2733 \nQ 2419 3097 1959 3097 \nz\nM 1959 3584 \nQ 2709 3584 3137 3096 \nQ 3566 2609 3566 1747 \nQ 3566 888 3137 398 \nQ 2709 -91 1959 -91 \nQ 1206 -91 779 398 \nQ 353 888 353 1747 \nQ 353 2609 779 3096 \nQ 1206 3584 1959 3584 \nz\n\" transform=\"scale(0.015625)\"/>\n       <path id=\"DejaVuSans-73\" d=\"M 2834 3397 \nL 2834 2853 \nQ 2591 2978 2328 3040 \nQ 2066 3103 1784 3103 \nQ 1356 3103 1142 2972 \nQ 928 2841 928 2578 \nQ 928 2378 1081 2264 \nQ 1234 2150 1697 2047 \nL 1894 2003 \nQ 2506 1872 2764 1633 \nQ 3022 1394 3022 966 \nQ 3022 478 2636 193 \nQ 2250 -91 1575 -91 \nQ 1294 -91 989 -36 \nQ 684 19 347 128 \nL 347 722 \nQ 666 556 975 473 \nQ 1284 391 1588 391 \nQ 1994 391 2212 530 \nQ 2431 669 2431 922 \nQ 2431 1156 2273 1281 \nQ 2116 1406 1581 1522 \nL 1381 1569 \nQ 847 1681 609 1914 \nQ 372 2147 372 2553 \nQ 372 3047 722 3315 \nQ 1072 3584 1716 3584 \nQ 2034 3584 2315 3537 \nQ 2597 3491 2834 3397 \nz\n\" transform=\"scale(0.015625)\"/>\n       <path id=\"DejaVuSans-63\" d=\"M 3122 3366 \nL 3122 2828 \nQ 2878 2963 2633 3030 \nQ 2388 3097 2138 3097 \nQ 1578 3097 1268 2742 \nQ 959 2388 959 1747 \nQ 959 1106 1268 751 \nQ 1578 397 2138 397 \nQ 2388 397 2633 464 \nQ 2878 531 3122 666 \nL 3122 134 \nQ 2881 22 2623 -34 \nQ 2366 -91 2075 -91 \nQ 1284 -91 818 406 \nQ 353 903 353 1747 \nQ 353 2603 823 3093 \nQ 1294 3584 2113 3584 \nQ 2378 3584 2631 3529 \nQ 2884 3475 3122 3366 \nz\n\" transform=\"scale(0.015625)\"/>\n       <path id=\"DejaVuSans-65\" d=\"M 3597 1894 \nL 3597 1613 \nL 953 1613 \nQ 991 1019 1311 708 \nQ 1631 397 2203 397 \nQ 2534 397 2845 478 \nQ 3156 559 3463 722 \nL 3463 178 \nQ 3153 47 2828 -22 \nQ 2503 -91 2169 -91 \nQ 1331 -91 842 396 \nQ 353 884 353 1716 \nQ 353 2575 817 3079 \nQ 1281 3584 2069 3584 \nQ 2775 3584 3186 3129 \nQ 3597 2675 3597 1894 \nz\nM 3022 2063 \nQ 3016 2534 2758 2815 \nQ 2500 3097 2075 3097 \nQ 1594 3097 1305 2825 \nQ 1016 2553 972 2059 \nL 3022 2063 \nz\n\" transform=\"scale(0.015625)\"/>\n       <path id=\"DejaVuSans-6c\" d=\"M 603 4863 \nL 1178 4863 \nL 1178 0 \nL 603 0 \nL 603 4863 \nz\n\" transform=\"scale(0.015625)\"/>\n       <path id=\"DejaVuSans-74\" d=\"M 1172 4494 \nL 1172 3500 \nL 2356 3500 \nL 2356 3053 \nL 1172 3053 \nL 1172 1153 \nQ 1172 725 1289 603 \nQ 1406 481 1766 481 \nL 2356 481 \nL 2356 0 \nL 1766 0 \nQ 1100 0 847 248 \nQ 594 497 594 1153 \nL 594 3053 \nL 172 3053 \nL 172 3500 \nL 594 3500 \nL 594 4494 \nL 1172 4494 \nz\n\" transform=\"scale(0.015625)\"/>\n       <path id=\"DejaVuSans-69\" d=\"M 603 3500 \nL 1178 3500 \nL 1178 0 \nL 603 0 \nL 603 3500 \nz\nM 603 4863 \nL 1178 4863 \nL 1178 4134 \nL 603 4134 \nL 603 4863 \nz\n\" transform=\"scale(0.015625)\"/>\n       <path id=\"DejaVuSans-6e\" d=\"M 3513 2113 \nL 3513 0 \nL 2938 0 \nL 2938 2094 \nQ 2938 2591 2744 2837 \nQ 2550 3084 2163 3084 \nQ 1697 3084 1428 2787 \nQ 1159 2491 1159 1978 \nL 1159 0 \nL 581 0 \nL 581 3500 \nL 1159 3500 \nL 1159 2956 \nQ 1366 3272 1645 3428 \nQ 1925 3584 2291 3584 \nQ 2894 3584 3203 3211 \nQ 3513 2838 3513 2113 \nz\n\" transform=\"scale(0.015625)\"/>\n      </defs>\n      <use xlink:href=\"#DejaVuSans-43\"/>\n      <use xlink:href=\"#DejaVuSans-72\" x=\"69.824219\"/>\n      <use xlink:href=\"#DejaVuSans-6f\" x=\"108.6875\"/>\n      <use xlink:href=\"#DejaVuSans-73\" x=\"169.869141\"/>\n      <use xlink:href=\"#DejaVuSans-73\" x=\"221.96875\"/>\n      <use xlink:href=\"#DejaVuSans-2d\" x=\"274.068359\"/>\n      <use xlink:href=\"#DejaVuSans-63\" x=\"310.152344\"/>\n      <use xlink:href=\"#DejaVuSans-6f\" x=\"365.132812\"/>\n      <use xlink:href=\"#DejaVuSans-72\" x=\"426.314453\"/>\n      <use xlink:href=\"#DejaVuSans-72\" x=\"465.677734\"/>\n      <use xlink:href=\"#DejaVuSans-65\" x=\"504.541016\"/>\n      <use xlink:href=\"#DejaVuSans-6c\" x=\"566.064453\"/>\n      <use xlink:href=\"#DejaVuSans-61\" x=\"593.847656\"/>\n      <use xlink:href=\"#DejaVuSans-74\" x=\"655.126953\"/>\n      <use xlink:href=\"#DejaVuSans-69\" x=\"694.335938\"/>\n      <use xlink:href=\"#DejaVuSans-6f\" x=\"722.119141\"/>\n      <use xlink:href=\"#DejaVuSans-6e\" x=\"783.300781\"/>\n     </g>\n    </g>\n   </g>\n   <g id=\"line2d_13\">\n    <path d=\"M 74.217614 304.259589 \nL 135.090341 311.873753 \nL 195.963068 321.542533 \nL 256.835795 324.443167 \nL 266.98125 328.552399 \nL 277.126705 336.529142 \nL 287.272159 344.022446 \nL 297.417614 327.102082 \nL 307.563068 323.11371 \nL 317.708523 329.640136 \nL 327.853977 311.752894 \nL 337.999432 315.378686 \nL 348.144886 322.146832 \nL 358.290341 322.146832 \nL 363.363068 320.938234 \nL 368.435795 331.815612 \nL 368.943068 329.398417 \nL 369.450341 331.090453 \nL 369.957614 323.838868 \nL 370.464886 328.673258 \nL 370.972159 327.82724 \nL 371.479432 324.443167 \nL 371.986705 325.047466 \nL 372.493977 320.092216 \nL 373.00125 324.080588 \nL 373.508523 321.542533 \nL 374.015795 318.27932 \nL 374.523068 323.23457 \nL 375.030341 317.675021 \nL 375.537614 322.146832 \nL 376.044886 324.443167 \nL 376.552159 323.838868 \nL 377.059432 324.201448 \nL 377.566705 320.575655 \nL 378.073977 323.355429 \nL 378.58125 326.376923 \nL 379.088523 323.597149 \nL 379.595795 324.080588 \nL 380.103068 325.410045 \nL 380.610341 326.739502 \nL 381.117614 324.443167 \nL 381.624886 320.454795 \nL 382.132159 321.905112 \nL 382.639432 323.11371 \nL 383.146705 322.388551 \nL 383.653977 325.651765 \nL 384.16125 328.552399 \nL 384.668523 330.123575 \nL 385.175795 329.156697 \nL 385.683068 327.102082 \nL 386.190341 328.552399 \nL 386.697614 326.739502 \nL 387.204886 327.464661 \nL 387.712159 325.047466 \nL 388.219432 327.343801 \nL 388.726705 325.410045 \nL 393.799432 320.817375 \nL 398.872159 319.246198 \nL 409.017614 326.014344 \nL 419.163068 327.585521 \nL 429.308523 327.343801 \nL 439.453977 327.70638 \nL 449.599432 339.792355 \nL 459.744886 325.168326 \nL 469.890341 323.23457 \nL 480.035795 322.146832 \nL 490.18125 317.312442 \nL 500.326705 303.89701 \nL 561.199432 326.014344 \nL 622.072159 309.335699 \nL 682.944886 308.48968 \n\" clip-path=\"url(#p6117af001e)\" style=\"fill: none; stroke: #0000ff; stroke-width: 1.5; stroke-linecap: round\"/>\n   </g>\n   <g id=\"LineCollection_1\">\n    <path d=\"M 378.58125 348.478125 \nL 378.58125 185.398125 \n\" clip-path=\"url(#p6117af001e)\" style=\"fill: none; stroke-dasharray: 5.55,2.4; stroke-dashoffset: 0; stroke: #ff0000; stroke-width: 1.5\"/>\n   </g>\n   <g id=\"patch_3\">\n    <path d=\"M 43.78125 348.478125 \nL 43.78125 22.318125 \n\" style=\"fill: none; stroke: #cccccc; stroke-width: 0.8; stroke-linejoin: miter; stroke-linecap: square\"/>\n   </g>\n   <g id=\"patch_4\">\n    <path d=\"M 713.38125 348.478125 \nL 713.38125 22.318125 \n\" style=\"fill: none; stroke: #cccccc; stroke-width: 0.8; stroke-linejoin: miter; stroke-linecap: square\"/>\n   </g>\n   <g id=\"patch_5\">\n    <path d=\"M 43.78125 348.478125 \nL 713.38125 348.478125 \n\" style=\"fill: none; stroke: #cccccc; stroke-width: 0.8; stroke-linejoin: miter; stroke-linecap: square\"/>\n   </g>\n   <g id=\"patch_6\">\n    <path d=\"M 43.78125 22.318125 \nL 713.38125 22.318125 \n\" style=\"fill: none; stroke: #cccccc; stroke-width: 0.8; stroke-linejoin: miter; stroke-linecap: square\"/>\n   </g>\n   <g id=\"text_15\">\n    <!-- HY Correlation -->\n    <g style=\"fill: #262626\" transform=\"translate(335.415 16.318125)scale(0.12 -0.12)\">\n     <defs>\n      <path id=\"DejaVuSans-48\" d=\"M 628 4666 \nL 1259 4666 \nL 1259 2753 \nL 3553 2753 \nL 3553 4666 \nL 4184 4666 \nL 4184 0 \nL 3553 0 \nL 3553 2222 \nL 1259 2222 \nL 1259 0 \nL 628 0 \nL 628 4666 \nz\n\" transform=\"scale(0.015625)\"/>\n      <path id=\"DejaVuSans-59\" d=\"M -13 4666 \nL 666 4666 \nL 1959 2747 \nL 3244 4666 \nL 3922 4666 \nL 2272 2222 \nL 2272 0 \nL 1638 0 \nL 1638 2222 \nL -13 4666 \nz\n\" transform=\"scale(0.015625)\"/>\n      <path id=\"DejaVuSans-20\" transform=\"scale(0.015625)\"/>\n     </defs>\n     <use xlink:href=\"#DejaVuSans-48\"/>\n     <use xlink:href=\"#DejaVuSans-59\" x=\"75.195312\"/>\n     <use xlink:href=\"#DejaVuSans-20\" x=\"136.279297\"/>\n     <use xlink:href=\"#DejaVuSans-43\" x=\"168.066406\"/>\n     <use xlink:href=\"#DejaVuSans-6f\" x=\"237.890625\"/>\n     <use xlink:href=\"#DejaVuSans-72\" x=\"299.072266\"/>\n     <use xlink:href=\"#DejaVuSans-72\" x=\"338.435547\"/>\n     <use xlink:href=\"#DejaVuSans-65\" x=\"377.298828\"/>\n     <use xlink:href=\"#DejaVuSans-6c\" x=\"438.822266\"/>\n     <use xlink:href=\"#DejaVuSans-61\" x=\"466.605469\"/>\n     <use xlink:href=\"#DejaVuSans-74\" x=\"527.884766\"/>\n     <use xlink:href=\"#DejaVuSans-69\" x=\"567.09375\"/>\n     <use xlink:href=\"#DejaVuSans-6f\" x=\"594.876953\"/>\n     <use xlink:href=\"#DejaVuSans-6e\" x=\"656.058594\"/>\n    </g>\n   </g>\n   <g id=\"legend_1\">\n    <g id=\"patch_7\">\n     <path d=\"M 538.714063 44.99625 \nL 706.38125 44.99625 \nQ 708.38125 44.99625 708.38125 42.99625 \nL 708.38125 29.318125 \nQ 708.38125 27.318125 706.38125 27.318125 \nL 538.714063 27.318125 \nQ 536.714063 27.318125 536.714063 29.318125 \nL 536.714063 42.99625 \nQ 536.714063 44.99625 538.714063 44.99625 \nz\n\" style=\"fill: #ffffff; opacity: 0.8; stroke: #cccccc; stroke-linejoin: miter\"/>\n    </g>\n    <g id=\"line2d_14\">\n     <path d=\"M 540.714063 35.416562 \nL 550.714063 35.416562 \nL 560.714063 35.416562 \n\" style=\"fill: none; stroke: #0000ff; stroke-width: 1.5; stroke-linecap: round\"/>\n    </g>\n    <g id=\"text_16\">\n     <!-- LLR: 0.9640793645956741 -->\n     <g style=\"fill: #262626\" transform=\"translate(568.714063 38.916562)scale(0.1 -0.1)\">\n      <defs>\n       <path id=\"DejaVuSans-52\" d=\"M 2841 2188 \nQ 3044 2119 3236 1894 \nQ 3428 1669 3622 1275 \nL 4263 0 \nL 3584 0 \nL 2988 1197 \nQ 2756 1666 2539 1819 \nQ 2322 1972 1947 1972 \nL 1259 1972 \nL 1259 0 \nL 628 0 \nL 628 4666 \nL 2053 4666 \nQ 2853 4666 3247 4331 \nQ 3641 3997 3641 3322 \nQ 3641 2881 3436 2590 \nQ 3231 2300 2841 2188 \nz\nM 1259 4147 \nL 1259 2491 \nL 2053 2491 \nQ 2509 2491 2742 2702 \nQ 2975 2913 2975 3322 \nQ 2975 3731 2742 3939 \nQ 2509 4147 2053 4147 \nL 1259 4147 \nz\n\" transform=\"scale(0.015625)\"/>\n       <path id=\"DejaVuSans-3a\" d=\"M 750 794 \nL 1409 794 \nL 1409 0 \nL 750 0 \nL 750 794 \nz\nM 750 3309 \nL 1409 3309 \nL 1409 2516 \nL 750 2516 \nL 750 3309 \nz\n\" transform=\"scale(0.015625)\"/>\n       <path id=\"DejaVuSans-39\" d=\"M 703 97 \nL 703 672 \nQ 941 559 1184 500 \nQ 1428 441 1663 441 \nQ 2288 441 2617 861 \nQ 2947 1281 2994 2138 \nQ 2813 1869 2534 1725 \nQ 2256 1581 1919 1581 \nQ 1219 1581 811 2004 \nQ 403 2428 403 3163 \nQ 403 3881 828 4315 \nQ 1253 4750 1959 4750 \nQ 2769 4750 3195 4129 \nQ 3622 3509 3622 2328 \nQ 3622 1225 3098 567 \nQ 2575 -91 1691 -91 \nQ 1453 -91 1209 -44 \nQ 966 3 703 97 \nz\nM 1959 2075 \nQ 2384 2075 2632 2365 \nQ 2881 2656 2881 3163 \nQ 2881 3666 2632 3958 \nQ 2384 4250 1959 4250 \nQ 1534 4250 1286 3958 \nQ 1038 3666 1038 3163 \nQ 1038 2656 1286 2365 \nQ 1534 2075 1959 2075 \nz\n\" transform=\"scale(0.015625)\"/>\n       <path id=\"DejaVuSans-37\" d=\"M 525 4666 \nL 3525 4666 \nL 3525 4397 \nL 1831 0 \nL 1172 0 \nL 2766 4134 \nL 525 4134 \nL 525 4666 \nz\n\" transform=\"scale(0.015625)\"/>\n       <path id=\"DejaVuSans-35\" d=\"M 691 4666 \nL 3169 4666 \nL 3169 4134 \nL 1269 4134 \nL 1269 2991 \nQ 1406 3038 1543 3061 \nQ 1681 3084 1819 3084 \nQ 2600 3084 3056 2656 \nQ 3513 2228 3513 1497 \nQ 3513 744 3044 326 \nQ 2575 -91 1722 -91 \nQ 1428 -91 1123 -41 \nQ 819 9 494 109 \nL 494 744 \nQ 775 591 1075 516 \nQ 1375 441 1709 441 \nQ 2250 441 2565 725 \nQ 2881 1009 2881 1497 \nQ 2881 1984 2565 2268 \nQ 2250 2553 1709 2553 \nQ 1456 2553 1204 2497 \nQ 953 2441 691 2322 \nL 691 4666 \nz\n\" transform=\"scale(0.015625)\"/>\n      </defs>\n      <use xlink:href=\"#DejaVuSans-4c\"/>\n      <use xlink:href=\"#DejaVuSans-4c\" x=\"55.712891\"/>\n      <use xlink:href=\"#DejaVuSans-52\" x=\"111.425781\"/>\n      <use xlink:href=\"#DejaVuSans-3a\" x=\"177.783203\"/>\n      <use xlink:href=\"#DejaVuSans-20\" x=\"211.474609\"/>\n      <use xlink:href=\"#DejaVuSans-30\" x=\"243.261719\"/>\n      <use xlink:href=\"#DejaVuSans-2e\" x=\"306.884766\"/>\n      <use xlink:href=\"#DejaVuSans-39\" x=\"338.671875\"/>\n      <use xlink:href=\"#DejaVuSans-36\" x=\"402.294922\"/>\n      <use xlink:href=\"#DejaVuSans-34\" x=\"465.917969\"/>\n      <use xlink:href=\"#DejaVuSans-30\" x=\"529.541016\"/>\n      <use xlink:href=\"#DejaVuSans-37\" x=\"593.164062\"/>\n      <use xlink:href=\"#DejaVuSans-39\" x=\"656.787109\"/>\n      <use xlink:href=\"#DejaVuSans-33\" x=\"720.410156\"/>\n      <use xlink:href=\"#DejaVuSans-36\" x=\"784.033203\"/>\n      <use xlink:href=\"#DejaVuSans-34\" x=\"847.65625\"/>\n      <use xlink:href=\"#DejaVuSans-35\" x=\"911.279297\"/>\n      <use xlink:href=\"#DejaVuSans-39\" x=\"974.902344\"/>\n      <use xlink:href=\"#DejaVuSans-35\" x=\"1038.525391\"/>\n      <use xlink:href=\"#DejaVuSans-36\" x=\"1102.148438\"/>\n      <use xlink:href=\"#DejaVuSans-37\" x=\"1165.771484\"/>\n      <use xlink:href=\"#DejaVuSans-34\" x=\"1229.394531\"/>\n      <use xlink:href=\"#DejaVuSans-31\" x=\"1293.017578\"/>\n     </g>\n    </g>\n   </g>\n  </g>\n </g>\n <defs>\n  <clipPath id=\"p6117af001e\">\n   <rect x=\"43.78125\" y=\"22.318125\" width=\"669.6\" height=\"326.16\"/>\n  </clipPath>\n </defs>\n</svg>\n",
      "text/plain": [
       "<Figure size 864x432 with 1 Axes>"
      ]
     },
     "metadata": {},
     "output_type": "display_data"
    }
   ],
   "source": [
    "index = [-i for i in nums[::-1]] + [0] + nums\n",
    "ratio = sum(e1[e1.__len__()//2+1:]**2)/sum(e1[:e1.__len__()//2]**2)\n",
    "sns.set_style('whitegrid')\n",
    "fig, ax = plt.subplots(figsize=(12,6))\n",
    "plt.plot(index, e1, color='b', label='LLR: %s'%ratio)\n",
    "ax.set_ylim(-0.1, 0.9)\n",
    "ax.set_title('HY Correlation')\n",
    "ax.set_xlabel('Lag')\n",
    "ax.set_ylabel('Cross-correlation')\n",
    "plt.legend(loc=0)\n",
    "plt.vlines(x = 0, ymin=-0.1, ymax=0.4, linestyles='dashed', color='r')"
   ]
  },
  {
   "cell_type": "code",
   "execution_count": null,
   "metadata": {},
   "outputs": [],
   "source": []
  }
 ],
 "metadata": {
  "kernelspec": {
   "display_name": "Python 3.8.10 64-bit",
   "language": "python",
   "name": "python3"
  },
  "language_info": {
   "codemirror_mode": {
    "name": "ipython",
    "version": 3
   },
   "file_extension": ".py",
   "mimetype": "text/x-python",
   "name": "python",
   "nbconvert_exporter": "python",
   "pygments_lexer": "ipython3",
   "version": "3.8.10"
  },
  "orig_nbformat": 4,
  "vscode": {
   "interpreter": {
    "hash": "916dbcbb3f70747c44a77c7bcd40155683ae19c65e1c03b4aa3499c5328201f1"
   }
  }
 },
 "nbformat": 4,
 "nbformat_minor": 2
}
